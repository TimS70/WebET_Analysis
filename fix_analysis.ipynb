{
 "cells": [
  {
   "cell_type": "code",
   "execution_count": 53,
   "metadata": {},
   "outputs": [
    {
     "name": "stdout",
     "output_type": "stream",
     "text": [
      "Current Working directory  C:\\Users\\User\\GitHub\\WebET_Analysis\n"
     ]
    }
   ],
   "source": [
    "import numpy as np\n",
    "import matplotlib.pyplot as plt\n",
    "from matplotlib import gridspec\n",
    "import os\n",
    "import pandas as pd\n",
    "import pingouin as pg\n",
    "import seaborn as sns\n",
    "import scipy\n",
    "from sklearn.linear_model import LogisticRegression\n",
    "from sklearn.metrics import classification_report, confusion_matrix\n",
    "from sklearn.metrics import silhouette_score\n",
    "import statsmodels.api as sm \n",
    "import statsmodels.formula.api as smf\n",
    "import statsmodels.graphics.api as smg\n",
    "import sys\n",
    "\n",
    "from IPython.display import HTML\n",
    "def View(df):\n",
    "    css = \"\"\"<style>\n",
    "    table { border-collapse: collapse; border: 3px solid #eee; }\n",
    "    table tr th:first-child { background-color: #eeeeee; color: #333; font-weight: bold }\n",
    "    table thead th { background-color: #eee; color: #000; }\n",
    "    tr, th, td { border: 1px solid #ccc; border-width: 1px 0 0 1px; border-collapse: collapse;\n",
    "    padding: 3px; font-family: monospace; font-size: 10px }</style>\n",
    "    \"\"\"\n",
    "    s  = '<script type=\"text/Javascript\">'\n",
    "    s += 'var win = window.open(\"\", \"Title\", \"toolbar=no, location=no, directories=no, status=no, menubar=no, scrollbars=yes, resizable=yes, width=780, height=200, top=\"+(screen.height-400)+\", left=\"+(screen.width-840));'\n",
    "    s += 'win.document.body.innerHTML = \\'' + (df.to_html() + css).replace(\"\\n\",'\\\\') + '\\';'\n",
    "    s += '</script>'\n",
    "    return(HTML(s+css))    \n",
    "    \n",
    "print(\"Current Working directory \" , os.getcwd())"
   ]
  },
  {
   "cell_type": "code",
   "execution_count": 54,
   "metadata": {},
   "outputs": [],
   "source": [
    "# from IPython.display import HTML\n",
    "\n",
    "# HTML('''<script>\n",
    "# code_show=true; \n",
    "# function code_toggle() {\n",
    "#  if (code_show){\n",
    "#  $('div.input').hide();\n",
    "#  } else {\n",
    "#  $('div.input').show();\n",
    "#  }\n",
    "#  code_show = !code_show\n",
    "# } \n",
    "# $( document ).ready(code_toggle);\n",
    "# </script>\n",
    "# <form action=\"javascript:code_toggle()\"><input type=\"submit\" value=\"Click here to toggle on/off the raw code.\"></form>''')"
   ]
  },
  {
   "cell_type": "markdown",
   "metadata": {},
   "source": [
    "# Read data"
   ]
  },
  {
   "cell_type": "code",
   "execution_count": 55,
   "metadata": {
    "scrolled": false
   },
   "outputs": [
    {
     "name": "stdout",
     "output_type": "stream",
     "text": [
      "              length\n",
      "data_et       618566\n",
      "data_trial     30362\n",
      "data_subject      84\n"
     ]
    }
   ],
   "source": [
    "data_et = pd.read_csv(r'C:/Users/User/GitHub/WebET_Analysis/data_jupyter/data_et.csv')\n",
    "data_trial = pd.read_csv(r'C:/Users/User/GitHub/WebET_Analysis/data_jupyter/data_trial.csv')\n",
    "data_subject = pd.read_csv(r'C:/Users/User/GitHub/WebET_Analysis/data_jupyter/data_subject.csv')\n",
    "\n",
    "overview = pd.DataFrame(\n",
    "    [\n",
    "        [len(data_et)],\n",
    "        [len(data_trial)],\n",
    "        [len(data_subject)]\n",
    "    ], \n",
    "    columns=['length'],\n",
    "    index=[\n",
    "        'data_et', \n",
    "        'data_trial', \n",
    "        'data_subject'\n",
    "          ]\n",
    ")\n",
    "print(overview)"
   ]
  },
  {
   "cell_type": "markdown",
   "metadata": {},
   "source": [
    "# Create datasets"
   ]
  },
  {
   "cell_type": "markdown",
   "metadata": {},
   "source": [
    "## Position index"
   ]
  },
  {
   "cell_type": "code",
   "execution_count": 56,
   "metadata": {
    "scrolled": true
   },
   "outputs": [
    {
     "data": {
      "text/html": [
       "<div>\n",
       "<style scoped>\n",
       "    .dataframe tbody tr th:only-of-type {\n",
       "        vertical-align: middle;\n",
       "    }\n",
       "\n",
       "    .dataframe tbody tr th {\n",
       "        vertical-align: top;\n",
       "    }\n",
       "\n",
       "    .dataframe thead th {\n",
       "        text-align: right;\n",
       "    }\n",
       "</style>\n",
       "<table border=\"1\" class=\"dataframe\">\n",
       "  <thead>\n",
       "    <tr style=\"text-align: right;\">\n",
       "      <th></th>\n",
       "      <th>x_pos</th>\n",
       "      <th>y_pos</th>\n",
       "      <th>positionIndex</th>\n",
       "    </tr>\n",
       "  </thead>\n",
       "  <tbody>\n",
       "    <tr>\n",
       "      <th>41</th>\n",
       "      <td>0.20</td>\n",
       "      <td>0.20</td>\n",
       "      <td>0</td>\n",
       "    </tr>\n",
       "    <tr>\n",
       "      <th>27</th>\n",
       "      <td>0.50</td>\n",
       "      <td>0.20</td>\n",
       "      <td>1</td>\n",
       "    </tr>\n",
       "    <tr>\n",
       "      <th>17</th>\n",
       "      <td>0.80</td>\n",
       "      <td>0.20</td>\n",
       "      <td>2</td>\n",
       "    </tr>\n",
       "    <tr>\n",
       "      <th>21</th>\n",
       "      <td>0.20</td>\n",
       "      <td>0.50</td>\n",
       "      <td>3</td>\n",
       "    </tr>\n",
       "    <tr>\n",
       "      <th>37</th>\n",
       "      <td>0.50</td>\n",
       "      <td>0.50</td>\n",
       "      <td>4</td>\n",
       "    </tr>\n",
       "    <tr>\n",
       "      <th>33</th>\n",
       "      <td>0.80</td>\n",
       "      <td>0.50</td>\n",
       "      <td>5</td>\n",
       "    </tr>\n",
       "    <tr>\n",
       "      <th>39</th>\n",
       "      <td>0.20</td>\n",
       "      <td>0.80</td>\n",
       "      <td>6</td>\n",
       "    </tr>\n",
       "    <tr>\n",
       "      <th>31</th>\n",
       "      <td>0.50</td>\n",
       "      <td>0.80</td>\n",
       "      <td>7</td>\n",
       "    </tr>\n",
       "    <tr>\n",
       "      <th>29</th>\n",
       "      <td>0.80</td>\n",
       "      <td>0.80</td>\n",
       "      <td>8</td>\n",
       "    </tr>\n",
       "    <tr>\n",
       "      <th>25</th>\n",
       "      <td>0.35</td>\n",
       "      <td>0.35</td>\n",
       "      <td>9</td>\n",
       "    </tr>\n",
       "    <tr>\n",
       "      <th>23</th>\n",
       "      <td>0.65</td>\n",
       "      <td>0.35</td>\n",
       "      <td>10</td>\n",
       "    </tr>\n",
       "    <tr>\n",
       "      <th>35</th>\n",
       "      <td>0.35</td>\n",
       "      <td>0.65</td>\n",
       "      <td>11</td>\n",
       "    </tr>\n",
       "    <tr>\n",
       "      <th>19</th>\n",
       "      <td>0.65</td>\n",
       "      <td>0.65</td>\n",
       "      <td>12</td>\n",
       "    </tr>\n",
       "  </tbody>\n",
       "</table>\n",
       "</div>"
      ],
      "text/plain": [
       "    x_pos  y_pos  positionIndex\n",
       "41   0.20   0.20              0\n",
       "27   0.50   0.20              1\n",
       "17   0.80   0.20              2\n",
       "21   0.20   0.50              3\n",
       "37   0.50   0.50              4\n",
       "33   0.80   0.50              5\n",
       "39   0.20   0.80              6\n",
       "31   0.50   0.80              7\n",
       "29   0.80   0.80              8\n",
       "25   0.35   0.35              9\n",
       "23   0.65   0.35             10\n",
       "35   0.35   0.65             11\n",
       "19   0.65   0.65             12"
      ]
     },
     "execution_count": 56,
     "metadata": {},
     "output_type": "execute_result"
    }
   ],
   "source": [
    "def addPositionIndex(data):\n",
    "    data['positionIndex'] = 0\n",
    "\n",
    "    x_pos = [0.2, 0.5, 0.8, 0.2, 0.5, 0.8, 0.2, 0.5, 0.8, 0.35, 0.65, 0.35, 0.65]\n",
    "    y_pos = [0.2, 0.2, 0.2, 0.5, 0.5, 0.5, 0.8, 0.8, 0.8, 0.35, 0.35, 0.65, 0.65]\n",
    "\n",
    "    for i in range(0, len(x_pos)):\n",
    "        data.loc[(data['x_pos']==x_pos[i]) & (data['y_pos']==y_pos[i]), 'positionIndex']=i\n",
    "    return data\n",
    "\n",
    "data_trial = addPositionIndex(data_trial)\n",
    "\n",
    "data_trial.loc[\n",
    "    (data_trial['trial_type']=='eyetracking-calibration'), ['x_pos', 'y_pos', 'positionIndex']] \\\n",
    "    .drop_duplicates() \\\n",
    "    .sort_values(by='positionIndex')"
   ]
  },
  {
   "cell_type": "markdown",
   "metadata": {},
   "source": [
    "## data_et"
   ]
  },
  {
   "cell_type": "code",
   "execution_count": 57,
   "metadata": {},
   "outputs": [],
   "source": [
    "def add_var_to_data_et(data_et, source_data, varName):\n",
    "    if varName in data_et.columns: data_et=data_et.drop(columns=varName)\n",
    "    data_et = data_et.merge(\n",
    "        source_data.loc[:, ['run_id', 'trial_index', varName]], \n",
    "        on=['run_id', 'trial_index'], how='left')\n",
    "    return data_et\n",
    "\n",
    "data_et = add_var_to_data_et(data_et, data_trial, 'task_nr')\n",
    "data_et = add_var_to_data_et(data_et, data_trial, 'chin')\n",
    "data_et = add_var_to_data_et(data_et, data_trial, 'chinFirst')\n",
    "data_et = add_var_to_data_et(data_et, data_trial, 'trial_type')\n",
    "data_et = add_var_to_data_et(data_et, data_trial, 'trial_duration')\n",
    "data_et = add_var_to_data_et(data_et, data_trial, 'x_pos')\n",
    "data_et = add_var_to_data_et(data_et, data_trial, 'y_pos')\n",
    "data_et = add_var_to_data_et(data_et, data_trial, 'window_width')\n",
    "data_et = add_var_to_data_et(data_et, data_trial, 'window_height')"
   ]
  },
  {
   "cell_type": "markdown",
   "metadata": {},
   "source": [
    "## data_trial"
   ]
  },
  {
   "cell_type": "code",
   "execution_count": 58,
   "metadata": {},
   "outputs": [],
   "source": [
    "if 'glasses_binary' in data_trial.columns:\n",
    "    data_trial = data_trial.drop(columns=['glasses_binary'])\n",
    "data_trial = data_trial.merge(\n",
    "    data_subject.loc[:, ['run_id', 'glasses_binary']],\n",
    "    on='run_id',\n",
    "    how='left'\n",
    ")"
   ]
  },
  {
   "cell_type": "markdown",
   "metadata": {},
   "source": [
    "## data_et_fix"
   ]
  },
  {
   "cell_type": "code",
   "execution_count": 59,
   "metadata": {},
   "outputs": [],
   "source": [
    "data_et_fix = data_et.loc[\n",
    "    (data_et['trial_type']=='eyetracking-fix-object') &\n",
    "    (data_et['trial_duration']==5000) &\n",
    "    (data_et['t_task']>1000),     :\n",
    "]"
   ]
  },
  {
   "cell_type": "markdown",
   "metadata": {},
   "source": [
    "## data_trial_fix"
   ]
  },
  {
   "cell_type": "code",
   "execution_count": 98,
   "metadata": {},
   "outputs": [],
   "source": [
    "data_trial_fix = data_trial.loc[\n",
    "    (data_trial['trial_type']=='eyetracking-fix-object') &\n",
    "    (data_trial['trial_duration']==5000),     :\n",
    "].drop(columns=[\n",
    "    'trial_type', 'trial_duration', \n",
    "    'choiceTask_amountLeftFirst',\n",
    "    'option_topLeft', 'option_bottomLeft',\n",
    "    'option_topRight', 'option_bottomRight',\n",
    "    'chosenAmount', 'chosenDelay']\n",
    "      )"
   ]
  },
  {
   "cell_type": "markdown",
   "metadata": {},
   "source": [
    "# Screening"
   ]
  },
  {
   "cell_type": "markdown",
   "metadata": {},
   "source": [
    "## Enough trials?"
   ]
  },
  {
   "cell_type": "code",
   "execution_count": 61,
   "metadata": {
    "scrolled": true
   },
   "outputs": [
    {
     "name": "stdout",
     "output_type": "stream",
     "text": [
      "These subjects do not have enough trials: \n",
      "    run_id  trial_index\n",
      "27      61        271.0\n",
      "46     125         15.0\n",
      "56    2002        112.0\n",
      "59    2011         32.0\n"
     ]
    }
   ],
   "source": [
    "NTrials = data_trial.groupby(['run_id'])['trial_index'].max() \\\n",
    "    .reset_index()\n",
    "subjects_not_enough_trials = NTrials.loc[NTrials['trial_index']<400, 'run_id']\n",
    "print('These subjects do not have enough trials: \\n' + \n",
    "      str(NTrials.loc[NTrials['trial_index']<400, :])\n",
    "     )"
   ]
  },
  {
   "cell_type": "markdown",
   "metadata": {},
   "source": [
    "## Followed instructions? "
   ]
  },
  {
   "cell_type": "code",
   "execution_count": 62,
   "metadata": {
    "scrolled": true
   },
   "outputs": [
    {
     "data": {
      "text/html": [
       "<div>\n",
       "<style scoped>\n",
       "    .dataframe tbody tr th:only-of-type {\n",
       "        vertical-align: middle;\n",
       "    }\n",
       "\n",
       "    .dataframe tbody tr th {\n",
       "        vertical-align: top;\n",
       "    }\n",
       "\n",
       "    .dataframe thead th {\n",
       "        text-align: right;\n",
       "    }\n",
       "</style>\n",
       "<table border=\"1\" class=\"dataframe\">\n",
       "  <thead>\n",
       "    <tr style=\"text-align: right;\">\n",
       "      <th></th>\n",
       "      <th>run_id</th>\n",
       "      <th>prolificID</th>\n",
       "      <th>keptHead</th>\n",
       "      <th>triedChin</th>\n",
       "    </tr>\n",
       "  </thead>\n",
       "  <tbody>\n",
       "    <tr>\n",
       "      <th>5</th>\n",
       "      <td>12</td>\n",
       "      <td>5b8969006651ea000118e42e</td>\n",
       "      <td>1.0</td>\n",
       "      <td>0.0</td>\n",
       "    </tr>\n",
       "    <tr>\n",
       "      <th>29</th>\n",
       "      <td>48</td>\n",
       "      <td>5fa1192cf99e161a5cfad1cd</td>\n",
       "      <td>1.0</td>\n",
       "      <td>0.0</td>\n",
       "    </tr>\n",
       "    <tr>\n",
       "      <th>51</th>\n",
       "      <td>9</td>\n",
       "      <td>5fea6632bf9ae4a79153efdf</td>\n",
       "      <td>1.0</td>\n",
       "      <td>0.0</td>\n",
       "    </tr>\n",
       "    <tr>\n",
       "      <th>72</th>\n",
       "      <td>1003</td>\n",
       "      <td>0</td>\n",
       "      <td>1.0</td>\n",
       "      <td>0.0</td>\n",
       "    </tr>\n",
       "    <tr>\n",
       "      <th>74</th>\n",
       "      <td>1008</td>\n",
       "      <td>Ka61Kl61</td>\n",
       "      <td>1.0</td>\n",
       "      <td>0.0</td>\n",
       "    </tr>\n",
       "    <tr>\n",
       "      <th>81</th>\n",
       "      <td>2002</td>\n",
       "      <td>Tim2</td>\n",
       "      <td>0.0</td>\n",
       "      <td>0.0</td>\n",
       "    </tr>\n",
       "    <tr>\n",
       "      <th>82</th>\n",
       "      <td>2008</td>\n",
       "      <td>Studie1970</td>\n",
       "      <td>0.0</td>\n",
       "      <td>1.0</td>\n",
       "    </tr>\n",
       "  </tbody>\n",
       "</table>\n",
       "</div>"
      ],
      "text/plain": [
       "    run_id                prolificID  keptHead  triedChin\n",
       "5       12  5b8969006651ea000118e42e       1.0        0.0\n",
       "29      48  5fa1192cf99e161a5cfad1cd       1.0        0.0\n",
       "51       9  5fea6632bf9ae4a79153efdf       1.0        0.0\n",
       "72    1003                         0       1.0        0.0\n",
       "74    1008                  Ka61Kl61       1.0        0.0\n",
       "81    2002                      Tim2       0.0        0.0\n",
       "82    2008                Studie1970       0.0        1.0"
      ]
     },
     "execution_count": 62,
     "metadata": {},
     "output_type": "execute_result"
    }
   ],
   "source": [
    "data_subject.loc[\n",
    "    (data_subject['keptHead']==0) |\n",
    "    (data_subject['triedChin']==0), \n",
    "    ['run_id', 'prolificID', 'keptHead', 'triedChin']\n",
    "]"
   ]
  },
  {
   "cell_type": "markdown",
   "metadata": {},
   "source": [
    "# Cleaning"
   ]
  },
  {
   "cell_type": "markdown",
   "metadata": {},
   "source": [
    "## data_subject variables"
   ]
  },
  {
   "cell_type": "code",
   "execution_count": 63,
   "metadata": {},
   "outputs": [],
   "source": [
    "data_subject['degree'] = data_subject['degree'].replace({'0': np.nan, '-3.0': np.nan})\n",
    "data_subject['webcam_fps'] = np.round(data_subject['webcam_fps'])"
   ]
  },
  {
   "cell_type": "code",
   "execution_count": 64,
   "metadata": {},
   "outputs": [
    {
     "data": {
      "text/plain": [
       "array([   1,  103,   11,  126,  128,   13,  130,  131,   19,   24,   25,\n",
       "         28,   30,   32,   36,   37,    4,   41,   42,   43,   45,   47,\n",
       "          5,   58,   59,    6,   63,   66,   67,    7,   70,   74,   80,\n",
       "         81,   85,   91,   92,   93,   94,   96,   97, 1000, 1011, 1021,\n",
       "       2012, 2013, 2009], dtype=int64)"
      ]
     },
     "execution_count": 64,
     "metadata": {},
     "output_type": "execute_result"
    }
   ],
   "source": [
    "cleanSubjects = data_subject.loc[\n",
    "        (data_subject['status'].isin(['APPROVED', 'NOTPROLIFIC'])) &\n",
    "        (data_subject['keptHead']!=0) &\n",
    "        (data_subject['triedChin']!=0) &\n",
    "        pd.notna(data_subject['fps']) &\n",
    "        ~(data_subject['run_id'].isin(subjects_not_enough_trials)), \n",
    "        'run_id'\n",
    "    ].unique()\n",
    "cleanSubjects"
   ]
  },
  {
   "cell_type": "code",
   "execution_count": 65,
   "metadata": {},
   "outputs": [
    {
     "name": "stdout",
     "output_type": "stream",
     "text": [
      "data_trial\n",
      "raw data: 30362\n",
      "cleaned data: 24234\n",
      "\n",
      " data_trial_fix\n",
      "raw data: 1044\n",
      "cleaned data: 837\n"
     ]
    }
   ],
   "source": [
    "def cleanTrialData(data):\n",
    "    print('raw data: ' + str(len(data)))\n",
    "    data = data.loc[\n",
    "        data['run_id'].isin(cleanSubjects), \n",
    "        :] \\\n",
    "    .reset_index(drop=True)\n",
    "    print('cleaned data: ' + str(len(data)))\n",
    "    return data\n",
    "\n",
    "print('data_trial')\n",
    "data_trial = cleanTrialData(data_trial)\n",
    "print('\\n data_trial_fix')\n",
    "data_trial_fix = cleanTrialData(data_trial_fix)"
   ]
  },
  {
   "cell_type": "code",
   "execution_count": 66,
   "metadata": {},
   "outputs": [
    {
     "name": "stdout",
     "output_type": "stream",
     "text": [
      "data_et\n",
      "raw data: 618566\n",
      "cleaned data: 544508\n",
      "\n",
      " data_et_fix\n",
      "raw data: 65042\n",
      "cleaned data: 58147\n"
     ]
    }
   ],
   "source": [
    "def cleanETData(data, cleanSubjects):\n",
    "    print('raw data: ' + str(len(data)))\n",
    "    data = data.loc[\n",
    "        (data['run_id'].isin(cleanSubjects)), :] \\\n",
    "        .reset_index(drop=True)\n",
    "    print('cleaned data: ' + str(len(data)))\n",
    "    return data\n",
    "\n",
    "print('data_et')\n",
    "data_et = cleanETData(data_et, cleanSubjects)\n",
    "print('\\n data_et_fix')\n",
    "data_et_fix = cleanETData(data_et_fix, cleanSubjects)"
   ]
  },
  {
   "cell_type": "markdown",
   "metadata": {},
   "source": [
    "# Offset"
   ]
  },
  {
   "cell_type": "markdown",
   "metadata": {},
   "source": [
    "## Calculate on gaze point-level"
   ]
  },
  {
   "cell_type": "code",
   "execution_count": 67,
   "metadata": {},
   "outputs": [
    {
     "data": {
      "text/html": [
       "<div>\n",
       "<style scoped>\n",
       "    .dataframe tbody tr th:only-of-type {\n",
       "        vertical-align: middle;\n",
       "    }\n",
       "\n",
       "    .dataframe tbody tr th {\n",
       "        vertical-align: top;\n",
       "    }\n",
       "\n",
       "    .dataframe thead th {\n",
       "        text-align: right;\n",
       "    }\n",
       "</style>\n",
       "<table border=\"1\" class=\"dataframe\">\n",
       "  <thead>\n",
       "    <tr style=\"text-align: right;\">\n",
       "      <th></th>\n",
       "      <th>trial_index</th>\n",
       "      <th>window_width</th>\n",
       "    </tr>\n",
       "  </thead>\n",
       "  <tbody>\n",
       "    <tr>\n",
       "      <th>104</th>\n",
       "      <td>105.0</td>\n",
       "      <td>1920.0</td>\n",
       "    </tr>\n",
       "    <tr>\n",
       "      <th>105</th>\n",
       "      <td>106.0</td>\n",
       "      <td>1920.0</td>\n",
       "    </tr>\n",
       "    <tr>\n",
       "      <th>107</th>\n",
       "      <td>108.0</td>\n",
       "      <td>1920.0</td>\n",
       "    </tr>\n",
       "    <tr>\n",
       "      <th>108</th>\n",
       "      <td>109.0</td>\n",
       "      <td>1920.0</td>\n",
       "    </tr>\n",
       "    <tr>\n",
       "      <th>110</th>\n",
       "      <td>111.0</td>\n",
       "      <td>1920.0</td>\n",
       "    </tr>\n",
       "    <tr>\n",
       "      <th>...</th>\n",
       "      <td>...</td>\n",
       "      <td>...</td>\n",
       "    </tr>\n",
       "    <tr>\n",
       "      <th>23959</th>\n",
       "      <td>243.0</td>\n",
       "      <td>1920.0</td>\n",
       "    </tr>\n",
       "    <tr>\n",
       "      <th>23962</th>\n",
       "      <td>246.0</td>\n",
       "      <td>1920.0</td>\n",
       "    </tr>\n",
       "    <tr>\n",
       "      <th>23965</th>\n",
       "      <td>249.0</td>\n",
       "      <td>1920.0</td>\n",
       "    </tr>\n",
       "    <tr>\n",
       "      <th>23968</th>\n",
       "      <td>252.0</td>\n",
       "      <td>1920.0</td>\n",
       "    </tr>\n",
       "    <tr>\n",
       "      <th>23971</th>\n",
       "      <td>255.0</td>\n",
       "      <td>1920.0</td>\n",
       "    </tr>\n",
       "  </tbody>\n",
       "</table>\n",
       "<p>5336 rows × 2 columns</p>\n",
       "</div>"
      ],
      "text/plain": [
       "       trial_index  window_width\n",
       "104          105.0        1920.0\n",
       "105          106.0        1920.0\n",
       "107          108.0        1920.0\n",
       "108          109.0        1920.0\n",
       "110          111.0        1920.0\n",
       "...            ...           ...\n",
       "23959        243.0        1920.0\n",
       "23962        246.0        1920.0\n",
       "23965        249.0        1920.0\n",
       "23968        252.0        1920.0\n",
       "23971        255.0        1920.0\n",
       "\n",
       "[5336 rows x 2 columns]"
      ]
     },
     "execution_count": 67,
     "metadata": {},
     "output_type": "execute_result"
    }
   ],
   "source": [
    "data_trial.loc[\n",
    "    data_trial['trial_type'].isin(['eyetracking-fix-object']), \n",
    "    ['trial_index', 'window_width']]"
   ]
  },
  {
   "cell_type": "code",
   "execution_count": 68,
   "metadata": {},
   "outputs": [],
   "source": [
    "def euclideanDistance(x, x_target, y, y_target):\n",
    "    x_diff = x - x_target\n",
    "    y_diff = y - y_target\n",
    "    euclideanDistance = np.sqrt(x_diff**2 + y_diff**2)\n",
    "    return(euclideanDistance)\n",
    "\n",
    "data_et.loc[:, \"offset\"] = euclideanDistance(\n",
    "        data_et[\"x\"], data_et['x_pos'],\n",
    "        data_et[\"y\"], data_et['y_pos'])\n",
    "data_et_fix.loc[:, \"offset\"] = euclideanDistance(\n",
    "        data_et_fix[\"x\"], data_et_fix['x_pos'],\n",
    "        data_et_fix[\"y\"], data_et_fix['y_pos'])"
   ]
  },
  {
   "cell_type": "markdown",
   "metadata": {},
   "source": [
    "Offset as pixels"
   ]
  },
  {
   "cell_type": "code",
   "execution_count": 69,
   "metadata": {},
   "outputs": [
    {
     "data": {
      "text/plain": [
       "count    58147.000000\n",
       "mean       207.835831\n",
       "std        189.575353\n",
       "min          0.908491\n",
       "25%         89.091868\n",
       "50%        152.449107\n",
       "75%        264.523840\n",
       "max       2340.081519\n",
       "Name: offset_px, dtype: float64"
      ]
     },
     "execution_count": 69,
     "metadata": {},
     "output_type": "execute_result"
    }
   ],
   "source": [
    "data_et.loc[:, \"offset_px\"] = euclideanDistance(\n",
    "    (data_et[\"x\"] * data_et['window_width']), \n",
    "    (data_et['x_pos'] * data_et['window_width']),\n",
    "    (data_et[\"y\"] * data_et['window_height']), \n",
    "    (data_et['y_pos'] * data_et['window_height'])\n",
    ")\n",
    "data_et_fix.loc[:, \"offset_px\"] = euclideanDistance(\n",
    "    (data_et_fix[\"x\"] * data_et_fix['window_width']), \n",
    "    (data_et_fix['x_pos'] * data_et_fix['window_width']),\n",
    "    (data_et_fix[\"y\"] * data_et_fix['window_height']), \n",
    "    (data_et_fix['y_pos'] * data_et_fix['window_height'])\n",
    ")\n",
    "data_et_fix['offset_px'].describe()"
   ]
  },
  {
   "cell_type": "markdown",
   "metadata": {},
   "source": [
    "## Plot: gaze shift within a trial"
   ]
  },
  {
   "cell_type": "code",
   "execution_count": 70,
   "metadata": {},
   "outputs": [],
   "source": [
    "def select_fixTask_and_fixCross(data):\n",
    "    return data.loc[\n",
    "        (data['trial_type']=='eyetracking-fix-object') & \n",
    "        ((data['task_nr']==1) |\n",
    "            ((data['chinFirst']==0) & (data['task_nr']==2)) |\n",
    "            ((data['chinFirst']==1) & (data['task_nr']==3))\n",
    "        ), :]. reset_index(drop=True)\n",
    "\n",
    "def reformatTTask(data):                                                 \n",
    "    data.loc[\n",
    "        (data['trial_type']=='eyetracking-fix-object') & \n",
    "        (data['trial_duration']==1500), \n",
    "        't_task'\n",
    "    ] = data.loc[\n",
    "        (data['trial_type']=='eyetracking-fix-object') &\n",
    "        (data['trial_duration']==1500), \n",
    "        't_task'\n",
    "    ] - 1500\n",
    "    return data\n",
    "\n",
    "\n",
    "data_et_fix_task_fixCross = reformatTTask(select_fixTask_and_fixCross(data_et))\n",
    "\n",
    "def add_next_xy_pos(data):\n",
    "    data['next_x_pos']=0\n",
    "    data['next_y_pos']=0\n",
    "    for i in data.index:\n",
    "        if data.loc[i, 'trial_duration']==1500:\n",
    "            data.loc[i, 'next_x_pos'] = data.loc[i+1, 'x_pos']\n",
    "            data.loc[i, 'next_y_pos'] = data.loc[i+1, 'y_pos']\n",
    "    return(data)\n",
    "\n",
    "data_trial_fix_task_fixCross = add_next_xy_pos(select_fixTask_and_fixCross(data_trial))\n",
    "\n",
    "data_et_fix_task_fixCross = data_et_fix_task_fixCross.merge(\n",
    "    data_trial_fix_task_fixCross.loc[:, ['run_id', 'trial_index', 'next_x_pos', 'next_y_pos']],\n",
    "    on=['run_id', 'trial_index'],\n",
    "    how='left'\n",
    ")"
   ]
  },
  {
   "cell_type": "code",
   "execution_count": 71,
   "metadata": {},
   "outputs": [],
   "source": [
    "def new_distance_for_fixCross(data):\n",
    "    data.loc[data['trial_duration']==1500, 'offset'] = euclideanDistance(\n",
    "        data.loc[data['trial_duration']==1500, 'x'], \n",
    "        data.loc[data['trial_duration']==1500, 'next_x_pos'], \n",
    "        data.loc[data['trial_duration']==1500, 'y'], \n",
    "        data.loc[data['trial_duration']==1500, 'next_y_pos']\n",
    "    )\n",
    "    return data\n",
    "        \n",
    "data_et_fix_task_fixCross = new_distance_for_fixCross(data_et_fix_task_fixCross)"
   ]
  },
  {
   "cell_type": "code",
   "execution_count": 72,
   "metadata": {},
   "outputs": [],
   "source": [
    "def createAVGLine(data):\n",
    "    binArray = np.arange(-1500, 5000, 50)\n",
    "    bins = pd.cut(data['t_task'], binArray)\n",
    "    output = data.groupby(bins).agg({\"offset\": \"median\"}).reset_index()\n",
    "    output['t_task'] = binArray[0:len(output)]\n",
    "    return output\n",
    "\n",
    "average_line_noChin = createAVGLine(data_et_fix_task_fixCross.loc[data_et_fix_task_fixCross['chin']==0, :])\n",
    "average_line_chin = createAVGLine(data_et_fix_task_fixCross.loc[data_et_fix_task_fixCross['chin']==1, :])"
   ]
  },
  {
   "cell_type": "code",
   "execution_count": 73,
   "metadata": {},
   "outputs": [
    {
     "data": {
      "text/plain": [
       "Text(0.5, 0, 't_task')"
      ]
     },
     "execution_count": 73,
     "metadata": {},
     "output_type": "execute_result"
    },
    {
     "data": {
      "image/png": "[encoded data removed]",
      "text/plain": [
       "<Figure size 1296x864 with 2 Axes>"
      ]
     },
     "metadata": {
      "needs_background": "light"
     },
     "output_type": "display_data"
    }
   ],
   "source": [
    "fig, axes = plt.subplots(nrows=1, ncols=2, sharey=True, figsize=(18, 12))\n",
    "fig.suptitle('Median local offset for all subjects across a fixation task trial', fontsize=20)\n",
    "\n",
    "axes[0].set_title(\"Chin==0\")\n",
    "axes[1].set_title(\"Chin==1\")\n",
    "\n",
    "sns.scatterplot(ax=axes[0], \n",
    "                data=data_et_fix_task_fixCross.loc[\n",
    "                    (data_et_fix_task_fixCross['run_id']==103) & \n",
    "                    (data_et_fix_task_fixCross['chin']==0), \n",
    "                    :], \n",
    "                x=\"t_task\", y=\"offset\")\n",
    "sns.lineplot(ax=axes[0], x=average_line_noChin['t_task'], y=average_line_noChin['offset'], color='r')\n",
    "\n",
    "sns.scatterplot(ax=axes[1], \n",
    "                data=data_et_fix_task_fixCross.loc[\n",
    "                    (data_et_fix_task_fixCross['run_id']==103) & \n",
    "                    (data_et_fix_task_fixCross['chin']==1), \n",
    "                    :],\n",
    "                x=\"t_task\", y=\"offset\")\n",
    "sns.lineplot(ax=axes[1], x=average_line_chin['t_task'], y=average_line_chin['offset'], color='r')\n",
    "\n",
    "plt.setp(axes, xlim=(-1500, 5000)) \n",
    "plt.xlabel(\"t_task\")"
   ]
  },
  {
   "cell_type": "markdown",
   "metadata": {},
   "source": [
    "## Aggregate on trial level"
   ]
  },
  {
   "cell_type": "code",
   "execution_count": 74,
   "metadata": {},
   "outputs": [],
   "source": [
    "def merge_varMean_by_index(data, data_et, varName):\n",
    "    if varName in data.columns: \n",
    "        data = data.drop(columns=[varName])\n",
    "    grouped = data_et.groupby(['run_id', 'trial_index'])[varName].mean() \\\n",
    "        .reset_index()        \n",
    "    data = data.merge(grouped, on=['run_id', 'trial_index'], how='left')\n",
    "    return data\n",
    "\n",
    "data_trial = merge_varMean_by_index(data_trial, data_et, 'offset')\n",
    "data_trial_fix = merge_varMean_by_index(data_trial_fix, data_et_fix, 'offset')\n",
    "data_trial = merge_varMean_by_index(data_trial, data_et, 'offset_px')\n",
    "data_trial_fix = merge_varMean_by_index(data_trial_fix, data_et_fix, 'offset_px')"
   ]
  },
  {
   "cell_type": "markdown",
   "metadata": {},
   "source": [
    "## Aggregate on subject-level "
   ]
  },
  {
   "cell_type": "code",
   "execution_count": 75,
   "metadata": {},
   "outputs": [],
   "source": [
    "def merge_by_subject(data, large_data, varName):\n",
    "    if varName in data.columns: data = data.drop(columns=[varName])\n",
    "    grouped = large_data.groupby(['run_id'])[varName].mean() \\\n",
    "        .reset_index()        \n",
    "    data = data.merge(grouped, on=['run_id'], how='left')\n",
    "    return data\n",
    "\n",
    "data_subject = merge_by_subject(data_subject, data_trial_fix, 'offset')\n",
    "data_subject = merge_by_subject(data_subject, data_trial_fix, 'offset_px')"
   ]
  },
  {
   "cell_type": "code",
   "execution_count": 76,
   "metadata": {},
   "outputs": [
    {
     "data": {
      "text/html": [
       "<div>\n",
       "<style scoped>\n",
       "    .dataframe tbody tr th:only-of-type {\n",
       "        vertical-align: middle;\n",
       "    }\n",
       "\n",
       "    .dataframe tbody tr th {\n",
       "        vertical-align: top;\n",
       "    }\n",
       "\n",
       "    .dataframe thead th {\n",
       "        text-align: right;\n",
       "    }\n",
       "</style>\n",
       "<table border=\"1\" class=\"dataframe\">\n",
       "  <thead>\n",
       "    <tr style=\"text-align: right;\">\n",
       "      <th></th>\n",
       "      <th>offset</th>\n",
       "      <th>offset_chin_0</th>\n",
       "      <th>offset_chin_1</th>\n",
       "      <th>offset_glasses_binary_0</th>\n",
       "      <th>offset_glasses_binary_1</th>\n",
       "    </tr>\n",
       "  </thead>\n",
       "  <tbody>\n",
       "    <tr>\n",
       "      <th>count</th>\n",
       "      <td>47.000000</td>\n",
       "      <td>46.000000</td>\n",
       "      <td>47.000000</td>\n",
       "      <td>27.000000</td>\n",
       "      <td>18.000000</td>\n",
       "    </tr>\n",
       "    <tr>\n",
       "      <th>mean</th>\n",
       "      <td>0.205215</td>\n",
       "      <td>0.190380</td>\n",
       "      <td>0.205446</td>\n",
       "      <td>0.189913</td>\n",
       "      <td>0.194914</td>\n",
       "    </tr>\n",
       "    <tr>\n",
       "      <th>std</th>\n",
       "      <td>0.163047</td>\n",
       "      <td>0.141355</td>\n",
       "      <td>0.164243</td>\n",
       "      <td>0.153353</td>\n",
       "      <td>0.092959</td>\n",
       "    </tr>\n",
       "    <tr>\n",
       "      <th>min</th>\n",
       "      <td>0.074473</td>\n",
       "      <td>0.069502</td>\n",
       "      <td>0.058736</td>\n",
       "      <td>0.077386</td>\n",
       "      <td>0.074473</td>\n",
       "    </tr>\n",
       "    <tr>\n",
       "      <th>25%</th>\n",
       "      <td>0.106993</td>\n",
       "      <td>0.096723</td>\n",
       "      <td>0.110637</td>\n",
       "      <td>0.106156</td>\n",
       "      <td>0.115464</td>\n",
       "    </tr>\n",
       "    <tr>\n",
       "      <th>50%</th>\n",
       "      <td>0.160506</td>\n",
       "      <td>0.148895</td>\n",
       "      <td>0.152613</td>\n",
       "      <td>0.143812</td>\n",
       "      <td>0.185468</td>\n",
       "    </tr>\n",
       "    <tr>\n",
       "      <th>75%</th>\n",
       "      <td>0.232671</td>\n",
       "      <td>0.223869</td>\n",
       "      <td>0.256177</td>\n",
       "      <td>0.214136</td>\n",
       "      <td>0.254645</td>\n",
       "    </tr>\n",
       "    <tr>\n",
       "      <th>max</th>\n",
       "      <td>0.876760</td>\n",
       "      <td>0.802738</td>\n",
       "      <td>0.876760</td>\n",
       "      <td>0.803767</td>\n",
       "      <td>0.410388</td>\n",
       "    </tr>\n",
       "  </tbody>\n",
       "</table>\n",
       "</div>"
      ],
      "text/plain": [
       "          offset  offset_chin_0  offset_chin_1  offset_glasses_binary_0  \\\n",
       "count  47.000000      46.000000      47.000000                27.000000   \n",
       "mean    0.205215       0.190380       0.205446                 0.189913   \n",
       "std     0.163047       0.141355       0.164243                 0.153353   \n",
       "min     0.074473       0.069502       0.058736                 0.077386   \n",
       "25%     0.106993       0.096723       0.110637                 0.106156   \n",
       "50%     0.160506       0.148895       0.152613                 0.143812   \n",
       "75%     0.232671       0.223869       0.256177                 0.214136   \n",
       "max     0.876760       0.802738       0.876760                 0.803767   \n",
       "\n",
       "       offset_glasses_binary_1  \n",
       "count                18.000000  \n",
       "mean                  0.194914  \n",
       "std                   0.092959  \n",
       "min                   0.074473  \n",
       "25%                   0.115464  \n",
       "50%                   0.185468  \n",
       "75%                   0.254645  \n",
       "max                   0.410388  "
      ]
     },
     "execution_count": 76,
     "metadata": {},
     "output_type": "execute_result"
    }
   ],
   "source": [
    "def separate_outcomes_by_condition(data, large_data, varName, varCondition):\n",
    "    var_cond_0 = varName + '_' + varCondition + '_0' \n",
    "    var_cond_1 = varName + '_' + varCondition + '_1' \n",
    "    \n",
    "    if var_cond_0 in data.columns: \n",
    "        data = data.drop(columns=[var_cond_0])\n",
    "    if var_cond_1 in data.columns: \n",
    "        data = data.drop(columns=[var_cond_1])\n",
    "        \n",
    "    grouped = large_data \\\n",
    "        .groupby(['run_id', varCondition])[varName].mean() \\\n",
    "        .reset_index() \\\n",
    "        .pivot(index='run_id', columns=varCondition, values=varName) \\\n",
    "        .reset_index() \\\n",
    "        .rename(columns={0.0: var_cond_0, 1.0: var_cond_1}) \n",
    "    data = data.merge(grouped.loc[:, ['run_id', var_cond_0, var_cond_1]], on='run_id', how='left')\n",
    "    return data\n",
    "\n",
    "data_subject = separate_outcomes_by_condition(\n",
    "    data_subject, data_trial_fix, 'offset', 'chin')\n",
    "\n",
    "data_subject = separate_outcomes_by_condition(\n",
    "    data_subject, data_trial_fix, 'offset', 'glasses_binary')\n",
    "data_subject.loc[\n",
    "    :, \n",
    "    [\n",
    "        'offset', 'offset_chin_0', 'offset_chin_1',\n",
    "        'offset_glasses_binary_0', 'offset_glasses_binary_1'\n",
    "    ]\n",
    "].describe()"
   ]
  },
  {
   "cell_type": "code",
   "execution_count": 77,
   "metadata": {
    "scrolled": true
   },
   "outputs": [
    {
     "data": {
      "text/html": [
       "<div>\n",
       "<style scoped>\n",
       "    .dataframe tbody tr th:only-of-type {\n",
       "        vertical-align: middle;\n",
       "    }\n",
       "\n",
       "    .dataframe tbody tr th {\n",
       "        vertical-align: top;\n",
       "    }\n",
       "\n",
       "    .dataframe thead th {\n",
       "        text-align: right;\n",
       "    }\n",
       "</style>\n",
       "<table border=\"1\" class=\"dataframe\">\n",
       "  <thead>\n",
       "    <tr style=\"text-align: right;\">\n",
       "      <th></th>\n",
       "      <th>offset_px</th>\n",
       "      <th>offset_px_chin_0</th>\n",
       "      <th>offset_px_chin_1</th>\n",
       "      <th>offset_px_glasses_binary_0</th>\n",
       "      <th>offset_px_glasses_binary_1</th>\n",
       "    </tr>\n",
       "  </thead>\n",
       "  <tbody>\n",
       "    <tr>\n",
       "      <th>count</th>\n",
       "      <td>47.000000</td>\n",
       "      <td>46.000000</td>\n",
       "      <td>47.000000</td>\n",
       "      <td>27.000000</td>\n",
       "      <td>18.000000</td>\n",
       "    </tr>\n",
       "    <tr>\n",
       "      <th>mean</th>\n",
       "      <td>248.895365</td>\n",
       "      <td>228.293300</td>\n",
       "      <td>248.006977</td>\n",
       "      <td>218.142706</td>\n",
       "      <td>247.091797</td>\n",
       "    </tr>\n",
       "    <tr>\n",
       "      <th>std</th>\n",
       "      <td>209.058876</td>\n",
       "      <td>167.631555</td>\n",
       "      <td>210.361736</td>\n",
       "      <td>162.970415</td>\n",
       "      <td>132.680201</td>\n",
       "    </tr>\n",
       "    <tr>\n",
       "      <th>min</th>\n",
       "      <td>83.776446</td>\n",
       "      <td>60.291561</td>\n",
       "      <td>67.162307</td>\n",
       "      <td>83.776446</td>\n",
       "      <td>84.165071</td>\n",
       "    </tr>\n",
       "    <tr>\n",
       "      <th>25%</th>\n",
       "      <td>125.337948</td>\n",
       "      <td>120.342524</td>\n",
       "      <td>129.331858</td>\n",
       "      <td>116.511419</td>\n",
       "      <td>156.547985</td>\n",
       "    </tr>\n",
       "    <tr>\n",
       "      <th>50%</th>\n",
       "      <td>204.546806</td>\n",
       "      <td>177.226795</td>\n",
       "      <td>193.530066</td>\n",
       "      <td>170.762958</td>\n",
       "      <td>232.056540</td>\n",
       "    </tr>\n",
       "    <tr>\n",
       "      <th>75%</th>\n",
       "      <td>282.897878</td>\n",
       "      <td>283.302117</td>\n",
       "      <td>288.552052</td>\n",
       "      <td>249.273149</td>\n",
       "      <td>297.215793</td>\n",
       "    </tr>\n",
       "    <tr>\n",
       "      <th>max</th>\n",
       "      <td>1238.344526</td>\n",
       "      <td>848.289765</td>\n",
       "      <td>1238.344526</td>\n",
       "      <td>847.848319</td>\n",
       "      <td>632.730659</td>\n",
       "    </tr>\n",
       "  </tbody>\n",
       "</table>\n",
       "</div>"
      ],
      "text/plain": [
       "         offset_px  offset_px_chin_0  offset_px_chin_1  \\\n",
       "count    47.000000         46.000000         47.000000   \n",
       "mean    248.895365        228.293300        248.006977   \n",
       "std     209.058876        167.631555        210.361736   \n",
       "min      83.776446         60.291561         67.162307   \n",
       "25%     125.337948        120.342524        129.331858   \n",
       "50%     204.546806        177.226795        193.530066   \n",
       "75%     282.897878        283.302117        288.552052   \n",
       "max    1238.344526        848.289765       1238.344526   \n",
       "\n",
       "       offset_px_glasses_binary_0  offset_px_glasses_binary_1  \n",
       "count                   27.000000                   18.000000  \n",
       "mean                   218.142706                  247.091797  \n",
       "std                    162.970415                  132.680201  \n",
       "min                     83.776446                   84.165071  \n",
       "25%                    116.511419                  156.547985  \n",
       "50%                    170.762958                  232.056540  \n",
       "75%                    249.273149                  297.215793  \n",
       "max                    847.848319                  632.730659  "
      ]
     },
     "execution_count": 77,
     "metadata": {},
     "output_type": "execute_result"
    }
   ],
   "source": [
    "data_subject = separate_outcomes_by_condition(data_subject, data_trial_fix, 'offset_px', 'chin')\n",
    "data_subject = separate_outcomes_by_condition(data_subject, data_trial_fix, 'offset_px', 'glasses_binary')\n",
    "\n",
    "data_subject.loc[\n",
    "    :, \n",
    "    [\n",
    "        'offset_px', 'offset_px_chin_0', 'offset_px_chin_1',\n",
    "        'offset_px_glasses_binary_0', 'offset_px_glasses_binary_1'\n",
    "    ]\n",
    "].describe()"
   ]
  },
  {
   "cell_type": "markdown",
   "metadata": {},
   "source": [
    "## Grand mean offset"
   ]
  },
  {
   "cell_type": "code",
   "execution_count": 113,
   "metadata": {},
   "outputs": [
    {
     "name": "stderr",
     "output_type": "stream",
     "text": [
      "<ipython-input-113-066a389a9d25>:1: FutureWarning: Indexing with multiple keys (implicitly converted to a tuple of keys) will be deprecated, use a list instead.\n",
      "  grouped = data_et_fix.groupby(['run_id', 'trial_index']) \\\n"
     ]
    },
    {
     "data": {
      "text/html": [
       "<div>\n",
       "<style scoped>\n",
       "    .dataframe tbody tr th:only-of-type {\n",
       "        vertical-align: middle;\n",
       "    }\n",
       "\n",
       "    .dataframe tbody tr th {\n",
       "        vertical-align: top;\n",
       "    }\n",
       "\n",
       "    .dataframe thead th {\n",
       "        text-align: right;\n",
       "    }\n",
       "</style>\n",
       "<table border=\"1\" class=\"dataframe\">\n",
       "  <thead>\n",
       "    <tr style=\"text-align: right;\">\n",
       "      <th></th>\n",
       "      <th>x_mean</th>\n",
       "      <th>x_mean_px</th>\n",
       "      <th>y_mean</th>\n",
       "      <th>y_mean_px</th>\n",
       "    </tr>\n",
       "  </thead>\n",
       "  <tbody>\n",
       "    <tr>\n",
       "      <th>count</th>\n",
       "      <td>837.000000</td>\n",
       "      <td>837.000000</td>\n",
       "      <td>837.000000</td>\n",
       "      <td>837.000000</td>\n",
       "    </tr>\n",
       "    <tr>\n",
       "      <th>mean</th>\n",
       "      <td>0.500898</td>\n",
       "      <td>803.124313</td>\n",
       "      <td>0.495788</td>\n",
       "      <td>452.210064</td>\n",
       "    </tr>\n",
       "    <tr>\n",
       "      <th>std</th>\n",
       "      <td>0.243033</td>\n",
       "      <td>423.748825</td>\n",
       "      <td>0.208850</td>\n",
       "      <td>211.130389</td>\n",
       "    </tr>\n",
       "    <tr>\n",
       "      <th>min</th>\n",
       "      <td>-0.698092</td>\n",
       "      <td>-1072.269613</td>\n",
       "      <td>-0.134632</td>\n",
       "      <td>-128.842889</td>\n",
       "    </tr>\n",
       "    <tr>\n",
       "      <th>25%</th>\n",
       "      <td>0.309411</td>\n",
       "      <td>515.679725</td>\n",
       "      <td>0.344346</td>\n",
       "      <td>305.225675</td>\n",
       "    </tr>\n",
       "    <tr>\n",
       "      <th>50%</th>\n",
       "      <td>0.515563</td>\n",
       "      <td>777.832059</td>\n",
       "      <td>0.509904</td>\n",
       "      <td>440.475857</td>\n",
       "    </tr>\n",
       "    <tr>\n",
       "      <th>75%</th>\n",
       "      <td>0.707801</td>\n",
       "      <td>1064.827586</td>\n",
       "      <td>0.652206</td>\n",
       "      <td>591.669806</td>\n",
       "    </tr>\n",
       "    <tr>\n",
       "      <th>max</th>\n",
       "      <td>1.218096</td>\n",
       "      <td>2282.275511</td>\n",
       "      <td>0.993750</td>\n",
       "      <td>1126.277549</td>\n",
       "    </tr>\n",
       "  </tbody>\n",
       "</table>\n",
       "</div>"
      ],
      "text/plain": [
       "           x_mean    x_mean_px      y_mean    y_mean_px\n",
       "count  837.000000   837.000000  837.000000   837.000000\n",
       "mean     0.500898   803.124313    0.495788   452.210064\n",
       "std      0.243033   423.748825    0.208850   211.130389\n",
       "min     -0.698092 -1072.269613   -0.134632  -128.842889\n",
       "25%      0.309411   515.679725    0.344346   305.225675\n",
       "50%      0.515563   777.832059    0.509904   440.475857\n",
       "75%      0.707801  1064.827586    0.652206   591.669806\n",
       "max      1.218096  2282.275511    0.993750  1126.277549"
      ]
     },
     "execution_count": 113,
     "metadata": {},
     "output_type": "execute_result"
    }
   ],
   "source": [
    "grouped = data_et_fix.groupby(['run_id', 'trial_index']) \\\n",
    "    ['x', 'y'].mean() \\\n",
    "    .reset_index() \\\n",
    "    .rename(columns={'x': 'x_mean', 'y': 'y_mean'})\n",
    "\n",
    "if 'x_mean' in data_trial_fix.columns:\n",
    "    data_trial_fix = data_trial_fix.drop(columns=['x_mean'])\n",
    "if 'y_mean' in data_trial_fix.columns:\n",
    "    data_trial_fix = data_trial_fix.drop(columns=['y_mean'])    \n",
    "data_trial_fix = data_trial_fix.merge(\n",
    "    grouped,\n",
    "    on=['run_id', 'trial_index'],\n",
    "    how='left'\n",
    ") \n",
    "data_trial_fix['x_mean_px'] = data_trial_fix['x_mean'] * data_trial_fix['window_width']\n",
    "data_trial_fix['y_mean_px'] = data_trial_fix['y_mean'] * data_trial_fix['window_height']\n",
    "data_trial_fix.loc[:, ['x_mean', 'x_mean_px', 'y_mean', 'y_mean_px']].describe()"
   ]
  },
  {
   "cell_type": "code",
   "execution_count": 115,
   "metadata": {},
   "outputs": [
    {
     "data": {
      "text/plain": [
       "count    837.000000\n",
       "mean       0.180212\n",
       "std        0.179641\n",
       "min        0.003546\n",
       "25%        0.071101\n",
       "50%        0.125814\n",
       "75%        0.220212\n",
       "max        1.285896\n",
       "Name: grand_deviation, dtype: float64"
      ]
     },
     "execution_count": 115,
     "metadata": {},
     "output_type": "execute_result"
    }
   ],
   "source": [
    "data_trial_fix['grand_deviation'] = euclideanDistance(\n",
    "    data_trial_fix['x_mean'], data_trial_fix['x_pos'],\n",
    "    data_trial_fix['y_mean'], data_trial_fix['y_pos']\n",
    ")\n",
    "data_trial_fix['grand_deviation'].describe()"
   ]
  },
  {
   "cell_type": "markdown",
   "metadata": {},
   "source": [
    "# Precision"
   ]
  },
  {
   "cell_type": "markdown",
   "metadata": {},
   "source": [
    "## Distance from AVG on et-level"
   ]
  },
  {
   "cell_type": "code",
   "execution_count": 78,
   "metadata": {},
   "outputs": [
    {
     "name": "stderr",
     "output_type": "stream",
     "text": [
      "<ipython-input-78-ca53af98e2a3>:2: FutureWarning: Indexing with multiple keys (implicitly converted to a tuple of keys) will be deprecated, use a list instead.\n",
      "  grouped = data.groupby(['run_id', 'trial_index'])['x', 'y'].mean() \\\n"
     ]
    },
    {
     "name": "stdout",
     "output_type": "stream",
     "text": [
      "Empty DataFrame\n",
      "Columns: [x, y, x_pos, y_pos, distanceFromAVG_square]\n",
      "Index: []\n"
     ]
    },
    {
     "data": {
      "text/html": [
       "<div>\n",
       "<style scoped>\n",
       "    .dataframe tbody tr th:only-of-type {\n",
       "        vertical-align: middle;\n",
       "    }\n",
       "\n",
       "    .dataframe tbody tr th {\n",
       "        vertical-align: top;\n",
       "    }\n",
       "\n",
       "    .dataframe thead th {\n",
       "        text-align: right;\n",
       "    }\n",
       "</style>\n",
       "<table border=\"1\" class=\"dataframe\">\n",
       "  <thead>\n",
       "    <tr style=\"text-align: right;\">\n",
       "      <th></th>\n",
       "      <th>distanceFromAVG_square</th>\n",
       "      <th>distanceFromAVG_square_px</th>\n",
       "    </tr>\n",
       "  </thead>\n",
       "  <tbody>\n",
       "    <tr>\n",
       "      <th>count</th>\n",
       "      <td>5.814700e+04</td>\n",
       "      <td>5.814700e+04</td>\n",
       "    </tr>\n",
       "    <tr>\n",
       "      <th>mean</th>\n",
       "      <td>9.450001e-03</td>\n",
       "      <td>1.084924e+04</td>\n",
       "    </tr>\n",
       "    <tr>\n",
       "      <th>std</th>\n",
       "      <td>3.151916e-02</td>\n",
       "      <td>3.800674e+04</td>\n",
       "    </tr>\n",
       "    <tr>\n",
       "      <th>min</th>\n",
       "      <td>8.822143e-10</td>\n",
       "      <td>2.051945e-03</td>\n",
       "    </tr>\n",
       "    <tr>\n",
       "      <th>25%</th>\n",
       "      <td>9.403697e-04</td>\n",
       "      <td>1.036365e+03</td>\n",
       "    </tr>\n",
       "    <tr>\n",
       "      <th>50%</th>\n",
       "      <td>2.789889e-03</td>\n",
       "      <td>3.135455e+03</td>\n",
       "    </tr>\n",
       "    <tr>\n",
       "      <th>75%</th>\n",
       "      <td>7.446074e-03</td>\n",
       "      <td>8.488400e+03</td>\n",
       "    </tr>\n",
       "    <tr>\n",
       "      <th>max</th>\n",
       "      <td>1.279031e+00</td>\n",
       "      <td>2.024417e+06</td>\n",
       "    </tr>\n",
       "  </tbody>\n",
       "</table>\n",
       "</div>"
      ],
      "text/plain": [
       "       distanceFromAVG_square  distanceFromAVG_square_px\n",
       "count            5.814700e+04               5.814700e+04\n",
       "mean             9.450001e-03               1.084924e+04\n",
       "std              3.151916e-02               3.800674e+04\n",
       "min              8.822143e-10               2.051945e-03\n",
       "25%              9.403697e-04               1.036365e+03\n",
       "50%              2.789889e-03               3.135455e+03\n",
       "75%              7.446074e-03               8.488400e+03\n",
       "max              1.279031e+00               2.024417e+06"
      ]
     },
     "execution_count": 78,
     "metadata": {},
     "output_type": "execute_result"
    }
   ],
   "source": [
    "def merge_xy_means(data):    \n",
    "    grouped = data.groupby(['run_id', 'trial_index'])['x', 'y'].mean() \\\n",
    "        .rename(columns={'x': 'x_mean', 'y': 'y_mean'})\n",
    "    \n",
    "    if 'x_mean' in data.columns: \n",
    "        data = data.drop(columns=['x_mean'])\n",
    "    if 'y_mean' in data.columns: \n",
    "        data = data.drop(columns=['y_mean'])\n",
    "    data = data.merge(grouped, on=['run_id', 'trial_index'], how='left') \n",
    "    return(data)\n",
    "\n",
    "def distanceFromAVG_square(data):\n",
    "    data = merge_xy_means(data)\n",
    "    data['distanceFromAVG_square'] = np.power(\n",
    "        euclideanDistance(data['x'], data['x_mean'], data['y'], data['y_mean']),\n",
    "        2\n",
    "    )\n",
    "    data['distanceFromAVG_square_px'] = np.power(euclideanDistance(\n",
    "        (data['x'] * data_et['window_width']), \n",
    "        (data['x_mean'] * data_et['window_width']), \n",
    "        (data['y'] * data_et['window_height']), \n",
    "        (data['y_mean'] * data_et['window_height'])\n",
    "    ), 2)\n",
    "    \n",
    "    return(data)  \n",
    "\n",
    "data_et = distanceFromAVG_square(data_et)\n",
    "data_et_fix = distanceFromAVG_square(data_et_fix)\n",
    "print(data_et_fix.loc[\n",
    "    pd.isna(data_et_fix['distanceFromAVG_square']), \n",
    "    ['x', 'y', 'x_pos', 'y_pos', 'distanceFromAVG_square']\n",
    "])\n",
    "data_et_fix.loc[\n",
    "    :, ['distanceFromAVG_square', 'distanceFromAVG_square_px']] \\\n",
    "    .describe()"
   ]
  },
  {
   "cell_type": "markdown",
   "metadata": {},
   "source": [
    "## Standard deviation of gaze points on trial-level"
   ]
  },
  {
   "cell_type": "code",
   "execution_count": 79,
   "metadata": {},
   "outputs": [
    {
     "name": "stdout",
     "output_type": "stream",
     "text": [
      "count    837.000000\n",
      "mean       0.088295\n",
      "std        0.066099\n",
      "min        0.000341\n",
      "25%        0.051707\n",
      "50%        0.070164\n",
      "75%        0.100069\n",
      "max        0.599281\n",
      "Name: precision, dtype: float64\n"
     ]
    }
   ],
   "source": [
    "data_trial = merge_varMean_by_index(\n",
    "    data_trial, data_et, 'distanceFromAVG_square')\n",
    "data_trial['precision'] = np.sqrt(data_trial['distanceFromAVG_square'])\n",
    "\n",
    "data_trial_fix = merge_varMean_by_index(\n",
    "    data_trial_fix, data_et_fix, 'distanceFromAVG_square')\n",
    "data_trial_fix['precision'] = np.sqrt(data_trial_fix['distanceFromAVG_square'])\n",
    "print(data_trial_fix['precision'].describe())"
   ]
  },
  {
   "cell_type": "markdown",
   "metadata": {},
   "source": [
    "In pixel"
   ]
  },
  {
   "cell_type": "code",
   "execution_count": 80,
   "metadata": {},
   "outputs": [
    {
     "name": "stdout",
     "output_type": "stream",
     "text": [
      "count    837.000000\n",
      "mean      96.136380\n",
      "std       76.075031\n",
      "min        0.563800\n",
      "25%       55.684546\n",
      "50%       73.578111\n",
      "75%      107.741545\n",
      "max      702.798557\n",
      "Name: precision_px, dtype: float64\n"
     ]
    }
   ],
   "source": [
    "data_trial = merge_varMean_by_index(\n",
    "    data_trial, data_et, 'distanceFromAVG_square_px')\n",
    "data_trial['precision_px'] = np.sqrt(data_trial['distanceFromAVG_square_px'])\n",
    "\n",
    "data_trial_fix = merge_varMean_by_index(\n",
    "    data_trial_fix, data_et_fix, 'distanceFromAVG_square_px')\n",
    "data_trial_fix['precision_px'] = np.sqrt(data_trial_fix['distanceFromAVG_square_px'])\n",
    "print(data_trial_fix['precision_px'].describe())"
   ]
  },
  {
   "cell_type": "markdown",
   "metadata": {},
   "source": [
    "Any missing values?"
   ]
  },
  {
   "cell_type": "code",
   "execution_count": 81,
   "metadata": {},
   "outputs": [
    {
     "data": {
      "text/html": [
       "<div>\n",
       "<style scoped>\n",
       "    .dataframe tbody tr th:only-of-type {\n",
       "        vertical-align: middle;\n",
       "    }\n",
       "\n",
       "    .dataframe tbody tr th {\n",
       "        vertical-align: top;\n",
       "    }\n",
       "\n",
       "    .dataframe thead th {\n",
       "        text-align: right;\n",
       "    }\n",
       "</style>\n",
       "<table border=\"1\" class=\"dataframe\">\n",
       "  <thead>\n",
       "    <tr style=\"text-align: right;\">\n",
       "      <th></th>\n",
       "      <th>run_id</th>\n",
       "      <th>trial_index</th>\n",
       "      <th>x_pos</th>\n",
       "      <th>y_pos</th>\n",
       "      <th>precision</th>\n",
       "    </tr>\n",
       "  </thead>\n",
       "  <tbody>\n",
       "  </tbody>\n",
       "</table>\n",
       "</div>"
      ],
      "text/plain": [
       "Empty DataFrame\n",
       "Columns: [run_id, trial_index, x_pos, y_pos, precision]\n",
       "Index: []"
      ]
     },
     "execution_count": 81,
     "metadata": {},
     "output_type": "execute_result"
    }
   ],
   "source": [
    "data_trial_fix.loc[\n",
    "    pd.isna(data_trial_fix['precision']), \n",
    "    ['run_id', 'trial_index', 'x_pos', 'y_pos', 'precision']\n",
    "]"
   ]
  },
  {
   "cell_type": "markdown",
   "metadata": {},
   "source": [
    "## Aggregate on subject-level "
   ]
  },
  {
   "cell_type": "code",
   "execution_count": 89,
   "metadata": {
    "scrolled": true
   },
   "outputs": [
    {
     "data": {
      "text/html": [
       "<div>\n",
       "<style scoped>\n",
       "    .dataframe tbody tr th:only-of-type {\n",
       "        vertical-align: middle;\n",
       "    }\n",
       "\n",
       "    .dataframe tbody tr th {\n",
       "        vertical-align: top;\n",
       "    }\n",
       "\n",
       "    .dataframe thead th {\n",
       "        text-align: right;\n",
       "    }\n",
       "</style>\n",
       "<table border=\"1\" class=\"dataframe\">\n",
       "  <thead>\n",
       "    <tr style=\"text-align: right;\">\n",
       "      <th></th>\n",
       "      <th>precision</th>\n",
       "      <th>precision_chin_0</th>\n",
       "      <th>precision_chin_1</th>\n",
       "      <th>precision_glasses_binary_0</th>\n",
       "      <th>precision_glasses_binary_1</th>\n",
       "    </tr>\n",
       "  </thead>\n",
       "  <tbody>\n",
       "    <tr>\n",
       "      <th>count</th>\n",
       "      <td>47.000000</td>\n",
       "      <td>46.000000</td>\n",
       "      <td>47.000000</td>\n",
       "      <td>27.000000</td>\n",
       "      <td>18.000000</td>\n",
       "    </tr>\n",
       "    <tr>\n",
       "      <th>mean</th>\n",
       "      <td>0.090668</td>\n",
       "      <td>0.089189</td>\n",
       "      <td>0.087419</td>\n",
       "      <td>0.080242</td>\n",
       "      <td>0.094800</td>\n",
       "    </tr>\n",
       "    <tr>\n",
       "      <th>std</th>\n",
       "      <td>0.056816</td>\n",
       "      <td>0.054815</td>\n",
       "      <td>0.057419</td>\n",
       "      <td>0.047054</td>\n",
       "      <td>0.047754</td>\n",
       "    </tr>\n",
       "    <tr>\n",
       "      <th>min</th>\n",
       "      <td>0.003469</td>\n",
       "      <td>0.004836</td>\n",
       "      <td>0.002101</td>\n",
       "      <td>0.045034</td>\n",
       "      <td>0.003469</td>\n",
       "    </tr>\n",
       "    <tr>\n",
       "      <th>25%</th>\n",
       "      <td>0.059799</td>\n",
       "      <td>0.063880</td>\n",
       "      <td>0.057190</td>\n",
       "      <td>0.055751</td>\n",
       "      <td>0.069191</td>\n",
       "    </tr>\n",
       "    <tr>\n",
       "      <th>50%</th>\n",
       "      <td>0.077988</td>\n",
       "      <td>0.077679</td>\n",
       "      <td>0.073472</td>\n",
       "      <td>0.068877</td>\n",
       "      <td>0.087387</td>\n",
       "    </tr>\n",
       "    <tr>\n",
       "      <th>75%</th>\n",
       "      <td>0.093893</td>\n",
       "      <td>0.097039</td>\n",
       "      <td>0.091560</td>\n",
       "      <td>0.088407</td>\n",
       "      <td>0.112066</td>\n",
       "    </tr>\n",
       "    <tr>\n",
       "      <th>max</th>\n",
       "      <td>0.311413</td>\n",
       "      <td>0.397298</td>\n",
       "      <td>0.311413</td>\n",
       "      <td>0.297975</td>\n",
       "      <td>0.215294</td>\n",
       "    </tr>\n",
       "  </tbody>\n",
       "</table>\n",
       "</div>"
      ],
      "text/plain": [
       "       precision  precision_chin_0  precision_chin_1  \\\n",
       "count  47.000000         46.000000         47.000000   \n",
       "mean    0.090668          0.089189          0.087419   \n",
       "std     0.056816          0.054815          0.057419   \n",
       "min     0.003469          0.004836          0.002101   \n",
       "25%     0.059799          0.063880          0.057190   \n",
       "50%     0.077988          0.077679          0.073472   \n",
       "75%     0.093893          0.097039          0.091560   \n",
       "max     0.311413          0.397298          0.311413   \n",
       "\n",
       "       precision_glasses_binary_0  precision_glasses_binary_1  \n",
       "count                   27.000000                   18.000000  \n",
       "mean                     0.080242                    0.094800  \n",
       "std                      0.047054                    0.047754  \n",
       "min                      0.045034                    0.003469  \n",
       "25%                      0.055751                    0.069191  \n",
       "50%                      0.068877                    0.087387  \n",
       "75%                      0.088407                    0.112066  \n",
       "max                      0.297975                    0.215294  "
      ]
     },
     "execution_count": 89,
     "metadata": {},
     "output_type": "execute_result"
    }
   ],
   "source": [
    "data_subject = merge_by_subject(data_subject, data_trial_fix, 'precision')\n",
    "data_subject = separate_outcomes_by_condition(\n",
    "    data_subject, data_trial_fix, 'precision', 'chin')\n",
    "data_subject = separate_outcomes_by_condition(\n",
    "    data_subject, data_trial_fix, 'precision', 'glasses_binary')\n",
    "data_subject.loc[\n",
    "    :, \n",
    "    [\n",
    "        'precision', 'precision_chin_0', 'precision_chin_1',\n",
    "        'precision_glasses_binary_0', 'precision_glasses_binary_1'\n",
    "    ]\n",
    "].describe()"
   ]
  },
  {
   "cell_type": "markdown",
   "metadata": {},
   "source": [
    "In pixel"
   ]
  },
  {
   "cell_type": "code",
   "execution_count": 90,
   "metadata": {},
   "outputs": [
    {
     "data": {
      "text/html": [
       "<div>\n",
       "<style scoped>\n",
       "    .dataframe tbody tr th:only-of-type {\n",
       "        vertical-align: middle;\n",
       "    }\n",
       "\n",
       "    .dataframe tbody tr th {\n",
       "        vertical-align: top;\n",
       "    }\n",
       "\n",
       "    .dataframe thead th {\n",
       "        text-align: right;\n",
       "    }\n",
       "</style>\n",
       "<table border=\"1\" class=\"dataframe\">\n",
       "  <thead>\n",
       "    <tr style=\"text-align: right;\">\n",
       "      <th></th>\n",
       "      <th>precision_px</th>\n",
       "      <th>precision_px_chin_0</th>\n",
       "      <th>precision_px_chin_1</th>\n",
       "      <th>precision_px_glasses_binary_0</th>\n",
       "      <th>precision_px_glasses_binary_1</th>\n",
       "    </tr>\n",
       "  </thead>\n",
       "  <tbody>\n",
       "    <tr>\n",
       "      <th>count</th>\n",
       "      <td>47.000000</td>\n",
       "      <td>46.000000</td>\n",
       "      <td>47.000000</td>\n",
       "      <td>27.000000</td>\n",
       "      <td>18.000000</td>\n",
       "    </tr>\n",
       "    <tr>\n",
       "      <th>mean</th>\n",
       "      <td>99.237916</td>\n",
       "      <td>97.151001</td>\n",
       "      <td>95.143346</td>\n",
       "      <td>88.267673</td>\n",
       "      <td>99.971201</td>\n",
       "    </tr>\n",
       "    <tr>\n",
       "      <th>std</th>\n",
       "      <td>67.176131</td>\n",
       "      <td>63.914959</td>\n",
       "      <td>64.952455</td>\n",
       "      <td>53.727585</td>\n",
       "      <td>52.040777</td>\n",
       "    </tr>\n",
       "    <tr>\n",
       "      <th>min</th>\n",
       "      <td>5.245142</td>\n",
       "      <td>6.813137</td>\n",
       "      <td>3.677147</td>\n",
       "      <td>48.540134</td>\n",
       "      <td>5.245142</td>\n",
       "    </tr>\n",
       "    <tr>\n",
       "      <th>25%</th>\n",
       "      <td>63.462113</td>\n",
       "      <td>67.580829</td>\n",
       "      <td>58.580129</td>\n",
       "      <td>60.893646</td>\n",
       "      <td>70.778197</td>\n",
       "    </tr>\n",
       "    <tr>\n",
       "      <th>50%</th>\n",
       "      <td>78.840480</td>\n",
       "      <td>78.457396</td>\n",
       "      <td>80.963437</td>\n",
       "      <td>75.611353</td>\n",
       "      <td>87.398776</td>\n",
       "    </tr>\n",
       "    <tr>\n",
       "      <th>75%</th>\n",
       "      <td>106.523965</td>\n",
       "      <td>103.116344</td>\n",
       "      <td>103.586654</td>\n",
       "      <td>98.804469</td>\n",
       "      <td>123.056491</td>\n",
       "    </tr>\n",
       "    <tr>\n",
       "      <th>max</th>\n",
       "      <td>387.680822</td>\n",
       "      <td>446.535285</td>\n",
       "      <td>387.680822</td>\n",
       "      <td>325.185417</td>\n",
       "      <td>202.872690</td>\n",
       "    </tr>\n",
       "  </tbody>\n",
       "</table>\n",
       "</div>"
      ],
      "text/plain": [
       "       precision_px  precision_px_chin_0  precision_px_chin_1  \\\n",
       "count     47.000000            46.000000            47.000000   \n",
       "mean      99.237916            97.151001            95.143346   \n",
       "std       67.176131            63.914959            64.952455   \n",
       "min        5.245142             6.813137             3.677147   \n",
       "25%       63.462113            67.580829            58.580129   \n",
       "50%       78.840480            78.457396            80.963437   \n",
       "75%      106.523965           103.116344           103.586654   \n",
       "max      387.680822           446.535285           387.680822   \n",
       "\n",
       "       precision_px_glasses_binary_0  precision_px_glasses_binary_1  \n",
       "count                      27.000000                      18.000000  \n",
       "mean                       88.267673                      99.971201  \n",
       "std                        53.727585                      52.040777  \n",
       "min                        48.540134                       5.245142  \n",
       "25%                        60.893646                      70.778197  \n",
       "50%                        75.611353                      87.398776  \n",
       "75%                        98.804469                     123.056491  \n",
       "max                       325.185417                     202.872690  "
      ]
     },
     "execution_count": 90,
     "metadata": {},
     "output_type": "execute_result"
    }
   ],
   "source": [
    "data_subject = merge_by_subject(data_subject, data_trial_fix, 'precision_px')\n",
    "data_subject = separate_outcomes_by_condition(\n",
    "    data_subject, data_trial_fix, 'precision_px', 'chin')\n",
    "data_subject = separate_outcomes_by_condition(\n",
    "    data_subject, data_trial_fix, 'precision_px', 'glasses_binary')\n",
    "data_subject.loc[\n",
    "    :, \n",
    "    [\n",
    "        'precision_px', 'precision_px_chin_0', 'precision_px_chin_1',\n",
    "        'precision_px_glasses_binary_0', 'precision_px_glasses_binary_1'\n",
    "    ]\n",
    "].describe()"
   ]
  },
  {
   "cell_type": "markdown",
   "metadata": {},
   "source": [
    "# Main effect: chin-rest"
   ]
  },
  {
   "cell_type": "code",
   "execution_count": 91,
   "metadata": {},
   "outputs": [
    {
     "data": {
      "image/png": "[encoded data removed]",
      "text/plain": [
       "<Figure size 1080x432 with 2 Axes>"
      ]
     },
     "metadata": {
      "needs_background": "light"
     },
     "output_type": "display_data"
    }
   ],
   "source": [
    "fig, axes = plt.subplots(1, 2, sharey=True, figsize=(15,6))\n",
    "fig.suptitle('chinFirst==0 vs. chinFirst==1')\n",
    "\n",
    "sns.boxplot(ax=axes[0], x='chin', y='offset', data=data_trial_fix)\n",
    "sns.boxplot(ax=axes[1], x='chin', y='precision', data=data_trial_fix)\n",
    "   \n",
    "plt.show()"
   ]
  },
  {
   "cell_type": "code",
   "execution_count": 92,
   "metadata": {},
   "outputs": [
    {
     "data": {
      "text/html": [
       "<div>\n",
       "<style scoped>\n",
       "    .dataframe tbody tr th:only-of-type {\n",
       "        vertical-align: middle;\n",
       "    }\n",
       "\n",
       "    .dataframe tbody tr th {\n",
       "        vertical-align: top;\n",
       "    }\n",
       "\n",
       "    .dataframe thead th {\n",
       "        text-align: right;\n",
       "    }\n",
       "</style>\n",
       "<table border=\"1\" class=\"dataframe\">\n",
       "  <thead>\n",
       "    <tr style=\"text-align: right;\">\n",
       "      <th></th>\n",
       "      <th>index</th>\n",
       "      <th>mean</th>\n",
       "      <th>var</th>\n",
       "    </tr>\n",
       "  </thead>\n",
       "  <tbody>\n",
       "    <tr>\n",
       "      <th>0</th>\n",
       "      <td>offset_chin_0</td>\n",
       "      <td>0.190380</td>\n",
       "      <td>0.019981</td>\n",
       "    </tr>\n",
       "    <tr>\n",
       "      <th>1</th>\n",
       "      <td>offset_chin_1</td>\n",
       "      <td>0.205446</td>\n",
       "      <td>0.026976</td>\n",
       "    </tr>\n",
       "    <tr>\n",
       "      <th>2</th>\n",
       "      <td>precision_chin_0</td>\n",
       "      <td>0.089189</td>\n",
       "      <td>0.003005</td>\n",
       "    </tr>\n",
       "    <tr>\n",
       "      <th>3</th>\n",
       "      <td>precision_chin_1</td>\n",
       "      <td>0.087419</td>\n",
       "      <td>0.003297</td>\n",
       "    </tr>\n",
       "  </tbody>\n",
       "</table>\n",
       "</div>"
      ],
      "text/plain": [
       "              index      mean       var\n",
       "0     offset_chin_0  0.190380  0.019981\n",
       "1     offset_chin_1  0.205446  0.026976\n",
       "2  precision_chin_0  0.089189  0.003005\n",
       "3  precision_chin_1  0.087419  0.003297"
      ]
     },
     "execution_count": 92,
     "metadata": {},
     "output_type": "execute_result"
    }
   ],
   "source": [
    "means_0 = data_subject.loc[:, ['offset_chin_0', 'offset_chin_1', 'precision_chin_0', 'precision_chin_1']].mean() \\\n",
    "    .reset_index() \\\n",
    "    .rename(columns={0: 'mean'})\n",
    "var_0 = data_subject.loc[:, ['offset_chin_0', 'offset_chin_1', 'precision_chin_0', 'precision_chin_1']].var() \\\n",
    "    .reset_index() \\\n",
    "    .rename(columns={0: 'var'})\n",
    "means_0.merge(var_0, on='index', how='left')"
   ]
  },
  {
   "cell_type": "code",
   "execution_count": 93,
   "metadata": {},
   "outputs": [
    {
     "data": {
      "text/plain": [
       "Ttest_relResult(statistic=-0.03857746920153028, pvalue=0.9693979060967043)"
      ]
     },
     "execution_count": 93,
     "metadata": {},
     "output_type": "execute_result"
    }
   ],
   "source": [
    "test_data = data_subject.loc[\n",
    "    pd.notna(data_subject['offset_chin_0']) & \n",
    "    pd.notna(data_subject['offset_chin_1']), :]\n",
    "scipy.stats.ttest_rel(test_data['offset_chin_0'], test_data['offset_chin_1'])"
   ]
  },
  {
   "cell_type": "markdown",
   "metadata": {},
   "source": [
    "## Compare across chinFirst condition"
   ]
  },
  {
   "cell_type": "code",
   "execution_count": 94,
   "metadata": {
    "scrolled": false
   },
   "outputs": [
    {
     "data": {
      "image/png": "[encoded data removed]",
      "text/plain": [
       "<Figure size 1080x432 with 2 Axes>"
      ]
     },
     "metadata": {
      "needs_background": "light"
     },
     "output_type": "display_data"
    }
   ],
   "source": [
    "fig, axes = plt.subplots(1, 2, sharey=True, figsize=(15,6))\n",
    "fig.suptitle('Offset chinFirst==0 vs. chinFirst==1')\n",
    "\n",
    "sns.boxplot(ax=axes[0], x='chin', y='offset', \n",
    "            data=data_trial_fix.loc[data_trial_fix['chinFirst']==0, :])\n",
    "sns.boxplot(ax=axes[1], x='chin', y='offset', \n",
    "            data=data_trial_fix.loc[data_trial_fix['chinFirst']==1, :])\n",
    "   \n",
    "plt.show()"
   ]
  },
  {
   "cell_type": "code",
   "execution_count": 95,
   "metadata": {
    "scrolled": true
   },
   "outputs": [
    {
     "data": {
      "image/png": "[encoded data removed]",
      "text/plain": [
       "<Figure size 1080x432 with 2 Axes>"
      ]
     },
     "metadata": {
      "needs_background": "light"
     },
     "output_type": "display_data"
    }
   ],
   "source": [
    "fig, axes = plt.subplots(1, 2, sharey=True, figsize=(15,6))\n",
    "fig.suptitle('precision chinFirst==0 vs. chinFirst==1')\n",
    "\n",
    "sns.boxplot(ax=axes[0], x='chin', y='precision', \n",
    "            data=data_trial_fix.loc[data_trial_fix['chinFirst']==0, :])\n",
    "sns.boxplot(ax=axes[1], x='chin', y='precision', \n",
    "            data=data_trial_fix.loc[data_trial_fix['chinFirst']==1, :])\n",
    "   \n",
    "plt.show()"
   ]
  },
  {
   "cell_type": "markdown",
   "metadata": {},
   "source": [
    "## Compare across fixation dot positions"
   ]
  },
  {
   "cell_type": "code",
   "execution_count": 96,
   "metadata": {
    "scrolled": true
   },
   "outputs": [
    {
     "name": "stdout",
     "output_type": "stream",
     "text": [
      "chin\n",
      "positionIndex           4.000000\n",
      "offset_chin_0           0.190380\n",
      "offset_chin_1           0.205446\n",
      "offset_var_chin_0       0.026298\n",
      "offset_var_chin_1       0.036035\n",
      "precision_chin_0        0.089189\n",
      "precision_chin_1        0.087419\n",
      "precision_var_chin_0    0.003923\n",
      "precision_var_chin_1    0.004838\n",
      "dtype: float64\n"
     ]
    },
    {
     "name": "stderr",
     "output_type": "stream",
     "text": [
      "<ipython-input-96-15d38b239ff3>:1: FutureWarning: Indexing with multiple keys (implicitly converted to a tuple of keys) will be deprecated, use a list instead.\n",
      "  grouped_var = data_trial_fix.groupby(['positionIndex', 'chin']) \\\n",
      "<ipython-input-96-15d38b239ff3>:6: FutureWarning: Indexing with multiple keys (implicitly converted to a tuple of keys) will be deprecated, use a list instead.\n",
      "  grouped_means = data_trial_fix.groupby(['positionIndex', 'chin']) \\\n"
     ]
    },
    {
     "data": {
      "text/html": [
       "<div>\n",
       "<style scoped>\n",
       "    .dataframe tbody tr th:only-of-type {\n",
       "        vertical-align: middle;\n",
       "    }\n",
       "\n",
       "    .dataframe tbody tr th {\n",
       "        vertical-align: top;\n",
       "    }\n",
       "\n",
       "    .dataframe thead th {\n",
       "        text-align: right;\n",
       "    }\n",
       "</style>\n",
       "<table border=\"1\" class=\"dataframe\">\n",
       "  <thead>\n",
       "    <tr style=\"text-align: right;\">\n",
       "      <th>chin</th>\n",
       "      <th>positionIndex</th>\n",
       "      <th>offset_chin_0</th>\n",
       "      <th>offset_chin_1</th>\n",
       "      <th>offset_var_chin_0</th>\n",
       "      <th>offset_var_chin_1</th>\n",
       "      <th>precision_chin_0</th>\n",
       "      <th>precision_chin_1</th>\n",
       "      <th>precision_var_chin_0</th>\n",
       "      <th>precision_var_chin_1</th>\n",
       "    </tr>\n",
       "  </thead>\n",
       "  <tbody>\n",
       "    <tr>\n",
       "      <th>0</th>\n",
       "      <td>0</td>\n",
       "      <td>0.212681</td>\n",
       "      <td>0.206952</td>\n",
       "      <td>0.019771</td>\n",
       "      <td>0.023893</td>\n",
       "      <td>0.108535</td>\n",
       "      <td>0.097390</td>\n",
       "      <td>0.007779</td>\n",
       "      <td>0.004641</td>\n",
       "    </tr>\n",
       "    <tr>\n",
       "      <th>1</th>\n",
       "      <td>1</td>\n",
       "      <td>0.186429</td>\n",
       "      <td>0.188880</td>\n",
       "      <td>0.016925</td>\n",
       "      <td>0.016654</td>\n",
       "      <td>0.088216</td>\n",
       "      <td>0.084560</td>\n",
       "      <td>0.003806</td>\n",
       "      <td>0.002932</td>\n",
       "    </tr>\n",
       "    <tr>\n",
       "      <th>2</th>\n",
       "      <td>2</td>\n",
       "      <td>0.237345</td>\n",
       "      <td>0.198759</td>\n",
       "      <td>0.044362</td>\n",
       "      <td>0.027080</td>\n",
       "      <td>0.102584</td>\n",
       "      <td>0.097364</td>\n",
       "      <td>0.002775</td>\n",
       "      <td>0.003456</td>\n",
       "    </tr>\n",
       "    <tr>\n",
       "      <th>3</th>\n",
       "      <td>3</td>\n",
       "      <td>0.180230</td>\n",
       "      <td>0.190445</td>\n",
       "      <td>0.017416</td>\n",
       "      <td>0.024278</td>\n",
       "      <td>0.083238</td>\n",
       "      <td>0.090344</td>\n",
       "      <td>0.003145</td>\n",
       "      <td>0.005619</td>\n",
       "    </tr>\n",
       "    <tr>\n",
       "      <th>4</th>\n",
       "      <td>4</td>\n",
       "      <td>0.145351</td>\n",
       "      <td>0.149788</td>\n",
       "      <td>0.016337</td>\n",
       "      <td>0.016073</td>\n",
       "      <td>0.076035</td>\n",
       "      <td>0.079430</td>\n",
       "      <td>0.003320</td>\n",
       "      <td>0.006920</td>\n",
       "    </tr>\n",
       "    <tr>\n",
       "      <th>5</th>\n",
       "      <td>5</td>\n",
       "      <td>0.165599</td>\n",
       "      <td>0.212195</td>\n",
       "      <td>0.025494</td>\n",
       "      <td>0.052521</td>\n",
       "      <td>0.086170</td>\n",
       "      <td>0.080188</td>\n",
       "      <td>0.002584</td>\n",
       "      <td>0.002465</td>\n",
       "    </tr>\n",
       "    <tr>\n",
       "      <th>6</th>\n",
       "      <td>6</td>\n",
       "      <td>0.215679</td>\n",
       "      <td>0.257955</td>\n",
       "      <td>0.028061</td>\n",
       "      <td>0.043950</td>\n",
       "      <td>0.093786</td>\n",
       "      <td>0.088554</td>\n",
       "      <td>0.004368</td>\n",
       "      <td>0.005785</td>\n",
       "    </tr>\n",
       "    <tr>\n",
       "      <th>7</th>\n",
       "      <td>7</td>\n",
       "      <td>0.163416</td>\n",
       "      <td>0.211253</td>\n",
       "      <td>0.027833</td>\n",
       "      <td>0.055529</td>\n",
       "      <td>0.077045</td>\n",
       "      <td>0.083791</td>\n",
       "      <td>0.002911</td>\n",
       "      <td>0.005921</td>\n",
       "    </tr>\n",
       "    <tr>\n",
       "      <th>8</th>\n",
       "      <td>8</td>\n",
       "      <td>0.206689</td>\n",
       "      <td>0.232788</td>\n",
       "      <td>0.040487</td>\n",
       "      <td>0.064336</td>\n",
       "      <td>0.087096</td>\n",
       "      <td>0.085149</td>\n",
       "      <td>0.004623</td>\n",
       "      <td>0.005802</td>\n",
       "    </tr>\n",
       "  </tbody>\n",
       "</table>\n",
       "</div>"
      ],
      "text/plain": [
       "chin  positionIndex  offset_chin_0  offset_chin_1  offset_var_chin_0  \\\n",
       "0                 0       0.212681       0.206952           0.019771   \n",
       "1                 1       0.186429       0.188880           0.016925   \n",
       "2                 2       0.237345       0.198759           0.044362   \n",
       "3                 3       0.180230       0.190445           0.017416   \n",
       "4                 4       0.145351       0.149788           0.016337   \n",
       "5                 5       0.165599       0.212195           0.025494   \n",
       "6                 6       0.215679       0.257955           0.028061   \n",
       "7                 7       0.163416       0.211253           0.027833   \n",
       "8                 8       0.206689       0.232788           0.040487   \n",
       "\n",
       "chin  offset_var_chin_1  precision_chin_0  precision_chin_1  \\\n",
       "0              0.023893          0.108535          0.097390   \n",
       "1              0.016654          0.088216          0.084560   \n",
       "2              0.027080          0.102584          0.097364   \n",
       "3              0.024278          0.083238          0.090344   \n",
       "4              0.016073          0.076035          0.079430   \n",
       "5              0.052521          0.086170          0.080188   \n",
       "6              0.043950          0.093786          0.088554   \n",
       "7              0.055529          0.077045          0.083791   \n",
       "8              0.064336          0.087096          0.085149   \n",
       "\n",
       "chin  precision_var_chin_0  precision_var_chin_1  \n",
       "0                 0.007779              0.004641  \n",
       "1                 0.003806              0.002932  \n",
       "2                 0.002775              0.003456  \n",
       "3                 0.003145              0.005619  \n",
       "4                 0.003320              0.006920  \n",
       "5                 0.002584              0.002465  \n",
       "6                 0.004368              0.005785  \n",
       "7                 0.002911              0.005921  \n",
       "8                 0.004623              0.005802  "
      ]
     },
     "execution_count": 96,
     "metadata": {},
     "output_type": "execute_result"
    }
   ],
   "source": [
    "grouped_var = data_trial_fix.groupby(['positionIndex', 'chin']) \\\n",
    "    ['offset', 'precision'].var() \\\n",
    "    .rename(columns={'offset': 'offset_var', 'precision':'precision_var'}) \\\n",
    "    .reset_index()\n",
    "\n",
    "grouped_means = data_trial_fix.groupby(['positionIndex', 'chin']) \\\n",
    "    ['offset', 'precision'].mean() \\\n",
    "    .reset_index()\n",
    "\n",
    "grouped = grouped_means.merge(grouped_var, on=['positionIndex', 'chin'], how='left')\n",
    "\n",
    "grouped_offset = grouped.loc[:, ['positionIndex', 'chin', 'offset']] \\\n",
    "    .set_index(['positionIndex']) \\\n",
    "    .pivot(columns=\"chin\")['offset'] \\\n",
    "    .reset_index() \\\n",
    "    .rename(columns={0.0: 'offset_chin_0', 1.0: 'offset_chin_1'}) \n",
    "\n",
    "grouped_offset_var = grouped.loc[:, ['positionIndex', 'chin', 'offset_var']] \\\n",
    "    .set_index(['positionIndex']) \\\n",
    "    .pivot(columns=\"chin\")['offset_var'] \\\n",
    "    .reset_index() \\\n",
    "    .rename(columns={0.0: 'offset_var_chin_0', 1.0: 'offset_var_chin_1'}) \n",
    "\n",
    "grouped_precision = grouped.loc[:, ['positionIndex', 'chin', 'precision']] \\\n",
    "    .set_index(['positionIndex']) \\\n",
    "    .pivot(columns=\"chin\")['precision'] \\\n",
    "    .reset_index() \\\n",
    "    .rename(columns={0.0: 'precision_chin_0', 1.0: 'precision_chin_1'}) \n",
    "\n",
    "grouped_precision_var = grouped.loc[:, ['positionIndex', 'chin', 'precision_var']] \\\n",
    "    .set_index(['positionIndex']) \\\n",
    "    .pivot(columns=\"chin\")['precision_var'] \\\n",
    "    .reset_index() \\\n",
    "    .rename(columns={0.0: 'precision_var_chin_0', 1.0: 'precision_var_chin_1'}) \n",
    "\n",
    "overview = pd.concat(\n",
    "    [\n",
    "        grouped_offset,\n",
    "        grouped_offset_var.iloc[:, 1:3],\n",
    "        grouped_precision.iloc[:, 1:3], \n",
    "        grouped_precision_var.iloc[:, 1:3]\n",
    "    ], \n",
    "    axis=1\n",
    ")\n",
    "\n",
    "print(overview.mean(numeric_only=True))\n",
    "overview"
   ]
  },
  {
   "cell_type": "markdown",
   "metadata": {},
   "source": [
    "# Main effect: Visual Aid"
   ]
  },
  {
   "cell_type": "markdown",
   "metadata": {},
   "source": [
    "## Compare on subject-level"
   ]
  },
  {
   "cell_type": "code",
   "execution_count": null,
   "metadata": {},
   "outputs": [],
   "source": [
    "for col in ['glasses', 'sight']:\n",
    "    print(pd.crosstab(index=data_subject[col], columns=\"count\"))\n",
    "    print('\\n')"
   ]
  },
  {
   "cell_type": "code",
   "execution_count": null,
   "metadata": {},
   "outputs": [],
   "source": [
    "data_subject['glasses_binary'] = data_subject['sight'] \\\n",
    "    .replace({'contactLenses': 1, \n",
    "             'glasses': 1,\n",
    "             'notCorrected': 0,\n",
    "             'perfectSight': 0}\n",
    "           )\n",
    "data_subject['glasses_binary'].unique()"
   ]
  },
  {
   "cell_type": "code",
   "execution_count": null,
   "metadata": {},
   "outputs": [],
   "source": [
    "fig, axes = plt.subplots(1, 2, sharey=True, figsize=(15,6))\n",
    "fig.suptitle('glasses and sight')\n",
    "\n",
    "sns.boxplot(ax=axes[0], x='glasses_binary', y='offset', data=data_subject)\n",
    "sns.boxplot(ax=axes[1], x='sight', y='offset', data=data_subject)\n",
    "   \n",
    "plt.show()"
   ]
  },
  {
   "cell_type": "markdown",
   "metadata": {},
   "source": [
    "## Fixation dot positions"
   ]
  },
  {
   "cell_type": "code",
   "execution_count": null,
   "metadata": {
    "scrolled": true
   },
   "outputs": [],
   "source": [
    "if 'glasses_binary' in data_trial_fix.columns: \n",
    "    data_trial_fix = data_trial_fix.drop(columns=['glasses_binary'])\n",
    "data_trial_fix = data_trial_fix.merge(\n",
    "    data_subject.loc[:, ['run_id', 'glasses_binary', 'sight']],\n",
    "    on='run_id',\n",
    "    how='left'\n",
    ")\n",
    "grouped_var = data_trial_fix.groupby(['positionIndex', 'glasses_binary']) \\\n",
    "    ['offset', 'precision'].var() \\\n",
    "    .rename(columns={'offset': 'offset_var', 'precision':'precision_var'}) \\\n",
    "    .reset_index()\n",
    "\n",
    "grouped_means = data_trial_fix.groupby(['positionIndex', 'glasses_binary']) \\\n",
    "    ['offset', 'precision'].mean() \\\n",
    "    .reset_index()\n",
    "\n",
    "grouped = grouped_means.merge(grouped_var, on=['positionIndex', 'glasses_binary'], how='left')\n",
    "\n",
    "grouped_offset = grouped.loc[:, ['positionIndex', 'glasses_binary', 'offset']] \\\n",
    "    .set_index(['positionIndex']) \\\n",
    "    .pivot(columns=\"glasses_binary\")['offset'] \\\n",
    "    .reset_index() \\\n",
    "    .rename(columns={0.0: 'offset_glasses_0', 1.0: 'offset_glasses_1'}) \n",
    "\n",
    "grouped_offset_var = grouped.loc[:, ['positionIndex', 'glasses_binary', 'offset_var']] \\\n",
    "    .set_index(['positionIndex']) \\\n",
    "    .pivot(columns=\"glasses_binary\")['offset_var'] \\\n",
    "    .reset_index() \\\n",
    "    .rename(columns={0.0: 'offset_var_glasses_0', 1.0: 'offset_var_glasses_1'}) \n",
    "\n",
    "grouped_precision = grouped.loc[:, ['positionIndex', 'glasses_binary', 'precision']] \\\n",
    "    .set_index(['positionIndex']) \\\n",
    "    .pivot(columns=\"glasses_binary\")['precision'] \\\n",
    "    .reset_index() \\\n",
    "    .rename(columns={0.0: 'precision_glasses_0', 1.0: 'precision_glasses_1'}) \n",
    "\n",
    "grouped_precision_var = grouped.loc[:, ['positionIndex', 'glasses_binary', 'precision_var']] \\\n",
    "    .set_index(['positionIndex']) \\\n",
    "    .pivot(columns=\"glasses_binary\")['precision_var'] \\\n",
    "    .reset_index() \\\n",
    "    .rename(columns={0.0: 'precision_var_glasses_0', 1.0: 'precision_var_glasses_1'}) \n",
    "\n",
    "overview = pd.concat(\n",
    "    [\n",
    "        grouped_offset,\n",
    "        grouped_offset_var.iloc[:, 1:3],\n",
    "        grouped_precision.iloc[:, 1:3], \n",
    "        grouped_precision_var.iloc[:, 1:3]\n",
    "    ], \n",
    "    axis=1\n",
    ")\n",
    "\n",
    "print(overview.mean(numeric_only=True))\n",
    "overview"
   ]
  },
  {
   "cell_type": "markdown",
   "metadata": {},
   "source": [
    "# Gaze predictions"
   ]
  },
  {
   "cell_type": "markdown",
   "metadata": {},
   "source": [
    "## For each position"
   ]
  },
  {
   "cell_type": "code",
   "execution_count": null,
   "metadata": {
    "scrolled": true
   },
   "outputs": [],
   "source": [
    "data_plot = add_var_to_data_et(data_et_fix, data_trial, 'chin')\n",
    "data_plot = data_plot.loc[\n",
    "    (data_plot['run_id']==43) & \n",
    "    (data_plot['chin']==0), :]\n",
    "\n",
    "fig, axes = plt.subplots(nrows=3, ncols=3, figsize=(18, 12))\n",
    "axes = axes.ravel()\n",
    "xPos = [0.2, 0.5, 0.8, 0.2, 0.5, 0.8, 0.2, 0.5, 0.8]\n",
    "yPos = [0.2, 0.2, 0.2, 0.5, 0.5, 0.5, 0.8, 0.8, 0.8]\n",
    "for i in range(0, 9):\n",
    "    axes_data = data_plot.loc[(data_plot['x_pos']==xPos[i]) & (data_plot['y_pos']==yPos[i]), :]\n",
    "    im = axes[i].scatter(\n",
    "        axes_data['x'], \n",
    "        axes_data['y'], \n",
    "        c=axes_data['t_task'], \n",
    "        cmap='viridis'\n",
    "    )\n",
    "    axes[i].set_ylim(1, 0)\n",
    "    axes[i].set_xlim(0, 1)\n",
    "    \n",
    "fig.colorbar(im, ax=axes)\n",
    "plt.show()"
   ]
  },
  {
   "cell_type": "markdown",
   "metadata": {},
   "source": [
    "## Heatmap"
   ]
  },
  {
   "cell_type": "code",
   "execution_count": null,
   "metadata": {},
   "outputs": [],
   "source": [
    "import numpy as np\n",
    "import matplotlib.pyplot as plt\n",
    "import matplotlib.cm as cm\n",
    "from scipy.ndimage.filters import gaussian_filter\n",
    "\n",
    "x = data_et_fix['x']\n",
    "y = data_et_fix['y']\n",
    "\n",
    "def myplot(x, y, s, bins=[1200, 675]):\n",
    "    heatmap, xedges, yedges = np.histogram2d(x, y, bins=bins)\n",
    "    heatmap = gaussian_filter(heatmap, sigma=s)\n",
    "    extent = [xedges[0], xedges[-1], yedges[-1], yedges[0]]\n",
    "    return heatmap.T, extent\n",
    "\n",
    "s=34\n",
    "img, extent = myplot(x, y, s=s)\n",
    "\n",
    "plt.figure(figsize=(7, 7))\n",
    "plt.imshow(img, extent=extent, origin='upper', cmap=cm.Greens, aspect=(9/16))\n",
    "plt.title(\"Distribution of fixations after 1 second, $\\sigma$ = %d\" % s)\n",
    "\n",
    "\n",
    "xPos = [0.2, 0.5, 0.8, 0.2, 0.5, 0.8, 0.2, 0.5, 0.8]\n",
    "yPos = [0.2, 0.2, 0.2, 0.5, 0.5, 0.5, 0.8, 0.8, 0.8]\n",
    "for i in range(0, len(xPos)):\n",
    "    plt.text(xPos[i], yPos[i], '+', size=12, ha=\"center\")\n",
    "\n",
    "plt.show()\n",
    "plt.savefig('plots/fix_heatmap.png')"
   ]
  },
  {
   "cell_type": "markdown",
   "metadata": {},
   "source": [
    "# Calibration: data quality development"
   ]
  },
  {
   "cell_type": "code",
   "execution_count": null,
   "metadata": {},
   "outputs": [],
   "source": [
    "data_et_calibration = data_et.loc[data_et['trial_type']=='eyetracking-calibration', :]\n",
    "data_trial_calibration = data_trial.loc[data_trial['trial_type']=='eyetracking-calibration', :]"
   ]
  },
  {
   "cell_type": "markdown",
   "metadata": {},
   "source": [
    "## offset"
   ]
  },
  {
   "cell_type": "code",
   "execution_count": null,
   "metadata": {},
   "outputs": [],
   "source": [
    "def spaghettiPlot(data, xVar, yVar, highlightedSubject):\n",
    "    plt.style.use('seaborn-darkgrid')\n",
    "    fig, ax = plt.subplots(figsize=(13, 9))\n",
    "\n",
    "    # Draw Plots\n",
    "    for subject in data[\"run_id\"].unique():\n",
    "        ax.plot(data.loc[data['run_id']==subject, xVar], \n",
    "                data.loc[data['run_id']==subject, yVar], \n",
    "                marker='', color='grey', linewidth=1, alpha=0.4)\n",
    "\n",
    "    # Highlight Subject \n",
    "    ax.plot(data.loc[data['run_id']==highlightedSubject, xVar], \n",
    "            data.loc[data['run_id']==highlightedSubject, yVar], \n",
    "            marker='', color='orange', linewidth=4, alpha=0.7)\n",
    "\n",
    "    # Let's annotate the plot\n",
    "    for subject in data[\"run_id\"].unique():\n",
    "        if subject != highlightedSubject:\n",
    "            ax.text(data.loc[data['run_id']==subject, xVar].max()+1, \n",
    "                    data.loc[data['run_id']==subject, yVar].tail(1),\n",
    "                    s=subject, horizontalalignment='left', size='small', color='grey')\n",
    "\n",
    "        else:\n",
    "            ax.text(data.loc[data['run_id']==subject, xVar].max()+1, \n",
    "                    data.loc[data['run_id']==subject, yVar].tail(1),\n",
    "                    s=subject, horizontalalignment='left', size='small', color='orange')\n",
    "    return plt\n",
    "\n",
    "spaghettiPlot(\n",
    "    data_trial_calibration.loc[data_trial_calibration['chin']==0, :], \n",
    "    'withinTaskIndex', 'offset', 103)\n",
    "plt.ylim(0, 1)\n",
    "plt.title('Offset across calibration for chin==0', loc='center', fontsize=12, fontweight=0, color='grey')\n",
    "plt.xlabel('withinTaskIndex')\n",
    "plt.ylabel('Offset')\n",
    "\n",
    "plt.show()"
   ]
  },
  {
   "cell_type": "code",
   "execution_count": null,
   "metadata": {
    "scrolled": true
   },
   "outputs": [],
   "source": [
    "spaghettiPlot(\n",
    "    data_trial_calibration.loc[data_trial_calibration['chin']==1, :], \n",
    "    'withinTaskIndex', 'offset', 103)\n",
    "plt.ylim(0, 1)\n",
    "plt.title('Offset across calibration for chin==1', loc='center', fontsize=12, fontweight=0, color='grey')\n",
    "plt.xlabel('withinTaskIndex')\n",
    "plt.ylabel('Offset')\n",
    "\n",
    "plt.show()"
   ]
  },
  {
   "cell_type": "markdown",
   "metadata": {},
   "source": [
    "## Precision"
   ]
  },
  {
   "cell_type": "code",
   "execution_count": null,
   "metadata": {},
   "outputs": [],
   "source": [
    "spaghettiPlot(\n",
    "    data_trial_calibration.loc[data_trial_calibration['chin']==0, :], \n",
    "    'withinTaskIndex', 'precision', 103)\n",
    "plt.ylim(0, 1)\n",
    "plt.title('Precision across calibration for chin==0', loc='center', fontsize=12, fontweight=0, color='grey')\n",
    "plt.xlabel('withinTaskIndex')\n",
    "plt.ylabel('Precision')\n",
    "\n",
    "plt.show()"
   ]
  },
  {
   "cell_type": "code",
   "execution_count": null,
   "metadata": {},
   "outputs": [],
   "source": [
    "spaghettiPlot(\n",
    "    data_trial_calibration.loc[data_trial_calibration['chin']==1, :], \n",
    "    'withinTaskIndex', 'precision', 103)\n",
    "plt.ylim(0, 1)\n",
    "plt.title('Precision across calibration for chin==0', loc='center', fontsize=12, fontweight=0, color='grey')\n",
    "plt.xlabel('withinTaskIndex')\n",
    "plt.ylabel('Precision')\n",
    "\n",
    "plt.show()"
   ]
  },
  {
   "cell_type": "markdown",
   "metadata": {},
   "source": [
    "## categorical confounders"
   ]
  },
  {
   "cell_type": "code",
   "execution_count": null,
   "metadata": {},
   "outputs": [],
   "source": [
    "fig, axes = plt.subplots(1, 4, sharey=True, figsize=(3*5, 6))\n",
    "fig.suptitle('Subject properties vs. choice outcomes')\n",
    "\n",
    "predictors = [\n",
    "    'vertPosition',\n",
    "    'gender',\n",
    "    'ethnic', \n",
    "    'degree'\n",
    "             ]  \n",
    "for i in range(0, len(predictors)):\n",
    "    sns.boxplot(ax=axes[i], x=predictors[i], y='offset', data=data_subject)"
   ]
  },
  {
   "cell_type": "code",
   "execution_count": null,
   "metadata": {},
   "outputs": [],
   "source": [
    "fig, axes = plt.subplots(1, 4, sharey=True, figsize=(3*5, 6))\n",
    "fig.suptitle('Subject properties vs. choice outcomes')\n",
    "\n",
    "predictors = [\n",
    "    'vertPosition',\n",
    "    'gender',\n",
    "    'ethnic', \n",
    "    'degree'\n",
    "             ]  \n",
    "for i in range(0, len(predictors)):\n",
    "    sns.boxplot(ax=axes[i], x=predictors[i], y='precision', data=data_subject)"
   ]
  },
  {
   "cell_type": "markdown",
   "metadata": {},
   "source": [
    "# Correlation Plot"
   ]
  },
  {
   "cell_type": "code",
   "execution_count": null,
   "metadata": {},
   "outputs": [],
   "source": [
    "data_plot = data_trial_fix.merge(data_subject.loc[:, ['run_id', 'age']], on='run_id', how='left')\n",
    "correlation_columns = ['positionIndex', 'withinTaskIndex', 'age', 'fps', 'offset', 'precision']\n",
    "sns.pairplot(data_plot.loc[:, np.append(correlation_columns, ['chin'])], hue='chin')"
   ]
  },
  {
   "cell_type": "code",
   "execution_count": null,
   "metadata": {},
   "outputs": [],
   "source": [
    "corr_matrix = np.corrcoef(data_plot[correlation_columns].T)\n",
    "smg.plot_corr(corr_matrix, xnames=correlation_columns)\n",
    "plt.show()"
   ]
  },
  {
   "cell_type": "code",
   "execution_count": null,
   "metadata": {
    "scrolled": false
   },
   "outputs": [],
   "source": [
    "data_plot[correlation_columns].rcorr()"
   ]
  },
  {
   "cell_type": "code",
   "execution_count": null,
   "metadata": {
    "scrolled": true
   },
   "outputs": [],
   "source": [
    "data_plot[correlation_columns].rcorr(upper='n')"
   ]
  },
  {
   "cell_type": "markdown",
   "metadata": {},
   "source": [
    "# MLA Model"
   ]
  },
  {
   "cell_type": "code",
   "execution_count": null,
   "metadata": {
    "scrolled": true
   },
   "outputs": [],
   "source": [
    "data_plot = data_trial_fix.loc[:, ['run_id', 'chin', 'x_pos', 'y_pos', 'precision']]\n",
    "null_data = data_plot.loc[data_plot.isnull().any(axis=1), :]\n",
    "data_plot = data_plot.loc[pd.notna(data_plot['precision']), :].reset_index(drop=True)\n",
    "data_plot.loc[data_plot.isnull().any(axis=1), :]\n",
    "model = smf.mixedlm(\"precision ~ x_pos\", data_plot, groups=data_plot[\"run_id\"])\n",
    "model_fit = model.fit()\n",
    "print(model_fit.summary())"
   ]
  },
  {
   "cell_type": "markdown",
   "metadata": {},
   "source": [
    "# Export"
   ]
  },
  {
   "cell_type": "code",
   "execution_count": null,
   "metadata": {},
   "outputs": [],
   "source": [
    "data_et_calibration.to_csv(\"data_jupyter/data_et_calibration.csv\", index=False, header=True)\n",
    "data_trial_calibration.to_csv(\"data_jupyter/data_trial_calibration.csv\", index=False, header=True)\n",
    "\n",
    "data_et_fix.to_csv(\"data_jupyter/data_et_fix.csv\", index=False, header=True)\n",
    "data_trial_fix.to_csv(\"data_jupyter/data_trial_fix.csv\", index=False, header=True)\n",
    "\n",
    "data_subject.to_csv(\"data_jupyter/data_subject.csv\", index=False, header=True)"
   ]
  },
  {
   "cell_type": "markdown",
   "metadata": {},
   "source": [
    "# Feedback"
   ]
  },
  {
   "cell_type": "code",
   "execution_count": null,
   "metadata": {},
   "outputs": [],
   "source": [
    "print('Success! Script ran through')"
   ]
  }
 ],
 "metadata": {
  "kernelspec": {
   "display_name": "Python 3",
   "language": "python",
   "name": "python3"
  },
  "language_info": {
   "codemirror_mode": {
    "name": "ipython",
    "version": 3
   },
   "file_extension": ".py",
   "mimetype": "text/x-python",
   "name": "python",
   "nbconvert_exporter": "python",
   "pygments_lexer": "ipython3",
   "version": "3.8.5"
  },
  "toc": {
   "base_numbering": 1,
   "nav_menu": {
    "height": "419px",
    "width": "245.2px"
   },
   "number_sections": true,
   "sideBar": true,
   "skip_h1_title": false,
   "title_cell": "Table of Contents",
   "title_sidebar": "Contents",
   "toc_cell": false,
   "toc_position": {
    "height": "calc(100% - 180px)",
    "left": "10px",
    "top": "150px",
    "width": "265.467px"
   },
   "toc_section_display": true,
   "toc_window_display": false
  }
 },
 "nbformat": 4,
 "nbformat_minor": 4
}
