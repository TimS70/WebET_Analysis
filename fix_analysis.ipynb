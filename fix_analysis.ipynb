{
 "cells": [
  {
   "cell_type": "code",
   "execution_count": 87,
   "metadata": {},
   "outputs": [
    {
     "name": "stdout",
     "output_type": "stream",
     "text": [
      "Current Working directory  C:\\Users\\User\\GitHub\\WebET_Analysis\n"
     ]
    }
   ],
   "source": [
    "import numpy as np\n",
    "import math\n",
    "import matplotlib.pyplot as plt\n",
    "from matplotlib import gridspec\n",
    "import os\n",
    "import pandas as pd\n",
    "import pingouin as pg\n",
    "import seaborn as sns\n",
    "import scipy\n",
    "from sklearn.cluster import KMeans\n",
    "from sklearn.linear_model import LogisticRegression\n",
    "from sklearn.metrics import classification_report, confusion_matrix\n",
    "from sklearn.metrics import silhouette_score\n",
    "from sklearn.preprocessing import StandardScaler\n",
    "import statsmodels.api as sm \n",
    "import statsmodels.formula.api as smf\n",
    "import statsmodels.graphics.api as smg\n",
    "import sys\n",
    "\n",
    "if sys.version_info[0] < 3: \n",
    "    from StringIO import StringIO\n",
    "else:\n",
    "    from io import StringIO\n",
    "    \n",
    "from IPython.display import HTML\n",
    "def View(df):\n",
    "    css = \"\"\"<style>\n",
    "    table { border-collapse: collapse; border: 3px solid #eee; }\n",
    "    table tr th:first-child { background-color: #eeeeee; color: #333; font-weight: bold }\n",
    "    table thead th { background-color: #eee; color: #000; }\n",
    "    tr, th, td { border: 1px solid #ccc; border-width: 1px 0 0 1px; border-collapse: collapse;\n",
    "    padding: 3px; font-family: monospace; font-size: 10px }</style>\n",
    "    \"\"\"\n",
    "    s  = '<script type=\"text/Javascript\">'\n",
    "    s += 'var win = window.open(\"\", \"Title\", \"toolbar=no, location=no, directories=no, status=no, menubar=no, scrollbars=yes, resizable=yes, width=780, height=200, top=\"+(screen.height-400)+\", left=\"+(screen.width-840));'\n",
    "    s += 'win.document.body.innerHTML = \\'' + (df.to_html() + css).replace(\"\\n\",'\\\\') + '\\';'\n",
    "    s += '</script>'\n",
    "    return(HTML(s+css))    \n",
    "    \n",
    "print(\"Current Working directory \" , os.getcwd())"
   ]
  },
  {
   "cell_type": "code",
   "execution_count": 3,
   "metadata": {},
   "outputs": [],
   "source": [
    "# from IPython.display import HTML\n",
    "\n",
    "# HTML('''<script>\n",
    "# code_show=true; \n",
    "# function code_toggle() {\n",
    "#  if (code_show){\n",
    "#  $('div.input').hide();\n",
    "#  } else {\n",
    "#  $('div.input').show();\n",
    "#  }\n",
    "#  code_show = !code_show\n",
    "# } \n",
    "# $( document ).ready(code_toggle);\n",
    "# </script>\n",
    "# <form action=\"javascript:code_toggle()\"><input type=\"submit\" value=\"Click here to toggle on/off the raw code.\"></form>''')"
   ]
  },
  {
   "cell_type": "markdown",
   "metadata": {},
   "source": [
    "# Read data"
   ]
  },
  {
   "cell_type": "code",
   "execution_count": 47,
   "metadata": {
    "scrolled": true
   },
   "outputs": [
    {
     "name": "stdout",
     "output_type": "stream",
     "text": [
      "              length\n",
      "data_et       618566\n",
      "data_trial     30362\n",
      "data_subject      84\n"
     ]
    }
   ],
   "source": [
    "data_et = pd.read_csv(r'C:/Users/User/GitHub/WebET_Analysis/data_jupyter/data_et.csv')\n",
    "data_trial = pd.read_csv(r'C:/Users/User/GitHub/WebET_Analysis/data_jupyter/data_trial.csv')\n",
    "data_subject = pd.read_csv(r'C:/Users/User/GitHub/WebET_Analysis/data_jupyter/data_subject.csv')\n",
    "\n",
    "overview = pd.DataFrame(\n",
    "    [\n",
    "        [len(data_et)],\n",
    "        [len(data_trial)],\n",
    "        [len(data_subject)]\n",
    "    ], \n",
    "    columns=['length'],\n",
    "    index=[\n",
    "        'data_et', \n",
    "        'data_trial', \n",
    "        'data_subject'\n",
    "          ]\n",
    ")\n",
    "print(overview)"
   ]
  },
  {
   "cell_type": "markdown",
   "metadata": {},
   "source": [
    "# Cleaning"
   ]
  },
  {
   "cell_type": "markdown",
   "metadata": {},
   "source": [
    "## data_subject variables"
   ]
  },
  {
   "cell_type": "code",
   "execution_count": 48,
   "metadata": {},
   "outputs": [],
   "source": [
    "data_subject['degree'] = data_subject['degree'].replace({'0': np.nan, '-3.0': np.nan})\n",
    "data_subject['webcam_fps'] = np.round(data_subject['webcam_fps'])"
   ]
  },
  {
   "cell_type": "markdown",
   "metadata": {},
   "source": [
    "## Enough trials?"
   ]
  },
  {
   "cell_type": "code",
   "execution_count": 49,
   "metadata": {
    "scrolled": true
   },
   "outputs": [
    {
     "name": "stdout",
     "output_type": "stream",
     "text": [
      "These subjects do not have enough trials: \n",
      "    run_id  trial_index\n",
      "27      61        271.0\n",
      "46     125         15.0\n",
      "56    2002        112.0\n",
      "59    2011         32.0\n"
     ]
    }
   ],
   "source": [
    "NTrials = data_trial.groupby(['run_id'])['trial_index'].max() \\\n",
    "    .reset_index()\n",
    "subjects_not_enough_trials = NTrials.loc[NTrials['trial_index']<400, 'run_id']\n",
    "print('These subjects do not have enough trials: \\n' + \n",
    "      str(NTrials.loc[NTrials['trial_index']<400, :])\n",
    "     )"
   ]
  },
  {
   "cell_type": "markdown",
   "metadata": {},
   "source": [
    "## Followed instructions? "
   ]
  },
  {
   "cell_type": "code",
   "execution_count": 50,
   "metadata": {},
   "outputs": [
    {
     "data": {
      "text/html": [
       "<div>\n",
       "<style scoped>\n",
       "    .dataframe tbody tr th:only-of-type {\n",
       "        vertical-align: middle;\n",
       "    }\n",
       "\n",
       "    .dataframe tbody tr th {\n",
       "        vertical-align: top;\n",
       "    }\n",
       "\n",
       "    .dataframe thead th {\n",
       "        text-align: right;\n",
       "    }\n",
       "</style>\n",
       "<table border=\"1\" class=\"dataframe\">\n",
       "  <thead>\n",
       "    <tr style=\"text-align: right;\">\n",
       "      <th></th>\n",
       "      <th>run_id</th>\n",
       "      <th>prolificID</th>\n",
       "      <th>keptHead</th>\n",
       "      <th>triedChin</th>\n",
       "    </tr>\n",
       "  </thead>\n",
       "  <tbody>\n",
       "    <tr>\n",
       "      <th>5</th>\n",
       "      <td>12</td>\n",
       "      <td>5b8969006651ea000118e42e</td>\n",
       "      <td>1.0</td>\n",
       "      <td>0.0</td>\n",
       "    </tr>\n",
       "    <tr>\n",
       "      <th>29</th>\n",
       "      <td>48</td>\n",
       "      <td>5fa1192cf99e161a5cfad1cd</td>\n",
       "      <td>1.0</td>\n",
       "      <td>0.0</td>\n",
       "    </tr>\n",
       "    <tr>\n",
       "      <th>51</th>\n",
       "      <td>9</td>\n",
       "      <td>5fea6632bf9ae4a79153efdf</td>\n",
       "      <td>1.0</td>\n",
       "      <td>0.0</td>\n",
       "    </tr>\n",
       "    <tr>\n",
       "      <th>72</th>\n",
       "      <td>1003</td>\n",
       "      <td>0</td>\n",
       "      <td>1.0</td>\n",
       "      <td>0.0</td>\n",
       "    </tr>\n",
       "    <tr>\n",
       "      <th>74</th>\n",
       "      <td>1008</td>\n",
       "      <td>Ka61Kl61</td>\n",
       "      <td>1.0</td>\n",
       "      <td>0.0</td>\n",
       "    </tr>\n",
       "    <tr>\n",
       "      <th>81</th>\n",
       "      <td>2002</td>\n",
       "      <td>Tim2</td>\n",
       "      <td>0.0</td>\n",
       "      <td>0.0</td>\n",
       "    </tr>\n",
       "    <tr>\n",
       "      <th>82</th>\n",
       "      <td>2008</td>\n",
       "      <td>Studie1970</td>\n",
       "      <td>0.0</td>\n",
       "      <td>1.0</td>\n",
       "    </tr>\n",
       "  </tbody>\n",
       "</table>\n",
       "</div>"
      ],
      "text/plain": [
       "    run_id                prolificID  keptHead  triedChin\n",
       "5       12  5b8969006651ea000118e42e       1.0        0.0\n",
       "29      48  5fa1192cf99e161a5cfad1cd       1.0        0.0\n",
       "51       9  5fea6632bf9ae4a79153efdf       1.0        0.0\n",
       "72    1003                         0       1.0        0.0\n",
       "74    1008                  Ka61Kl61       1.0        0.0\n",
       "81    2002                      Tim2       0.0        0.0\n",
       "82    2008                Studie1970       0.0        1.0"
      ]
     },
     "execution_count": 50,
     "metadata": {},
     "output_type": "execute_result"
    }
   ],
   "source": [
    "data_subject.loc[\n",
    "    (data_subject['keptHead']==0) |\n",
    "    (data_subject['triedChin']==0), \n",
    "    ['run_id', 'prolificID', 'keptHead', 'triedChin']\n",
    "]"
   ]
  },
  {
   "cell_type": "markdown",
   "metadata": {},
   "source": [
    "## filter"
   ]
  },
  {
   "cell_type": "code",
   "execution_count": 51,
   "metadata": {},
   "outputs": [
    {
     "data": {
      "text/plain": [
       "array([   1,  103,   11,  126,  128,   13,  130,  131,   19,   24,   25,\n",
       "         28,   30,   32,   36,   37,    4,   41,   42,   43,   45,   47,\n",
       "          5,   58,   59,    6,   63,   66,   67,    7,   70,   74,   80,\n",
       "         81,   85,   91,   92,   93,   94,   96,   97, 1000, 1011, 1021,\n",
       "       2012, 2013, 2009], dtype=int64)"
      ]
     },
     "execution_count": 51,
     "metadata": {},
     "output_type": "execute_result"
    }
   ],
   "source": [
    "cleanSubjects = data_subject.loc[\n",
    "        (data_subject['status'].isin(['APPROVED', 'NOTPROLIFIC'])) &\n",
    "        (data_subject['keptHead']!=0) &\n",
    "        (data_subject['triedChin']!=0) &\n",
    "        pd.notna(data_subject['fps']) &\n",
    "        ~(data_subject['run_id'].isin(subjects_not_enough_trials)), \n",
    "        'run_id'\n",
    "    ].unique()\n",
    "cleanSubjects"
   ]
  },
  {
   "cell_type": "code",
   "execution_count": 52,
   "metadata": {},
   "outputs": [
    {
     "name": "stdout",
     "output_type": "stream",
     "text": [
      "data_trial\n",
      "raw: 24234\n",
      "cleaned: 24234\n"
     ]
    }
   ],
   "source": [
    "data_trial = data_trial.loc[data_trial['run_id'].isin(cleanSubjects), :] \\\n",
    "    .reset_index(drop=True)\n",
    "\n",
    "print('data_trial')\n",
    "print('raw: ' + str(len(data_trial)))\n",
    "print('cleaned: ' + str(len(data_trial)))"
   ]
  },
  {
   "cell_type": "code",
   "execution_count": 53,
   "metadata": {},
   "outputs": [
    {
     "name": "stdout",
     "output_type": "stream",
     "text": [
      "data_et\n",
      "raw: 533061\n",
      "cleaned: 533061\n"
     ]
    }
   ],
   "source": [
    "def cleanETData(data, cleanSubjects):\n",
    "    return data.loc[\n",
    "        (data['x']>0) & (data['x']<1) &(data['y']>0) & (data['y']<1) &\n",
    "        (data['run_id'].isin(cleanSubjects)), :] \\\n",
    "        .reset_index(drop=True)\n",
    "\n",
    "data_et = cleanETData(data_et, cleanSubjects)\n",
    "\n",
    "print('data_et')\n",
    "print('raw: ' + str(len(data_et)))\n",
    "print('cleaned: ' + str(len(data_et)))"
   ]
  },
  {
   "cell_type": "markdown",
   "metadata": {},
   "source": [
    "# Position index"
   ]
  },
  {
   "cell_type": "code",
   "execution_count": 54,
   "metadata": {},
   "outputs": [
    {
     "data": {
      "text/html": [
       "<div>\n",
       "<style scoped>\n",
       "    .dataframe tbody tr th:only-of-type {\n",
       "        vertical-align: middle;\n",
       "    }\n",
       "\n",
       "    .dataframe tbody tr th {\n",
       "        vertical-align: top;\n",
       "    }\n",
       "\n",
       "    .dataframe thead th {\n",
       "        text-align: right;\n",
       "    }\n",
       "</style>\n",
       "<table border=\"1\" class=\"dataframe\">\n",
       "  <thead>\n",
       "    <tr style=\"text-align: right;\">\n",
       "      <th></th>\n",
       "      <th>x_pos</th>\n",
       "      <th>y_pos</th>\n",
       "      <th>positionIndex</th>\n",
       "    </tr>\n",
       "  </thead>\n",
       "  <tbody>\n",
       "    <tr>\n",
       "      <th>41</th>\n",
       "      <td>0.20</td>\n",
       "      <td>0.20</td>\n",
       "      <td>0</td>\n",
       "    </tr>\n",
       "    <tr>\n",
       "      <th>27</th>\n",
       "      <td>0.50</td>\n",
       "      <td>0.20</td>\n",
       "      <td>1</td>\n",
       "    </tr>\n",
       "    <tr>\n",
       "      <th>17</th>\n",
       "      <td>0.80</td>\n",
       "      <td>0.20</td>\n",
       "      <td>2</td>\n",
       "    </tr>\n",
       "    <tr>\n",
       "      <th>21</th>\n",
       "      <td>0.20</td>\n",
       "      <td>0.50</td>\n",
       "      <td>3</td>\n",
       "    </tr>\n",
       "    <tr>\n",
       "      <th>37</th>\n",
       "      <td>0.50</td>\n",
       "      <td>0.50</td>\n",
       "      <td>4</td>\n",
       "    </tr>\n",
       "    <tr>\n",
       "      <th>33</th>\n",
       "      <td>0.80</td>\n",
       "      <td>0.50</td>\n",
       "      <td>5</td>\n",
       "    </tr>\n",
       "    <tr>\n",
       "      <th>39</th>\n",
       "      <td>0.20</td>\n",
       "      <td>0.80</td>\n",
       "      <td>6</td>\n",
       "    </tr>\n",
       "    <tr>\n",
       "      <th>31</th>\n",
       "      <td>0.50</td>\n",
       "      <td>0.80</td>\n",
       "      <td>7</td>\n",
       "    </tr>\n",
       "    <tr>\n",
       "      <th>29</th>\n",
       "      <td>0.80</td>\n",
       "      <td>0.80</td>\n",
       "      <td>8</td>\n",
       "    </tr>\n",
       "    <tr>\n",
       "      <th>25</th>\n",
       "      <td>0.35</td>\n",
       "      <td>0.35</td>\n",
       "      <td>9</td>\n",
       "    </tr>\n",
       "    <tr>\n",
       "      <th>23</th>\n",
       "      <td>0.65</td>\n",
       "      <td>0.35</td>\n",
       "      <td>10</td>\n",
       "    </tr>\n",
       "    <tr>\n",
       "      <th>35</th>\n",
       "      <td>0.35</td>\n",
       "      <td>0.65</td>\n",
       "      <td>11</td>\n",
       "    </tr>\n",
       "    <tr>\n",
       "      <th>19</th>\n",
       "      <td>0.65</td>\n",
       "      <td>0.65</td>\n",
       "      <td>12</td>\n",
       "    </tr>\n",
       "  </tbody>\n",
       "</table>\n",
       "</div>"
      ],
      "text/plain": [
       "    x_pos  y_pos  positionIndex\n",
       "41   0.20   0.20              0\n",
       "27   0.50   0.20              1\n",
       "17   0.80   0.20              2\n",
       "21   0.20   0.50              3\n",
       "37   0.50   0.50              4\n",
       "33   0.80   0.50              5\n",
       "39   0.20   0.80              6\n",
       "31   0.50   0.80              7\n",
       "29   0.80   0.80              8\n",
       "25   0.35   0.35              9\n",
       "23   0.65   0.35             10\n",
       "35   0.35   0.65             11\n",
       "19   0.65   0.65             12"
      ]
     },
     "execution_count": 54,
     "metadata": {},
     "output_type": "execute_result"
    }
   ],
   "source": [
    "def addPositionIndex(data):\n",
    "    data['positionIndex'] = 0\n",
    "\n",
    "    x_pos = [0.2, 0.5, 0.8, 0.2, 0.5, 0.8, 0.2, 0.5, 0.8, 0.35, 0.65, 0.35, 0.65]\n",
    "    y_pos = [0.2, 0.2, 0.2, 0.5, 0.5, 0.5, 0.8, 0.8, 0.8, 0.35, 0.35, 0.65, 0.65]\n",
    "\n",
    "    for i in range(0, len(x_pos)):\n",
    "        data.loc[(data['x_pos']==x_pos[i]) & (data['y_pos']==y_pos[i]), 'positionIndex']=i\n",
    "    return data\n",
    "\n",
    "data_trial = addPositionIndex(data_trial)\n",
    "\n",
    "data_trial.loc[\n",
    "    (data_trial['trial_type']=='eyetracking-calibration'), ['x_pos', 'y_pos', 'positionIndex']] \\\n",
    "    .drop_duplicates() \\\n",
    "    .sort_values(by='positionIndex')"
   ]
  },
  {
   "cell_type": "markdown",
   "metadata": {},
   "source": [
    "# Create datasets"
   ]
  },
  {
   "cell_type": "code",
   "execution_count": 55,
   "metadata": {},
   "outputs": [],
   "source": [
    "data_trial_fix = data_trial.loc[\n",
    "    (data_trial['trial_type']=='eyetracking-fix-object') & \n",
    "    (data_trial['trial_duration']==5000), \n",
    "    :]\n",
    "\n",
    "def add_var_to_data_et(data_et, source_data, varName):\n",
    "    if varName in data_et.columns: data_et=data_et.drop(columns=varName)\n",
    "    data_et = data_et.merge(\n",
    "        source_data.loc[:, ['run_id', 'trial_index', varName]], \n",
    "        on=['run_id', 'trial_index'], how='left')\n",
    "    return data_et\n",
    "\n",
    "temp = add_var_to_data_et(data_et, data_trial, 'trial_type')\n",
    "temp = add_var_to_data_et(temp, data_trial, 'trial_duration')\n",
    "data_et_fix = temp.loc[\n",
    "    (temp['trial_type']=='eyetracking-fix-object') &\n",
    "    (temp['trial_duration']==5000), :\n",
    "].drop(columns=['trial_type', 'trial_duration'])\n",
    "\n",
    "data_trial_fix = data_trial.loc[\n",
    "    (data_trial['trial_type']=='eyetracking-fix-object') &\n",
    "    (data_trial['trial_duration']==5000),     :\n",
    "].drop(columns=['trial_type', 'trial_duration'])"
   ]
  },
  {
   "cell_type": "markdown",
   "metadata": {},
   "source": [
    "## Offset"
   ]
  },
  {
   "cell_type": "markdown",
   "metadata": {},
   "source": [
    "### Calculate on gaze point-level"
   ]
  },
  {
   "cell_type": "code",
   "execution_count": 56,
   "metadata": {},
   "outputs": [],
   "source": [
    "def euclideanDistance(x, x_target, y, y_target):\n",
    "    x_diff = x - x_target\n",
    "    y_diff = y - y_target\n",
    "    euclideanDistance = np.sqrt(x_diff**2 + y_diff**2)\n",
    "    return(euclideanDistance)\n",
    "\n",
    "def offset(data):\n",
    "    offset = euclideanDistance(\n",
    "        data[\"x\"], data['x_pos'],\n",
    "        data[\"y\"], data['y_pos'])\n",
    "    return(offset)\n",
    "\n",
    "data_et = add_var_to_data_et(data_et, data_trial, 'x_pos')\n",
    "data_et = add_var_to_data_et(data_et, data_trial, 'y_pos')\n",
    "data_et_fix = add_var_to_data_et(data_et_fix, data_trial, 'x_pos')\n",
    "data_et_fix = add_var_to_data_et(data_et_fix, data_trial, 'y_pos')\n",
    "\n",
    "data_et.loc[:, \"offset\"] = offset(data_et)\n",
    "data_et_fix.loc[:, \"offset\"] = offset(data_et_fix)"
   ]
  },
  {
   "cell_type": "markdown",
   "metadata": {},
   "source": [
    "### Offset within trials"
   ]
  },
  {
   "cell_type": "code",
   "execution_count": 59,
   "metadata": {},
   "outputs": [],
   "source": [
    "def select_fixTask_and_fixCross(data):\n",
    "    return data.loc[\n",
    "        (data['trial_type']=='eyetracking-fix-object') & \n",
    "        ((data['task_nr']==1) |\n",
    "            ((data['chinFirst']==0) & (data['task_nr']==2)) |\n",
    "            ((data['chinFirst']==1) & (data['task_nr']==3))\n",
    "        ), :]. reset_index(drop=True)\n",
    "\n",
    "data_et = add_var_to_data_et(data_et, data_trial, 'task_nr')\n",
    "data_et = add_var_to_data_et(data_et, data_trial, 'chin')\n",
    "data_et = add_var_to_data_et(data_et, data_trial, 'chinFirst')\n",
    "\n",
    "def reformatTTask(data):                                                 \n",
    "    data.loc[\n",
    "        (data['trial_type']=='eyetracking-fix-object') & \n",
    "        (data['trial_duration']==1500), \n",
    "        't_task'\n",
    "    ] = data.loc[\n",
    "        (data['trial_type']=='eyetracking-fix-object') &\n",
    "        (data['trial_duration']==1500), \n",
    "        't_task'\n",
    "    ] - 1500\n",
    "    return data\n",
    "\n",
    "data_et = add_var_to_data_et(data_et, data_trial, 'trial_type')\n",
    "data_et = add_var_to_data_et(data_et, data_trial, 'trial_duration')\n",
    "data_et_fix_task_fixCross = reformatTTask(select_fixTask_and_fixCross(data_et))\n",
    "\n",
    "def add_next_xy_pos(data):\n",
    "    data['next_x_pos']=0\n",
    "    data['next_y_pos']=0\n",
    "    for i in data.index:\n",
    "        if data.loc[i, 'trial_duration']==1500:\n",
    "            data.loc[i, 'next_x_pos'] = data.loc[i+1, 'x_pos']\n",
    "            data.loc[i, 'next_y_pos'] = data.loc[i+1, 'y_pos']\n",
    "    return(data)\n",
    "\n",
    "data_trial_fix_task_fixCross = add_next_xy_pos(select_fixTask_and_fixCross(data_trial))\n",
    "\n",
    "data_et_fix_task_fixCross = data_et_fix_task_fixCross.merge(\n",
    "    data_trial_fix_task_fixCross.loc[:, ['run_id', 'trial_index', 'next_x_pos', 'next_y_pos']],\n",
    "    on=['run_id', 'trial_index'],\n",
    "    how='left'\n",
    ")"
   ]
  },
  {
   "cell_type": "code",
   "execution_count": 60,
   "metadata": {},
   "outputs": [],
   "source": [
    "def new_distance_for_fixCross(data):\n",
    "    data.loc[data['trial_duration']==1500, 'offset'] = euclideanDistance(\n",
    "        data.loc[data['trial_duration']==1500, 'x'], \n",
    "        data.loc[data['trial_duration']==1500, 'next_x_pos'], \n",
    "        data.loc[data['trial_duration']==1500, 'y'], \n",
    "        data.loc[data['trial_duration']==1500, 'next_y_pos']\n",
    "    )\n",
    "    return data\n",
    "        \n",
    "data_et_fix_task_fixCross = new_distance_for_fixCross(data_et_fix_task_fixCross)"
   ]
  },
  {
   "cell_type": "code",
   "execution_count": 61,
   "metadata": {},
   "outputs": [],
   "source": [
    "def createAVGLine(data):\n",
    "    binArray = np.arange(-1500, 5000, 50)\n",
    "    bins = pd.cut(data['t_task'], binArray)\n",
    "    output = data.groupby(bins).agg({\"offset\": \"median\"}).reset_index()\n",
    "    output['t_task'] = binArray[0:len(output)]\n",
    "    return output\n",
    "\n",
    "average_line_noChin = createAVGLine(data_et_fix_task_fixCross.loc[data_et_fix_task_fixCross['chin']==0, :])\n",
    "average_line_chin = createAVGLine(data_et_fix_task_fixCross.loc[data_et_fix_task_fixCross['chin']==1, :])"
   ]
  },
  {
   "cell_type": "code",
   "execution_count": 62,
   "metadata": {},
   "outputs": [
    {
     "data": {
      "text/plain": [
       "Text(0.5, 0, 't_task')"
      ]
     },
     "execution_count": 62,
     "metadata": {},
     "output_type": "execute_result"
    },
    {
     "data": {
      "image/png": "[encoded data removed]",
      "text/plain": [
       "<Figure size 1296x864 with 2 Axes>"
      ]
     },
     "metadata": {
      "needs_background": "light"
     },
     "output_type": "display_data"
    }
   ],
   "source": [
    "fig, axes = plt.subplots(nrows=1, ncols=2, sharey=True, figsize=(18, 12))\n",
    "fig.suptitle('Median local offset for all subjects across a fixation task trial', fontsize=20)\n",
    "\n",
    "axes[0].set_title(\"Chin==0\")\n",
    "axes[1].set_title(\"Chin==1\")\n",
    "\n",
    "sns.scatterplot(ax=axes[0], \n",
    "                data=data_et_fix_task_fixCross.loc[\n",
    "                    (data_et_fix_task_fixCross['run_id']==103) & \n",
    "                    (data_et_fix_task_fixCross['chin']==0), \n",
    "                    :], \n",
    "                x=\"t_task\", y=\"offset\")\n",
    "sns.lineplot(ax=axes[0], x=average_line_noChin['t_task'], y=average_line_noChin['offset'], color='r')\n",
    "\n",
    "sns.scatterplot(ax=axes[1], \n",
    "                data=data_et_fix_task_fixCross.loc[\n",
    "                    (data_et_fix_task_fixCross['run_id']==103) & \n",
    "                    (data_et_fix_task_fixCross['chin']==1), \n",
    "                    :],\n",
    "                x=\"t_task\", y=\"offset\")\n",
    "sns.lineplot(ax=axes[1], x=average_line_chin['t_task'], y=average_line_chin['offset'], color='r')\n",
    "\n",
    "plt.setp(axes, xlim=(-1500, 5000)) \n",
    "plt.xlabel(\"t_task\")"
   ]
  },
  {
   "cell_type": "markdown",
   "metadata": {},
   "source": [
    "### Cleaning: Remove first second of fixation task "
   ]
  },
  {
   "cell_type": "code",
   "execution_count": 63,
   "metadata": {},
   "outputs": [],
   "source": [
    "data_et = add_var_to_data_et(data_et, data_trial, 'trial_type')\n",
    "data_et = add_var_to_data_et(data_et, data_trial, 'trial_duration')\n",
    "\n",
    "data_et = data_et.loc[\n",
    "    ~(\n",
    "        (data_et['trial_type']=='eyetracking-fix-object') &\n",
    "        (data_et['trial_duration']==5000) &\n",
    "        (data_et['t_task']<1000)\n",
    "    ), :].reset_index(drop=True)"
   ]
  },
  {
   "cell_type": "markdown",
   "metadata": {},
   "source": [
    "### data_trial_fix & data_et_fix"
   ]
  },
  {
   "cell_type": "code",
   "execution_count": 64,
   "metadata": {},
   "outputs": [],
   "source": [
    "data_et_fix = data_et.loc[\n",
    "    (data_et['trial_type']=='eyetracking-fix-object') &\n",
    "    (data_et['trial_duration']==5000),     :\n",
    "]\n",
    "\n",
    "data_trial_fix = data_trial.loc[\n",
    "    (data_trial['trial_type']=='eyetracking-fix-object') &\n",
    "    (data_trial['trial_duration']==5000),     :\n",
    "]"
   ]
  },
  {
   "cell_type": "markdown",
   "metadata": {},
   "source": [
    "### Aggregate on trial level"
   ]
  },
  {
   "cell_type": "code",
   "execution_count": 65,
   "metadata": {},
   "outputs": [],
   "source": [
    "def merge_offset_by_index(data, data_et):\n",
    "    if 'offset' in data.columns: \n",
    "        data = data.drop(columns=['offset'])\n",
    "    grouped = data_et.groupby(['run_id', 'trial_index'])['offset'].mean() \\\n",
    "        .reset_index()        \n",
    "    data = data.merge(grouped, on=['run_id', 'trial_index'], how='left')\n",
    "    return data\n",
    "\n",
    "data_trial = merge_offset_by_index(data_trial, data_et)"
   ]
  },
  {
   "cell_type": "markdown",
   "metadata": {},
   "source": [
    "### Aggregate on subject-level "
   ]
  },
  {
   "cell_type": "code",
   "execution_count": 66,
   "metadata": {},
   "outputs": [
    {
     "ename": "KeyError",
     "evalue": "'Column not found: offset'",
     "output_type": "error",
     "traceback": [
      "\u001b[1;31m---------------------------------------------------------------------------\u001b[0m",
      "\u001b[1;31mKeyError\u001b[0m                                  Traceback (most recent call last)",
      "\u001b[1;32m<ipython-input-66-cc7acbec346f>\u001b[0m in \u001b[0;36m<module>\u001b[1;34m\u001b[0m\n\u001b[0;32m      6\u001b[0m     \u001b[1;32mreturn\u001b[0m \u001b[0mdata\u001b[0m\u001b[1;33m\u001b[0m\u001b[1;33m\u001b[0m\u001b[0m\n\u001b[0;32m      7\u001b[0m \u001b[1;33m\u001b[0m\u001b[0m\n\u001b[1;32m----> 8\u001b[1;33m \u001b[0mdata_subject\u001b[0m \u001b[1;33m=\u001b[0m \u001b[0mmerge_by_subject\u001b[0m\u001b[1;33m(\u001b[0m\u001b[0mdata_subject\u001b[0m\u001b[1;33m,\u001b[0m \u001b[0mdata_trial_fix\u001b[0m\u001b[1;33m,\u001b[0m \u001b[1;34m'offset'\u001b[0m\u001b[1;33m)\u001b[0m\u001b[1;33m\u001b[0m\u001b[1;33m\u001b[0m\u001b[0m\n\u001b[0m\u001b[0;32m      9\u001b[0m \u001b[1;33m\u001b[0m\u001b[0m\n\u001b[0;32m     10\u001b[0m \u001b[1;32mdef\u001b[0m \u001b[0mseparate_outcomes_chin_condition\u001b[0m\u001b[1;33m(\u001b[0m\u001b[0mdata\u001b[0m\u001b[1;33m,\u001b[0m \u001b[0mlarge_data\u001b[0m\u001b[1;33m,\u001b[0m \u001b[0mvarName\u001b[0m\u001b[1;33m)\u001b[0m\u001b[1;33m:\u001b[0m\u001b[1;33m\u001b[0m\u001b[1;33m\u001b[0m\u001b[0m\n",
      "\u001b[1;32m<ipython-input-66-cc7acbec346f>\u001b[0m in \u001b[0;36mmerge_by_subject\u001b[1;34m(data, large_data, varName)\u001b[0m\n\u001b[0;32m      1\u001b[0m \u001b[1;32mdef\u001b[0m \u001b[0mmerge_by_subject\u001b[0m\u001b[1;33m(\u001b[0m\u001b[0mdata\u001b[0m\u001b[1;33m,\u001b[0m \u001b[0mlarge_data\u001b[0m\u001b[1;33m,\u001b[0m \u001b[0mvarName\u001b[0m\u001b[1;33m)\u001b[0m\u001b[1;33m:\u001b[0m\u001b[1;33m\u001b[0m\u001b[1;33m\u001b[0m\u001b[0m\n\u001b[0;32m      2\u001b[0m     \u001b[1;32mif\u001b[0m \u001b[0mvarName\u001b[0m \u001b[1;32min\u001b[0m \u001b[0mdata\u001b[0m\u001b[1;33m.\u001b[0m\u001b[0mcolumns\u001b[0m\u001b[1;33m:\u001b[0m \u001b[0mdata\u001b[0m \u001b[1;33m=\u001b[0m \u001b[0mdata\u001b[0m\u001b[1;33m.\u001b[0m\u001b[0mdrop\u001b[0m\u001b[1;33m(\u001b[0m\u001b[0mcolumns\u001b[0m\u001b[1;33m=\u001b[0m\u001b[1;33m[\u001b[0m\u001b[0mvarName\u001b[0m\u001b[1;33m]\u001b[0m\u001b[1;33m)\u001b[0m\u001b[1;33m\u001b[0m\u001b[1;33m\u001b[0m\u001b[0m\n\u001b[1;32m----> 3\u001b[1;33m     \u001b[0mgrouped\u001b[0m \u001b[1;33m=\u001b[0m \u001b[0mlarge_data\u001b[0m\u001b[1;33m.\u001b[0m\u001b[0mgroupby\u001b[0m\u001b[1;33m(\u001b[0m\u001b[1;33m[\u001b[0m\u001b[1;34m'run_id'\u001b[0m\u001b[1;33m]\u001b[0m\u001b[1;33m)\u001b[0m\u001b[1;33m[\u001b[0m\u001b[0mvarName\u001b[0m\u001b[1;33m]\u001b[0m\u001b[1;33m.\u001b[0m\u001b[0mmean\u001b[0m\u001b[1;33m(\u001b[0m\u001b[1;33m)\u001b[0m\u001b[0;31m \u001b[0m\u001b[0;31m\\\u001b[0m\u001b[1;33m\u001b[0m\u001b[1;33m\u001b[0m\u001b[0m\n\u001b[0m\u001b[0;32m      4\u001b[0m         \u001b[1;33m.\u001b[0m\u001b[0mreset_index\u001b[0m\u001b[1;33m(\u001b[0m\u001b[1;33m)\u001b[0m\u001b[1;33m\u001b[0m\u001b[1;33m\u001b[0m\u001b[0m\n\u001b[0;32m      5\u001b[0m     \u001b[0mdata\u001b[0m \u001b[1;33m=\u001b[0m \u001b[0mdata\u001b[0m\u001b[1;33m.\u001b[0m\u001b[0mmerge\u001b[0m\u001b[1;33m(\u001b[0m\u001b[0mgrouped\u001b[0m\u001b[1;33m,\u001b[0m \u001b[0mon\u001b[0m\u001b[1;33m=\u001b[0m\u001b[1;33m[\u001b[0m\u001b[1;34m'run_id'\u001b[0m\u001b[1;33m]\u001b[0m\u001b[1;33m,\u001b[0m \u001b[0mhow\u001b[0m\u001b[1;33m=\u001b[0m\u001b[1;34m'left'\u001b[0m\u001b[1;33m)\u001b[0m\u001b[1;33m\u001b[0m\u001b[1;33m\u001b[0m\u001b[0m\n",
      "\u001b[1;32m~\\Anaconda3\\lib\\site-packages\\pandas\\core\\groupby\\generic.py\u001b[0m in \u001b[0;36m__getitem__\u001b[1;34m(self, key)\u001b[0m\n\u001b[0;32m   1601\u001b[0m                 \u001b[0mstacklevel\u001b[0m\u001b[1;33m=\u001b[0m\u001b[1;36m2\u001b[0m\u001b[1;33m,\u001b[0m\u001b[1;33m\u001b[0m\u001b[1;33m\u001b[0m\u001b[0m\n\u001b[0;32m   1602\u001b[0m             )\n\u001b[1;32m-> 1603\u001b[1;33m         \u001b[1;32mreturn\u001b[0m \u001b[0msuper\u001b[0m\u001b[1;33m(\u001b[0m\u001b[1;33m)\u001b[0m\u001b[1;33m.\u001b[0m\u001b[0m__getitem__\u001b[0m\u001b[1;33m(\u001b[0m\u001b[0mkey\u001b[0m\u001b[1;33m)\u001b[0m\u001b[1;33m\u001b[0m\u001b[1;33m\u001b[0m\u001b[0m\n\u001b[0m\u001b[0;32m   1604\u001b[0m \u001b[1;33m\u001b[0m\u001b[0m\n\u001b[0;32m   1605\u001b[0m     \u001b[1;32mdef\u001b[0m \u001b[0m_gotitem\u001b[0m\u001b[1;33m(\u001b[0m\u001b[0mself\u001b[0m\u001b[1;33m,\u001b[0m \u001b[0mkey\u001b[0m\u001b[1;33m,\u001b[0m \u001b[0mndim\u001b[0m\u001b[1;33m:\u001b[0m \u001b[0mint\u001b[0m\u001b[1;33m,\u001b[0m \u001b[0msubset\u001b[0m\u001b[1;33m=\u001b[0m\u001b[1;32mNone\u001b[0m\u001b[1;33m)\u001b[0m\u001b[1;33m:\u001b[0m\u001b[1;33m\u001b[0m\u001b[1;33m\u001b[0m\u001b[0m\n",
      "\u001b[1;32m~\\Anaconda3\\lib\\site-packages\\pandas\\core\\base.py\u001b[0m in \u001b[0;36m__getitem__\u001b[1;34m(self, key)\u001b[0m\n\u001b[0;32m    228\u001b[0m         \u001b[1;32melse\u001b[0m\u001b[1;33m:\u001b[0m\u001b[1;33m\u001b[0m\u001b[1;33m\u001b[0m\u001b[0m\n\u001b[0;32m    229\u001b[0m             \u001b[1;32mif\u001b[0m \u001b[0mkey\u001b[0m \u001b[1;32mnot\u001b[0m \u001b[1;32min\u001b[0m \u001b[0mself\u001b[0m\u001b[1;33m.\u001b[0m\u001b[0mobj\u001b[0m\u001b[1;33m:\u001b[0m\u001b[1;33m\u001b[0m\u001b[1;33m\u001b[0m\u001b[0m\n\u001b[1;32m--> 230\u001b[1;33m                 \u001b[1;32mraise\u001b[0m \u001b[0mKeyError\u001b[0m\u001b[1;33m(\u001b[0m\u001b[1;34mf\"Column not found: {key}\"\u001b[0m\u001b[1;33m)\u001b[0m\u001b[1;33m\u001b[0m\u001b[1;33m\u001b[0m\u001b[0m\n\u001b[0m\u001b[0;32m    231\u001b[0m             \u001b[1;32mreturn\u001b[0m \u001b[0mself\u001b[0m\u001b[1;33m.\u001b[0m\u001b[0m_gotitem\u001b[0m\u001b[1;33m(\u001b[0m\u001b[0mkey\u001b[0m\u001b[1;33m,\u001b[0m \u001b[0mndim\u001b[0m\u001b[1;33m=\u001b[0m\u001b[1;36m1\u001b[0m\u001b[1;33m)\u001b[0m\u001b[1;33m\u001b[0m\u001b[1;33m\u001b[0m\u001b[0m\n\u001b[0;32m    232\u001b[0m \u001b[1;33m\u001b[0m\u001b[0m\n",
      "\u001b[1;31mKeyError\u001b[0m: 'Column not found: offset'"
     ]
    }
   ],
   "source": [
    "def merge_by_subject(data, large_data, varName):\n",
    "    if varName in data.columns: data = data.drop(columns=[varName])\n",
    "    grouped = large_data.groupby(['run_id'])[varName].mean() \\\n",
    "        .reset_index()        \n",
    "    data = data.merge(grouped, on=['run_id'], how='left')\n",
    "    return data\n",
    "\n",
    "data_subject = merge_by_subject(data_subject, data_trial_fix, 'offset')\n",
    "\n",
    "def separate_outcomes_chin_condition(data, large_data, varName):\n",
    "    var_chin_0 = varName + '_chin_0' \n",
    "    var_chin_1 = varName + '_chin_1' \n",
    "    \n",
    "    if var_chin_0 in data.columns: data = data.drop(columns=[var_chin_0])\n",
    "    if var_chin_1 in data.columns: data = data.drop(columns=[var_chin_1])\n",
    "        \n",
    "    grouped = large_data \\\n",
    "        .groupby(['run_id', 'chin'])[varName].mean() \\\n",
    "        .reset_index() \\\n",
    "        .pivot(index='run_id', columns='chin', values=varName) \\\n",
    "        .reset_index() \\\n",
    "        .rename(columns={0.0: var_chin_0, 1.0: var_chin_1}) \n",
    "    data = data.merge(grouped.loc[:, ['run_id', var_chin_0, var_chin_1]], on='run_id', how='left')\n",
    "    return data\n",
    "\n",
    "data_subject = separate_outcomes_chin_condition(data_subject, data_trial_fix, 'offset')\n",
    "data_subject.loc[:, ['offset', 'offset_chin_0', 'offset_chin_1']].describe()"
   ]
  },
  {
   "cell_type": "markdown",
   "metadata": {},
   "source": [
    "## Precision"
   ]
  },
  {
   "cell_type": "markdown",
   "metadata": {},
   "source": [
    "### Distance from AVG on et-level"
   ]
  },
  {
   "cell_type": "code",
   "execution_count": null,
   "metadata": {},
   "outputs": [],
   "source": [
    "def merge_xy_means(data):    \n",
    "    if 'x_mean' in data.columns: data = data.drop(columns=['x_mean'])\n",
    "    if 'y_mean' in data.columns: data = data.drop(columns=['y_mean'])\n",
    "\n",
    "    grouped = data.groupby(['run_id', 'trial_index'])['x', 'y'].mean() \\\n",
    "        .rename(columns={'x': 'x_mean', 'y': 'y_mean'})\n",
    "    data = data.merge(grouped, on=['run_id', 'trial_index'], how='left') \n",
    "    return(data)\n",
    "\n",
    "def distanceFromAVG(data):\n",
    "    data = merge_xy_means(data)\n",
    "    distanceFromAVG = euclideanDistance(data['x'], data['x_mean'], data['y'], data['y_mean'])\n",
    "    return(distanceFromAVG)    \n",
    "\n",
    "data_et.loc[:, 'distanceFromAVG_square'] = np.power(distanceFromAVG(data_et), 2)\n",
    "data_et_fix.loc[:, 'distanceFromAVG_square'] = np.power(distanceFromAVG(data_et_fix), 2)"
   ]
  },
  {
   "cell_type": "markdown",
   "metadata": {},
   "source": [
    "### Standard deviation of gaze points on trial-level"
   ]
  },
  {
   "cell_type": "code",
   "execution_count": null,
   "metadata": {},
   "outputs": [],
   "source": [
    "def addPrecision(data, data_et):\n",
    "    if 'precision' in data.columns: data = data.drop(columns=['precision'])\n",
    "    grouped = data_et \\\n",
    "        .groupby(['run_id', 'trial_index'])['distanceFromAVG_square'].mean() \\\n",
    "        .reset_index()\n",
    "    grouped['precision'] = np.sqrt(grouped['distanceFromAVG_square'])\n",
    "    data = data.merge(grouped.loc[:, ['run_id', 'trial_index', 'precision']], \n",
    "                      on=['run_id', 'trial_index'], \n",
    "                      how='left')\n",
    "    return(data)\n",
    "\n",
    "data_trial = addPrecision(data_trial, data_et)\n",
    "data_trial_fix = addPrecision(data_trial, data_et_fix)"
   ]
  },
  {
   "cell_type": "markdown",
   "metadata": {},
   "source": [
    "### Aggregate on subject-level "
   ]
  },
  {
   "cell_type": "code",
   "execution_count": null,
   "metadata": {
    "scrolled": true
   },
   "outputs": [],
   "source": [
    "data_subject = merge_by_subject(data_subject, data_trial_fix, 'precision')\n",
    "data_subject = separate_outcomes_chin_condition(data_subject,  data_trial_fix, 'precision')\n",
    "data_subject.loc[:, ['precision', 'precision_chin_0', 'precision_chin_1']].describe()"
   ]
  },
  {
   "cell_type": "markdown",
   "metadata": {},
   "source": [
    "# Gaze predictions"
   ]
  },
  {
   "cell_type": "markdown",
   "metadata": {},
   "source": [
    "## For each position"
   ]
  },
  {
   "cell_type": "code",
   "execution_count": null,
   "metadata": {
    "scrolled": true
   },
   "outputs": [],
   "source": [
    "data_plot = add_var_to_data_et(data_et_fix, data_trial, 'chin')\n",
    "data_plot = data_plot.loc[\n",
    "    (data_plot['run_id']==43) & \n",
    "    (data_plot['chin']==0), :]\n",
    "\n",
    "fig, axes = plt.subplots(nrows=3, ncols=3, figsize=(18, 12))\n",
    "axes = axes.ravel()\n",
    "xPos = [0.2, 0.5, 0.8, 0.2, 0.5, 0.8, 0.2, 0.5, 0.8]\n",
    "yPos = [0.2, 0.2, 0.2, 0.5, 0.5, 0.5, 0.8, 0.8, 0.8]\n",
    "for i in range(0, 9):\n",
    "    axes_data = data_plot.loc[(data_plot['x_pos']==xPos[i]) & (data_plot['y_pos']==yPos[i]), :]\n",
    "    im = axes[i].scatter(\n",
    "        axes_data['x'], \n",
    "        axes_data['y'], \n",
    "        c=axes_data['t_task'], \n",
    "        cmap='viridis'\n",
    "    )\n",
    "    axes[i].set_ylim(1, 0)\n",
    "    axes[i].set_xlim(0, 1)\n",
    "    \n",
    "fig.colorbar(im, ax=axes)\n",
    "plt.show()"
   ]
  },
  {
   "cell_type": "markdown",
   "metadata": {},
   "source": [
    "## Heatmap"
   ]
  },
  {
   "cell_type": "code",
   "execution_count": null,
   "metadata": {},
   "outputs": [],
   "source": [
    "import numpy as np\n",
    "import matplotlib.pyplot as plt\n",
    "import matplotlib.cm as cm\n",
    "from scipy.ndimage.filters import gaussian_filter\n",
    "\n",
    "x = data_et_fix['x']\n",
    "y = data_et_fix['y']\n",
    "\n",
    "def myplot(x, y, s, bins=[1200, 675]):\n",
    "    heatmap, xedges, yedges = np.histogram2d(x, y, bins=bins)\n",
    "    heatmap = gaussian_filter(heatmap, sigma=s)\n",
    "    extent = [xedges[0], xedges[-1], yedges[-1], yedges[0]]\n",
    "    return heatmap.T, extent\n",
    "\n",
    "s=34\n",
    "img, extent = myplot(x, y, s=s)\n",
    "\n",
    "plt.figure(figsize=(7, 7))\n",
    "plt.imshow(img, extent=extent, origin='upper', cmap=cm.Greens, aspect=(9/16))\n",
    "plt.title(\"Smoothing with  $\\sigma$ = %d\" % s)\n",
    "\n",
    "\n",
    "xPos = [0.2, 0.5, 0.8, 0.2, 0.5, 0.8, 0.2, 0.5, 0.8]\n",
    "yPos = [0.2, 0.2, 0.2, 0.5, 0.5, 0.5, 0.8, 0.8, 0.8]\n",
    "for i in range(0, len(xPos)):\n",
    "    plt.text(xPos[i], yPos[i], '+', size=12, ha=\"center\")\n",
    "\n",
    "plt.show()\n",
    "plt.savefig('plot/fix_heatmap.png')"
   ]
  },
  {
   "cell_type": "markdown",
   "metadata": {},
   "source": [
    "# Offset & precision"
   ]
  },
  {
   "cell_type": "markdown",
   "metadata": {},
   "source": [
    "## Chin-rest conditions"
   ]
  },
  {
   "cell_type": "code",
   "execution_count": null,
   "metadata": {},
   "outputs": [],
   "source": [
    "fig, axes = plt.subplots(1, 2, sharey=True, figsize=(15,6))\n",
    "fig.suptitle('chinFirst==0 vs. chinFirst==1')\n",
    "\n",
    "sns.boxplot(ax=axes[0], x='chin', y='offset', data=data_trial_fix)\n",
    "sns.boxplot(ax=axes[1], x='chin', y='precision', data=data_trial_fix)\n",
    "   \n",
    "plt.show()"
   ]
  },
  {
   "cell_type": "code",
   "execution_count": null,
   "metadata": {},
   "outputs": [],
   "source": [
    "means_0 = data_subject.loc[:, ['offset_chin_0', 'offset_chin_1', 'precision_chin_0', 'precision_chin_1']].mean() \\\n",
    "    .reset_index() \\\n",
    "    .rename(columns={0: 'mean'})\n",
    "var_0 = data_subject.loc[:, ['offset_chin_0', 'offset_chin_1', 'precision_chin_0', 'precision_chin_1']].var() \\\n",
    "    .reset_index() \\\n",
    "    .rename(columns={0: 'var'})\n",
    "means_0.merge(var_0, on='index', how='left')"
   ]
  },
  {
   "cell_type": "code",
   "execution_count": null,
   "metadata": {},
   "outputs": [],
   "source": [
    "test_data = data_subject.loc[\n",
    "    pd.notna(data_subject['offset_chin_0']) & \n",
    "    pd.notna(data_subject['offset_chin_1']), :]\n",
    "scipy.stats.ttest_rel(test_data['offset_chin_0'], test_data['offset_chin_1'])"
   ]
  },
  {
   "cell_type": "markdown",
   "metadata": {},
   "source": [
    "### ChinFirst"
   ]
  },
  {
   "cell_type": "code",
   "execution_count": null,
   "metadata": {
    "scrolled": false
   },
   "outputs": [],
   "source": [
    "fig, axes = plt.subplots(1, 2, sharey=True, figsize=(15,6))\n",
    "fig.suptitle('Offset chinFirst==0 vs. chinFirst==1')\n",
    "\n",
    "sns.boxplot(ax=axes[0], x='chin', y='offset', \n",
    "            data=data_trial_fix.loc[data_trial_fix['chinFirst']==0, :])\n",
    "sns.boxplot(ax=axes[1], x='chin', y='offset', \n",
    "            data=data_trial_fix.loc[data_trial_fix['chinFirst']==1, :])\n",
    "   \n",
    "plt.show()"
   ]
  },
  {
   "cell_type": "code",
   "execution_count": null,
   "metadata": {},
   "outputs": [],
   "source": [
    "fig, axes = plt.subplots(1, 2, sharey=True, figsize=(15,6))\n",
    "fig.suptitle('precision chinFirst==0 vs. chinFirst==1')\n",
    "\n",
    "sns.boxplot(ax=axes[0], x='chin', y='precision', \n",
    "            data=data_trial_fix.loc[data_trial_fix['chinFirst']==0, :])\n",
    "sns.boxplot(ax=axes[1], x='chin', y='precision', \n",
    "            data=data_trial_fix.loc[data_trial_fix['chinFirst']==1, :])\n",
    "   \n",
    "plt.show()"
   ]
  },
  {
   "cell_type": "markdown",
   "metadata": {},
   "source": [
    "# Visual Aid"
   ]
  },
  {
   "cell_type": "code",
   "execution_count": null,
   "metadata": {},
   "outputs": [],
   "source": [
    "for col in ['glasses', 'sight']:\n",
    "    print(pd.crosstab(index=data_subject[col], columns=\"count\"))\n",
    "    print('\\n')"
   ]
  },
  {
   "cell_type": "code",
   "execution_count": null,
   "metadata": {},
   "outputs": [],
   "source": [
    "data_subject['glasses_binary'] = data_subject['sight'] \\\n",
    "    .replace({'contactLenses': 1, \n",
    "             'glasses': 1,\n",
    "             'notCorrected': 0,\n",
    "             'perfectSight': 0}\n",
    "           )\n",
    "data_subject['glasses_binary'].unique()"
   ]
  },
  {
   "cell_type": "code",
   "execution_count": null,
   "metadata": {},
   "outputs": [],
   "source": [
    "fig, axes = plt.subplots(1, 2, sharey=True, figsize=(15,6))\n",
    "fig.suptitle('glasses and sight')\n",
    "\n",
    "sns.boxplot(ax=axes[0], x='glasses_binary', y='offset', data=data_subject)\n",
    "sns.boxplot(ax=axes[1], x='sight', y='offset', data=data_subject)\n",
    "   \n",
    "plt.show()"
   ]
  },
  {
   "cell_type": "markdown",
   "metadata": {},
   "source": [
    "### Fixation dot positions"
   ]
  },
  {
   "cell_type": "code",
   "execution_count": null,
   "metadata": {
    "scrolled": true
   },
   "outputs": [],
   "source": [
    "grouped_var = data_trial_fix.groupby(['positionIndex', 'chin']) \\\n",
    "    ['offset', 'precision'].var() \\\n",
    "    .rename(columns={'offset': 'offset_var', 'precision':'precision_var'}) \\\n",
    "    .reset_index()\n",
    "\n",
    "grouped_means = data_trial_fix.groupby(['positionIndex', 'chin']) \\\n",
    "    ['offset', 'precision'].mean() \\\n",
    "    .reset_index()\n",
    "\n",
    "grouped = grouped_means.merge(grouped_var, on=['positionIndex', 'chin'], how='left')\n",
    "\n",
    "grouped_offset = grouped.loc[:, ['positionIndex', 'chin', 'offset']] \\\n",
    "    .set_index(['positionIndex']) \\\n",
    "    .pivot(columns=\"chin\")['offset'] \\\n",
    "    .reset_index() \\\n",
    "    .rename(columns={0.0: 'offset_chin_0', 1.0: 'offset_chin_1'}) \n",
    "\n",
    "grouped_offset_var = grouped.loc[:, ['positionIndex', 'chin', 'offset_var']] \\\n",
    "    .set_index(['positionIndex']) \\\n",
    "    .pivot(columns=\"chin\")['offset_var'] \\\n",
    "    .reset_index() \\\n",
    "    .rename(columns={0.0: 'offset_var_chin_0', 1.0: 'offset_var_chin_1'}) \n",
    "\n",
    "grouped_precision = grouped.loc[:, ['positionIndex', 'chin', 'precision']] \\\n",
    "    .set_index(['positionIndex']) \\\n",
    "    .pivot(columns=\"chin\")['precision'] \\\n",
    "    .reset_index() \\\n",
    "    .rename(columns={0.0: 'precision_chin_0', 1.0: 'precision_chin_1'}) \n",
    "\n",
    "grouped_precision_var = grouped.loc[:, ['positionIndex', 'chin', 'precision_var']] \\\n",
    "    .set_index(['positionIndex']) \\\n",
    "    .pivot(columns=\"chin\")['precision_var'] \\\n",
    "    .reset_index() \\\n",
    "    .rename(columns={0.0: 'precision_var_chin_0', 1.0: 'precision_var_chin_1'}) \n",
    "\n",
    "overview = pd.concat(\n",
    "    [\n",
    "        grouped_offset,\n",
    "        grouped_offset_var.iloc[:, 1:3],\n",
    "        grouped_precision.iloc[:, 1:3], \n",
    "        grouped_precision_var.iloc[:, 1:3]\n",
    "    ], \n",
    "    axis=1\n",
    ")\n",
    "\n",
    "print(overview.mean(numeric_only=True))\n",
    "overview"
   ]
  },
  {
   "cell_type": "markdown",
   "metadata": {},
   "source": [
    "## Calibration"
   ]
  },
  {
   "cell_type": "code",
   "execution_count": null,
   "metadata": {},
   "outputs": [],
   "source": [
    "data_et_calibration = data_et.loc[data_et['trial_type']=='eyetracking-calibration', :]\n",
    "data_trial_calibration = data_trial.loc[data_trial['trial_type']=='eyetracking-calibration', :]"
   ]
  },
  {
   "cell_type": "markdown",
   "metadata": {},
   "source": [
    "### offset"
   ]
  },
  {
   "cell_type": "code",
   "execution_count": null,
   "metadata": {},
   "outputs": [],
   "source": [
    "def spaghettiPlot(data, xVar, yVar, highlightedSubject):\n",
    "    plt.style.use('seaborn-darkgrid')\n",
    "    fig, ax = plt.subplots(figsize=(13, 9))\n",
    "\n",
    "    # Draw Plots\n",
    "    for subject in data[\"run_id\"].unique():\n",
    "        ax.plot(data.loc[data['run_id']==subject, xVar], \n",
    "                data.loc[data['run_id']==subject, yVar], \n",
    "                marker='', color='grey', linewidth=1, alpha=0.4)\n",
    "\n",
    "    # Highlight Subject \n",
    "    ax.plot(data.loc[data['run_id']==highlightedSubject, xVar], \n",
    "            data.loc[data['run_id']==highlightedSubject, yVar], \n",
    "            marker='', color='orange', linewidth=4, alpha=0.7)\n",
    "\n",
    "    # Let's annotate the plot\n",
    "    for subject in data[\"run_id\"].unique():\n",
    "        if subject != highlightedSubject:\n",
    "            ax.text(data.loc[data['run_id']==subject, xVar].max()+1, \n",
    "                    data.loc[data['run_id']==subject, yVar].tail(1),\n",
    "                    s=subject, horizontalalignment='left', size='small', color='grey')\n",
    "\n",
    "        else:\n",
    "            ax.text(data.loc[data['run_id']==subject, xVar].max()+1, \n",
    "                    data.loc[data['run_id']==subject, yVar].tail(1),\n",
    "                    s=subject, horizontalalignment='left', size='small', color='orange')\n",
    "    return plt\n",
    "\n",
    "spaghettiPlot(\n",
    "    data_trial_calibration.loc[data_trial_calibration['chin']==0, :], \n",
    "    'withinTaskIndex', 'offset', 103)\n",
    "plt.ylim(0, 1)\n",
    "plt.title('Offset across calibration for chin==0', loc='center', fontsize=12, fontweight=0, color='grey')\n",
    "plt.xlabel('withinTaskIndex')\n",
    "plt.ylabel('Offset')\n",
    "\n",
    "plt.show()"
   ]
  },
  {
   "cell_type": "code",
   "execution_count": null,
   "metadata": {
    "scrolled": true
   },
   "outputs": [],
   "source": [
    "spaghettiPlot(\n",
    "    data_trial_calibration.loc[data_trial_calibration['chin']==1, :], \n",
    "    'withinTaskIndex', 'offset', 103)\n",
    "plt.ylim(0, 1)\n",
    "plt.title('Offset across calibration for chin==1', loc='center', fontsize=12, fontweight=0, color='grey')\n",
    "plt.xlabel('withinTaskIndex')\n",
    "plt.ylabel('Offset')\n",
    "\n",
    "plt.show()"
   ]
  },
  {
   "cell_type": "markdown",
   "metadata": {},
   "source": [
    "### Precision"
   ]
  },
  {
   "cell_type": "code",
   "execution_count": null,
   "metadata": {},
   "outputs": [],
   "source": [
    "spaghettiPlot(\n",
    "    data_trial_calibration.loc[data_trial_calibration['chin']==0, :], \n",
    "    'withinTaskIndex', 'precision', 103)\n",
    "plt.ylim(0, 1)\n",
    "plt.title('Precision across calibration for chin==0', loc='center', fontsize=12, fontweight=0, color='grey')\n",
    "plt.xlabel('withinTaskIndex')\n",
    "plt.ylabel('Precision')\n",
    "\n",
    "plt.show()"
   ]
  },
  {
   "cell_type": "code",
   "execution_count": null,
   "metadata": {},
   "outputs": [],
   "source": [
    "spaghettiPlot(\n",
    "    data_trial_calibration.loc[data_trial_calibration['chin']==1, :], \n",
    "    'withinTaskIndex', 'precision', 103)\n",
    "plt.ylim(0, 1)\n",
    "plt.title('Precision across calibration for chin==0', loc='center', fontsize=12, fontweight=0, color='grey')\n",
    "plt.xlabel('withinTaskIndex')\n",
    "plt.ylabel('Precision')\n",
    "\n",
    "plt.show()"
   ]
  },
  {
   "cell_type": "markdown",
   "metadata": {},
   "source": [
    "## categorical confounders"
   ]
  },
  {
   "cell_type": "code",
   "execution_count": null,
   "metadata": {},
   "outputs": [],
   "source": [
    "fig, axes = plt.subplots(1, 4, sharey=True, figsize=(3*5, 6))\n",
    "fig.suptitle('Subject properties vs. choice outcomes')\n",
    "\n",
    "predictors = [\n",
    "    'vertPosition',\n",
    "    'gender',\n",
    "    'ethnic', \n",
    "    'degree'\n",
    "             ]  \n",
    "for i in range(0, len(predictors)):\n",
    "    sns.boxplot(ax=axes[i], x=predictors[i], y='offset', data=data_subject)"
   ]
  },
  {
   "cell_type": "code",
   "execution_count": null,
   "metadata": {},
   "outputs": [],
   "source": [
    "fig, axes = plt.subplots(1, 4, sharey=True, figsize=(3*5, 6))\n",
    "fig.suptitle('Subject properties vs. choice outcomes')\n",
    "\n",
    "predictors = [\n",
    "    'vertPosition',\n",
    "    'gender',\n",
    "    'ethnic', \n",
    "    'degree'\n",
    "             ]  \n",
    "for i in range(0, len(predictors)):\n",
    "    sns.boxplot(ax=axes[i], x=predictors[i], y='precision', data=data_subject)"
   ]
  },
  {
   "cell_type": "markdown",
   "metadata": {},
   "source": [
    "# Correlation Plot"
   ]
  },
  {
   "cell_type": "code",
   "execution_count": null,
   "metadata": {},
   "outputs": [],
   "source": [
    "data_plot = data_trial_fix.merge(data_subject.loc[:, ['run_id', 'age']], on='run_id', how='left')\n",
    "correlation_columns = ['positionIndex', 'withinTaskIndex', 'age', 'fps', 'offset', 'precision']\n",
    "sns.pairplot(data_plot.loc[:, np.append(correlation_columns, ['chin'])], hue='chin')"
   ]
  },
  {
   "cell_type": "code",
   "execution_count": null,
   "metadata": {},
   "outputs": [],
   "source": [
    "corr_matrix = np.corrcoef(data_plot[correlation_columns].T)\n",
    "smg.plot_corr(corr_matrix, xnames=correlation_columns)\n",
    "plt.show()"
   ]
  },
  {
   "cell_type": "code",
   "execution_count": null,
   "metadata": {
    "scrolled": false
   },
   "outputs": [],
   "source": [
    "data_plot[correlation_columns].rcorr()"
   ]
  },
  {
   "cell_type": "code",
   "execution_count": null,
   "metadata": {
    "scrolled": true
   },
   "outputs": [],
   "source": [
    "data_plot[correlation_columns].rcorr(upper='n')"
   ]
  },
  {
   "cell_type": "markdown",
   "metadata": {},
   "source": [
    "# MLA Model"
   ]
  },
  {
   "cell_type": "code",
   "execution_count": null,
   "metadata": {
    "scrolled": true
   },
   "outputs": [],
   "source": [
    "data_plot = data_trial_fix.loc[:, ['run_id', 'chin', 'x_pos', 'y_pos', 'precision']]\n",
    "null_data = data_plot.loc[data_plot.isnull().any(axis=1), :]\n",
    "data_plot = data_plot.loc[pd.notna(data_plot['precision']), :].reset_index(drop=True)\n",
    "data_plot.loc[data_plot.isnull().any(axis=1), :]\n",
    "model = smf.mixedlm(\"precision ~ x_pos\", data_plot, groups=data_plot[\"run_id\"])\n",
    "model_fit = md.fit()\n",
    "print(model_fit.summary())"
   ]
  },
  {
   "cell_type": "markdown",
   "metadata": {},
   "source": [
    "# Export"
   ]
  },
  {
   "cell_type": "code",
   "execution_count": null,
   "metadata": {},
   "outputs": [],
   "source": [
    "data_et_calibration.to_csv(\"data_jupyter/data_et_calibration.csv\", index=False, header=True)\n",
    "data_trial_calibration.to_csv(\"data_jupyter/data_trial_calibration.csv\", index=False, header=True)\n",
    "\n",
    "data_et_fix.to_csv(\"data_jupyter/data_et_fix.csv\", index=False, header=True)\n",
    "data_trial_fix.to_csv(\"data_jupyter/data_trial_fix.csv\", index=False, header=True)\n",
    "\n",
    "data_subject.to_csv(\"data_jupyter/data_subject.csv\", index=False, header=True)"
   ]
  },
  {
   "cell_type": "markdown",
   "metadata": {},
   "source": [
    "# Feedback"
   ]
  },
  {
   "cell_type": "code",
   "execution_count": null,
   "metadata": {},
   "outputs": [],
   "source": [
    "print('Success! Script ran through')"
   ]
  }
 ],
 "metadata": {
  "kernelspec": {
   "display_name": "Python 3",
   "language": "python",
   "name": "python3"
  },
  "language_info": {
   "codemirror_mode": {
    "name": "ipython",
    "version": 3
   },
   "file_extension": ".py",
   "mimetype": "text/x-python",
   "name": "python",
   "nbconvert_exporter": "python",
   "pygments_lexer": "ipython3",
   "version": "3.7.7"
  },
  "toc": {
   "base_numbering": 1,
   "nav_menu": {
    "height": "419px",
    "width": "245.2px"
   },
   "number_sections": true,
   "sideBar": true,
   "skip_h1_title": false,
   "title_cell": "Table of Contents",
   "title_sidebar": "Contents",
   "toc_cell": false,
   "toc_position": {
    "height": "calc(100% - 180px)",
    "left": "10px",
    "top": "150px",
    "width": "193.067px"
   },
   "toc_section_display": true,
   "toc_window_display": true
  }
 },
 "nbformat": 4,
 "nbformat_minor": 4
}
