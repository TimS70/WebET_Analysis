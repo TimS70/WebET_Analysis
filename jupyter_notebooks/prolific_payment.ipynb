{
 "cells": [
  {
   "cell_type": "code",
   "execution_count": 1,
   "metadata": {},
   "outputs": [
    {
     "name": "stdout",
     "output_type": "stream",
     "text": [
      "Current Working directory  C:\\Users\\User\\GitHub\\WebET_Analysis\\prolific\n"
     ]
    }
   ],
   "source": [
    "import datetime\n",
    "from datetime import timedelta  \n",
    "import matplotlib.pyplot as plt\n",
    "import numpy as np\n",
    "import os\n",
    "import pandas as pd\n",
    "import sys\n",
    "from tqdm import tqdm \n",
    "\n",
    "    \n",
    "from IPython.display import HTML\n",
    "def View(df):\n",
    "    css = \"\"\"<style>\n",
    "    table { border-collapse: collapse; border: 3px solid #eee; }\n",
    "    table tr th:first-child { background-color: #eeeeee; color: #333; font-weight: bold }\n",
    "    table thead th { background-color: #eee; color: #000; }\n",
    "    tr, th, td { border: 1px solid #ccc; border-width: 1px 0 0 1px; border-collapse: collapse;\n",
    "    padding: 3px; font-family: monospace; font-size: 10px }</style>\n",
    "    \"\"\"\n",
    "    s  = '<script type=\"text/Javascript\">'\n",
    "    s += 'var win = window.open(\"\", \"Title\", \"toolbar=no, location=no, directories=no, status=no, menubar=no, scrollbars=yes, resizable=yes, width=780, height=200, top=\"+(screen.height-400)+\", left=\"+(screen.width-840));'\n",
    "    s += 'win.document.body.innerHTML = \\'' + (df.to_html() + css).replace(\"\\n\",'\\\\') + '\\';'\n",
    "    s += '</script>'\n",
    "    return(HTML(s+css))    \n",
    "    \n",
    "print(\"Current Working directory \" , os.getcwd())"
   ]
  },
  {
   "cell_type": "code",
   "execution_count": 2,
   "metadata": {},
   "outputs": [
    {
     "name": "stdout",
     "output_type": "stream",
     "text": [
      "                length\n",
      "data_et        2700001\n",
      "data_trial      132631\n",
      "data_subject       302\n",
      "data_prolific      357\n"
     ]
    }
   ],
   "source": [
    "data_et = pd.read_csv(r'C:/Users/User/GitHub/WebET_Analysis/data_jupyter/data_et.csv')\n",
    "data_trial = pd.read_csv(r'C:/Users/User/GitHub/WebET_Analysis/data_jupyter/data_trial.csv')\n",
    "data_subject = pd.read_csv(r'C:/Users/User/GitHub/WebET_Analysis/data_jupyter/data_subject_raw.csv') \\\n",
    "    .loc[:, \n",
    "            ['run_id', 'prolificID', \n",
    "             'birthyear', 'webcam_fps', 'webcam_label', \n",
    "             'chosenAmount', 'chosenDelay']] \\\n",
    "   .drop_duplicates() \\\n",
    "   .rename(columns={'chosenAmount': 'bonus_USD',\n",
    "                    'chosenDelay': 'bonus_delay'})\n",
    "data_subject['prolificID'] = data_subject['prolificID'].str.strip()\n",
    "\n",
    "data_prolific_int = pd.read_csv(r'C:/Users/User/GitHub/WebET_Analysis/prolific/prolific_export_int.csv') \\\n",
    "    .rename(columns={'participant_id': 'prolificID'}) \n",
    "\n",
    "data_prolific_us = pd.read_csv(r'C:/Users/User/GitHub/WebET_Analysis/prolific/prolific_export_us.csv') \\\n",
    "    .rename(columns={'participant_id': 'prolificID'}) \\\n",
    "\n",
    "data_prolific = data_prolific_int \\\n",
    "    .append(data_prolific_us) \\\n",
    "    .merge(data_subject,\n",
    "           on='prolificID', \n",
    "           how='left')\n",
    "\n",
    "overview = pd.DataFrame(\n",
    "    [\n",
    "        [len(data_et)],\n",
    "        [len(data_trial)],\n",
    "        [len(data_subject)],\n",
    "        [len(data_prolific)]\n",
    "    ], \n",
    "    columns=['length'],\n",
    "    index=['data_et', \n",
    "           'data_trial',\n",
    "           'data_subject', \n",
    "           'data_prolific'])\n",
    "print(overview)"
   ]
  },
  {
   "cell_type": "markdown",
   "metadata": {},
   "source": [
    "# Approve subjects"
   ]
  },
  {
   "cell_type": "code",
   "execution_count": 3,
   "metadata": {
    "scrolled": true
   },
   "outputs": [],
   "source": [
    "if 'trial_length' in data_prolific.columns: \n",
    "    data_prolific = data_prolific.drop(columns='trial_length')\n",
    "\n",
    "output = []\n",
    "for subject in data_trial['run_id'].unique():\n",
    "    prolificID = data_trial.loc[data_trial['run_id']==subject, 'prolificID'].unique()[0]\n",
    "    trial_length = len(data_trial.loc[data_trial['run_id']==subject, 'trial_index'].unique())\n",
    "    output.append([subject, prolificID, trial_length])\n",
    "output = pd.DataFrame(output,\n",
    "             columns=['run_id', 'prolificID', 'trial_length']\n",
    "            )\n",
    "\n",
    "data_prolific = data_prolific.merge(\n",
    "    output, \n",
    "    on=['run_id', 'prolificID'], \n",
    "    how='left')"
   ]
  },
  {
   "cell_type": "code",
   "execution_count": 4,
   "metadata": {},
   "outputs": [],
   "source": [
    "data_et = data_et.merge(\n",
    "    data_trial.loc[:, ['run_id', 'chinFirst', 'trial_index', 'trial_type', 'task_nr']], \n",
    "    on=['run_id', 'trial_index'], \n",
    "    how='left'\n",
    ")"
   ]
  },
  {
   "cell_type": "code",
   "execution_count": 5,
   "metadata": {},
   "outputs": [
    {
     "name": "stderr",
     "output_type": "stream",
     "text": [
      "100%|████████████████████████████████████████████████████████████████████████████████| 252/252 [04:47<00:00,  1.14s/it]\n"
     ]
    }
   ],
   "source": [
    "output = []\n",
    "for subject in tqdm(data_et['run_id'].unique()):\n",
    "    m_x_fix = data_et.loc[\n",
    "        (data_et['run_id']==subject) &\n",
    "        (data_et['trial_type']=='eyetracking-fix-object') &\n",
    "        ~((data_et['chinFirst']==1) & (data_et['task_nr']==2) |\n",
    "          (data_et['chinFirst']==0) & (data_et['task_nr']==3) \n",
    "         ), \n",
    "        'x'\n",
    "    ].mean()\n",
    "    m_x_choice = data_et.loc[\n",
    "        (data_et['run_id']==subject) &\n",
    "        (data_et['trial_type']=='eyetracking-choice'), \n",
    "        'x'\n",
    "    ].mean()\n",
    "\n",
    "    m_y_fix = data_et.loc[\n",
    "        (data_et['run_id']==subject) &\n",
    "        (data_et['trial_type']=='eyetracking-fix-object') &\n",
    "        ~((data_et['chinFirst']==1) & (data_et['task_nr']==2) |\n",
    "          (data_et['chinFirst']==0) & (data_et['task_nr']==3) \n",
    "         ), \n",
    "        'y'\n",
    "    ].mean()\n",
    "    m_y_choice = data_et.loc[\n",
    "        (data_et['run_id']==subject) &\n",
    "        (data_et['trial_type']=='eyetracking-choice'), \n",
    "        'y'\n",
    "    ].mean()\n",
    "\n",
    "    m_count_fix = data_et.loc[\n",
    "        (data_et['run_id']==subject) &\n",
    "        (data_et['trial_type']=='eyetracking-fix-object') &\n",
    "        ~((data_et['chinFirst']==1) & (data_et['task_nr']==2) |\n",
    "          (data_et['chinFirst']==0) & (data_et['task_nr']==3) \n",
    "         ), \n",
    "        'x'\n",
    "    ].count()\n",
    "\n",
    "    m_count_choice = data_et.loc[\n",
    "        (data_et['run_id']==subject) &\n",
    "        (data_et['trial_type']=='eyetracking-choice'), \n",
    "        'x'\n",
    "    ].count()\n",
    "    \n",
    "    n_choseTop = sum(data_trial.loc[\n",
    "        (data_trial['trial_type']=='eyetracking-choice') &\n",
    "        (data_trial['run_id']==subject),\n",
    "        'key_press']==38)\n",
    "\n",
    "    output.append([subject, m_x_fix, m_y_fix, m_x_choice, m_y_choice, \n",
    "                   m_count_fix, m_count_choice, \n",
    "                   n_choseTop])\n",
    "\n",
    "output = pd.DataFrame(output, \n",
    "                      columns=['run_id', 'm_x_fix', 'm_y_fix', 'm_x_choice', 'm_y_choice', \n",
    "                               'm_count_fix', 'm_count_choice',\n",
    "                               'n_choseTop'])\n",
    "output\n",
    "\n",
    "data_prolific = data_prolific.merge(output, on='run_id', how='left')"
   ]
  },
  {
   "cell_type": "markdown",
   "metadata": {},
   "source": [
    "# These subjects await review"
   ]
  },
  {
   "cell_type": "code",
   "execution_count": 6,
   "metadata": {},
   "outputs": [
    {
     "data": {
      "text/plain": [
       "array(['APPROVED', 'RETURNED', 'REJECTED', 'TIMED-OUT'], dtype=object)"
      ]
     },
     "execution_count": 6,
     "metadata": {},
     "output_type": "execute_result"
    }
   ],
   "source": [
    "data_prolific['status'].unique()"
   ]
  },
  {
   "cell_type": "code",
   "execution_count": 7,
   "metadata": {
    "scrolled": true
   },
   "outputs": [
    {
     "data": {
      "text/html": [
       "<div>\n",
       "<style scoped>\n",
       "    .dataframe tbody tr th:only-of-type {\n",
       "        vertical-align: middle;\n",
       "    }\n",
       "\n",
       "    .dataframe tbody tr th {\n",
       "        vertical-align: top;\n",
       "    }\n",
       "\n",
       "    .dataframe thead th {\n",
       "        text-align: right;\n",
       "    }\n",
       "</style>\n",
       "<table border=\"1\" class=\"dataframe\">\n",
       "  <thead>\n",
       "    <tr style=\"text-align: right;\">\n",
       "      <th></th>\n",
       "      <th>run_id</th>\n",
       "      <th>prolificID</th>\n",
       "      <th>started_datetime</th>\n",
       "      <th>time_taken</th>\n",
       "      <th>trial_length</th>\n",
       "    </tr>\n",
       "  </thead>\n",
       "  <tbody>\n",
       "  </tbody>\n",
       "</table>\n",
       "</div>"
      ],
      "text/plain": [
       "Empty DataFrame\n",
       "Columns: [run_id, prolificID, started_datetime, time_taken, trial_length]\n",
       "Index: []"
      ]
     },
     "execution_count": 7,
     "metadata": {},
     "output_type": "execute_result"
    }
   ],
   "source": [
    "awaiting_review = data_prolific.loc[\n",
    "    data_prolific['status']=='AWAITING REVIEW', \n",
    "    ['run_id', 'prolificID', 'started_datetime', 'time_taken', 'trial_length',\n",
    "     #'m_x_fix', 'm_y_fix', 'm_x_choice', 'm_y_choice', 'm_count_fix', 'm_count_choice',\n",
    "     #'n_choseTop'\n",
    "    ]\n",
    "].sort_values(by='started_datetime')\n",
    "awaiting_review\n",
    "# View(awaiting_review)"
   ]
  },
  {
   "cell_type": "code",
   "execution_count": 8,
   "metadata": {},
   "outputs": [
    {
     "data": {
      "text/plain": [
       "''"
      ]
     },
     "execution_count": 8,
     "metadata": {},
     "output_type": "execute_result"
    }
   ],
   "source": [
    "data_prolific.loc[\n",
    "    data_prolific['status']=='AWAITING REVIEW', \n",
    "    'prolificID'].to_csv(header=None, index=False, line_terminator=', ')"
   ]
  },
  {
   "cell_type": "code",
   "execution_count": 9,
   "metadata": {},
   "outputs": [
    {
     "data": {
      "text/html": [
       "<div>\n",
       "<style scoped>\n",
       "    .dataframe tbody tr th:only-of-type {\n",
       "        vertical-align: middle;\n",
       "    }\n",
       "\n",
       "    .dataframe tbody tr th {\n",
       "        vertical-align: top;\n",
       "    }\n",
       "\n",
       "    .dataframe thead th {\n",
       "        text-align: right;\n",
       "    }\n",
       "</style>\n",
       "<table border=\"1\" class=\"dataframe\">\n",
       "  <thead>\n",
       "    <tr style=\"text-align: right;\">\n",
       "      <th></th>\n",
       "      <th>run_id</th>\n",
       "      <th>prolificID</th>\n",
       "      <th>webcam_fps</th>\n",
       "      <th>choice_rt</th>\n",
       "      <th>bonus_USD</th>\n",
       "      <th>bonus_delay</th>\n",
       "    </tr>\n",
       "  </thead>\n",
       "  <tbody>\n",
       "  </tbody>\n",
       "</table>\n",
       "</div>"
      ],
      "text/plain": [
       "Empty DataFrame\n",
       "Columns: [run_id, prolificID, webcam_fps, choice_rt, bonus_USD, bonus_delay]\n",
       "Index: []"
      ]
     },
     "execution_count": 9,
     "metadata": {},
     "output_type": "execute_result"
    }
   ],
   "source": [
    "if 'choice_rt' in data_prolific.columns:\n",
    "    data_prolific = data_prolific.drop(columns='choice_rt')\n",
    "grouped = data_trial \\\n",
    "    .loc[\n",
    "        data_trial['trial_type']=='eyetracking-choice', \n",
    "        :] \\\n",
    "    .groupby(['prolificID'])['rt'].mean() \\\n",
    "    .reset_index() \\\n",
    "    .rename(columns={'rt': 'choice_rt'})\n",
    "\n",
    "data_prolific = data_prolific.merge(\n",
    "    grouped, \n",
    "    on='prolificID', \n",
    "    how='left')\n",
    "\n",
    "data_prolific.loc[\n",
    "    data_prolific['status']=='AWAITING REVIEW', \n",
    "    ['run_id', 'prolificID', 'webcam_fps', \n",
    "     'choice_rt', 'bonus_USD', 'bonus_delay']\n",
    "] \\\n",
    "    .sort_values(by='run_id')"
   ]
  },
  {
   "cell_type": "markdown",
   "metadata": {},
   "source": [
    "# data_pay"
   ]
  },
  {
   "cell_type": "code",
   "execution_count": 10,
   "metadata": {},
   "outputs": [
    {
     "name": "stdout",
     "output_type": "stream",
     "text": [
      "251\n"
     ]
    }
   ],
   "source": [
    "data_pay = data_prolific.loc[\n",
    "    data_prolific['status']=='APPROVED', \n",
    "    [\n",
    "        'run_id', 'prolificID', 'trial_length', \n",
    "        'age',  'Country of Birth', 'Current Country of Residence', 'First Language',\n",
    "        'Nationality', 'Sex',\n",
    "        'status', 'reviewed_at_datetime', 'Country of Birth', 'entered_code',\n",
    "        'session_id', 'started_datetime', 'completed_date_time', 'time_taken',\n",
    "        'bonus_USD', 'bonus_delay'\n",
    "    ]\n",
    "]\n",
    "print(len(data_pay))"
   ]
  },
  {
   "cell_type": "markdown",
   "metadata": {},
   "source": [
    "# Bonus payment"
   ]
  },
  {
   "cell_type": "markdown",
   "metadata": {},
   "source": [
    "Reformat payments"
   ]
  },
  {
   "cell_type": "code",
   "execution_count": 11,
   "metadata": {
    "scrolled": true
   },
   "outputs": [
    {
     "data": {
      "text/html": [
       "<div>\n",
       "<style scoped>\n",
       "    .dataframe tbody tr th:only-of-type {\n",
       "        vertical-align: middle;\n",
       "    }\n",
       "\n",
       "    .dataframe tbody tr th {\n",
       "        vertical-align: top;\n",
       "    }\n",
       "\n",
       "    .dataframe thead th {\n",
       "        text-align: right;\n",
       "    }\n",
       "</style>\n",
       "<table border=\"1\" class=\"dataframe\">\n",
       "  <thead>\n",
       "    <tr style=\"text-align: right;\">\n",
       "      <th></th>\n",
       "      <th>bonus_USD</th>\n",
       "      <th>bonus_delay</th>\n",
       "    </tr>\n",
       "  </thead>\n",
       "  <tbody>\n",
       "    <tr>\n",
       "      <th>0</th>\n",
       "      <td>4.5</td>\n",
       "      <td>7.0</td>\n",
       "    </tr>\n",
       "    <tr>\n",
       "      <th>3</th>\n",
       "      <td>4.5</td>\n",
       "      <td>30.0</td>\n",
       "    </tr>\n",
       "    <tr>\n",
       "      <th>4</th>\n",
       "      <td>4.5</td>\n",
       "      <td>30.0</td>\n",
       "    </tr>\n",
       "    <tr>\n",
       "      <th>5</th>\n",
       "      <td>4.0</td>\n",
       "      <td>30.0</td>\n",
       "    </tr>\n",
       "    <tr>\n",
       "      <th>10</th>\n",
       "      <td>5.0</td>\n",
       "      <td>30.0</td>\n",
       "    </tr>\n",
       "  </tbody>\n",
       "</table>\n",
       "</div>"
      ],
      "text/plain": [
       "    bonus_USD  bonus_delay\n",
       "0         4.5          7.0\n",
       "3         4.5         30.0\n",
       "4         4.5         30.0\n",
       "5         4.0         30.0\n",
       "10        5.0         30.0"
      ]
     },
     "execution_count": 11,
     "metadata": {},
     "output_type": "execute_result"
    }
   ],
   "source": [
    "data_pay['bonus_delay'] = data_pay['bonus_delay'].astype(str)\n",
    "data_pay['bonus_delay'] = data_pay['bonus_delay'] \\\n",
    "    .replace(['Today', 'Tomorrow', '7 days', \n",
    "          '15 days', '30 days', '90 days', \n",
    "          '180 days'], \n",
    "         [0, 1, 7, 15, 30, 90, 180]) \\\n",
    "    .astype(float)\n",
    "\n",
    "data_pay['bonus_USD'] = data_pay['bonus_USD'].astype(str)\n",
    "data_pay['bonus_USD'] = data_pay['bonus_USD'] \\\n",
    "    .replace({'\\$':''}, regex = True) \\\n",
    "    .replace('50 cent', 0.5) \\\n",
    "    .astype(float)\n",
    "\n",
    "data_pay.loc[:, ['bonus_USD', 'bonus_delay']].head(5)"
   ]
  },
  {
   "cell_type": "markdown",
   "metadata": {},
   "source": [
    "## Missing values"
   ]
  },
  {
   "cell_type": "code",
   "execution_count": 12,
   "metadata": {},
   "outputs": [
    {
     "data": {
      "text/html": [
       "<div>\n",
       "<style scoped>\n",
       "    .dataframe tbody tr th:only-of-type {\n",
       "        vertical-align: middle;\n",
       "    }\n",
       "\n",
       "    .dataframe tbody tr th {\n",
       "        vertical-align: top;\n",
       "    }\n",
       "\n",
       "    .dataframe thead th {\n",
       "        text-align: right;\n",
       "    }\n",
       "</style>\n",
       "<table border=\"1\" class=\"dataframe\">\n",
       "  <thead>\n",
       "    <tr style=\"text-align: right;\">\n",
       "      <th></th>\n",
       "      <th>run_id</th>\n",
       "      <th>prolificID</th>\n",
       "      <th>bonus_USD</th>\n",
       "      <th>bonus_delay</th>\n",
       "    </tr>\n",
       "  </thead>\n",
       "  <tbody>\n",
       "    <tr>\n",
       "      <th>11</th>\n",
       "      <td>9.0</td>\n",
       "      <td>5fea6632bf9ae4a79153efdf</td>\n",
       "      <td>5.0</td>\n",
       "      <td>1.0</td>\n",
       "    </tr>\n",
       "    <tr>\n",
       "      <th>15</th>\n",
       "      <td>12.0</td>\n",
       "      <td>5b8969006651ea000118e42e</td>\n",
       "      <td>5.0</td>\n",
       "      <td>1.0</td>\n",
       "    </tr>\n",
       "    <tr>\n",
       "      <th>49</th>\n",
       "      <td>48.0</td>\n",
       "      <td>5fa1192cf99e161a5cfad1cd</td>\n",
       "      <td>5.0</td>\n",
       "      <td>1.0</td>\n",
       "    </tr>\n",
       "    <tr>\n",
       "      <th>66</th>\n",
       "      <td>61.0</td>\n",
       "      <td>5fb2af792942a58ffe303948</td>\n",
       "      <td>5.0</td>\n",
       "      <td>1.0</td>\n",
       "    </tr>\n",
       "    <tr>\n",
       "      <th>71</th>\n",
       "      <td>70.0</td>\n",
       "      <td>5d430fdf871f1700017b2a81</td>\n",
       "      <td>5.0</td>\n",
       "      <td>1.0</td>\n",
       "    </tr>\n",
       "    <tr>\n",
       "      <th>86</th>\n",
       "      <td>NaN</td>\n",
       "      <td>5edc20443467e28ec4e30f93</td>\n",
       "      <td>5.0</td>\n",
       "      <td>1.0</td>\n",
       "    </tr>\n",
       "    <tr>\n",
       "      <th>113</th>\n",
       "      <td>183.0</td>\n",
       "      <td>5c95970cd676900016e1a940</td>\n",
       "      <td>5.0</td>\n",
       "      <td>1.0</td>\n",
       "    </tr>\n",
       "    <tr>\n",
       "      <th>148</th>\n",
       "      <td>221.0</td>\n",
       "      <td>5ef6d07be683903cd5ae171d</td>\n",
       "      <td>5.0</td>\n",
       "      <td>1.0</td>\n",
       "    </tr>\n",
       "    <tr>\n",
       "      <th>149</th>\n",
       "      <td>224.0</td>\n",
       "      <td>5ef6d07be683903cd5ae171d</td>\n",
       "      <td>5.0</td>\n",
       "      <td>1.0</td>\n",
       "    </tr>\n",
       "    <tr>\n",
       "      <th>199</th>\n",
       "      <td>NaN</td>\n",
       "      <td>60186dc2cc1aa8103499603a</td>\n",
       "      <td>5.0</td>\n",
       "      <td>1.0</td>\n",
       "    </tr>\n",
       "    <tr>\n",
       "      <th>302</th>\n",
       "      <td>392.0</td>\n",
       "      <td>5f4fe72e9468441227166179</td>\n",
       "      <td>5.0</td>\n",
       "      <td>1.0</td>\n",
       "    </tr>\n",
       "    <tr>\n",
       "      <th>352</th>\n",
       "      <td>NaN</td>\n",
       "      <td>5ec5a64c306f255ec98d5cc1</td>\n",
       "      <td>5.0</td>\n",
       "      <td>1.0</td>\n",
       "    </tr>\n",
       "  </tbody>\n",
       "</table>\n",
       "</div>"
      ],
      "text/plain": [
       "     run_id                prolificID  bonus_USD  bonus_delay\n",
       "11      9.0  5fea6632bf9ae4a79153efdf        5.0          1.0\n",
       "15     12.0  5b8969006651ea000118e42e        5.0          1.0\n",
       "49     48.0  5fa1192cf99e161a5cfad1cd        5.0          1.0\n",
       "66     61.0  5fb2af792942a58ffe303948        5.0          1.0\n",
       "71     70.0  5d430fdf871f1700017b2a81        5.0          1.0\n",
       "86      NaN  5edc20443467e28ec4e30f93        5.0          1.0\n",
       "113   183.0  5c95970cd676900016e1a940        5.0          1.0\n",
       "148   221.0  5ef6d07be683903cd5ae171d        5.0          1.0\n",
       "149   224.0  5ef6d07be683903cd5ae171d        5.0          1.0\n",
       "199     NaN  60186dc2cc1aa8103499603a        5.0          1.0\n",
       "302   392.0  5f4fe72e9468441227166179        5.0          1.0\n",
       "352     NaN  5ec5a64c306f255ec98d5cc1        5.0          1.0"
      ]
     },
     "execution_count": 12,
     "metadata": {},
     "output_type": "execute_result"
    }
   ],
   "source": [
    "# For two subjects, the bonus payment was not recorded\n",
    "data_pay.loc[\n",
    "    data_pay['prolificID'].isin([\n",
    "        '5ef6d07be683903cd5ae171d',\n",
    "        '5fea6632bf9ae4a79153efdf',\n",
    "        '60186dc2cc1aa8103499603a',\n",
    "        '5f4fe72e9468441227166179',\n",
    "        '5ec5a64c306f255ec98d5cc1',\n",
    "        '5b8969006651ea000118e42e', \n",
    "        '5fb2af792942a58ffe303948', \n",
    "        '5edc20443467e28ec4e30f93',\n",
    "        '5fa1192cf99e161a5cfad1cd', \n",
    "        '5d430fdf871f1700017b2a81',\n",
    "        '5c95970cd676900016e1a940',\n",
    "    ]), ['bonus_USD', 'bonus_delay']] = [5, 1]\n",
    "\n",
    "data_pay.loc[data_pay['prolificID'].isin([\n",
    "        '5fea6632bf9ae4a79153efdf',\n",
    "        '5ef6d07be683903cd5ae171d',\n",
    "        '60186dc2cc1aa8103499603a',\n",
    "        '5f4fe72e9468441227166179',\n",
    "        '5ec5a64c306f255ec98d5cc1',\n",
    "        '5b8969006651ea000118e42e', \n",
    "        '5fb2af792942a58ffe303948', \n",
    "        '5edc20443467e28ec4e30f93',\n",
    "        '5fa1192cf99e161a5cfad1cd', \n",
    "        '5d430fdf871f1700017b2a81',\n",
    "        '5c95970cd676900016e1a940',\n",
    "        ]), ['run_id', 'prolificID', 'bonus_USD', 'bonus_delay']]"
   ]
  },
  {
   "cell_type": "code",
   "execution_count": 13,
   "metadata": {
    "scrolled": true
   },
   "outputs": [
    {
     "data": {
      "text/html": [
       "<div>\n",
       "<style scoped>\n",
       "    .dataframe tbody tr th:only-of-type {\n",
       "        vertical-align: middle;\n",
       "    }\n",
       "\n",
       "    .dataframe tbody tr th {\n",
       "        vertical-align: top;\n",
       "    }\n",
       "\n",
       "    .dataframe thead th {\n",
       "        text-align: right;\n",
       "    }\n",
       "</style>\n",
       "<table border=\"1\" class=\"dataframe\">\n",
       "  <thead>\n",
       "    <tr style=\"text-align: right;\">\n",
       "      <th></th>\n",
       "      <th>run_id</th>\n",
       "      <th>prolificID</th>\n",
       "      <th>trial_length</th>\n",
       "      <th>started_datetime</th>\n",
       "      <th>reviewed_at_datetime</th>\n",
       "    </tr>\n",
       "  </thead>\n",
       "  <tbody>\n",
       "  </tbody>\n",
       "</table>\n",
       "</div>"
      ],
      "text/plain": [
       "Empty DataFrame\n",
       "Columns: [run_id, prolificID, trial_length, started_datetime, reviewed_at_datetime]\n",
       "Index: []"
      ]
     },
     "execution_count": 13,
     "metadata": {},
     "output_type": "execute_result"
    }
   ],
   "source": [
    "data_pay.loc[\n",
    "    data_pay[['bonus_USD', 'bonus_delay']].isnull().any(axis=1), \n",
    "    ['run_id', 'prolificID', 'trial_length', 'started_datetime', 'reviewed_at_datetime']\n",
    "].sort_values(by='started_datetime')"
   ]
  },
  {
   "cell_type": "markdown",
   "metadata": {},
   "source": [
    "## Bonus in other currencies"
   ]
  },
  {
   "cell_type": "code",
   "execution_count": 14,
   "metadata": {},
   "outputs": [],
   "source": [
    "data_pay['bonus_GBP'] = data_pay['bonus_USD'] * 0.75\n",
    "data_pay['bonus_EUR'] = data_pay['bonus_GBP'] * 1.13"
   ]
  },
  {
   "cell_type": "markdown",
   "metadata": {},
   "source": [
    "## When is the bonus due?"
   ]
  },
  {
   "cell_type": "code",
   "execution_count": 15,
   "metadata": {},
   "outputs": [
    {
     "name": "stdout",
     "output_type": "stream",
     "text": [
      "251\n"
     ]
    },
    {
     "name": "stderr",
     "output_type": "stream",
     "text": [
      "C:\\Users\\User\\miniconda3\\lib\\site-packages\\pandas\\core\\arrays\\datetimelike.py:1108: PerformanceWarning: Adding/subtracting object-dtype array to TimedeltaArray not vectorized\n",
      "  warnings.warn(\n"
     ]
    }
   ],
   "source": [
    "def add_recorded_date(data, data_trial):\n",
    "    output = []\n",
    "\n",
    "    for subject in data_trial['run_id'].unique():\n",
    "        thisSubject = data_trial.loc[data_trial['run_id']==subject] \\\n",
    "            .reset_index(drop=True)\n",
    "        date_time_obj = datetime.datetime.strptime(\n",
    "            thisSubject.loc[0, 'recorded_at'], '%Y-%m-%d %H:%M:%S')\n",
    "\n",
    "        output.append([thisSubject.loc[0, 'run_id'], date_time_obj.date()])\n",
    "        \n",
    "    output = pd.DataFrame(output, columns=['run_id', 'date']) \n",
    "    \n",
    "    if 'date' in data.columns: data = data.drop(columns=['date'])\n",
    "    data = data.merge(output, on='run_id', how='left')\n",
    "    return data\n",
    "\n",
    "data_pay = add_recorded_date(data_pay, data_trial)\n",
    "    \n",
    "data_pay.loc[data_pay['run_id']==444, 'completed_date_time'] = \\\n",
    "    '2021-02-13 21:52:30.000000'\n",
    "    \n",
    "data_pay['completed_date']=data_pay.apply(\n",
    "    lambda x: datetime.datetime.strptime(\n",
    "        x['completed_date_time'], '%Y-%m-%d %H:%M:%S.%f') \\\n",
    "            .date(),\n",
    "    axis=1)\n",
    "\n",
    "data_pay['due_on'] = data_pay['completed_date'] + \\\n",
    "    data_pay['bonus_delay'].map(datetime.timedelta) \n",
    "\n",
    "print(len(data_pay))"
   ]
  },
  {
   "cell_type": "code",
   "execution_count": 28,
   "metadata": {},
   "outputs": [
    {
     "data": {
      "text/html": [
       "<script type=\"text/Javascript\">var win = window.open(\"\", \"Title\", \"toolbar=no, location=no, directories=no, status=no, menubar=no, scrollbars=yes, resizable=yes, width=780, height=200, top=\"+(screen.height-400)+\", left=\"+(screen.width-840));win.document.body.innerHTML = '<table border=\"1\" class=\"dataframe\">\\  <thead>\\    <tr style=\"text-align: right;\">\\      <th></th>\\      <th>prolificID</th>\\      <th>run_id</th>\\      <th>Nationality</th>\\      <th>Current Country of Residence</th>\\      <th>Sex</th>\\      <th>bonus_USD</th>\\      <th>bonus_GBP</th>\\      <th>bonus_EUR</th>\\      <th>completed_date</th>\\      <th>bonus_delay</th>\\      <th>due_on</th>\\    </tr>\\  </thead>\\  <tbody>\\    <tr>\\      <th>9</th>\\      <td>5f77a902fc647a327b77004a</td>\\      <td>24.0</td>\\      <td>United Kingdom</td>\\      <td>United Kingdom</td>\\      <td>Female</td>\\      <td>3.0</td>\\      <td>2.250</td>\\      <td>2.54250</td>\\      <td>2021-01-18</td>\\      <td>0.0</td>\\      <td>2021-01-18</td>\\    </tr>\\    <tr>\\      <th>14</th>\\      <td>5f561a95aa1c4ea13672f138</td>\\      <td>28.0</td>\\      <td>Italy</td>\\      <td>United Kingdom</td>\\      <td>Male</td>\\      <td>2.5</td>\\      <td>1.875</td>\\      <td>2.11875</td>\\      <td>2021-01-18</td>\\      <td>0.0</td>\\      <td>2021-01-18</td>\\    </tr>\\    <tr>\\      <th>13</th>\\      <td>5eeaa0ffaa6af11cf32ce057</td>\\      <td>30.0</td>\\      <td>Poland</td>\\      <td>Poland</td>\\      <td>Male</td>\\      <td>3.0</td>\\      <td>2.250</td>\\      <td>2.54250</td>\\      <td>2021-01-18</td>\\      <td>0.0</td>\\      <td>2021-01-18</td>\\    </tr>\\    <tr>\\      <th>17</th>\\      <td>5f8472685956c40c720d0936</td>\\      <td>36.0</td>\\      <td>Italy</td>\\      <td>Italy</td>\\      <td>Male</td>\\      <td>0.5</td>\\      <td>0.375</td>\\      <td>0.42375</td>\\      <td>2021-01-18</td>\\      <td>0.0</td>\\      <td>2021-01-18</td>\\    </tr>\\    <tr>\\      <th>7</th>\\      <td>5c5684ef9d244c0001b29f1e</td>\\      <td>11.0</td>\\      <td>United States</td>\\      <td>United States</td>\\      <td>Male</td>\\      <td>3.5</td>\\      <td>2.625</td>\\      <td>2.96625</td>\\      <td>2021-01-18</td>\\      <td>0.0</td>\\      <td>2021-01-18</td>\\    </tr>\\    <tr>\\      <th>18</th>\\      <td>5f0cb319d29147695796a208</td>\\      <td>37.0</td>\\      <td>Italy</td>\\      <td>United Kingdom</td>\\      <td>Male</td>\\      <td>3.0</td>\\      <td>2.250</td>\\      <td>2.54250</td>\\      <td>2021-01-18</td>\\      <td>0.0</td>\\      <td>2021-01-18</td>\\    </tr>\\    <tr>\\      <th>28</th>\\      <td>5cf67b30c5cf0e00010c00fc</td>\\      <td>90.0</td>\\      <td>Spain</td>\\      <td>Spain</td>\\      <td>Female</td>\\      <td>3.0</td>\\      <td>2.250</td>\\      <td>2.54250</td>\\      <td>2021-01-19</td>\\      <td>0.0</td>\\      <td>2021-01-19</td>\\    </tr>\\    <tr>\\      <th>42</th>\\      <td>5f256074297aac1d8ef7382d</td>\\      <td>91.0</td>\\      <td>Hungary</td>\\      <td>Hungary</td>\\      <td>Male</td>\\      <td>2.5</td>\\      <td>1.875</td>\\      <td>2.11875</td>\\      <td>2021-01-19</td>\\      <td>0.0</td>\\      <td>2021-01-19</td>\\    </tr>\\    <tr>\\      <th>8</th>\\      <td>5b8969006651ea000118e42e</td>\\      <td>12.0</td>\\      <td>Italy</td>\\      <td>Italy</td>\\      <td>Female</td>\\      <td>5.0</td>\\      <td>3.750</td>\\      <td>4.23750</td>\\      <td>2021-01-18</td>\\      <td>1.0</td>\\      <td>2021-01-19</td>\\    </tr>\\    <tr>\\      <th>21</th>\\      <td>5f4756db83588013e9e31bfc</td>\\      <td>93.0</td>\\      <td>South Africa</td>\\      <td>South Africa</td>\\      <td>Male</td>\\      <td>2.0</td>\\      <td>1.500</td>\\      <td>1.69500</td>\\      <td>2021-01-19</td>\\      <td>0.0</td>\\      <td>2021-01-19</td>\\    </tr>\\    <tr>\\      <th>10</th>\\      <td>5f1e9db721e4f101783fe21c</td>\\      <td>38.0</td>\\      <td>Poland</td>\\      <td>Poland</td>\\      <td>Male</td>\\      <td>4.0</td>\\      <td>3.000</td>\\      <td>3.39000</td>\\      <td>2021-01-18</td>\\      <td>1.0</td>\\      <td>2021-01-19</td>\\    </tr>\\    <tr>\\      <th>30</th>\\      <td>5c6cb4163023800001e71898</td>\\      <td>81.0</td>\\      <td>Greece</td>\\      <td>Greece</td>\\      <td>Male</td>\\      <td>3.5</td>\\      <td>2.625</td>\\      <td>2.96625</td>\\      <td>2021-01-19</td>\\      <td>0.0</td>\\      <td>2021-01-19</td>\\    </tr>\\    <tr>\\      <th>12</th>\\      <td>5fcbb3066829ff1a601fe080</td>\\      <td>42.0</td>\\      <td>United Kingdom</td>\\      <td>United Kingdom</td>\\      <td>Female</td>\\      <td>5.0</td>\\      <td>3.750</td>\\      <td>4.23750</td>\\      <td>2021-01-18</td>\\      <td>1.0</td>\\      <td>2021-01-19</td>\\    </tr>\\    <tr>\\      <th>48</th>\\      <td>5e53a7b4d9a7ea3a2b062da0</td>\\      <td>131.0</td>\\      <td>United Kingdom</td>\\      <td>United Kingdom</td>\\      <td>Female</td>\\      <td>3.5</td>\\      <td>2.625</td>\\      <td>2.96625</td>\\      <td>2021-01-19</td>\\      <td>0.0</td>\\      <td>2021-01-19</td>\\    </tr>\\    <tr>\\      <th>49</th>\\      <td>5fea19869bf07d97b4a87ae8</td>\\      <td>130.0</td>\\      <td>Spain</td>\\      <td>Spain</td>\\      <td>Male</td>\\      <td>4.0</td>\\      <td>3.000</td>\\      <td>3.39000</td>\\      <td>2021-01-19</td>\\      <td>0.0</td>\\      <td>2021-01-19</td>\\    </tr>\\    <tr>\\      <th>32</th>\\      <td>5cfb9f6f288ca80001169952</td>\\      <td>67.0</td>\\      <td>Poland</td>\\      <td>Poland</td>\\      <td>Male</td>\\      <td>2.0</td>\\      <td>1.500</td>\\      <td>1.69500</td>\\      <td>2021-01-19</td>\\      <td>0.0</td>\\      <td>2021-01-19</td>\\    </tr>\\    <tr>\\      <th>31</th>\\      <td>5e79d99f6873570009367716</td>\\      <td>56.0</td>\\      <td>United Kingdom</td>\\      <td>United Kingdom</td>\\      <td>Female</td>\\      <td>4.5</td>\\      <td>3.375</td>\\      <td>3.81375</td>\\      <td>2021-01-19</td>\\      <td>0.0</td>\\      <td>2021-01-19</td>\\    </tr>\\    <tr>\\      <th>5</th>\\      <td>5fea6632bf9ae4a79153efdf</td>\\      <td>9.0</td>\\      <td>Serbia</td>\\      <td>Austria</td>\\      <td>Male</td>\\      <td>5.0</td>\\      <td>3.750</td>\\      <td>4.23750</td>\\      <td>2021-01-18</td>\\      <td>1.0</td>\\      <td>2021-01-19</td>\\    </tr>\\    <tr>\\      <th>25</th>\\      <td>5f5793d85411a8251740e602</td>\\      <td>47.0</td>\\      <td>Poland</td>\\      <td>Poland</td>\\      <td>Male</td>\\      <td>4.5</td>\\      <td>3.375</td>\\      <td>3.81375</td>\\      <td>2021-01-19</td>\\      <td>0.0</td>\\      <td>2021-01-19</td>\\    </tr>\\    <tr>\\      <th>45</th>\\      <td>5edc20443467e28ec4e30f93</td>\\      <td>NaN</td>\\      <td>United Kingdom</td>\\      <td>United Kingdom</td>\\      <td>Male</td>\\      <td>5.0</td>\\      <td>3.750</td>\\      <td>4.23750</td>\\      <td>2021-01-19</td>\\      <td>1.0</td>\\      <td>2021-01-20</td>\\    </tr>\\    <tr>\\      <th>38</th>\\      <td>5d430fdf871f1700017b2a81</td>\\      <td>70.0</td>\\      <td>Spain</td>\\      <td>Spain</td>\\      <td>Male</td>\\      <td>5.0</td>\\      <td>3.750</td>\\      <td>4.23750</td>\\      <td>2021-01-19</td>\\      <td>1.0</td>\\      <td>2021-01-20</td>\\    </tr>\\    <tr>\\      <th>43</th>\\      <td>5e2db0f07dc16b3a611516bd</td>\\      <td>85.0</td>\\      <td>United Kingdom</td>\\      <td>United Kingdom</td>\\      <td>Female</td>\\      <td>4.5</td>\\      <td>3.375</td>\\      <td>3.81375</td>\\      <td>2021-01-19</td>\\      <td>1.0</td>\\      <td>2021-01-20</td>\\    </tr>\\    <tr>\\      <th>26</th>\\      <td>5fa1192cf99e161a5cfad1cd</td>\\      <td>48.0</td>\\      <td>Poland</td>\\      <td>Poland</td>\\      <td>Male</td>\\      <td>5.0</td>\\      <td>3.750</td>\\      <td>4.23750</td>\\      <td>2021-01-19</td>\\      <td>1.0</td>\\      <td>2021-01-20</td>\\    </tr>\\    <tr>\\      <th>35</th>\\      <td>5fb2af792942a58ffe303948</td>\\      <td>61.0</td>\\      <td>Germany</td>\\      <td>Germany</td>\\      <td>Female</td>\\      <td>5.0</td>\\      <td>3.750</td>\\      <td>4.23750</td>\\      <td>2021-01-19</td>\\      <td>1.0</td>\\      <td>2021-01-20</td>\\    </tr>\\    <tr>\\      <th>0</th>\\      <td>5f860a189bc695131f22ec9c</td>\\      <td>19.0</td>\\      <td>Poland</td>\\      <td>Poland</td>\\      <td>Male</td>\\      <td>4.5</td>\\      <td>3.375</td>\\      <td>3.81375</td>\\      <td>2021-01-18</td>\\      <td>7.0</td>\\      <td>2021-01-25</td>\\    </tr>\\    <tr>\\      <th>23</th>\\      <td>5fa69c24315bfb2d0a37c685</td>\\      <td>80.0</td>\\      <td>Poland</td>\\      <td>Poland</td>\\      <td>Male</td>\\      <td>4.0</td>\\      <td>3.000</td>\\      <td>3.39000</td>\\      <td>2021-01-19</td>\\      <td>7.0</td>\\      <td>2021-01-26</td>\\    </tr>\\    <tr>\\      <th>47</th>\\      <td>5f01a0893963d02ea1d65d12</td>\\      <td>128.0</td>\\      <td>Greece</td>\\      <td>Greece</td>\\      <td>Male</td>\\      <td>4.5</td>\\      <td>3.375</td>\\      <td>3.81375</td>\\      <td>2021-01-19</td>\\      <td>7.0</td>\\      <td>2021-01-26</td>\\    </tr>\\    <tr>\\      <th>6</th>\\      <td>5f4e08aafb74230a29cb4ef0</td>\\      <td>6.0</td>\\      <td>Poland</td>\\      <td>Poland</td>\\      <td>Male</td>\\      <td>5.0</td>\\      <td>3.750</td>\\      <td>4.23750</td>\\      <td>2021-01-18</td>\\      <td>15.0</td>\\      <td>2021-02-02</td>\\    </tr>\\    <tr>\\      <th>22</th>\\      <td>5ecfc227f036c902457fc44c</td>\\      <td>94.0</td>\\      <td>United Kingdom</td>\\      <td>United Kingdom</td>\\      <td>Female</td>\\      <td>4.0</td>\\      <td>3.000</td>\\      <td>3.39000</td>\\      <td>2021-01-19</td>\\      <td>15.0</td>\\      <td>2021-02-03</td>\\    </tr>\\    <tr>\\      <th>27</th>\\      <td>5f91b067130f8504520cdd6f</td>\\      <td>92.0</td>\\      <td>Italy</td>\\      <td>United Kingdom</td>\\      <td>Male</td>\\      <td>4.5</td>\\      <td>3.375</td>\\      <td>3.81375</td>\\      <td>2021-01-19</td>\\      <td>15.0</td>\\      <td>2021-02-03</td>\\    </tr>\\    <tr>\\      <th>29</th>\\      <td>5fc6bcbc6da34d0f8dd78a3a</td>\\      <td>63.0</td>\\      <td>Poland</td>\\      <td>Poland</td>\\      <td>Male</td>\\      <td>4.0</td>\\      <td>3.000</td>\\      <td>3.39000</td>\\      <td>2021-01-19</td>\\      <td>15.0</td>\\      <td>2021-02-03</td>\\    </tr>\\    <tr>\\      <th>33</th>\\      <td>5fe6fb05b9b609059e4613e0</td>\\      <td>59.0</td>\\      <td>Mexico</td>\\      <td>Mexico</td>\\      <td>Male</td>\\      <td>4.0</td>\\      <td>3.000</td>\\      <td>3.39000</td>\\      <td>2021-01-19</td>\\      <td>15.0</td>\\      <td>2021-02-03</td>\\    </tr>\\    <tr>\\      <th>34</th>\\      <td>5de5157820c5aa09b7a53b89</td>\\      <td>58.0</td>\\      <td>Greece</td>\\      <td>Greece</td>\\      <td>Male</td>\\      <td>5.0</td>\\      <td>3.750</td>\\      <td>4.23750</td>\\      <td>2021-01-19</td>\\      <td>15.0</td>\\      <td>2021-02-03</td>\\    </tr>\\    <tr>\\      <th>63</th>\\      <td>5f1b1f6a908b2609a62ab7ad</td>\\      <td>166.0</td>\\      <td>United States</td>\\      <td>United States</td>\\      <td>Male</td>\\      <td>1.5</td>\\      <td>1.125</td>\\      <td>1.27125</td>\\      <td>2021-02-11</td>\\      <td>0.0</td>\\      <td>2021-02-11</td>\\    </tr>\\    <tr>\\      <th>55</th>\\      <td>5f6560fd86ca9f0ac37ca381</td>\\      <td>153.0</td>\\      <td>Bangladesh</td>\\      <td>United States</td>\\      <td>Male</td>\\      <td>3.5</td>\\      <td>2.625</td>\\      <td>2.96625</td>\\      <td>2021-02-11</td>\\      <td>0.0</td>\\      <td>2021-02-11</td>\\    </tr>\\    <tr>\\      <th>53</th>\\      <td>5ead6b0e96a62440399d8caf</td>\\      <td>151.0</td>\\      <td>Nepal</td>\\      <td>United States</td>\\      <td>Female</td>\\      <td>4.0</td>\\      <td>3.000</td>\\      <td>3.39000</td>\\      <td>2021-02-11</td>\\      <td>0.0</td>\\      <td>2021-02-11</td>\\    </tr>\\    <tr>\\      <th>68</th>\\      <td>5fb5e070ad83631f08d83322</td>\\      <td>177.0</td>\\      <td>United States</td>\\      <td>United States</td>\\      <td>Female</td>\\      <td>3.0</td>\\      <td>2.250</td>\\      <td>2.54250</td>\\      <td>2021-02-11</td>\\      <td>0.0</td>\\      <td>2021-02-11</td>\\    </tr>\\    <tr>\\      <th>76</th>\\      <td>5f273f8ba9a38c44acd49ffe</td>\\      <td>197.0</td>\\      <td>United States</td>\\      <td>United States</td>\\      <td>Female</td>\\      <td>4.0</td>\\      <td>3.000</td>\\      <td>3.39000</td>\\      <td>2021-02-11</td>\\      <td>0.0</td>\\      <td>2021-02-11</td>\\    </tr>\\    <tr>\\      <th>61</th>\\      <td>5d7fd2a5987f70001602d95b</td>\\      <td>164.0</td>\\      <td>Cambodia</td>\\      <td>United States</td>\\      <td>Female</td>\\      <td>2.5</td>\\      <td>1.875</td>\\      <td>2.11875</td>\\      <td>2021-02-11</td>\\      <td>0.0</td>\\      <td>2021-02-11</td>\\    </tr>\\    <tr>\\      <th>79</th>\\      <td>58ae59babb9e0f0001acb414</td>\\      <td>206.0</td>\\      <td>United States</td>\\      <td>United States</td>\\      <td>Male</td>\\      <td>3.5</td>\\      <td>2.625</td>\\      <td>2.96625</td>\\      <td>2021-02-11</td>\\      <td>0.0</td>\\      <td>2021-02-11</td>\\    </tr>\\    <tr>\\      <th>60</th>\\      <td>5e6002b9e9e2ca34e24deab8</td>\\      <td>163.0</td>\\      <td>United States</td>\\      <td>United States</td>\\      <td>Male</td>\\      <td>1.0</td>\\      <td>0.750</td>\\      <td>0.84750</td>\\      <td>2021-02-11</td>\\      <td>0.0</td>\\      <td>2021-02-11</td>\\    </tr>\\    <tr>\\      <th>89</th>\\      <td>5e992379f1bb6715d48226e0</td>\\      <td>212.0</td>\\      <td>United States</td>\\      <td>United States</td>\\      <td>Male</td>\\      <td>4.0</td>\\      <td>3.000</td>\\      <td>3.39000</td>\\      <td>2021-02-11</td>\\      <td>0.0</td>\\      <td>2021-02-11</td>\\    </tr>\\    <tr>\\      <th>88</th>\\      <td>5f48002958dd331635f1d767</td>\\      <td>211.0</td>\\      <td>United States</td>\\      <td>United States</td>\\      <td>Female</td>\\      <td>3.5</td>\\      <td>2.625</td>\\      <td>2.96625</td>\\      <td>2021-02-11</td>\\      <td>0.0</td>\\      <td>2021-02-11</td>\\    </tr>\\    <tr>\\      <th>84</th>\\      <td>5ef659991d975d12c6e7c555</td>\\      <td>208.0</td>\\      <td>United States</td>\\      <td>United States</td>\\      <td>Male</td>\\      <td>3.5</td>\\      <td>2.625</td>\\      <td>2.96625</td>\\      <td>2021-02-11</td>\\      <td>0.0</td>\\      <td>2021-02-11</td>\\    </tr>\\    <tr>\\      <th>101</th>\\      <td>601aedad9cb7c43fff2a07de</td>\\      <td>231.0</td>\\      <td>United States</td>\\      <td>United States</td>\\      <td>Female</td>\\      <td>3.0</td>\\      <td>2.250</td>\\      <td>2.54250</td>\\      <td>2021-02-12</td>\\      <td>0.0</td>\\      <td>2021-02-12</td>\\    </tr>\\    <tr>\\      <th>119</th>\\      <td>5ebf5b96f621931e939dc6e9</td>\\      <td>255.0</td>\\      <td>United States</td>\\      <td>United States</td>\\      <td>Male</td>\\      <td>3.0</td>\\      <td>2.250</td>\\      <td>2.54250</td>\\      <td>2021-02-12</td>\\      <td>0.0</td>\\      <td>2021-02-12</td>\\    </tr>\\    <tr>\\      <th>87</th>\\      <td>5dc0ac2c441a2105cbb3bb0f</td>\\      <td>213.0</td>\\      <td>United States</td>\\      <td>United States</td>\\      <td>Male</td>\\      <td>5.0</td>\\      <td>3.750</td>\\      <td>4.23750</td>\\      <td>2021-02-11</td>\\      <td>1.0</td>\\      <td>2021-02-12</td>\\    </tr>\\    <tr>\\      <th>65</th>\\      <td>5c95970cd676900016e1a940</td>\\      <td>183.0</td>\\      <td>Germany</td>\\      <td>United States</td>\\      <td>Female</td>\\      <td>5.0</td>\\      <td>3.750</td>\\      <td>4.23750</td>\\      <td>2021-02-11</td>\\      <td>1.0</td>\\      <td>2021-02-12</td>\\    </tr>\\    <tr>\\      <th>118</th>\\      <td>602407b2c3177c0365d16e07</td>\\      <td>253.0</td>\\      <td>United States</td>\\      <td>United States</td>\\      <td>Female</td>\\      <td>4.0</td>\\      <td>3.000</td>\\      <td>3.39000</td>\\      <td>2021-02-12</td>\\      <td>0.0</td>\\      <td>2021-02-12</td>\\    </tr>\\    <tr>\\      <th>117</th>\\      <td>5d586fdc8200f50001f03a0e</td>\\      <td>254.0</td>\\      <td>United States</td>\\      <td>United States</td>\\      <td>Male</td>\\      <td>1.5</td>\\      <td>1.125</td>\\      <td>1.27125</td>\\      <td>2021-02-12</td>\\      <td>0.0</td>\\      <td>2021-02-12</td>\\    </tr>\\    <tr>\\      <th>95</th>\\      <td>600be42e32909325b20ab5f0</td>\\      <td>219.0</td>\\      <td>United States</td>\\      <td>United States</td>\\      <td>Male</td>\\      <td>4.0</td>\\      <td>3.000</td>\\      <td>3.39000</td>\\      <td>2021-02-12</td>\\      <td>0.0</td>\\      <td>2021-02-12</td>\\    </tr>\\    <tr>\\      <th>114</th>\\      <td>5e9a2f95fe11450cc4a6b2be</td>\\      <td>246.0</td>\\      <td>United States</td>\\      <td>United States</td>\\      <td>Female</td>\\      <td>3.5</td>\\      <td>2.625</td>\\      <td>2.96625</td>\\      <td>2021-02-12</td>\\      <td>0.0</td>\\      <td>2021-02-12</td>\\    </tr>\\    <tr>\\      <th>111</th>\\      <td>5af9fab60a7ecb00011820b8</td>\\      <td>245.0</td>\\      <td>United States</td>\\      <td>United States</td>\\      <td>Female</td>\\      <td>3.5</td>\\      <td>2.625</td>\\      <td>2.96625</td>\\      <td>2021-02-12</td>\\      <td>0.0</td>\\      <td>2021-02-12</td>\\    </tr>\\    <tr>\\      <th>110</th>\\      <td>5706fb93914b7100093b7925</td>\\      <td>244.0</td>\\      <td>United States</td>\\      <td>United States</td>\\      <td>Male</td>\\      <td>3.5</td>\\      <td>2.625</td>\\      <td>2.96625</td>\\      <td>2021-02-12</td>\\      <td>0.0</td>\\      <td>2021-02-12</td>\\    </tr>\\    <tr>\\      <th>109</th>\\      <td>600b4d1edb01021d9fcbe3d1</td>\\      <td>243.0</td>\\      <td>United States</td>\\      <td>United States</td>\\      <td>Female</td>\\      <td>4.0</td>\\      <td>3.000</td>\\      <td>3.39000</td>\\      <td>2021-02-12</td>\\      <td>0.0</td>\\      <td>2021-02-12</td>\\    </tr>\\    <tr>\\      <th>97</th>\\      <td>601a1742f6e955219438fff9</td>\\      <td>230.0</td>\\      <td>United States</td>\\      <td>United States</td>\\      <td>Male</td>\\      <td>3.0</td>\\      <td>2.250</td>\\      <td>2.54250</td>\\      <td>2021-02-12</td>\\      <td>0.0</td>\\      <td>2021-02-12</td>\\    </tr>\\    <tr>\\      <th>105</th>\\      <td>5ebabe2f4d32da02ed3a6915</td>\\      <td>238.0</td>\\      <td>United States</td>\\      <td>United States</td>\\      <td>Female</td>\\      <td>1.5</td>\\      <td>1.125</td>\\      <td>1.27125</td>\\      <td>2021-02-12</td>\\      <td>0.0</td>\\      <td>2021-02-12</td>\\    </tr>\\    <tr>\\      <th>103</th>\\      <td>60010c46242ea22454d02ba3</td>\\      <td>240.0</td>\\      <td>United States</td>\\      <td>United States</td>\\      <td>Male</td>\\      <td>2.5</td>\\      <td>1.875</td>\\      <td>2.11875</td>\\      <td>2021-02-12</td>\\      <td>0.0</td>\\      <td>2021-02-12</td>\\    </tr>\\    <tr>\\      <th>104</th>\\      <td>5e4093f945df2e2d360ac48f</td>\\      <td>237.0</td>\\      <td>Italy</td>\\      <td>United States</td>\\      <td>Female</td>\\      <td>2.0</td>\\      <td>1.500</td>\\      <td>1.69500</td>\\      <td>2021-02-12</td>\\      <td>0.0</td>\\      <td>2021-02-12</td>\\    </tr>\\    <tr>\\      <th>123</th>\\      <td>5edd5722d3e5b5a717e1b4a2</td>\\      <td>261.0</td>\\      <td>United States</td>\\      <td>United States</td>\\      <td>Male</td>\\      <td>2.5</td>\\      <td>1.875</td>\\      <td>2.11875</td>\\      <td>2021-02-12</td>\\      <td>0.0</td>\\      <td>2021-02-12</td>\\    </tr>\\    <tr>\\      <th>92</th>\\      <td>5d1aadf961a40900171f6931</td>\\      <td>218.0</td>\\      <td>Peru</td>\\      <td>United States</td>\\      <td>Male</td>\\      <td>3.5</td>\\      <td>2.625</td>\\      <td>2.96625</td>\\      <td>2021-02-12</td>\\      <td>0.0</td>\\      <td>2021-02-12</td>\\    </tr>\\    <tr>\\      <th>138</th>\\      <td>5ff7a8b2c0a7854b6ce5c375</td>\\      <td>280.0</td>\\      <td>United States</td>\\      <td>United States</td>\\      <td>Female</td>\\      <td>4.0</td>\\      <td>3.000</td>\\      <td>3.39000</td>\\      <td>2021-02-12</td>\\      <td>0.0</td>\\      <td>2021-02-12</td>\\    </tr>\\    <tr>\\      <th>122</th>\\      <td>5fe4fe5e1f2ef92c57804349</td>\\      <td>258.0</td>\\      <td>United States</td>\\      <td>United States</td>\\      <td>Male</td>\\      <td>3.5</td>\\      <td>2.625</td>\\      <td>2.96625</td>\\      <td>2021-02-12</td>\\      <td>0.0</td>\\      <td>2021-02-12</td>\\    </tr>\\    <tr>\\      <th>139</th>\\      <td>5ff76d08097646426dc33c1a</td>\\      <td>281.0</td>\\      <td>United States</td>\\      <td>United States</td>\\      <td>Male</td>\\      <td>4.5</td>\\      <td>3.375</td>\\      <td>3.81375</td>\\      <td>2021-02-12</td>\\      <td>0.0</td>\\      <td>2021-02-12</td>\\    </tr>\\    <tr>\\      <th>133</th>\\      <td>601819aa612c40b404fa85d1</td>\\      <td>274.0</td>\\      <td>United States</td>\\      <td>NaN</td>\\      <td>Male</td>\\      <td>3.0</td>\\      <td>2.250</td>\\      <td>2.54250</td>\\      <td>2021-02-12</td>\\      <td>0.0</td>\\      <td>2021-02-12</td>\\    </tr>\\    <tr>\\      <th>136</th>\\      <td>5ddf5cbe6ca7e7ed328de1e8</td>\\      <td>279.0</td>\\      <td>United States</td>\\      <td>United States</td>\\      <td>Female</td>\\      <td>3.0</td>\\      <td>2.250</td>\\      <td>2.54250</td>\\      <td>2021-02-12</td>\\      <td>0.0</td>\\      <td>2021-02-12</td>\\    </tr>\\    <tr>\\      <th>129</th>\\      <td>5ffb8bf7afd1296237230caf</td>\\      <td>268.0</td>\\      <td>Mexico</td>\\      <td>United States</td>\\      <td>Male</td>\\      <td>4.0</td>\\      <td>3.000</td>\\      <td>3.39000</td>\\      <td>2021-02-12</td>\\      <td>0.0</td>\\      <td>2021-02-12</td>\\    </tr>\\    <tr>\\      <th>135</th>\\      <td>5ea720a669cae10d910fba3e</td>\\      <td>277.0</td>\\      <td>United States</td>\\      <td>United States</td>\\      <td>Female</td>\\      <td>1.0</td>\\      <td>0.750</td>\\      <td>0.84750</td>\\      <td>2021-02-12</td>\\      <td>0.0</td>\\      <td>2021-02-12</td>\\    </tr>\\    <tr>\\      <th>126</th>\\      <td>5f179bd584e8e802ef9c187d</td>\\      <td>266.0</td>\\      <td>United States</td>\\      <td>United States</td>\\      <td>Male</td>\\      <td>3.5</td>\\      <td>2.625</td>\\      <td>2.96625</td>\\      <td>2021-02-12</td>\\      <td>0.0</td>\\      <td>2021-02-12</td>\\    </tr>\\    <tr>\\      <th>147</th>\\      <td>5ec68ab50b73c1086a75adc6</td>\\      <td>298.0</td>\\      <td>China</td>\\      <td>United States</td>\\      <td>Female</td>\\      <td>4.0</td>\\      <td>3.000</td>\\      <td>3.39000</td>\\      <td>2021-02-12</td>\\      <td>0.0</td>\\      <td>2021-02-12</td>\\    </tr>\\    <tr>\\      <th>124</th>\\      <td>5f303f0418d834478a4b3554</td>\\      <td>264.0</td>\\      <td>United States</td>\\      <td>United States</td>\\      <td>Male</td>\\      <td>4.0</td>\\      <td>3.000</td>\\      <td>3.39000</td>\\      <td>2021-02-12</td>\\      <td>0.0</td>\\      <td>2021-02-12</td>\\    </tr>\\    <tr>\\      <th>128</th>\\      <td>5f119c5ad521140253f60e86</td>\\      <td>269.0</td>\\      <td>United States</td>\\      <td>United States</td>\\      <td>Male</td>\\      <td>3.0</td>\\      <td>2.250</td>\\      <td>2.54250</td>\\      <td>2021-02-12</td>\\      <td>0.0</td>\\      <td>2021-02-12</td>\\    </tr>\\    <tr>\\      <th>94</th>\\      <td>5ef6d07be683903cd5ae171d</td>\\      <td>224.0</td>\\      <td>United States</td>\\      <td>United States</td>\\      <td>Male</td>\\      <td>5.0</td>\\      <td>3.750</td>\\      <td>4.23750</td>\\      <td>2021-02-12</td>\\      <td>1.0</td>\\      <td>2021-02-13</td>\\    </tr>\\    <tr>\\      <th>150</th>\\      <td>5f14d5cdb5d4c20e78dc1672</td>\\      <td>302.0</td>\\      <td>United States</td>\\      <td>United States</td>\\      <td>Female</td>\\      <td>2.0</td>\\      <td>1.500</td>\\      <td>1.69500</td>\\      <td>2021-02-13</td>\\      <td>0.0</td>\\      <td>2021-02-13</td>\\    </tr>\\    <tr>\\      <th>174</th>\\      <td>5f5d0e8f4f166152de24e6e1</td>\\      <td>345.0</td>\\      <td>United States</td>\\      <td>United States</td>\\      <td>Male</td>\\      <td>0.5</td>\\      <td>0.375</td>\\      <td>0.42375</td>\\      <td>2021-02-13</td>\\      <td>0.0</td>\\      <td>2021-02-13</td>\\    </tr>\\    <tr>\\      <th>184</th>\\      <td>5df63faaa98a7a45159a9bba</td>\\      <td>362.0</td>\\      <td>United States</td>\\      <td>United States</td>\\      <td>Male</td>\\      <td>0.5</td>\\      <td>0.375</td>\\      <td>0.42375</td>\\      <td>2021-02-13</td>\\      <td>0.0</td>\\      <td>2021-02-13</td>\\    </tr>\\    <tr>\\      <th>98</th>\\      <td>5ec403bb09d0e02a060bd5e6</td>\\      <td>227.0</td>\\      <td>United States</td>\\      <td>United States</td>\\      <td>Female</td>\\      <td>4.5</td>\\      <td>3.375</td>\\      <td>3.81375</td>\\      <td>2021-02-12</td>\\      <td>1.0</td>\\      <td>2021-02-13</td>\\    </tr>\\    <tr>\\      <th>149</th>\\      <td>5ed2fa0793788128b41df2cd</td>\\      <td>301.0</td>\\      <td>United States</td>\\      <td>United States</td>\\      <td>Male</td>\\      <td>2.0</td>\\      <td>1.500</td>\\      <td>1.69500</td>\\      <td>2021-02-13</td>\\      <td>0.0</td>\\      <td>2021-02-13</td>\\    </tr>\\    <tr>\\      <th>178</th>\\      <td>60111617eb784809102d5dac</td>\\      <td>352.0</td>\\      <td>United States</td>\\      <td>United States</td>\\      <td>Female</td>\\      <td>3.5</td>\\      <td>2.625</td>\\      <td>2.96625</td>\\      <td>2021-02-13</td>\\      <td>0.0</td>\\      <td>2021-02-13</td>\\    </tr>\\    <tr>\\      <th>182</th>\\      <td>5fc429047f2ae3825eb811a4</td>\\      <td>356.0</td>\\      <td>Chile</td>\\      <td>Chile</td>\\      <td>Female</td>\\      <td>3.5</td>\\      <td>2.625</td>\\      <td>2.96625</td>\\      <td>2021-02-13</td>\\      <td>0.0</td>\\      <td>2021-02-13</td>\\    </tr>\\    <tr>\\      <th>156</th>\\      <td>5f4d4ad0fdcc2b1371ceec98</td>\\      <td>308.0</td>\\      <td>United States</td>\\      <td>United States</td>\\      <td>Male</td>\\      <td>0.5</td>\\      <td>0.375</td>\\      <td>0.42375</td>\\      <td>2021-02-13</td>\\      <td>0.0</td>\\      <td>2021-02-13</td>\\    </tr>\\    <tr>\\      <th>108</th>\\      <td>601b781bf899975399541513</td>\\      <td>242.0</td>\\      <td>United States</td>\\      <td>United States</td>\\      <td>Female</td>\\      <td>4.0</td>\\      <td>3.000</td>\\      <td>3.39000</td>\\      <td>2021-02-12</td>\\      <td>1.0</td>\\      <td>2021-02-13</td>\\    </tr>\\    <tr>\\      <th>93</th>\\      <td>5ef6d07be683903cd5ae171d</td>\\      <td>221.0</td>\\      <td>United States</td>\\      <td>United States</td>\\      <td>Male</td>\\      <td>5.0</td>\\      <td>3.750</td>\\      <td>4.23750</td>\\      <td>2021-02-12</td>\\      <td>1.0</td>\\      <td>2021-02-13</td>\\    </tr>\\    <tr>\\      <th>132</th>\\      <td>60186dc2cc1aa8103499603a</td>\\      <td>NaN</td>\\      <td>United States</td>\\      <td>United States</td>\\      <td>Female</td>\\      <td>5.0</td>\\      <td>3.750</td>\\      <td>4.23750</td>\\      <td>2021-02-12</td>\\      <td>1.0</td>\\      <td>2021-02-13</td>\\    </tr>\\    <tr>\\      <th>173</th>\\      <td>5f8cbc5c355ea745e6cef2ca</td>\\      <td>344.0</td>\\      <td>United States</td>\\      <td>United States</td>\\      <td>Female</td>\\      <td>1.5</td>\\      <td>1.125</td>\\      <td>1.27125</td>\\      <td>2021-02-13</td>\\      <td>0.0</td>\\      <td>2021-02-13</td>\\    </tr>\\    <tr>\\      <th>201</th>\\      <td>5ed062703c9248144a334cb4</td>\\      <td>397.0</td>\\      <td>United States</td>\\      <td>United States</td>\\      <td>Female</td>\\      <td>4.0</td>\\      <td>3.000</td>\\      <td>3.39000</td>\\      <td>2021-02-13</td>\\      <td>0.0</td>\\      <td>2021-02-13</td>\\    </tr>\\    <tr>\\      <th>164</th>\\      <td>5fe11db9341f42b1b3c1f0a9</td>\\      <td>324.0</td>\\      <td>United States</td>\\      <td>United States</td>\\      <td>Female</td>\\      <td>1.5</td>\\      <td>1.125</td>\\      <td>1.27125</td>\\      <td>2021-02-13</td>\\      <td>0.0</td>\\      <td>2021-02-13</td>\\    </tr>\\    <tr>\\      <th>192</th>\\      <td>5cb40e0b717f4600015e7392</td>\\      <td>376.0</td>\\      <td>Mexico</td>\\      <td>United States</td>\\      <td>Female</td>\\      <td>3.5</td>\\      <td>2.625</td>\\      <td>2.96625</td>\\      <td>2021-02-13</td>\\      <td>0.0</td>\\      <td>2021-02-13</td>\\    </tr>\\    <tr>\\      <th>249</th>\\      <td>5e387a5c32667b0943276347</td>\\      <td>458.0</td>\\      <td>United States</td>\\      <td>United States</td>\\      <td>Male</td>\\      <td>4.5</td>\\      <td>3.375</td>\\      <td>3.81375</td>\\      <td>2021-02-13</td>\\      <td>0.0</td>\\      <td>2021-02-13</td>\\    </tr>\\    <tr>\\      <th>120</th>\\      <td>5fbae54831099083583afff0</td>\\      <td>257.0</td>\\      <td>United States</td>\\      <td>United States</td>\\      <td>Male</td>\\      <td>5.0</td>\\      <td>3.750</td>\\      <td>4.23750</td>\\      <td>2021-02-12</td>\\      <td>1.0</td>\\      <td>2021-02-13</td>\\    </tr>\\    <tr>\\      <th>155</th>\\      <td>5f2280c4a4474574b3704136</td>\\      <td>307.0</td>\\      <td>United States</td>\\      <td>United States</td>\\      <td>Female</td>\\      <td>3.0</td>\\      <td>2.250</td>\\      <td>2.54250</td>\\      <td>2021-02-13</td>\\      <td>0.0</td>\\      <td>2021-02-13</td>\\    </tr>\\    <tr>\\      <th>106</th>\\      <td>5c39606586c1450001a9675d</td>\\      <td>239.0</td>\\      <td>United States</td>\\      <td>United States</td>\\      <td>Female</td>\\      <td>5.0</td>\\      <td>3.750</td>\\      <td>4.23750</td>\\      <td>2021-02-12</td>\\      <td>1.0</td>\\      <td>2021-02-13</td>\\    </tr>\\    <tr>\\      <th>167</th>\\      <td>5f8b203ca6e1012085e13ce7</td>\\      <td>333.0</td>\\      <td>United States</td>\\      <td>United States</td>\\      <td>Female</td>\\      <td>3.5</td>\\      <td>2.625</td>\\      <td>2.96625</td>\\      <td>2021-02-13</td>\\      <td>0.0</td>\\      <td>2021-02-13</td>\\    </tr>\\    <tr>\\      <th>210</th>\\      <td>5d1355386ea950001a4fd4fe</td>\\      <td>393.0</td>\\      <td>United States</td>\\      <td>United States</td>\\      <td>Female</td>\\      <td>2.0</td>\\      <td>1.500</td>\\      <td>1.69500</td>\\      <td>2021-02-13</td>\\      <td>0.0</td>\\      <td>2021-02-13</td>\\    </tr>\\    <tr>\\      <th>236</th>\\      <td>5faead22421a230a0a7c2e8d</td>\\      <td>442.0</td>\\      <td>United States</td>\\      <td>United States</td>\\      <td>Female</td>\\      <td>1.5</td>\\      <td>1.125</td>\\      <td>1.27125</td>\\      <td>2021-02-13</td>\\      <td>0.0</td>\\      <td>2021-02-13</td>\\    </tr>\\    <tr>\\      <th>238</th>\\      <td>5d37d2861566530016a061de</td>\\      <td>441.0</td>\\      <td>United States</td>\\      <td>United States</td>\\      <td>Male</td>\\      <td>1.5</td>\\      <td>1.125</td>\\      <td>1.27125</td>\\      <td>2021-02-13</td>\\      <td>0.0</td>\\      <td>2021-02-13</td>\\    </tr>\\    <tr>\\      <th>229</th>\\      <td>5f3ebd568c429614c0f595e8</td>\\      <td>423.0</td>\\      <td>United States</td>\\      <td>United States</td>\\      <td>Male</td>\\      <td>2.5</td>\\      <td>1.875</td>\\      <td>2.11875</td>\\      <td>2021-02-13</td>\\      <td>0.0</td>\\      <td>2021-02-13</td>\\    </tr>\\    <tr>\\      <th>227</th>\\      <td>5fc423b6e33a323a3ae59661</td>\\      <td>421.0</td>\\      <td>United States</td>\\      <td>United States</td>\\      <td>Female</td>\\      <td>2.5</td>\\      <td>1.875</td>\\      <td>2.11875</td>\\      <td>2021-02-13</td>\\      <td>0.0</td>\\      <td>2021-02-13</td>\\    </tr>\\    <tr>\\      <th>248</th>\\      <td>60121fca666552254559110d</td>\\      <td>456.0</td>\\      <td>United States</td>\\      <td>United States</td>\\      <td>Female</td>\\      <td>0.5</td>\\      <td>0.375</td>\\      <td>0.42375</td>\\      <td>2021-02-13</td>\\      <td>0.0</td>\\      <td>2021-02-13</td>\\    </tr>\\    <tr>\\      <th>217</th>\\      <td>5e2a425609072a0abb76094b</td>\\      <td>407.0</td>\\      <td>United States</td>\\      <td>United States</td>\\      <td>Male</td>\\      <td>1.0</td>\\      <td>0.750</td>\\      <td>0.84750</td>\\      <td>2021-02-13</td>\\      <td>0.0</td>\\      <td>2021-02-13</td>\\    </tr>\\    <tr>\\      <th>233</th>\\      <td>6018e18d98e6b01f8c5442de</td>\\      <td>433.0</td>\\      <td>United States</td>\\      <td>United States</td>\\      <td>Female</td>\\      <td>3.0</td>\\      <td>2.250</td>\\      <td>2.54250</td>\\      <td>2021-02-13</td>\\      <td>0.0</td>\\      <td>2021-02-13</td>\\    </tr>\\    <tr>\\      <th>211</th>\\      <td>5ffab86f13f4ce499bd9f2c5</td>\\      <td>410.0</td>\\      <td>United States</td>\\      <td>United States</td>\\      <td>Male</td>\\      <td>3.5</td>\\      <td>2.625</td>\\      <td>2.96625</td>\\      <td>2021-02-13</td>\\      <td>0.0</td>\\      <td>2021-02-13</td>\\    </tr>\\    <tr>\\      <th>165</th>\\      <td>5f29dc5c7fb008180a6f5305</td>\\      <td>325.0</td>\\      <td>Canada</td>\\      <td>United States</td>\\      <td>Female</td>\\      <td>4.0</td>\\      <td>3.000</td>\\      <td>3.39000</td>\\      <td>2021-02-13</td>\\      <td>0.0</td>\\      <td>2021-02-13</td>\\    </tr>\\    <tr>\\      <th>161</th>\\      <td>5ddef2e6929d5de6f1050f1c</td>\\      <td>326.0</td>\\      <td>United States</td>\\      <td>United States</td>\\      <td>Male</td>\\      <td>4.0</td>\\      <td>3.000</td>\\      <td>3.39000</td>\\      <td>2021-02-13</td>\\      <td>1.0</td>\\      <td>2021-02-14</td>\\    </tr>\\    <tr>\\      <th>208</th>\\      <td>5f4fe72e9468441227166179</td>\\      <td>392.0</td>\\      <td>United States</td>\\      <td>United States</td>\\      <td>Male</td>\\      <td>5.0</td>\\      <td>3.750</td>\\      <td>4.23750</td>\\      <td>2021-02-13</td>\\      <td>1.0</td>\\      <td>2021-02-14</td>\\    </tr>\\    <tr>\\      <th>200</th>\\      <td>5e606b1eaf84e83c728748d7</td>\\      <td>384.0</td>\\      <td>United States</td>\\      <td>United States</td>\\      <td>Male</td>\\      <td>4.5</td>\\      <td>3.375</td>\\      <td>3.81375</td>\\      <td>2021-02-13</td>\\      <td>1.0</td>\\      <td>2021-02-14</td>\\    </tr>\\    <tr>\\      <th>206</th>\\      <td>5f81b72544cc142755fcedcb</td>\\      <td>390.0</td>\\      <td>United States</td>\\      <td>United States</td>\\      <td>Female</td>\\      <td>4.0</td>\\      <td>3.000</td>\\      <td>3.39000</td>\\      <td>2021-02-13</td>\\      <td>1.0</td>\\      <td>2021-02-14</td>\\    </tr>\\    <tr>\\      <th>225</th>\\      <td>60067fd5329f8f92a34200d3</td>\\      <td>418.0</td>\\      <td>United States</td>\\      <td>United States</td>\\      <td>Male</td>\\      <td>4.5</td>\\      <td>3.375</td>\\      <td>3.81375</td>\\      <td>2021-02-13</td>\\      <td>1.0</td>\\      <td>2021-02-14</td>\\    </tr>\\    <tr>\\      <th>219</th>\\      <td>5f2dc46d6fa1250ee8a1a15d</td>\\      <td>404.0</td>\\      <td>United States</td>\\      <td>United States</td>\\      <td>Female</td>\\      <td>4.0</td>\\      <td>3.000</td>\\      <td>3.39000</td>\\      <td>2021-02-13</td>\\      <td>1.0</td>\\      <td>2021-02-14</td>\\    </tr>\\    <tr>\\      <th>247</th>\\      <td>5ec5a64c306f255ec98d5cc1</td>\\      <td>NaN</td>\\      <td>United States</td>\\      <td>United States</td>\\      <td>Female</td>\\      <td>5.0</td>\\      <td>3.750</td>\\      <td>4.23750</td>\\      <td>2021-02-13</td>\\      <td>1.0</td>\\      <td>2021-02-14</td>\\    </tr>\\    <tr>\\      <th>169</th>\\      <td>60006f7aa028d70dab3baf76</td>\\      <td>337.0</td>\\      <td>United States</td>\\      <td>United States</td>\\      <td>Female</td>\\      <td>5.0</td>\\      <td>3.750</td>\\      <td>4.23750</td>\\      <td>2021-02-13</td>\\      <td>1.0</td>\\      <td>2021-02-14</td>\\    </tr>\\    <tr>\\      <th>179</th>\\      <td>5fdee4d96a36576ca62e4518</td>\\      <td>350.0</td>\\      <td>United States</td>\\      <td>United States</td>\\      <td>Male</td>\\      <td>4.5</td>\\      <td>3.375</td>\\      <td>3.81375</td>\\      <td>2021-02-13</td>\\      <td>1.0</td>\\      <td>2021-02-14</td>\\    </tr>\\    <tr>\\      <th>3</th>\\      <td>5fd41bf508717e1833d8aed7</td>\\      <td>7.0</td>\\      <td>Mexico</td>\\      <td>Mexico</td>\\      <td>Male</td>\\      <td>4.0</td>\\      <td>3.000</td>\\      <td>3.39000</td>\\      <td>2021-01-18</td>\\      <td>30.0</td>\\      <td>2021-02-17</td>\\    </tr>\\    <tr>\\      <th>4</th>\\      <td>5b4e65de09f5af0001080f45</td>\\      <td>13.0</td>\\      <td>Poland</td>\\      <td>Poland</td>\\      <td>Male</td>\\      <td>5.0</td>\\      <td>3.750</td>\\      <td>4.23750</td>\\      <td>2021-01-18</td>\\      <td>30.0</td>\\      <td>2021-02-17</td>\\    </tr>\\    <tr>\\      <th>1</th>\\      <td>5f96fc2552ce3f040af63bbc</td>\\      <td>4.0</td>\\      <td>Spain</td>\\      <td>Spain</td>\\      <td>Male</td>\\      <td>4.5</td>\\      <td>3.375</td>\\      <td>3.81375</td>\\      <td>2021-01-18</td>\\      <td>30.0</td>\\      <td>2021-02-17</td>\\    </tr>\\    <tr>\\      <th>19</th>\\      <td>5f946436ae32a127565d9405</td>\\      <td>43.0</td>\\      <td>Portugal</td>\\      <td>Portugal</td>\\      <td>Male</td>\\      <td>4.0</td>\\      <td>3.000</td>\\      <td>3.39000</td>\\      <td>2021-01-18</td>\\      <td>30.0</td>\\      <td>2021-02-17</td>\\    </tr>\\    <tr>\\      <th>2</th>\\      <td>5ea3f75481a44e39aa318256</td>\\      <td>5.0</td>\\      <td>Israel</td>\\      <td>Israel</td>\\      <td>Male</td>\\      <td>4.5</td>\\      <td>3.375</td>\\      <td>3.81375</td>\\      <td>2021-01-18</td>\\      <td>30.0</td>\\      <td>2021-02-17</td>\\    </tr>\\    <tr>\\      <th>16</th>\\      <td>5f881c7d29650a26096e77a3</td>\\      <td>41.0</td>\\      <td>United Kingdom</td>\\      <td>United Kingdom</td>\\      <td>Male</td>\\      <td>4.5</td>\\      <td>3.375</td>\\      <td>3.81375</td>\\      <td>2021-01-18</td>\\      <td>30.0</td>\\      <td>2021-02-17</td>\\    </tr>\\    <tr>\\      <th>24</th>\\      <td>5f779405dacc842fc44bc767</td>\\      <td>98.0</td>\\      <td>Portugal</td>\\      <td>Portugal</td>\\      <td>Male</td>\\      <td>4.0</td>\\      <td>3.000</td>\\      <td>3.39000</td>\\      <td>2021-01-19</td>\\      <td>30.0</td>\\      <td>2021-02-18</td>\\    </tr>\\    <tr>\\      <th>37</th>\\      <td>5bd170999afb5b00015ba3b1</td>\\      <td>66.0</td>\\      <td>Portugal</td>\\      <td>Portugal</td>\\      <td>Female</td>\\      <td>5.0</td>\\      <td>3.750</td>\\      <td>4.23750</td>\\      <td>2021-01-19</td>\\      <td>30.0</td>\\      <td>2021-02-18</td>\\    </tr>\\    <tr>\\      <th>39</th>\\      <td>5aa7b522b5e2110001c74775</td>\\      <td>74.0</td>\\      <td>United Kingdom</td>\\      <td>United Kingdom</td>\\      <td>Female</td>\\      <td>5.0</td>\\      <td>3.750</td>\\      <td>4.23750</td>\\      <td>2021-01-19</td>\\      <td>30.0</td>\\      <td>2021-02-18</td>\\    </tr>\\    <tr>\\      <th>41</th>\\      <td>5d00bb3b51669b000136a986</td>\\      <td>75.0</td>\\      <td>Poland</td>\\      <td>Poland</td>\\      <td>Male</td>\\      <td>5.0</td>\\      <td>3.750</td>\\      <td>4.23750</td>\\      <td>2021-01-19</td>\\      <td>30.0</td>\\      <td>2021-02-18</td>\\    </tr>\\    <tr>\\      <th>20</th>\\      <td>5f1aac6058391f01dacbf619</td>\\      <td>45.0</td>\\      <td>Poland</td>\\      <td>Poland</td>\\      <td>Male</td>\\      <td>4.5</td>\\      <td>3.375</td>\\      <td>3.81375</td>\\      <td>2021-01-19</td>\\      <td>30.0</td>\\      <td>2021-02-18</td>\\    </tr>\\    <tr>\\      <th>36</th>\\      <td>5f68fe5be5cc370c0a0911de</td>\\      <td>97.0</td>\\      <td>United Kingdom</td>\\      <td>United Kingdom</td>\\      <td>Female</td>\\      <td>4.5</td>\\      <td>3.375</td>\\      <td>3.81375</td>\\      <td>2021-01-19</td>\\      <td>30.0</td>\\      <td>2021-02-18</td>\\    </tr>\\    <tr>\\      <th>52</th>\\      <td>5de80e0b521f95791f912e49</td>\\      <td>150.0</td>\\      <td>Bangladesh</td>\\      <td>United States</td>\\      <td>Female</td>\\      <td>5.0</td>\\      <td>3.750</td>\\      <td>4.23750</td>\\      <td>2021-02-11</td>\\      <td>7.0</td>\\      <td>2021-02-18</td>\\    </tr>\\    <tr>\\      <th>50</th>\\      <td>5e9c8aace6eae81abf309d53</td>\\      <td>144.0</td>\\      <td>United States</td>\\      <td>United States</td>\\      <td>Female</td>\\      <td>4.0</td>\\      <td>3.000</td>\\      <td>3.39000</td>\\      <td>2021-02-11</td>\\      <td>7.0</td>\\      <td>2021-02-18</td>\\    </tr>\\    <tr>\\      <th>58</th>\\      <td>5e331de721bbd22ed15f2405</td>\\      <td>160.0</td>\\      <td>Netherlands</td>\\      <td>United States</td>\\      <td>Male</td>\\      <td>4.5</td>\\      <td>3.375</td>\\      <td>3.81375</td>\\      <td>2021-02-11</td>\\      <td>7.0</td>\\      <td>2021-02-18</td>\\    </tr>\\    <tr>\\      <th>80</th>\\      <td>5ca24832cc13cf0017659a7a</td>\\      <td>201.0</td>\\      <td>United States</td>\\      <td>United States</td>\\      <td>Male</td>\\      <td>5.0</td>\\      <td>3.750</td>\\      <td>4.23750</td>\\      <td>2021-02-11</td>\\      <td>7.0</td>\\      <td>2021-02-18</td>\\    </tr>\\    <tr>\\      <th>82</th>\\      <td>5d5b0dd7c032a2001ad7cf5d</td>\\      <td>203.0</td>\\      <td>United States</td>\\      <td>United States</td>\\      <td>Male</td>\\      <td>4.0</td>\\      <td>3.000</td>\\      <td>3.39000</td>\\      <td>2021-02-11</td>\\      <td>7.0</td>\\      <td>2021-02-18</td>\\    </tr>\\    <tr>\\      <th>64</th>\\      <td>5e8bfc63e53da90ec5673f11</td>\\      <td>180.0</td>\\      <td>India</td>\\      <td>United States</td>\\      <td>Female</td>\\      <td>5.0</td>\\      <td>3.750</td>\\      <td>4.23750</td>\\      <td>2021-02-11</td>\\      <td>7.0</td>\\      <td>2021-02-18</td>\\    </tr>\\    <tr>\\      <th>67</th>\\      <td>5eaca70e6e45b6318e89ef55</td>\\      <td>171.0</td>\\      <td>Jamaica</td>\\      <td>United States</td>\\      <td>Female</td>\\      <td>4.5</td>\\      <td>3.375</td>\\      <td>3.81375</td>\\      <td>2021-02-11</td>\\      <td>7.0</td>\\      <td>2021-02-18</td>\\    </tr>\\    <tr>\\      <th>99</th>\\      <td>5ff56f89d92c4a57cb934442</td>\\      <td>226.0</td>\\      <td>Venezuela, Bolivarian Republic of</td>\\      <td>United States</td>\\      <td>Male</td>\\      <td>4.0</td>\\      <td>3.000</td>\\      <td>3.39000</td>\\      <td>2021-02-12</td>\\      <td>7.0</td>\\      <td>2021-02-19</td>\\    </tr>\\    <tr>\\      <th>107</th>\\      <td>5e4a1730c94447480594cea4</td>\\      <td>241.0</td>\\      <td>United States</td>\\      <td>United States</td>\\      <td>Female</td>\\      <td>4.0</td>\\      <td>3.000</td>\\      <td>3.39000</td>\\      <td>2021-02-12</td>\\      <td>7.0</td>\\      <td>2021-02-19</td>\\    </tr>\\    <tr>\\      <th>131</th>\\      <td>5f2df2c58df9de1511266128</td>\\      <td>278.0</td>\\      <td>United States</td>\\      <td>United States</td>\\      <td>Female</td>\\      <td>4.5</td>\\      <td>3.375</td>\\      <td>3.81375</td>\\      <td>2021-02-12</td>\\      <td>7.0</td>\\      <td>2021-02-19</td>\\    </tr>\\    <tr>\\      <th>102</th>\\      <td>5d42486206811e001ada5b4b</td>\\      <td>232.0</td>\\      <td>United States</td>\\      <td>United States</td>\\      <td>Male</td>\\      <td>4.0</td>\\      <td>3.000</td>\\      <td>3.39000</td>\\      <td>2021-02-12</td>\\      <td>7.0</td>\\      <td>2021-02-19</td>\\    </tr>\\    <tr>\\      <th>137</th>\\      <td>5febc568d1340cceb699a149</td>\\      <td>284.0</td>\\      <td>United States</td>\\      <td>United States</td>\\      <td>Female</td>\\      <td>4.5</td>\\      <td>3.375</td>\\      <td>3.81375</td>\\      <td>2021-02-12</td>\\      <td>7.0</td>\\      <td>2021-02-19</td>\\    </tr>\\    <tr>\\      <th>230</th>\\      <td>600b868792aa5923ad8a4629</td>\\      <td>427.0</td>\\      <td>United States</td>\\      <td>United States</td>\\      <td>Male</td>\\      <td>5.0</td>\\      <td>3.750</td>\\      <td>4.23750</td>\\      <td>2021-02-13</td>\\      <td>7.0</td>\\      <td>2021-02-20</td>\\    </tr>\\    <tr>\\      <th>224</th>\\      <td>6002b9884495ed2054f4a0a8</td>\\      <td>425.0</td>\\      <td>United States</td>\\      <td>United States</td>\\      <td>Female</td>\\      <td>5.0</td>\\      <td>3.750</td>\\      <td>4.23750</td>\\      <td>2021-02-13</td>\\      <td>7.0</td>\\      <td>2021-02-20</td>\\    </tr>\\    <tr>\\      <th>183</th>\\      <td>602470bac74f8417d4a9b514</td>\\      <td>357.0</td>\\      <td>United States</td>\\      <td>United States</td>\\      <td>Female</td>\\      <td>4.0</td>\\      <td>3.000</td>\\      <td>3.39000</td>\\      <td>2021-02-13</td>\\      <td>7.0</td>\\      <td>2021-02-20</td>\\    </tr>\\    <tr>\\      <th>203</th>\\      <td>5ea85e3d8d1ca50b61599a03</td>\\      <td>386.0</td>\\      <td>United States</td>\\      <td>United States</td>\\      <td>Male</td>\\      <td>5.0</td>\\      <td>3.750</td>\\      <td>4.23750</td>\\      <td>2021-02-13</td>\\      <td>7.0</td>\\      <td>2021-02-20</td>\\    </tr>\\    <tr>\\      <th>159</th>\\      <td>5c0f1cf4f3027300014b606f</td>\\      <td>319.0</td>\\      <td>United States</td>\\      <td>United States</td>\\      <td>Male</td>\\      <td>4.0</td>\\      <td>3.000</td>\\      <td>3.39000</td>\\      <td>2021-02-13</td>\\      <td>7.0</td>\\      <td>2021-02-20</td>\\    </tr>\\    <tr>\\      <th>152</th>\\      <td>55cb960cfdf99b45e4bb11e0</td>\\      <td>309.0</td>\\      <td>United States</td>\\      <td>United States</td>\\      <td>Male</td>\\      <td>4.0</td>\\      <td>3.000</td>\\      <td>3.39000</td>\\      <td>2021-02-13</td>\\      <td>7.0</td>\\      <td>2021-02-20</td>\\    </tr>\\    <tr>\\      <th>241</th>\\      <td>5c6f459b398a230001bb0031</td>\\      <td>444.0</td>\\      <td>United States</td>\\      <td>United States</td>\\      <td>Male</td>\\      <td>4.5</td>\\      <td>3.375</td>\\      <td>3.81375</td>\\      <td>2021-02-13</td>\\      <td>7.0</td>\\      <td>2021-02-20</td>\\    </tr>\\    <tr>\\      <th>172</th>\\      <td>5c19a630257db80001a2b3a8</td>\\      <td>343.0</td>\\      <td>United States</td>\\      <td>United States</td>\\      <td>Male</td>\\      <td>5.0</td>\\      <td>3.750</td>\\      <td>4.23750</td>\\      <td>2021-02-13</td>\\      <td>7.0</td>\\      <td>2021-02-20</td>\\    </tr>\\    <tr>\\      <th>193</th>\\      <td>5e2926d80beb030ede110e67</td>\\      <td>373.0</td>\\      <td>United States</td>\\      <td>United States</td>\\      <td>Female</td>\\      <td>4.5</td>\\      <td>3.375</td>\\      <td>3.81375</td>\\      <td>2021-02-13</td>\\      <td>7.0</td>\\      <td>2021-02-20</td>\\    </tr>\\    <tr>\\      <th>205</th>\\      <td>5f1bf8c6fe7ca34249b7c334</td>\\      <td>387.0</td>\\      <td>United States</td>\\      <td>United States</td>\\      <td>Female</td>\\      <td>4.0</td>\\      <td>3.000</td>\\      <td>3.39000</td>\\      <td>2021-02-13</td>\\      <td>7.0</td>\\      <td>2021-02-20</td>\\    </tr>\\    <tr>\\      <th>232</th>\\      <td>57950da04a84da00014c5dbb</td>\\      <td>429.0</td>\\      <td>United States</td>\\      <td>United States</td>\\      <td>Male</td>\\      <td>4.5</td>\\      <td>3.375</td>\\      <td>3.81375</td>\\      <td>2021-02-13</td>\\      <td>7.0</td>\\      <td>2021-02-20</td>\\    </tr>\\    <tr>\\      <th>57</th>\\      <td>5ff7baf4cbc6b34ca5779e90</td>\\      <td>157.0</td>\\      <td>United States</td>\\      <td>United States</td>\\      <td>Female</td>\\      <td>4.0</td>\\      <td>3.000</td>\\      <td>3.39000</td>\\      <td>2021-02-11</td>\\      <td>15.0</td>\\      <td>2021-02-26</td>\\    </tr>\\    <tr>\\      <th>59</th>\\      <td>5f493291e3e64832df458323</td>\\      <td>162.0</td>\\      <td>Italy</td>\\      <td>United States</td>\\      <td>Male</td>\\      <td>5.0</td>\\      <td>3.750</td>\\      <td>4.23750</td>\\      <td>2021-02-11</td>\\      <td>15.0</td>\\      <td>2021-02-26</td>\\    </tr>\\    <tr>\\      <th>69</th>\\      <td>5ebc6d34046b2a0bc9f2b3b8</td>\\      <td>179.0</td>\\      <td>United States</td>\\      <td>United States</td>\\      <td>Male</td>\\      <td>4.0</td>\\      <td>3.000</td>\\      <td>3.39000</td>\\      <td>2021-02-11</td>\\      <td>15.0</td>\\      <td>2021-02-26</td>\\    </tr>\\    <tr>\\      <th>66</th>\\      <td>5dddef56946f7cd753f9e2d7</td>\\      <td>176.0</td>\\      <td>Korea</td>\\      <td>United States</td>\\      <td>Female</td>\\      <td>5.0</td>\\      <td>3.750</td>\\      <td>4.23750</td>\\      <td>2021-02-11</td>\\      <td>15.0</td>\\      <td>2021-02-26</td>\\    </tr>\\    <tr>\\      <th>141</th>\\      <td>5f07dba182caac000c48bc84</td>\\      <td>288.0</td>\\      <td>United States</td>\\      <td>United States</td>\\      <td>Male</td>\\      <td>5.0</td>\\      <td>3.750</td>\\      <td>4.23750</td>\\      <td>2021-02-12</td>\\      <td>15.0</td>\\      <td>2021-02-27</td>\\    </tr>\\    <tr>\\      <th>145</th>\\      <td>5fc9a056967d8b4a18a2046a</td>\\      <td>296.0</td>\\      <td>United States</td>\\      <td>United States</td>\\      <td>Female</td>\\      <td>4.5</td>\\      <td>3.375</td>\\      <td>3.81375</td>\\      <td>2021-02-12</td>\\      <td>15.0</td>\\      <td>2021-02-27</td>\\    </tr>\\    <tr>\\      <th>143</th>\\      <td>5fe0d610dd8cf1a331961cbe</td>\\      <td>293.0</td>\\      <td>United States</td>\\      <td>United States</td>\\      <td>Female</td>\\      <td>4.5</td>\\      <td>3.375</td>\\      <td>3.81375</td>\\      <td>2021-02-12</td>\\      <td>15.0</td>\\      <td>2021-02-27</td>\\    </tr>\\    <tr>\\      <th>100</th>\\      <td>5a791168f49c9a0001f31061</td>\\      <td>233.0</td>\\      <td>United States</td>\\      <td>United States</td>\\      <td>Male</td>\\      <td>4.5</td>\\      <td>3.375</td>\\      <td>3.81375</td>\\      <td>2021-02-12</td>\\      <td>15.0</td>\\      <td>2021-02-27</td>\\    </tr>\\    <tr>\\      <th>168</th>\\      <td>5fde6c73ad8fba6069f139ed</td>\\      <td>336.0</td>\\      <td>United States</td>\\      <td>United States</td>\\      <td>Male</td>\\      <td>4.5</td>\\      <td>3.375</td>\\      <td>3.81375</td>\\      <td>2021-02-13</td>\\      <td>15.0</td>\\      <td>2021-02-28</td>\\    </tr>\\    <tr>\\      <th>212</th>\\      <td>5fd8ec14a76f0e0ff8860a0f</td>\\      <td>413.0</td>\\      <td>United States</td>\\      <td>United States</td>\\      <td>Female</td>\\      <td>5.0</td>\\      <td>3.750</td>\\      <td>4.23750</td>\\      <td>2021-02-13</td>\\      <td>15.0</td>\\      <td>2021-02-28</td>\\    </tr>\\    <tr>\\      <th>170</th>\\      <td>55a83419fdf99b055f579192</td>\\      <td>339.0</td>\\      <td>United States</td>\\      <td>United States</td>\\      <td>Male</td>\\      <td>4.0</td>\\      <td>3.000</td>\\      <td>3.39000</td>\\      <td>2021-02-13</td>\\      <td>15.0</td>\\      <td>2021-02-28</td>\\    </tr>\\    <tr>\\      <th>181</th>\\      <td>6013a39aaa022528c98e57c8</td>\\      <td>355.0</td>\\      <td>United States</td>\\      <td>United States</td>\\      <td>Female</td>\\      <td>4.0</td>\\      <td>3.000</td>\\      <td>3.39000</td>\\      <td>2021-02-13</td>\\      <td>15.0</td>\\      <td>2021-02-28</td>\\    </tr>\\    <tr>\\      <th>226</th>\\      <td>5ec81134ac7d6b2b9ac51453</td>\\      <td>419.0</td>\\      <td>United States</td>\\      <td>United States</td>\\      <td>Male</td>\\      <td>4.5</td>\\      <td>3.375</td>\\      <td>3.81375</td>\\      <td>2021-02-13</td>\\      <td>15.0</td>\\      <td>2021-02-28</td>\\    </tr>\\    <tr>\\      <th>180</th>\\      <td>5fc281afc423144368fc1848</td>\\      <td>354.0</td>\\      <td>Russian Federation</td>\\      <td>United States</td>\\      <td>Male</td>\\      <td>5.0</td>\\      <td>3.750</td>\\      <td>4.23750</td>\\      <td>2021-02-13</td>\\      <td>15.0</td>\\      <td>2021-02-28</td>\\    </tr>\\    <tr>\\      <th>242</th>\\      <td>5c12f106c4b80e000192c472</td>\\      <td>445.0</td>\\      <td>United States</td>\\      <td>United States</td>\\      <td>Female</td>\\      <td>4.5</td>\\      <td>3.375</td>\\      <td>3.81375</td>\\      <td>2021-02-13</td>\\      <td>15.0</td>\\      <td>2021-02-28</td>\\    </tr>\\    <tr>\\      <th>185</th>\\      <td>5e975ea254955d0bfe9f7929</td>\\      <td>361.0</td>\\      <td>United States</td>\\      <td>United States</td>\\      <td>Female</td>\\      <td>5.0</td>\\      <td>3.750</td>\\      <td>4.23750</td>\\      <td>2021-02-13</td>\\      <td>15.0</td>\\      <td>2021-02-28</td>\\    </tr>\\    <tr>\\      <th>231</th>\\      <td>5ec00f62cf12be40ea6fe344</td>\\      <td>430.0</td>\\      <td>United States</td>\\      <td>United States</td>\\      <td>Female</td>\\      <td>4.5</td>\\      <td>3.375</td>\\      <td>3.81375</td>\\      <td>2021-02-13</td>\\      <td>15.0</td>\\      <td>2021-02-28</td>\\    </tr>\\    <tr>\\      <th>188</th>\\      <td>580cab86b869700001d71628</td>\\      <td>359.0</td>\\      <td>United States</td>\\      <td>United States</td>\\      <td>Female</td>\\      <td>4.5</td>\\      <td>3.375</td>\\      <td>3.81375</td>\\      <td>2021-02-13</td>\\      <td>15.0</td>\\      <td>2021-02-28</td>\\    </tr>\\    <tr>\\      <th>222</th>\\      <td>57a2caf8275be6000135b3aa</td>\\      <td>416.0</td>\\      <td>United States</td>\\      <td>United States</td>\\      <td>Female</td>\\      <td>5.0</td>\\      <td>3.750</td>\\      <td>4.23750</td>\\      <td>2021-02-13</td>\\      <td>15.0</td>\\      <td>2021-02-28</td>\\    </tr>\\    <tr>\\      <th>214</th>\\      <td>5d74001d391b6600175f433b</td>\\      <td>401.0</td>\\      <td>United States</td>\\      <td>United States</td>\\      <td>Female</td>\\      <td>5.0</td>\\      <td>3.750</td>\\      <td>4.23750</td>\\      <td>2021-02-13</td>\\      <td>15.0</td>\\      <td>2021-02-28</td>\\    </tr>\\    <tr>\\      <th>250</th>\\      <td>5f51268b7abc4a30c4d8240d</td>\\      <td>462.0</td>\\      <td>United States</td>\\      <td>United States</td>\\      <td>Female</td>\\      <td>4.0</td>\\      <td>3.000</td>\\      <td>3.39000</td>\\      <td>2021-02-13</td>\\      <td>15.0</td>\\      <td>2021-02-28</td>\\    </tr>\\    <tr>\\      <th>73</th>\\      <td>5fb002788656283286521c96</td>\\      <td>190.0</td>\\      <td>United States</td>\\      <td>NaN</td>\\      <td>Male</td>\\      <td>5.0</td>\\      <td>3.750</td>\\      <td>4.23750</td>\\      <td>2021-02-11</td>\\      <td>30.0</td>\\      <td>2021-03-13</td>\\    </tr>\\    <tr>\\      <th>77</th>\\      <td>5d2f054b1dde3600015e43d9</td>\\      <td>198.0</td>\\      <td>United States</td>\\      <td>United States</td>\\      <td>Male</td>\\      <td>4.5</td>\\      <td>3.375</td>\\      <td>3.81375</td>\\      <td>2021-02-11</td>\\      <td>30.0</td>\\      <td>2021-03-13</td>\\    </tr>\\    <tr>\\      <th>56</th>\\      <td>5a9c91196219a30001f534a5</td>\\      <td>154.0</td>\\      <td>India</td>\\      <td>United States</td>\\      <td>Male</td>\\      <td>5.0</td>\\      <td>3.750</td>\\      <td>4.23750</td>\\      <td>2021-02-11</td>\\      <td>30.0</td>\\      <td>2021-03-13</td>\\    </tr>\\    <tr>\\      <th>74</th>\\      <td>5d094021c79e5a001a796b43</td>\\      <td>195.0</td>\\      <td>United States</td>\\      <td>United States</td>\\      <td>Male</td>\\      <td>5.0</td>\\      <td>3.750</td>\\      <td>4.23750</td>\\      <td>2021-02-11</td>\\      <td>30.0</td>\\      <td>2021-03-13</td>\\    </tr>\\    <tr>\\      <th>72</th>\\      <td>5f4c5105ad5ee685d48bcca2</td>\\      <td>188.0</td>\\      <td>United States</td>\\      <td>United States</td>\\      <td>Male</td>\\      <td>4.0</td>\\      <td>3.000</td>\\      <td>3.39000</td>\\      <td>2021-02-11</td>\\      <td>30.0</td>\\      <td>2021-03-13</td>\\    </tr>\\    <tr>\\      <th>144</th>\\      <td>5eaf1a2c649fd108284c2b5f</td>\\      <td>291.0</td>\\      <td>United States</td>\\      <td>United States</td>\\      <td>Female</td>\\      <td>4.0</td>\\      <td>3.000</td>\\      <td>3.39000</td>\\      <td>2021-02-12</td>\\      <td>30.0</td>\\      <td>2021-03-14</td>\\    </tr>\\    <tr>\\      <th>116</th>\\      <td>5de33ff0cc246f3633dc01d2</td>\\      <td>256.0</td>\\      <td>United States</td>\\      <td>United States</td>\\      <td>Male</td>\\      <td>5.0</td>\\      <td>3.750</td>\\      <td>4.23750</td>\\      <td>2021-02-12</td>\\      <td>30.0</td>\\      <td>2021-03-14</td>\\    </tr>\\    <tr>\\      <th>90</th>\\      <td>5f1201f1c1ac1410a8f39a21</td>\\      <td>217.0</td>\\      <td>United States</td>\\      <td>United States</td>\\      <td>Female</td>\\      <td>4.0</td>\\      <td>3.000</td>\\      <td>3.39000</td>\\      <td>2021-02-12</td>\\      <td>30.0</td>\\      <td>2021-03-14</td>\\    </tr>\\    <tr>\\      <th>125</th>\\      <td>5c2805401d4eb70001177bfc</td>\\      <td>270.0</td>\\      <td>United States</td>\\      <td>United States</td>\\      <td>Female</td>\\      <td>4.5</td>\\      <td>3.375</td>\\      <td>3.81375</td>\\      <td>2021-02-12</td>\\      <td>30.0</td>\\      <td>2021-03-14</td>\\    </tr>\\    <tr>\\      <th>228</th>\\      <td>5ee8f4e489b70a246eba4d20</td>\\      <td>417.0</td>\\      <td>United States</td>\\      <td>United States</td>\\      <td>Female</td>\\      <td>5.0</td>\\      <td>3.750</td>\\      <td>4.23750</td>\\      <td>2021-02-13</td>\\      <td>30.0</td>\\      <td>2021-03-15</td>\\    </tr>\\    <tr>\\      <th>234</th>\\      <td>5f527a5a4af6f352d28b53e8</td>\\      <td>435.0</td>\\      <td>United States</td>\\      <td>United States</td>\\      <td>Female</td>\\      <td>5.0</td>\\      <td>3.750</td>\\      <td>4.23750</td>\\      <td>2021-02-13</td>\\      <td>30.0</td>\\      <td>2021-03-15</td>\\    </tr>\\    <tr>\\      <th>237</th>\\      <td>5c3c7913b4f22c0001a0809c</td>\\      <td>434.0</td>\\      <td>United States</td>\\      <td>United States</td>\\      <td>Male</td>\\      <td>4.0</td>\\      <td>3.000</td>\\      <td>3.39000</td>\\      <td>2021-02-13</td>\\      <td>30.0</td>\\      <td>2021-03-15</td>\\    </tr>\\    <tr>\\      <th>240</th>\\      <td>5fd80a7f7100cd12eb473a9f</td>\\      <td>436.0</td>\\      <td>United States</td>\\      <td>United States</td>\\      <td>Male</td>\\      <td>4.0</td>\\      <td>3.000</td>\\      <td>3.39000</td>\\      <td>2021-02-13</td>\\      <td>30.0</td>\\      <td>2021-03-15</td>\\    </tr>\\    <tr>\\      <th>191</th>\\      <td>5da4d35c84ea7900178a366c</td>\\      <td>372.0</td>\\      <td>United States</td>\\      <td>United States</td>\\      <td>Male</td>\\      <td>4.5</td>\\      <td>3.375</td>\\      <td>3.81375</td>\\      <td>2021-02-13</td>\\      <td>30.0</td>\\      <td>2021-03-15</td>\\    </tr>\\    <tr>\\      <th>246</th>\\      <td>5fbf28bfdb4bdb0bc73d06a2</td>\\      <td>449.0</td>\\      <td>United States</td>\\      <td>United States</td>\\      <td>Female</td>\\      <td>4.5</td>\\      <td>3.375</td>\\      <td>3.81375</td>\\      <td>2021-02-13</td>\\      <td>30.0</td>\\      <td>2021-03-15</td>\\    </tr>\\    <tr>\\      <th>190</th>\\      <td>5f50732850c7c600098593df</td>\\      <td>371.0</td>\\      <td>United States</td>\\      <td>United States</td>\\      <td>Male</td>\\      <td>4.5</td>\\      <td>3.375</td>\\      <td>3.81375</td>\\      <td>2021-02-13</td>\\      <td>30.0</td>\\      <td>2021-03-15</td>\\    </tr>\\    <tr>\\      <th>189</th>\\      <td>5f111456d672e8471ca03f46</td>\\      <td>360.0</td>\\      <td>United States</td>\\      <td>United States</td>\\      <td>Female</td>\\      <td>4.5</td>\\      <td>3.375</td>\\      <td>3.81375</td>\\      <td>2021-02-13</td>\\      <td>30.0</td>\\      <td>2021-03-15</td>\\    </tr>\\    <tr>\\      <th>187</th>\\      <td>5720a9f6fd3a5200113c1891</td>\\      <td>358.0</td>\\      <td>United States</td>\\      <td>United States</td>\\      <td>Female</td>\\      <td>5.0</td>\\      <td>3.750</td>\\      <td>4.23750</td>\\      <td>2021-02-13</td>\\      <td>30.0</td>\\      <td>2021-03-15</td>\\    </tr>\\    <tr>\\      <th>163</th>\\      <td>569298838d93fe000dfa033c</td>\\      <td>327.0</td>\\      <td>United States</td>\\      <td>United States</td>\\      <td>Female</td>\\      <td>4.0</td>\\      <td>3.000</td>\\      <td>3.39000</td>\\      <td>2021-02-13</td>\\      <td>30.0</td>\\      <td>2021-03-15</td>\\    </tr>\\    <tr>\\      <th>157</th>\\      <td>5dd6d370194e486498e13ab6</td>\\      <td>316.0</td>\\      <td>United States</td>\\      <td>United States</td>\\      <td>Female</td>\\      <td>4.5</td>\\      <td>3.375</td>\\      <td>3.81375</td>\\      <td>2021-02-13</td>\\      <td>30.0</td>\\      <td>2021-03-15</td>\\    </tr>\\    <tr>\\      <th>151</th>\\      <td>6019a2fa2b5f81113ba676f1</td>\\      <td>310.0</td>\\      <td>United States</td>\\      <td>United States</td>\\      <td>Male</td>\\      <td>4.0</td>\\      <td>3.000</td>\\      <td>3.39000</td>\\      <td>2021-02-13</td>\\      <td>30.0</td>\\      <td>2021-03-15</td>\\    </tr>\\    <tr>\\      <th>175</th>\\      <td>5dd352c51c219b35931aefd1</td>\\      <td>347.0</td>\\      <td>United States</td>\\      <td>United States</td>\\      <td>Female</td>\\      <td>4.5</td>\\      <td>3.375</td>\\      <td>3.81375</td>\\      <td>2021-02-13</td>\\      <td>30.0</td>\\      <td>2021-03-15</td>\\    </tr>\\    <tr>\\      <th>11</th>\\      <td>5cf0ccf488abf10019fb775d</td>\\      <td>25.0</td>\\      <td>United Kingdom</td>\\      <td>United Kingdom</td>\\      <td>Female</td>\\      <td>4.5</td>\\      <td>3.375</td>\\      <td>3.81375</td>\\      <td>2021-01-18</td>\\      <td>90.0</td>\\      <td>2021-04-18</td>\\    </tr>\\    <tr>\\      <th>15</th>\\      <td>5ea94df3a879f002f3e9a812</td>\\      <td>32.0</td>\\      <td>Poland</td>\\      <td>Poland</td>\\      <td>Female</td>\\      <td>4.5</td>\\      <td>3.375</td>\\      <td>3.81375</td>\\      <td>2021-01-18</td>\\      <td>90.0</td>\\      <td>2021-04-18</td>\\    </tr>\\    <tr>\\      <th>40</th>\\      <td>5eb9940830ab6c098bd1943d</td>\\      <td>96.0</td>\\      <td>Israel</td>\\      <td>Israel</td>\\      <td>Male</td>\\      <td>4.5</td>\\      <td>3.375</td>\\      <td>3.81375</td>\\      <td>2021-01-19</td>\\      <td>90.0</td>\\      <td>2021-04-19</td>\\    </tr>\\    <tr>\\      <th>46</th>\\      <td>5c0e4e3d87e876000151cfec</td>\\      <td>126.0</td>\\      <td>Poland</td>\\      <td>Poland</td>\\      <td>Female</td>\\      <td>4.5</td>\\      <td>3.375</td>\\      <td>3.81375</td>\\      <td>2021-01-19</td>\\      <td>90.0</td>\\      <td>2021-04-19</td>\\    </tr>\\    <tr>\\      <th>86</th>\\      <td>5e46f51bc3298c1bf813a984</td>\\      <td>209.0</td>\\      <td>United States</td>\\      <td>United States</td>\\      <td>Male</td>\\      <td>5.0</td>\\      <td>3.750</td>\\      <td>4.23750</td>\\      <td>2021-02-11</td>\\      <td>90.0</td>\\      <td>2021-05-12</td>\\    </tr>\\    <tr>\\      <th>78</th>\\      <td>5ef831c97dcd65573bbb0649</td>\\      <td>199.0</td>\\      <td>United States</td>\\      <td>United States</td>\\      <td>Male</td>\\      <td>5.0</td>\\      <td>3.750</td>\\      <td>4.23750</td>\\      <td>2021-02-11</td>\\      <td>90.0</td>\\      <td>2021-05-12</td>\\    </tr>\\    <tr>\\      <th>85</th>\\      <td>601dfce11ffd11245d1bf9de</td>\\      <td>210.0</td>\\      <td>United States</td>\\      <td>United States</td>\\      <td>Female</td>\\      <td>4.0</td>\\      <td>3.000</td>\\      <td>3.39000</td>\\      <td>2021-02-11</td>\\      <td>90.0</td>\\      <td>2021-05-12</td>\\    </tr>\\    <tr>\\      <th>96</th>\\      <td>6015e67814eb10734088e51e</td>\\      <td>225.0</td>\\      <td>United States</td>\\      <td>United States</td>\\      <td>Female</td>\\      <td>5.0</td>\\      <td>3.750</td>\\      <td>4.23750</td>\\      <td>2021-02-12</td>\\      <td>90.0</td>\\      <td>2021-05-13</td>\\    </tr>\\    <tr>\\      <th>112</th>\\      <td>5e8f53644b34ff22d9b3a1c5</td>\\      <td>248.0</td>\\      <td>United States</td>\\      <td>United States</td>\\      <td>Male</td>\\      <td>4.5</td>\\      <td>3.375</td>\\      <td>3.81375</td>\\      <td>2021-02-12</td>\\      <td>90.0</td>\\      <td>2021-05-13</td>\\    </tr>\\    <tr>\\      <th>113</th>\\      <td>5df81cd72713055bdf02efd8</td>\\      <td>249.0</td>\\      <td>United States</td>\\      <td>United States</td>\\      <td>Male</td>\\      <td>5.0</td>\\      <td>3.750</td>\\      <td>4.23750</td>\\      <td>2021-02-12</td>\\      <td>90.0</td>\\      <td>2021-05-13</td>\\    </tr>\\    <tr>\\      <th>115</th>\\      <td>5f31bbe840a5c90e5a9a7b68</td>\\      <td>247.0</td>\\      <td>United States</td>\\      <td>United States</td>\\      <td>Female</td>\\      <td>4.5</td>\\      <td>3.375</td>\\      <td>3.81375</td>\\      <td>2021-02-12</td>\\      <td>90.0</td>\\      <td>2021-05-13</td>\\    </tr>\\    <tr>\\      <th>134</th>\\      <td>5f5128258dff8f30b0c3c1eb</td>\\      <td>275.0</td>\\      <td>United States</td>\\      <td>United States</td>\\      <td>Female</td>\\      <td>4.5</td>\\      <td>3.375</td>\\      <td>3.81375</td>\\      <td>2021-02-12</td>\\      <td>90.0</td>\\      <td>2021-05-13</td>\\    </tr>\\    <tr>\\      <th>127</th>\\      <td>59c0a297c458e800017b5499</td>\\      <td>271.0</td>\\      <td>United States</td>\\      <td>United States</td>\\      <td>Male</td>\\      <td>4.5</td>\\      <td>3.375</td>\\      <td>3.81375</td>\\      <td>2021-02-12</td>\\      <td>90.0</td>\\      <td>2021-05-13</td>\\    </tr>\\    <tr>\\      <th>142</th>\\      <td>5fc8232ac3b2ae180fa1a39b</td>\\      <td>294.0</td>\\      <td>United States</td>\\      <td>United States</td>\\      <td>Male</td>\\      <td>4.0</td>\\      <td>3.000</td>\\      <td>3.39000</td>\\      <td>2021-02-12</td>\\      <td>90.0</td>\\      <td>2021-05-13</td>\\    </tr>\\    <tr>\\      <th>154</th>\\      <td>5fc6e96a2607b8000ad9aa36</td>\\      <td>306.0</td>\\      <td>United States</td>\\      <td>United States</td>\\      <td>Female</td>\\      <td>5.0</td>\\      <td>3.750</td>\\      <td>4.23750</td>\\      <td>2021-02-13</td>\\      <td>90.0</td>\\      <td>2021-05-14</td>\\    </tr>\\    <tr>\\      <th>235</th>\\      <td>5ee1aff5d156f20008c98012</td>\\      <td>437.0</td>\\      <td>United States</td>\\      <td>United States</td>\\      <td>Male</td>\\      <td>4.5</td>\\      <td>3.375</td>\\      <td>3.81375</td>\\      <td>2021-02-13</td>\\      <td>90.0</td>\\      <td>2021-05-14</td>\\    </tr>\\    <tr>\\      <th>239</th>\\      <td>5ec99c80d402d64ce088be18</td>\\      <td>440.0</td>\\      <td>United States</td>\\      <td>United States</td>\\      <td>Male</td>\\      <td>4.0</td>\\      <td>3.000</td>\\      <td>3.39000</td>\\      <td>2021-02-13</td>\\      <td>90.0</td>\\      <td>2021-05-14</td>\\    </tr>\\    <tr>\\      <th>244</th>\\      <td>5f5ec0c28c844c784bf02089</td>\\      <td>447.0</td>\\      <td>United States</td>\\      <td>United States</td>\\      <td>Male</td>\\      <td>4.5</td>\\      <td>3.375</td>\\      <td>3.81375</td>\\      <td>2021-02-13</td>\\      <td>90.0</td>\\      <td>2021-05-14</td>\\    </tr>\\    <tr>\\      <th>245</th>\\      <td>5e149c03864020aa6e1cf04d</td>\\      <td>454.0</td>\\      <td>United States</td>\\      <td>United States</td>\\      <td>Male</td>\\      <td>5.0</td>\\      <td>3.750</td>\\      <td>4.23750</td>\\      <td>2021-02-13</td>\\      <td>90.0</td>\\      <td>2021-05-14</td>\\    </tr>\\    <tr>\\      <th>176</th>\\      <td>5fc46f87f8b6b98b2ae7d8cb</td>\\      <td>348.0</td>\\      <td>United States</td>\\      <td>United States</td>\\      <td>Male</td>\\      <td>4.0</td>\\      <td>3.000</td>\\      <td>3.39000</td>\\      <td>2021-02-13</td>\\      <td>90.0</td>\\      <td>2021-05-14</td>\\    </tr>\\    <tr>\\      <th>223</th>\\      <td>6021a1418a2f591e46a92aea</td>\\      <td>422.0</td>\\      <td>United States</td>\\      <td>United States</td>\\      <td>Female</td>\\      <td>5.0</td>\\      <td>3.750</td>\\      <td>4.23750</td>\\      <td>2021-02-13</td>\\      <td>90.0</td>\\      <td>2021-05-14</td>\\    </tr>\\    <tr>\\      <th>162</th>\\      <td>5fe672b9c3fd05cad8c51937</td>\\      <td>322.0</td>\\      <td>Vietnam</td>\\      <td>United States</td>\\      <td>Male</td>\\      <td>4.0</td>\\      <td>3.000</td>\\      <td>3.39000</td>\\      <td>2021-02-13</td>\\      <td>90.0</td>\\      <td>2021-05-14</td>\\    </tr>\\    <tr>\\      <th>158</th>\\      <td>601836ba0681ff045e6d6940</td>\\      <td>318.0</td>\\      <td>United States</td>\\      <td>NaN</td>\\      <td>Female</td>\\      <td>5.0</td>\\      <td>3.750</td>\\      <td>4.23750</td>\\      <td>2021-02-13</td>\\      <td>90.0</td>\\      <td>2021-05-14</td>\\    </tr>\\    <tr>\\      <th>215</th>\\      <td>5fadd628cd4e9e1c42dab969</td>\\      <td>414.0</td>\\      <td>United States</td>\\      <td>United States</td>\\      <td>Female</td>\\      <td>5.0</td>\\      <td>3.750</td>\\      <td>4.23750</td>\\      <td>2021-02-13</td>\\      <td>90.0</td>\\      <td>2021-05-14</td>\\    </tr>\\    <tr>\\      <th>218</th>\\      <td>5f647f4d6443f82231b6bc78</td>\\      <td>411.0</td>\\      <td>United States</td>\\      <td>NaN</td>\\      <td>Female</td>\\      <td>5.0</td>\\      <td>3.750</td>\\      <td>4.23750</td>\\      <td>2021-02-13</td>\\      <td>90.0</td>\\      <td>2021-05-14</td>\\    </tr>\\    <tr>\\      <th>148</th>\\      <td>600b283694c55c15f17e744c</td>\\      <td>299.0</td>\\      <td>United States</td>\\      <td>United States</td>\\      <td>Male</td>\\      <td>4.5</td>\\      <td>3.375</td>\\      <td>3.81375</td>\\      <td>2021-02-13</td>\\      <td>90.0</td>\\      <td>2021-05-14</td>\\    </tr>\\    <tr>\\      <th>198</th>\\      <td>5f92002ccc33eb0ff3d749c5</td>\\      <td>381.0</td>\\      <td>United States</td>\\      <td>United States</td>\\      <td>Female</td>\\      <td>5.0</td>\\      <td>3.750</td>\\      <td>4.23750</td>\\      <td>2021-02-13</td>\\      <td>90.0</td>\\      <td>2021-05-14</td>\\    </tr>\\    <tr>\\      <th>199</th>\\      <td>6003361889252e03cebd8fff</td>\\      <td>380.0</td>\\      <td>United States</td>\\      <td>United States</td>\\      <td>Male</td>\\      <td>5.0</td>\\      <td>3.750</td>\\      <td>4.23750</td>\\      <td>2021-02-13</td>\\      <td>90.0</td>\\      <td>2021-05-14</td>\\    </tr>\\    <tr>\\      <th>197</th>\\      <td>5dc483cf74939e34e55c3619</td>\\      <td>378.0</td>\\      <td>United States</td>\\      <td>United States</td>\\      <td>Male</td>\\      <td>4.0</td>\\      <td>3.000</td>\\      <td>3.39000</td>\\      <td>2021-02-13</td>\\      <td>90.0</td>\\      <td>2021-05-14</td>\\    </tr>\\    <tr>\\      <th>194</th>\\      <td>5e8b32ec2c33ae7f20a0b401</td>\\      <td>375.0</td>\\      <td>United States</td>\\      <td>United States</td>\\      <td>Female</td>\\      <td>4.5</td>\\      <td>3.375</td>\\      <td>3.81375</td>\\      <td>2021-02-13</td>\\      <td>90.0</td>\\      <td>2021-05-14</td>\\    </tr>\\    <tr>\\      <th>204</th>\\      <td>5cbbe831f429ff00159dde49</td>\\      <td>394.0</td>\\      <td>United States</td>\\      <td>United States</td>\\      <td>Male</td>\\      <td>4.5</td>\\      <td>3.375</td>\\      <td>3.81375</td>\\      <td>2021-02-13</td>\\      <td>90.0</td>\\      <td>2021-05-14</td>\\    </tr>\\    <tr>\\      <th>196</th>\\      <td>5ef83fd0b0ec20582318c7b9</td>\\      <td>379.0</td>\\      <td>United States</td>\\      <td>United States</td>\\      <td>Female</td>\\      <td>5.0</td>\\      <td>3.750</td>\\      <td>4.23750</td>\\      <td>2021-02-13</td>\\      <td>90.0</td>\\      <td>2021-05-14</td>\\    </tr>\\    <tr>\\      <th>166</th>\\      <td>5ec9d530f7f5db50c71639de</td>\\      <td>338.0</td>\\      <td>United States</td>\\      <td>United States</td>\\      <td>Male</td>\\      <td>4.0</td>\\      <td>3.000</td>\\      <td>3.39000</td>\\      <td>2021-02-13</td>\\      <td>90.0</td>\\      <td>2021-05-14</td>\\    </tr>\\    <tr>\\      <th>44</th>\\      <td>600063f2943eab0acc812ed8</td>\\      <td>103.0</td>\\      <td>Italy</td>\\      <td>Italy</td>\\      <td>Male</td>\\      <td>4.5</td>\\      <td>3.375</td>\\      <td>3.81375</td>\\      <td>2021-01-19</td>\\      <td>180.0</td>\\      <td>2021-07-18</td>\\    </tr>\\    <tr>\\      <th>51</th>\\      <td>60220f3c276dd72c78daa7bb</td>\\      <td>146.0</td>\\      <td>India</td>\\      <td>United States</td>\\      <td>Female</td>\\      <td>5.0</td>\\      <td>3.750</td>\\      <td>4.23750</td>\\      <td>2021-02-11</td>\\      <td>180.0</td>\\      <td>2021-08-10</td>\\    </tr>\\    <tr>\\      <th>81</th>\\      <td>5f053720c017078437e04818</td>\\      <td>207.0</td>\\      <td>United States</td>\\      <td>United States</td>\\      <td>Male</td>\\      <td>4.0</td>\\      <td>3.000</td>\\      <td>3.39000</td>\\      <td>2021-02-11</td>\\      <td>180.0</td>\\      <td>2021-08-10</td>\\    </tr>\\    <tr>\\      <th>54</th>\\      <td>5ff6841f306c942319b20520</td>\\      <td>152.0</td>\\      <td>United States</td>\\      <td>United States</td>\\      <td>Female</td>\\      <td>5.0</td>\\      <td>3.750</td>\\      <td>4.23750</td>\\      <td>2021-02-11</td>\\      <td>180.0</td>\\      <td>2021-08-10</td>\\    </tr>\\    <tr>\\      <th>83</th>\\      <td>5bf3761862e1bc0001f15cb2</td>\\      <td>205.0</td>\\      <td>United States</td>\\      <td>United States</td>\\      <td>Male</td>\\      <td>4.0</td>\\      <td>3.000</td>\\      <td>3.39000</td>\\      <td>2021-02-11</td>\\      <td>180.0</td>\\      <td>2021-08-10</td>\\    </tr>\\    <tr>\\      <th>62</th>\\      <td>5df967d2f6191f6e87b236e6</td>\\      <td>165.0</td>\\      <td>United States</td>\\      <td>United States</td>\\      <td>Male</td>\\      <td>5.0</td>\\      <td>3.750</td>\\      <td>4.23750</td>\\      <td>2021-02-11</td>\\      <td>180.0</td>\\      <td>2021-08-10</td>\\    </tr>\\    <tr>\\      <th>70</th>\\      <td>5ef1980b60a4447bc1a5408c</td>\\      <td>186.0</td>\\      <td>United States</td>\\      <td>United States</td>\\      <td>Female</td>\\      <td>5.0</td>\\      <td>3.750</td>\\      <td>4.23750</td>\\      <td>2021-02-11</td>\\      <td>180.0</td>\\      <td>2021-08-10</td>\\    </tr>\\    <tr>\\      <th>75</th>\\      <td>5dd370b6e4bf2035a6b93643</td>\\      <td>196.0</td>\\      <td>India</td>\\      <td>United States</td>\\      <td>Male</td>\\      <td>4.0</td>\\      <td>3.000</td>\\      <td>3.39000</td>\\      <td>2021-02-11</td>\\      <td>180.0</td>\\      <td>2021-08-10</td>\\    </tr>\\    <tr>\\      <th>71</th>\\      <td>600bb4e0206b7027ab4a4202</td>\\      <td>189.0</td>\\      <td>United States</td>\\      <td>United States</td>\\      <td>Male</td>\\      <td>4.5</td>\\      <td>3.375</td>\\      <td>3.81375</td>\\      <td>2021-02-11</td>\\      <td>180.0</td>\\      <td>2021-08-10</td>\\    </tr>\\    <tr>\\      <th>146</th>\\      <td>60130328df028814330fae98</td>\\      <td>297.0</td>\\      <td>Korea</td>\\      <td>United States</td>\\      <td>Male</td>\\      <td>4.0</td>\\      <td>3.000</td>\\      <td>3.39000</td>\\      <td>2021-02-12</td>\\      <td>180.0</td>\\      <td>2021-08-11</td>\\    </tr>\\    <tr>\\      <th>140</th>\\      <td>5fff13a192317b60cc0962e7</td>\\      <td>286.0</td>\\      <td>Croatia</td>\\      <td>NaN</td>\\      <td>Female</td>\\      <td>4.0</td>\\      <td>3.000</td>\\      <td>3.39000</td>\\      <td>2021-02-12</td>\\      <td>180.0</td>\\      <td>2021-08-11</td>\\    </tr>\\    <tr>\\      <th>130</th>\\      <td>5b6a87d2cda8590001db8e07</td>\\      <td>272.0</td>\\      <td>United States</td>\\      <td>United States</td>\\      <td>Male</td>\\      <td>4.0</td>\\      <td>3.000</td>\\      <td>3.39000</td>\\      <td>2021-02-12</td>\\      <td>180.0</td>\\      <td>2021-08-11</td>\\    </tr>\\    <tr>\\      <th>91</th>\\      <td>5c2f9cddc5459b0001bae5b3</td>\\      <td>223.0</td>\\      <td>United States</td>\\      <td>United States</td>\\      <td>Female</td>\\      <td>5.0</td>\\      <td>3.750</td>\\      <td>4.23750</td>\\      <td>2021-02-12</td>\\      <td>180.0</td>\\      <td>2021-08-11</td>\\    </tr>\\    <tr>\\      <th>121</th>\\      <td>5e67f0321e4f0a0a657c1d08</td>\\      <td>265.0</td>\\      <td>United States</td>\\      <td>United States</td>\\      <td>Male</td>\\      <td>5.0</td>\\      <td>3.750</td>\\      <td>4.23750</td>\\      <td>2021-02-12</td>\\      <td>180.0</td>\\      <td>2021-08-11</td>\\    </tr>\\    <tr>\\      <th>195</th>\\      <td>5d8270af4104eb001941224c</td>\\      <td>377.0</td>\\      <td>United States</td>\\      <td>United States</td>\\      <td>Female</td>\\      <td>4.0</td>\\      <td>3.000</td>\\      <td>3.39000</td>\\      <td>2021-02-13</td>\\      <td>180.0</td>\\      <td>2021-08-12</td>\\    </tr>\\    <tr>\\      <th>243</th>\\      <td>5d36600685d1d50001affacb</td>\\      <td>446.0</td>\\      <td>United States</td>\\      <td>United States</td>\\      <td>Male</td>\\      <td>5.0</td>\\      <td>3.750</td>\\      <td>4.23750</td>\\      <td>2021-02-13</td>\\      <td>180.0</td>\\      <td>2021-08-12</td>\\    </tr>\\    <tr>\\      <th>160</th>\\      <td>6019f33f17fdc21e027f72aa</td>\\      <td>328.0</td>\\      <td>United States</td>\\      <td>United States</td>\\      <td>Male</td>\\      <td>5.0</td>\\      <td>3.750</td>\\      <td>4.23750</td>\\      <td>2021-02-13</td>\\      <td>180.0</td>\\      <td>2021-08-12</td>\\    </tr>\\    <tr>\\      <th>213</th>\\      <td>5f489766dbc4a2364c0f4f93</td>\\      <td>405.0</td>\\      <td>United States</td>\\      <td>United States</td>\\      <td>Female</td>\\      <td>5.0</td>\\      <td>3.750</td>\\      <td>4.23750</td>\\      <td>2021-02-13</td>\\      <td>180.0</td>\\      <td>2021-08-12</td>\\    </tr>\\    <tr>\\      <th>202</th>\\      <td>5cbe04b4f429ff00159de30e</td>\\      <td>395.0</td>\\      <td>United States</td>\\      <td>United States</td>\\      <td>Female</td>\\      <td>5.0</td>\\      <td>3.750</td>\\      <td>4.23750</td>\\      <td>2021-02-13</td>\\      <td>180.0</td>\\      <td>2021-08-12</td>\\    </tr>\\    <tr>\\      <th>207</th>\\      <td>600612a62facd195d940e24d</td>\\      <td>389.0</td>\\      <td>United States</td>\\      <td>United States</td>\\      <td>Male</td>\\      <td>4.5</td>\\      <td>3.375</td>\\      <td>3.81375</td>\\      <td>2021-02-13</td>\\      <td>180.0</td>\\      <td>2021-08-12</td>\\    </tr>\\    <tr>\\      <th>177</th>\\      <td>5f487ef3cb080134e6903363</td>\\      <td>349.0</td>\\      <td>United States</td>\\      <td>United States</td>\\      <td>Female</td>\\      <td>4.0</td>\\      <td>3.000</td>\\      <td>3.39000</td>\\      <td>2021-02-13</td>\\      <td>180.0</td>\\      <td>2021-08-12</td>\\    </tr>\\    <tr>\\      <th>153</th>\\      <td>5f47f3b013fe2f2537aba6da</td>\\      <td>304.0</td>\\      <td>United States</td>\\      <td>United States</td>\\      <td>Male</td>\\      <td>4.0</td>\\      <td>3.000</td>\\      <td>3.39000</td>\\      <td>2021-02-13</td>\\      <td>180.0</td>\\      <td>2021-08-12</td>\\    </tr>\\    <tr>\\      <th>221</th>\\      <td>5f9ee5d49932bc4ba79ea5af</td>\\      <td>420.0</td>\\      <td>United States</td>\\      <td>United States</td>\\      <td>Female</td>\\      <td>5.0</td>\\      <td>3.750</td>\\      <td>4.23750</td>\\      <td>2021-02-13</td>\\      <td>180.0</td>\\      <td>2021-08-12</td>\\    </tr>\\    <tr>\\      <th>220</th>\\      <td>5e9a4b17666c130defb0ab72</td>\\      <td>406.0</td>\\      <td>United States</td>\\      <td>United States</td>\\      <td>Female</td>\\      <td>4.0</td>\\      <td>3.000</td>\\      <td>3.39000</td>\\      <td>2021-02-13</td>\\      <td>180.0</td>\\      <td>2021-08-12</td>\\    </tr>\\    <tr>\\      <th>186</th>\\      <td>5f2cc8cebc4bd01d61151550</td>\\      <td>365.0</td>\\      <td>United States</td>\\      <td>United States</td>\\      <td>Female</td>\\      <td>4.0</td>\\      <td>3.000</td>\\      <td>3.39000</td>\\      <td>2021-02-13</td>\\      <td>180.0</td>\\      <td>2021-08-12</td>\\    </tr>\\    <tr>\\      <th>216</th>\\      <td>5de40feb61872d000d8803ff</td>\\      <td>403.0</td>\\      <td>Italy</td>\\      <td>United States</td>\\      <td>Female</td>\\      <td>4.5</td>\\      <td>3.375</td>\\      <td>3.81375</td>\\      <td>2021-02-13</td>\\      <td>180.0</td>\\      <td>2021-08-12</td>\\    </tr>\\    <tr>\\      <th>171</th>\\      <td>5c5da579bfe5280001448433</td>\\      <td>340.0</td>\\      <td>United States</td>\\      <td>United States</td>\\      <td>Female</td>\\      <td>4.0</td>\\      <td>3.000</td>\\      <td>3.39000</td>\\      <td>2021-02-13</td>\\      <td>180.0</td>\\      <td>2021-08-12</td>\\    </tr>\\    <tr>\\      <th>209</th>\\      <td>5dd4767b32288646716dc98a</td>\\      <td>396.0</td>\\      <td>United States</td>\\      <td>United States</td>\\      <td>Female</td>\\      <td>4.0</td>\\      <td>3.000</td>\\      <td>3.39000</td>\\      <td>2021-02-13</td>\\      <td>180.0</td>\\      <td>2021-08-12</td>\\    </tr>\\  </tbody>\\</table><style>\\    table { border-collapse: collapse; border: 3px solid #eee; }\\    table tr th:first-child { background-color: #eeeeee; color: #333; font-weight: bold }\\    table thead th { background-color: #eee; color: #000; }\\    tr, th, td { border: 1px solid #ccc; border-width: 1px 0 0 1px; border-collapse: collapse;\\    padding: 3px; font-family: monospace; font-size: 10px }</style>\\    ';</script><style>\n",
       "    table { border-collapse: collapse; border: 3px solid #eee; }\n",
       "    table tr th:first-child { background-color: #eeeeee; color: #333; font-weight: bold }\n",
       "    table thead th { background-color: #eee; color: #000; }\n",
       "    tr, th, td { border: 1px solid #ccc; border-width: 1px 0 0 1px; border-collapse: collapse;\n",
       "    padding: 3px; font-family: monospace; font-size: 10px }</style>\n",
       "    "
      ],
      "text/plain": [
       "<IPython.core.display.HTML object>"
      ]
     },
     "execution_count": 28,
     "metadata": {},
     "output_type": "execute_result"
    }
   ],
   "source": [
    "data_due = data_pay.loc[:, \n",
    "               [\n",
    "                   'prolificID', 'run_id',\n",
    "                   'Nationality', 'Current Country of Residence', 'Sex',  \n",
    "                   'bonus_USD', 'bonus_GBP', 'bonus_EUR', \n",
    "                   'completed_date', 'bonus_delay', 'due_on'\n",
    "               ]\n",
    "              ]. sort_values(by='due_on')\n",
    "data_due\n",
    "View(data_due)"
   ]
  },
  {
   "cell_type": "markdown",
   "metadata": {},
   "source": [
    "## What bonus is due today? "
   ]
  },
  {
   "cell_type": "code",
   "execution_count": 17,
   "metadata": {
    "scrolled": true
   },
   "outputs": [
    {
     "data": {
      "text/html": [
       "<div>\n",
       "<style scoped>\n",
       "    .dataframe tbody tr th:only-of-type {\n",
       "        vertical-align: middle;\n",
       "    }\n",
       "\n",
       "    .dataframe tbody tr th {\n",
       "        vertical-align: top;\n",
       "    }\n",
       "\n",
       "    .dataframe thead th {\n",
       "        text-align: right;\n",
       "    }\n",
       "</style>\n",
       "<table border=\"1\" class=\"dataframe\">\n",
       "  <thead>\n",
       "    <tr style=\"text-align: right;\">\n",
       "      <th></th>\n",
       "      <th>run_id</th>\n",
       "      <th>prolificID</th>\n",
       "      <th>status</th>\n",
       "      <th>started_datetime</th>\n",
       "      <th>reviewed_at_datetime</th>\n",
       "      <th>bonus_GBP</th>\n",
       "      <th>bonus_delay</th>\n",
       "      <th>due_on</th>\n",
       "    </tr>\n",
       "  </thead>\n",
       "  <tbody>\n",
       "  </tbody>\n",
       "</table>\n",
       "</div>"
      ],
      "text/plain": [
       "Empty DataFrame\n",
       "Columns: [run_id, prolificID, status, started_datetime, reviewed_at_datetime, bonus_GBP, bonus_delay, due_on]\n",
       "Index: []"
      ]
     },
     "execution_count": 17,
     "metadata": {},
     "output_type": "execute_result"
    }
   ],
   "source": [
    "bonus_due_today = data_pay.loc[\n",
    "    (data_pay['due_on']==datetime.datetime.now().date()), \n",
    "    ['run_id', 'prolificID', 'status', \n",
    "     'started_datetime', 'reviewed_at_datetime', \n",
    "     'bonus_GBP', 'bonus_delay', 'due_on']\n",
    "]\n",
    "bonus_due_today['bonus_GBP'] = bonus_due_today['bonus_GBP'].round(2)\n",
    "bonus_due_today"
   ]
  },
  {
   "cell_type": "code",
   "execution_count": 18,
   "metadata": {
    "scrolled": true
   },
   "outputs": [
    {
     "name": "stdout",
     "output_type": "stream",
     "text": [
      "[]\n"
     ]
    }
   ],
   "source": [
    "bonus_due_today.loc[\n",
    "    bonus_due_today['run_id']<=130, \n",
    "    ['prolificID', 'bonus_GBP']] \\\n",
    "    .to_csv(\n",
    "        'C:/Users/User/GitHub/WebET_Analysis/prolific/bonusToday_int.csv', \n",
    "        index=False, \n",
    "        header=False\n",
    "    )\n",
    "\n",
    "bonus_due_today.loc[\n",
    "    bonus_due_today['run_id']>130, \n",
    "    ['prolificID', 'bonus_GBP']] \\\n",
    "    .to_csv(\n",
    "        'C:/Users/User/GitHub/WebET_Analysis/prolific/bonusToday_us.csv', \n",
    "        index=False, \n",
    "        header=False\n",
    "    )\n",
    "print(bonus_due_today['due_on'].unique())"
   ]
  },
  {
   "cell_type": "markdown",
   "metadata": {},
   "source": [
    "## Bonus left to pay"
   ]
  },
  {
   "cell_type": "code",
   "execution_count": 19,
   "metadata": {},
   "outputs": [
    {
     "data": {
      "text/html": [
       "<div>\n",
       "<style scoped>\n",
       "    .dataframe tbody tr th:only-of-type {\n",
       "        vertical-align: middle;\n",
       "    }\n",
       "\n",
       "    .dataframe tbody tr th {\n",
       "        vertical-align: top;\n",
       "    }\n",
       "\n",
       "    .dataframe thead th {\n",
       "        text-align: right;\n",
       "    }\n",
       "</style>\n",
       "<table border=\"1\" class=\"dataframe\">\n",
       "  <thead>\n",
       "    <tr style=\"text-align: right;\">\n",
       "      <th></th>\n",
       "      <th>prolificID</th>\n",
       "      <th>completed_date</th>\n",
       "      <th>bonus_GBP</th>\n",
       "      <th>due_on</th>\n",
       "    </tr>\n",
       "  </thead>\n",
       "  <tbody>\n",
       "    <tr>\n",
       "      <th>11</th>\n",
       "      <td>5cf0ccf488abf10019fb775d</td>\n",
       "      <td>2021-01-18</td>\n",
       "      <td>3.375</td>\n",
       "      <td>2021-04-18</td>\n",
       "    </tr>\n",
       "    <tr>\n",
       "      <th>15</th>\n",
       "      <td>5ea94df3a879f002f3e9a812</td>\n",
       "      <td>2021-01-18</td>\n",
       "      <td>3.375</td>\n",
       "      <td>2021-04-18</td>\n",
       "    </tr>\n",
       "    <tr>\n",
       "      <th>40</th>\n",
       "      <td>5eb9940830ab6c098bd1943d</td>\n",
       "      <td>2021-01-19</td>\n",
       "      <td>3.375</td>\n",
       "      <td>2021-04-19</td>\n",
       "    </tr>\n",
       "    <tr>\n",
       "      <th>44</th>\n",
       "      <td>600063f2943eab0acc812ed8</td>\n",
       "      <td>2021-01-19</td>\n",
       "      <td>3.375</td>\n",
       "      <td>2021-07-18</td>\n",
       "    </tr>\n",
       "    <tr>\n",
       "      <th>46</th>\n",
       "      <td>5c0e4e3d87e876000151cfec</td>\n",
       "      <td>2021-01-19</td>\n",
       "      <td>3.375</td>\n",
       "      <td>2021-04-19</td>\n",
       "    </tr>\n",
       "    <tr>\n",
       "      <th>...</th>\n",
       "      <td>...</td>\n",
       "      <td>...</td>\n",
       "      <td>...</td>\n",
       "      <td>...</td>\n",
       "    </tr>\n",
       "    <tr>\n",
       "      <th>243</th>\n",
       "      <td>5d36600685d1d50001affacb</td>\n",
       "      <td>2021-02-13</td>\n",
       "      <td>3.750</td>\n",
       "      <td>2021-08-12</td>\n",
       "    </tr>\n",
       "    <tr>\n",
       "      <th>244</th>\n",
       "      <td>5f5ec0c28c844c784bf02089</td>\n",
       "      <td>2021-02-13</td>\n",
       "      <td>3.375</td>\n",
       "      <td>2021-05-14</td>\n",
       "    </tr>\n",
       "    <tr>\n",
       "      <th>245</th>\n",
       "      <td>5e149c03864020aa6e1cf04d</td>\n",
       "      <td>2021-02-13</td>\n",
       "      <td>3.750</td>\n",
       "      <td>2021-05-14</td>\n",
       "    </tr>\n",
       "    <tr>\n",
       "      <th>246</th>\n",
       "      <td>5fbf28bfdb4bdb0bc73d06a2</td>\n",
       "      <td>2021-02-13</td>\n",
       "      <td>3.375</td>\n",
       "      <td>2021-03-15</td>\n",
       "    </tr>\n",
       "    <tr>\n",
       "      <th>250</th>\n",
       "      <td>5f51268b7abc4a30c4d8240d</td>\n",
       "      <td>2021-02-13</td>\n",
       "      <td>3.000</td>\n",
       "      <td>2021-02-28</td>\n",
       "    </tr>\n",
       "  </tbody>\n",
       "</table>\n",
       "<p>104 rows × 4 columns</p>\n",
       "</div>"
      ],
      "text/plain": [
       "                   prolificID completed_date  bonus_GBP      due_on\n",
       "11   5cf0ccf488abf10019fb775d     2021-01-18      3.375  2021-04-18\n",
       "15   5ea94df3a879f002f3e9a812     2021-01-18      3.375  2021-04-18\n",
       "40   5eb9940830ab6c098bd1943d     2021-01-19      3.375  2021-04-19\n",
       "44   600063f2943eab0acc812ed8     2021-01-19      3.375  2021-07-18\n",
       "46   5c0e4e3d87e876000151cfec     2021-01-19      3.375  2021-04-19\n",
       "..                        ...            ...        ...         ...\n",
       "243  5d36600685d1d50001affacb     2021-02-13      3.750  2021-08-12\n",
       "244  5f5ec0c28c844c784bf02089     2021-02-13      3.375  2021-05-14\n",
       "245  5e149c03864020aa6e1cf04d     2021-02-13      3.750  2021-05-14\n",
       "246  5fbf28bfdb4bdb0bc73d06a2     2021-02-13      3.375  2021-03-15\n",
       "250  5f51268b7abc4a30c4d8240d     2021-02-13      3.000  2021-02-28\n",
       "\n",
       "[104 rows x 4 columns]"
      ]
     },
     "execution_count": 19,
     "metadata": {},
     "output_type": "execute_result"
    }
   ],
   "source": [
    "data_pay.loc[\n",
    "    data_pay['due_on']>datetime.datetime.now().date(), \n",
    "    ['prolificID', 'completed_date', 'bonus_GBP', 'due_on']]"
   ]
  },
  {
   "cell_type": "code",
   "execution_count": 20,
   "metadata": {},
   "outputs": [
    {
     "name": "stdout",
     "output_type": "stream",
     "text": [
      "Left bonus (GBP): 438.49499999999995\n"
     ]
    }
   ],
   "source": [
    "left_bonus = data_pay.loc[\n",
    "    data_pay['due_on']>datetime.datetime.now().date(), \n",
    "    'bonus_GBP'].sum()\n",
    "\n",
    "print(f'Left bonus (GBP): {left_bonus * 1.2 + (left_bonus*0.2*0.2)}')"
   ]
  },
  {
   "cell_type": "markdown",
   "metadata": {},
   "source": [
    "## Check on specific subjects"
   ]
  },
  {
   "cell_type": "code",
   "execution_count": 29,
   "metadata": {},
   "outputs": [
    {
     "data": {
      "text/html": [
       "<div>\n",
       "<style scoped>\n",
       "    .dataframe tbody tr th:only-of-type {\n",
       "        vertical-align: middle;\n",
       "    }\n",
       "\n",
       "    .dataframe tbody tr th {\n",
       "        vertical-align: top;\n",
       "    }\n",
       "\n",
       "    .dataframe thead th {\n",
       "        text-align: right;\n",
       "    }\n",
       "</style>\n",
       "<table border=\"1\" class=\"dataframe\">\n",
       "  <thead>\n",
       "    <tr style=\"text-align: right;\">\n",
       "      <th></th>\n",
       "      <th>completed_date_time</th>\n",
       "      <th>bonus_USD</th>\n",
       "      <th>bonus_delay</th>\n",
       "      <th>due_on</th>\n",
       "    </tr>\n",
       "  </thead>\n",
       "  <tbody>\n",
       "    <tr>\n",
       "      <th>24</th>\n",
       "      <td>2021-01-19 09:48:30.781000</td>\n",
       "      <td>4.0</td>\n",
       "      <td>30.0</td>\n",
       "      <td>2021-02-18</td>\n",
       "    </tr>\n",
       "  </tbody>\n",
       "</table>\n",
       "</div>"
      ],
      "text/plain": [
       "           completed_date_time  bonus_USD  bonus_delay      due_on\n",
       "24  2021-01-19 09:48:30.781000        4.0         30.0  2021-02-18"
      ]
     },
     "execution_count": 29,
     "metadata": {},
     "output_type": "execute_result"
    }
   ],
   "source": [
    "data_pay.loc[\n",
    "    data_pay['prolificID']==\"5f779405dacc842fc44bc767\", \n",
    "    ['completed_date_time', 'bonus_USD', 'bonus_delay', 'due_on']\n",
    "]"
   ]
  },
  {
   "cell_type": "markdown",
   "metadata": {},
   "source": [
    "# Total costs"
   ]
  },
  {
   "cell_type": "markdown",
   "metadata": {},
   "source": [
    "## Basic payment"
   ]
  },
  {
   "cell_type": "code",
   "execution_count": 22,
   "metadata": {
    "scrolled": true
   },
   "outputs": [
    {
     "data": {
      "text/html": [
       "<div>\n",
       "<style scoped>\n",
       "    .dataframe tbody tr th:only-of-type {\n",
       "        vertical-align: middle;\n",
       "    }\n",
       "\n",
       "    .dataframe tbody tr th {\n",
       "        vertical-align: top;\n",
       "    }\n",
       "\n",
       "    .dataframe thead th {\n",
       "        text-align: right;\n",
       "    }\n",
       "</style>\n",
       "<table border=\"1\" class=\"dataframe\">\n",
       "  <thead>\n",
       "    <tr style=\"text-align: right;\">\n",
       "      <th></th>\n",
       "      <th>basic_GBP</th>\n",
       "      <th>bonus_GBP</th>\n",
       "    </tr>\n",
       "  </thead>\n",
       "  <tbody>\n",
       "    <tr>\n",
       "      <th>0</th>\n",
       "      <td>2.25</td>\n",
       "      <td>3.375</td>\n",
       "    </tr>\n",
       "    <tr>\n",
       "      <th>1</th>\n",
       "      <td>2.25</td>\n",
       "      <td>3.375</td>\n",
       "    </tr>\n",
       "    <tr>\n",
       "      <th>2</th>\n",
       "      <td>2.25</td>\n",
       "      <td>3.375</td>\n",
       "    </tr>\n",
       "    <tr>\n",
       "      <th>3</th>\n",
       "      <td>2.25</td>\n",
       "      <td>3.000</td>\n",
       "    </tr>\n",
       "    <tr>\n",
       "      <th>4</th>\n",
       "      <td>2.25</td>\n",
       "      <td>3.750</td>\n",
       "    </tr>\n",
       "  </tbody>\n",
       "</table>\n",
       "</div>"
      ],
      "text/plain": [
       "   basic_GBP  bonus_GBP\n",
       "0       2.25      3.375\n",
       "1       2.25      3.375\n",
       "2       2.25      3.375\n",
       "3       2.25      3.000\n",
       "4       2.25      3.750"
      ]
     },
     "execution_count": 22,
     "metadata": {},
     "output_type": "execute_result"
    }
   ],
   "source": [
    "data_pay['basic_GBP'] = 2.25\n",
    "data_pay.loc[:, ['basic_GBP', 'bonus_GBP']].head(5)"
   ]
  },
  {
   "cell_type": "markdown",
   "metadata": {},
   "source": [
    "## Total"
   ]
  },
  {
   "cell_type": "code",
   "execution_count": 23,
   "metadata": {},
   "outputs": [
    {
     "name": "stdout",
     "output_type": "stream",
     "text": [
      "N =251\n",
      "\n",
      "                  GBP\n",
      "reward_basic   564.75\n",
      "service_fee    112.95\n",
      "vat             22.59\n",
      "total_basic    790.65\n",
      "total_bonus   1063.65\n",
      "total         1854.30\n",
      "\n",
      "Total in €, incl. transaction fee: 2113.9019999999996\n"
     ]
    }
   ],
   "source": [
    "print('N =' + str(len(data_pay)) + '\\n')\n",
    "\n",
    "reward_basic = data_pay['basic_GBP'].sum()\n",
    "service_fee = reward_basic * 0.2\n",
    "vat = reward_basic * 0.2*0.2\n",
    "total_basic = data_pay['basic_GBP'].sum() * 1.4\n",
    "total_bonus = data_pay['bonus_GBP'].sum() * 1.4\n",
    "total = total_basic + total_bonus\n",
    "\n",
    "overview = pd.DataFrame(\n",
    "    [\n",
    "        [reward_basic], \n",
    "        [service_fee], [vat], \n",
    "        [total_basic], [total_bonus], [total]\n",
    "    ], \n",
    "    columns=['GBP'],\n",
    "    index= ['reward_basic', \n",
    "        'service_fee', 'vat', \n",
    "        'total_basic', 'total_bonus', 'total'])\n",
    "print(str(overview) + '\\n')\n",
    "\n",
    "print('Total in €, incl. transaction fee: ' + str(total * 1.14))"
   ]
  },
  {
   "cell_type": "markdown",
   "metadata": {},
   "source": [
    "## Total already paid \n",
    "Basic + bonus until today. Use that to compare with prolific bills"
   ]
  },
  {
   "cell_type": "code",
   "execution_count": 24,
   "metadata": {},
   "outputs": [
    {
     "name": "stdout",
     "output_type": "stream",
     "text": [
      "                   GBP\n",
      "reward_basic   564.750\n",
      "service_fee    194.175\n",
      "vat             38.835\n",
      "total_basic    790.650\n",
      "total_bonus    568.575\n",
      "total         1359.225\n",
      "\n",
      "Total in €, incl. transaction fee: 1549.5164999999997\n"
     ]
    }
   ],
   "source": [
    "bonus_GBP_already_paid = data_pay.loc[\n",
    "    data_pay['due_on']<=datetime.datetime.now().date(), \n",
    "    'bonus_GBP'].sum()\n",
    "\n",
    "reward_basic = data_pay['basic_GBP'].sum()\n",
    "service_fee = (reward_basic + bonus_GBP_already_paid) * 0.2\n",
    "vat = (reward_basic + bonus_GBP_already_paid) * 0.2*0.2\n",
    "total_basic = data_pay['basic_GBP'].sum() * 1.4\n",
    "total_bonus = bonus_GBP_already_paid * 1.4\n",
    "total = total_basic + total_bonus\n",
    "\n",
    "overview = pd.DataFrame(\n",
    "    [\n",
    "        [reward_basic], \n",
    "        [service_fee], [vat], \n",
    "        [total_basic], [total_bonus], [total]\n",
    "    ], \n",
    "    columns=['GBP'],\n",
    "    index= ['reward_basic', \n",
    "        'service_fee', 'vat', \n",
    "        'total_basic', 'total_bonus', 'total'])\n",
    "print(str(overview) + '\\n')\n",
    "\n",
    "print('Total in €, incl. transaction fee: ' + str(total * 1.14))"
   ]
  },
  {
   "cell_type": "markdown",
   "metadata": {},
   "source": [
    "# Prognosis for the larger sample"
   ]
  },
  {
   "cell_type": "code",
   "execution_count": 25,
   "metadata": {},
   "outputs": [
    {
     "name": "stdout",
     "output_type": "stream",
     "text": [
      "Budget: 1848.88 GBP / 2101.00 EUR / n=280\n",
      "Paid:   1700.50 GBP / 1955.57 EUR / n=257\n",
      "Buffer: 127.98 /  145.43 EUR / n=19\n",
      "\n",
      "Collect 207 more participants.\n"
     ]
    },
    {
     "data": {
      "text/html": [
       "<div>\n",
       "<style scoped>\n",
       "    .dataframe tbody tr th:only-of-type {\n",
       "        vertical-align: middle;\n",
       "    }\n",
       "\n",
       "    .dataframe tbody tr th {\n",
       "        vertical-align: top;\n",
       "    }\n",
       "\n",
       "    .dataframe thead th {\n",
       "        text-align: right;\n",
       "    }\n",
       "</style>\n",
       "<table border=\"1\" class=\"dataframe\">\n",
       "  <thead>\n",
       "    <tr style=\"text-align: right;\">\n",
       "      <th></th>\n",
       "      <th>1</th>\n",
       "      <th>50</th>\n",
       "      <th>257</th>\n",
       "      <th>207</th>\n",
       "    </tr>\n",
       "  </thead>\n",
       "  <tbody>\n",
       "    <tr>\n",
       "      <th>reward_basic</th>\n",
       "      <td>2.25</td>\n",
       "      <td>112.50</td>\n",
       "      <td>578.25</td>\n",
       "      <td>465.75</td>\n",
       "    </tr>\n",
       "    <tr>\n",
       "      <th>reward_bonus</th>\n",
       "      <td>3.03</td>\n",
       "      <td>151.34</td>\n",
       "      <td>777.91</td>\n",
       "      <td>626.57</td>\n",
       "    </tr>\n",
       "    <tr>\n",
       "      <th>total_reward</th>\n",
       "      <td>5.28</td>\n",
       "      <td>263.84</td>\n",
       "      <td>1356.16</td>\n",
       "      <td>1092.32</td>\n",
       "    </tr>\n",
       "    <tr>\n",
       "      <th>service_fee</th>\n",
       "      <td>1.06</td>\n",
       "      <td>52.77</td>\n",
       "      <td>271.23</td>\n",
       "      <td>218.46</td>\n",
       "    </tr>\n",
       "    <tr>\n",
       "      <th>vat</th>\n",
       "      <td>0.21</td>\n",
       "      <td>10.55</td>\n",
       "      <td>54.25</td>\n",
       "      <td>43.69</td>\n",
       "    </tr>\n",
       "    <tr>\n",
       "      <th>total_basic</th>\n",
       "      <td>2.79</td>\n",
       "      <td>139.50</td>\n",
       "      <td>717.03</td>\n",
       "      <td>577.53</td>\n",
       "    </tr>\n",
       "    <tr>\n",
       "      <th>total_bonus</th>\n",
       "      <td>3.75</td>\n",
       "      <td>187.67</td>\n",
       "      <td>964.61</td>\n",
       "      <td>776.94</td>\n",
       "    </tr>\n",
       "    <tr>\n",
       "      <th>total GBP</th>\n",
       "      <td>6.54</td>\n",
       "      <td>327.17</td>\n",
       "      <td>1681.64</td>\n",
       "      <td>1354.47</td>\n",
       "    </tr>\n",
       "    <tr>\n",
       "      <th>total EUR</th>\n",
       "      <td>7.46</td>\n",
       "      <td>372.97</td>\n",
       "      <td>1917.07</td>\n",
       "      <td>1544.10</td>\n",
       "    </tr>\n",
       "  </tbody>\n",
       "</table>\n",
       "</div>"
      ],
      "text/plain": [
       "               1       50       257      207\n",
       "reward_basic  2.25  112.50   578.25   465.75\n",
       "reward_bonus  3.03  151.34   777.91   626.57\n",
       "total_reward  5.28  263.84  1356.16  1092.32\n",
       "service_fee   1.06   52.77   271.23   218.46\n",
       "vat           0.21   10.55    54.25    43.69\n",
       "total_basic   2.79  139.50   717.03   577.53\n",
       "total_bonus   3.75  187.67   964.61   776.94\n",
       "total GBP     6.54  327.17  1681.64  1354.47\n",
       "total EUR     7.46  372.97  1917.07  1544.10"
      ]
     },
     "execution_count": 25,
     "metadata": {},
     "output_type": "execute_result"
    }
   ],
   "source": [
    "def cost_prognosis(n):\n",
    "    reward_basic = n * data_pay['basic_GBP'].mean()\n",
    "    reward_bonus = n * data_pay['bonus_GBP'].mean()\n",
    "        \n",
    "    total_reward = reward_basic + reward_bonus\n",
    "    service_fee  = total_reward * 0.2\n",
    "    vat          = total_reward * 0.2*0.2\n",
    "    total_basic  = reward_basic + reward_basic*0.2 + reward_basic*0.2*0.2\n",
    "    total_bonus  = reward_bonus + reward_bonus*0.2 + reward_bonus*0.2*0.2\n",
    "    total        = total_reward + service_fee + vat\n",
    "\n",
    "    overview = pd.DataFrame(\n",
    "        [\n",
    "            [reward_basic], [reward_bonus], [total_reward],\n",
    "            [service_fee], [vat], \n",
    "            [total_basic], [total_bonus], [total], [total * 1.14]\n",
    "        ], \n",
    "        columns=[n],\n",
    "        index= ['reward_basic', 'reward_bonus', 'total_reward',\n",
    "            'service_fee', 'vat', \n",
    "            'total_basic', 'total_bonus', 'total GBP', 'total EUR'])\n",
    "    overview = round(overview, 2)\n",
    "    return(overview)\n",
    "\n",
    "print('Budget: ' + str(round(2101*0.88, 2)) + ' GBP / ' + \n",
    "      '2101.00 EUR / ' +\n",
    "      'n=' + str(int(np.floor((2101*0.88)/6.6)))\n",
    "     )\n",
    "\n",
    "print('Paid:   1700.50 GBP / ' + \n",
    "      str(round(1700.5*1.15, 2)) + ' EUR / ' + \n",
    "      'n=' + str(int(np.floor(1700.5/6.6))))\n",
    "buffer_EUR = 2101-1955.57\n",
    "buffer_GBP = buffer_EUR * 0.88\n",
    "print('Buffer: ' + str(round(buffer_GBP, 2)) + ' /  ' + \n",
    "      str(round(buffer_EUR, 2)) + ' EUR / n=' + \n",
    "      str(int(np.floor(buffer_GBP/6.6))) + '\\n')\n",
    "print('Collect 207 more participants.')\n",
    "\n",
    "pd.concat([\n",
    "    cost_prognosis(1),\n",
    "    cost_prognosis(50),\n",
    "    cost_prognosis(257), \n",
    "    cost_prognosis(207)\n",
    "], axis=1)"
   ]
  },
  {
   "cell_type": "markdown",
   "metadata": {},
   "source": [
    "# Export modified prolific data"
   ]
  },
  {
   "cell_type": "code",
   "execution_count": 26,
   "metadata": {},
   "outputs": [],
   "source": [
    "data_pay.to_csv('C:/Users/User/GitHub/WebET_Analysis/prolific/data_pay.csv', index=False, header=True)"
   ]
  },
  {
   "cell_type": "markdown",
   "metadata": {},
   "source": [
    "# Feedback"
   ]
  },
  {
   "cell_type": "code",
   "execution_count": 27,
   "metadata": {},
   "outputs": [
    {
     "name": "stdout",
     "output_type": "stream",
     "text": [
      "Success! Script ran through.\n"
     ]
    }
   ],
   "source": [
    "print('Success! Script ran through.')"
   ]
  }
 ],
 "metadata": {
  "kernelspec": {
   "display_name": "Python 3",
   "language": "python",
   "name": "python3"
  },
  "language_info": {
   "codemirror_mode": {
    "name": "ipython",
    "version": 3
   },
   "file_extension": ".py",
   "mimetype": "text/x-python",
   "name": "python",
   "nbconvert_exporter": "python",
   "pygments_lexer": "ipython3",
   "version": "3.8.5"
  },
  "toc": {
   "base_numbering": 1,
   "nav_menu": {},
   "number_sections": true,
   "sideBar": true,
   "skip_h1_title": false,
   "title_cell": "Table of Contents",
   "title_sidebar": "Contents",
   "toc_cell": false,
   "toc_position": {
    "height": "572.8px",
    "left": "287px",
    "top": "202.533px",
    "width": "281.6px"
   },
   "toc_section_display": true,
   "toc_window_display": true
  }
 },
 "nbformat": 4,
 "nbformat_minor": 4
}
