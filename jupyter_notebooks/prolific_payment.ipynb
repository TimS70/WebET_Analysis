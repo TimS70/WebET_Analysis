{
 "cells": [
  {
   "cell_type": "code",
   "execution_count": 1,
   "metadata": {},
   "outputs": [
    {
     "name": "stdout",
     "output_type": "stream",
     "text": [
      "Current Working directory  C:\\Users\\User\\GitHub\\WebET_Analysis\\jupyter_notebooks\n"
     ]
    }
   ],
   "source": [
    "import datetime\n",
    "from datetime import timedelta  \n",
    "import matplotlib.pyplot as plt\n",
    "import numpy as np\n",
    "import os\n",
    "import pandas as pd\n",
    "import sys\n",
    "from tqdm import tqdm \n",
    "\n",
    "    \n",
    "from IPython.display import HTML\n",
    "def View(df):\n",
    "    css = \"\"\"<style>\n",
    "    table { border-collapse: collapse; border: 3px solid #eee; }\n",
    "    table tr th:first-child { background-color: #eeeeee; color: #333; font-weight: bold }\n",
    "    table thead th { background-color: #eee; color: #000; }\n",
    "    tr, th, td { border: 1px solid #ccc; border-width: 1px 0 0 1px; border-collapse: collapse;\n",
    "    padding: 3px; font-family: monospace; font-size: 10px }</style>\n",
    "    \"\"\"\n",
    "    s  = '<script type=\"text/Javascript\">'\n",
    "    s += 'var win = window.open(\"\", \"Title\", \"toolbar=no, location=no, directories=no, status=no, menubar=no, scrollbars=yes, resizable=yes, width=780, height=200, top=\"+(screen.height-400)+\", left=\"+(screen.width-840));'\n",
    "    s += 'win.document.body.innerHTML = \\'' + (df.to_html() + css).replace(\"\\n\",'\\\\') + '\\';'\n",
    "    s += '</script>'\n",
    "    return(HTML(s+css))    \n",
    "    \n",
    "print(\"Current Working directory \" , os.getcwd())"
   ]
  },
  {
   "cell_type": "code",
   "execution_count": 20,
   "metadata": {},
   "outputs": [
    {
     "data": {
      "text/plain": [
       "Index(['run_id', 'chinFirst', 'choiceTask_amountLeftFirst', 'browser',\n",
       "       'browser_version', 'device', 'platform', 'platform_version',\n",
       "       'user_agent', 'chosenAmount', 'chosenDelay', 'webcam_label',\n",
       "       'webcam_fps', 'webcam_height', 'webcam_width', 'prolificID',\n",
       "       'birthyear', 'gender', 'ethnic', 'sight', 'glasses', 'degree',\n",
       "       'eyeshadow', 'masquara', 'eyeliner', 'browliner', 'vertPosition',\n",
       "       'triedChin', 'keptHead', 'optionalNote', 'session_id', 'status',\n",
       "       'started_datetime', 'completed_date_time', 'time_taken', 'age',\n",
       "       'num_approvals', 'num_rejections', 'prolific_score',\n",
       "       'reviewed_at_datetime', 'entered_code', 'Country of Birth',\n",
       "       'Current Country of Residence', 'Employment Status', 'First Language',\n",
       "       'Nationality', 'Sex', 'Student Status', 'Webcam', 'fps', 'max_trial',\n",
       "       'glasses_binary', 'recorded_date', 'employment_status',\n",
       "       'fullTime_binary'],\n",
       "      dtype='object')"
      ]
     },
     "execution_count": 20,
     "metadata": {},
     "output_type": "execute_result"
    }
   ],
   "source": [
    "data_subject = pd.read_csv(\n",
    "    os.path.join(r'C:/Users/User/GitHub/WebET_Analysis', 'data', 'all_trials', 'added_var', \n",
    "                 'data_subject.csv'))\n",
    "\n",
    "data_subject.columns"
   ]
  },
  {
   "cell_type": "code",
   "execution_count": 23,
   "metadata": {},
   "outputs": [
    {
     "name": "stdout",
     "output_type": "stream",
     "text": [
      "                length\n",
      "data_et        2700001\n",
      "data_trial      133206\n",
      "data_subject       316\n",
      "data_prolific      381\n"
     ]
    }
   ],
   "source": [
    "data_et = pd.read_csv(\n",
    "    os.path.join(r'C:/Users/User/GitHub/WebET_Analysis', 'data', 'all_trials', 'added_var', \n",
    "                 'data_et.csv'))\n",
    "data_trial = pd.read_csv(\n",
    "    os.path.join(r'C:/Users/User/GitHub/WebET_Analysis', 'data', 'all_trials', 'added_var', \n",
    "                 'data_trial.csv'))\n",
    "data_subject = pd.read_csv(\n",
    "    os.path.join(r'C:/Users/User/GitHub/WebET_Analysis', 'data', 'all_trials', 'added_var', \n",
    "                 'data_subject.csv')) \\\n",
    "    .loc[:, \n",
    "            ['run_id', 'prolificID', \n",
    "             'birthyear', 'webcam_fps', 'webcam_label', 'recorded_date', 'max_trial',\n",
    "             'chosenAmount', 'chosenDelay']] \\\n",
    "   .drop_duplicates() \\\n",
    "   .rename(columns={'chosenAmount': 'bonus_USD',\n",
    "                    'chosenDelay': 'bonus_delay'})\n",
    "data_subject['prolificID'] = data_subject['prolificID'].str.strip()\n",
    "\n",
    "data_prolific_int = pd.read_csv(\n",
    "    os.path.join(r'C:/Users/User/GitHub/WebET_Analysis', 'data', 'prolific', 'prolific_export_int.csv')) \\\n",
    "    .rename(columns={'participant_id': 'prolificID'}) \n",
    "\n",
    "data_prolific_us = pd.read_csv(\n",
    "    os.path.join(r'C:/Users/User/GitHub/WebET_Analysis', 'data', 'prolific', 'prolific_export_us.csv')) \\\n",
    "    .rename(columns={'participant_id': 'prolificID'}) \\\n",
    "\n",
    "data_prolific = data_prolific_int \\\n",
    "    .append(data_prolific_us) \\\n",
    "    .merge(data_subject,\n",
    "           on='prolificID', \n",
    "           how='left')\n",
    "\n",
    "overview = pd.DataFrame(\n",
    "    [\n",
    "        [len(data_et)],\n",
    "        [len(data_trial)],\n",
    "        [len(data_subject)],\n",
    "        [len(data_prolific)]\n",
    "    ], \n",
    "    columns=['length'],\n",
    "    index=['data_et', \n",
    "           'data_trial',\n",
    "           'data_subject', \n",
    "           'data_prolific'])\n",
    "print(overview)"
   ]
  },
  {
   "cell_type": "markdown",
   "metadata": {},
   "source": [
    "# Approve subjects"
   ]
  },
  {
   "cell_type": "code",
   "execution_count": 21,
   "metadata": {},
   "outputs": [],
   "source": [
    "data_et = data_et.merge(\n",
    "    data_trial.loc[:, ['run_id', 'chinFirst', 'trial_index', 'trial_type', 'task_nr']], \n",
    "    on=['run_id', 'trial_index'], \n",
    "    how='left'\n",
    ")"
   ]
  },
  {
   "cell_type": "code",
   "execution_count": 6,
   "metadata": {},
   "outputs": [
    {
     "name": "stderr",
     "output_type": "stream",
     "text": [
      " 15%|████████████▌                                                                    | 39/252 [00:45<04:11,  1.18s/it]\n"
     ]
    },
    {
     "ename": "KeyboardInterrupt",
     "evalue": "",
     "output_type": "error",
     "traceback": [
      "\u001b[1;31m---------------------------------------------------------------------------\u001b[0m",
      "\u001b[1;31mKeyboardInterrupt\u001b[0m                         Traceback (most recent call last)",
      "\u001b[1;32m<ipython-input-6-254b5cc8c7ed>\u001b[0m in \u001b[0;36m<module>\u001b[1;34m\u001b[0m\n\u001b[0;32m     31\u001b[0m     m_count_fix = data_et.loc[\n\u001b[0;32m     32\u001b[0m         \u001b[1;33m(\u001b[0m\u001b[0mdata_et\u001b[0m\u001b[1;33m[\u001b[0m\u001b[1;34m'run_id'\u001b[0m\u001b[1;33m]\u001b[0m\u001b[1;33m==\u001b[0m\u001b[0msubject\u001b[0m\u001b[1;33m)\u001b[0m \u001b[1;33m&\u001b[0m\u001b[1;33m\u001b[0m\u001b[1;33m\u001b[0m\u001b[0m\n\u001b[1;32m---> 33\u001b[1;33m         \u001b[1;33m(\u001b[0m\u001b[0mdata_et\u001b[0m\u001b[1;33m[\u001b[0m\u001b[1;34m'trial_type'\u001b[0m\u001b[1;33m]\u001b[0m\u001b[1;33m==\u001b[0m\u001b[1;34m'eyetracking-fix-object'\u001b[0m\u001b[1;33m)\u001b[0m \u001b[1;33m&\u001b[0m\u001b[1;33m\u001b[0m\u001b[1;33m\u001b[0m\u001b[0m\n\u001b[0m\u001b[0;32m     34\u001b[0m         ~((data_et['chinFirst']==1) & (data_et['task_nr']==2) |\n\u001b[0;32m     35\u001b[0m           \u001b[1;33m(\u001b[0m\u001b[0mdata_et\u001b[0m\u001b[1;33m[\u001b[0m\u001b[1;34m'chinFirst'\u001b[0m\u001b[1;33m]\u001b[0m\u001b[1;33m==\u001b[0m\u001b[1;36m0\u001b[0m\u001b[1;33m)\u001b[0m \u001b[1;33m&\u001b[0m \u001b[1;33m(\u001b[0m\u001b[0mdata_et\u001b[0m\u001b[1;33m[\u001b[0m\u001b[1;34m'task_nr'\u001b[0m\u001b[1;33m]\u001b[0m\u001b[1;33m==\u001b[0m\u001b[1;36m3\u001b[0m\u001b[1;33m)\u001b[0m\u001b[1;33m\u001b[0m\u001b[1;33m\u001b[0m\u001b[0m\n",
      "\u001b[1;32m~\\miniconda3\\lib\\site-packages\\pandas\\core\\ops\\common.py\u001b[0m in \u001b[0;36mnew_method\u001b[1;34m(self, other)\u001b[0m\n\u001b[0;32m     63\u001b[0m         \u001b[0mother\u001b[0m \u001b[1;33m=\u001b[0m \u001b[0mitem_from_zerodim\u001b[0m\u001b[1;33m(\u001b[0m\u001b[0mother\u001b[0m\u001b[1;33m)\u001b[0m\u001b[1;33m\u001b[0m\u001b[1;33m\u001b[0m\u001b[0m\n\u001b[0;32m     64\u001b[0m \u001b[1;33m\u001b[0m\u001b[0m\n\u001b[1;32m---> 65\u001b[1;33m         \u001b[1;32mreturn\u001b[0m \u001b[0mmethod\u001b[0m\u001b[1;33m(\u001b[0m\u001b[0mself\u001b[0m\u001b[1;33m,\u001b[0m \u001b[0mother\u001b[0m\u001b[1;33m)\u001b[0m\u001b[1;33m\u001b[0m\u001b[1;33m\u001b[0m\u001b[0m\n\u001b[0m\u001b[0;32m     66\u001b[0m \u001b[1;33m\u001b[0m\u001b[0m\n\u001b[0;32m     67\u001b[0m     \u001b[1;32mreturn\u001b[0m \u001b[0mnew_method\u001b[0m\u001b[1;33m\u001b[0m\u001b[1;33m\u001b[0m\u001b[0m\n",
      "\u001b[1;32m~\\miniconda3\\lib\\site-packages\\pandas\\core\\arraylike.py\u001b[0m in \u001b[0;36m__eq__\u001b[1;34m(self, other)\u001b[0m\n\u001b[0;32m     27\u001b[0m     \u001b[1;33m@\u001b[0m\u001b[0munpack_zerodim_and_defer\u001b[0m\u001b[1;33m(\u001b[0m\u001b[1;34m\"__eq__\"\u001b[0m\u001b[1;33m)\u001b[0m\u001b[1;33m\u001b[0m\u001b[1;33m\u001b[0m\u001b[0m\n\u001b[0;32m     28\u001b[0m     \u001b[1;32mdef\u001b[0m \u001b[0m__eq__\u001b[0m\u001b[1;33m(\u001b[0m\u001b[0mself\u001b[0m\u001b[1;33m,\u001b[0m \u001b[0mother\u001b[0m\u001b[1;33m)\u001b[0m\u001b[1;33m:\u001b[0m\u001b[1;33m\u001b[0m\u001b[1;33m\u001b[0m\u001b[0m\n\u001b[1;32m---> 29\u001b[1;33m         \u001b[1;32mreturn\u001b[0m \u001b[0mself\u001b[0m\u001b[1;33m.\u001b[0m\u001b[0m_cmp_method\u001b[0m\u001b[1;33m(\u001b[0m\u001b[0mother\u001b[0m\u001b[1;33m,\u001b[0m \u001b[0moperator\u001b[0m\u001b[1;33m.\u001b[0m\u001b[0meq\u001b[0m\u001b[1;33m)\u001b[0m\u001b[1;33m\u001b[0m\u001b[1;33m\u001b[0m\u001b[0m\n\u001b[0m\u001b[0;32m     30\u001b[0m \u001b[1;33m\u001b[0m\u001b[0m\n\u001b[0;32m     31\u001b[0m     \u001b[1;33m@\u001b[0m\u001b[0munpack_zerodim_and_defer\u001b[0m\u001b[1;33m(\u001b[0m\u001b[1;34m\"__ne__\"\u001b[0m\u001b[1;33m)\u001b[0m\u001b[1;33m\u001b[0m\u001b[1;33m\u001b[0m\u001b[0m\n",
      "\u001b[1;32m~\\miniconda3\\lib\\site-packages\\pandas\\core\\series.py\u001b[0m in \u001b[0;36m_cmp_method\u001b[1;34m(self, other, op)\u001b[0m\n\u001b[0;32m   4973\u001b[0m         \u001b[0mrvalues\u001b[0m \u001b[1;33m=\u001b[0m \u001b[0mextract_array\u001b[0m\u001b[1;33m(\u001b[0m\u001b[0mother\u001b[0m\u001b[1;33m,\u001b[0m \u001b[0mextract_numpy\u001b[0m\u001b[1;33m=\u001b[0m\u001b[1;32mTrue\u001b[0m\u001b[1;33m)\u001b[0m\u001b[1;33m\u001b[0m\u001b[1;33m\u001b[0m\u001b[0m\n\u001b[0;32m   4974\u001b[0m \u001b[1;33m\u001b[0m\u001b[0m\n\u001b[1;32m-> 4975\u001b[1;33m         \u001b[0mres_values\u001b[0m \u001b[1;33m=\u001b[0m \u001b[0mops\u001b[0m\u001b[1;33m.\u001b[0m\u001b[0mcomparison_op\u001b[0m\u001b[1;33m(\u001b[0m\u001b[0mlvalues\u001b[0m\u001b[1;33m,\u001b[0m \u001b[0mrvalues\u001b[0m\u001b[1;33m,\u001b[0m \u001b[0mop\u001b[0m\u001b[1;33m)\u001b[0m\u001b[1;33m\u001b[0m\u001b[1;33m\u001b[0m\u001b[0m\n\u001b[0m\u001b[0;32m   4976\u001b[0m \u001b[1;33m\u001b[0m\u001b[0m\n\u001b[0;32m   4977\u001b[0m         \u001b[1;32mreturn\u001b[0m \u001b[0mself\u001b[0m\u001b[1;33m.\u001b[0m\u001b[0m_construct_result\u001b[0m\u001b[1;33m(\u001b[0m\u001b[0mres_values\u001b[0m\u001b[1;33m,\u001b[0m \u001b[0mname\u001b[0m\u001b[1;33m=\u001b[0m\u001b[0mres_name\u001b[0m\u001b[1;33m)\u001b[0m\u001b[1;33m\u001b[0m\u001b[1;33m\u001b[0m\u001b[0m\n",
      "\u001b[1;32m~\\miniconda3\\lib\\site-packages\\pandas\\core\\ops\\array_ops.py\u001b[0m in \u001b[0;36mcomparison_op\u001b[1;34m(left, right, op)\u001b[0m\n\u001b[0;32m    241\u001b[0m \u001b[1;33m\u001b[0m\u001b[0m\n\u001b[0;32m    242\u001b[0m     \u001b[1;32melif\u001b[0m \u001b[0mis_object_dtype\u001b[0m\u001b[1;33m(\u001b[0m\u001b[0mlvalues\u001b[0m\u001b[1;33m.\u001b[0m\u001b[0mdtype\u001b[0m\u001b[1;33m)\u001b[0m\u001b[1;33m:\u001b[0m\u001b[1;33m\u001b[0m\u001b[1;33m\u001b[0m\u001b[0m\n\u001b[1;32m--> 243\u001b[1;33m         \u001b[0mres_values\u001b[0m \u001b[1;33m=\u001b[0m \u001b[0mcomp_method_OBJECT_ARRAY\u001b[0m\u001b[1;33m(\u001b[0m\u001b[0mop\u001b[0m\u001b[1;33m,\u001b[0m \u001b[0mlvalues\u001b[0m\u001b[1;33m,\u001b[0m \u001b[0mrvalues\u001b[0m\u001b[1;33m)\u001b[0m\u001b[1;33m\u001b[0m\u001b[1;33m\u001b[0m\u001b[0m\n\u001b[0m\u001b[0;32m    244\u001b[0m \u001b[1;33m\u001b[0m\u001b[0m\n\u001b[0;32m    245\u001b[0m     \u001b[1;32melse\u001b[0m\u001b[1;33m:\u001b[0m\u001b[1;33m\u001b[0m\u001b[1;33m\u001b[0m\u001b[0m\n",
      "\u001b[1;32m~\\miniconda3\\lib\\site-packages\\pandas\\core\\ops\\array_ops.py\u001b[0m in \u001b[0;36mcomp_method_OBJECT_ARRAY\u001b[1;34m(op, x, y)\u001b[0m\n\u001b[0;32m     54\u001b[0m     \u001b[1;32melse\u001b[0m\u001b[1;33m:\u001b[0m\u001b[1;33m\u001b[0m\u001b[1;33m\u001b[0m\u001b[0m\n\u001b[0;32m     55\u001b[0m         \u001b[0mresult\u001b[0m \u001b[1;33m=\u001b[0m \u001b[0mlibops\u001b[0m\u001b[1;33m.\u001b[0m\u001b[0mscalar_compare\u001b[0m\u001b[1;33m(\u001b[0m\u001b[0mx\u001b[0m\u001b[1;33m.\u001b[0m\u001b[0mravel\u001b[0m\u001b[1;33m(\u001b[0m\u001b[1;33m)\u001b[0m\u001b[1;33m,\u001b[0m \u001b[0my\u001b[0m\u001b[1;33m,\u001b[0m \u001b[0mop\u001b[0m\u001b[1;33m)\u001b[0m\u001b[1;33m\u001b[0m\u001b[1;33m\u001b[0m\u001b[0m\n\u001b[1;32m---> 56\u001b[1;33m     \u001b[1;32mreturn\u001b[0m \u001b[0mresult\u001b[0m\u001b[1;33m.\u001b[0m\u001b[0mreshape\u001b[0m\u001b[1;33m(\u001b[0m\u001b[0mx\u001b[0m\u001b[1;33m.\u001b[0m\u001b[0mshape\u001b[0m\u001b[1;33m)\u001b[0m\u001b[1;33m\u001b[0m\u001b[1;33m\u001b[0m\u001b[0m\n\u001b[0m\u001b[0;32m     57\u001b[0m \u001b[1;33m\u001b[0m\u001b[0m\n\u001b[0;32m     58\u001b[0m \u001b[1;33m\u001b[0m\u001b[0m\n",
      "\u001b[1;31mKeyboardInterrupt\u001b[0m: "
     ]
    }
   ],
   "source": [
    "output = []\n",
    "for subject in tqdm(data_et['run_id'].unique()):\n",
    "    m_x_fix = data_et.loc[\n",
    "        (data_et['run_id']==subject) &\n",
    "        (data_et['trial_type']=='eyetracking-fix-object') &\n",
    "        ~((data_et['chinFirst']==1) & (data_et['task_nr']==2) |\n",
    "          (data_et['chinFirst']==0) & (data_et['task_nr']==3) \n",
    "         ), \n",
    "        'x'\n",
    "    ].mean()\n",
    "    m_x_choice = data_et.loc[\n",
    "        (data_et['run_id']==subject) &\n",
    "        (data_et['trial_type']=='eyetracking-choice'), \n",
    "        'x'\n",
    "    ].mean()\n",
    "\n",
    "    m_y_fix = data_et.loc[\n",
    "        (data_et['run_id']==subject) &\n",
    "        (data_et['trial_type']=='eyetracking-fix-object') &\n",
    "        ~((data_et['chinFirst']==1) & (data_et['task_nr']==2) |\n",
    "          (data_et['chinFirst']==0) & (data_et['task_nr']==3) \n",
    "         ), \n",
    "        'y'\n",
    "    ].mean()\n",
    "    m_y_choice = data_et.loc[\n",
    "        (data_et['run_id']==subject) &\n",
    "        (data_et['trial_type']=='eyetracking-choice'), \n",
    "        'y'\n",
    "    ].mean()\n",
    "\n",
    "    m_count_fix = data_et.loc[\n",
    "        (data_et['run_id']==subject) &\n",
    "        (data_et['trial_type']=='eyetracking-fix-object') &\n",
    "        ~((data_et['chinFirst']==1) & (data_et['task_nr']==2) |\n",
    "          (data_et['chinFirst']==0) & (data_et['task_nr']==3) \n",
    "         ), \n",
    "        'x'\n",
    "    ].count()\n",
    "\n",
    "    m_count_choice = data_et.loc[\n",
    "        (data_et['run_id']==subject) &\n",
    "        (data_et['trial_type']=='eyetracking-choice'), \n",
    "        'x'\n",
    "    ].count()\n",
    "    \n",
    "    n_choseTop = sum(data_trial.loc[\n",
    "        (data_trial['trial_type']=='eyetracking-choice') &\n",
    "        (data_trial['run_id']==subject),\n",
    "        'key_press']==38)\n",
    "\n",
    "    output.append([subject, m_x_fix, m_y_fix, m_x_choice, m_y_choice, \n",
    "                   m_count_fix, m_count_choice, \n",
    "                   n_choseTop])\n",
    "\n",
    "output = pd.DataFrame(output, \n",
    "                      columns=['run_id', 'm_x_fix', 'm_y_fix', 'm_x_choice', 'm_y_choice', \n",
    "                               'm_count_fix', 'm_count_choice',\n",
    "                               'n_choseTop'])\n",
    "output\n",
    "\n",
    "data_prolific = data_prolific.merge(output, on='run_id', how='left')"
   ]
  },
  {
   "cell_type": "markdown",
   "metadata": {},
   "source": [
    "## These subjects await review"
   ]
  },
  {
   "cell_type": "code",
   "execution_count": 6,
   "metadata": {},
   "outputs": [
    {
     "data": {
      "text/plain": [
       "array(['APPROVED', 'RETURNED', 'REJECTED', 'TIMED-OUT'], dtype=object)"
      ]
     },
     "execution_count": 6,
     "metadata": {},
     "output_type": "execute_result"
    }
   ],
   "source": [
    "data_prolific['status'].unique()"
   ]
  },
  {
   "cell_type": "code",
   "execution_count": 7,
   "metadata": {
    "scrolled": true
   },
   "outputs": [
    {
     "data": {
      "text/html": [
       "<div>\n",
       "<style scoped>\n",
       "    .dataframe tbody tr th:only-of-type {\n",
       "        vertical-align: middle;\n",
       "    }\n",
       "\n",
       "    .dataframe tbody tr th {\n",
       "        vertical-align: top;\n",
       "    }\n",
       "\n",
       "    .dataframe thead th {\n",
       "        text-align: right;\n",
       "    }\n",
       "</style>\n",
       "<table border=\"1\" class=\"dataframe\">\n",
       "  <thead>\n",
       "    <tr style=\"text-align: right;\">\n",
       "      <th></th>\n",
       "      <th>run_id</th>\n",
       "      <th>prolificID</th>\n",
       "      <th>started_datetime</th>\n",
       "      <th>time_taken</th>\n",
       "      <th>trial_length</th>\n",
       "    </tr>\n",
       "  </thead>\n",
       "  <tbody>\n",
       "  </tbody>\n",
       "</table>\n",
       "</div>"
      ],
      "text/plain": [
       "Empty DataFrame\n",
       "Columns: [run_id, prolificID, started_datetime, time_taken, trial_length]\n",
       "Index: []"
      ]
     },
     "execution_count": 7,
     "metadata": {},
     "output_type": "execute_result"
    }
   ],
   "source": [
    "awaiting_review = data_prolific.loc[\n",
    "    data_prolific['status']=='AWAITING REVIEW', \n",
    "    ['run_id', 'prolificID', 'started_datetime', 'time_taken', 'max_trial',\n",
    "     #'m_x_fix', 'm_y_fix', 'm_x_choice', 'm_y_choice', 'm_count_fix', 'm_count_choice',\n",
    "     #'n_choseTop'\n",
    "    ]\n",
    "].sort_values(by='started_datetime')\n",
    "awaiting_review\n",
    "# View(awaiting_review)"
   ]
  },
  {
   "cell_type": "code",
   "execution_count": 8,
   "metadata": {},
   "outputs": [
    {
     "data": {
      "text/plain": [
       "''"
      ]
     },
     "execution_count": 8,
     "metadata": {},
     "output_type": "execute_result"
    }
   ],
   "source": [
    "data_prolific.loc[\n",
    "    data_prolific['status']=='AWAITING REVIEW', \n",
    "    'prolificID'].to_csv(header=None, index=False, line_terminator=', ')"
   ]
  },
  {
   "cell_type": "code",
   "execution_count": 9,
   "metadata": {},
   "outputs": [
    {
     "data": {
      "text/html": [
       "<div>\n",
       "<style scoped>\n",
       "    .dataframe tbody tr th:only-of-type {\n",
       "        vertical-align: middle;\n",
       "    }\n",
       "\n",
       "    .dataframe tbody tr th {\n",
       "        vertical-align: top;\n",
       "    }\n",
       "\n",
       "    .dataframe thead th {\n",
       "        text-align: right;\n",
       "    }\n",
       "</style>\n",
       "<table border=\"1\" class=\"dataframe\">\n",
       "  <thead>\n",
       "    <tr style=\"text-align: right;\">\n",
       "      <th></th>\n",
       "      <th>run_id</th>\n",
       "      <th>prolificID</th>\n",
       "      <th>webcam_fps</th>\n",
       "      <th>choice_rt</th>\n",
       "      <th>bonus_USD</th>\n",
       "      <th>bonus_delay</th>\n",
       "    </tr>\n",
       "  </thead>\n",
       "  <tbody>\n",
       "  </tbody>\n",
       "</table>\n",
       "</div>"
      ],
      "text/plain": [
       "Empty DataFrame\n",
       "Columns: [run_id, prolificID, webcam_fps, choice_rt, bonus_USD, bonus_delay]\n",
       "Index: []"
      ]
     },
     "execution_count": 9,
     "metadata": {},
     "output_type": "execute_result"
    }
   ],
   "source": [
    "if 'choice_rt' in data_prolific.columns:\n",
    "    data_prolific = data_prolific.drop(columns='choice_rt')\n",
    "grouped = data_trial \\\n",
    "    .loc[\n",
    "        data_trial['trial_type']=='eyetracking-choice', \n",
    "        :] \\\n",
    "    .groupby(['prolificID'])['rt'].mean() \\\n",
    "    .reset_index() \\\n",
    "    .rename(columns={'rt': 'choice_rt'})\n",
    "\n",
    "data_prolific = data_prolific.merge(\n",
    "    grouped, \n",
    "    on='prolificID', \n",
    "    how='left')\n",
    "\n",
    "data_prolific.loc[\n",
    "    data_prolific['status']=='AWAITING REVIEW', \n",
    "    ['run_id', 'prolificID', 'webcam_fps', \n",
    "     'choice_rt', 'bonus_USD', 'bonus_delay']\n",
    "] \\\n",
    "    .sort_values(by='run_id')"
   ]
  },
  {
   "cell_type": "markdown",
   "metadata": {},
   "source": [
    "# data_pay"
   ]
  },
  {
   "cell_type": "code",
   "execution_count": 35,
   "metadata": {},
   "outputs": [
    {
     "name": "stdout",
     "output_type": "stream",
     "text": [
      "267\n"
     ]
    }
   ],
   "source": [
    "data_pay = data_prolific.loc[\n",
    "    data_prolific['status']=='APPROVED', \n",
    "    [\n",
    "        'run_id', 'prolificID', 'max_trial', 'recorded_date', \n",
    "        'age',  'Country of Birth', 'Current Country of Residence', 'First Language',\n",
    "        'Nationality', 'Sex', \n",
    "        'status', 'reviewed_at_datetime', 'Country of Birth', 'entered_code',\n",
    "        'session_id', 'started_datetime', 'completed_date_time', 'time_taken',\n",
    "        'bonus_USD', 'bonus_delay'\n",
    "    ]\n",
    "]\n",
    "print(len(data_pay))"
   ]
  },
  {
   "cell_type": "markdown",
   "metadata": {},
   "source": [
    "# Bonus payment"
   ]
  },
  {
   "cell_type": "markdown",
   "metadata": {},
   "source": [
    "Reformat payments"
   ]
  },
  {
   "cell_type": "code",
   "execution_count": 38,
   "metadata": {
    "scrolled": false
   },
   "outputs": [
    {
     "data": {
      "text/html": [
       "<div>\n",
       "<style scoped>\n",
       "    .dataframe tbody tr th:only-of-type {\n",
       "        vertical-align: middle;\n",
       "    }\n",
       "\n",
       "    .dataframe tbody tr th {\n",
       "        vertical-align: top;\n",
       "    }\n",
       "\n",
       "    .dataframe thead th {\n",
       "        text-align: right;\n",
       "    }\n",
       "</style>\n",
       "<table border=\"1\" class=\"dataframe\">\n",
       "  <thead>\n",
       "    <tr style=\"text-align: right;\">\n",
       "      <th></th>\n",
       "      <th>bonus_USD</th>\n",
       "      <th>bonus_delay</th>\n",
       "    </tr>\n",
       "  </thead>\n",
       "  <tbody>\n",
       "    <tr>\n",
       "      <th>0</th>\n",
       "      <td>4.5</td>\n",
       "      <td>7.0</td>\n",
       "    </tr>\n",
       "    <tr>\n",
       "      <th>3</th>\n",
       "      <td>4.5</td>\n",
       "      <td>30.0</td>\n",
       "    </tr>\n",
       "    <tr>\n",
       "      <th>4</th>\n",
       "      <td>4.5</td>\n",
       "      <td>30.0</td>\n",
       "    </tr>\n",
       "    <tr>\n",
       "      <th>5</th>\n",
       "      <td>4.0</td>\n",
       "      <td>30.0</td>\n",
       "    </tr>\n",
       "    <tr>\n",
       "      <th>10</th>\n",
       "      <td>5.0</td>\n",
       "      <td>30.0</td>\n",
       "    </tr>\n",
       "  </tbody>\n",
       "</table>\n",
       "</div>"
      ],
      "text/plain": [
       "    bonus_USD  bonus_delay\n",
       "0         4.5          7.0\n",
       "3         4.5         30.0\n",
       "4         4.5         30.0\n",
       "5         4.0         30.0\n",
       "10        5.0         30.0"
      ]
     },
     "execution_count": 38,
     "metadata": {},
     "output_type": "execute_result"
    }
   ],
   "source": [
    "data_pay['bonus_delay'] = data_pay['bonus_delay'].astype(str)\n",
    "data_pay['bonus_delay'] = data_pay['bonus_delay'] \\\n",
    "    .replace(['Today', 'Tomorrow', '7 days', \n",
    "          '15 days', '30 days', '90 days', \n",
    "          '180 days'], \n",
    "         [0, 1, 7, 15, 30, 90, 180]) \\\n",
    "    .astype(float)\n",
    "\n",
    "data_pay['bonus_USD'] = data_pay['bonus_USD'].astype(str)\n",
    "data_pay['bonus_USD'] = data_pay['bonus_USD'] \\\n",
    "    .replace({'\\$':''}, regex = True) \\\n",
    "    .replace('50 cent', 0.5) \\\n",
    "    .astype(float)\n",
    "\n",
    "data_pay.loc[:, ['bonus_USD', 'bonus_delay']].head(5)"
   ]
  },
  {
   "cell_type": "markdown",
   "metadata": {},
   "source": [
    "## Missing values"
   ]
  },
  {
   "cell_type": "code",
   "execution_count": 57,
   "metadata": {},
   "outputs": [],
   "source": [
    "# For two subjects, the bonus payment was not recorded\n",
    "data_pay.loc[\n",
    "    data_pay['prolificID'].isin([\n",
    "        '5ef6d07be683903cd5ae171d',\n",
    "        '5fea6632bf9ae4a79153efdf',\n",
    "        '60186dc2cc1aa8103499603a',\n",
    "        '5f4fe72e9468441227166179',\n",
    "        '5ec5a64c306f255ec98d5cc1',\n",
    "        '5b8969006651ea000118e42e', \n",
    "        '5fb2af792942a58ffe303948', \n",
    "        '5edc20443467e28ec4e30f93',\n",
    "        '5fa1192cf99e161a5cfad1cd', \n",
    "        '5d430fdf871f1700017b2a81',\n",
    "        '5c95970cd676900016e1a940',\n",
    "        '5ecfc227f036c902457fc44c',\n",
    "        '5ecfc227f036c902457fc44c',\n",
    "        '5de80e0b521f95791f912e49',\n",
    "        '5ff7baf4cbc6b34ca5779e90',\n",
    "        '5f493291e3e64832df458323',\n",
    "        '5dddef56946f7cd753f9e2d7',\n",
    "        '5ef1980b60a4447bc1a5408c',\n",
    "        '5fc8232ac3b2ae180fa1a39b',\n",
    "        '5fc8232ac3b2ae180fa1a39b',\n",
    "        '6019a2fa2b5f81113ba676f1',\n",
    "        '5cbe04b4f429ff00159de30e',\n",
    "        '5e149c03864020aa6e1cf04d'\n",
    "    ]), ['bonus_USD', 'bonus_delay']] = [5, 1]"
   ]
  },
  {
   "cell_type": "code",
   "execution_count": 58,
   "metadata": {
    "scrolled": true
   },
   "outputs": [
    {
     "data": {
      "text/html": [
       "<div>\n",
       "<style scoped>\n",
       "    .dataframe tbody tr th:only-of-type {\n",
       "        vertical-align: middle;\n",
       "    }\n",
       "\n",
       "    .dataframe tbody tr th {\n",
       "        vertical-align: top;\n",
       "    }\n",
       "\n",
       "    .dataframe thead th {\n",
       "        text-align: right;\n",
       "    }\n",
       "</style>\n",
       "<table border=\"1\" class=\"dataframe\">\n",
       "  <thead>\n",
       "    <tr style=\"text-align: right;\">\n",
       "      <th></th>\n",
       "      <th>run_id</th>\n",
       "      <th>prolificID</th>\n",
       "      <th>max_trial</th>\n",
       "      <th>started_datetime</th>\n",
       "      <th>reviewed_at_datetime</th>\n",
       "    </tr>\n",
       "  </thead>\n",
       "  <tbody>\n",
       "  </tbody>\n",
       "</table>\n",
       "</div>"
      ],
      "text/plain": [
       "Empty DataFrame\n",
       "Columns: [run_id, prolificID, max_trial, started_datetime, reviewed_at_datetime]\n",
       "Index: []"
      ]
     },
     "execution_count": 58,
     "metadata": {},
     "output_type": "execute_result"
    }
   ],
   "source": [
    "data_pay.loc[\n",
    "    data_pay[['bonus_USD', 'bonus_delay']].isnull().any(axis=1), \n",
    "    ['run_id', 'prolificID', 'max_trial', 'started_datetime', 'reviewed_at_datetime']\n",
    "].sort_values(by='started_datetime')"
   ]
  },
  {
   "cell_type": "markdown",
   "metadata": {},
   "source": [
    "## Bonus in other currencies"
   ]
  },
  {
   "cell_type": "code",
   "execution_count": 59,
   "metadata": {},
   "outputs": [],
   "source": [
    "data_pay['bonus_GBP'] = data_pay['bonus_USD'] * 0.75\n",
    "data_pay['bonus_EUR'] = data_pay['bonus_GBP'] * 1.13"
   ]
  },
  {
   "cell_type": "markdown",
   "metadata": {},
   "source": [
    "## When is the bonus due?"
   ]
  },
  {
   "cell_type": "code",
   "execution_count": 60,
   "metadata": {},
   "outputs": [
    {
     "name": "stdout",
     "output_type": "stream",
     "text": [
      "267\n"
     ]
    },
    {
     "name": "stderr",
     "output_type": "stream",
     "text": [
      "C:\\Users\\User\\miniconda3\\lib\\site-packages\\pandas\\core\\arrays\\datetimelike.py:1108: PerformanceWarning: Adding/subtracting object-dtype array to TimedeltaArray not vectorized\n",
      "  warnings.warn(\n"
     ]
    }
   ],
   "source": [
    "data_pay.loc[data_pay['run_id']==444, 'completed_date_time'] = \\\n",
    "    '2021-02-13 21:52:30.000000'\n",
    "    \n",
    "data_pay['completed_date']=data_pay.apply(\n",
    "    lambda x: datetime.datetime.strptime(\n",
    "        x['completed_date_time'], '%Y-%m-%d %H:%M:%S.%f') \\\n",
    "            .date(),\n",
    "    axis=1)\n",
    "\n",
    "data_pay['due_on'] = data_pay['completed_date'] + \\\n",
    "    data_pay['bonus_delay'].map(datetime.timedelta) \n",
    "\n",
    "print(len(data_pay))"
   ]
  },
  {
   "cell_type": "code",
   "execution_count": 61,
   "metadata": {},
   "outputs": [
    {
     "data": {
      "text/html": [
       "<div>\n",
       "<style scoped>\n",
       "    .dataframe tbody tr th:only-of-type {\n",
       "        vertical-align: middle;\n",
       "    }\n",
       "\n",
       "    .dataframe tbody tr th {\n",
       "        vertical-align: top;\n",
       "    }\n",
       "\n",
       "    .dataframe thead th {\n",
       "        text-align: right;\n",
       "    }\n",
       "</style>\n",
       "<table border=\"1\" class=\"dataframe\">\n",
       "  <thead>\n",
       "    <tr style=\"text-align: right;\">\n",
       "      <th></th>\n",
       "      <th>prolificID</th>\n",
       "      <th>run_id</th>\n",
       "      <th>Nationality</th>\n",
       "      <th>Current Country of Residence</th>\n",
       "      <th>Sex</th>\n",
       "      <th>bonus_USD</th>\n",
       "      <th>bonus_GBP</th>\n",
       "      <th>bonus_EUR</th>\n",
       "      <th>completed_date</th>\n",
       "      <th>bonus_delay</th>\n",
       "      <th>due_on</th>\n",
       "    </tr>\n",
       "  </thead>\n",
       "  <tbody>\n",
       "    <tr>\n",
       "      <th>27</th>\n",
       "      <td>5eeaa0ffaa6af11cf32ce057</td>\n",
       "      <td>30.0</td>\n",
       "      <td>Poland</td>\n",
       "      <td>Poland</td>\n",
       "      <td>Male</td>\n",
       "      <td>3.0</td>\n",
       "      <td>2.250</td>\n",
       "      <td>2.54250</td>\n",
       "      <td>2021-01-18</td>\n",
       "      <td>0.0</td>\n",
       "      <td>2021-01-18</td>\n",
       "    </tr>\n",
       "    <tr>\n",
       "      <th>34</th>\n",
       "      <td>5f0cb319d29147695796a208</td>\n",
       "      <td>37.0</td>\n",
       "      <td>Italy</td>\n",
       "      <td>United Kingdom</td>\n",
       "      <td>Male</td>\n",
       "      <td>3.0</td>\n",
       "      <td>2.250</td>\n",
       "      <td>2.54250</td>\n",
       "      <td>2021-01-18</td>\n",
       "      <td>0.0</td>\n",
       "      <td>2021-01-18</td>\n",
       "    </tr>\n",
       "    <tr>\n",
       "      <th>33</th>\n",
       "      <td>5f8472685956c40c720d0936</td>\n",
       "      <td>36.0</td>\n",
       "      <td>Italy</td>\n",
       "      <td>Italy</td>\n",
       "      <td>Male</td>\n",
       "      <td>0.5</td>\n",
       "      <td>0.375</td>\n",
       "      <td>0.42375</td>\n",
       "      <td>2021-01-18</td>\n",
       "      <td>0.0</td>\n",
       "      <td>2021-01-18</td>\n",
       "    </tr>\n",
       "    <tr>\n",
       "      <th>14</th>\n",
       "      <td>5c5684ef9d244c0001b29f1e</td>\n",
       "      <td>11.0</td>\n",
       "      <td>United States</td>\n",
       "      <td>United States</td>\n",
       "      <td>Male</td>\n",
       "      <td>3.5</td>\n",
       "      <td>2.625</td>\n",
       "      <td>2.96625</td>\n",
       "      <td>2021-01-18</td>\n",
       "      <td>0.0</td>\n",
       "      <td>2021-01-18</td>\n",
       "    </tr>\n",
       "    <tr>\n",
       "      <th>20</th>\n",
       "      <td>5f77a902fc647a327b77004a</td>\n",
       "      <td>24.0</td>\n",
       "      <td>United Kingdom</td>\n",
       "      <td>United Kingdom</td>\n",
       "      <td>Female</td>\n",
       "      <td>3.0</td>\n",
       "      <td>2.250</td>\n",
       "      <td>2.54250</td>\n",
       "      <td>2021-01-18</td>\n",
       "      <td>0.0</td>\n",
       "      <td>2021-01-18</td>\n",
       "    </tr>\n",
       "    <tr>\n",
       "      <th>...</th>\n",
       "      <td>...</td>\n",
       "      <td>...</td>\n",
       "      <td>...</td>\n",
       "      <td>...</td>\n",
       "      <td>...</td>\n",
       "      <td>...</td>\n",
       "      <td>...</td>\n",
       "      <td>...</td>\n",
       "      <td>...</td>\n",
       "      <td>...</td>\n",
       "      <td>...</td>\n",
       "    </tr>\n",
       "    <tr>\n",
       "      <th>290</th>\n",
       "      <td>5f2cc8cebc4bd01d61151550</td>\n",
       "      <td>365.0</td>\n",
       "      <td>United States</td>\n",
       "      <td>United States</td>\n",
       "      <td>Female</td>\n",
       "      <td>4.0</td>\n",
       "      <td>3.000</td>\n",
       "      <td>3.39000</td>\n",
       "      <td>2021-02-13</td>\n",
       "      <td>180.0</td>\n",
       "      <td>2021-08-12</td>\n",
       "    </tr>\n",
       "    <tr>\n",
       "      <th>324</th>\n",
       "      <td>5dd4767b32288646716dc98a</td>\n",
       "      <td>396.0</td>\n",
       "      <td>United States</td>\n",
       "      <td>United States</td>\n",
       "      <td>Female</td>\n",
       "      <td>4.0</td>\n",
       "      <td>3.000</td>\n",
       "      <td>3.39000</td>\n",
       "      <td>2021-02-13</td>\n",
       "      <td>180.0</td>\n",
       "      <td>2021-08-12</td>\n",
       "    </tr>\n",
       "    <tr>\n",
       "      <th>322</th>\n",
       "      <td>600612a62facd195d940e24d</td>\n",
       "      <td>389.0</td>\n",
       "      <td>United States</td>\n",
       "      <td>United States</td>\n",
       "      <td>Male</td>\n",
       "      <td>4.5</td>\n",
       "      <td>3.375</td>\n",
       "      <td>3.81375</td>\n",
       "      <td>2021-02-13</td>\n",
       "      <td>180.0</td>\n",
       "      <td>2021-08-12</td>\n",
       "    </tr>\n",
       "    <tr>\n",
       "      <th>256</th>\n",
       "      <td>6019f33f17fdc21e027f72aa</td>\n",
       "      <td>328.0</td>\n",
       "      <td>United States</td>\n",
       "      <td>United States</td>\n",
       "      <td>Male</td>\n",
       "      <td>5.0</td>\n",
       "      <td>3.750</td>\n",
       "      <td>4.23750</td>\n",
       "      <td>2021-02-13</td>\n",
       "      <td>180.0</td>\n",
       "      <td>2021-08-12</td>\n",
       "    </tr>\n",
       "    <tr>\n",
       "      <th>338</th>\n",
       "      <td>5e9a4b17666c130defb0ab72</td>\n",
       "      <td>406.0</td>\n",
       "      <td>United States</td>\n",
       "      <td>United States</td>\n",
       "      <td>Female</td>\n",
       "      <td>4.0</td>\n",
       "      <td>3.000</td>\n",
       "      <td>3.39000</td>\n",
       "      <td>2021-02-13</td>\n",
       "      <td>180.0</td>\n",
       "      <td>2021-08-12</td>\n",
       "    </tr>\n",
       "  </tbody>\n",
       "</table>\n",
       "<p>267 rows × 11 columns</p>\n",
       "</div>"
      ],
      "text/plain": [
       "                   prolificID  run_id     Nationality  \\\n",
       "27   5eeaa0ffaa6af11cf32ce057    30.0          Poland   \n",
       "34   5f0cb319d29147695796a208    37.0           Italy   \n",
       "33   5f8472685956c40c720d0936    36.0           Italy   \n",
       "14   5c5684ef9d244c0001b29f1e    11.0   United States   \n",
       "20   5f77a902fc647a327b77004a    24.0  United Kingdom   \n",
       "..                        ...     ...             ...   \n",
       "290  5f2cc8cebc4bd01d61151550   365.0   United States   \n",
       "324  5dd4767b32288646716dc98a   396.0   United States   \n",
       "322  600612a62facd195d940e24d   389.0   United States   \n",
       "256  6019f33f17fdc21e027f72aa   328.0   United States   \n",
       "338  5e9a4b17666c130defb0ab72   406.0   United States   \n",
       "\n",
       "    Current Country of Residence     Sex  bonus_USD  bonus_GBP  bonus_EUR  \\\n",
       "27                        Poland    Male        3.0      2.250    2.54250   \n",
       "34                United Kingdom    Male        3.0      2.250    2.54250   \n",
       "33                         Italy    Male        0.5      0.375    0.42375   \n",
       "14                 United States    Male        3.5      2.625    2.96625   \n",
       "20                United Kingdom  Female        3.0      2.250    2.54250   \n",
       "..                           ...     ...        ...        ...        ...   \n",
       "290                United States  Female        4.0      3.000    3.39000   \n",
       "324                United States  Female        4.0      3.000    3.39000   \n",
       "322                United States    Male        4.5      3.375    3.81375   \n",
       "256                United States    Male        5.0      3.750    4.23750   \n",
       "338                United States  Female        4.0      3.000    3.39000   \n",
       "\n",
       "    completed_date  bonus_delay      due_on  \n",
       "27      2021-01-18          0.0  2021-01-18  \n",
       "34      2021-01-18          0.0  2021-01-18  \n",
       "33      2021-01-18          0.0  2021-01-18  \n",
       "14      2021-01-18          0.0  2021-01-18  \n",
       "20      2021-01-18          0.0  2021-01-18  \n",
       "..             ...          ...         ...  \n",
       "290     2021-02-13        180.0  2021-08-12  \n",
       "324     2021-02-13        180.0  2021-08-12  \n",
       "322     2021-02-13        180.0  2021-08-12  \n",
       "256     2021-02-13        180.0  2021-08-12  \n",
       "338     2021-02-13        180.0  2021-08-12  \n",
       "\n",
       "[267 rows x 11 columns]"
      ]
     },
     "execution_count": 61,
     "metadata": {},
     "output_type": "execute_result"
    }
   ],
   "source": [
    "data_due = data_pay.loc[:, \n",
    "               [\n",
    "                   'prolificID', 'run_id',\n",
    "                   'Nationality', 'Current Country of Residence', 'Sex',  \n",
    "                   'bonus_USD', 'bonus_GBP', 'bonus_EUR', \n",
    "                   'completed_date', 'bonus_delay', 'due_on'\n",
    "               ]\n",
    "              ]. sort_values(by='due_on')\n",
    "data_due\n",
    "# View(data_due)"
   ]
  },
  {
   "cell_type": "markdown",
   "metadata": {},
   "source": [
    "## Bonus left to pay"
   ]
  },
  {
   "cell_type": "code",
   "execution_count": 65,
   "metadata": {},
   "outputs": [
    {
     "data": {
      "text/html": [
       "<div>\n",
       "<style scoped>\n",
       "    .dataframe tbody tr th:only-of-type {\n",
       "        vertical-align: middle;\n",
       "    }\n",
       "\n",
       "    .dataframe tbody tr th {\n",
       "        vertical-align: top;\n",
       "    }\n",
       "\n",
       "    .dataframe thead th {\n",
       "        text-align: right;\n",
       "    }\n",
       "</style>\n",
       "<table border=\"1\" class=\"dataframe\">\n",
       "  <thead>\n",
       "    <tr style=\"text-align: right;\">\n",
       "      <th></th>\n",
       "      <th>prolificID</th>\n",
       "      <th>completed_date</th>\n",
       "      <th>bonus_GBP</th>\n",
       "      <th>due_on</th>\n",
       "    </tr>\n",
       "  </thead>\n",
       "  <tbody>\n",
       "    <tr>\n",
       "      <th>22</th>\n",
       "      <td>5cf0ccf488abf10019fb775d</td>\n",
       "      <td>2021-01-18</td>\n",
       "      <td>3.375</td>\n",
       "      <td>2021-04-18</td>\n",
       "    </tr>\n",
       "    <tr>\n",
       "      <th>30</th>\n",
       "      <td>5ea94df3a879f002f3e9a812</td>\n",
       "      <td>2021-01-18</td>\n",
       "      <td>3.375</td>\n",
       "      <td>2021-04-18</td>\n",
       "    </tr>\n",
       "    <tr>\n",
       "      <th>78</th>\n",
       "      <td>5eb9940830ab6c098bd1943d</td>\n",
       "      <td>2021-01-19</td>\n",
       "      <td>3.375</td>\n",
       "      <td>2021-04-19</td>\n",
       "    </tr>\n",
       "    <tr>\n",
       "      <th>86</th>\n",
       "      <td>600063f2943eab0acc812ed8</td>\n",
       "      <td>2021-01-19</td>\n",
       "      <td>3.375</td>\n",
       "      <td>2021-07-18</td>\n",
       "    </tr>\n",
       "    <tr>\n",
       "      <th>90</th>\n",
       "      <td>5c0e4e3d87e876000151cfec</td>\n",
       "      <td>2021-01-19</td>\n",
       "      <td>3.375</td>\n",
       "      <td>2021-04-19</td>\n",
       "    </tr>\n",
       "    <tr>\n",
       "      <th>...</th>\n",
       "      <td>...</td>\n",
       "      <td>...</td>\n",
       "      <td>...</td>\n",
       "      <td>...</td>\n",
       "    </tr>\n",
       "    <tr>\n",
       "      <th>360</th>\n",
       "      <td>5ec99c80d402d64ce088be18</td>\n",
       "      <td>2021-02-13</td>\n",
       "      <td>3.000</td>\n",
       "      <td>2021-05-14</td>\n",
       "    </tr>\n",
       "    <tr>\n",
       "      <th>361</th>\n",
       "      <td>5fd80a7f7100cd12eb473a9f</td>\n",
       "      <td>2021-02-13</td>\n",
       "      <td>3.000</td>\n",
       "      <td>2021-03-15</td>\n",
       "    </tr>\n",
       "    <tr>\n",
       "      <th>365</th>\n",
       "      <td>5d36600685d1d50001affacb</td>\n",
       "      <td>2021-02-13</td>\n",
       "      <td>3.750</td>\n",
       "      <td>2021-08-12</td>\n",
       "    </tr>\n",
       "    <tr>\n",
       "      <th>367</th>\n",
       "      <td>5f5ec0c28c844c784bf02089</td>\n",
       "      <td>2021-02-13</td>\n",
       "      <td>3.375</td>\n",
       "      <td>2021-05-14</td>\n",
       "    </tr>\n",
       "    <tr>\n",
       "      <th>371</th>\n",
       "      <td>5fbf28bfdb4bdb0bc73d06a2</td>\n",
       "      <td>2021-02-13</td>\n",
       "      <td>3.375</td>\n",
       "      <td>2021-03-15</td>\n",
       "    </tr>\n",
       "  </tbody>\n",
       "</table>\n",
       "<p>69 rows × 4 columns</p>\n",
       "</div>"
      ],
      "text/plain": [
       "                   prolificID completed_date  bonus_GBP      due_on\n",
       "22   5cf0ccf488abf10019fb775d     2021-01-18      3.375  2021-04-18\n",
       "30   5ea94df3a879f002f3e9a812     2021-01-18      3.375  2021-04-18\n",
       "78   5eb9940830ab6c098bd1943d     2021-01-19      3.375  2021-04-19\n",
       "86   600063f2943eab0acc812ed8     2021-01-19      3.375  2021-07-18\n",
       "90   5c0e4e3d87e876000151cfec     2021-01-19      3.375  2021-04-19\n",
       "..                        ...            ...        ...         ...\n",
       "360  5ec99c80d402d64ce088be18     2021-02-13      3.000  2021-05-14\n",
       "361  5fd80a7f7100cd12eb473a9f     2021-02-13      3.000  2021-03-15\n",
       "365  5d36600685d1d50001affacb     2021-02-13      3.750  2021-08-12\n",
       "367  5f5ec0c28c844c784bf02089     2021-02-13      3.375  2021-05-14\n",
       "371  5fbf28bfdb4bdb0bc73d06a2     2021-02-13      3.375  2021-03-15\n",
       "\n",
       "[69 rows x 4 columns]"
      ]
     },
     "execution_count": 65,
     "metadata": {},
     "output_type": "execute_result"
    }
   ],
   "source": [
    "data_pay.loc[\n",
    "    data_pay['due_on']>datetime.datetime.now().date(), \n",
    "    ['prolificID', 'completed_date', 'bonus_GBP', 'due_on']]"
   ]
  },
  {
   "cell_type": "code",
   "execution_count": 67,
   "metadata": {},
   "outputs": [
    {
     "name": "stdout",
     "output_type": "stream",
     "text": [
      "Left bonus (GBP): 289.695\n"
     ]
    }
   ],
   "source": [
    "left_bonus = data_pay.loc[\n",
    "    data_pay['due_on']>datetime.datetime.now().date(), \n",
    "    'bonus_GBP'].sum()\n",
    "\n",
    "print(f'Left bonus (GBP): {left_bonus * 1.2 + (left_bonus*0.2*0.2)}')"
   ]
  },
  {
   "cell_type": "markdown",
   "metadata": {},
   "source": [
    "## Check on specific subjects"
   ]
  },
  {
   "cell_type": "code",
   "execution_count": 68,
   "metadata": {},
   "outputs": [
    {
     "data": {
      "text/html": [
       "<div>\n",
       "<style scoped>\n",
       "    .dataframe tbody tr th:only-of-type {\n",
       "        vertical-align: middle;\n",
       "    }\n",
       "\n",
       "    .dataframe tbody tr th {\n",
       "        vertical-align: top;\n",
       "    }\n",
       "\n",
       "    .dataframe thead th {\n",
       "        text-align: right;\n",
       "    }\n",
       "</style>\n",
       "<table border=\"1\" class=\"dataframe\">\n",
       "  <thead>\n",
       "    <tr style=\"text-align: right;\">\n",
       "      <th></th>\n",
       "      <th>completed_date_time</th>\n",
       "      <th>bonus_USD</th>\n",
       "      <th>bonus_delay</th>\n",
       "      <th>due_on</th>\n",
       "    </tr>\n",
       "  </thead>\n",
       "  <tbody>\n",
       "    <tr>\n",
       "      <th>45</th>\n",
       "      <td>2021-01-19 09:48:30.781000</td>\n",
       "      <td>4.0</td>\n",
       "      <td>30.0</td>\n",
       "      <td>2021-02-18</td>\n",
       "    </tr>\n",
       "  </tbody>\n",
       "</table>\n",
       "</div>"
      ],
      "text/plain": [
       "           completed_date_time  bonus_USD  bonus_delay      due_on\n",
       "45  2021-01-19 09:48:30.781000        4.0         30.0  2021-02-18"
      ]
     },
     "execution_count": 68,
     "metadata": {},
     "output_type": "execute_result"
    }
   ],
   "source": [
    "data_pay.loc[\n",
    "    data_pay['prolificID']==\"5f779405dacc842fc44bc767\", \n",
    "    ['completed_date_time', 'bonus_USD', 'bonus_delay', 'due_on']\n",
    "]"
   ]
  },
  {
   "cell_type": "markdown",
   "metadata": {},
   "source": [
    "# Total costs"
   ]
  },
  {
   "cell_type": "markdown",
   "metadata": {},
   "source": [
    "## Basic payment"
   ]
  },
  {
   "cell_type": "code",
   "execution_count": 22,
   "metadata": {
    "scrolled": true
   },
   "outputs": [
    {
     "data": {
      "text/html": [
       "<div>\n",
       "<style scoped>\n",
       "    .dataframe tbody tr th:only-of-type {\n",
       "        vertical-align: middle;\n",
       "    }\n",
       "\n",
       "    .dataframe tbody tr th {\n",
       "        vertical-align: top;\n",
       "    }\n",
       "\n",
       "    .dataframe thead th {\n",
       "        text-align: right;\n",
       "    }\n",
       "</style>\n",
       "<table border=\"1\" class=\"dataframe\">\n",
       "  <thead>\n",
       "    <tr style=\"text-align: right;\">\n",
       "      <th></th>\n",
       "      <th>basic_GBP</th>\n",
       "      <th>bonus_GBP</th>\n",
       "    </tr>\n",
       "  </thead>\n",
       "  <tbody>\n",
       "    <tr>\n",
       "      <th>0</th>\n",
       "      <td>2.25</td>\n",
       "      <td>3.375</td>\n",
       "    </tr>\n",
       "    <tr>\n",
       "      <th>1</th>\n",
       "      <td>2.25</td>\n",
       "      <td>3.375</td>\n",
       "    </tr>\n",
       "    <tr>\n",
       "      <th>2</th>\n",
       "      <td>2.25</td>\n",
       "      <td>3.375</td>\n",
       "    </tr>\n",
       "    <tr>\n",
       "      <th>3</th>\n",
       "      <td>2.25</td>\n",
       "      <td>3.000</td>\n",
       "    </tr>\n",
       "    <tr>\n",
       "      <th>4</th>\n",
       "      <td>2.25</td>\n",
       "      <td>3.750</td>\n",
       "    </tr>\n",
       "  </tbody>\n",
       "</table>\n",
       "</div>"
      ],
      "text/plain": [
       "   basic_GBP  bonus_GBP\n",
       "0       2.25      3.375\n",
       "1       2.25      3.375\n",
       "2       2.25      3.375\n",
       "3       2.25      3.000\n",
       "4       2.25      3.750"
      ]
     },
     "execution_count": 22,
     "metadata": {},
     "output_type": "execute_result"
    }
   ],
   "source": [
    "data_pay['basic_GBP'] = 2.25\n",
    "data_pay.loc[:, ['basic_GBP', 'bonus_GBP']].head(5)"
   ]
  },
  {
   "cell_type": "markdown",
   "metadata": {},
   "source": [
    "## Total"
   ]
  },
  {
   "cell_type": "code",
   "execution_count": 23,
   "metadata": {},
   "outputs": [
    {
     "name": "stdout",
     "output_type": "stream",
     "text": [
      "N =251\n",
      "\n",
      "                  GBP\n",
      "reward_basic   564.75\n",
      "service_fee    112.95\n",
      "vat             22.59\n",
      "total_basic    790.65\n",
      "total_bonus   1063.65\n",
      "total         1854.30\n",
      "\n",
      "Total in €, incl. transaction fee: 2113.9019999999996\n"
     ]
    }
   ],
   "source": [
    "print('N =' + str(len(data_pay)) + '\\n')\n",
    "\n",
    "reward_basic = data_pay['basic_GBP'].sum()\n",
    "service_fee = reward_basic * 0.2\n",
    "vat = reward_basic * 0.2*0.2\n",
    "total_basic = data_pay['basic_GBP'].sum() * 1.4\n",
    "total_bonus = data_pay['bonus_GBP'].sum() * 1.4\n",
    "total = total_basic + total_bonus\n",
    "\n",
    "overview = pd.DataFrame(\n",
    "    [\n",
    "        [reward_basic], \n",
    "        [service_fee], [vat], \n",
    "        [total_basic], [total_bonus], [total]\n",
    "    ], \n",
    "    columns=['GBP'],\n",
    "    index= ['reward_basic', \n",
    "        'service_fee', 'vat', \n",
    "        'total_basic', 'total_bonus', 'total'])\n",
    "print(str(overview) + '\\n')\n",
    "\n",
    "print('Total in €, incl. transaction fee: ' + str(total * 1.14))"
   ]
  },
  {
   "cell_type": "markdown",
   "metadata": {},
   "source": [
    "## Total already paid \n",
    "Basic + bonus until today. Use that to compare with prolific bills"
   ]
  },
  {
   "cell_type": "code",
   "execution_count": 24,
   "metadata": {},
   "outputs": [
    {
     "name": "stdout",
     "output_type": "stream",
     "text": [
      "                   GBP\n",
      "reward_basic   564.750\n",
      "service_fee    194.175\n",
      "vat             38.835\n",
      "total_basic    790.650\n",
      "total_bonus    568.575\n",
      "total         1359.225\n",
      "\n",
      "Total in €, incl. transaction fee: 1549.5164999999997\n"
     ]
    }
   ],
   "source": [
    "bonus_GBP_already_paid = data_pay.loc[\n",
    "    data_pay['due_on']<=datetime.datetime.now().date(), \n",
    "    'bonus_GBP'].sum()\n",
    "\n",
    "reward_basic = data_pay['basic_GBP'].sum()\n",
    "service_fee = (reward_basic + bonus_GBP_already_paid) * 0.2\n",
    "vat = (reward_basic + bonus_GBP_already_paid) * 0.2*0.2\n",
    "total_basic = data_pay['basic_GBP'].sum() * 1.4\n",
    "total_bonus = bonus_GBP_already_paid * 1.4\n",
    "total = total_basic + total_bonus\n",
    "\n",
    "overview = pd.DataFrame(\n",
    "    [\n",
    "        [reward_basic], \n",
    "        [service_fee], [vat], \n",
    "        [total_basic], [total_bonus], [total]\n",
    "    ], \n",
    "    columns=['GBP'],\n",
    "    index= ['reward_basic', \n",
    "        'service_fee', 'vat', \n",
    "        'total_basic', 'total_bonus', 'total'])\n",
    "print(str(overview) + '\\n')\n",
    "\n",
    "print('Total in €, incl. transaction fee: ' + str(total * 1.14))"
   ]
  },
  {
   "cell_type": "markdown",
   "metadata": {},
   "source": [
    "# Prognosis for the larger sample"
   ]
  },
  {
   "cell_type": "code",
   "execution_count": 25,
   "metadata": {},
   "outputs": [
    {
     "name": "stdout",
     "output_type": "stream",
     "text": [
      "Budget: 1848.88 GBP / 2101.00 EUR / n=280\n",
      "Paid:   1700.50 GBP / 1955.57 EUR / n=257\n",
      "Buffer: 127.98 /  145.43 EUR / n=19\n",
      "\n",
      "Collect 207 more participants.\n"
     ]
    },
    {
     "data": {
      "text/html": [
       "<div>\n",
       "<style scoped>\n",
       "    .dataframe tbody tr th:only-of-type {\n",
       "        vertical-align: middle;\n",
       "    }\n",
       "\n",
       "    .dataframe tbody tr th {\n",
       "        vertical-align: top;\n",
       "    }\n",
       "\n",
       "    .dataframe thead th {\n",
       "        text-align: right;\n",
       "    }\n",
       "</style>\n",
       "<table border=\"1\" class=\"dataframe\">\n",
       "  <thead>\n",
       "    <tr style=\"text-align: right;\">\n",
       "      <th></th>\n",
       "      <th>1</th>\n",
       "      <th>50</th>\n",
       "      <th>257</th>\n",
       "      <th>207</th>\n",
       "    </tr>\n",
       "  </thead>\n",
       "  <tbody>\n",
       "    <tr>\n",
       "      <th>reward_basic</th>\n",
       "      <td>2.25</td>\n",
       "      <td>112.50</td>\n",
       "      <td>578.25</td>\n",
       "      <td>465.75</td>\n",
       "    </tr>\n",
       "    <tr>\n",
       "      <th>reward_bonus</th>\n",
       "      <td>3.03</td>\n",
       "      <td>151.34</td>\n",
       "      <td>777.91</td>\n",
       "      <td>626.57</td>\n",
       "    </tr>\n",
       "    <tr>\n",
       "      <th>total_reward</th>\n",
       "      <td>5.28</td>\n",
       "      <td>263.84</td>\n",
       "      <td>1356.16</td>\n",
       "      <td>1092.32</td>\n",
       "    </tr>\n",
       "    <tr>\n",
       "      <th>service_fee</th>\n",
       "      <td>1.06</td>\n",
       "      <td>52.77</td>\n",
       "      <td>271.23</td>\n",
       "      <td>218.46</td>\n",
       "    </tr>\n",
       "    <tr>\n",
       "      <th>vat</th>\n",
       "      <td>0.21</td>\n",
       "      <td>10.55</td>\n",
       "      <td>54.25</td>\n",
       "      <td>43.69</td>\n",
       "    </tr>\n",
       "    <tr>\n",
       "      <th>total_basic</th>\n",
       "      <td>2.79</td>\n",
       "      <td>139.50</td>\n",
       "      <td>717.03</td>\n",
       "      <td>577.53</td>\n",
       "    </tr>\n",
       "    <tr>\n",
       "      <th>total_bonus</th>\n",
       "      <td>3.75</td>\n",
       "      <td>187.67</td>\n",
       "      <td>964.61</td>\n",
       "      <td>776.94</td>\n",
       "    </tr>\n",
       "    <tr>\n",
       "      <th>total GBP</th>\n",
       "      <td>6.54</td>\n",
       "      <td>327.17</td>\n",
       "      <td>1681.64</td>\n",
       "      <td>1354.47</td>\n",
       "    </tr>\n",
       "    <tr>\n",
       "      <th>total EUR</th>\n",
       "      <td>7.46</td>\n",
       "      <td>372.97</td>\n",
       "      <td>1917.07</td>\n",
       "      <td>1544.10</td>\n",
       "    </tr>\n",
       "  </tbody>\n",
       "</table>\n",
       "</div>"
      ],
      "text/plain": [
       "               1       50       257      207\n",
       "reward_basic  2.25  112.50   578.25   465.75\n",
       "reward_bonus  3.03  151.34   777.91   626.57\n",
       "total_reward  5.28  263.84  1356.16  1092.32\n",
       "service_fee   1.06   52.77   271.23   218.46\n",
       "vat           0.21   10.55    54.25    43.69\n",
       "total_basic   2.79  139.50   717.03   577.53\n",
       "total_bonus   3.75  187.67   964.61   776.94\n",
       "total GBP     6.54  327.17  1681.64  1354.47\n",
       "total EUR     7.46  372.97  1917.07  1544.10"
      ]
     },
     "execution_count": 25,
     "metadata": {},
     "output_type": "execute_result"
    }
   ],
   "source": [
    "def cost_prognosis(n):\n",
    "    reward_basic = n * data_pay['basic_GBP'].mean()\n",
    "    reward_bonus = n * data_pay['bonus_GBP'].mean()\n",
    "        \n",
    "    total_reward = reward_basic + reward_bonus\n",
    "    service_fee  = total_reward * 0.2\n",
    "    vat          = total_reward * 0.2*0.2\n",
    "    total_basic  = reward_basic + reward_basic*0.2 + reward_basic*0.2*0.2\n",
    "    total_bonus  = reward_bonus + reward_bonus*0.2 + reward_bonus*0.2*0.2\n",
    "    total        = total_reward + service_fee + vat\n",
    "\n",
    "    overview = pd.DataFrame(\n",
    "        [\n",
    "            [reward_basic], [reward_bonus], [total_reward],\n",
    "            [service_fee], [vat], \n",
    "            [total_basic], [total_bonus], [total], [total * 1.14]\n",
    "        ], \n",
    "        columns=[n],\n",
    "        index= ['reward_basic', 'reward_bonus', 'total_reward',\n",
    "            'service_fee', 'vat', \n",
    "            'total_basic', 'total_bonus', 'total GBP', 'total EUR'])\n",
    "    overview = round(overview, 2)\n",
    "    return(overview)\n",
    "\n",
    "print('Budget: ' + str(round(2101*0.88, 2)) + ' GBP / ' + \n",
    "      '2101.00 EUR / ' +\n",
    "      'n=' + str(int(np.floor((2101*0.88)/6.6)))\n",
    "     )\n",
    "\n",
    "print('Paid:   1700.50 GBP / ' + \n",
    "      str(round(1700.5*1.15, 2)) + ' EUR / ' + \n",
    "      'n=' + str(int(np.floor(1700.5/6.6))))\n",
    "buffer_EUR = 2101-1955.57\n",
    "buffer_GBP = buffer_EUR * 0.88\n",
    "print('Buffer: ' + str(round(buffer_GBP, 2)) + ' /  ' + \n",
    "      str(round(buffer_EUR, 2)) + ' EUR / n=' + \n",
    "      str(int(np.floor(buffer_GBP/6.6))) + '\\n')\n",
    "print('Collect 207 more participants.')\n",
    "\n",
    "pd.concat([\n",
    "    cost_prognosis(1),\n",
    "    cost_prognosis(50),\n",
    "    cost_prognosis(257), \n",
    "    cost_prognosis(207)\n",
    "], axis=1)"
   ]
  },
  {
   "cell_type": "markdown",
   "metadata": {},
   "source": [
    "# Export modified prolific data"
   ]
  },
  {
   "cell_type": "code",
   "execution_count": 26,
   "metadata": {},
   "outputs": [],
   "source": [
    "data_pay.to_csv('C:/Users/User/GitHub/WebET_Analysis/prolific/data_pay.csv', index=False, header=True)"
   ]
  },
  {
   "cell_type": "markdown",
   "metadata": {},
   "source": [
    "# Feedback"
   ]
  },
  {
   "cell_type": "code",
   "execution_count": 27,
   "metadata": {},
   "outputs": [
    {
     "name": "stdout",
     "output_type": "stream",
     "text": [
      "Success! Script ran through.\n"
     ]
    }
   ],
   "source": [
    "print('Success! Script ran through.')"
   ]
  }
 ],
 "metadata": {
  "kernelspec": {
   "display_name": "Python 3",
   "language": "python",
   "name": "python3"
  },
  "language_info": {
   "codemirror_mode": {
    "name": "ipython",
    "version": 3
   },
   "file_extension": ".py",
   "mimetype": "text/x-python",
   "name": "python",
   "nbconvert_exporter": "python",
   "pygments_lexer": "ipython3",
   "version": "3.8.5"
  },
  "toc": {
   "base_numbering": 1,
   "nav_menu": {},
   "number_sections": true,
   "sideBar": true,
   "skip_h1_title": false,
   "title_cell": "Table of Contents",
   "title_sidebar": "Contents",
   "toc_cell": false,
   "toc_position": {
    "height": "572.8px",
    "left": "287px",
    "top": "202.533px",
    "width": "281.6px"
   },
   "toc_section_display": true,
   "toc_window_display": true
  }
 },
 "nbformat": 4,
 "nbformat_minor": 4
}
