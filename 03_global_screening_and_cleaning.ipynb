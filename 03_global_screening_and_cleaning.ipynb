{
 "cells": [
  {
   "cell_type": "code",
   "execution_count": 1,
   "id": "potential-washer",
   "metadata": {},
   "outputs": [
    {
     "name": "stdout",
     "output_type": "stream",
     "text": [
      "Current Working directory  C:\\Users\\User\\GitHub\\WebET_Analysis\n"
     ]
    }
   ],
   "source": [
    "import datetime\n",
    "import numpy as np\n",
    "import os\n",
    "import pandas as pd\n",
    "import seaborn as sns\n",
    "import matplotlib.pyplot as plt\n",
    "from tqdm import tqdm \n",
    "from uuid import uuid4\n",
    "    \n",
    "from IPython.display import HTML\n",
    "def View(df):\n",
    "    css = \"\"\"<style>\n",
    "    table { border-collapse: collapse; border: 3px solid #eee; }\n",
    "    table tr th:first-child { background-color: #eeeeee; color: #333; font-weight: bold }\n",
    "    table thead th { background-color: #eee; color: #000; }\n",
    "    tr, th, td { border: 1px solid #ccc; border-width: 1px 0 0 1px; border-collapse: collapse;\n",
    "    padding: 3px; font-family: monospace; font-size: 10px }</style>\n",
    "    \"\"\"\n",
    "    s  = '<script type=\"text/Javascript\">'\n",
    "    s += 'var win = window.open(\"\", \"Title\", \"toolbar=no, location=no, directories=no, status=no, menubar=no, scrollbars=yes, resizable=yes, width=780, height=200, top=\"+(screen.height-400)+\", left=\"+(screen.width-840));'\n",
    "    s += 'win.document.body.innerHTML = \\'' + (df.to_html() + css).replace(\"\\n\",'\\\\') + '\\';'\n",
    "    s += '</script>'\n",
    "    return(HTML(s+css))    \n",
    "\n",
    "os.chdir(r'C:\\Users\\User\\GitHub\\WebET_Analysis')\n",
    "print(\"Current Working directory \" , os.getcwd())"
   ]
  },
  {
   "cell_type": "markdown",
   "id": "similar-spice",
   "metadata": {},
   "source": [
    "# Read data"
   ]
  },
  {
   "cell_type": "code",
   "execution_count": 2,
   "id": "wound-cincinnati",
   "metadata": {},
   "outputs": [
    {
     "name": "stdout",
     "output_type": "stream",
     "text": [
      "               length\n",
      "data_et       2700001\n",
      "data_trial     133206\n",
      "data_subject      212\n"
     ]
    }
   ],
   "source": [
    "data_et = pd.read_csv(r'C:/Users/User/GitHub/WebET_Analysis/data_jupyter/data_et.csv')\n",
    "data_trial = pd.read_csv(r'C:/Users/User/GitHub/WebET_Analysis/data_jupyter/data_trial.csv')\n",
    "data_subject = pd.read_csv(r'C:/Users/User/GitHub/WebET_Analysis/data_jupyter/data_subject.csv')\n",
    "\n",
    "print(pd.DataFrame([[len(data_et)], [len(data_trial)], [len(data_subject)]], \n",
    "                   columns=['length'],\n",
    "                   index=['data_et', 'data_trial', 'data_subject'])\n",
    "     )"
   ]
  },
  {
   "cell_type": "markdown",
   "id": "dental-drilling",
   "metadata": {},
   "source": [
    "# Missing eye-tracking values"
   ]
  },
  {
   "cell_type": "code",
   "execution_count": 3,
   "id": "three-advice",
   "metadata": {
    "scrolled": true
   },
   "outputs": [
    {
     "data": {
      "text/html": [
       "<div>\n",
       "<style scoped>\n",
       "    .dataframe tbody tr th:only-of-type {\n",
       "        vertical-align: middle;\n",
       "    }\n",
       "\n",
       "    .dataframe tbody tr th {\n",
       "        vertical-align: top;\n",
       "    }\n",
       "\n",
       "    .dataframe thead th {\n",
       "        text-align: right;\n",
       "    }\n",
       "</style>\n",
       "<table border=\"1\" class=\"dataframe\">\n",
       "  <thead>\n",
       "    <tr style=\"text-align: right;\">\n",
       "      <th></th>\n",
       "      <th>x</th>\n",
       "      <th>y</th>\n",
       "      <th>t</th>\n",
       "      <th>t_task</th>\n",
       "      <th>run_id</th>\n",
       "      <th>trial_index</th>\n",
       "    </tr>\n",
       "  </thead>\n",
       "  <tbody>\n",
       "  </tbody>\n",
       "</table>\n",
       "</div>"
      ],
      "text/plain": [
       "Empty DataFrame\n",
       "Columns: [x, y, t, t_task, run_id, trial_index]\n",
       "Index: []"
      ]
     },
     "execution_count": 3,
     "metadata": {},
     "output_type": "execute_result"
    }
   ],
   "source": [
    "data_et.loc[\n",
    "    pd.isna(data_et['x']) |\n",
    "    pd.isna(data_et['y']), \n",
    "    :\n",
    "]"
   ]
  },
  {
   "cell_type": "code",
   "execution_count": 4,
   "id": "preceding-canadian",
   "metadata": {},
   "outputs": [],
   "source": [
    "data_et = data_et.loc[\n",
    "    pd.notna(data_et['x']) |\n",
    "    pd.notna(data_et['y']), \n",
    "    :\n",
    "]"
   ]
  },
  {
   "cell_type": "markdown",
   "id": "honest-security",
   "metadata": {},
   "source": [
    "# Cleaning: Filter approved subject (approved by prolific)"
   ]
  },
  {
   "cell_type": "markdown",
   "id": "concrete-bleeding",
   "metadata": {},
   "source": [
    "Unapproved trials are either not from Prolific, or returned"
   ]
  },
  {
   "cell_type": "code",
   "execution_count": 5,
   "id": "ruled-morris",
   "metadata": {
    "scrolled": true
   },
   "outputs": [
    {
     "name": "stdout",
     "output_type": "stream",
     "text": [
      "N Subjects that are not approved: 0 = 0.0%\n"
     ]
    },
    {
     "data": {
      "text/html": [
       "<div>\n",
       "<style scoped>\n",
       "    .dataframe tbody tr th:only-of-type {\n",
       "        vertical-align: middle;\n",
       "    }\n",
       "\n",
       "    .dataframe tbody tr th {\n",
       "        vertical-align: top;\n",
       "    }\n",
       "\n",
       "    .dataframe thead th {\n",
       "        text-align: right;\n",
       "    }\n",
       "</style>\n",
       "<table border=\"1\" class=\"dataframe\">\n",
       "  <thead>\n",
       "    <tr style=\"text-align: right;\">\n",
       "      <th></th>\n",
       "      <th>run_id</th>\n",
       "      <th>prolificID</th>\n",
       "      <th>max_trial</th>\n",
       "      <th>recorded_date</th>\n",
       "      <th>status</th>\n",
       "    </tr>\n",
       "  </thead>\n",
       "  <tbody>\n",
       "  </tbody>\n",
       "</table>\n",
       "</div>"
      ],
      "text/plain": [
       "Empty DataFrame\n",
       "Columns: [run_id, prolificID, max_trial, recorded_date, status]\n",
       "Index: []"
      ]
     },
     "execution_count": 5,
     "metadata": {},
     "output_type": "execute_result"
    }
   ],
   "source": [
    "subjects_notApproved = data_subject.loc[\n",
    "    ~data_subject['status'].isin(['APPROVED']),\n",
    "    'prolificID'\n",
    "].unique()\n",
    "\n",
    "data_not_approved = data_subject.loc[\n",
    "    data_subject['prolificID'].isin(subjects_notApproved),\n",
    "    ['run_id', 'prolificID', 'max_trial', 'recorded_date', 'status']\n",
    "]\n",
    "\n",
    "data_subject = data_subject.loc[\n",
    "    ~data_subject['run_id'].isin(subjects_notApproved),\n",
    "    :\n",
    "]\n",
    "\n",
    "print(\n",
    "    f\"\"\"N Subjects that are not approved: {len(subjects_notApproved)} \"\"\"\n",
    "    f\"\"\"= {round(100 * len(subjects_notApproved) / len(data_subject['run_id'].unique()), 2)}%\"\"\"\n",
    ")\n",
    "\n",
    "data_not_approved.head(5)"
   ]
  },
  {
   "cell_type": "code",
   "execution_count": 6,
   "id": "dangerous-yahoo",
   "metadata": {},
   "outputs": [
    {
     "data": {
      "text/plain": [
       "252"
      ]
     },
     "execution_count": 6,
     "metadata": {},
     "output_type": "execute_result"
    }
   ],
   "source": [
    "data_et = data_et.loc[\n",
    "    ~data_et['run_id'].isin(data_not_approved['run_id']), \n",
    "    :\n",
    "]\n",
    "len(data_et['run_id'].unique())"
   ]
  },
  {
   "cell_type": "markdown",
   "id": "received-maldives",
   "metadata": {},
   "source": [
    "# Dropouts (on run level)"
   ]
  },
  {
   "cell_type": "markdown",
   "id": "curious-static",
   "metadata": {},
   "source": [
    "Most subjects drop out before the eye-tracking tasks begins"
   ]
  },
  {
   "cell_type": "markdown",
   "id": "twelve-houston",
   "metadata": {},
   "source": [
    "## By task nr"
   ]
  },
  {
   "cell_type": "code",
   "execution_count": 7,
   "id": "refined-terminology",
   "metadata": {},
   "outputs": [
    {
     "data": {
      "text/html": [
       "<div>\n",
       "<style scoped>\n",
       "    .dataframe tbody tr th:only-of-type {\n",
       "        vertical-align: middle;\n",
       "    }\n",
       "\n",
       "    .dataframe tbody tr th {\n",
       "        vertical-align: top;\n",
       "    }\n",
       "\n",
       "    .dataframe thead th {\n",
       "        text-align: right;\n",
       "    }\n",
       "</style>\n",
       "<table border=\"1\" class=\"dataframe\">\n",
       "  <thead>\n",
       "    <tr style=\"text-align: right;\">\n",
       "      <th></th>\n",
       "      <th>task_nr_new</th>\n",
       "      <th>n_run_id</th>\n",
       "    </tr>\n",
       "  </thead>\n",
       "  <tbody>\n",
       "    <tr>\n",
       "      <th>1</th>\n",
       "      <td>1</td>\n",
       "      <td>1</td>\n",
       "    </tr>\n",
       "    <tr>\n",
       "      <th>2</th>\n",
       "      <td>2</td>\n",
       "      <td>5</td>\n",
       "    </tr>\n",
       "    <tr>\n",
       "      <th>0</th>\n",
       "      <td>0</td>\n",
       "      <td>65</td>\n",
       "    </tr>\n",
       "    <tr>\n",
       "      <th>3</th>\n",
       "      <td>3</td>\n",
       "      <td>245</td>\n",
       "    </tr>\n",
       "  </tbody>\n",
       "</table>\n",
       "</div>"
      ],
      "text/plain": [
       "   task_nr_new  n_run_id\n",
       "1            1         1\n",
       "2            2         5\n",
       "0            0        65\n",
       "3            3       245"
      ]
     },
     "execution_count": 7,
     "metadata": {},
     "output_type": "execute_result"
    }
   ],
   "source": [
    "def dropout_task_nr(data):\n",
    "    grouped_trial_type_new = data \\\n",
    "        .loc[: , ['run_id', 'trial_index', 'task_nr_new']] \\\n",
    "        .drop_duplicates()\n",
    "\n",
    "    last_trial_for_each_subject = data \\\n",
    "        .groupby(['run_id'])['trial_index'].max() \\\n",
    "        .reset_index() \\\n",
    "        .merge(grouped_trial_type_new, on=['run_id', 'trial_index'], how='left') \\\n",
    "        .loc[:, ['run_id', 'task_nr_new']]\n",
    "        \n",
    "    dropout_by_type = last_trial_for_each_subject \\\n",
    "        .groupby(['task_nr_new'])['run_id'].count() \\\n",
    "        .reset_index() \\\n",
    "        .rename(columns={'run_id': 'n_run_id'}) \\\n",
    "        .sort_values(by='n_run_id')\n",
    "    \n",
    "    return dropout_by_type\n",
    "\n",
    "dropout_task_nr(data_trial)"
   ]
  },
  {
   "cell_type": "markdown",
   "id": "intended-agenda",
   "metadata": {},
   "source": [
    "## By trial type\n",
    "Most runs drop out at the beginning (8.8% chinFirst +7.2% no chinFirst), in detail, during the initialization of Webgazer (4.4%+3.2%), during the calibration instruction (0.6%+2.5%) and the calibration itself (1.2+0.3%). Moreover, some dropouts during the tasks (0.6+1.8%)."
   ]
  },
  {
   "cell_type": "code",
   "execution_count": 8,
   "id": "religious-reception",
   "metadata": {},
   "outputs": [
    {
     "name": "stdout",
     "output_type": "stream",
     "text": [
      "N Runs with dropout: n=73 = 23.1%\n"
     ]
    }
   ],
   "source": [
    "grouped_last_trial = data_trial.groupby(['run_id'])['trial_index'].max() \\\n",
    "    .reset_index() \\\n",
    "    .merge(\n",
    "        data_trial.loc[:, ['run_id', 'trial_index', 'prolificID', 'trial_type_nr', 'trial_type_new']], \n",
    "        on=['run_id', 'trial_index'], \n",
    "        how='left'\n",
    "    )\n",
    "\n",
    "grouped_last_trial_dropout = grouped_last_trial.loc[\n",
    "    grouped_last_trial['trial_type_new']!='end', \n",
    "    :\n",
    "]\n",
    "\n",
    "runs_dropout = grouped_last_trial_dropout['run_id']\n",
    "\n",
    "print(\n",
    "    f\"\"\"N Runs with dropout: n={len(runs_dropout)}\"\"\"\n",
    "    f\"\"\" = {round(100 * len(runs_dropout) / len(data_trial['run_id'].unique()), 2)}%\"\"\")"
   ]
  },
  {
   "cell_type": "code",
   "execution_count": 9,
   "id": "organizational-syndrome",
   "metadata": {},
   "outputs": [
    {
     "data": {
      "image/png": "[encoded data removed]",
      "text/plain": [
       "<Figure size 432x288 with 1 Axes>"
      ]
     },
     "metadata": {
      "needs_background": "light"
     },
     "output_type": "display_data"
    }
   ],
   "source": [
    "data = grouped_last_trial_dropout \\\n",
    "    .groupby(['trial_type_nr', 'trial_type_new'], as_index=False)['run_id'].count() \\\n",
    "    .rename(columns={'run_id': 'n'})\n",
    "\n",
    "fig, ax = plt.subplots()\n",
    "ax.bar(data['trial_type_new'], data['n'])\n",
    "\n",
    "for ax in fig.axes:\n",
    "    ax.tick_params(labelrotation=90)"
   ]
  },
  {
   "cell_type": "markdown",
   "id": "controlled-producer",
   "metadata": {},
   "source": [
    "## By upcoming trial\n",
    "Most runs drop out at the beginning (8.8% chinFirst +7.2% no chinFirst), in detail, during the initialization of Webgazer (4.4%+3.2%), during the calibration instruction (0.6%+2.5%) and the calibration itself (1.2+0.3%). Moreover, some dropouts during the tasks (0.6+1.8%)."
   ]
  },
  {
   "cell_type": "code",
   "execution_count": 10,
   "id": "hungarian-jason",
   "metadata": {},
   "outputs": [
    {
     "data": {
      "text/html": [
       "<div>\n",
       "<style scoped>\n",
       "    .dataframe tbody tr th:only-of-type {\n",
       "        vertical-align: middle;\n",
       "    }\n",
       "\n",
       "    .dataframe tbody tr th {\n",
       "        vertical-align: top;\n",
       "    }\n",
       "\n",
       "    .dataframe thead th {\n",
       "        text-align: right;\n",
       "    }\n",
       "</style>\n",
       "<table border=\"1\" class=\"dataframe\">\n",
       "  <thead>\n",
       "    <tr style=\"text-align: right;\">\n",
       "      <th></th>\n",
       "      <th>run_id</th>\n",
       "      <th>trial_index</th>\n",
       "      <th>chinFirst</th>\n",
       "      <th>trial_type_new</th>\n",
       "      <th>next_trial_type</th>\n",
       "      <th>next_trial_type_new</th>\n",
       "    </tr>\n",
       "  </thead>\n",
       "  <tbody>\n",
       "    <tr>\n",
       "      <th>0</th>\n",
       "      <td>1</td>\n",
       "      <td>518</td>\n",
       "      <td>1</td>\n",
       "      <td>end</td>\n",
       "      <td>end</td>\n",
       "      <td>end</td>\n",
       "    </tr>\n",
       "    <tr>\n",
       "      <th>1</th>\n",
       "      <td>3</td>\n",
       "      <td>0</td>\n",
       "      <td>1</td>\n",
       "      <td>start_page</td>\n",
       "      <td>html-button-response</td>\n",
       "      <td>start_page</td>\n",
       "    </tr>\n",
       "    <tr>\n",
       "      <th>2</th>\n",
       "      <td>4</td>\n",
       "      <td>519</td>\n",
       "      <td>0</td>\n",
       "      <td>end</td>\n",
       "      <td>end</td>\n",
       "      <td>end</td>\n",
       "    </tr>\n",
       "    <tr>\n",
       "      <th>3</th>\n",
       "      <td>5</td>\n",
       "      <td>519</td>\n",
       "      <td>1</td>\n",
       "      <td>end</td>\n",
       "      <td>end</td>\n",
       "      <td>end</td>\n",
       "    </tr>\n",
       "    <tr>\n",
       "      <th>4</th>\n",
       "      <td>6</td>\n",
       "      <td>519</td>\n",
       "      <td>0</td>\n",
       "      <td>end</td>\n",
       "      <td>end</td>\n",
       "      <td>end</td>\n",
       "    </tr>\n",
       "    <tr>\n",
       "      <th>...</th>\n",
       "      <td>...</td>\n",
       "      <td>...</td>\n",
       "      <td>...</td>\n",
       "      <td>...</td>\n",
       "      <td>...</td>\n",
       "      <td>...</td>\n",
       "    </tr>\n",
       "    <tr>\n",
       "      <th>311</th>\n",
       "      <td>457</td>\n",
       "      <td>4</td>\n",
       "      <td>1</td>\n",
       "      <td>pre_et_init</td>\n",
       "      <td>eyetracking-init</td>\n",
       "      <td>et_init</td>\n",
       "    </tr>\n",
       "    <tr>\n",
       "      <th>312</th>\n",
       "      <td>458</td>\n",
       "      <td>536</td>\n",
       "      <td>0</td>\n",
       "      <td>end</td>\n",
       "      <td>end</td>\n",
       "      <td>end</td>\n",
       "    </tr>\n",
       "    <tr>\n",
       "      <th>313</th>\n",
       "      <td>459</td>\n",
       "      <td>4</td>\n",
       "      <td>0</td>\n",
       "      <td>pre_et_init</td>\n",
       "      <td>eyetracking-init</td>\n",
       "      <td>et_init</td>\n",
       "    </tr>\n",
       "    <tr>\n",
       "      <th>314</th>\n",
       "      <td>460</td>\n",
       "      <td>4</td>\n",
       "      <td>1</td>\n",
       "      <td>pre_et_init</td>\n",
       "      <td>eyetracking-init</td>\n",
       "      <td>et_init</td>\n",
       "    </tr>\n",
       "    <tr>\n",
       "      <th>315</th>\n",
       "      <td>462</td>\n",
       "      <td>537</td>\n",
       "      <td>1</td>\n",
       "      <td>end</td>\n",
       "      <td>end</td>\n",
       "      <td>end</td>\n",
       "    </tr>\n",
       "  </tbody>\n",
       "</table>\n",
       "<p>316 rows × 6 columns</p>\n",
       "</div>"
      ],
      "text/plain": [
       "     run_id  trial_index  chinFirst trial_type_new       next_trial_type  \\\n",
       "0         1          518          1            end                   end   \n",
       "1         3            0          1     start_page  html-button-response   \n",
       "2         4          519          0            end                   end   \n",
       "3         5          519          1            end                   end   \n",
       "4         6          519          0            end                   end   \n",
       "..      ...          ...        ...            ...                   ...   \n",
       "311     457            4          1    pre_et_init      eyetracking-init   \n",
       "312     458          536          0            end                   end   \n",
       "313     459            4          0    pre_et_init      eyetracking-init   \n",
       "314     460            4          1    pre_et_init      eyetracking-init   \n",
       "315     462          537          1            end                   end   \n",
       "\n",
       "    next_trial_type_new  \n",
       "0                   end  \n",
       "1            start_page  \n",
       "2                   end  \n",
       "3                   end  \n",
       "4                   end  \n",
       "..                  ...  \n",
       "311             et_init  \n",
       "312                 end  \n",
       "313             et_init  \n",
       "314             et_init  \n",
       "315                 end  \n",
       "\n",
       "[316 rows x 6 columns]"
      ]
     },
     "execution_count": 10,
     "metadata": {},
     "output_type": "execute_result"
    }
   ],
   "source": [
    "def add_next_trial(data):\n",
    "    full_trials_no_chin = data_trial.loc[\n",
    "        data_trial['run_id']==421, \n",
    "        ['trial_index', 'trial_type', 'trial_type_new']\n",
    "    ].reset_index(drop=True)\n",
    "\n",
    "    next_trials_no_chin = full_trials_no_chin\n",
    "    next_trials_no_chin['trial_index'] -= 1\n",
    "\n",
    "    full_trials_chin = data_trial.loc[\n",
    "        data_trial['run_id']==270, \n",
    "        ['trial_index', 'trial_type', 'trial_type_new']\n",
    "    ].reset_index(drop=True)\n",
    "\n",
    "    next_trials_chin = full_trials_chin\n",
    "    next_trials_chin['trial_index'] -= 1\n",
    "    \n",
    "    data = data.copy()\n",
    "    data['next_trial_type']=0\n",
    "    data['next_trial_type_new']=0\n",
    "\n",
    "    for i in data.index:\n",
    "        this_trial = data.loc[i, 'trial_index']\n",
    "\n",
    "        if data.loc[i, 'trial_type_new'] != 'end':\n",
    "            next_trials = next_trials_chin if data.loc[i, 'chinFirst']>0 else next_trials_no_chin\n",
    "            \n",
    "            next_trial = next_trials.loc[\n",
    "                next_trials['trial_index']==this_trial,\n",
    "                'trial_type'\n",
    "            ].values[0]\n",
    "            data.loc[i, 'next_trial_type']=next_trial\n",
    "\n",
    "            next_trial = next_trials.loc[\n",
    "                next_trials['trial_index']==this_trial,\n",
    "                'trial_type_new'\n",
    "            ].values[0]\n",
    "            data.loc[i, 'next_trial_type_new']=next_trial\n",
    "            \n",
    "        else:\n",
    "            data.loc[i, 'next_trial_type']='end'\n",
    "            data.loc[i, 'next_trial_type_new']='end'\n",
    "            \n",
    "    return data\n",
    "\n",
    "grouped_trial_type_new = data_trial \\\n",
    "        .loc[: , ['run_id', 'chinFirst', 'trial_index', 'trial_type_new']] \\\n",
    "        .drop_duplicates()\n",
    "\n",
    "last_trial_for_each_run = data_trial \\\n",
    "    .groupby(['run_id'])['trial_index'].max() \\\n",
    "    .reset_index() \\\n",
    "    .merge(grouped_trial_type_new, on=['run_id', 'trial_index'], how='left')\n",
    "\n",
    "last_trial_for_each_run = add_next_trial(last_trial_for_each_run)\n",
    "last_trial_for_each_run"
   ]
  },
  {
   "cell_type": "code",
   "execution_count": 11,
   "id": "norwegian-replica",
   "metadata": {},
   "outputs": [
    {
     "data": {
      "text/html": [
       "<div>\n",
       "<style scoped>\n",
       "    .dataframe tbody tr th:only-of-type {\n",
       "        vertical-align: middle;\n",
       "    }\n",
       "\n",
       "    .dataframe tbody tr th {\n",
       "        vertical-align: top;\n",
       "    }\n",
       "\n",
       "    .dataframe thead th {\n",
       "        text-align: right;\n",
       "    }\n",
       "</style>\n",
       "<table border=\"1\" class=\"dataframe\">\n",
       "  <thead>\n",
       "    <tr style=\"text-align: right;\">\n",
       "      <th></th>\n",
       "      <th>trial_type_new</th>\n",
       "      <th>next_trial_type_new</th>\n",
       "      <th>next_trial_type</th>\n",
       "      <th>n_run_id</th>\n",
       "      <th>perc</th>\n",
       "    </tr>\n",
       "  </thead>\n",
       "  <tbody>\n",
       "    <tr>\n",
       "      <th>4</th>\n",
       "      <td>calibration_2</td>\n",
       "      <td>calibration_2</td>\n",
       "      <td>html-keyboard-response</td>\n",
       "      <td>1</td>\n",
       "      <td>0.3</td>\n",
       "    </tr>\n",
       "    <tr>\n",
       "      <th>9</th>\n",
       "      <td>et_adjustment</td>\n",
       "      <td>et_adjustment</td>\n",
       "      <td>html-keyboard-response</td>\n",
       "      <td>1</td>\n",
       "      <td>0.3</td>\n",
       "    </tr>\n",
       "    <tr>\n",
       "      <th>10</th>\n",
       "      <td>fixation_2</td>\n",
       "      <td>fixation_2</td>\n",
       "      <td>html-keyboard-response</td>\n",
       "      <td>1</td>\n",
       "      <td>0.3</td>\n",
       "    </tr>\n",
       "    <tr>\n",
       "      <th>0</th>\n",
       "      <td>calibration_1</td>\n",
       "      <td>calibration_1</td>\n",
       "      <td>eyetracking-calibration</td>\n",
       "      <td>2</td>\n",
       "      <td>0.6</td>\n",
       "    </tr>\n",
       "    <tr>\n",
       "      <th>3</th>\n",
       "      <td>calibration_2</td>\n",
       "      <td>calibration_2</td>\n",
       "      <td>eyetracking-calibration</td>\n",
       "      <td>2</td>\n",
       "      <td>0.6</td>\n",
       "    </tr>\n",
       "    <tr>\n",
       "      <th>5</th>\n",
       "      <td>choice</td>\n",
       "      <td>choice</td>\n",
       "      <td>eyetracking-fix-object</td>\n",
       "      <td>2</td>\n",
       "      <td>0.6</td>\n",
       "    </tr>\n",
       "    <tr>\n",
       "      <th>6</th>\n",
       "      <td>choice</td>\n",
       "      <td>choice</td>\n",
       "      <td>html-keyboard-response</td>\n",
       "      <td>2</td>\n",
       "      <td>0.6</td>\n",
       "    </tr>\n",
       "    <tr>\n",
       "      <th>8</th>\n",
       "      <td>et_adjustment</td>\n",
       "      <td>et_adjustment</td>\n",
       "      <td>html-button-response</td>\n",
       "      <td>3</td>\n",
       "      <td>0.9</td>\n",
       "    </tr>\n",
       "    <tr>\n",
       "      <th>1</th>\n",
       "      <td>calibration_1</td>\n",
       "      <td>calibration_1</td>\n",
       "      <td>html-keyboard-response</td>\n",
       "      <td>5</td>\n",
       "      <td>1.6</td>\n",
       "    </tr>\n",
       "    <tr>\n",
       "      <th>12</th>\n",
       "      <td>prolific_id</td>\n",
       "      <td>pre_et_init</td>\n",
       "      <td>html-button-response</td>\n",
       "      <td>6</td>\n",
       "      <td>1.9</td>\n",
       "    </tr>\n",
       "    <tr>\n",
       "      <th>2</th>\n",
       "      <td>calibration_1_briefing</td>\n",
       "      <td>calibration_1_briefing</td>\n",
       "      <td>html-keyboard-response</td>\n",
       "      <td>10</td>\n",
       "      <td>3.2</td>\n",
       "    </tr>\n",
       "    <tr>\n",
       "      <th>13</th>\n",
       "      <td>start_page</td>\n",
       "      <td>start_page</td>\n",
       "      <td>html-button-response</td>\n",
       "      <td>14</td>\n",
       "      <td>4.4</td>\n",
       "    </tr>\n",
       "    <tr>\n",
       "      <th>11</th>\n",
       "      <td>pre_et_init</td>\n",
       "      <td>et_init</td>\n",
       "      <td>eyetracking-init</td>\n",
       "      <td>24</td>\n",
       "      <td>7.6</td>\n",
       "    </tr>\n",
       "    <tr>\n",
       "      <th>7</th>\n",
       "      <td>end</td>\n",
       "      <td>end</td>\n",
       "      <td>end</td>\n",
       "      <td>243</td>\n",
       "      <td>76.9</td>\n",
       "    </tr>\n",
       "  </tbody>\n",
       "</table>\n",
       "</div>"
      ],
      "text/plain": [
       "            trial_type_new     next_trial_type_new          next_trial_type  \\\n",
       "4            calibration_2           calibration_2   html-keyboard-response   \n",
       "9            et_adjustment           et_adjustment   html-keyboard-response   \n",
       "10              fixation_2              fixation_2   html-keyboard-response   \n",
       "0            calibration_1           calibration_1  eyetracking-calibration   \n",
       "3            calibration_2           calibration_2  eyetracking-calibration   \n",
       "5                   choice                  choice   eyetracking-fix-object   \n",
       "6                   choice                  choice   html-keyboard-response   \n",
       "8            et_adjustment           et_adjustment     html-button-response   \n",
       "1            calibration_1           calibration_1   html-keyboard-response   \n",
       "12             prolific_id             pre_et_init     html-button-response   \n",
       "2   calibration_1_briefing  calibration_1_briefing   html-keyboard-response   \n",
       "13              start_page              start_page     html-button-response   \n",
       "11             pre_et_init                 et_init         eyetracking-init   \n",
       "7                      end                     end                      end   \n",
       "\n",
       "    n_run_id  perc  \n",
       "4          1   0.3  \n",
       "9          1   0.3  \n",
       "10         1   0.3  \n",
       "0          2   0.6  \n",
       "3          2   0.6  \n",
       "5          2   0.6  \n",
       "6          2   0.6  \n",
       "8          3   0.9  \n",
       "1          5   1.6  \n",
       "12         6   1.9  \n",
       "2         10   3.2  \n",
       "13        14   4.4  \n",
       "11        24   7.6  \n",
       "7        243  76.9  "
      ]
     },
     "execution_count": 11,
     "metadata": {},
     "output_type": "execute_result"
    }
   ],
   "source": [
    "dropout_by_type = last_trial_for_each_run \\\n",
    "    .groupby(['trial_type_new', 'next_trial_type_new', 'next_trial_type']).count() \\\n",
    "    .reset_index() \\\n",
    "    .rename(columns={'run_id': 'n_run_id'}) \\\n",
    "    .loc[\n",
    "        :, \n",
    "        [\n",
    "           'trial_type_new', 'next_trial_type_new', 'next_trial_type', 'n_run_id', \n",
    "        ]\n",
    "    ] \\\n",
    "    .sort_values(by='n_run_id')\n",
    "\n",
    "dropout_by_type['perc'] = round(\n",
    "    100 * dropout_by_type['n_run_id'] / len(data_trial['run_id'].unique()), \n",
    "    1\n",
    ")\n",
    "\n",
    "dropout_by_type"
   ]
  },
  {
   "cell_type": "code",
   "execution_count": 12,
   "id": "static-press",
   "metadata": {},
   "outputs": [
    {
     "data": {
      "text/html": [
       "<div>\n",
       "<style scoped>\n",
       "    .dataframe tbody tr th:only-of-type {\n",
       "        vertical-align: middle;\n",
       "    }\n",
       "\n",
       "    .dataframe tbody tr th {\n",
       "        vertical-align: top;\n",
       "    }\n",
       "\n",
       "    .dataframe thead th {\n",
       "        text-align: right;\n",
       "    }\n",
       "</style>\n",
       "<table border=\"1\" class=\"dataframe\">\n",
       "  <thead>\n",
       "    <tr style=\"text-align: right;\">\n",
       "      <th></th>\n",
       "      <th>type</th>\n",
       "      <th>sum</th>\n",
       "      <th>perc</th>\n",
       "    </tr>\n",
       "  </thead>\n",
       "  <tbody>\n",
       "    <tr>\n",
       "      <th>0</th>\n",
       "      <td>beginning</td>\n",
       "      <td>51</td>\n",
       "      <td>16.1</td>\n",
       "    </tr>\n",
       "    <tr>\n",
       "      <th>1</th>\n",
       "      <td>et_tasks</td>\n",
       "      <td>8</td>\n",
       "      <td>2.4</td>\n",
       "    </tr>\n",
       "    <tr>\n",
       "      <th>2</th>\n",
       "      <td>total</td>\n",
       "      <td>316</td>\n",
       "      <td>99.8</td>\n",
       "    </tr>\n",
       "  </tbody>\n",
       "</table>\n",
       "</div>"
      ],
      "text/plain": [
       "        type  sum  perc\n",
       "0  beginning   51  16.1\n",
       "1   et_tasks    8   2.4\n",
       "2      total  316  99.8"
      ]
     },
     "execution_count": 12,
     "metadata": {},
     "output_type": "execute_result"
    }
   ],
   "source": [
    "summary = pd.DataFrame([\n",
    "    [\n",
    "        'beginning',\n",
    "        sum(\n",
    "            dropout_by_type.loc[\n",
    "            dropout_by_type['next_trial_type_new'].isin([\n",
    "                'pre_et_init',\n",
    "                'et_init', \n",
    "                'et_adjustment',\n",
    "                'calibration_1_briefing',\n",
    "                'calibration_1',\n",
    "            ]),\n",
    "        'n_run_id']),\n",
    "        sum(dropout_by_type.loc[\n",
    "            dropout_by_type['next_trial_type_new'].isin([\n",
    "                'pre_et_init',\n",
    "                'et_init', \n",
    "                'et_adjustment',\n",
    "                'calibration_1_briefing',\n",
    "                'calibration_1',\n",
    "            ]),\n",
    "            'perc'])\n",
    "    ], \n",
    "            [\n",
    "        'et_tasks', \n",
    "        sum(dropout_by_type.loc[\n",
    "            dropout_by_type['next_trial_type_new'].isin([\n",
    "                'fixation_1',\n",
    "                'fixation_2',\n",
    "                'calibration_2',\n",
    "                'choice',\n",
    "            ]),\n",
    "            'n_run_id']),\n",
    "        sum(dropout_by_type.loc[\n",
    "            dropout_by_type['next_trial_type_new'].isin([\n",
    "                'fixation_1',\n",
    "                'fixation_2',\n",
    "                'calibration_2',\n",
    "                'choice',\n",
    "            ]),\n",
    "            'perc'])\n",
    "    ],\n",
    "    [\n",
    "        'total',\n",
    "        sum(dropout_by_type['n_run_id']),\n",
    "        sum(dropout_by_type['perc'])\n",
    "    ]\n",
    "], columns=['type', 'sum', 'perc'])\n",
    "summary"
   ]
  },
  {
   "cell_type": "markdown",
   "id": "elder-english",
   "metadata": {},
   "source": [
    "## Anything unusual at the beginning of the calibration? "
   ]
  },
  {
   "cell_type": "markdown",
   "id": "whole-classic",
   "metadata": {},
   "source": [
    "The last trial during calibration varies. There no one 'first calibration' or similar, when the subjects drop out "
   ]
  },
  {
   "cell_type": "code",
   "execution_count": 13,
   "id": "surgical-wonder",
   "metadata": {},
   "outputs": [
    {
     "data": {
      "text/html": [
       "<div>\n",
       "<style scoped>\n",
       "    .dataframe tbody tr th:only-of-type {\n",
       "        vertical-align: middle;\n",
       "    }\n",
       "\n",
       "    .dataframe tbody tr th {\n",
       "        vertical-align: top;\n",
       "    }\n",
       "\n",
       "    .dataframe thead th {\n",
       "        text-align: right;\n",
       "    }\n",
       "</style>\n",
       "<table border=\"1\" class=\"dataframe\">\n",
       "  <thead>\n",
       "    <tr style=\"text-align: right;\">\n",
       "      <th></th>\n",
       "      <th>run_id</th>\n",
       "      <th>trial_index</th>\n",
       "      <th>chinFirst</th>\n",
       "      <th>trial_type_new</th>\n",
       "      <th>next_trial_type_new</th>\n",
       "      <th>next_trial_type</th>\n",
       "    </tr>\n",
       "  </thead>\n",
       "  <tbody>\n",
       "    <tr>\n",
       "      <th>68</th>\n",
       "      <td>141</td>\n",
       "      <td>19</td>\n",
       "      <td>0</td>\n",
       "      <td>calibration_1</td>\n",
       "      <td>calibration_1</td>\n",
       "      <td>eyetracking-calibration</td>\n",
       "    </tr>\n",
       "    <tr>\n",
       "      <th>127</th>\n",
       "      <td>221</td>\n",
       "      <td>19</td>\n",
       "      <td>1</td>\n",
       "      <td>calibration_1</td>\n",
       "      <td>calibration_1</td>\n",
       "      <td>eyetracking-calibration</td>\n",
       "    </tr>\n",
       "    <tr>\n",
       "      <th>135</th>\n",
       "      <td>229</td>\n",
       "      <td>90</td>\n",
       "      <td>0</td>\n",
       "      <td>calibration_1</td>\n",
       "      <td>calibration_1</td>\n",
       "      <td>html-keyboard-response</td>\n",
       "    </tr>\n",
       "    <tr>\n",
       "      <th>191</th>\n",
       "      <td>300</td>\n",
       "      <td>28</td>\n",
       "      <td>0</td>\n",
       "      <td>calibration_1</td>\n",
       "      <td>calibration_1</td>\n",
       "      <td>html-keyboard-response</td>\n",
       "    </tr>\n",
       "    <tr>\n",
       "      <th>212</th>\n",
       "      <td>332</td>\n",
       "      <td>26</td>\n",
       "      <td>0</td>\n",
       "      <td>calibration_1</td>\n",
       "      <td>calibration_1</td>\n",
       "      <td>html-keyboard-response</td>\n",
       "    </tr>\n",
       "    <tr>\n",
       "      <th>245</th>\n",
       "      <td>374</td>\n",
       "      <td>18</td>\n",
       "      <td>0</td>\n",
       "      <td>calibration_1</td>\n",
       "      <td>calibration_1</td>\n",
       "      <td>html-keyboard-response</td>\n",
       "    </tr>\n",
       "    <tr>\n",
       "      <th>299</th>\n",
       "      <td>443</td>\n",
       "      <td>70</td>\n",
       "      <td>0</td>\n",
       "      <td>calibration_1</td>\n",
       "      <td>calibration_1</td>\n",
       "      <td>html-keyboard-response</td>\n",
       "    </tr>\n",
       "  </tbody>\n",
       "</table>\n",
       "</div>"
      ],
      "text/plain": [
       "     run_id  trial_index  chinFirst trial_type_new next_trial_type_new  \\\n",
       "68      141           19          0  calibration_1       calibration_1   \n",
       "127     221           19          1  calibration_1       calibration_1   \n",
       "135     229           90          0  calibration_1       calibration_1   \n",
       "191     300           28          0  calibration_1       calibration_1   \n",
       "212     332           26          0  calibration_1       calibration_1   \n",
       "245     374           18          0  calibration_1       calibration_1   \n",
       "299     443           70          0  calibration_1       calibration_1   \n",
       "\n",
       "             next_trial_type  \n",
       "68   eyetracking-calibration  \n",
       "127  eyetracking-calibration  \n",
       "135   html-keyboard-response  \n",
       "191   html-keyboard-response  \n",
       "212   html-keyboard-response  \n",
       "245   html-keyboard-response  \n",
       "299   html-keyboard-response  "
      ]
     },
     "execution_count": 13,
     "metadata": {},
     "output_type": "execute_result"
    }
   ],
   "source": [
    "data = data_trial\n",
    "\n",
    "grouped_trial_type_new = data \\\n",
    "    .loc[: , ['run_id', 'trial_index', 'chinFirst', 'trial_type_new']] \\\n",
    "    .drop_duplicates()\n",
    "\n",
    "last_trial_for_each_subject = data \\\n",
    "    .groupby(['run_id'])['trial_index'].max() \\\n",
    "    .reset_index() \\\n",
    "    .merge(grouped_trial_type_new, on=['run_id', 'trial_index'], how='left')\n",
    "\n",
    "last_trial_for_each_subject = add_next_trial(last_trial_for_each_subject)\n",
    "\n",
    "last_trial_for_each_subject.loc[\n",
    "    last_trial_for_each_subject['next_trial_type_new']=='calibration_1',\n",
    "    ['run_id', 'trial_index', 'chinFirst', 'trial_type_new', 'next_trial_type_new', 'next_trial_type']\n",
    "]"
   ]
  },
  {
   "cell_type": "markdown",
   "id": "amino-acquisition",
   "metadata": {},
   "source": [
    "#  Duplicate Prolific ID's - Multiple participations\n",
    "Most subjects, who had to redo, previously dropped out during calibration briefing (n=7) and the initialization (n=11) multiple times"
   ]
  },
  {
   "cell_type": "markdown",
   "id": "boolean-beauty",
   "metadata": {},
   "source": [
    "## How many of the dropouts try again? "
   ]
  },
  {
   "cell_type": "code",
   "execution_count": 14,
   "id": "extensive-month",
   "metadata": {
    "scrolled": false
   },
   "outputs": [
    {
     "name": "stdout",
     "output_type": "stream",
     "text": [
      "Of those subjects where the ID is known: n=212\n",
      "Subjects_multiple_attempts: n=12 = 5.66% \n",
      "subjects_actual_dropouts: n=34 = 16.04% \n",
      "\n"
     ]
    }
   ],
   "source": [
    "grouped_last_trial_full = grouped_last_trial.loc[\n",
    "    grouped_last_trial['trial_type_new']=='end', \n",
    "    :\n",
    "]\n",
    "\n",
    "subjects_multiple_attempts = []\n",
    "subjects_actual_dropouts = []\n",
    "\n",
    "for ID in grouped_last_trial_dropout.loc[\n",
    "        pd.notna(grouped_last_trial_dropout['prolificID']),\n",
    "        'prolificID'\n",
    "    ].unique():\n",
    "    previous_attempt = grouped_last_trial_full.loc[\n",
    "        grouped_last_trial_full['prolificID'] == ID,\n",
    "        :\n",
    "    ]\n",
    "    if len(previous_attempt)>0:\n",
    "        subjects_multiple_attempts = np.append(\n",
    "            subjects_multiple_attempts, ID)\n",
    "    else:\n",
    "        subjects_actual_dropouts = np.append(\n",
    "            subjects_actual_dropouts, ID)\n",
    "\n",
    "print(\n",
    "    f\"\"\"Of those subjects where the ID is known: n={len(data_subject)}\\n\"\"\"\n",
    "    f\"\"\"Subjects_multiple_attempts: n={len(subjects_multiple_attempts)}\"\"\"\n",
    "    f\"\"\" = {round(100 * len(subjects_multiple_attempts) / len(data_subject), 2)}% \\n\"\"\"\n",
    "    f\"\"\"subjects_actual_dropouts: n={len(subjects_actual_dropouts)}\"\"\"\n",
    "    f\"\"\" = {round(100 * len(subjects_actual_dropouts) / len(data_subject), 2)}% \\n\"\"\"    \n",
    ")"
   ]
  },
  {
   "cell_type": "markdown",
   "id": "secure-mechanics",
   "metadata": {},
   "source": [
    "## Multiple participation by trial type\n",
    "Most of the participants, who try again, reload at the beginning of the experiment"
   ]
  },
  {
   "cell_type": "code",
   "execution_count": 15,
   "id": "confirmed-jamaica",
   "metadata": {},
   "outputs": [
    {
     "data": {
      "text/html": [
       "<div>\n",
       "<style scoped>\n",
       "    .dataframe tbody tr th:only-of-type {\n",
       "        vertical-align: middle;\n",
       "    }\n",
       "\n",
       "    .dataframe tbody tr th {\n",
       "        vertical-align: top;\n",
       "    }\n",
       "\n",
       "    .dataframe thead th {\n",
       "        text-align: right;\n",
       "    }\n",
       "</style>\n",
       "<table border=\"1\" class=\"dataframe\">\n",
       "  <thead>\n",
       "    <tr style=\"text-align: right;\">\n",
       "      <th></th>\n",
       "      <th>next_trial_type_new</th>\n",
       "      <th>prolificID</th>\n",
       "    </tr>\n",
       "  </thead>\n",
       "  <tbody>\n",
       "    <tr>\n",
       "      <th>2</th>\n",
       "      <td>choice</td>\n",
       "      <td>1</td>\n",
       "    </tr>\n",
       "    <tr>\n",
       "      <th>5</th>\n",
       "      <td>pre_et_init</td>\n",
       "      <td>1</td>\n",
       "    </tr>\n",
       "    <tr>\n",
       "      <th>0</th>\n",
       "      <td>calibration_1</td>\n",
       "      <td>2</td>\n",
       "    </tr>\n",
       "    <tr>\n",
       "      <th>3</th>\n",
       "      <td>et_adjustment</td>\n",
       "      <td>2</td>\n",
       "    </tr>\n",
       "    <tr>\n",
       "      <th>1</th>\n",
       "      <td>calibration_1_briefing</td>\n",
       "      <td>7</td>\n",
       "    </tr>\n",
       "    <tr>\n",
       "      <th>4</th>\n",
       "      <td>et_init</td>\n",
       "      <td>11</td>\n",
       "    </tr>\n",
       "  </tbody>\n",
       "</table>\n",
       "</div>"
      ],
      "text/plain": [
       "      next_trial_type_new  prolificID\n",
       "2                  choice           1\n",
       "5             pre_et_init           1\n",
       "0           calibration_1           2\n",
       "3           et_adjustment           2\n",
       "1  calibration_1_briefing           7\n",
       "4                 et_init          11"
      ]
     },
     "execution_count": 15,
     "metadata": {},
     "output_type": "execute_result"
    }
   ],
   "source": [
    "duplicate_subjects = data_trial \\\n",
    "    .loc[:, ['prolificID', 'run_id']] \\\n",
    "    .drop_duplicates() \\\n",
    "    .groupby(['prolificID'], as_index=False)['run_id'].count() \\\n",
    "    .rename(columns={'run_id': 'n'})\n",
    "duplicate_subjects = duplicate_subjects \\\n",
    "    .loc[duplicate_subjects['n']>1, 'prolificID'] \\\n",
    "    .unique()\n",
    "\n",
    "runs_max_trial = data_trial.loc[data_trial['prolificID'].isin(duplicate_subjects), :] \\\n",
    "    .groupby(['prolificID', 'run_id'], as_index=False)['trial_index'].max() \\\n",
    "    .merge(\n",
    "        data_trial.loc[\n",
    "            :, \n",
    "            ['run_id', 'chinFirst', 'trial_index', 'trial_type', 'trial_type_nr', 'trial_type_new']\n",
    "        ], \n",
    "        on=['run_id', 'trial_index'], \n",
    "        how='left')\n",
    "runs_max_trial = runs_max_trial \\\n",
    "    .loc[runs_max_trial['trial_type_new']!='end', :]\n",
    "\n",
    "runs_max_trial= add_next_trial(runs_max_trial)\n",
    "\n",
    "runs_max_trial \\\n",
    "    .groupby(['next_trial_type_new']).nunique()['prolificID'] \\\n",
    "    .reset_index() \\\n",
    "    .sort_values(by='prolificID')"
   ]
  },
  {
   "cell_type": "markdown",
   "id": "entitled-brick",
   "metadata": {},
   "source": [
    "# Cleaning"
   ]
  },
  {
   "cell_type": "markdown",
   "id": "designed-parameter",
   "metadata": {},
   "source": [
    "## Remove duplicate Prolific IDs"
   ]
  },
  {
   "cell_type": "markdown",
   "id": "critical-metabolism",
   "metadata": {},
   "source": [
    "### data_trial"
   ]
  },
  {
   "cell_type": "code",
   "execution_count": 16,
   "id": "familiar-region",
   "metadata": {
    "scrolled": false
   },
   "outputs": [
    {
     "name": "stdout",
     "output_type": "stream",
     "text": [
      "Number of duplicate rows: 132890\n",
      "Average max trial index: 440.0\n"
     ]
    }
   ],
   "source": [
    "duplicate_rows = data_trial \\\n",
    "    .loc[:, ['prolificID', 'run_id']] \\\n",
    "    .duplicated() \\\n",
    "    .sum()\n",
    "\n",
    "trial_index_mean = data_trial \\\n",
    "    .groupby(['prolificID', 'run_id'], as_index=False)['trial_index'].max() \\\n",
    "    .loc[:, 'trial_index'] \\\n",
    "    .mean()\n",
    "\n",
    "print(f'Number of duplicate rows: {duplicate_rows}')\n",
    "print(f'Average max trial index: {round(trial_index_mean, 1)}')"
   ]
  },
  {
   "cell_type": "code",
   "execution_count": 17,
   "id": "identical-pendant",
   "metadata": {},
   "outputs": [
    {
     "name": "stdout",
     "output_type": "stream",
     "text": [
      "Number of duplicate rows: 0\n",
      "Average max trial index: 440.0\n"
     ]
    }
   ],
   "source": [
    "last_trial_by_run = data_trial \\\n",
    "    .groupby(['prolificID', 'run_id'], as_index=False)['trial_index'].max() \\\n",
    "    .sort_values(by=['prolificID', 'trial_index', 'run_id']) \\\n",
    "    .drop_duplicates(subset=['prolificID'], keep='last')\n",
    "\n",
    "duplicate_rows = last_trial_by_run.loc[:, ['prolificID', 'run_id']] \\\n",
    "    .duplicated() \\\n",
    "    .sum()\n",
    "\n",
    "trial_index_mean = data_trial \\\n",
    "    .groupby(['prolificID', 'run_id'], as_index=False)['trial_index'].max() \\\n",
    "    .loc[:, 'trial_index'] \\\n",
    "    .mean()\n",
    "\n",
    "print(f'Number of duplicate rows: {duplicate_rows}')\n",
    "print(f'Average max trial index: {round(trial_index_mean, 1)}')"
   ]
  },
  {
   "cell_type": "markdown",
   "id": "discrete-romance",
   "metadata": {},
   "source": [
    "### data_subject"
   ]
  },
  {
   "cell_type": "code",
   "execution_count": 18,
   "id": "forbidden-indication",
   "metadata": {},
   "outputs": [
    {
     "name": "stdout",
     "output_type": "stream",
     "text": [
      "Number of duplicate prolific IDs: 0\n"
     ]
    }
   ],
   "source": [
    "n_duplicated = data_subject \\\n",
    "    .duplicated(subset=['prolificID']) \\\n",
    "    .sum()\n",
    "\n",
    "print(f'Number of duplicate prolific IDs: {n_duplicated}')\n",
    "\n",
    "data_subject = data_subject \\\n",
    "    .sort_values(by=['prolificID', 'max_trial']) \\\n",
    "    .drop_duplicates(subset=['prolificID'], keep='last')"
   ]
  },
  {
   "cell_type": "markdown",
   "id": "meaning-mortality",
   "metadata": {},
   "source": [
    "### data_et"
   ]
  },
  {
   "cell_type": "code",
   "execution_count": 19,
   "id": "surprised-romance",
   "metadata": {},
   "outputs": [
    {
     "data": {
      "text/plain": [
       "212"
      ]
     },
     "execution_count": 19,
     "metadata": {},
     "output_type": "execute_result"
    }
   ],
   "source": [
    "data_et = data_et.loc[\n",
    "    data_et['run_id'].isin(data_subject['run_id']),\n",
    "    :\n",
    "] \n",
    "\n",
    "len(data_et.loc[:, 'run_id'].unique())"
   ]
  },
  {
   "cell_type": "markdown",
   "id": "political-russell",
   "metadata": {},
   "source": [
    "### Missing Prolific IDs"
   ]
  },
  {
   "cell_type": "code",
   "execution_count": 20,
   "id": "tender-brave",
   "metadata": {},
   "outputs": [
    {
     "data": {
      "text/html": [
       "<div>\n",
       "<style scoped>\n",
       "    .dataframe tbody tr th:only-of-type {\n",
       "        vertical-align: middle;\n",
       "    }\n",
       "\n",
       "    .dataframe tbody tr th {\n",
       "        vertical-align: top;\n",
       "    }\n",
       "\n",
       "    .dataframe thead th {\n",
       "        text-align: right;\n",
       "    }\n",
       "</style>\n",
       "<table border=\"1\" class=\"dataframe\">\n",
       "  <thead>\n",
       "    <tr style=\"text-align: right;\">\n",
       "      <th></th>\n",
       "      <th>run_id</th>\n",
       "      <th>chinFirst</th>\n",
       "      <th>choiceTask_amountLeftFirst</th>\n",
       "      <th>browser</th>\n",
       "      <th>browser_version</th>\n",
       "      <th>device</th>\n",
       "      <th>platform</th>\n",
       "      <th>platform_version</th>\n",
       "      <th>user_agent</th>\n",
       "      <th>webcam_label</th>\n",
       "      <th>...</th>\n",
       "      <th>precision</th>\n",
       "      <th>precision_chin_0</th>\n",
       "      <th>precision_chin_1</th>\n",
       "      <th>precision_glasses_binary_0</th>\n",
       "      <th>precision_glasses_binary_1</th>\n",
       "      <th>precision_px</th>\n",
       "      <th>precision_px_chin_0</th>\n",
       "      <th>precision_px_chin_1</th>\n",
       "      <th>precision_px_glasses_binary_0</th>\n",
       "      <th>precision_px_glasses_binary_1</th>\n",
       "    </tr>\n",
       "  </thead>\n",
       "  <tbody>\n",
       "  </tbody>\n",
       "</table>\n",
       "<p>0 rows × 72 columns</p>\n",
       "</div>"
      ],
      "text/plain": [
       "Empty DataFrame\n",
       "Columns: [run_id, chinFirst, choiceTask_amountLeftFirst, browser, browser_version, device, platform, platform_version, user_agent, webcam_label, webcam_fps, webcam_height, webcam_width, prolificID, birthyear, gender, ethnic, sight, glasses, degree, eyeshadow, masquara, eyeliner, browliner, vertPosition, triedChin, keptHead, optionalNote, session_id, status, started_datetime, completed_date_time, time_taken, age, num_approvals, num_rejections, prolific_score, reviewed_at_datetime, entered_code, Country of Birth, Current Country of Residence, Employment Status, First Language, Nationality, Sex, Student Status, Webcam, glasses_binary, employment_status, fps, max_trial, recorded_date, offset, offset_px, offset_chin_0, offset_chin_1, offset_glasses_binary_0, offset_glasses_binary_1, offset_px_chin_0, offset_px_chin_1, offset_px_glasses_binary_0, offset_px_glasses_binary_1, precision, precision_chin_0, precision_chin_1, precision_glasses_binary_0, precision_glasses_binary_1, precision_px, precision_px_chin_0, precision_px_chin_1, precision_px_glasses_binary_0, precision_px_glasses_binary_1]\n",
       "Index: []\n",
       "\n",
       "[0 rows x 72 columns]"
      ]
     },
     "execution_count": 20,
     "metadata": {},
     "output_type": "execute_result"
    }
   ],
   "source": [
    "data_subject.loc[\n",
    "    pd.isna(data_subject['prolificID']),\n",
    "    :\n",
    "]"
   ]
  },
  {
   "cell_type": "code",
   "execution_count": 21,
   "id": "expected-harmony",
   "metadata": {},
   "outputs": [],
   "source": [
    "data_subject = data_subject.loc[\n",
    "    pd.notna(data_subject['prolificID']),\n",
    "    :\n",
    "]"
   ]
  },
  {
   "cell_type": "code",
   "execution_count": 22,
   "id": "ordered-andrews",
   "metadata": {},
   "outputs": [],
   "source": [
    "data_trial = data_trial.loc[\n",
    "    pd.notna(data_trial['prolificID']),\n",
    "    :\n",
    "]"
   ]
  },
  {
   "cell_type": "markdown",
   "id": "miniature-velvet",
   "metadata": {},
   "source": [
    "## Invalid runs"
   ]
  },
  {
   "cell_type": "markdown",
   "id": "described-harris",
   "metadata": {},
   "source": [
    "### Not enough trials"
   ]
  },
  {
   "cell_type": "code",
   "execution_count": 23,
   "id": "colonial-tract",
   "metadata": {},
   "outputs": [],
   "source": [
    "subjects_full_trial = data_trial \\\n",
    "    .loc[data_trial['trial_type_new']=='end', 'run_id'] \\\n",
    "    .unique()\n",
    "subjects_full_trial\n",
    "\n",
    "subjects_not_full_trial = np.setdiff1d(\n",
    "    data_trial['run_id'].unique(),\n",
    "    subjects_full_trial\n",
    ")"
   ]
  },
  {
   "cell_type": "markdown",
   "id": "consecutive-conversation",
   "metadata": {},
   "source": [
    "### Did not follow instructions"
   ]
  },
  {
   "cell_type": "code",
   "execution_count": 24,
   "id": "complimentary-mother",
   "metadata": {},
   "outputs": [
    {
     "name": "stdout",
     "output_type": "stream",
     "text": [
      "N Runs, where instruction was not followed: n=0 = 0.0%\n",
      "N unique prolific IDs: 0 \n",
      "Length of sub dataset: 0\n"
     ]
    },
    {
     "data": {
      "text/html": [
       "<div>\n",
       "<style scoped>\n",
       "    .dataframe tbody tr th:only-of-type {\n",
       "        vertical-align: middle;\n",
       "    }\n",
       "\n",
       "    .dataframe tbody tr th {\n",
       "        vertical-align: top;\n",
       "    }\n",
       "\n",
       "    .dataframe thead th {\n",
       "        text-align: right;\n",
       "    }\n",
       "</style>\n",
       "<table border=\"1\" class=\"dataframe\">\n",
       "  <thead>\n",
       "    <tr style=\"text-align: right;\">\n",
       "      <th></th>\n",
       "      <th>run_id</th>\n",
       "      <th>prolificID</th>\n",
       "      <th>keptHead</th>\n",
       "      <th>triedChin</th>\n",
       "    </tr>\n",
       "  </thead>\n",
       "  <tbody>\n",
       "  </tbody>\n",
       "</table>\n",
       "</div>"
      ],
      "text/plain": [
       "Empty DataFrame\n",
       "Columns: [run_id, prolificID, keptHead, triedChin]\n",
       "Index: []"
      ]
     },
     "execution_count": 24,
     "metadata": {},
     "output_type": "execute_result"
    }
   ],
   "source": [
    "runs_noInstruction = data_subject.loc[\n",
    "    (data_subject['keptHead']==0) |\n",
    "    (data_subject['triedChin']==0), \n",
    "    'run_id'\n",
    "].reset_index(drop=True)\n",
    "\n",
    "print(\n",
    "    f\"\"\"N Runs, where instruction was not followed: n={len(runs_noInstruction)}\"\"\"\n",
    "    f\"\"\" = {round(100 * len(runs_noInstruction) / len(data_subject), 2)}%\"\"\")\n",
    "\n",
    "did_not_follow_instructions = data_subject \\\n",
    "    .loc[\n",
    "        data_subject['run_id'].isin(runs_noInstruction), \n",
    "        ['run_id', 'prolificID', 'keptHead', 'triedChin']\n",
    "    ] \\\n",
    "    .drop_duplicates()\n",
    "\n",
    "print(\n",
    "    f\"\"\"N unique prolific IDs: {len(did_not_follow_instructions['prolificID'].unique())} \\n\"\"\"\n",
    "    f\"\"\"Length of sub dataset: {len(did_not_follow_instructions)}\"\"\"\n",
    "\n",
    ")\n",
    "\n",
    "did_not_follow_instructions"
   ]
  },
  {
   "cell_type": "markdown",
   "id": "ethical-bullet",
   "metadata": {},
   "source": [
    "### Full trial but not enough eye-tracking data\n",
    "How many subjects are not represented in the eye-tracking data?"
   ]
  },
  {
   "cell_type": "code",
   "execution_count": 25,
   "id": "secondary-duncan",
   "metadata": {
    "scrolled": true
   },
   "outputs": [
    {
     "name": "stdout",
     "output_type": "stream",
     "text": [
      "Full runs without et_data: 31\n",
      "Of those runs, who have et_data, 9 runs have >10 trials with no et data\n",
      "In total, that is n=34\n"
     ]
    }
   ],
   "source": [
    "runs_no_et_data = data_trial.loc[\n",
    "    (~data_trial['run_id'].isin(data_et['run_id'].unique())) &\n",
    "    (data_trial['trial_type_new']=='end'),\n",
    "    'run_id'\n",
    "].unique()\n",
    "\n",
    "print(\n",
    "    f\"\"\"Full runs without et_data: {len(runs_no_et_data)}\"\"\"\n",
    ")\n",
    "\n",
    "runs_full = data_trial.loc[\n",
    "    data_trial['trial_type_new']=='end',\n",
    "    'run_id'\n",
    "].unique()\n",
    "\n",
    "et_trials = data_trial.loc[\n",
    "    data_trial['trial_type'].isin([\n",
    "        'eyetracking-calibration', \n",
    "        'eyetracking-fix-object', \n",
    "        'eyetracking-choice'\n",
    "    ]), \n",
    "    ['run_id', 'trial_index', 'x_count']\n",
    "]\n",
    "\n",
    "na_et_by_run = et_trials.loc[\n",
    "    pd.isna(et_trials['x_count']), \n",
    "    :\n",
    "].groupby(['run_id'], as_index=False).count()\n",
    "\n",
    "runs_not_enough_et_data = na_et_by_run.loc[\n",
    "    na_et_by_run['trial_index']>10, \n",
    "    'run_id'\n",
    "]\n",
    "\n",
    "runs_full_but_few_et = np.intersect1d(\n",
    "    runs_not_enough_et_data, \n",
    "    runs_full\n",
    ")\n",
    "\n",
    "print(\n",
    "    f\"\"\"Of those runs, who have et_data, \"\"\"\n",
    "    f\"\"\"{len(runs_full_but_few_et)} runs have >10 trials with no et data\"\"\"\n",
    ")\n",
    "\n",
    "runs_full_but_not_enough_et = list(\n",
    "    set(runs_no_et_data) |\n",
    "    set(runs_full_but_few_et)\n",
    ")\n",
    "\n",
    "print(f\"\"\"In total, that is n={len(runs_full_but_not_enough_et)}\"\"\")"
   ]
  },
  {
   "cell_type": "markdown",
   "id": "scenic-chester",
   "metadata": {},
   "source": [
    "### Low FPS"
   ]
  },
  {
   "cell_type": "code",
   "execution_count": 26,
   "id": "convinced-prayer",
   "metadata": {},
   "outputs": [
    {
     "name": "stdout",
     "output_type": "stream",
     "text": [
      "Subjects_multiple_attempts: n=0 = 0.0% \n",
      "\n"
     ]
    }
   ],
   "source": [
    "runs_lowFPS = data_subject \\\n",
    "    .loc[\n",
    "        data_subject['fps']<3, \n",
    "        'run_id'\n",
    "    ]\n",
    "\n",
    "print(\n",
    "    f\"\"\"Subjects_multiple_attempts: n={len(runs_lowFPS)}\"\"\"\n",
    "    f\"\"\" = {round(100 * len(runs_lowFPS) / len(data_trial['run_id'].unique()), 2)}% \\n\"\"\"\n",
    ")"
   ]
  },
  {
   "cell_type": "markdown",
   "id": "compatible-fantasy",
   "metadata": {},
   "source": [
    "### Visually impaired without visual aids "
   ]
  },
  {
   "cell_type": "code",
   "execution_count": 27,
   "id": "detected-february",
   "metadata": {},
   "outputs": [
    {
     "name": "stdout",
     "output_type": "stream",
     "text": [
      "N runs that are longSighted but do not wear visual aids: 0 \n",
      "\n"
     ]
    }
   ],
   "source": [
    "runs_cannotSee = data_subject.loc[\n",
    "    (data_subject['sight'] == 'notCorrected') & \n",
    "    (data_subject['glasses'] == 'longSight'),\n",
    "    'run_id']\n",
    "\n",
    "print(f'N runs that are longSighted but do not wear visual aids: {len(runs_cannotSee)} \\n')"
   ]
  },
  {
   "cell_type": "markdown",
   "id": "broad-hebrew",
   "metadata": {},
   "source": [
    "### Summary"
   ]
  },
  {
   "cell_type": "code",
   "execution_count": 28,
   "id": "naughty-observation",
   "metadata": {},
   "outputs": [
    {
     "name": "stdout",
     "output_type": "stream",
     "text": [
      "Total number of runs: n=302\n",
      "Number of subjects with invalid runs: n=78 \n",
      "\n",
      "Invalid_runs: \n"
     ]
    },
    {
     "data": {
      "text/html": [
       "<div>\n",
       "<style scoped>\n",
       "    .dataframe tbody tr th:only-of-type {\n",
       "        vertical-align: middle;\n",
       "    }\n",
       "\n",
       "    .dataframe tbody tr th {\n",
       "        vertical-align: top;\n",
       "    }\n",
       "\n",
       "    .dataframe thead th {\n",
       "        text-align: right;\n",
       "    }\n",
       "</style>\n",
       "<table border=\"1\" class=\"dataframe\">\n",
       "  <thead>\n",
       "    <tr style=\"text-align: right;\">\n",
       "      <th></th>\n",
       "      <th>name</th>\n",
       "      <th>length</th>\n",
       "      <th>perc</th>\n",
       "    </tr>\n",
       "  </thead>\n",
       "  <tbody>\n",
       "    <tr>\n",
       "      <th>0</th>\n",
       "      <td>subjects_not_full_trial</td>\n",
       "      <td>59</td>\n",
       "      <td>0.20</td>\n",
       "    </tr>\n",
       "    <tr>\n",
       "      <th>1</th>\n",
       "      <td>runs_noInstruction</td>\n",
       "      <td>0</td>\n",
       "      <td>0.00</td>\n",
       "    </tr>\n",
       "    <tr>\n",
       "      <th>2</th>\n",
       "      <td>runs_lowFPS</td>\n",
       "      <td>0</td>\n",
       "      <td>0.00</td>\n",
       "    </tr>\n",
       "    <tr>\n",
       "      <th>3</th>\n",
       "      <td>runs_cannotSee</td>\n",
       "      <td>0</td>\n",
       "      <td>0.00</td>\n",
       "    </tr>\n",
       "    <tr>\n",
       "      <th>4</th>\n",
       "      <td>runs_full_but_not_enough_et</td>\n",
       "      <td>34</td>\n",
       "      <td>0.10</td>\n",
       "    </tr>\n",
       "    <tr>\n",
       "      <th>5</th>\n",
       "      <td>total</td>\n",
       "      <td>93</td>\n",
       "      <td>0.31</td>\n",
       "    </tr>\n",
       "  </tbody>\n",
       "</table>\n",
       "</div>"
      ],
      "text/plain": [
       "                          name  length  perc\n",
       "0      subjects_not_full_trial      59  0.20\n",
       "1           runs_noInstruction       0  0.00\n",
       "2                  runs_lowFPS       0  0.00\n",
       "3               runs_cannotSee       0  0.00\n",
       "4  runs_full_but_not_enough_et      34  0.10\n",
       "5                        total      93  0.31"
      ]
     },
     "execution_count": 28,
     "metadata": {},
     "output_type": "execute_result"
    }
   ],
   "source": [
    "excluded_runs = list(\n",
    "    set(subjects_not_full_trial) |\n",
    "    set(runs_noInstruction) |\n",
    "    set(runs_lowFPS) |\n",
    "    set(runs_cannotSee) |\n",
    "    set(runs_full_but_not_enough_et)\n",
    ")\n",
    "\n",
    "n_runs = len(data_trial['run_id'].unique())\n",
    "\n",
    "invalid_runs = pd.DataFrame(\n",
    "   {'name': [ \n",
    "               'subjects_not_full_trial',\n",
    "               'runs_noInstruction',\n",
    "               'runs_lowFPS',\n",
    "               'runs_cannotSee',\n",
    "               'runs_full_but_not_enough_et',\n",
    "               'total'\n",
    "   ],\n",
    "    'length': [\n",
    "                len(subjects_not_full_trial),\n",
    "                len(runs_noInstruction),\n",
    "                len(runs_lowFPS),\n",
    "                len(runs_cannotSee),\n",
    "                len(runs_full_but_not_enough_et), \n",
    "                len(excluded_runs)\n",
    "           ],\n",
    "    'perc': [\n",
    "                len(subjects_not_full_trial)/n_runs,\n",
    "                len(runs_noInstruction)/n_runs,\n",
    "                len(runs_lowFPS)/n_runs,\n",
    "                len(runs_cannotSee)/len(data_subject),\n",
    "                len(runs_no_et_data)/n_runs,\n",
    "                len(excluded_runs)/n_runs      \n",
    "    ]\n",
    "   }\n",
    ")\n",
    "\n",
    "print(f'Total number of runs: n={n_runs}')\n",
    "print(\n",
    "    f\"\"\"Number of subjects with invalid runs: \"\"\"\n",
    "    f\"\"\"n={len(data_trial.loc[data_trial['run_id'].isin(excluded_runs), 'prolificID'].unique())} \\n\"\"\"\n",
    ")\n",
    "\n",
    "print('Invalid_runs: ')\n",
    "round(invalid_runs, 2)"
   ]
  },
  {
   "cell_type": "markdown",
   "id": "catholic-trainer",
   "metadata": {},
   "source": [
    "### Remove invalid runs"
   ]
  },
  {
   "cell_type": "code",
   "execution_count": 29,
   "id": "minimal-cruise",
   "metadata": {},
   "outputs": [
    {
     "name": "stdout",
     "output_type": "stream",
     "text": [
      "Raw: 212\n",
      "Cleaned: 209\n",
      "Raw: 302\n",
      "Cleaned: 209\n",
      "Raw: 212\n",
      "Cleaned: 209\n"
     ]
    }
   ],
   "source": [
    "def clean_runs(data):\n",
    "    length = len(data['run_id'].unique())\n",
    "    print(f'Raw: {length}')\n",
    "    data = data.loc[\n",
    "        ~data['run_id'].isin(excluded_runs), \n",
    "        :\n",
    "    ]\n",
    "    length = len(data['run_id'].unique())\n",
    "    print(f'Cleaned: {length}')\n",
    "    return data\n",
    "\n",
    "data_et = clean_runs(data_et)\n",
    "data_trial = clean_runs(data_trial)\n",
    "data_subject = clean_runs(data_subject)"
   ]
  },
  {
   "cell_type": "markdown",
   "id": "olympic-sponsorship",
   "metadata": {},
   "source": [
    "# Check datasets"
   ]
  },
  {
   "cell_type": "code",
   "execution_count": 30,
   "id": "perceived-brooklyn",
   "metadata": {},
   "outputs": [
    {
     "data": {
      "text/html": [
       "<div>\n",
       "<style scoped>\n",
       "    .dataframe tbody tr th:only-of-type {\n",
       "        vertical-align: middle;\n",
       "    }\n",
       "\n",
       "    .dataframe tbody tr th {\n",
       "        vertical-align: top;\n",
       "    }\n",
       "\n",
       "    .dataframe thead th {\n",
       "        text-align: right;\n",
       "    }\n",
       "</style>\n",
       "<table border=\"1\" class=\"dataframe\">\n",
       "  <thead>\n",
       "    <tr style=\"text-align: right;\">\n",
       "      <th></th>\n",
       "      <th>dataset</th>\n",
       "      <th>subjects</th>\n",
       "      <th>runs</th>\n",
       "    </tr>\n",
       "  </thead>\n",
       "  <tbody>\n",
       "    <tr>\n",
       "      <th>0</th>\n",
       "      <td>data_et</td>\n",
       "      <td>-</td>\n",
       "      <td>209</td>\n",
       "    </tr>\n",
       "    <tr>\n",
       "      <th>1</th>\n",
       "      <td>data_trial</td>\n",
       "      <td>209</td>\n",
       "      <td>209</td>\n",
       "    </tr>\n",
       "    <tr>\n",
       "      <th>2</th>\n",
       "      <td>data_subject</td>\n",
       "      <td>209</td>\n",
       "      <td>209</td>\n",
       "    </tr>\n",
       "  </tbody>\n",
       "</table>\n",
       "</div>"
      ],
      "text/plain": [
       "        dataset subjects  runs\n",
       "0       data_et        -   209\n",
       "1    data_trial      209   209\n",
       "2  data_subject      209   209"
      ]
     },
     "execution_count": 30,
     "metadata": {},
     "output_type": "execute_result"
    }
   ],
   "source": [
    "summary = pd.DataFrame(\n",
    "   {'dataset': \n",
    "        [ \n",
    "           'data_et',\n",
    "           'data_trial',\n",
    "           'data_subject'\n",
    "        ],\n",
    "    'subjects': \n",
    "        [\n",
    "            '-',\n",
    "            len(data_trial['prolificID'].unique()),\n",
    "            len(data_subject['prolificID'].unique()),\n",
    "        ],\n",
    "    'runs': \n",
    "        [\n",
    "            len(data_et['run_id'].unique()),\n",
    "            len(data_trial['run_id'].unique()),\n",
    "            len(data_subject['run_id'].unique()),\n",
    "        ]\n",
    "   }\n",
    ") \n",
    "summary"
   ]
  },
  {
   "cell_type": "markdown",
   "id": "underlying-lebanon",
   "metadata": {},
   "source": [
    "# Export"
   ]
  },
  {
   "cell_type": "code",
   "execution_count": 31,
   "id": "modular-ancient",
   "metadata": {},
   "outputs": [],
   "source": [
    "data_et.to_csv(\"data_jupyter/data_et_cleaned.csv\", index=False, header=True)\n",
    "data_trial.to_csv(\"data_jupyter/data_trial_cleaned.csv\", index=False, header=True)\n",
    "data_subject.to_csv(\"data_jupyter/data_subject_cleaned.csv\", index=False, header=True)"
   ]
  }
 ],
 "metadata": {
  "kernelspec": {
   "display_name": "Python 3",
   "language": "python",
   "name": "python3"
  },
  "language_info": {
   "codemirror_mode": {
    "name": "ipython",
    "version": 3
   },
   "file_extension": ".py",
   "mimetype": "text/x-python",
   "name": "python",
   "nbconvert_exporter": "python",
   "pygments_lexer": "ipython3",
   "version": "3.8.5"
  },
  "toc": {
   "base_numbering": 1,
   "nav_menu": {},
   "number_sections": true,
   "sideBar": true,
   "skip_h1_title": false,
   "title_cell": "Table of Contents",
   "title_sidebar": "Contents",
   "toc_cell": false,
   "toc_position": {
    "height": "calc(100% - 180px)",
    "left": "10px",
    "top": "150px",
    "width": "307.2px"
   },
   "toc_section_display": true,
   "toc_window_display": true
  }
 },
 "nbformat": 4,
 "nbformat_minor": 5
}
