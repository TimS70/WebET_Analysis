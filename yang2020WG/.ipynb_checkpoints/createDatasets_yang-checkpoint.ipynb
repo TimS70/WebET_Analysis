{
 "cells": [
  {
   "cell_type": "code",
   "execution_count": 1,
   "metadata": {},
   "outputs": [],
   "source": [
    "# import sys\n",
    "# !conda install --yes --prefix {sys.prefix} pingouin"
   ]
  },
  {
   "cell_type": "code",
   "execution_count": 1,
   "metadata": {},
   "outputs": [
    {
     "name": "stdout",
     "output_type": "stream",
     "text": [
      "Current Working directory  C:\\Users\\User\\GitHub\\WebET_Analysis\\yang2020WG\n"
     ]
    }
   ],
   "source": [
    "import numpy as np\n",
    "import math\n",
    "import os\n",
    "import pandas as pd\n",
    "import pingouin as pg\n",
    "import re\n",
    "import seaborn as sns\n",
    "import json\n",
    "import statsmodels.api as sm \n",
    "import statsmodels.formula.api as smf\n",
    "import statsmodels.graphics.api as smg\n",
    "import sys\n",
    "\n",
    "if sys.version_info[0] < 3: \n",
    "    from StringIO import StringIO\n",
    "else:\n",
    "    from io import StringIO\n",
    "    \n",
    "from IPython.display import HTML\n",
    "def View(df):\n",
    "    css = \"\"\"<style>\n",
    "    table { border-collapse: collapse; border: 3px solid #eee; }\n",
    "    table tr th:first-child { background-color: #eeeeee; color: #333; font-weight: bold }\n",
    "    table thead th { background-color: #eee; color: #000; }\n",
    "    tr, th, td { border: 1px solid #ccc; border-width: 1px 0 0 1px; border-collapse: collapse;\n",
    "    padding: 3px; font-family: monospace; font-size: 10px }</style>\n",
    "    \"\"\"\n",
    "    s  = '<script type=\"text/Javascript\">'\n",
    "    s += 'var win = window.open(\"\", \"Title\", \"toolbar=no, location=no, directories=no, status=no, menubar=no, scrollbars=yes, resizable=yes, width=780, height=200, top=\"+(screen.height-400)+\", left=\"+(screen.width-840));'\n",
    "    s += 'win.document.body.innerHTML = \\'' + (df.to_html() + css).replace(\"\\n\",'\\\\') + '\\';'\n",
    "    s += '</script>'\n",
    "    return(HTML(s+css))    \n",
    "\n",
    "os.chdir(r'C:\\Users\\User\\GitHub\\WebET_Analysis/yang2020WG')\n",
    "print(\"Current Working directory \" , os.getcwd())"
   ]
  },
  {
   "cell_type": "code",
   "execution_count": 3,
   "metadata": {},
   "outputs": [],
   "source": [
    "# from IPython.display import HTML\n",
    "\n",
    "# HTML('''<script>\n",
    "# code_show=true; \n",
    "# function code_toggle() {\n",
    "#  if (code_show){\n",
    "#  $('div.input').hide();\n",
    "#  } else {\n",
    "#  $('div.input').show();\n",
    "#  }\n",
    "#  code_show = !code_show\n",
    "# } \n",
    "# $( document ).ready(code_toggle);\n",
    "# </script>\n",
    "# <form action=\"javascript:code_toggle()\"><input type=\"submit\" value=\"Click here to toggle on/off the raw code.\"></form>''')"
   ]
  },
  {
   "cell_type": "markdown",
   "metadata": {},
   "source": [
    "# Raw Data"
   ]
  },
  {
   "cell_type": "markdown",
   "metadata": {},
   "source": [
    "## Read CSV from String"
   ]
  },
  {
   "cell_type": "code",
   "execution_count": 3,
   "metadata": {
    "scrolled": true
   },
   "outputs": [
    {
     "data": {
      "text/plain": [
       "array([0, 1000, 11000, 13000, 14000, 15000, 16000, 17000, 19000, 2000,\n",
       "       20000, 21000, 3000, 7000, 8000, 9000, 22000, 24000], dtype=object)"
      ]
     },
     "execution_count": 3,
     "metadata": {},
     "output_type": "execute_result"
    }
   ],
   "source": [
    "def cleanhtml(raw_html):\n",
    "    # https://stackoverflow.com/questions/9662346/python-code-to-remove-html-tags-from-a-string\n",
    "    cleanr = re.compile('<.*?>')\n",
    "    cleanText = re.sub(cleanr, '', raw_html)\n",
    "    return cleanText\n",
    "\n",
    "def cleanETText(text):\n",
    "    textWithinBrackets = re.findall(re.compile('\\[.*?\\]'), text)\n",
    "    output = text\n",
    "    for i in range(0,len(textWithinBrackets)):\n",
    "        old = textWithinBrackets[i]\n",
    "        new = re.sub(\",\", \"$\", old)\n",
    "        output = output.replace(old, new)\n",
    "    return output\n",
    "\n",
    "def cleanSurveyText(text):\n",
    "    output = text\n",
    "    textWithinBrackets = re.findall(re.compile('\\{.*?\\}'), text)\n",
    "    for i in range(0,len(textWithinBrackets)):\n",
    "        old = textWithinBrackets[i]\n",
    "        new = old.replace(',', '§')\n",
    "        output = output.replace(old, new)\n",
    "    return output\n",
    "\n",
    "def compileData(path):\n",
    "    subject_files = os.listdir(path)\n",
    "    all_subjects = []\n",
    "    for i in range(0, len(subject_files)):\n",
    "        csv_thisSubject = open(path + \"/\" + subject_files[i]).read()\n",
    "        csv_thisSubject = cleanhtml(csv_thisSubject)\n",
    "        csv_thisSubject = cleanETText(csv_thisSubject)\n",
    "        csv_thisSubject = cleanSurveyText(csv_thisSubject)\n",
    "        all_subjects.append(pd.read_csv(StringIO(csv_thisSubject)))\n",
    "    output = pd.concat(all_subjects).reset_index(drop=True)\n",
    "    return output\n",
    "\n",
    "data_raw = compileData(\"data_cognition\")\n",
    "# Custom modifications\n",
    "data_raw.loc[0:515, 'run_id'] = 0\n",
    "data_raw = data_raw.loc[~data_raw['run_id'].isin([4, 18]), :]\n",
    "data_raw['run_id'] = data_raw['run_id'] * 1000\n",
    "data_raw = data_raw.rename(columns={'eyeData': 'et_data'})\n",
    "data_raw['run_id'].unique()"
   ]
  },
  {
   "cell_type": "markdown",
   "metadata": {},
   "source": [
    "### Exclude empty studies"
   ]
  },
  {
   "cell_type": "code",
   "execution_count": 5,
   "metadata": {},
   "outputs": [],
   "source": [
    "data_raw = data_raw.loc[data_raw['trial_index']>0, :]"
   ]
  },
  {
   "cell_type": "markdown",
   "metadata": {},
   "source": [
    "### survey data"
   ]
  },
  {
   "cell_type": "code",
   "execution_count": 6,
   "metadata": {},
   "outputs": [
    {
     "name": "stdout",
     "output_type": "stream",
     "text": [
      "[0 1000 11000 14000 15000 16000 17000 19000 2000 20000 21000 3000 7000\n",
      " 8000 9000 22000 24000 2]\n",
      "Index(['run_id', 'condition', 'rt', 'stimulus', 'button_pressed',\n",
      "       'window_width', 'window_height', 'trial_type', 'trial_index',\n",
      "       'time_elapsed', 'internal_node_id', 'subject', 'chinFirst',\n",
      "       'choiceTask_amountLeftFirst', 'webcam_label', 'webcam_Id', 'webcam_fps',\n",
      "       'webcam_aspectRatio', 'webcam_height', 'webcam_width', 'key_press',\n",
      "       'success', 'x_pos', 'y_pos', 'chin', 'task_nr', 'et_data',\n",
      "       'trial_duration', 'option_topLeft', 'option_bottomLeft',\n",
      "       'option_topRight', 'option_bottomRight', 'recorded_at', 'ip',\n",
      "       'user_agent', 'device', 'browser', 'browser_version', 'platform',\n",
      "       'platform_version', 'Unnamed: 2', 'fbclid', 'bonusAmount', 'bonusDelay',\n",
      "       'chosenAmount', 'chosenDelay', 'prolificID', 'age', 'gender', 'ethnic',\n",
      "       'sight', 'glasses', 'degree', 'eyeshadow', 'masquara', 'eyeliner',\n",
      "       'browliner', 'vertPosition', 'triedChin', 'keptHead', 'optionalNote'],\n",
      "      dtype='object')\n"
     ]
    }
   ],
   "source": [
    "def cleanOptionalNote(text):\n",
    "    optionalNoteText = re.findall(re.compile('optionalNote\":.*?\\}'), text)\n",
    "    if len(optionalNoteText) < 1:\n",
    "        output = text\n",
    "    else:\n",
    "        old = optionalNoteText[0]\n",
    "        new = old.replace('§', ' ')\n",
    "        output = text.replace(old, new)\n",
    "    return output\n",
    "\n",
    "\n",
    "def surveyStringToFrame(subject, string):\n",
    "    string = cleanOptionalNote(string)\n",
    "    string = re.sub(\"\"\"{\"\"\", '', string)\n",
    "    string = re.sub(\"\"\"}\"\"\", '', string)\n",
    "    string = re.sub('\"', '', string)\n",
    "    string = re.sub('§', '$', string)\n",
    "    output = pd.read_csv(StringIO(string),\n",
    "                         sep=\":\",\n",
    "                         lineterminator=\"$\",\n",
    "                         header=None,\n",
    "                         index_col=0\n",
    "                         ).transpose()\n",
    "    return output\n",
    "\n",
    "\n",
    "def surveyData_thisSubject(data):\n",
    "    df_thisSubject = data.loc[\n",
    "        (pd.notna(data[\"responses\"])) &\n",
    "        (data[\"responses\"] != '\"'), :].reset_index()\n",
    "    subject = df_thisSubject['run_id'].unique()[0]\n",
    "    output = []\n",
    "    for i in range(0, len(df_thisSubject)):\n",
    "        output.append(\n",
    "            surveyStringToFrame(subject,\n",
    "                                df_thisSubject.loc[i, 'responses'])\n",
    "        )\n",
    "\n",
    "    output = pd.concat(output, axis=1)\n",
    "    output['run_id'] = subject\n",
    "    return output\n",
    "\n",
    "def addSurveyData(data):\n",
    "    surveyData_allSubjects = pd.DataFrame(columns=[\n",
    "            'prolificID', 'age', 'gender', 'ethnic', 'sight', \n",
    "            'glasses', 'degree', 'eyeshadow', 'masquara', 'eyeliner', \n",
    "            'browliner', 'vertPosition', 'triedChin', 'keptHead', \n",
    "            'optionalNote', 'run_id'])\n",
    "\n",
    "    for subject in data['run_id'].unique():\n",
    "        surveyData_allSubjects = \\\n",
    "            surveyData_allSubjects.append(\n",
    "                surveyData_thisSubject(\n",
    "                    data.loc[data['run_id']==subject, ['run_id', 'responses']]\n",
    "                )\n",
    "            )\n",
    "    # print(surveyData_allSubjects)\n",
    "    \n",
    "    data = data.merge(surveyData_allSubjects, on='run_id', how='left')\n",
    "    data = data.drop(columns='responses')\n",
    "    return(data)\n",
    "    \n",
    "data_raw = addSurveyData(data_raw)\n",
    "print(data_raw['run_id'].unique())\n",
    "print(data_raw.columns)"
   ]
  },
  {
   "cell_type": "code",
   "execution_count": 7,
   "metadata": {
    "scrolled": false
   },
   "outputs": [
    {
     "data": {
      "text/plain": [
       "array([0, 1000, 11000, 14000, 15000, 16000, 17000, 19000, 2000, 20000,\n",
       "       21000, 3000, 7000, 8000, 9000, 22000, 24000, 2], dtype=object)"
      ]
     },
     "execution_count": 7,
     "metadata": {},
     "output_type": "execute_result"
    }
   ],
   "source": [
    "def convertToNumeric(data, columns):\n",
    "    data[columns] = data[columns].apply(pd.to_numeric, errors='coerce')\n",
    "    return data\n",
    "\n",
    "\n",
    "data_raw = convertToNumeric(data_raw, ['age'])\n",
    "data_raw['degree'] = data_raw['degree'].replace(\n",
    "        [\n",
    "            'College / Undergraduate / Bachelor',\n",
    "            'High School',\n",
    "            'Graduate / PhD / Master',\n",
    "            'Middle School'\n",
    "        ],\n",
    "    [\n",
    "            'college',\n",
    "            'highSchool',\n",
    "            'grad',\n",
    "            'middle'\n",
    "        ]\n",
    ")\n",
    "data_raw['run_id'].unique()"
   ]
  },
  {
   "cell_type": "markdown",
   "metadata": {},
   "source": [
    "## Clean raw data"
   ]
  },
  {
   "cell_type": "markdown",
   "metadata": {},
   "source": [
    "### Failed Webgazer Setup"
   ]
  },
  {
   "cell_type": "code",
   "execution_count": 8,
   "metadata": {},
   "outputs": [
    {
     "name": "stdout",
     "output_type": "stream",
     "text": [
      "[0 11000 21000 3000 8000 2]\n"
     ]
    },
    {
     "data": {
      "text/html": [
       "<div>\n",
       "<style scoped>\n",
       "    .dataframe tbody tr th:only-of-type {\n",
       "        vertical-align: middle;\n",
       "    }\n",
       "\n",
       "    .dataframe tbody tr th {\n",
       "        vertical-align: top;\n",
       "    }\n",
       "\n",
       "    .dataframe thead th {\n",
       "        text-align: right;\n",
       "    }\n",
       "</style>\n",
       "<table border=\"1\" class=\"dataframe\">\n",
       "  <thead>\n",
       "    <tr style=\"text-align: right;\">\n",
       "      <th></th>\n",
       "      <th>run_id</th>\n",
       "      <th>prolificID</th>\n",
       "      <th>chinFirst</th>\n",
       "      <th>choiceTask_amountLeftFirst</th>\n",
       "      <th>webcam_label</th>\n",
       "      <th>webcam_fps</th>\n",
       "      <th>webcam_aspectRatio</th>\n",
       "      <th>user_agent</th>\n",
       "      <th>device</th>\n",
       "      <th>browser</th>\n",
       "      <th>browser_version</th>\n",
       "      <th>platform</th>\n",
       "      <th>platform_version</th>\n",
       "    </tr>\n",
       "  </thead>\n",
       "  <tbody>\n",
       "    <tr>\n",
       "      <th>514</th>\n",
       "      <td>1000</td>\n",
       "      <td>0</td>\n",
       "      <td>0.0</td>\n",
       "      <td>1.0</td>\n",
       "      <td>Logitech HD Webcam C310 (046d:081b)</td>\n",
       "      <td>30.000000</td>\n",
       "      <td>0.001042</td>\n",
       "      <td>Mozilla/5.0 (Windows NT 10.0; Win64; x64) Appl...</td>\n",
       "      <td>WebKit</td>\n",
       "      <td>Chrome</td>\n",
       "      <td>87.0.4280.141</td>\n",
       "      <td>Windows</td>\n",
       "      <td>10</td>\n",
       "    </tr>\n",
       "    <tr>\n",
       "      <th>1040</th>\n",
       "      <td>14000</td>\n",
       "      <td>LP2202</td>\n",
       "      <td>0.0</td>\n",
       "      <td>0.0</td>\n",
       "      <td>Integrierte iSight-Kamera</td>\n",
       "      <td>30.000030</td>\n",
       "      <td>1.000000</td>\n",
       "      <td>Mozilla/5.0 (Macintosh; Intel Mac OS X 10_13_6...</td>\n",
       "      <td>Macintosh</td>\n",
       "      <td>Safari</td>\n",
       "      <td>11.1.2</td>\n",
       "      <td>OS X</td>\n",
       "      <td>10_13_6</td>\n",
       "    </tr>\n",
       "    <tr>\n",
       "      <th>1051</th>\n",
       "      <td>15000</td>\n",
       "      <td>LP22022</td>\n",
       "      <td>1.0</td>\n",
       "      <td>1.0</td>\n",
       "      <td>Integrierte iSight-Kamera</td>\n",
       "      <td>30.000030</td>\n",
       "      <td>1.000000</td>\n",
       "      <td>Mozilla/5.0 (Macintosh; Intel Mac OS X 10_13_6...</td>\n",
       "      <td>Macintosh</td>\n",
       "      <td>Safari</td>\n",
       "      <td>11.1.2</td>\n",
       "      <td>OS X</td>\n",
       "      <td>10_13_6</td>\n",
       "    </tr>\n",
       "    <tr>\n",
       "      <th>1057</th>\n",
       "      <td>16000</td>\n",
       "      <td>L345</td>\n",
       "      <td>0.0</td>\n",
       "      <td>0.0</td>\n",
       "      <td>Integrierte iSight-Kamera</td>\n",
       "      <td>30.000030</td>\n",
       "      <td>1.000000</td>\n",
       "      <td>Mozilla/5.0 (Macintosh; Intel Mac OS X 10_13_6...</td>\n",
       "      <td>Macintosh</td>\n",
       "      <td>Safari</td>\n",
       "      <td>11.1.2</td>\n",
       "      <td>OS X</td>\n",
       "      <td>10_13_6</td>\n",
       "    </tr>\n",
       "    <tr>\n",
       "      <th>1063</th>\n",
       "      <td>17000</td>\n",
       "      <td>L345</td>\n",
       "      <td>1.0</td>\n",
       "      <td>1.0</td>\n",
       "      <td>Integrierte iSight-Kamera (05ac:8507)</td>\n",
       "      <td>30.000031</td>\n",
       "      <td>0.002083</td>\n",
       "      <td>Mozilla/5.0 (Macintosh; Intel Mac OS X 10_13_6...</td>\n",
       "      <td>Macintosh</td>\n",
       "      <td>Chrome</td>\n",
       "      <td>87.0.4280.141</td>\n",
       "      <td>OS X</td>\n",
       "      <td>10_13_6</td>\n",
       "    </tr>\n",
       "    <tr>\n",
       "      <th>1065</th>\n",
       "      <td>19000</td>\n",
       "      <td>Liv2020</td>\n",
       "      <td>0.0</td>\n",
       "      <td>1.0</td>\n",
       "      <td>Integrierte iSight-Kamera (05ac:8507)</td>\n",
       "      <td>30.000031</td>\n",
       "      <td>0.002083</td>\n",
       "      <td>Mozilla/5.0 (Macintosh; Intel Mac OS X 10_13_6...</td>\n",
       "      <td>Macintosh</td>\n",
       "      <td>Chrome</td>\n",
       "      <td>87.0.4280.141</td>\n",
       "      <td>OS X</td>\n",
       "      <td>10_13_6</td>\n",
       "    </tr>\n",
       "    <tr>\n",
       "      <th>1075</th>\n",
       "      <td>2000</td>\n",
       "      <td>0</td>\n",
       "      <td>1.0</td>\n",
       "      <td>1.0</td>\n",
       "      <td>Logitech HD Webcam C310 (046d:081b)</td>\n",
       "      <td>30.000000</td>\n",
       "      <td>0.001042</td>\n",
       "      <td>Mozilla/5.0 (Windows NT 10.0; Win64; x64) Appl...</td>\n",
       "      <td>WebKit</td>\n",
       "      <td>Chrome</td>\n",
       "      <td>87.0.4280.141</td>\n",
       "      <td>Windows</td>\n",
       "      <td>10</td>\n",
       "    </tr>\n",
       "    <tr>\n",
       "      <th>1085</th>\n",
       "      <td>20000</td>\n",
       "      <td>2020Liv</td>\n",
       "      <td>1.0</td>\n",
       "      <td>0.0</td>\n",
       "      <td>Integrierte iSight-Kamera (05ac:8507)</td>\n",
       "      <td>30.000031</td>\n",
       "      <td>0.002083</td>\n",
       "      <td>Mozilla/5.0 (Macintosh; Intel Mac OS X 10_13_6...</td>\n",
       "      <td>Macintosh</td>\n",
       "      <td>Chrome</td>\n",
       "      <td>87.0.4280.141</td>\n",
       "      <td>OS X</td>\n",
       "      <td>10_13_6</td>\n",
       "    </tr>\n",
       "    <tr>\n",
       "      <th>2126</th>\n",
       "      <td>7000</td>\n",
       "      <td>Ka61Kl61</td>\n",
       "      <td>0.0</td>\n",
       "      <td>0.0</td>\n",
       "      <td>HD User Facing (04f2:b64f)</td>\n",
       "      <td>30.000000</td>\n",
       "      <td>0.001389</td>\n",
       "      <td>Mozilla/5.0 (Windows NT 10.0; Win64; x64) Appl...</td>\n",
       "      <td>WebKit</td>\n",
       "      <td>Chrome</td>\n",
       "      <td>87.0.4280.141</td>\n",
       "      <td>Windows</td>\n",
       "      <td>10</td>\n",
       "    </tr>\n",
       "    <tr>\n",
       "      <th>2653</th>\n",
       "      <td>9000</td>\n",
       "      <td>ka1501</td>\n",
       "      <td>1.0</td>\n",
       "      <td>1.0</td>\n",
       "      <td>HD User Facing (04f2:b64f)</td>\n",
       "      <td>30.000000</td>\n",
       "      <td>0.001389</td>\n",
       "      <td>Mozilla/5.0 (Windows NT 10.0; Win64; x64) Appl...</td>\n",
       "      <td>WebKit</td>\n",
       "      <td>Chrome</td>\n",
       "      <td>87.0.4280.141</td>\n",
       "      <td>Windows</td>\n",
       "      <td>10</td>\n",
       "    </tr>\n",
       "    <tr>\n",
       "      <th>2665</th>\n",
       "      <td>22000</td>\n",
       "      <td>Studie1970</td>\n",
       "      <td>1.0</td>\n",
       "      <td>1.0</td>\n",
       "      <td>FaceTime HD-Kamera (integriert)</td>\n",
       "      <td>29.970000</td>\n",
       "      <td>0.001389</td>\n",
       "      <td>Mozilla/5.0 (Macintosh; Intel Mac OS X 10_15_6...</td>\n",
       "      <td>Macintosh</td>\n",
       "      <td>Safari</td>\n",
       "      <td>14.0.2</td>\n",
       "      <td>OS X</td>\n",
       "      <td>10_15_6</td>\n",
       "    </tr>\n",
       "    <tr>\n",
       "      <th>2671</th>\n",
       "      <td>24000</td>\n",
       "      <td>Studie1970</td>\n",
       "      <td>1.0</td>\n",
       "      <td>0.0</td>\n",
       "      <td>FaceTime HD-Kamera (integriert)</td>\n",
       "      <td>29.970000</td>\n",
       "      <td>0.001389</td>\n",
       "      <td>Mozilla/5.0 (Macintosh; Intel Mac OS X 10_15_6...</td>\n",
       "      <td>Macintosh</td>\n",
       "      <td>Safari</td>\n",
       "      <td>14.0.2</td>\n",
       "      <td>OS X</td>\n",
       "      <td>10_15_6</td>\n",
       "    </tr>\n",
       "  </tbody>\n",
       "</table>\n",
       "</div>"
      ],
      "text/plain": [
       "     run_id  prolificID  chinFirst  choiceTask_amountLeftFirst  \\\n",
       "514    1000           0        0.0                         1.0   \n",
       "1040  14000      LP2202        0.0                         0.0   \n",
       "1051  15000     LP22022        1.0                         1.0   \n",
       "1057  16000        L345        0.0                         0.0   \n",
       "1063  17000        L345        1.0                         1.0   \n",
       "1065  19000     Liv2020        0.0                         1.0   \n",
       "1075   2000           0        1.0                         1.0   \n",
       "1085  20000     2020Liv        1.0                         0.0   \n",
       "2126   7000    Ka61Kl61        0.0                         0.0   \n",
       "2653   9000      ka1501        1.0                         1.0   \n",
       "2665  22000  Studie1970        1.0                         1.0   \n",
       "2671  24000  Studie1970        1.0                         0.0   \n",
       "\n",
       "                               webcam_label  webcam_fps  webcam_aspectRatio  \\\n",
       "514     Logitech HD Webcam C310 (046d:081b)   30.000000            0.001042   \n",
       "1040              Integrierte iSight-Kamera   30.000030            1.000000   \n",
       "1051              Integrierte iSight-Kamera   30.000030            1.000000   \n",
       "1057              Integrierte iSight-Kamera   30.000030            1.000000   \n",
       "1063  Integrierte iSight-Kamera (05ac:8507)   30.000031            0.002083   \n",
       "1065  Integrierte iSight-Kamera (05ac:8507)   30.000031            0.002083   \n",
       "1075    Logitech HD Webcam C310 (046d:081b)   30.000000            0.001042   \n",
       "1085  Integrierte iSight-Kamera (05ac:8507)   30.000031            0.002083   \n",
       "2126             HD User Facing (04f2:b64f)   30.000000            0.001389   \n",
       "2653             HD User Facing (04f2:b64f)   30.000000            0.001389   \n",
       "2665        FaceTime HD-Kamera (integriert)   29.970000            0.001389   \n",
       "2671        FaceTime HD-Kamera (integriert)   29.970000            0.001389   \n",
       "\n",
       "                                             user_agent     device browser  \\\n",
       "514   Mozilla/5.0 (Windows NT 10.0; Win64; x64) Appl...     WebKit  Chrome   \n",
       "1040  Mozilla/5.0 (Macintosh; Intel Mac OS X 10_13_6...  Macintosh  Safari   \n",
       "1051  Mozilla/5.0 (Macintosh; Intel Mac OS X 10_13_6...  Macintosh  Safari   \n",
       "1057  Mozilla/5.0 (Macintosh; Intel Mac OS X 10_13_6...  Macintosh  Safari   \n",
       "1063  Mozilla/5.0 (Macintosh; Intel Mac OS X 10_13_6...  Macintosh  Chrome   \n",
       "1065  Mozilla/5.0 (Macintosh; Intel Mac OS X 10_13_6...  Macintosh  Chrome   \n",
       "1075  Mozilla/5.0 (Windows NT 10.0; Win64; x64) Appl...     WebKit  Chrome   \n",
       "1085  Mozilla/5.0 (Macintosh; Intel Mac OS X 10_13_6...  Macintosh  Chrome   \n",
       "2126  Mozilla/5.0 (Windows NT 10.0; Win64; x64) Appl...     WebKit  Chrome   \n",
       "2653  Mozilla/5.0 (Windows NT 10.0; Win64; x64) Appl...     WebKit  Chrome   \n",
       "2665  Mozilla/5.0 (Macintosh; Intel Mac OS X 10_15_6...  Macintosh  Safari   \n",
       "2671  Mozilla/5.0 (Macintosh; Intel Mac OS X 10_15_6...  Macintosh  Safari   \n",
       "\n",
       "     browser_version platform platform_version  \n",
       "514    87.0.4280.141  Windows               10  \n",
       "1040          11.1.2     OS X          10_13_6  \n",
       "1051          11.1.2     OS X          10_13_6  \n",
       "1057          11.1.2     OS X          10_13_6  \n",
       "1063   87.0.4280.141     OS X          10_13_6  \n",
       "1065   87.0.4280.141     OS X          10_13_6  \n",
       "1075   87.0.4280.141  Windows               10  \n",
       "1085   87.0.4280.141     OS X          10_13_6  \n",
       "2126   87.0.4280.141  Windows               10  \n",
       "2653   87.0.4280.141  Windows               10  \n",
       "2665          14.0.2     OS X          10_15_6  \n",
       "2671          14.0.2     OS X          10_15_6  "
      ]
     },
     "execution_count": 8,
     "metadata": {},
     "output_type": "execute_result"
    }
   ],
   "source": [
    "subjects_failedSetups = []\n",
    "for subject in data_raw['run_id'].unique():\n",
    "    maxTrialIndex = data_raw.loc[data_raw['run_id']==subject, ['trial_index']].max()\n",
    "    if int(maxTrialIndex) < 15:\n",
    "        subjects_failedSetups.append(subject)\n",
    "\n",
    "failedSetups = data_raw.loc[\n",
    "    data_raw['run_id'].isin(subjects_failedSetups), \n",
    "    [\n",
    "        'run_id', 'prolificID', 'chinFirst', 'choiceTask_amountLeftFirst',\n",
    "        'webcam_label', 'webcam_fps', 'webcam_aspectRatio',    \n",
    "        'user_agent', 'device', 'browser', 'browser_version', \n",
    "        'platform', 'platform_version', \n",
    "        # 'stimulus', 'trial_type', 'trial_index', 'trial_duration', \n",
    "        # 'et_data'\n",
    "    ]\n",
    "].drop_duplicates()\n",
    "    \n",
    "data_raw = data_raw.loc[~data_raw['run_id'].isin(subjects_failedSetups), :]\n",
    "\n",
    "print(data_raw['run_id'].unique())\n",
    "failedSetups"
   ]
  },
  {
   "cell_type": "markdown",
   "metadata": {},
   "source": [
    "### No EyeTracking Data"
   ]
  },
  {
   "cell_type": "code",
   "execution_count": 9,
   "metadata": {},
   "outputs": [
    {
     "data": {
      "text/html": [
       "<div>\n",
       "<style scoped>\n",
       "    .dataframe tbody tr th:only-of-type {\n",
       "        vertical-align: middle;\n",
       "    }\n",
       "\n",
       "    .dataframe tbody tr th {\n",
       "        vertical-align: top;\n",
       "    }\n",
       "\n",
       "    .dataframe thead th {\n",
       "        text-align: right;\n",
       "    }\n",
       "</style>\n",
       "<table border=\"1\" class=\"dataframe\">\n",
       "  <thead>\n",
       "    <tr style=\"text-align: right;\">\n",
       "      <th></th>\n",
       "      <th>run_id</th>\n",
       "      <th>prolificID</th>\n",
       "      <th>chinFirst</th>\n",
       "      <th>choiceTask_amountLeftFirst</th>\n",
       "      <th>webcam_label</th>\n",
       "      <th>webcam_fps</th>\n",
       "      <th>webcam_aspectRatio</th>\n",
       "      <th>user_agent</th>\n",
       "      <th>device</th>\n",
       "      <th>browser</th>\n",
       "      <th>browser_version</th>\n",
       "      <th>platform</th>\n",
       "      <th>platform_version</th>\n",
       "    </tr>\n",
       "  </thead>\n",
       "  <tbody>\n",
       "  </tbody>\n",
       "</table>\n",
       "</div>"
      ],
      "text/plain": [
       "Empty DataFrame\n",
       "Columns: [run_id, prolificID, chinFirst, choiceTask_amountLeftFirst, webcam_label, webcam_fps, webcam_aspectRatio, user_agent, device, browser, browser_version, platform, platform_version]\n",
       "Index: []"
      ]
     },
     "execution_count": 9,
     "metadata": {},
     "output_type": "execute_result"
    }
   ],
   "source": [
    "subjects_noet_data = []\n",
    "for subject in data_raw['run_id'].unique():\n",
    "    if len(data_raw.loc[data_raw['run_id']==subject, 'et_data'].unique()) < 4:\n",
    "        subjects_noet_data.append(subject)\n",
    "\n",
    "noet_data = data_raw.loc[\n",
    "    data_raw['run_id'].isin(subjects_failedSetups), \n",
    "    [\n",
    "        'run_id', 'prolificID', 'chinFirst', 'choiceTask_amountLeftFirst',\n",
    "        'webcam_label', 'webcam_fps', 'webcam_aspectRatio',    \n",
    "        'user_agent', 'device', 'browser', 'browser_version', \n",
    "        'platform', 'platform_version', \n",
    "        # 'stimulus', 'trial_type', 'trial_index', 'trial_duration', \n",
    "        # 'et_data'\n",
    "    ]\n",
    "].drop_duplicates()\n",
    "    \n",
    "data_raw = data_raw.loc[~data_raw['run_id'].isin(subjects_noet_data), :]\n",
    "\n",
    "noet_data"
   ]
  },
  {
   "cell_type": "code",
   "execution_count": 10,
   "metadata": {},
   "outputs": [
    {
     "data": {
      "text/plain": [
       "array([0, 11000, 21000, 3000, 8000, 2], dtype=object)"
      ]
     },
     "execution_count": 10,
     "metadata": {},
     "output_type": "execute_result"
    }
   ],
   "source": [
    "data_raw.run_id.unique()"
   ]
  },
  {
   "cell_type": "markdown",
   "metadata": {},
   "source": [
    "### Empty ET trials"
   ]
  },
  {
   "cell_type": "code",
   "execution_count": 11,
   "metadata": {
    "scrolled": true
   },
   "outputs": [
    {
     "name": "stdout",
     "output_type": "stream",
     "text": [
      "Values that probably represent empty values\n",
      "\"\n",
      "{\"history\":[]}\n"
     ]
    },
    {
     "data": {
      "text/plain": [
       "run_id  chinFirst  task_nr  chin  trial_type            \n",
       "3000    0.0        2        1     eyetracking-fix-object     1\n",
       "                   3        1     eyetracking-fix-object    14\n",
       "21000   0.0        2        1     eyetracking-fix-object     1\n",
       "                   3        1     eyetracking-choice         2\n",
       "                                  eyetracking-fix-object     1\n",
       "Name: et_data, dtype: int64"
      ]
     },
     "execution_count": 11,
     "metadata": {},
     "output_type": "execute_result"
    }
   ],
   "source": [
    "print('Values that probably represent empty values')\n",
    "for cell in data_raw[\"et_data\"].unique():\n",
    "    if len(cell) < 50:\n",
    "        print(cell)\n",
    "\n",
    "data_raw[\"et_data\"] = data_raw[\"et_data\"].apply(str)\n",
    "\n",
    "if np.invert('emptyETData' in globals()):\n",
    "    emptyETData = data_raw.loc[data_raw['et_data'].str.contains(\"\"\"\\[]}\"\"\"), :] \\\n",
    "        .groupby(['run_id', 'chinFirst', 'task_nr', 'chin', 'trial_type']) \\\n",
    "            ['et_data'].count()\n",
    "\n",
    "data_raw = data_raw.loc[~data_raw['et_data'].str.contains(\"\"\"\\[]}\"\"\"), :]\n",
    "\n",
    "emptyETData"
   ]
  },
  {
   "cell_type": "markdown",
   "metadata": {},
   "source": [
    "### Duplicate Prolific ID's"
   ]
  },
  {
   "cell_type": "code",
   "execution_count": 12,
   "metadata": {},
   "outputs": [
    {
     "name": "stdout",
     "output_type": "stream",
     "text": [
      "Success: No duplicate subjects found\n"
     ]
    }
   ],
   "source": [
    "data_raw.loc[data_raw['run_id']==2, 'prolificID'] = 'Tim2'\n",
    "\n",
    "\n",
    "duplicates = data_raw.loc[:, ['prolificID', 'trial_index']].duplicated()\n",
    "duplicateSubjects = data_raw.loc[duplicates, 'run_id'].unique()\n",
    "\n",
    "if len(duplicateSubjects) > 0:\n",
    "    print('! Attention: Duplicate subjects: Check out the following: \\n')\n",
    "    print(duplicateSubjects)\n",
    "else:\n",
    "    print('Success: No duplicate subjects found')"
   ]
  },
  {
   "cell_type": "markdown",
   "metadata": {},
   "source": [
    "## Add other variables"
   ]
  },
  {
   "cell_type": "code",
   "execution_count": 13,
   "metadata": {},
   "outputs": [],
   "source": [
    "data_raw = convertToNumeric(data_raw, [\n",
    "            'run_id', 'subject', 'chinFirst', 'chin', 'task_nr', 'trial_index', # Int\n",
    "            'key_press', \n",
    "            'x_pos', 'y_pos', 'time_elapsed', 'trial_duration',\n",
    "            'rt',\n",
    "            'window_width', 'window_height', \n",
    "        ]\n",
    "   )"
   ]
  },
  {
   "cell_type": "code",
   "execution_count": 14,
   "metadata": {
    "scrolled": true
   },
   "outputs": [
    {
     "name": "stderr",
     "output_type": "stream",
     "text": [
      "C:\\Users\\User\\Anaconda3\\lib\\site-packages\\ipykernel_launcher.py:6: FutureWarning: Indexing with multiple keys (implicitly converted to a tuple of keys) will be deprecated, use a list instead.\n",
      "  \n"
     ]
    }
   ],
   "source": [
    "def addWindowSize(data):\n",
    "    output = data\n",
    "    if \"window_width_max\" in data.columns:\n",
    "        print('window width_max already added')\n",
    "    else:\n",
    "        grouped = data.groupby([\"run_id\", \"subject\"])[\"window_width\", \"window_height\"].max().reset_index()\n",
    "        grouped.columns = [\"run_id\", \"subject\", \"window_width_max\", \"window_height_max\"]\n",
    "        grouped['window_diagonal_max'] = np.sqrt(grouped['window_width_max']**2 + grouped['window_height_max']**2)\n",
    "        output = data.merge(grouped, \n",
    "                            on=['run_id', \"subject\"],\n",
    "                            how='left')\n",
    "    return output\n",
    "\n",
    "data_raw = addWindowSize(data_raw)\n",
    "data_raw['window_diagonal'] = np.sqrt(data_raw['window_width']**2 + \n",
    "                                      data_raw['window_height']**2)"
   ]
  },
  {
   "cell_type": "markdown",
   "metadata": {},
   "source": [
    "## Take a look"
   ]
  },
  {
   "cell_type": "code",
   "execution_count": 15,
   "metadata": {
    "scrolled": true
   },
   "outputs": [
    {
     "data": {
      "text/html": [
       "<div>\n",
       "<style scoped>\n",
       "    .dataframe tbody tr th:only-of-type {\n",
       "        vertical-align: middle;\n",
       "    }\n",
       "\n",
       "    .dataframe tbody tr th {\n",
       "        vertical-align: top;\n",
       "    }\n",
       "\n",
       "    .dataframe thead th {\n",
       "        text-align: right;\n",
       "    }\n",
       "</style>\n",
       "<table border=\"1\" class=\"dataframe\">\n",
       "  <thead>\n",
       "    <tr style=\"text-align: right;\">\n",
       "      <th></th>\n",
       "      <th>prolificID</th>\n",
       "      <th>run_id</th>\n",
       "    </tr>\n",
       "  </thead>\n",
       "  <tbody>\n",
       "    <tr>\n",
       "      <th>0</th>\n",
       "      <td>Tim</td>\n",
       "      <td>0</td>\n",
       "    </tr>\n",
       "    <tr>\n",
       "      <th>514</th>\n",
       "      <td>ka1501</td>\n",
       "      <td>11000</td>\n",
       "    </tr>\n",
       "    <tr>\n",
       "      <th>1028</th>\n",
       "      <td>Livaila22</td>\n",
       "      <td>21000</td>\n",
       "    </tr>\n",
       "    <tr>\n",
       "      <th>1540</th>\n",
       "      <td>0</td>\n",
       "      <td>3000</td>\n",
       "    </tr>\n",
       "    <tr>\n",
       "      <th>2040</th>\n",
       "      <td>Ka61Kl61</td>\n",
       "      <td>8000</td>\n",
       "    </tr>\n",
       "    <tr>\n",
       "      <th>2555</th>\n",
       "      <td>Tim2</td>\n",
       "      <td>2</td>\n",
       "    </tr>\n",
       "  </tbody>\n",
       "</table>\n",
       "</div>"
      ],
      "text/plain": [
       "     prolificID  run_id\n",
       "0           Tim       0\n",
       "514      ka1501   11000\n",
       "1028  Livaila22   21000\n",
       "1540          0    3000\n",
       "2040   Ka61Kl61    8000\n",
       "2555       Tim2       2"
      ]
     },
     "execution_count": 15,
     "metadata": {},
     "output_type": "execute_result"
    }
   ],
   "source": [
    "data_raw.loc[:, ['prolificID', 'run_id']].drop_duplicates()"
   ]
  },
  {
   "cell_type": "markdown",
   "metadata": {},
   "source": [
    "# data_et"
   ]
  },
  {
   "cell_type": "code",
   "execution_count": 19,
   "metadata": {},
   "outputs": [
    {
     "data": {
      "text/plain": [
       "array(['\"',\n",
       "       '{\"history\":[{\"relative-x\":0.50859375$\"relative-y\":0.4930555555555556$\"elapse-time\":92.10500004701316}${\"relative-x\":0.54140625$\"relative-y\":0.4027777777777778$\"elapse-time\":139.42000013776124}${\"relative-x\":0.5421875$\"relative-y\":0.38333333333333336$\"elapse-time\":164.02500006370246}${\"relative-x\":0.53359375$\"relative-y\":0.39305555555555555$\"elapse-time\":187.48000008054078}${\"relative-x\":0.53671875$\"relative-y\":0.4263888888888889$\"elapse-time\":211.36000007390976}${\"relative-x\":0.56953125$\"relative-y\":0.375$\"elapse-time\":235.74999999254942}${\"relative-x\":0.56953125$\"relative-y\":0.375$\"elapse-time\":260.3649999946356}${\"relative-x\":0.5578125$\"relative-y\":0.39444444444444443$\"elapse-time\":285.24000011384487}${\"relative-x\":0.57578125$\"relative-y\":0.42777777777777776$\"elapse-time\":308.30000014975667}${\"relative-x\":0.5625$\"relative-y\":0.3486111111111111$\"elapse-time\":334.4100001268089}${\"relative-x\":0.56171875$\"relative-y\":0.3638888888888889$\"elapse-time\":360.67500011995435}${\"relative-x\":0.56171875$\"relative-y\":0.3861111111111111$\"elapse-time\":384.9649999756366}${\"relative-x\":0.56953125$\"relative-y\":0.41805555555555557$\"elapse-time\":406.7650001961738}${\"relative-x\":0.56875$\"relative-y\":0.41944444444444445$\"elapse-time\":430.2050000987947}${\"relative-x\":0.56484375$\"relative-y\":0.33611111111111114$\"elapse-time\":452.8250000439584}${\"relative-x\":0.5625$\"relative-y\":0.35555555555555557$\"elapse-time\":477.7650001924485}${\"relative-x\":0.5671875$\"relative-y\":0.3375$\"elapse-time\":502.2150001022965}${\"relative-x\":0.57890625$\"relative-y\":0.3527777777777778$\"elapse-time\":526.2649999931455}${\"relative-x\":0.5828125$\"relative-y\":0.3388888888888889$\"elapse-time\":553.8300001062453}${\"relative-x\":0.55$\"relative-y\":0.3611111111111111$\"elapse-time\":583.9450000785291}${\"relative-x\":0.5796875$\"relative-y\":0.325$\"elapse-time\":615.5650001019239}${\"relative-x\":0.5734375$\"relative-y\":0.33194444444444443$\"elapse-time\":640.5350000131875}${\"relative-x\":0.62734375$\"relative-y\":0.2722222222222222$\"elapse-time\":673.685000045225}${\"relative-x\":0.59375$\"relative-y\":0.25972222222222224$\"elapse-time\":699.5250000618398}${\"relative-x\":0.65234375$\"relative-y\":0.275$\"elapse-time\":733.5150002036244}${\"relative-x\":0.67421875$\"relative-y\":0.23472222222222222$\"elapse-time\":759.4500000122935}${\"relative-x\":0.70546875$\"relative-y\":0.22916666666666666$\"elapse-time\":792.2249999828637}${\"relative-x\":0.6625$\"relative-y\":0.2263888888888889$\"elapse-time\":844.0849999897182}${\"relative-x\":0.734375$\"relative-y\":0.3527777777777778$\"elapse-time\":883.3149999845773}${\"relative-x\":0.7015625$\"relative-y\":0.31666666666666665$\"elapse-time\":911.5850001107901}${\"relative-x\":0.7421875$\"relative-y\":0.48055555555555557$\"elapse-time\":943.9600000623614}${\"relative-x\":0.64765625$\"relative-y\":0.1597222222222222$\"elapse-time\":970.4800001345575}${\"relative-x\":0.74140625$\"relative-y\":0.5166666666666667$\"elapse-time\":1002.9300001915544}${\"relative-x\":0.70625$\"relative-y\":0.5138888888888888$\"elapse-time\":1027.680000057444}${\"relative-x\":0.7546875$\"relative-y\":0.32222222222222224$\"elapse-time\":1064.7350000217557}${\"relative-x\":0.66484375$\"relative-y\":0.375$\"elapse-time\":1089.9500001687557}${\"relative-x\":0.65703125$\"relative-y\":0.4361111111111111$\"elapse-time\":1115.9450002014637}${\"relative-x\":0.61796875$\"relative-y\":0.39305555555555555$\"elapse-time\":1144.910000031814}${\"relative-x\":0.6515625$\"relative-y\":0.44027777777777777$\"elapse-time\":1171.6599999926984}${\"relative-x\":0.71015625$\"relative-y\":0.5569444444444445$\"elapse-time\":1198.9649999886751}${\"relative-x\":0.7109375$\"relative-y\":0.29444444444444445$\"elapse-time\":1225.4050001502037}${\"relative-x\":0.79140625$\"relative-y\":0.5208333333333334$\"elapse-time\":1261.970000108704}${\"relative-x\":0.821875$\"relative-y\":0.5402777777777777$\"elapse-time\":1288.8700000476092}${\"relative-x\":0.81953125$\"relative-y\":0.5652777777777778$\"elapse-time\":1314.0000000130385}${\"relative-x\":0.821875$\"relative-y\":0.5930555555555556$\"elapse-time\":1348.4400000888854}${\"relative-x\":0.7921875$\"relative-y\":0.4847222222222222$\"elapse-time\":1375.2350001595914}${\"relative-x\":0.81484375$\"relative-y\":0.5263888888888889$\"elapse-time\":1401.6350000165403}${\"relative-x\":0.80703125$\"relative-y\":0.48055555555555557$\"elapse-time\":1428.3050000667572}${\"relative-x\":0.809375$\"relative-y\":0.44166666666666665$\"elapse-time\":1454.9600000027567}${\"relative-x\":0.81796875$\"relative-y\":0.44166666666666665$\"elapse-time\":1479.5600001234561}${\"relative-x\":0.7796875$\"relative-y\":0.3$\"elapse-time\":1514.0500001143664}${\"relative-x\":0.7109375$\"relative-y\":0.5444444444444444$\"elapse-time\":1540.48000019975}${\"relative-x\":0.78515625$\"relative-y\":0.5625$\"elapse-time\":1567.9399999789894}${\"relative-x\":0.80703125$\"relative-y\":0.5722222222222222$\"elapse-time\":1595.4050000291318}${\"relative-x\":0.78515625$\"relative-y\":0.5722222222222222$\"elapse-time\":1624.6650000102818}${\"relative-x\":0.73203125$\"relative-y\":0.35138888888888886$\"elapse-time\":1650.3650001250207}${\"relative-x\":0.821875$\"relative-y\":0.6041666666666666$\"elapse-time\":1687.1850001625717}${\"relative-x\":0.83046875$\"relative-y\":0.6902777777777778$\"elapse-time\":1712.7750001382083}${\"relative-x\":0.82890625$\"relative-y\":0.6847222222222222$\"elapse-time\":1739.6350000053644}${\"relative-x\":0.82734375$\"relative-y\":0.6666666666666666$\"elapse-time\":1766.2700000219047}${\"relative-x\":0.8$\"relative-y\":0.43333333333333335$\"elapse-time\":1793.1700001936406}${\"relative-x\":0.7703125$\"relative-y\":0.41388888888888886$\"elapse-time\":1817.7900000009686}${\"relative-x\":0.778125$\"relative-y\":0.4152777777777778$\"elapse-time\":1841.9749999884516}${\"relative-x\":0.8265625$\"relative-y\":0.5458333333333333$\"elapse-time\":1871.6450000647455}${\"relative-x\":0.8265625$\"relative-y\":0.5458333333333333$\"elapse-time\":1896.6400001663715}${\"relative-x\":0.8375$\"relative-y\":0.5583333333333333$\"elapse-time\":1922.9500000365078}${\"relative-x\":0.8265625$\"relative-y\":0.5472222222222223$\"elapse-time\":1958.6700000800192}${\"relative-x\":0.8296875$\"relative-y\":0.55$\"elapse-time\":1985.1699999999255}${\"relative-x\":0.79453125$\"relative-y\":0.5305555555555556$\"elapse-time\":2008.7100001983345}${\"relative-x\":0.803125$\"relative-y\":0.5208333333333334$\"elapse-time\":2035.3250000625849}${\"relative-x\":0.828125$\"relative-y\":0.5263888888888889$\"elapse-time\":2060.23499998264}${\"relative-x\":0.80390625$\"relative-y\":0.5361111111111111$\"elapse-time\":2086.1200001090765}${\"relative-x\":0.825$\"relative-y\":0.5430555555555555$\"elapse-time\":2118.5600000899285}${\"relative-x\":0.809375$\"relative-y\":0.5347222222222222$\"elapse-time\":2143.1850001681596}${\"relative-x\":0.81328125$\"relative-y\":0.5291666666666667$\"elapse-time\":2168.3800001628697}${\"relative-x\":0.821875$\"relative-y\":0.5361111111111111$\"elapse-time\":2195.784999988973}${\"relative-x\":0.81328125$\"relative-y\":0.5375$\"elapse-time\":2221.2849999777973}${\"relative-x\":0.82734375$\"relative-y\":0.5375$\"elapse-time\":2247.124999994412}${\"relative-x\":0.81796875$\"relative-y\":0.5541666666666667$\"elapse-time\":2279.9900001846254}${\"relative-x\":0.81015625$\"relative-y\":0.5430555555555555$\"elapse-time\":2304.8700001090765}${\"relative-x\":0.84453125$\"relative-y\":0.5458333333333333$\"elapse-time\":2329.7000001184642}${\"relative-x\":0.84375$\"relative-y\":0.5375$\"elapse-time\":2379.655000055209}${\"relative-x\":0.81171875$\"relative-y\":0.5694444444444444$\"elapse-time\":2410.649999976158}${\"relative-x\":0.81015625$\"relative-y\":0.5611111111111111$\"elapse-time\":2437.8949999809265}${\"relative-x\":0.809375$\"relative-y\":0.5569444444444445$\"elapse-time\":2469.6700000204146}${\"relative-x\":0.846875$\"relative-y\":0.5430555555555555$\"elapse-time\":2496.2250001262873}${\"relative-x\":0.84609375$\"relative-y\":0.5361111111111111$\"elapse-time\":2522.2650000359863}${\"relative-x\":0.815625$\"relative-y\":0.5541666666666667$\"elapse-time\":2546.1300001479685}${\"relative-x\":0.83984375$\"relative-y\":0.5583333333333333$\"elapse-time\":2571.975000202656}${\"relative-x\":0.828125$\"relative-y\":0.5319444444444444$\"elapse-time\":2608.0800001509488}${\"relative-x\":0.83359375$\"relative-y\":0.5333333333333333$\"elapse-time\":2631.800000090152}${\"relative-x\":0.84609375$\"relative-y\":0.5388888888888889$\"elapse-time\":2657.420000061393}${\"relative-x\":0.8484375$\"relative-y\":0.5527777777777778$\"elapse-time\":2685.2500000968575}${\"relative-x\":0.859375$\"relative-y\":0.5555555555555556$\"elapse-time\":2709.0350000653416}${\"relative-x\":0.79765625$\"relative-y\":0.5555555555555556$\"elapse-time\":2735.415000002831}${\"relative-x\":0.79765625$\"relative-y\":0.5555555555555556$\"elapse-time\":2761.7950001731515}${\"relative-x\":0.825$\"relative-y\":0.5486111111111112$\"elapse-time\":2794.495000038296}${\"relative-x\":0.82109375$\"relative-y\":0.5416666666666666$\"elapse-time\":2822.61999999173}${\"relative-x\":0.81484375$\"relative-y\":0.55$\"elapse-time\":2846.3950001168996}${\"relative-x\":0.81484375$\"relative-y\":0.55$\"elapse-time\":2873.155000153929}${\"relative-x\":0.8234375$\"relative-y\":0.5430555555555555$\"elapse-time\":2901.659999974072}${\"relative-x\":0.83125$\"relative-y\":0.5541666666666667$\"elapse-time\":2928.3200001809746}${\"relative-x\":0.81953125$\"relative-y\":0.5458333333333333$\"elapse-time\":2964.3700001761317}${\"relative-x\":0.82734375$\"relative-y\":0.55$\"elapse-time\":2989.8750002030283}${\"relative-x\":0.825$\"relative-y\":0.5402777777777777$\"elapse-time\":3015.110000036657}${\"relative-x\":0.8375$\"relative-y\":0.55$\"elapse-time\":3041.5550000034273}${\"relative-x\":0.8375$\"relative-y\":0.55$\"elapse-time\":3071.430000010878}${\"relative-x\":0.83125$\"relative-y\":0.5541666666666667$\"elapse-time\":3108.320000115782}${\"relative-x\":0.8390625$\"relative-y\":0.5430555555555555$\"elapse-time\":3134.169999975711}${\"relative-x\":0.8390625$\"relative-y\":0.5430555555555555$\"elapse-time\":3159.8750001285225}${\"relative-x\":0.82890625$\"relative-y\":0.55$\"elapse-time\":3183.6300001014024}${\"relative-x\":0.8265625$\"relative-y\":0.5458333333333333$\"elapse-time\":3211.800000164658}${\"relative-x\":0.8265625$\"relative-y\":0.5458333333333333$\"elapse-time\":3235.910000046715}${\"relative-x\":0.83984375$\"relative-y\":0.5541666666666667$\"elapse-time\":3260.170000139624}${\"relative-x\":0.83125$\"relative-y\":0.5569444444444445$\"elapse-time\":3285.2750001475215}${\"relative-x\":0.83203125$\"relative-y\":0.5652777777777778$\"elapse-time\":3309.7449999768287}${\"relative-x\":0.83203125$\"relative-y\":0.5652777777777778$\"elapse-time\":3336.030000122264}${\"relative-x\":0.8390625$\"relative-y\":0.5513888888888889$\"elapse-time\":3364.500000141561}${\"relative-x\":0.81484375$\"relative-y\":0.5486111111111112$\"elapse-time\":3391.245000064373}${\"relative-x\":0.84765625$\"relative-y\":0.5388888888888889$\"elapse-time\":3424.475000007078}${\"relative-x\":0.82109375$\"relative-y\":0.5625$\"elapse-time\":3451.375000178814}${\"relative-x\":0.84609375$\"relative-y\":0.5555555555555556$\"elapse-time\":3477.2200000006706}${\"relative-x\":0.83671875$\"relative-y\":0.5444444444444444$\"elapse-time\":3503.3299999777228}${\"relative-x\":0.83671875$\"relative-y\":0.5444444444444444$\"elapse-time\":3527.415000135079}${\"relative-x\":0.82578125$\"relative-y\":0.5472222222222223$\"elapse-time\":3555.180000141263}${\"relative-x\":0.84609375$\"relative-y\":0.5444444444444444$\"elapse-time\":3589.885000139475}${\"relative-x\":0.82109375$\"relative-y\":0.5555555555555556$\"elapse-time\":3615.26000010781}${\"relative-x\":0.825$\"relative-y\":0.5555555555555556$\"elapse-time\":3644.960000179708}${\"relative-x\":0.79921875$\"relative-y\":0.5555555555555556$\"elapse-time\":3670.050000073388}${\"relative-x\":0.8015625$\"relative-y\":0.5458333333333333$\"elapse-time\":3697.010000003502}${\"relative-x\":0.81328125$\"relative-y\":0.5472222222222223$\"elapse-time\":3722.47500019148}${\"relative-x\":0.8234375$\"relative-y\":0.5402777777777777$\"elapse-time\":3750.884999986738}${\"relative-x\":0.834375$\"relative-y\":0.5444444444444444$\"elapse-time\":3787.525000050664}${\"relative-x\":0.825$\"relative-y\":0.5444444444444444$\"elapse-time\":3811.519999988377}${\"relative-x\":0.82421875$\"relative-y\":0.5416666666666666$\"elapse-time\":3840.0799999944866}${\"relative-x\":0.82421875$\"relative-y\":0.5416666666666666$\"elapse-time\":3868.8750001601875}${\"relative-x\":0.82890625$\"relative-y\":0.5597222222222222$\"elapse-time\":3892.7350000012666}${\"relative-x\":0.8234375$\"relative-y\":0.5513888888888889$\"elapse-time\":3943.720000097528}${\"relative-x\":0.83515625$\"relative-y\":0.55$\"elapse-time\":3985.1699999999255}${\"relative-x\":0.8328125$\"relative-y\":0.5375$\"elapse-time\":4009.1650001704693}${\"relative-x\":0.8328125$\"relative-y\":0.5375$\"elapse-time\":4036.8449999950826}]}',\n",
       "       '{\"history\":[{\"relative-x\":0.81640625$\"relative-y\":0.5430555555555555$\"elapse-time\":126.3300001155585}${\"relative-x\":0.68203125$\"relative-y\":0.48194444444444445$\"elapse-time\":182.45000019669533}${\"relative-x\":0.7046875$\"relative-y\":0.4791666666666667$\"elapse-time\":217.04500005580485}${\"relative-x\":0.74453125$\"relative-y\":0.5305555555555556$\"elapse-time\":243.03000001236796}${\"relative-x\":0.7$\"relative-y\":0.4861111111111111$\"elapse-time\":274.3400000035763}${\"relative-x\":0.7765625$\"relative-y\":0.5319444444444444$\"elapse-time\":300.810000160709}${\"relative-x\":0.74140625$\"relative-y\":0.5208333333333334$\"elapse-time\":332.7550000976771}${\"relative-x\":0.76796875$\"relative-y\":0.5291666666666667$\"elapse-time\":358.3700000308454}${\"relative-x\":0.7453125$\"relative-y\":0.6277777777777778$\"elapse-time\":391.23000018298626}${\"relative-x\":0.7375$\"relative-y\":0.6069444444444444$\"elapse-time\":420.030000153929}${\"relative-x\":0.72578125$\"relative-y\":0.6513888888888889$\"elapse-time\":453.06000020354986}${\"relative-x\":0.753125$\"relative-y\":0.6944444444444444$\"elapse-time\":479.73000002093613}${\"relative-x\":0.79140625$\"relative-y\":0.8291666666666667$\"elapse-time\":514.2400001641363}${\"relative-x\":0.81015625$\"relative-y\":0.8180555555555555$\"elapse-time\":540.3650000225753}${\"relative-x\":0.82109375$\"relative-y\":0.7694444444444445$\"elapse-time\":568.8550001941621}${\"relative-x\":0.796875$\"relative-y\":0.7166666666666667$\"elapse-time\":595.4550001770258}${\"relative-x\":0.796875$\"relative-y\":0.7166666666666667$\"elapse-time\":621.1550000589341}${\"relative-x\":0.8484375$\"relative-y\":0.7847222222222222$\"elapse-time\":654.1399999987334}${\"relative-x\":0.78671875$\"relative-y\":0.6986111111111111$\"elapse-time\":681.8650001659989}${\"relative-x\":0.8078125$\"relative-y\":0.9180555555555555$\"elapse-time\":714.125000173226}${\"relative-x\":0.790625$\"relative-y\":0.8972222222222223$\"elapse-time\":741.8500001076609}${\"relative-x\":0.7953125$\"relative-y\":0.9527777777777777$\"elapse-time\":773.8950001075864}${\"relative-x\":0.8171875$\"relative-y\":0.9013888888888889$\"elapse-time\":799.305000109598}${\"relative-x\":0.83828125$\"relative-y\":0.8680555555555556$\"elapse-time\":825.7550001144409}${\"relative-x\":0.82109375$\"relative-y\":0.9097222222222222$\"elapse-time\":853.7950001191348}${\"relative-x\":0.82109375$\"relative-y\":0.9097222222222222$\"elapse-time\":881.6200001165271}${\"relative-x\":0.81953125$\"relative-y\":0.8625$\"elapse-time\":906.8450001068413}${\"relative-x\":0.78671875$\"relative-y\":0.8111111111111111$\"elapse-time\":942.2850001137704}${\"relative-x\":0.790625$\"relative-y\":0.8611111111111112$\"elapse-time\":970.7300001755357}${\"relative-x\":0.7609375$\"relative-y\":0.8388888888888889$\"elapse-time\":995.9050000179559}${\"relative-x\":0.7828125$\"relative-y\":0.675$\"elapse-time\":1541.4599999785423}${\"relative-x\":0.84375$\"relative-y\":0.7263888888888889$\"elapse-time\":1623.4900001436472}${\"relative-x\":0.809375$\"relative-y\":0.7180555555555556$\"elapse-time\":1682.075000135228}${\"relative-x\":0.82265625$\"relative-y\":0.8388888888888889$\"elapse-time\":1716.285000089556}${\"relative-x\":0.8546875$\"relative-y\":0.8263888888888888$\"elapse-time\":1743.3400000445545}${\"relative-x\":0.85078125$\"relative-y\":0.7569444444444444$\"elapse-time\":1769.8400001972914}${\"relative-x\":0.8671875$\"relative-y\":0.8263888888888888$\"elapse-time\":1796.2750000879169}${\"relative-x\":0.8640625$\"relative-y\":0.7666666666666667$\"elapse-time\":1821.6550000943244}${\"relative-x\":0.846875$\"relative-y\":0.775$\"elapse-time\":1848.0299999937415}${\"relative-x\":0.78203125$\"relative-y\":0.8486111111111111$\"elapse-time\":1874.3700000923127}${\"relative-x\":0.8296875$\"relative-y\":0.7763888888888889$\"elapse-time\":1900.0450000166893}${\"relative-x\":0.825$\"relative-y\":0.7708333333333334$\"elapse-time\":1924.8300001490861}${\"relative-x\":0.8171875$\"relative-y\":0.7916666666666666$\"elapse-time\":1957.0800000801682}${\"relative-x\":0.81484375$\"relative-y\":0.8194444444444444$\"elapse-time\":1982.6950000133365}${\"relative-x\":0.80390625$\"relative-y\":0.8013888888888889$\"elapse-time\":2011.3400002010167}${\"relative-x\":0.76171875$\"relative-y\":0.8333333333333334$\"elapse-time\":2038.325000088662}${\"relative-x\":0.828125$\"relative-y\":0.8125$\"elapse-time\":2065.954999998212}${\"relative-x\":0.7515625$\"relative-y\":0.8583333333333333$\"elapse-time\":2100.075000198558}${\"relative-x\":0.82578125$\"relative-y\":0.8013888888888889$\"elapse-time\":2133.529999991879}${\"relative-x\":0.81953125$\"relative-y\":0.7916666666666666$\"elapse-time\":2156.900000059977}${\"relative-x\":0.81953125$\"relative-y\":0.7916666666666666$\"elapse-time\":2183.7450000457466}${\"relative-x\":0.79375$\"relative-y\":0.8097222222222222$\"elapse-time\":2213.200000114739}${\"relative-x\":0.82421875$\"relative-y\":0.7763888888888889$\"elapse-time\":2239.2049999907613}${\"relative-x\":0.8375$\"relative-y\":0.7722222222222223$\"elapse-time\":2283.005000092089}${\"relative-x\":0.828125$\"relative-y\":0.85$\"elapse-time\":2308.9950000867248}${\"relative-x\":0.8359375$\"relative-y\":0.8125$\"elapse-time\":2338.950000004843}${\"relative-x\":0.83515625$\"relative-y\":0.7805555555555556$\"elapse-time\":2366.4049999788404}${\"relative-x\":0.82421875$\"relative-y\":0.7972222222222223$\"elapse-time\":2395.1799999922514}${\"relative-x\":0.81640625$\"relative-y\":0.8027777777777778$\"elapse-time\":2431.9250001572073}${\"relative-x\":0.8140625$\"relative-y\":0.8236111111111111$\"elapse-time\":2455.5900001432747}${\"relative-x\":0.82421875$\"relative-y\":0.7805555555555556$\"elapse-time\":2482.2900001890957}${\"relative-x\":0.81796875$\"relative-y\":0.8986111111111111$\"elapse-time\":2515.224999981001}${\"relative-x\":0.821875$\"relative-y\":0.825$\"elapse-time\":2542.2350000590086}${\"relative-x\":0.81640625$\"relative-y\":0.7916666666666666$\"elapse-time\":2569.365000119433}${\"relative-x\":0.8265625$\"relative-y\":0.7902777777777777$\"elapse-time\":2604.395000031218}${\"relative-x\":0.8171875$\"relative-y\":0.8166666666666667$\"elapse-time\":2631.610000040382}${\"relative-x\":0.83515625$\"relative-y\":0.7861111111111111$\"elapse-time\":2666.830000001937}${\"relative-x\":0.81171875$\"relative-y\":0.8208333333333333$\"elapse-time\":2690.720000071451}${\"relative-x\":0.8171875$\"relative-y\":0.8180555555555555$\"elapse-time\":2717.9400001186877}${\"relative-x\":0.8109375$\"relative-y\":0.8666666666666667$\"elapse-time\":2743.7950000166893}${\"relative-x\":0.8265625$\"relative-y\":0.7958333333333333$\"elapse-time\":2788.524999981746}${\"relative-x\":0.82265625$\"relative-y\":0.8555555555555555$\"elapse-time\":2819.499999983236}${\"relative-x\":0.8140625$\"relative-y\":0.8263888888888888$\"elapse-time\":2846.780000021681}${\"relative-x\":0.828125$\"relative-y\":0.8013888888888889$\"elapse-time\":2871.820000000298}${\"relative-x\":0.81953125$\"relative-y\":0.8236111111111111$\"elapse-time\":2901.520000072196}${\"relative-x\":0.81875$\"relative-y\":0.8777777777777778$\"elapse-time\":2934.5250001642853}${\"relative-x\":0.8203125$\"relative-y\":0.8305555555555556$\"elapse-time\":2958.970000036061}${\"relative-x\":0.79296875$\"relative-y\":0.8583333333333333$\"elapse-time\":2987.9700001329184}${\"relative-x\":0.84296875$\"relative-y\":0.7930555555555555$\"elapse-time\":3014.7750000469387}${\"relative-x\":0.80703125$\"relative-y\":0.775$\"elapse-time\":3041.2900000810623}${\"relative-x\":0.8234375$\"relative-y\":0.8194444444444444$\"elapse-time\":3069.755000062287}${\"relative-x\":0.80078125$\"relative-y\":0.8458333333333333$\"elapse-time\":3107.120000058785}${\"relative-x\":0.8125$\"relative-y\":0.8305555555555556$\"elapse-time\":3132.885000202805}${\"relative-x\":0.8125$\"relative-y\":0.7708333333333334$\"elapse-time\":3162.5800000038}${\"relative-x\":0.825$\"relative-y\":0.7986111111111112$\"elapse-time\":3188.2200001273304}${\"relative-x\":0.7984375$\"relative-y\":0.8291666666666667$\"elapse-time\":3237.0649999938905}${\"relative-x\":0.821875$\"relative-y\":0.8472222222222222$\"elapse-time\":3282.1100000292063}${\"relative-x\":0.8234375$\"relative-y\":0.7986111111111112$\"elapse-time\":3306.9050000049174}${\"relative-x\":0.81796875$\"relative-y\":0.8416666666666667$\"elapse-time\":3333.4800000302494}${\"relative-x\":0.815625$\"relative-y\":0.8055555555555556$\"elapse-time\":3359.2550000175834}${\"relative-x\":0.8390625$\"relative-y\":0.8263888888888888$\"elapse-time\":3385.665000183508}${\"relative-x\":0.83984375$\"relative-y\":0.7972222222222223$\"elapse-time\":3412.9300001077354}${\"relative-x\":0.8234375$\"relative-y\":0.8180555555555555$\"elapse-time\":3439.3550001550466}${\"relative-x\":0.80859375$\"relative-y\":0.7861111111111111$\"elapse-time\":3464.525000192225}${\"relative-x\":0.81640625$\"relative-y\":0.7986111111111112$\"elapse-time\":3489.5800000522286}${\"relative-x\":0.82734375$\"relative-y\":0.7555555555555555$\"elapse-time\":3518.195000011474}]}',\n",
       "       ...,\n",
       "       '[{\"x\":0.4883913628799001$\"y\":0.4851033062684623$\"t\":172419}${\"x\":0.4883662820868409$\"y\":0.485075444828882$\"t\":172530}${\"x\":0.4883443955024024$\"y\":0.4850518853409008$\"t\":172628}${\"x\":0.48832573455429473$\"y\":0.4850324356092045$\"t\":172724.00000000003}${\"x\":0.4883101946022914$\"y\":0.48501679085804783$\"t\":172812}${\"x\":0.4882975746980368$\"y\":0.4850045752757849$\"t\":172907}${\"x\":0.4882876107556708$\"y\":0.48499537550148547$\"t\":173002}${\"x\":0.48828000254316856$\"y\":0.4849887668354186$\"t\":173106}${\"x\":0.488274435041924$\"y\":0.48498433303895316$\"t\":173194}${\"x\":0.48827059480200397$\"y\":0.4849816806169581$\"t\":173288}${\"x\":0.4882681819546276$\"y\":0.4849804484607212$\"t\":173377}${\"x\":0.48826691854239596$\"y\":0.48498031368348005$\"t\":173474.00000000003}${\"x\":0.48826655380086015$\"y\":0.4849809944137804$\"t\":173566}${\"x\":0.4882668669800183$\"y\":0.48498225023216746$\"t\":173671}${\"x\":0.48826766823778145$\"y\":0.48498388085070665$\"t\":173759}${\"x\":0.48826879807461454$\"y\":0.4849857235475649$\"t\":173853}${\"x\":0.48827012571357287$\"y\":0.4849876497841641$\"t\":173945}${\"x\":0.4882715467659563$\"y\":0.48498956135292076$\"t\":174053}${\"x\":0.4882729804620709$\"y\":0.4849913863311084$\"t\":174142}${\"x\":0.4882743666706764$\"y\":0.48499307505194666$\"t\":174237}${\"x\":0.4882756628805532$\"y\":0.48499459624808766$\"t\":174330}]',\n",
       "       '[{\"x\":0.48827684127373494$\"y\":0.4849959334752243$\"t\":175931}${\"x\":0.48827788598241206$\"y\":0.48499708188424995$\"t\":176062}${\"x\":0.4882787905901522$\"y\":0.48499804537867364$\"t\":176201}${\"x\":0.48827955591252914$\"y\":0.4849988341691197$\"t\":176349.00000000003}${\"x\":0.4882801880719915$\"y\":0.4849994627179094$\"t\":176500}${\"x\":0.48828069686626074$\"y\":0.48499994805308977$\"t\":176680}${\"x\":0.4882810944180992$\"y\":0.48500030842203906$\"t\":176847}${\"x\":0.4882813940863212$\"y\":0.48500056224913185$\"t\":176982}${\"x\":0.4882816096128321$\"y\":0.48500072735919725$\"t\":177112}${\"x\":0.48828175447772687$\"y\":0.48500082042797904$\"t\":177244}${\"x\":0.4882818414335527$\"y\":0.48500085662196857$\"t\":177378}]',\n",
       "       '[{\"x\":0.4882818821903026$\"y\":0.4850008493923179$\"t\":177500}${\"x\":0.4882818872241744$\"y\":0.4850008103906771$\"t\":177599.00000000003}${\"x\":0.4882818656852816$\"y\":0.4850007494783784$\"t\":177696}${\"x\":0.48828182538207604$\"y\":0.4850006748041732$\"t\":177793}${\"x\":0.48828177282302193$\"y\":0.4850005929294982$\"t\":177885.00000000003}${\"x\":0.4882817132988855$\"y\":0.4850005089838666$\"t\":177976}${\"x\":0.488281650991748$\"y\":0.485000426836341$\"t\":178069}${\"x\":0.48828158909942926$\"y\":0.4850003492720832$\"t\":178159.00000000003}${\"x\":0.488281529966354$\"y\":0.4850002781656546$\"t\":178247}${\"x\":0.48828147521399157$\"y\":0.48500021464504967$\"t\":178341}${\"x\":0.48828142586580753$\"y\":0.4850001592423858$\"t\":178436}${\"x\":0.48828138246321473$\"y\":0.4850001120287709$\"t\":178541}${\"x\":0.48828134517028043$\"y\":0.48500007273214335$\"t\":178633}${\"x\":0.48828131386598583$\"y\":0.4850000408378714$\"t\":178740}${\"x\":0.48828128822363653$\"y\":0.48500001567263645$\"t\":178835}${\"x\":0.4882812677776413$\"y\":0.4849999964726517$\"t\":178939}${\"x\":0.4882812519783181$\"y\":0.4849999824376111$\"t\":179027}${\"x\":0.4882812402356886$\"y\":0.4849999727719666$\"t\":179122}${\"x\":0.48828123195340734$\"y\":0.4849999667152125$\"t\":179212.00000000003}${\"x\":0.48828122655406336$\"y\":0.4849999635628556$\"t\":179321}${\"x\":0.4882812234971093$\"y\":0.48499996267967643$\"t\":179413}${\"x\":0.48828122229063675$\"y\":0.4849999635067745$\"t\":179504.00000000003}${\"x\":0.4882812224981422$\"y\":0.4849999655637444$\"t\":179594}]'],\n",
       "      dtype=object)"
      ]
     },
     "execution_count": 19,
     "metadata": {},
     "output_type": "execute_result"
    }
   ],
   "source": [
    "def textToDataframe(text):\n",
    "    text = text.replace('$', ',')\n",
    "    dataframe = pd.read_json(text[11:len(text)-1], orient='records')\n",
    "    return(dataframe)\n",
    "data_raw.loc[:, 'et_data'].unique()"
   ]
  },
  {
   "cell_type": "code",
   "execution_count": 16,
   "metadata": {},
   "outputs": [
    {
     "ename": "ValueError",
     "evalue": "Trailing data",
     "output_type": "error",
     "traceback": [
      "\u001b[1;31m---------------------------------------------------------------------------\u001b[0m",
      "\u001b[1;31mValueError\u001b[0m                                Traceback (most recent call last)",
      "\u001b[1;32m<ipython-input-16-16932f6c161a>\u001b[0m in \u001b[0;36m<module>\u001b[1;34m\u001b[0m\n\u001b[0;32m     27\u001b[0m     \u001b[1;32mreturn\u001b[0m\u001b[1;33m(\u001b[0m\u001b[0mdata_eyetracking\u001b[0m\u001b[1;33m)\u001b[0m\u001b[1;33m\u001b[0m\u001b[1;33m\u001b[0m\u001b[0m\n\u001b[0;32m     28\u001b[0m \u001b[1;33m\u001b[0m\u001b[0m\n\u001b[1;32m---> 29\u001b[1;33m \u001b[0mdata_et\u001b[0m \u001b[1;33m=\u001b[0m \u001b[0mextractEyetrackingData\u001b[0m\u001b[1;33m(\u001b[0m\u001b[0mdata_raw\u001b[0m\u001b[1;33m)\u001b[0m\u001b[1;33m\u001b[0m\u001b[1;33m\u001b[0m\u001b[0m\n\u001b[0m\u001b[0;32m     30\u001b[0m \u001b[1;33m\u001b[0m\u001b[0m\n\u001b[0;32m     31\u001b[0m \u001b[0mdata_et\u001b[0m\u001b[1;33m.\u001b[0m\u001b[0mgroupby\u001b[0m\u001b[1;33m(\u001b[0m\u001b[1;33m[\u001b[0m\u001b[1;34m'run_id'\u001b[0m\u001b[1;33m,\u001b[0m \u001b[1;34m'chinFirst'\u001b[0m\u001b[1;33m,\u001b[0m \u001b[1;34m'task_nr'\u001b[0m\u001b[1;33m,\u001b[0m \u001b[1;34m'chin'\u001b[0m\u001b[1;33m,\u001b[0m \u001b[1;34m'trial_type'\u001b[0m\u001b[1;33m]\u001b[0m\u001b[1;33m)\u001b[0m\u001b[0;31m \u001b[0m\u001b[0;31m\\\u001b[0m\u001b[1;33m\u001b[0m\u001b[1;33m\u001b[0m\u001b[0m\n",
      "\u001b[1;32m<ipython-input-16-16932f6c161a>\u001b[0m in \u001b[0;36mextractEyetrackingData\u001b[1;34m(data)\u001b[0m\n\u001b[0;32m     10\u001b[0m     \u001b[1;32mfor\u001b[0m \u001b[0mi\u001b[0m \u001b[1;32min\u001b[0m \u001b[0mdata\u001b[0m\u001b[1;33m.\u001b[0m\u001b[0mloc\u001b[0m\u001b[1;33m[\u001b[0m\u001b[0mdata\u001b[0m\u001b[1;33m[\u001b[0m\u001b[1;34m'et_data'\u001b[0m\u001b[1;33m]\u001b[0m \u001b[1;33m!=\u001b[0m \u001b[1;34m'\"'\u001b[0m\u001b[1;33m,\u001b[0m \u001b[1;33m:\u001b[0m\u001b[1;33m]\u001b[0m\u001b[1;33m.\u001b[0m\u001b[0mindex\u001b[0m\u001b[1;33m:\u001b[0m\u001b[1;33m\u001b[0m\u001b[1;33m\u001b[0m\u001b[0m\n\u001b[0;32m     11\u001b[0m \u001b[1;33m\u001b[0m\u001b[0m\n\u001b[1;32m---> 12\u001b[1;33m         \u001b[0mdf\u001b[0m \u001b[1;33m=\u001b[0m \u001b[0mtextToDataframe\u001b[0m\u001b[1;33m(\u001b[0m\u001b[0mdata\u001b[0m\u001b[1;33m.\u001b[0m\u001b[0mloc\u001b[0m\u001b[1;33m[\u001b[0m\u001b[0mi\u001b[0m\u001b[1;33m,\u001b[0m \u001b[1;34m'et_data'\u001b[0m\u001b[1;33m]\u001b[0m\u001b[1;33m)\u001b[0m\u001b[0;31m \u001b[0m\u001b[0;31m\\\u001b[0m\u001b[1;33m\u001b[0m\u001b[1;33m\u001b[0m\u001b[0m\n\u001b[0m\u001b[0;32m     13\u001b[0m             .rename(columns = {\"relative-x\": \"x\", \n\u001b[0;32m     14\u001b[0m                                \u001b[1;34m\"relative-y\"\u001b[0m\u001b[1;33m:\u001b[0m \u001b[1;34m'y'\u001b[0m\u001b[1;33m,\u001b[0m\u001b[1;33m\u001b[0m\u001b[1;33m\u001b[0m\u001b[0m\n",
      "\u001b[1;32m<ipython-input-16-16932f6c161a>\u001b[0m in \u001b[0;36mtextToDataframe\u001b[1;34m(text)\u001b[0m\n\u001b[0;32m      1\u001b[0m \u001b[1;32mdef\u001b[0m \u001b[0mtextToDataframe\u001b[0m\u001b[1;33m(\u001b[0m\u001b[0mtext\u001b[0m\u001b[1;33m)\u001b[0m\u001b[1;33m:\u001b[0m\u001b[1;33m\u001b[0m\u001b[1;33m\u001b[0m\u001b[0m\n\u001b[0;32m      2\u001b[0m     \u001b[0mtext\u001b[0m \u001b[1;33m=\u001b[0m \u001b[0mtext\u001b[0m\u001b[1;33m.\u001b[0m\u001b[0mreplace\u001b[0m\u001b[1;33m(\u001b[0m\u001b[1;34m'$'\u001b[0m\u001b[1;33m,\u001b[0m \u001b[1;34m','\u001b[0m\u001b[1;33m)\u001b[0m\u001b[1;33m\u001b[0m\u001b[1;33m\u001b[0m\u001b[0m\n\u001b[1;32m----> 3\u001b[1;33m     \u001b[0mdataframe\u001b[0m \u001b[1;33m=\u001b[0m \u001b[0mpd\u001b[0m\u001b[1;33m.\u001b[0m\u001b[0mread_json\u001b[0m\u001b[1;33m(\u001b[0m\u001b[0mtext\u001b[0m\u001b[1;33m[\u001b[0m\u001b[1;36m11\u001b[0m\u001b[1;33m:\u001b[0m\u001b[0mlen\u001b[0m\u001b[1;33m(\u001b[0m\u001b[0mtext\u001b[0m\u001b[1;33m)\u001b[0m\u001b[1;33m-\u001b[0m\u001b[1;36m1\u001b[0m\u001b[1;33m]\u001b[0m\u001b[1;33m,\u001b[0m \u001b[0morient\u001b[0m\u001b[1;33m=\u001b[0m\u001b[1;34m'records'\u001b[0m\u001b[1;33m)\u001b[0m\u001b[1;33m\u001b[0m\u001b[1;33m\u001b[0m\u001b[0m\n\u001b[0m\u001b[0;32m      4\u001b[0m     \u001b[1;32mreturn\u001b[0m\u001b[1;33m(\u001b[0m\u001b[0mdataframe\u001b[0m\u001b[1;33m)\u001b[0m\u001b[1;33m\u001b[0m\u001b[1;33m\u001b[0m\u001b[0m\n\u001b[0;32m      5\u001b[0m \u001b[1;33m\u001b[0m\u001b[0m\n",
      "\u001b[1;32m~\\Anaconda3\\lib\\site-packages\\pandas\\util\\_decorators.py\u001b[0m in \u001b[0;36mwrapper\u001b[1;34m(*args, **kwargs)\u001b[0m\n\u001b[0;32m    212\u001b[0m                 \u001b[1;32melse\u001b[0m\u001b[1;33m:\u001b[0m\u001b[1;33m\u001b[0m\u001b[1;33m\u001b[0m\u001b[0m\n\u001b[0;32m    213\u001b[0m                     \u001b[0mkwargs\u001b[0m\u001b[1;33m[\u001b[0m\u001b[0mnew_arg_name\u001b[0m\u001b[1;33m]\u001b[0m \u001b[1;33m=\u001b[0m \u001b[0mnew_arg_value\u001b[0m\u001b[1;33m\u001b[0m\u001b[1;33m\u001b[0m\u001b[0m\n\u001b[1;32m--> 214\u001b[1;33m             \u001b[1;32mreturn\u001b[0m \u001b[0mfunc\u001b[0m\u001b[1;33m(\u001b[0m\u001b[1;33m*\u001b[0m\u001b[0margs\u001b[0m\u001b[1;33m,\u001b[0m \u001b[1;33m**\u001b[0m\u001b[0mkwargs\u001b[0m\u001b[1;33m)\u001b[0m\u001b[1;33m\u001b[0m\u001b[1;33m\u001b[0m\u001b[0m\n\u001b[0m\u001b[0;32m    215\u001b[0m \u001b[1;33m\u001b[0m\u001b[0m\n\u001b[0;32m    216\u001b[0m         \u001b[1;32mreturn\u001b[0m \u001b[0mcast\u001b[0m\u001b[1;33m(\u001b[0m\u001b[0mF\u001b[0m\u001b[1;33m,\u001b[0m \u001b[0mwrapper\u001b[0m\u001b[1;33m)\u001b[0m\u001b[1;33m\u001b[0m\u001b[1;33m\u001b[0m\u001b[0m\n",
      "\u001b[1;32m~\\Anaconda3\\lib\\site-packages\\pandas\\io\\json\\_json.py\u001b[0m in \u001b[0;36mread_json\u001b[1;34m(path_or_buf, orient, typ, dtype, convert_axes, convert_dates, keep_default_dates, numpy, precise_float, date_unit, encoding, lines, chunksize, compression)\u001b[0m\n\u001b[0;32m    606\u001b[0m         \u001b[1;32mreturn\u001b[0m \u001b[0mjson_reader\u001b[0m\u001b[1;33m\u001b[0m\u001b[1;33m\u001b[0m\u001b[0m\n\u001b[0;32m    607\u001b[0m \u001b[1;33m\u001b[0m\u001b[0m\n\u001b[1;32m--> 608\u001b[1;33m     \u001b[0mresult\u001b[0m \u001b[1;33m=\u001b[0m \u001b[0mjson_reader\u001b[0m\u001b[1;33m.\u001b[0m\u001b[0mread\u001b[0m\u001b[1;33m(\u001b[0m\u001b[1;33m)\u001b[0m\u001b[1;33m\u001b[0m\u001b[1;33m\u001b[0m\u001b[0m\n\u001b[0m\u001b[0;32m    609\u001b[0m     \u001b[1;32mif\u001b[0m \u001b[0mshould_close\u001b[0m\u001b[1;33m:\u001b[0m\u001b[1;33m\u001b[0m\u001b[1;33m\u001b[0m\u001b[0m\n\u001b[0;32m    610\u001b[0m         \u001b[0mfilepath_or_buffer\u001b[0m\u001b[1;33m.\u001b[0m\u001b[0mclose\u001b[0m\u001b[1;33m(\u001b[0m\u001b[1;33m)\u001b[0m\u001b[1;33m\u001b[0m\u001b[1;33m\u001b[0m\u001b[0m\n",
      "\u001b[1;32m~\\Anaconda3\\lib\\site-packages\\pandas\\io\\json\\_json.py\u001b[0m in \u001b[0;36mread\u001b[1;34m(self)\u001b[0m\n\u001b[0;32m    729\u001b[0m             \u001b[0mobj\u001b[0m \u001b[1;33m=\u001b[0m \u001b[0mself\u001b[0m\u001b[1;33m.\u001b[0m\u001b[0m_get_object_parser\u001b[0m\u001b[1;33m(\u001b[0m\u001b[0mself\u001b[0m\u001b[1;33m.\u001b[0m\u001b[0m_combine_lines\u001b[0m\u001b[1;33m(\u001b[0m\u001b[0mdata\u001b[0m\u001b[1;33m.\u001b[0m\u001b[0msplit\u001b[0m\u001b[1;33m(\u001b[0m\u001b[1;34m\"\\n\"\u001b[0m\u001b[1;33m)\u001b[0m\u001b[1;33m)\u001b[0m\u001b[1;33m)\u001b[0m\u001b[1;33m\u001b[0m\u001b[1;33m\u001b[0m\u001b[0m\n\u001b[0;32m    730\u001b[0m         \u001b[1;32melse\u001b[0m\u001b[1;33m:\u001b[0m\u001b[1;33m\u001b[0m\u001b[1;33m\u001b[0m\u001b[0m\n\u001b[1;32m--> 731\u001b[1;33m             \u001b[0mobj\u001b[0m \u001b[1;33m=\u001b[0m \u001b[0mself\u001b[0m\u001b[1;33m.\u001b[0m\u001b[0m_get_object_parser\u001b[0m\u001b[1;33m(\u001b[0m\u001b[0mself\u001b[0m\u001b[1;33m.\u001b[0m\u001b[0mdata\u001b[0m\u001b[1;33m)\u001b[0m\u001b[1;33m\u001b[0m\u001b[1;33m\u001b[0m\u001b[0m\n\u001b[0m\u001b[0;32m    732\u001b[0m         \u001b[0mself\u001b[0m\u001b[1;33m.\u001b[0m\u001b[0mclose\u001b[0m\u001b[1;33m(\u001b[0m\u001b[1;33m)\u001b[0m\u001b[1;33m\u001b[0m\u001b[1;33m\u001b[0m\u001b[0m\n\u001b[0;32m    733\u001b[0m         \u001b[1;32mreturn\u001b[0m \u001b[0mobj\u001b[0m\u001b[1;33m\u001b[0m\u001b[1;33m\u001b[0m\u001b[0m\n",
      "\u001b[1;32m~\\Anaconda3\\lib\\site-packages\\pandas\\io\\json\\_json.py\u001b[0m in \u001b[0;36m_get_object_parser\u001b[1;34m(self, json)\u001b[0m\n\u001b[0;32m    751\u001b[0m         \u001b[0mobj\u001b[0m \u001b[1;33m=\u001b[0m \u001b[1;32mNone\u001b[0m\u001b[1;33m\u001b[0m\u001b[1;33m\u001b[0m\u001b[0m\n\u001b[0;32m    752\u001b[0m         \u001b[1;32mif\u001b[0m \u001b[0mtyp\u001b[0m \u001b[1;33m==\u001b[0m \u001b[1;34m\"frame\"\u001b[0m\u001b[1;33m:\u001b[0m\u001b[1;33m\u001b[0m\u001b[1;33m\u001b[0m\u001b[0m\n\u001b[1;32m--> 753\u001b[1;33m             \u001b[0mobj\u001b[0m \u001b[1;33m=\u001b[0m \u001b[0mFrameParser\u001b[0m\u001b[1;33m(\u001b[0m\u001b[0mjson\u001b[0m\u001b[1;33m,\u001b[0m \u001b[1;33m**\u001b[0m\u001b[0mkwargs\u001b[0m\u001b[1;33m)\u001b[0m\u001b[1;33m.\u001b[0m\u001b[0mparse\u001b[0m\u001b[1;33m(\u001b[0m\u001b[1;33m)\u001b[0m\u001b[1;33m\u001b[0m\u001b[1;33m\u001b[0m\u001b[0m\n\u001b[0m\u001b[0;32m    754\u001b[0m \u001b[1;33m\u001b[0m\u001b[0m\n\u001b[0;32m    755\u001b[0m         \u001b[1;32mif\u001b[0m \u001b[0mtyp\u001b[0m \u001b[1;33m==\u001b[0m \u001b[1;34m\"series\"\u001b[0m \u001b[1;32mor\u001b[0m \u001b[0mobj\u001b[0m \u001b[1;32mis\u001b[0m \u001b[1;32mNone\u001b[0m\u001b[1;33m:\u001b[0m\u001b[1;33m\u001b[0m\u001b[1;33m\u001b[0m\u001b[0m\n",
      "\u001b[1;32m~\\Anaconda3\\lib\\site-packages\\pandas\\io\\json\\_json.py\u001b[0m in \u001b[0;36mparse\u001b[1;34m(self)\u001b[0m\n\u001b[0;32m    855\u001b[0m \u001b[1;33m\u001b[0m\u001b[0m\n\u001b[0;32m    856\u001b[0m         \u001b[1;32melse\u001b[0m\u001b[1;33m:\u001b[0m\u001b[1;33m\u001b[0m\u001b[1;33m\u001b[0m\u001b[0m\n\u001b[1;32m--> 857\u001b[1;33m             \u001b[0mself\u001b[0m\u001b[1;33m.\u001b[0m\u001b[0m_parse_no_numpy\u001b[0m\u001b[1;33m(\u001b[0m\u001b[1;33m)\u001b[0m\u001b[1;33m\u001b[0m\u001b[1;33m\u001b[0m\u001b[0m\n\u001b[0m\u001b[0;32m    858\u001b[0m \u001b[1;33m\u001b[0m\u001b[0m\n\u001b[0;32m    859\u001b[0m         \u001b[1;32mif\u001b[0m \u001b[0mself\u001b[0m\u001b[1;33m.\u001b[0m\u001b[0mobj\u001b[0m \u001b[1;32mis\u001b[0m \u001b[1;32mNone\u001b[0m\u001b[1;33m:\u001b[0m\u001b[1;33m\u001b[0m\u001b[1;33m\u001b[0m\u001b[0m\n",
      "\u001b[1;32m~\\Anaconda3\\lib\\site-packages\\pandas\\io\\json\\_json.py\u001b[0m in \u001b[0;36m_parse_no_numpy\u001b[1;34m(self)\u001b[0m\n\u001b[0;32m   1106\u001b[0m         \u001b[1;32melse\u001b[0m\u001b[1;33m:\u001b[0m\u001b[1;33m\u001b[0m\u001b[1;33m\u001b[0m\u001b[0m\n\u001b[0;32m   1107\u001b[0m             self.obj = DataFrame(\n\u001b[1;32m-> 1108\u001b[1;33m                 \u001b[0mloads\u001b[0m\u001b[1;33m(\u001b[0m\u001b[0mjson\u001b[0m\u001b[1;33m,\u001b[0m \u001b[0mprecise_float\u001b[0m\u001b[1;33m=\u001b[0m\u001b[0mself\u001b[0m\u001b[1;33m.\u001b[0m\u001b[0mprecise_float\u001b[0m\u001b[1;33m)\u001b[0m\u001b[1;33m,\u001b[0m \u001b[0mdtype\u001b[0m\u001b[1;33m=\u001b[0m\u001b[1;32mNone\u001b[0m\u001b[1;33m\u001b[0m\u001b[1;33m\u001b[0m\u001b[0m\n\u001b[0m\u001b[0;32m   1109\u001b[0m             )\n\u001b[0;32m   1110\u001b[0m \u001b[1;33m\u001b[0m\u001b[0m\n",
      "\u001b[1;31mValueError\u001b[0m: Trailing data"
     ]
    }
   ],
   "source": [
    "def extractEyetrackingData(data):\n",
    "    data_eyetracking = pd.DataFrame(columns=['x', 'y', 't']) \n",
    "    data[\"et_data\"] = data['et_data'].apply(str)\n",
    "    \n",
    "    for i in data.loc[data['et_data'] != '\"', :].index:\n",
    "\n",
    "        df = textToDataframe(data.loc[i, 'et_data']) \\\n",
    "            .rename(columns = {\"relative-x\": \"x\", \n",
    "                               \"relative-y\": 'y', \n",
    "                               'elapse-time': 't'}\n",
    "                   ) \\\n",
    "            .reset_index(drop=True)\n",
    "\n",
    "        df[\"t_task\"] = (df.loc[:, \"t\"] - df.loc[0, \"t\"]) \n",
    "        columnsToAdd = data.columns.drop('et_data')\n",
    "        for col in columnsToAdd:\n",
    "            df[col] = data.loc[i, col]\n",
    "\n",
    "        data_eyetracking = data_eyetracking.append(\n",
    "            pd.DataFrame(data = df), ignore_index=True)  \n",
    "\n",
    "    return(data_eyetracking)\n",
    "\n",
    "data_et = extractEyetrackingData(data_raw)\n",
    "\n",
    "data_et.groupby(['run_id', 'chinFirst', 'task_nr', 'chin', 'trial_type']) \\\n",
    "    ['x'].count() "
   ]
  },
  {
   "cell_type": "code",
   "execution_count": null,
   "metadata": {},
   "outputs": [],
   "source": [
    "data_et = convertToNumeric(data_et,\n",
    "                        ['x', 'y', 't', 't_task', # Float \n",
    "                         'x_pos', 'y_pos', \n",
    "                         'chinFirst', 'chin', 'key_press'])"
   ]
  },
  {
   "cell_type": "code",
   "execution_count": null,
   "metadata": {},
   "outputs": [],
   "source": [
    "def convertToFactor(data, columns):\n",
    "    stacked = data[columns].stack()\n",
    "    data[columns] = pd.Series(stacked.factorize()[0], index=stacked.index).unstack()\n",
    "    return data"
   ]
  },
  {
   "cell_type": "code",
   "execution_count": null,
   "metadata": {},
   "outputs": [],
   "source": [
    "def addXCount(data):\n",
    "    if 'count' in data.columns:\n",
    "        print('Count already added!')\n",
    "    else: \n",
    "        grouped = pd.DataFrame(\n",
    "                data.groupby([\"run_id\", \"trial_index\"])[\"x\"].count()\n",
    "            ) \\\n",
    "            .reset_index() \\\n",
    "            .rename(columns={'x': 'count'})\n",
    "        data = data.merge(grouped, \n",
    "                          on=[\"run_id\", \"trial_index\"], \n",
    "                          how='left')\n",
    "    return(data)\n",
    "\n",
    "data_et = addXCount(data_et)"
   ]
  },
  {
   "cell_type": "code",
   "execution_count": null,
   "metadata": {},
   "outputs": [],
   "source": [
    "def addMeans(data):\n",
    "    if ('x_mean' in data.columns):\n",
    "        print('X_mean already added!')\n",
    "        data_output = data\n",
    "    elif ('y_mean' in data.columns):\n",
    "        print('Y_mean already added!')\n",
    "        data_output = data\n",
    "    else: \n",
    "        grouped = data.loc[:, ['run_id', 'subject', 'trial_index', 'x', 'y']] \\\n",
    "                             .groupby(['run_id', 'subject', 'trial_index']).mean() \\\n",
    "                             .rename(columns={'x': 'x_mean', \n",
    "                                              'y': 'y_mean'})\n",
    "        data_output = data.merge(grouped,\n",
    "                                 on=['run_id', 'subject', 'trial_index'],\n",
    "                                 how='left')\n",
    "    return data_output\n",
    "\n",
    "data_et = addMeans(data_et)"
   ]
  },
  {
   "cell_type": "code",
   "execution_count": null,
   "metadata": {},
   "outputs": [],
   "source": [
    "def euclideanDistance(x, x_target, y, y_target):\n",
    "    x_diff = x - x_target\n",
    "    y_diff = y - y_target\n",
    "    euclideanDistance = np.sqrt(x_diff**2 + y_diff**2)\n",
    "    return(euclideanDistance)\n",
    "\n",
    "x_location_pixel = data_et['window_width_max'] * data_et['x_pos']\n",
    "y_location_pixel = data_et['window_height_max'] * data_et['y_pos']\n",
    "data_et[\"offset\"] = euclideanDistance(data_et[\"x\"], x_location_pixel, \n",
    "                                      data_et[\"y\"], y_location_pixel)"
   ]
  },
  {
   "cell_type": "code",
   "execution_count": null,
   "metadata": {
    "scrolled": true
   },
   "outputs": [],
   "source": [
    "def addPrecision(data):\n",
    "    if 'precision' in data.columns: \n",
    "        print('precision already added!')\n",
    "    else:\n",
    "        data['deviationFromAVG'] = euclideanDistance(\n",
    "                data['x'], data['x_mean'], data['y'], data['y_mean']\n",
    "            )\n",
    "        data['deviationFromAVG_square'] = np.power(data['deviationFromAVG'], 2)\n",
    "        grouped = data.groupby(['run_id', 'trial_index']).mean() \\\n",
    "            .reset_index()\n",
    "        grouped['precision'] = np.sqrt(grouped['deviationFromAVG_square'])\n",
    "        data = data.merge(\n",
    "                grouped.loc[:, ['run_id', 'trial_index', 'precision']], \n",
    "                on=['run_id', 'trial_index'],\n",
    "                how='left'\n",
    "            )\n",
    "                                \n",
    "    return data\n",
    "\n",
    "data_et = addPrecision(data_et)"
   ]
  },
  {
   "cell_type": "code",
   "execution_count": null,
   "metadata": {},
   "outputs": [],
   "source": [
    "def withinTaskIndex(data): \n",
    "    allTrialIndices = []\n",
    "    for subject in data[\"run_id\"].unique():\n",
    "        df_subj = data.loc[data['run_id']==subject, :]\n",
    "        \n",
    "        for trial_type in df_subj['trial_type'].unique():\n",
    "            df_trial = df_subj.loc[df_subj['trial_type']==trial_type, :]\n",
    "                \n",
    "            for task_nr in df_trial[\"task_nr\"].unique():\n",
    "                df_thisTask = df_trial.loc[df_trial['task_nr']==task_nr, \n",
    "                         [\n",
    "                             'run_id',\n",
    "                             'trial_index'\n",
    "                         ]\n",
    "                    ] \\\n",
    "                    .drop_duplicates() \\\n",
    "                    .reset_index(drop=True)\n",
    "        \n",
    "                df_thisTask['withinTaskIndex'] = df_thisTask.index + 1\n",
    "                allTrialIndices.append(df_thisTask)\n",
    "    allTrialIndices = pd.concat(allTrialIndices).reset_index(drop=True)\n",
    "    return allTrialIndices\n",
    "\n",
    "def addWithinTaskIndex(data):\n",
    "    if 'withinTaskIndex' in data.columns: \n",
    "        print('withinTaskIndex already added')\n",
    "    else:\n",
    "        newIndices = withinTaskIndex(data_et) \\\n",
    "            .reset_index(drop=True)\n",
    "        data = data.merge(newIndices, \n",
    "                          on = ['run_id', 'trial_index'], \n",
    "                          how = 'left')\n",
    "    return data\n",
    "\n",
    "data_et = addWithinTaskIndex(data_et)"
   ]
  },
  {
   "cell_type": "code",
   "execution_count": null,
   "metadata": {},
   "outputs": [],
   "source": [
    "def multiply(x):\n",
    "    return x*10\n",
    "\n",
    "def positionIndex(data):\n",
    "    allPositionIndices = []\n",
    "    for subject in data[\"run_id\"].unique():\n",
    "        df_subj = data.loc[\n",
    "            (\n",
    "                (data['run_id']==subject) &\n",
    "                (data['trial_type'].isin(\n",
    "                        [\n",
    "                            'eyetracking-calibration', \n",
    "                            'eyetracking-fix-object'\n",
    "                        ]\n",
    "                    )\n",
    "                )\n",
    "            ), :]\n",
    "        \n",
    "        for trial_type in df_subj['trial_type'].unique():\n",
    "            df_trial = df_subj.loc[df_subj['trial_type']==trial_type, :]\n",
    "                \n",
    "            for task_nr in df_trial[\"task_nr\"].unique():\n",
    "                df_thisTask = df_trial.loc[\n",
    "                        df_trial['task_nr']==task_nr, \n",
    "                        ['run_id', 'trial_index', 'x_pos', 'y_pos']\n",
    "                    ] \\\n",
    "                    .drop_duplicates() \\\n",
    "                    .reset_index(drop=True)\n",
    "\n",
    "                df_thisTask['positionIndex'] = df_thisTask.loc[:, ['x_pos', 'y_pos']] \\\n",
    "                    .apply(multiply) \\\n",
    "                    .astype(int) \\\n",
    "                    .astype(str) \\\n",
    "                    .apply(''.join, 1)\n",
    "                df_thisTask['positionIndex'] = df_thisTask['positionIndex'].astype(int)\n",
    "                df_thisTask['positionIndex'] = df_thisTask.loc[:, 'positionIndex'] \\\n",
    "                    .replace(\n",
    "                            np.sort(df_thisTask['positionIndex'].unique()), \n",
    "                            range(0, len(df_thisTask['positionIndex'].unique()))\n",
    "                        )        \n",
    "                allPositionIndices.append(df_thisTask)\n",
    "                \n",
    "    allPositionIndices = pd.concat(allPositionIndices).reset_index(drop=True)\n",
    "    return allPositionIndices\n",
    "\n",
    "def addPositionIndex(data):\n",
    "    if 'positionIndex' in data.columns: \n",
    "        print('positionIndex already added')\n",
    "    else:\n",
    "        newIndices = positionIndex(data_et) \\\n",
    "            .reset_index(drop=True)\n",
    "        data = data.merge(newIndices, \n",
    "                          on = ['run_id', 'trial_index', 'x_pos', 'y_pos'], \n",
    "                          how = 'left')\n",
    "    return data\n",
    "\n",
    "data_et = addPositionIndex(data_et)"
   ]
  },
  {
   "cell_type": "markdown",
   "metadata": {},
   "source": [
    "## data_et_calibration"
   ]
  },
  {
   "cell_type": "code",
   "execution_count": null,
   "metadata": {},
   "outputs": [],
   "source": [
    "data_et_calibration = data_et.loc[data_et[\"trial_type\"]==\"eyetracking-calibration\", :]\n",
    "data_et_calibration"
   ]
  },
  {
   "cell_type": "markdown",
   "metadata": {},
   "source": [
    "## data_et_fixation"
   ]
  },
  {
   "cell_type": "code",
   "execution_count": null,
   "metadata": {},
   "outputs": [],
   "source": [
    "data_et_fixation = data_et.loc[(\n",
    "           (data_et[\"trial_type\"]==\"eyetracking-fix-object\") &\n",
    "           (pd.notna(data_et['withinTaskIndex'])) \n",
    "        ), :\n",
    "    ]\n",
    "data_et_fixation"
   ]
  },
  {
   "cell_type": "markdown",
   "metadata": {},
   "source": [
    "## data_et_choice"
   ]
  },
  {
   "cell_type": "code",
   "execution_count": null,
   "metadata": {},
   "outputs": [],
   "source": [
    "data_et_choice = data_et.loc[(data_et[\"trial_type\"]==\"eyetracking-choice\"), :]"
   ]
  },
  {
   "cell_type": "code",
   "execution_count": null,
   "metadata": {
    "scrolled": true
   },
   "outputs": [],
   "source": [
    "def lookDirections(data):\n",
    "    data[\"look_left\"] = (data[\"x\"] < 0.5).astype(int)\n",
    "    data[\"look_top\"] = (data[\"y\"] < 0.5).astype(int)\n",
    "    return data\n",
    "\n",
    "data_et_choice = lookDirections(data_et_choice)"
   ]
  },
  {
   "cell_type": "code",
   "execution_count": null,
   "metadata": {},
   "outputs": [],
   "source": [
    "# Cleaning\n",
    "data_et_choice.loc[\n",
    "    : , \n",
    "        [\n",
    "          'option_topLeft',\n",
    "          'option_bottomLeft', \n",
    "          'option_topRight', \n",
    "          'option_bottomRight'\n",
    "        ] \n",
    "    ] = data_et_choice.loc[\n",
    "            : , \n",
    "            [\n",
    "              'option_topLeft',\n",
    "              'option_bottomLeft', \n",
    "              'option_topRight', \n",
    "              'option_bottomRight'\n",
    "            ] \n",
    "        ] \\\n",
    "    .replace(['Today', 'Tomorrow', '7 days', '15 days', '30 days', '90 days', '180 days'], \n",
    "             [0, 1, 7, 15, 30, 90, 180]) \\\n",
    "    .replace({'\\$':''}, regex = True) \\\n",
    "    .replace('50 cent', 0.5) \\\n",
    "    .astype(float)"
   ]
  },
  {
   "cell_type": "code",
   "execution_count": null,
   "metadata": {},
   "outputs": [],
   "source": [
    "def addChoiceVariables(data):\n",
    "    data.loc[\n",
    "                (\n",
    "                    (data['choiceTask_amountLeftFirst']==1) &\n",
    "                    (data['withinTaskIndex'] <41)\n",
    "                ), 'amountLeft'] = 1\n",
    "    data.loc[\n",
    "                (\n",
    "                    (data['choiceTask_amountLeftFirst']==0) &\n",
    "                    (data['withinTaskIndex'] >40)\n",
    "                ), 'amountLeft'] = 0\n",
    "\n",
    "    data.loc[data['amountLeft'] == 1, 'aSS'] = \\\n",
    "        data.loc[data['amountLeft'] == 1,[\"option_topLeft\", \"option_bottomLeft\"]].values.min(1)\n",
    "    data.loc[data['amountLeft'] == 0, 'aSS'] = \\\n",
    "        data.loc[data['amountLeft'] == 0,[\"option_topRight\", \"option_bottomRight\"]].values.min(1)\n",
    "\n",
    "    data.loc[data['amountLeft'] == 1, 'aLL'] = \\\n",
    "        data.loc[data['amountLeft'] == 1,[\"option_topLeft\", \"option_bottomLeft\"]].values.max(1)\n",
    "    data.loc[data['amountLeft'] == 0, 'aLL'] = \\\n",
    "        data.loc[data['amountLeft'] == 0,[\"option_topRight\", \"option_bottomRight\"]].values.max(1)\n",
    "\n",
    "    data.loc[:, \"tSS\"] = 0 \n",
    "\n",
    "    data.loc[data['amountLeft'] == 1, 'tLL'] = \\\n",
    "        data.loc[data['amountLeft'] == 1,[\"option_topRight\", \"option_bottomRight\"]].values.max(1)\n",
    "    data.loc[data['amountLeft'] == 0, 'tLL'] = \\\n",
    "        data.loc[data['amountLeft'] == 0,[\"option_topLeft\", \"option_bottomLeft\"]].values.max(1)\n",
    "\n",
    "    data.loc[(data[\"key_press\"]==38), \"choseTop\"] = 1\n",
    "    data.loc[(data[\"key_press\"]==40), \"choseTop\"] = 0\n",
    "\n",
    "    data.loc[data['amountLeft'] == 1, 'tLL'] = \\\n",
    "        data.loc[data['amountLeft'] == 1,[\"option_topRight\", \"option_bottomRight\"]].values.max(1)\n",
    "\n",
    "    data['LL_top'] = (data[\"option_topLeft\"] > data[\"option_bottomLeft\"]).astype(int)\n",
    "\n",
    "    data.loc[\n",
    "        (\n",
    "             (data[\"choseTop\"]==1) & \n",
    "             (data[\"LL_top\"] == 1)\n",
    "        ), \"choseLL\"] = 1\n",
    "    data.loc[\n",
    "        (\n",
    "             (data[\"choseTop\"]==1) & \n",
    "             (data[\"LL_top\"] == 0)\n",
    "        ), \"choseLL\"] = 0\n",
    "\n",
    "    return(data)\n",
    "\n",
    "data_et_choice = addChoiceVariables(data_et_choice)"
   ]
  },
  {
   "cell_type": "code",
   "execution_count": null,
   "metadata": {},
   "outputs": [],
   "source": [
    "def cleanETChoice(data):\n",
    "    output = data.loc[(data_et[\"x\"]>-1) & \n",
    "                      (data_et[\"y\"]>-1) & \n",
    "                      (data_et[\"x\"]<data_et['window_width_max']) & \n",
    "                      (data_et[\"y\"]<data_et['window_height_max']), :]\n",
    "    return output\n",
    "# data_et_choice = cleanETChoice(data_et_choice)"
   ]
  },
  {
   "cell_type": "code",
   "execution_count": null,
   "metadata": {},
   "outputs": [],
   "source": [
    "def assign_aoi(data, subject, aoi):\n",
    "    aoiCenters = pd.DataFrame([\n",
    "                [(0.05+0.9*0.2), 0.25],\n",
    "                [(0.05+0.9*0.8), 0.25],\n",
    "                [(0.05+0.9*0.2), 0.75],\n",
    "                [(0.05+0.9*0.8), 0.75]\n",
    "            ], \n",
    "            columns = ['x', 'y'], \n",
    "            index=['TL', 'TR', 'BL', 'BR']\n",
    "        )\n",
    "\n",
    "    data.loc[(\n",
    "            (data['run_id'] == subject) & \n",
    "            (data.loc[:, 'x'] > (aoiCenters.loc[aoi, 'x'] - 0.175)) & \\\n",
    "            (data.loc[:, 'x'] < (aoiCenters.loc[aoi, 'x'] + 0.175)) & \\\n",
    "            (data.loc[:, 'y'] > (aoiCenters.loc[aoi, 'y'] - 0.175)) & \\\n",
    "            (data.loc[:, 'y'] < (aoiCenters.loc[aoi, 'y'] + 0.175))\n",
    "        ), 'aoi'] = aoi   \n",
    "    \n",
    "    return data\n",
    "\n",
    "def addAOIs(data):\n",
    "    for subject in data['run_id'].unique(): \n",
    "        for aoi in ['TL', 'TR', 'BL', 'BR']:\n",
    "            data = assign_aoi(data, subject, aoi)\n",
    "        \n",
    "    return data\n",
    "\n",
    "def createAOIColumns(data):\n",
    "    # If amounts are on the left side\n",
    "    # If the gaze point is in the top option\n",
    "    data.loc[((data['amountLeft']==1) & (data['LL_top']==1) & (data['aoi']=='TL')), \n",
    "             'aoi_amount_LL'] = 1\n",
    "    data.loc[((data['amountLeft']==1) & (data['LL_top']==1) & (data['aoi']=='TR')), \n",
    "             'aoi_delay_LL'] = 1\n",
    "    data.loc[((data['amountLeft']==1) & (data['LL_top']==1) & (data['aoi']=='BL')), \n",
    "             'aoi_amount_SS'] = 1\n",
    "    data.loc[((data['amountLeft']==1) & (data['LL_top']==1) & (data['aoi']=='BR')), \n",
    "             'aoi_delay_SS'] = 1\n",
    "    \n",
    "    data.loc[((data['amountLeft']==1) & (data['LL_top']==0) & (data['aoi']=='TL')), \n",
    "             'aoi_amount_SS'] = 1\n",
    "    data.loc[((data['amountLeft']==1) & (data['LL_top']==0) & (data['aoi']=='TR')), \n",
    "             'aoi_delay_SS'] = 1\n",
    "    data.loc[((data['amountLeft']==1) & (data['LL_top']==0) & (data['aoi']=='BL')), \n",
    "             'aoi_amount_LL'] = 1\n",
    "    data.loc[((data['amountLeft']==1) & (data['LL_top']==0) & (data['aoi']=='BR')), \n",
    "             'aoi_delay_LL'] = 1\n",
    "    \n",
    "    # If amounts are on the right side\n",
    "    # If the gaze point is in the top option\n",
    "    data.loc[((data['amountLeft']==0) & (data['LL_top']==1) & (data['aoi']=='TL')), \n",
    "             'aoi_delay_LL'] = 1\n",
    "    data.loc[((data['amountLeft']==0) & (data['LL_top']==1) & (data['aoi']=='TR')), \n",
    "             'aoi_amount_LL'] = 1\n",
    "    data.loc[((data['amountLeft']==0) & (data['LL_top']==1) & (data['aoi']=='BL')), \n",
    "             'aoi_delay_SS'] = 1\n",
    "    data.loc[((data['amountLeft']==0) & (data['LL_top']==1) & (data['aoi']=='BR')),\n",
    "             'aoi_amount_SS'] = 1\n",
    "\n",
    "    data.loc[((data['amountLeft']==0) & (data['LL_top']==0) & (data['aoi']=='TL')), \n",
    "             'aoi_delay_SS'] = 1\n",
    "    data.loc[((data['amountLeft']==0) & (data['LL_top']==0) & (data['aoi']=='TR')), \n",
    "             'aoi_amount_SS'] = 1\n",
    "    data.loc[((data['amountLeft']==0) & (data['LL_top']==0) & (data['aoi']=='BL')), \n",
    "             'aoi_delay_LL'] = 1\n",
    "    data.loc[((data['amountLeft']==0) & (data['LL_top']==0) & (data['aoi']=='BR')), \n",
    "             'aoi_amount_LL'] = 1\n",
    "    return data\n",
    "\n",
    "data_et_choice = addAOIs(data_et_choice)\n",
    "data_et_choice = createAOIColumns(data_et_choice)"
   ]
  },
  {
   "cell_type": "code",
   "execution_count": null,
   "metadata": {},
   "outputs": [],
   "source": [
    "def add_transition_type(data):\n",
    "    data = data.loc[(pd.notna(data['aoi'])), :]\n",
    "    data['newAOIIndex'] = 0\n",
    "    data.loc[(data['aoi_amount_LL']==1), 'newAOIIndex'] = 1\n",
    "    data.loc[(data['aoi_delay_LL']==1), 'newAOIIndex'] = 2\n",
    "    data.loc[(data['aoi_amount_SS']==1), 'newAOIIndex'] = 4\n",
    "    data.loc[(data['aoi_delay_SS']==1), 'newAOIIndex'] = 8\n",
    "    data.sort_values(by=['run_id', 'withinTaskIndex'])\n",
    "    # Add a 0 due to the way np.diff works\n",
    "    data['transition_type'] = np.append(np.diff(data['newAOIIndex']), [0])\n",
    "    data['transition_type'] = abs(data['transition_type']) \n",
    "    return(data)\n",
    "\n",
    "def cleanTransitions(data):\n",
    "    indices = []\n",
    "    for subject in data['run_id'].unique():\n",
    "        df_subj = data.loc[data['run_id']==subject, :]\n",
    "        for trial in df_subj['withinTaskIndex'].unique():\n",
    "            df_thisTrial = data.loc[(\n",
    "                                    (data['run_id'] == subject) &\n",
    "                                    (data['withinTaskIndex'] == trial)\n",
    "                                ), 'transition_type']\n",
    "            indices.append(df_thisTrial.index.max())\n",
    "    # last gaze point of each trial\n",
    "    data.loc[indices, 'transition_type'] = 0 \n",
    "    return(data)\n",
    "\n",
    "data_et_choice = add_transition_type(data_et_choice)\n",
    "\n",
    "data_et_choice = cleanTransitions(data_et_choice)\n",
    "# View(data_et_choice.tail(20))"
   ]
  },
  {
   "cell_type": "markdown",
   "metadata": {},
   "source": [
    "# data_trial\n",
    "[Back to Navigation](#Navigation)"
   ]
  },
  {
   "cell_type": "code",
   "execution_count": null,
   "metadata": {},
   "outputs": [],
   "source": [
    "data_raw.columns"
   ]
  },
  {
   "cell_type": "code",
   "execution_count": null,
   "metadata": {},
   "outputs": [],
   "source": [
    "data_trial = data_raw.loc[\n",
    "    :, \n",
    "    [\n",
    "        'run_id', 'subject', 'chinFirst', 'choiceTask_amountLeftFirst', \n",
    "        'rt', 'stimulus',\n",
    "        'window_width', 'window_height', 'trial_type', 'trial_index',\n",
    "        'time_elapsed', \n",
    "        'webcam_label', 'webcam_Id', 'webcam_fps',\n",
    "        'webcam_aspectRatio', 'webcam_height', 'webcam_width', 'key_press',\n",
    "        'success', 'x_pos', 'y_pos', 'chin', 'task_nr',\n",
    "        'trial_duration', 'option_topLeft', 'option_bottomLeft',\n",
    "        'option_topRight', 'option_bottomRight', 'recorded_at',\n",
    "        'user_agent', 'device', 'browser', 'browser_version', 'platform',\n",
    "        'platform_version', 'bonusAmount', 'bonusDelay',\n",
    "        'prolificID', 'age', 'gender', 'ethnic', 'sight', 'glasses', 'degree',\n",
    "        'eyeshadow', 'masquara', 'eyeliner', 'browliner', 'vertPosition',\n",
    "        'triedChin', 'keptHead', 'optionalNote', 'window_width_max',\n",
    "        'window_height_max', 'window_diagonal_max', 'window_diagonal',\n",
    "        't_startTrial', 'trial_duration_exact'        \n",
    "    ]\n",
    "]"
   ]
  },
  {
   "cell_type": "code",
   "execution_count": null,
   "metadata": {},
   "outputs": [],
   "source": [
    "def checkTimeDeviation(data, column1, column2, maxTimeDiffAllowed):\n",
    "    diff = data[column1] - data['trial_duration_exact']\n",
    "    longtrials_runID = data.loc[diff[diff > maxTimeDiffAllowed].index, 'run_id']\n",
    "    longtrials_previousrunID = pd.DataFrame(data.loc[diff[diff > maxTimeDiffAllowed].index-1, 'run_id']) \\\n",
    "        .rename(columns={'run_id':'previous_run_id'})\n",
    "    longtrials_previousrunID.index = longtrials_runID.index\n",
    "    compare_runIDs = pd.concat([longtrials_runID, longtrials_previousrunID], axis=1)\n",
    "\n",
    "    if sum(compare_runIDs['run_id'] == compare_runIDs['previous_run_id']) > 0: \n",
    "        print(column1 + ' and ' + column2 + ' show a deviation of ' +\n",
    "              '>' + str(maxTimeDiffAllowed) + \n",
    "              ' ms. Please check on the following indices: \\n')\n",
    "        print(compare_runIDs.loc[(compare_runIDs['run_id'] == compare_runIDs['previous_run_id']), :].index)\n",
    "\n",
    "    else:\n",
    "        print('Success! ' + column1 + ' and ' + column2 + ' do not deviate by ' +\n",
    "              '>' + str(maxTimeDiffAllowed) + 'ms.')\n",
    "        \n",
    "def exactTrialDuration(data):\n",
    "    output = data\n",
    "    output[\"t_startTrial\"] = pd.concat([pd.Series([0]), output[\"time_elapsed\"]], ignore_index=True)\n",
    "    output[\"trial_duration_exact\"] = output.loc[:, (\"time_elapsed\")] - output.loc[:, (\"t_startTrial\")]\n",
    "    output.drop(len(output)-1)\n",
    "    \n",
    "    checkTimeDeviation(data, 'rt', 'trial_duration_exact', 50)\n",
    "    checkTimeDeviation(data, 'trial_duration', 'trial_duration_exact', 50)\n",
    "    \n",
    "    return output\n",
    "\n",
    "data_trial = exactTrialDuration(data_trial)"
   ]
  },
  {
   "cell_type": "code",
   "execution_count": null,
   "metadata": {},
   "outputs": [],
   "source": [
    "def mergeByTrialIndex(data, largeData, varName):\n",
    "    if (varName in data_trial.columns):\n",
    "        print(varName + ' already added!')\n",
    "    else:\n",
    "        grouped = largeData.loc[:, \n",
    "                               [\n",
    "                                   'run_id', 'trial_index', varName\n",
    "                               ]\n",
    "                           ] \\\n",
    "                    .drop_duplicates()\n",
    "        data = data.merge(grouped, on=['run_id', 'trial_index'], how='left') \n",
    "    return data\n",
    "\n",
    "for column in ['x_mean', 'y_mean', 'count', 'offset', 'precision', 'withinTaskIndex']:\n",
    "    data_trial = mergeByTrialIndex(data_trial, data_et, column)"
   ]
  },
  {
   "cell_type": "code",
   "execution_count": null,
   "metadata": {},
   "outputs": [],
   "source": [
    "data_trial[\"fps\"] = 1000 * data_trial[\"count\"] / data_trial[\"trial_duration_exact\"]\n",
    "data_trial"
   ]
  },
  {
   "cell_type": "markdown",
   "metadata": {},
   "source": [
    "## data_trial_fixation"
   ]
  },
  {
   "cell_type": "code",
   "execution_count": null,
   "metadata": {},
   "outputs": [],
   "source": [
    "data_trial_fixation = data_trial.loc[\n",
    "         (data_trial['trial_type'] == 'eyetracking-fix-object') & \n",
    "         (pd.notna(data_trial['x_pos'])) &\n",
    "         (pd.notna(data_trial['y_pos'])) &\n",
    "         np.invert(data_trial['task_nr'] == 3), \n",
    "    ] \\\n",
    "    .reset_index(drop=True) \n",
    "# View(data_trial_fixation.drop(columns=['et_data']).tail(20)) "
   ]
  },
  {
   "cell_type": "markdown",
   "metadata": {},
   "source": [
    "## data_trial_choice"
   ]
  },
  {
   "cell_type": "code",
   "execution_count": null,
   "metadata": {},
   "outputs": [],
   "source": [
    "data_trial_choice = data_trial.loc[\n",
    "    data_trial[\"trial_type\"] == \"eyetracking-choice\", \n",
    "    [\n",
    "        'run_id', 'chinFirst',\n",
    "        'trial_duration_exact',\n",
    "        'window_width', 'window_height', \n",
    "        'window_width_max', 'window_height_max',\n",
    "        'window_diagonal_max', 'window_diagonal', \n",
    "        \n",
    "        'trial_index',  'withinTaskIndex',\n",
    "        'task_nr',\n",
    "        'time_elapsed',\n",
    "\n",
    "        'choiceTask_amountLeftFirst', \n",
    "        'key_press', \n",
    "        'option_topLeft', 'option_bottomLeft',\n",
    "        'option_topRight', 'option_bottomRight', \n",
    "        'x_mean', 'y_mean', \n",
    "        'count', 'fps'        \n",
    "    ]\n",
    "]"
   ]
  },
  {
   "cell_type": "code",
   "execution_count": null,
   "metadata": {
    "scrolled": true
   },
   "outputs": [],
   "source": [
    "for column in [\n",
    "                  'choseTop',\n",
    "                  'LL_top',\n",
    "                  'choseLL',\n",
    "                  'aLL',\n",
    "                  'aSS',\n",
    "                  'tLL',\n",
    "                  'tSS',\n",
    "                  'amountLeft'\n",
    "              ]:\n",
    "    data_trial_choice = mergeByTrialIndex(data_trial_choice, data_et_choice, column)"
   ]
  },
  {
   "cell_type": "code",
   "execution_count": null,
   "metadata": {},
   "outputs": [],
   "source": [
    "def addOptionIndex(data):\n",
    "    if \"optionIndex\" in data.columns:\n",
    "        print(\"Option Index already added!\")\n",
    "        data_output = data\n",
    "    else:\n",
    "        grouped = data_et_choice.groupby(['run_id', 'trial_index']) \\\n",
    "            ['aoi', 'aoi_amount_SS', 'aoi_amount_LL', 'aoi_delay_SS', 'aoi_delay_LL'].count() \\\n",
    "            .reset_index() \\\n",
    "            .rename(columns={\"aoi\": \"count\"})\n",
    "        grouped['gazePoints_immediate'] = (grouped['aoi_amount_SS'] + grouped['aoi_delay_SS'])\n",
    "        grouped['gazePoints_delay'] = (grouped['aoi_amount_LL'] + grouped['aoi_delay_LL'])\n",
    "        grouped['optionIndex'] = (grouped['gazePoints_immediate'] - grouped['gazePoints_delay']) / \\\n",
    "                                 (grouped['gazePoints_immediate'] + grouped['gazePoints_delay'])\n",
    "        data_output = data.merge(grouped[['run_id', 'trial_index', 'optionIndex']], \n",
    "                                          on=['run_id', 'trial_index'])\n",
    "    return(data_output)\n",
    "\n",
    "data_trial_choice = addOptionIndex(data_trial_choice)"
   ]
  },
  {
   "cell_type": "code",
   "execution_count": null,
   "metadata": {},
   "outputs": [],
   "source": [
    "def addAttributeIndex(data):\n",
    "    if \"attributeIndex\" in data.columns:\n",
    "        print('Attribute Index already added!')\n",
    "        data_output = data\n",
    "    else:\n",
    "        grouped = data_et_choice.groupby(['run_id', 'trial_index']) \\\n",
    "            ['aoi', 'aoi_amount_SS', 'aoi_amount_LL', 'aoi_delay_SS', 'aoi_delay_LL'].count() \\\n",
    "            .reset_index() \\\n",
    "            .rename(columns={\"aoi\": \"count\"})\n",
    "        grouped['gazePoints_amount'] = (grouped['aoi_amount_LL'] + grouped['aoi_amount_SS'])\n",
    "        grouped['gazePoints_time'] = (grouped['aoi_delay_LL'] + grouped['aoi_delay_SS'])\n",
    "        grouped['attributeIndex'] = (grouped['gazePoints_amount'] - grouped['gazePoints_time']) / \\\n",
    "                                 (grouped['gazePoints_amount'] + grouped['gazePoints_time'])\n",
    "\n",
    "        data_output = data.merge(grouped[['run_id', 'trial_index', 'attributeIndex']], \n",
    "                                          on=['run_id', 'trial_index'])\n",
    "    return(data_output)\n",
    "\n",
    "data_trial_choice = addAttributeIndex(data_trial_choice)"
   ]
  },
  {
   "cell_type": "code",
   "execution_count": null,
   "metadata": {},
   "outputs": [],
   "source": [
    "def addTransition_type(data_trial, data_et):\n",
    "    transition_count = pd.pivot_table(data_et.loc[:, ['run_id', 'trial_index', 'transition_type']], \n",
    "                        index = ['run_id', 'trial_index'],\n",
    "                        columns = ['transition_type'], \n",
    "                        aggfunc = len,\n",
    "                        fill_value = 0\n",
    "                        ).reset_index()\n",
    "    transition_count.columns = ['run_id', 'trial_index', \n",
    "                    \"trans_type_0\",\n",
    "                    \"trans_type_1\",\n",
    "                    \"trans_type_2\",\n",
    "                    \"trans_type_3\",\n",
    "                    \"trans_type_4\",\n",
    "                    \"trans_type_6\",\n",
    "                    \"trans_type_7\"]\n",
    "\n",
    "    if \"trans_type_0\" in data_trial:\n",
    "        print(\"Transitions already added!\")\n",
    "        data_trial = data_trial\n",
    "    else:\n",
    "        data_trial = data_trial.merge(transition_count, on=['run_id', 'trial_index']) \n",
    "    return(data_trial)\n",
    "\n",
    "data_trial_choice = addTransition_type(data_trial_choice, data_et_choice)"
   ]
  },
  {
   "cell_type": "code",
   "execution_count": null,
   "metadata": {},
   "outputs": [],
   "source": [
    "def addPayneIndex(data):\n",
    "    if \"payneIndex\" in data.columns:\n",
    "        print(\"PayneIndex already added!\")\n",
    "    else: \n",
    "        # Option-wise: amount_LL-delay_LL = 1; amount_SS - delay_SS = 4\n",
    "        # Attribute-wise: amount_LL-amount_SS = 3; delay_LL - delay_SS = 6\n",
    "        # Cross: amount_LL-delay_SS = 7; delay_LL - amount_SS = 2\n",
    "        optionWise_transition = data.loc[:, 'trans_type_1'] + data.loc[:, 'trans_type_4']\n",
    "        attributeWise_transition = data.loc[:, 'trans_type_3'] + data.loc[:, 'trans_type_6']  \n",
    "        data['payneIndex'] = (optionWise_transition - attributeWise_transition) / \\\n",
    "            (optionWise_transition + attributeWise_transition)      \n",
    "    return(data)\n",
    "\n",
    "data_trial_choice = addPayneIndex(data_trial_choice)"
   ]
  },
  {
   "cell_type": "code",
   "execution_count": null,
   "metadata": {},
   "outputs": [],
   "source": [
    "def k(aLL, aSS, tLL):\n",
    "    k = ((aLL / aSS) - 1) / tLL\n",
    "    return k\n",
    "\n",
    "data_trial_choice['k'] = k(data_trial_choice['aLL'], data_trial_choice['aSS'], data_trial_choice['tLL']) "
   ]
  },
  {
   "cell_type": "code",
   "execution_count": null,
   "metadata": {},
   "outputs": [],
   "source": [
    "def cleanChoiceData(data):\n",
    "    output = data.loc[data['trial_duration_exact'] < 10000, :]\n",
    "    return output\n",
    "\n",
    "data_trial_choice = cleanChoiceData(data_trial_choice)\n",
    "# View(data_trial_choice.tail(20)) "
   ]
  },
  {
   "cell_type": "markdown",
   "metadata": {},
   "source": [
    "# data_subject"
   ]
  },
  {
   "cell_type": "code",
   "execution_count": null,
   "metadata": {
    "scrolled": true
   },
   "outputs": [],
   "source": [
    "data_subject = data_raw.loc[: , \n",
    "          [\n",
    "               'run_id', 'subject', 'chinFirst',\n",
    "               'choiceTask_amountLeftFirst', 'webcam_label', 'webcam_Id', 'webcam_fps',\n",
    "               'webcam_aspectRatio', 'webcam_height', 'webcam_width', \n",
    "               'user_agent', 'device', 'browser',\n",
    "               'browser_version', 'platform', 'platform_version', \n",
    "               'bonusAmount', 'bonusDelay', 'prolificID', 'age',\n",
    "               'gender', 'ethnic', 'sight', 'glasses', 'degree', 'eyeshadow',\n",
    "               'masquara', 'eyeliner', 'browliner', 'vertPosition', 'triedChin',\n",
    "               'keptHead', 'optionalNote', 'window_width_max', 'window_height_max',\n",
    "               'window_diagonal_max'\n",
    "          ]\n",
    "     ].drop_duplicates()"
   ]
  },
  {
   "cell_type": "code",
   "execution_count": null,
   "metadata": {},
   "outputs": [],
   "source": [
    "def merge_group_means_by_subject(data, sourceData, varName):\n",
    "    if np.invert(varName in sourceData.columns): \n",
    "        print(varName + ' not in source Data!')\n",
    "    else:\n",
    "        if varName in data.columns:\n",
    "            print(varName + ' already added!')\n",
    "        else:\n",
    "            grouped = sourceData.groupby(['run_id']).mean() \\\n",
    "                .reset_index() \\\n",
    "                .loc[:, ['run_id', varName]]        \n",
    "            data = data.merge(grouped.loc[:, ['run_id', varName]], on=['run_id'], how='left')\n",
    "    return data"
   ]
  },
  {
   "cell_type": "code",
   "execution_count": null,
   "metadata": {},
   "outputs": [],
   "source": [
    "for column in [\n",
    "    'trial_duration_exact', \n",
    "    't_startTrial', \n",
    "    'window_width', \n",
    "    'window_height',\n",
    "    'fps'\n",
    "               ]:\n",
    "    data_subject = merge_group_means_by_subject(data_subject, data_trial, column)    "
   ]
  },
  {
   "cell_type": "code",
   "execution_count": null,
   "metadata": {},
   "outputs": [],
   "source": [
    "for column in [\n",
    "    'choseLL'\n",
    "               ]:\n",
    "    data_subject = merge_group_means_by_subject(data_subject, data_trial_choice, column)    "
   ]
  },
  {
   "cell_type": "code",
   "execution_count": null,
   "metadata": {},
   "outputs": [],
   "source": [
    "for column in [\n",
    "\n",
    "                   'offset',\n",
    "                   'precision', \n",
    "               ]:\n",
    "    data_subject = merge_group_means_by_subject(data_subject, data_et, column)    "
   ]
  },
  {
   "cell_type": "code",
   "execution_count": null,
   "metadata": {
    "scrolled": true
   },
   "outputs": [],
   "source": [
    "df = data_et_fixation.rename(columns={\n",
    "                                                'x_mean': 'x_mean_fixTask',\n",
    "                                                'y_mean': 'y_mean_fixTask'\n",
    "                                            })  \n",
    "for column in ['x_mean_fixTask', 'y_mean_fixTask']:\n",
    "    data_subject = merge_group_means_by_subject(data_subject, df, column)"
   ]
  },
  {
   "cell_type": "code",
   "execution_count": null,
   "metadata": {},
   "outputs": [],
   "source": [
    "columns = [\n",
    "            'chinFirst',\n",
    "            'eyeshadow', \n",
    "            'masquara',\n",
    "            'eyeliner',\n",
    "            'browliner',\n",
    "            'triedChin', \n",
    "            'keptHead',\n",
    "        ]\n",
    "\n",
    "data_subject[columns] = data_subject[columns].replace({'no': 0, 'yes': 1}) "
   ]
  },
  {
   "cell_type": "code",
   "execution_count": null,
   "metadata": {},
   "outputs": [],
   "source": [
    "# View(data_subject)"
   ]
  },
  {
   "cell_type": "markdown",
   "metadata": {},
   "source": [
    "# Add data_subject variables to data_trial variables"
   ]
  },
  {
   "cell_type": "code",
   "execution_count": null,
   "metadata": {},
   "outputs": [],
   "source": [
    "def merge_uniques_by_subject(data, sourceData, varName):\n",
    "    if np.invert(varName in sourceData.columns): \n",
    "        print(varName + ' not in source Data!')\n",
    "    else:\n",
    "        if varName in data.columns:\n",
    "            print(varName + ' already added!')\n",
    "        else:\n",
    "            grouped = sourceData.loc[:, \n",
    "                [\n",
    "                    'run_id', varName\n",
    "                ]\n",
    "            ] \\\n",
    "            .reset_index(drop=True) \\\n",
    "            .drop_duplicates()     \n",
    "            data = data.merge(grouped.loc[:, ['run_id', varName]], on=['run_id'], how='left')\n",
    "    return data\n",
    "\n",
    "for column in ['age', 'gender', 'ethnic', 'degree']:\n",
    "    data_trial_choice = merge_uniques_by_subject(data_trial_choice, data_subject, column)\n",
    "data_trial_choice"
   ]
  },
  {
   "cell_type": "markdown",
   "metadata": {},
   "source": [
    "# Export data"
   ]
  },
  {
   "cell_type": "code",
   "execution_count": null,
   "metadata": {},
   "outputs": [],
   "source": [
    "if not os.path.exists('./data_jupyter'):\n",
    "    os.mkdir('./data_jupyter')\n",
    "\n",
    "data_et.to_csv(\"data_jupyter/data_et.csv\", index=False, header=True)\n",
    "data_et_fixation.to_csv(\"data_jupyter/data_et_fixation.csv\", index=False, header=True)\n",
    "data_et_choice.to_csv(\"data_jupyter/data_et_choice.csv\", index=False, header=True)\n",
    "\n",
    "data_trial.to_csv(\"data_jupyter/data_trial.csv\", index=False, header=True)\n",
    "data_trial_fixation.to_csv(\"data_jupyter/data_trial_fixation.csv\", index=False, header=True)\n",
    "data_trial_choice.to_csv(\"data_jupyter/data_trial_choice.csv\", index=False, header=True)\n",
    "\n",
    "data_subject.to_csv(\"data_jupyter/data_subject.csv\", index=False, header=True)"
   ]
  },
  {
   "cell_type": "markdown",
   "metadata": {},
   "source": [
    "MatLab input"
   ]
  },
  {
   "cell_type": "code",
   "execution_count": null,
   "metadata": {},
   "outputs": [],
   "source": [
    "if not os.path.exists('./amasino_dataPrep/data_source'):\n",
    "    os.mkdir('./amasino_dataPrep/data_source')\n",
    "\n",
    "data_et_choice['fixationCounter'] = 1\n",
    "data_et_choice.loc[:, \n",
    "                       [\n",
    "                           'run_id', \n",
    "                           'withinTaskIndex', \n",
    "                           'x', \n",
    "                           'y', \n",
    "                           't_task', \n",
    "                           'window_width', \n",
    "                           'window_height',\n",
    "                       ]\n",
    "                  ] \\\n",
    "   .to_csv(\"amasino_dataPrep/data_source/schneegansEtAl_ET.csv\", index=False, header=False)"
   ]
  },
  {
   "cell_type": "code",
   "execution_count": null,
   "metadata": {},
   "outputs": [],
   "source": [
    "data_trial_choice.loc[:, \n",
    "                          [\n",
    "                              'run_id', \n",
    "                              'aSS', \n",
    "                              'aLL', \n",
    "                              'tSS', \n",
    "                              'tLL', \n",
    "                              'choseLL', \n",
    "                              'trial_duration_exact', \n",
    "                              'LL_top',\n",
    "                              'choseTop'\n",
    "                          ]\n",
    "                     ] \\\n",
    "    .to_csv(\"amasino_dataPrep/data_source/schneegansEtAl_behavior.csv\", index=False, header=False)"
   ]
  },
  {
   "cell_type": "code",
   "execution_count": null,
   "metadata": {},
   "outputs": [],
   "source": [
    "data_trial_choice.loc[:, \n",
    "                       [\n",
    "                           'run_id', \n",
    "                           'withinTaskIndex', \n",
    "                           'optionIndex', \n",
    "                           'attributeIndex', \n",
    "                           'payneIndex'\n",
    "                       ]\n",
    "                  ] \\\n",
    "    .fillna(0) \\\n",
    "    .to_csv(\"amasino_dataPrep/intermediateCSVs/ET_indices.csv\", index=False, header=False)"
   ]
  },
  {
   "cell_type": "code",
   "execution_count": null,
   "metadata": {},
   "outputs": [],
   "source": [
    "data_subject.loc[:, ['run_id', 'choseLL']] \\\n",
    "    .to_csv(\"amasino_dataPrep/intermediateCSVs/percLeft.csv\", index=False, header=False)"
   ]
  }
 ],
 "metadata": {
  "kernelspec": {
   "display_name": "Python 3",
   "language": "python",
   "name": "python3"
  },
  "language_info": {
   "codemirror_mode": {
    "name": "ipython",
    "version": 3
   },
   "file_extension": ".py",
   "mimetype": "text/x-python",
   "name": "python",
   "nbconvert_exporter": "python",
   "pygments_lexer": "ipython3",
   "version": "3.7.7"
  },
  "toc": {
   "base_numbering": 1,
   "nav_menu": {},
   "number_sections": true,
   "sideBar": true,
   "skip_h1_title": false,
   "title_cell": "Table of Contents",
   "title_sidebar": "Contents",
   "toc_cell": false,
   "toc_position": {
    "height": "calc(100% - 180px)",
    "left": "10px",
    "top": "150px",
    "width": "230.4px"
   },
   "toc_section_display": true,
   "toc_window_display": true
  }
 },
 "nbformat": 4,
 "nbformat_minor": 4
}
