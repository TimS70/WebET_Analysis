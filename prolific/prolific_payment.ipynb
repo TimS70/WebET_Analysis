{
 "cells": [
  {
   "cell_type": "code",
   "execution_count": 1,
   "metadata": {},
   "outputs": [
    {
     "name": "stdout",
     "output_type": "stream",
     "text": [
      "Current Working directory  C:\\Users\\User\\GitHub\\WebET_Analysis\\prolific\n"
     ]
    }
   ],
   "source": [
    "import datetime\n",
    "from datetime import timedelta  \n",
    "import matplotlib.pyplot as plt\n",
    "import numpy as np\n",
    "import os\n",
    "import pandas as pd\n",
    "import random\n",
    "import sys\n",
    "if sys.version_info[0] < 3: \n",
    "    from StringIO import StringIO\n",
    "else:\n",
    "    from io import StringIO\n",
    "from tqdm import tqdm \n",
    "\n",
    "    \n",
    "from IPython.display import HTML\n",
    "def View(df):\n",
    "    css = \"\"\"<style>\n",
    "    table { border-collapse: collapse; border: 3px solid #eee; }\n",
    "    table tr th:first-child { background-color: #eeeeee; color: #333; font-weight: bold }\n",
    "    table thead th { background-color: #eee; color: #000; }\n",
    "    tr, th, td { border: 1px solid #ccc; border-width: 1px 0 0 1px; border-collapse: collapse;\n",
    "    padding: 3px; font-family: monospace; font-size: 10px }</style>\n",
    "    \"\"\"\n",
    "    s  = '<script type=\"text/Javascript\">'\n",
    "    s += 'var win = window.open(\"\", \"Title\", \"toolbar=no, location=no, directories=no, status=no, menubar=no, scrollbars=yes, resizable=yes, width=780, height=200, top=\"+(screen.height-400)+\", left=\"+(screen.width-840));'\n",
    "    s += 'win.document.body.innerHTML = \\'' + (df.to_html() + css).replace(\"\\n\",'\\\\') + '\\';'\n",
    "    s += '</script>'\n",
    "    return(HTML(s+css))    \n",
    "    \n",
    "print(\"Current Working directory \" , os.getcwd())"
   ]
  },
  {
   "cell_type": "code",
   "execution_count": 2,
   "metadata": {},
   "outputs": [
    {
     "name": "stdout",
     "output_type": "stream",
     "text": [
      "                length\n",
      "data_et        2700001\n",
      "data_trial      132631\n",
      "data_subject       302\n",
      "data_prolific      357\n"
     ]
    }
   ],
   "source": [
    "data_et = pd.read_csv(r'C:/Users/User/GitHub/WebET_Analysis/data_jupyter/data_et.csv')\n",
    "data_trial = pd.read_csv(r'C:/Users/User/GitHub/WebET_Analysis/data_jupyter/data_trial.csv')\n",
    "data_subject = pd.read_csv(r'C:/Users/User/GitHub/WebET_Analysis/data_jupyter/data_subject_raw.csv') \\\n",
    "    .loc[:, \n",
    "            ['run_id', 'prolificID', \n",
    "             'birthyear', 'webcam_fps', 'webcam_label', \n",
    "             'chosenAmount', 'chosenDelay']] \\\n",
    "   .drop_duplicates() \\\n",
    "   .rename(columns={'chosenAmount': 'bonus_USD',\n",
    "                    'chosenDelay': 'bonus_delay'})\n",
    "data_subject['prolificID'] = data_subject['prolificID'].str.strip()\n",
    "\n",
    "data_prolific_int = pd.read_csv(r'C:/Users/User/GitHub/WebET_Analysis/prolific/prolific_export_int.csv') \\\n",
    "    .rename(columns={'participant_id': 'prolificID'}) \n",
    "\n",
    "data_prolific_us = pd.read_csv(r'C:/Users/User/GitHub/WebET_Analysis/prolific/prolific_export_us.csv') \\\n",
    "    .rename(columns={'participant_id': 'prolificID'}) \\\n",
    "\n",
    "data_prolific = data_prolific_int \\\n",
    "    .append(data_prolific_us) \\\n",
    "    .merge(data_subject,\n",
    "           on='prolificID', \n",
    "           how='left')\n",
    "\n",
    "overview = pd.DataFrame(\n",
    "    [\n",
    "        [len(data_et)],\n",
    "        [len(data_trial)],\n",
    "        [len(data_subject)],\n",
    "        [len(data_prolific)]\n",
    "    ], \n",
    "    columns=['length'],\n",
    "    index=['data_et', \n",
    "           'data_trial',\n",
    "           'data_subject', \n",
    "           'data_prolific'])\n",
    "print(overview)"
   ]
  },
  {
   "cell_type": "markdown",
   "metadata": {},
   "source": [
    "# Approve subjects"
   ]
  },
  {
   "cell_type": "code",
   "execution_count": 3,
   "metadata": {
    "scrolled": true
   },
   "outputs": [],
   "source": [
    "if 'trial_length' in data_prolific.columns: \n",
    "    data_prolific = data_prolific.drop(columns='trial_length')\n",
    "\n",
    "output = []\n",
    "for subject in data_trial['run_id'].unique():\n",
    "    prolificID = data_trial.loc[data_trial['run_id']==subject, 'prolificID'].unique()[0]\n",
    "    trial_length = len(data_trial.loc[data_trial['run_id']==subject, 'trial_index'].unique())\n",
    "    output.append([subject, prolificID, trial_length])\n",
    "output = pd.DataFrame(output,\n",
    "             columns=['run_id', 'prolificID', 'trial_length']\n",
    "            )\n",
    "\n",
    "data_prolific = data_prolific.merge(\n",
    "    output, \n",
    "    on=['run_id', 'prolificID'], \n",
    "    how='left')"
   ]
  },
  {
   "cell_type": "code",
   "execution_count": 4,
   "metadata": {},
   "outputs": [],
   "source": [
    "data_et = data_et.merge(\n",
    "    data_trial.loc[:, ['run_id', 'chinFirst', 'trial_index', 'trial_type', 'task_nr']], \n",
    "    on=['run_id', 'trial_index'], \n",
    "    how='left'\n",
    ")"
   ]
  },
  {
   "cell_type": "code",
   "execution_count": null,
   "metadata": {},
   "outputs": [
    {
     "name": "stderr",
     "output_type": "stream",
     "text": [
      " 74%|███████████████████████████████████████████████████████████                     | 186/252 [04:29<01:21,  1.23s/it]"
     ]
    }
   ],
   "source": [
    "output = []\n",
    "for subject in tqdm(data_et['run_id'].unique()):\n",
    "    m_x_fix = data_et.loc[\n",
    "        (data_et['run_id']==subject) &\n",
    "        (data_et['trial_type']=='eyetracking-fix-object') &\n",
    "        ~((data_et['chinFirst']==1) & (data_et['task_nr']==2) |\n",
    "          (data_et['chinFirst']==0) & (data_et['task_nr']==3) \n",
    "         ), \n",
    "        'x'\n",
    "    ].mean()\n",
    "    m_x_choice = data_et.loc[\n",
    "        (data_et['run_id']==subject) &\n",
    "        (data_et['trial_type']=='eyetracking-choice'), \n",
    "        'x'\n",
    "    ].mean()\n",
    "\n",
    "    m_y_fix = data_et.loc[\n",
    "        (data_et['run_id']==subject) &\n",
    "        (data_et['trial_type']=='eyetracking-fix-object') &\n",
    "        ~((data_et['chinFirst']==1) & (data_et['task_nr']==2) |\n",
    "          (data_et['chinFirst']==0) & (data_et['task_nr']==3) \n",
    "         ), \n",
    "        'y'\n",
    "    ].mean()\n",
    "    m_y_choice = data_et.loc[\n",
    "        (data_et['run_id']==subject) &\n",
    "        (data_et['trial_type']=='eyetracking-choice'), \n",
    "        'y'\n",
    "    ].mean()\n",
    "\n",
    "    m_count_fix = data_et.loc[\n",
    "        (data_et['run_id']==subject) &\n",
    "        (data_et['trial_type']=='eyetracking-fix-object') &\n",
    "        ~((data_et['chinFirst']==1) & (data_et['task_nr']==2) |\n",
    "          (data_et['chinFirst']==0) & (data_et['task_nr']==3) \n",
    "         ), \n",
    "        'x'\n",
    "    ].count()\n",
    "\n",
    "    m_count_choice = data_et.loc[\n",
    "        (data_et['run_id']==subject) &\n",
    "        (data_et['trial_type']=='eyetracking-choice'), \n",
    "        'x'\n",
    "    ].count()\n",
    "    \n",
    "    n_choseTop = sum(data_trial.loc[\n",
    "        (data_trial['trial_type']=='eyetracking-choice') &\n",
    "        (data_trial['run_id']==subject),\n",
    "        'key_press']==38)\n",
    "\n",
    "    output.append([subject, m_x_fix, m_y_fix, m_x_choice, m_y_choice, \n",
    "                   m_count_fix, m_count_choice, \n",
    "                   n_choseTop])\n",
    "\n",
    "output = pd.DataFrame(output, \n",
    "                      columns=['run_id', 'm_x_fix', 'm_y_fix', 'm_x_choice', 'm_y_choice', \n",
    "                               'm_count_fix', 'm_count_choice',\n",
    "                               'n_choseTop'])\n",
    "output\n",
    "\n",
    "data_prolific = data_prolific.merge(output, on='run_id', how='left')"
   ]
  },
  {
   "cell_type": "markdown",
   "metadata": {},
   "source": [
    "# These subjects await review"
   ]
  },
  {
   "cell_type": "code",
   "execution_count": null,
   "metadata": {},
   "outputs": [],
   "source": [
    "data_prolific['status'].unique()"
   ]
  },
  {
   "cell_type": "code",
   "execution_count": null,
   "metadata": {
    "scrolled": true
   },
   "outputs": [],
   "source": [
    "awaiting_review = data_prolific.loc[\n",
    "    data_prolific['status']=='AWAITING REVIEW', \n",
    "    ['run_id', 'prolificID', 'started_datetime', 'time_taken', 'trial_length',\n",
    "     #'m_x_fix', 'm_y_fix', 'm_x_choice', 'm_y_choice', 'm_count_fix', 'm_count_choice',\n",
    "     #'n_choseTop'\n",
    "    ]\n",
    "].sort_values(by='started_datetime')\n",
    "awaiting_review\n",
    "# View(awaiting_review)"
   ]
  },
  {
   "cell_type": "code",
   "execution_count": null,
   "metadata": {},
   "outputs": [],
   "source": [
    "data_prolific.loc[\n",
    "    data_prolific['status']=='AWAITING REVIEW', \n",
    "    'prolificID'].to_csv(header=None, index=False, line_terminator=', ')"
   ]
  },
  {
   "cell_type": "code",
   "execution_count": null,
   "metadata": {},
   "outputs": [],
   "source": [
    "if 'choice_rt' in data_prolific.columns:\n",
    "    data_prolific = data_prolific.drop(columns='choice_rt')\n",
    "grouped = data_trial \\\n",
    "    .loc[\n",
    "        data_trial['trial_type']=='eyetracking-choice', \n",
    "        :] \\\n",
    "    .groupby(['prolificID'])['rt'].mean() \\\n",
    "    .reset_index() \\\n",
    "    .rename(columns={'rt': 'choice_rt'})\n",
    "\n",
    "data_prolific = data_prolific.merge(\n",
    "    grouped, \n",
    "    on='prolificID', \n",
    "    how='left')\n",
    "\n",
    "data_prolific.loc[\n",
    "    data_prolific['status']=='AWAITING REVIEW', \n",
    "    ['run_id', 'prolificID', 'webcam_fps', \n",
    "     'choice_rt', 'bonus_USD', 'bonus_delay']\n",
    "] \\\n",
    "    .sort_values(by='run_id')"
   ]
  },
  {
   "cell_type": "markdown",
   "metadata": {},
   "source": [
    "# data_pay"
   ]
  },
  {
   "cell_type": "code",
   "execution_count": null,
   "metadata": {},
   "outputs": [],
   "source": [
    "data_pay = data_prolific.loc[\n",
    "    data_prolific['status']=='APPROVED', \n",
    "    [\n",
    "        'run_id', 'prolificID', 'trial_length', \n",
    "        'age',  'Country of Birth', 'Current Country of Residence', 'First Language',\n",
    "        'Nationality', 'Sex',\n",
    "        'status', 'reviewed_at_datetime', 'Country of Birth', 'entered_code',\n",
    "        'session_id', 'started_datetime', 'completed_date_time', 'time_taken',\n",
    "        'bonus_USD', 'bonus_delay'\n",
    "    ]\n",
    "]\n",
    "print(len(data_pay))"
   ]
  },
  {
   "cell_type": "markdown",
   "metadata": {},
   "source": [
    "# Bonus payment"
   ]
  },
  {
   "cell_type": "markdown",
   "metadata": {},
   "source": [
    "Reformat payments"
   ]
  },
  {
   "cell_type": "code",
   "execution_count": null,
   "metadata": {
    "scrolled": true
   },
   "outputs": [],
   "source": [
    "data_pay['bonus_delay'] = data_pay['bonus_delay'].astype(str)\n",
    "data_pay['bonus_delay'] = data_pay['bonus_delay'] \\\n",
    "    .replace(['Today', 'Tomorrow', '7 days', \n",
    "          '15 days', '30 days', '90 days', \n",
    "          '180 days'], \n",
    "         [0, 1, 7, 15, 30, 90, 180]) \\\n",
    "    .astype(float)\n",
    "\n",
    "data_pay['bonus_USD'] = data_pay['bonus_USD'].astype(str)\n",
    "data_pay['bonus_USD'] = data_pay['bonus_USD'] \\\n",
    "    .replace({'\\$':''}, regex = True) \\\n",
    "    .replace('50 cent', 0.5) \\\n",
    "    .astype(float)\n",
    "\n",
    "data_pay.loc[:, ['bonus_USD', 'bonus_delay']].head(5)"
   ]
  },
  {
   "cell_type": "markdown",
   "metadata": {},
   "source": [
    "## Missing values"
   ]
  },
  {
   "cell_type": "code",
   "execution_count": null,
   "metadata": {},
   "outputs": [],
   "source": [
    "data_pay.loc[pd.isna(data_pay['bonus_delay']), \n",
    "             ['run_id', 'prolificID', 'started_datetime', \n",
    "              'trial_length', 'bonus_delay', 'status']]"
   ]
  },
  {
   "cell_type": "code",
   "execution_count": null,
   "metadata": {},
   "outputs": [],
   "source": [
    "# For two subjects, the bonus payment was not recorded\n",
    "data_pay.loc[\n",
    "    data_pay['prolificID'].isin([\n",
    "        '5ef6d07be683903cd5ae171d',\n",
    "        '5fea6632bf9ae4a79153efdf',\n",
    "        '60186dc2cc1aa8103499603a',\n",
    "        '5f4fe72e9468441227166179',\n",
    "        '5ec5a64c306f255ec98d5cc1',\n",
    "        '5b8969006651ea000118e42e', \n",
    "        '5fb2af792942a58ffe303948', \n",
    "        '5edc20443467e28ec4e30f93',\n",
    "        '5fa1192cf99e161a5cfad1cd', \n",
    "        '5d430fdf871f1700017b2a81',\n",
    "        '5c95970cd676900016e1a940',\n",
    "    ]), ['bonus_USD', 'bonus_delay']] = [5, 1]\n",
    "\n",
    "data_pay.loc[data_pay['prolificID'].isin([\n",
    "        '5fea6632bf9ae4a79153efdf',\n",
    "        '5ef6d07be683903cd5ae171d',\n",
    "        '60186dc2cc1aa8103499603a',\n",
    "        '5f4fe72e9468441227166179',\n",
    "        '5ec5a64c306f255ec98d5cc1',\n",
    "        '5b8969006651ea000118e42e', \n",
    "        '5fb2af792942a58ffe303948', \n",
    "        '5edc20443467e28ec4e30f93',\n",
    "        '5fa1192cf99e161a5cfad1cd', \n",
    "        '5d430fdf871f1700017b2a81',\n",
    "        '5c95970cd676900016e1a940',\n",
    "        ]), ['run_id', 'prolificID', 'bonus_USD', 'bonus_delay']]"
   ]
  },
  {
   "cell_type": "code",
   "execution_count": null,
   "metadata": {
    "scrolled": true
   },
   "outputs": [],
   "source": [
    "data_pay.loc[\n",
    "    data_pay[['bonus_USD', 'bonus_delay']].isnull().any(axis=1), \n",
    "    ['run_id', 'prolificID', 'trial_length', 'started_datetime', 'reviewed_at_datetime']\n",
    "].sort_values(by='started_datetime')"
   ]
  },
  {
   "cell_type": "code",
   "execution_count": null,
   "metadata": {},
   "outputs": [],
   "source": [
    "data_prolific.loc[\n",
    "    data_prolific['prolificID']=='5f561a95aa1c4ea13672f138',\n",
    "]"
   ]
  },
  {
   "cell_type": "code",
   "execution_count": null,
   "metadata": {},
   "outputs": [],
   "source": [
    "data_subject.loc[\n",
    "    data_subject['prolificID']=='5f561a95aa1c4ea13672f138',\n",
    "]"
   ]
  },
  {
   "cell_type": "markdown",
   "metadata": {},
   "source": [
    "## Bonus in other currencies"
   ]
  },
  {
   "cell_type": "code",
   "execution_count": null,
   "metadata": {},
   "outputs": [],
   "source": [
    "data_pay['bonus_GBP'] = data_pay['bonus_USD'] * 0.75\n",
    "data_pay['bonus_EUR'] = data_pay['bonus_GBP'] * 1.13"
   ]
  },
  {
   "cell_type": "markdown",
   "metadata": {},
   "source": [
    "## When is the bonus due?"
   ]
  },
  {
   "cell_type": "code",
   "execution_count": null,
   "metadata": {},
   "outputs": [],
   "source": [
    "def add_completed_date(data, data_trial):\n",
    "    output = []\n",
    "\n",
    "    for subject in data_trial['run_id'].unique():\n",
    "        thisSubject = data_trial.loc[data_trial['run_id']==subject] \\\n",
    "            .reset_index(drop=True)\n",
    "        date_time_obj = datetime.datetime.strptime(\n",
    "            thisSubject.loc[0, 'recorded_at'], '%Y-%m-%d %H:%M:%S')\n",
    "\n",
    "        output.append([thisSubject.loc[0, 'run_id'], date_time_obj.date()])\n",
    "        \n",
    "    output = pd.DataFrame(output, columns=['run_id', 'date']) \n",
    "    \n",
    "    if 'date' in data.columns: data = data.drop(columns=['date'])\n",
    "    data = data.merge(output, on='run_id', how='left')\n",
    "    return data\n",
    "\n",
    "data_pay = add_completed_date(data_pay, data_trial)\n",
    "    \n",
    "data_pay.loc[data_pay['run_id']==444, 'completed_date_time'] = \\\n",
    "    '2021-02-13 21:52:30.000000'\n",
    "    \n",
    "data_pay['completed_date']=data_pay.apply(\n",
    "    lambda x: datetime.datetime.strptime(\n",
    "        x['completed_date_time'], '%Y-%m-%d %H:%M:%S.%f') \\\n",
    "            .date(),\n",
    "    axis=1)\n",
    "\n",
    "data_pay['due_on'] = data_pay['completed_date'] + \\\n",
    "    data_pay['bonus_delay'].map(datetime.timedelta) \n",
    "\n",
    "print(len(data_pay))"
   ]
  },
  {
   "cell_type": "code",
   "execution_count": null,
   "metadata": {},
   "outputs": [],
   "source": [
    "data_due = data_pay.loc[:, \n",
    "               [\n",
    "                   'prolificID', 'run_id',\n",
    "                   'Nationality', 'Current Country of Residence', 'Sex',  \n",
    "                   'bonus_USD', 'bonus_GBP', 'bonus_EUR', \n",
    "                   'completed_date', 'bonus_delay', 'due_on'\n",
    "               ]\n",
    "              ]. sort_values(by='due_on')\n",
    "# View(data_due)"
   ]
  },
  {
   "cell_type": "markdown",
   "metadata": {},
   "source": [
    "## What bonus is due today? "
   ]
  },
  {
   "cell_type": "code",
   "execution_count": null,
   "metadata": {
    "scrolled": true
   },
   "outputs": [],
   "source": [
    "bonus_due_today = data_pay.loc[\n",
    "    (data_pay['due_on']==datetime.datetime.now().date()), \n",
    "    ['run_id', 'prolificID', 'status', \n",
    "     'started_datetime', 'reviewed_at_datetime', \n",
    "     'bonus_GBP', 'bonus_delay', 'due_on']\n",
    "]\n",
    "bonus_due_today['bonus_GBP'] = bonus_due_today['bonus_GBP'].round(2)\n",
    "bonus_due_today"
   ]
  },
  {
   "cell_type": "code",
   "execution_count": null,
   "metadata": {
    "scrolled": true
   },
   "outputs": [],
   "source": [
    "bonus_due_today.loc[\n",
    "    bonus_due_today['run_id']<=130, \n",
    "    ['prolificID', 'bonus_GBP']] \\\n",
    "    .to_csv(\n",
    "        'C:/Users/User/GitHub/WebET_Analysis/prolific/bonusToday_int.csv', \n",
    "        index=False, \n",
    "        header=False\n",
    "    )\n",
    "\n",
    "bonus_due_today.loc[\n",
    "    bonus_due_today['run_id']>130, \n",
    "    ['prolificID', 'bonus_GBP']] \\\n",
    "    .to_csv(\n",
    "        'C:/Users/User/GitHub/WebET_Analysis/prolific/bonusToday_us.csv', \n",
    "        index=False, \n",
    "        header=False\n",
    "    )\n",
    "print(bonus_due_today['due_on'].unique())"
   ]
  },
  {
   "cell_type": "markdown",
   "metadata": {},
   "source": [
    "## Bonus left to pay"
   ]
  },
  {
   "cell_type": "code",
   "execution_count": null,
   "metadata": {},
   "outputs": [],
   "source": [
    "data_pay.loc[\n",
    "    data_pay['due_on']>datetime.datetime.now().date(), \n",
    "    ['prolificID', 'completed_date', 'bonus_GBP', 'due_on']]"
   ]
  },
  {
   "cell_type": "code",
   "execution_count": null,
   "metadata": {},
   "outputs": [],
   "source": [
    "left_bonus = data_pay.loc[\n",
    "    data_pay['due_on']>datetime.datetime.now().date(), \n",
    "    'bonus_GBP'].sum()\n",
    "\n",
    "print(f'Left bonus (GBP): {left_bonus * 1.2 + (left_bonus*0.2*0.2)}')"
   ]
  },
  {
   "cell_type": "markdown",
   "metadata": {},
   "source": [
    "# Total costs"
   ]
  },
  {
   "cell_type": "markdown",
   "metadata": {},
   "source": [
    "## Basic payment"
   ]
  },
  {
   "cell_type": "code",
   "execution_count": null,
   "metadata": {
    "scrolled": true
   },
   "outputs": [],
   "source": [
    "data_pay['basic_GBP'] = 2.25\n",
    "data_pay.loc[:, ['basic_GBP', 'bonus_GBP']].head(5)"
   ]
  },
  {
   "cell_type": "markdown",
   "metadata": {},
   "source": [
    "## Total"
   ]
  },
  {
   "cell_type": "code",
   "execution_count": null,
   "metadata": {},
   "outputs": [],
   "source": [
    "print('N =' + str(len(data_pay)) + '\\n')\n",
    "\n",
    "reward_basic = data_pay['basic_GBP'].sum()\n",
    "service_fee = reward_basic * 0.2\n",
    "vat = reward_basic * 0.2*0.2\n",
    "total_basic = data_pay['basic_GBP'].sum() * 1.4\n",
    "total_bonus = data_pay['bonus_GBP'].sum() * 1.4\n",
    "total = total_basic + total_bonus\n",
    "\n",
    "overview = pd.DataFrame(\n",
    "    [\n",
    "        [reward_basic], \n",
    "        [service_fee], [vat], \n",
    "        [total_basic], [total_bonus], [total]\n",
    "    ], \n",
    "    columns=['GBP'],\n",
    "    index= ['reward_basic', \n",
    "        'service_fee', 'vat', \n",
    "        'total_basic', 'total_bonus', 'total'])\n",
    "print(str(overview) + '\\n')\n",
    "\n",
    "print('Total in €, incl. transaction fee: ' + str(total * 1.14))"
   ]
  },
  {
   "cell_type": "markdown",
   "metadata": {},
   "source": [
    "## Total already paid \n",
    "Basic + bonus until today. Use that to compare with prolific bills"
   ]
  },
  {
   "cell_type": "code",
   "execution_count": null,
   "metadata": {},
   "outputs": [],
   "source": [
    "bonus_GBP_already_paid = data_pay.loc[\n",
    "    data_pay['due_on']<=datetime.datetime.now().date(), \n",
    "    'bonus_GBP'].sum()\n",
    "\n",
    "reward_basic = data_pay['basic_GBP'].sum()\n",
    "service_fee = (reward_basic + bonus_GBP_already_paid) * 0.2\n",
    "vat = (reward_basic + bonus_GBP_already_paid) * 0.2*0.2\n",
    "total_basic = data_pay['basic_GBP'].sum() * 1.4\n",
    "total_bonus = bonus_GBP_already_paid * 1.4\n",
    "total = total_basic + total_bonus\n",
    "\n",
    "overview = pd.DataFrame(\n",
    "    [\n",
    "        [reward_basic], \n",
    "        [service_fee], [vat], \n",
    "        [total_basic], [total_bonus], [total]\n",
    "    ], \n",
    "    columns=['GBP'],\n",
    "    index= ['reward_basic', \n",
    "        'service_fee', 'vat', \n",
    "        'total_basic', 'total_bonus', 'total'])\n",
    "print(str(overview) + '\\n')\n",
    "\n",
    "print('Total in €, incl. transaction fee: ' + str(total * 1.14))"
   ]
  },
  {
   "cell_type": "markdown",
   "metadata": {},
   "source": [
    "# Prognosis for the larger sample"
   ]
  },
  {
   "cell_type": "code",
   "execution_count": null,
   "metadata": {},
   "outputs": [],
   "source": [
    "def cost_prognosis(n):\n",
    "    reward_basic = n * data_pay['basic_GBP'].mean()\n",
    "    reward_bonus = n * data_pay['bonus_GBP'].mean()\n",
    "        \n",
    "    total_reward = reward_basic + reward_bonus\n",
    "    service_fee  = total_reward * 0.2\n",
    "    vat          = total_reward * 0.2*0.2\n",
    "    total_basic  = reward_basic + reward_basic*0.2 + reward_basic*0.2*0.2\n",
    "    total_bonus  = reward_bonus + reward_bonus*0.2 + reward_bonus*0.2*0.2\n",
    "    total        = total_reward + service_fee + vat\n",
    "\n",
    "    overview = pd.DataFrame(\n",
    "        [\n",
    "            [reward_basic], [reward_bonus], [total_reward],\n",
    "            [service_fee], [vat], \n",
    "            [total_basic], [total_bonus], [total], [total * 1.14]\n",
    "        ], \n",
    "        columns=[n],\n",
    "        index= ['reward_basic', 'reward_bonus', 'total_reward',\n",
    "            'service_fee', 'vat', \n",
    "            'total_basic', 'total_bonus', 'total GBP', 'total EUR'])\n",
    "    overview = round(overview, 2)\n",
    "    return(overview)\n",
    "\n",
    "print('Budget: ' + str(round(2101*0.88, 2)) + ' GBP / ' + \n",
    "      '2101.00 EUR / ' +\n",
    "      'n=' + str(int(np.floor((2101*0.88)/6.6)))\n",
    "     )\n",
    "\n",
    "print('Paid:   1700.50 GBP / ' + \n",
    "      str(round(1700.5*1.15, 2)) + ' EUR / ' + \n",
    "      'n=' + str(int(np.floor(1700.5/6.6))))\n",
    "buffer_EUR = 2101-1955.57\n",
    "buffer_GBP = buffer_EUR * 0.88\n",
    "print('Buffer: ' + str(round(buffer_GBP, 2)) + ' /  ' + \n",
    "      str(round(buffer_EUR, 2)) + ' EUR / n=' + \n",
    "      str(int(np.floor(buffer_GBP/6.6))) + '\\n')\n",
    "print('Collect 207 more participants.')\n",
    "\n",
    "pd.concat([\n",
    "    cost_prognosis(1),\n",
    "    cost_prognosis(50),\n",
    "    cost_prognosis(257), \n",
    "    cost_prognosis(207)\n",
    "], axis=1)"
   ]
  },
  {
   "cell_type": "markdown",
   "metadata": {},
   "source": [
    "# Export modified prolific data"
   ]
  },
  {
   "cell_type": "code",
   "execution_count": null,
   "metadata": {},
   "outputs": [],
   "source": [
    "data_pay.to_csv('C:/Users/User/GitHub/WebET_Analysis/prolific/data_pay.csv', index=False, header=True)"
   ]
  },
  {
   "cell_type": "markdown",
   "metadata": {},
   "source": [
    "# Feedback"
   ]
  },
  {
   "cell_type": "code",
   "execution_count": null,
   "metadata": {},
   "outputs": [],
   "source": [
    "print('Success! Script ran through.')"
   ]
  }
 ],
 "metadata": {
  "kernelspec": {
   "display_name": "Python 3",
   "language": "python",
   "name": "python3"
  },
  "language_info": {
   "codemirror_mode": {
    "name": "ipython",
    "version": 3
   },
   "file_extension": ".py",
   "mimetype": "text/x-python",
   "name": "python",
   "nbconvert_exporter": "python",
   "pygments_lexer": "ipython3",
   "version": "3.8.5"
  },
  "toc": {
   "base_numbering": 1,
   "nav_menu": {},
   "number_sections": true,
   "sideBar": true,
   "skip_h1_title": false,
   "title_cell": "Table of Contents",
   "title_sidebar": "Contents",
   "toc_cell": false,
   "toc_position": {
    "height": "572.8px",
    "left": "287px",
    "top": "202.533px",
    "width": "281.6px"
   },
   "toc_section_display": true,
   "toc_window_display": true
  }
 },
 "nbformat": 4,
 "nbformat_minor": 4
}
