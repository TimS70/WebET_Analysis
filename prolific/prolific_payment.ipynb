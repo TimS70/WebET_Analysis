{
 "cells": [
  {
   "cell_type": "code",
   "execution_count": 1,
   "metadata": {},
   "outputs": [
    {
     "name": "stdout",
     "output_type": "stream",
     "text": [
      "Current Working directory  C:\\Users\\User\\GitHub\\WebET_Analysis\\prolific\n"
     ]
    }
   ],
   "source": [
    "import datetime\n",
    "from datetime import timedelta  \n",
    "import matplotlib.pyplot as plt\n",
    "import numpy as np\n",
    "import os\n",
    "import pandas as pd\n",
    "import random\n",
    "import sys\n",
    "if sys.version_info[0] < 3: \n",
    "    from StringIO import StringIO\n",
    "else:\n",
    "    from io import StringIO\n",
    "from tqdm import tqdm \n",
    "\n",
    "    \n",
    "from IPython.display import HTML\n",
    "def View(df):\n",
    "    css = \"\"\"<style>\n",
    "    table { border-collapse: collapse; border: 3px solid #eee; }\n",
    "    table tr th:first-child { background-color: #eeeeee; color: #333; font-weight: bold }\n",
    "    table thead th { background-color: #eee; color: #000; }\n",
    "    tr, th, td { border: 1px solid #ccc; border-width: 1px 0 0 1px; border-collapse: collapse;\n",
    "    padding: 3px; font-family: monospace; font-size: 10px }</style>\n",
    "    \"\"\"\n",
    "    s  = '<script type=\"text/Javascript\">'\n",
    "    s += 'var win = window.open(\"\", \"Title\", \"toolbar=no, location=no, directories=no, status=no, menubar=no, scrollbars=yes, resizable=yes, width=780, height=200, top=\"+(screen.height-400)+\", left=\"+(screen.width-840));'\n",
    "    s += 'win.document.body.innerHTML = \\'' + (df.to_html() + css).replace(\"\\n\",'\\\\') + '\\';'\n",
    "    s += '</script>'\n",
    "    return(HTML(s+css))    \n",
    "    \n",
    "print(\"Current Working directory \" , os.getcwd())"
   ]
  },
  {
   "cell_type": "code",
   "execution_count": 2,
   "metadata": {},
   "outputs": [
    {
     "name": "stdout",
     "output_type": "stream",
     "text": [
      "                length\n",
      "data_et        2700001\n",
      "data_trial      132631\n",
      "data_subject       302\n",
      "data_prolific      357\n"
     ]
    }
   ],
   "source": [
    "data_et = pd.read_csv(r'C:/Users/User/GitHub/WebET_Analysis/data_jupyter/data_et.csv')\n",
    "data_trial = pd.read_csv(r'C:/Users/User/GitHub/WebET_Analysis/data_jupyter/data_trial.csv')\n",
    "data_subject = pd.read_csv(r'C:/Users/User/GitHub/WebET_Analysis/data_jupyter/data_subject_raw.csv') \\\n",
    "    .loc[:, \n",
    "            ['run_id', 'prolificID', \n",
    "             'birthyear', 'webcam_fps', 'webcam_label', \n",
    "             'chosenAmount', 'chosenDelay']] \\\n",
    "   .drop_duplicates() \\\n",
    "   .rename(columns={'chosenAmount': 'bonus_USD',\n",
    "                    'chosenDelay': 'bonus_delay'})\n",
    "data_subject['prolificID'] = data_subject['prolificID'].str.strip()\n",
    "\n",
    "data_prolific_int = pd.read_csv(r'C:/Users/User/GitHub/WebET_Analysis/prolific/prolific_export_int.csv') \\\n",
    "    .rename(columns={'participant_id': 'prolificID'}) \n",
    "\n",
    "data_prolific_us = pd.read_csv(r'C:/Users/User/GitHub/WebET_Analysis/prolific/prolific_export_us.csv') \\\n",
    "    .rename(columns={'participant_id': 'prolificID'}) \\\n",
    "\n",
    "data_prolific = data_prolific_int \\\n",
    "    .append(data_prolific_us) \\\n",
    "    .merge(data_subject,\n",
    "           on='prolificID', \n",
    "           how='left')\n",
    "\n",
    "overview = pd.DataFrame(\n",
    "    [\n",
    "        [len(data_et)],\n",
    "        [len(data_trial)],\n",
    "        [len(data_subject)],\n",
    "        [len(data_prolific)]\n",
    "    ], \n",
    "    columns=['length'],\n",
    "    index=['data_et', \n",
    "           'data_trial',\n",
    "           'data_subject', \n",
    "           'data_prolific'])\n",
    "print(overview)"
   ]
  },
  {
   "cell_type": "markdown",
   "metadata": {},
   "source": [
    "# Approve subjects"
   ]
  },
  {
   "cell_type": "code",
   "execution_count": 3,
   "metadata": {
    "scrolled": true
   },
   "outputs": [],
   "source": [
    "if 'trial_length' in data_prolific.columns: \n",
    "    data_prolific = data_prolific.drop(columns='trial_length')\n",
    "\n",
    "output = []\n",
    "for subject in data_trial['run_id'].unique():\n",
    "    prolificID = data_trial.loc[data_trial['run_id']==subject, 'prolificID'].unique()[0]\n",
    "    trial_length = len(data_trial.loc[data_trial['run_id']==subject, 'trial_index'].unique())\n",
    "    output.append([subject, prolificID, trial_length])\n",
    "output = pd.DataFrame(output,\n",
    "             columns=['run_id', 'prolificID', 'trial_length']\n",
    "            )\n",
    "\n",
    "data_prolific = data_prolific.merge(\n",
    "    output, \n",
    "    on=['run_id', 'prolificID'], \n",
    "    how='left')"
   ]
  },
  {
   "cell_type": "code",
   "execution_count": 4,
   "metadata": {},
   "outputs": [],
   "source": [
    "data_et = data_et.merge(\n",
    "    data_trial.loc[:, ['run_id', 'chinFirst', 'trial_index', 'trial_type', 'task_nr']], \n",
    "    on=['run_id', 'trial_index'], \n",
    "    how='left'\n",
    ")"
   ]
  },
  {
   "cell_type": "code",
   "execution_count": 5,
   "metadata": {},
   "outputs": [
    {
     "name": "stderr",
     "output_type": "stream",
     "text": [
      "100%|████████████████████████████████████████████████████████████████████████████████| 252/252 [05:58<00:00,  1.42s/it]\n"
     ]
    }
   ],
   "source": [
    "output = []\n",
    "for subject in tqdm(data_et['run_id'].unique()):\n",
    "    m_x_fix = data_et.loc[\n",
    "        (data_et['run_id']==subject) &\n",
    "        (data_et['trial_type']=='eyetracking-fix-object') &\n",
    "        ~((data_et['chinFirst']==1) & (data_et['task_nr']==2) |\n",
    "          (data_et['chinFirst']==0) & (data_et['task_nr']==3) \n",
    "         ), \n",
    "        'x'\n",
    "    ].mean()\n",
    "    m_x_choice = data_et.loc[\n",
    "        (data_et['run_id']==subject) &\n",
    "        (data_et['trial_type']=='eyetracking-choice'), \n",
    "        'x'\n",
    "    ].mean()\n",
    "\n",
    "    m_y_fix = data_et.loc[\n",
    "        (data_et['run_id']==subject) &\n",
    "        (data_et['trial_type']=='eyetracking-fix-object') &\n",
    "        ~((data_et['chinFirst']==1) & (data_et['task_nr']==2) |\n",
    "          (data_et['chinFirst']==0) & (data_et['task_nr']==3) \n",
    "         ), \n",
    "        'y'\n",
    "    ].mean()\n",
    "    m_y_choice = data_et.loc[\n",
    "        (data_et['run_id']==subject) &\n",
    "        (data_et['trial_type']=='eyetracking-choice'), \n",
    "        'y'\n",
    "    ].mean()\n",
    "\n",
    "    m_count_fix = data_et.loc[\n",
    "        (data_et['run_id']==subject) &\n",
    "        (data_et['trial_type']=='eyetracking-fix-object') &\n",
    "        ~((data_et['chinFirst']==1) & (data_et['task_nr']==2) |\n",
    "          (data_et['chinFirst']==0) & (data_et['task_nr']==3) \n",
    "         ), \n",
    "        'x'\n",
    "    ].count()\n",
    "\n",
    "    m_count_choice = data_et.loc[\n",
    "        (data_et['run_id']==subject) &\n",
    "        (data_et['trial_type']=='eyetracking-choice'), \n",
    "        'x'\n",
    "    ].count()\n",
    "    \n",
    "    n_choseTop = sum(data_trial.loc[\n",
    "        (data_trial['trial_type']=='eyetracking-choice') &\n",
    "        (data_trial['run_id']==subject),\n",
    "        'key_press']==38)\n",
    "\n",
    "    output.append([subject, m_x_fix, m_y_fix, m_x_choice, m_y_choice, \n",
    "                   m_count_fix, m_count_choice, \n",
    "                   n_choseTop])\n",
    "\n",
    "output = pd.DataFrame(output, \n",
    "                      columns=['run_id', 'm_x_fix', 'm_y_fix', 'm_x_choice', 'm_y_choice', \n",
    "                               'm_count_fix', 'm_count_choice',\n",
    "                               'n_choseTop'])\n",
    "output\n",
    "\n",
    "data_prolific = data_prolific.merge(output, on='run_id', how='left')"
   ]
  },
  {
   "cell_type": "markdown",
   "metadata": {},
   "source": [
    "# These subjects await review"
   ]
  },
  {
   "cell_type": "code",
   "execution_count": 6,
   "metadata": {},
   "outputs": [
    {
     "data": {
      "text/plain": [
       "array(['APPROVED', 'RETURNED', 'REJECTED', 'TIMED-OUT'], dtype=object)"
      ]
     },
     "execution_count": 6,
     "metadata": {},
     "output_type": "execute_result"
    }
   ],
   "source": [
    "data_prolific['status'].unique()"
   ]
  },
  {
   "cell_type": "code",
   "execution_count": 7,
   "metadata": {
    "scrolled": true
   },
   "outputs": [
    {
     "data": {
      "text/html": [
       "<div>\n",
       "<style scoped>\n",
       "    .dataframe tbody tr th:only-of-type {\n",
       "        vertical-align: middle;\n",
       "    }\n",
       "\n",
       "    .dataframe tbody tr th {\n",
       "        vertical-align: top;\n",
       "    }\n",
       "\n",
       "    .dataframe thead th {\n",
       "        text-align: right;\n",
       "    }\n",
       "</style>\n",
       "<table border=\"1\" class=\"dataframe\">\n",
       "  <thead>\n",
       "    <tr style=\"text-align: right;\">\n",
       "      <th></th>\n",
       "      <th>run_id</th>\n",
       "      <th>prolificID</th>\n",
       "      <th>started_datetime</th>\n",
       "      <th>time_taken</th>\n",
       "      <th>trial_length</th>\n",
       "    </tr>\n",
       "  </thead>\n",
       "  <tbody>\n",
       "  </tbody>\n",
       "</table>\n",
       "</div>"
      ],
      "text/plain": [
       "Empty DataFrame\n",
       "Columns: [run_id, prolificID, started_datetime, time_taken, trial_length]\n",
       "Index: []"
      ]
     },
     "execution_count": 7,
     "metadata": {},
     "output_type": "execute_result"
    }
   ],
   "source": [
    "awaiting_review = data_prolific.loc[\n",
    "    data_prolific['status']=='AWAITING REVIEW', \n",
    "    ['run_id', 'prolificID', 'started_datetime', 'time_taken', 'trial_length',\n",
    "     #'m_x_fix', 'm_y_fix', 'm_x_choice', 'm_y_choice', 'm_count_fix', 'm_count_choice',\n",
    "     #'n_choseTop'\n",
    "    ]\n",
    "].sort_values(by='started_datetime')\n",
    "awaiting_review\n",
    "# View(awaiting_review)"
   ]
  },
  {
   "cell_type": "code",
   "execution_count": 8,
   "metadata": {},
   "outputs": [
    {
     "data": {
      "text/plain": [
       "''"
      ]
     },
     "execution_count": 8,
     "metadata": {},
     "output_type": "execute_result"
    }
   ],
   "source": [
    "data_prolific.loc[\n",
    "    data_prolific['status']=='AWAITING REVIEW', \n",
    "    'prolificID'].to_csv(header=None, index=False, line_terminator=', ')"
   ]
  },
  {
   "cell_type": "code",
   "execution_count": 9,
   "metadata": {},
   "outputs": [
    {
     "data": {
      "text/html": [
       "<div>\n",
       "<style scoped>\n",
       "    .dataframe tbody tr th:only-of-type {\n",
       "        vertical-align: middle;\n",
       "    }\n",
       "\n",
       "    .dataframe tbody tr th {\n",
       "        vertical-align: top;\n",
       "    }\n",
       "\n",
       "    .dataframe thead th {\n",
       "        text-align: right;\n",
       "    }\n",
       "</style>\n",
       "<table border=\"1\" class=\"dataframe\">\n",
       "  <thead>\n",
       "    <tr style=\"text-align: right;\">\n",
       "      <th></th>\n",
       "      <th>run_id</th>\n",
       "      <th>prolificID</th>\n",
       "      <th>webcam_fps</th>\n",
       "      <th>choice_rt</th>\n",
       "      <th>bonus_USD</th>\n",
       "      <th>bonus_delay</th>\n",
       "    </tr>\n",
       "  </thead>\n",
       "  <tbody>\n",
       "  </tbody>\n",
       "</table>\n",
       "</div>"
      ],
      "text/plain": [
       "Empty DataFrame\n",
       "Columns: [run_id, prolificID, webcam_fps, choice_rt, bonus_USD, bonus_delay]\n",
       "Index: []"
      ]
     },
     "execution_count": 9,
     "metadata": {},
     "output_type": "execute_result"
    }
   ],
   "source": [
    "if 'choice_rt' in data_prolific.columns:\n",
    "    data_prolific = data_prolific.drop(columns='choice_rt')\n",
    "grouped = data_trial \\\n",
    "    .loc[\n",
    "        data_trial['trial_type']=='eyetracking-choice', \n",
    "        :] \\\n",
    "    .groupby(['prolificID'])['rt'].mean() \\\n",
    "    .reset_index() \\\n",
    "    .rename(columns={'rt': 'choice_rt'})\n",
    "\n",
    "data_prolific = data_prolific.merge(\n",
    "    grouped, \n",
    "    on='prolificID', \n",
    "    how='left')\n",
    "\n",
    "data_prolific.loc[\n",
    "    data_prolific['status']=='AWAITING REVIEW', \n",
    "    ['run_id', 'prolificID', 'webcam_fps', \n",
    "     'choice_rt', 'bonus_USD', 'bonus_delay']\n",
    "] \\\n",
    "    .sort_values(by='run_id')"
   ]
  },
  {
   "cell_type": "markdown",
   "metadata": {},
   "source": [
    "# data_pay"
   ]
  },
  {
   "cell_type": "code",
   "execution_count": 10,
   "metadata": {},
   "outputs": [
    {
     "name": "stdout",
     "output_type": "stream",
     "text": [
      "251\n"
     ]
    }
   ],
   "source": [
    "data_pay = data_prolific.loc[\n",
    "    data_prolific['status']=='APPROVED', \n",
    "    [\n",
    "        'run_id', 'prolificID', 'trial_length', \n",
    "        'age',  'Country of Birth', 'Current Country of Residence', 'First Language',\n",
    "        'Nationality', 'Sex',\n",
    "        'status', 'reviewed_at_datetime', 'Country of Birth', 'entered_code',\n",
    "        'session_id', 'started_datetime', 'completed_date_time', 'time_taken',\n",
    "        'bonus_USD', 'bonus_delay'\n",
    "    ]\n",
    "]\n",
    "print(len(data_pay))"
   ]
  },
  {
   "cell_type": "markdown",
   "metadata": {},
   "source": [
    "# Bonus payment"
   ]
  },
  {
   "cell_type": "markdown",
   "metadata": {},
   "source": [
    "Reformat payments"
   ]
  },
  {
   "cell_type": "code",
   "execution_count": 11,
   "metadata": {
    "scrolled": true
   },
   "outputs": [
    {
     "data": {
      "text/html": [
       "<div>\n",
       "<style scoped>\n",
       "    .dataframe tbody tr th:only-of-type {\n",
       "        vertical-align: middle;\n",
       "    }\n",
       "\n",
       "    .dataframe tbody tr th {\n",
       "        vertical-align: top;\n",
       "    }\n",
       "\n",
       "    .dataframe thead th {\n",
       "        text-align: right;\n",
       "    }\n",
       "</style>\n",
       "<table border=\"1\" class=\"dataframe\">\n",
       "  <thead>\n",
       "    <tr style=\"text-align: right;\">\n",
       "      <th></th>\n",
       "      <th>bonus_USD</th>\n",
       "      <th>bonus_delay</th>\n",
       "    </tr>\n",
       "  </thead>\n",
       "  <tbody>\n",
       "    <tr>\n",
       "      <th>0</th>\n",
       "      <td>4.5</td>\n",
       "      <td>7.0</td>\n",
       "    </tr>\n",
       "    <tr>\n",
       "      <th>3</th>\n",
       "      <td>4.5</td>\n",
       "      <td>30.0</td>\n",
       "    </tr>\n",
       "    <tr>\n",
       "      <th>4</th>\n",
       "      <td>4.5</td>\n",
       "      <td>30.0</td>\n",
       "    </tr>\n",
       "    <tr>\n",
       "      <th>5</th>\n",
       "      <td>4.0</td>\n",
       "      <td>30.0</td>\n",
       "    </tr>\n",
       "    <tr>\n",
       "      <th>10</th>\n",
       "      <td>5.0</td>\n",
       "      <td>30.0</td>\n",
       "    </tr>\n",
       "  </tbody>\n",
       "</table>\n",
       "</div>"
      ],
      "text/plain": [
       "    bonus_USD  bonus_delay\n",
       "0         4.5          7.0\n",
       "3         4.5         30.0\n",
       "4         4.5         30.0\n",
       "5         4.0         30.0\n",
       "10        5.0         30.0"
      ]
     },
     "execution_count": 11,
     "metadata": {},
     "output_type": "execute_result"
    }
   ],
   "source": [
    "data_pay['bonus_delay'] = data_pay['bonus_delay'].astype(str)\n",
    "data_pay['bonus_delay'] = data_pay['bonus_delay'] \\\n",
    "    .replace(['Today', 'Tomorrow', '7 days', \n",
    "          '15 days', '30 days', '90 days', \n",
    "          '180 days'], \n",
    "         [0, 1, 7, 15, 30, 90, 180]) \\\n",
    "    .astype(float)\n",
    "\n",
    "data_pay['bonus_USD'] = data_pay['bonus_USD'].astype(str)\n",
    "data_pay['bonus_USD'] = data_pay['bonus_USD'] \\\n",
    "    .replace({'\\$':''}, regex = True) \\\n",
    "    .replace('50 cent', 0.5) \\\n",
    "    .astype(float)\n",
    "\n",
    "data_pay.loc[:, ['bonus_USD', 'bonus_delay']].head(5)"
   ]
  },
  {
   "cell_type": "markdown",
   "metadata": {},
   "source": [
    "## Missing values"
   ]
  },
  {
   "cell_type": "code",
   "execution_count": 13,
   "metadata": {},
   "outputs": [
    {
     "data": {
      "text/html": [
       "<div>\n",
       "<style scoped>\n",
       "    .dataframe tbody tr th:only-of-type {\n",
       "        vertical-align: middle;\n",
       "    }\n",
       "\n",
       "    .dataframe tbody tr th {\n",
       "        vertical-align: top;\n",
       "    }\n",
       "\n",
       "    .dataframe thead th {\n",
       "        text-align: right;\n",
       "    }\n",
       "</style>\n",
       "<table border=\"1\" class=\"dataframe\">\n",
       "  <thead>\n",
       "    <tr style=\"text-align: right;\">\n",
       "      <th></th>\n",
       "      <th>run_id</th>\n",
       "      <th>prolificID</th>\n",
       "      <th>bonus_USD</th>\n",
       "      <th>bonus_delay</th>\n",
       "    </tr>\n",
       "  </thead>\n",
       "  <tbody>\n",
       "    <tr>\n",
       "      <th>11</th>\n",
       "      <td>9.0</td>\n",
       "      <td>5fea6632bf9ae4a79153efdf</td>\n",
       "      <td>5.0</td>\n",
       "      <td>1.0</td>\n",
       "    </tr>\n",
       "    <tr>\n",
       "      <th>15</th>\n",
       "      <td>12.0</td>\n",
       "      <td>5b8969006651ea000118e42e</td>\n",
       "      <td>5.0</td>\n",
       "      <td>1.0</td>\n",
       "    </tr>\n",
       "    <tr>\n",
       "      <th>49</th>\n",
       "      <td>48.0</td>\n",
       "      <td>5fa1192cf99e161a5cfad1cd</td>\n",
       "      <td>5.0</td>\n",
       "      <td>1.0</td>\n",
       "    </tr>\n",
       "    <tr>\n",
       "      <th>66</th>\n",
       "      <td>61.0</td>\n",
       "      <td>5fb2af792942a58ffe303948</td>\n",
       "      <td>5.0</td>\n",
       "      <td>1.0</td>\n",
       "    </tr>\n",
       "    <tr>\n",
       "      <th>71</th>\n",
       "      <td>70.0</td>\n",
       "      <td>5d430fdf871f1700017b2a81</td>\n",
       "      <td>5.0</td>\n",
       "      <td>1.0</td>\n",
       "    </tr>\n",
       "    <tr>\n",
       "      <th>86</th>\n",
       "      <td>NaN</td>\n",
       "      <td>5edc20443467e28ec4e30f93</td>\n",
       "      <td>5.0</td>\n",
       "      <td>1.0</td>\n",
       "    </tr>\n",
       "    <tr>\n",
       "      <th>113</th>\n",
       "      <td>183.0</td>\n",
       "      <td>5c95970cd676900016e1a940</td>\n",
       "      <td>5.0</td>\n",
       "      <td>1.0</td>\n",
       "    </tr>\n",
       "    <tr>\n",
       "      <th>148</th>\n",
       "      <td>221.0</td>\n",
       "      <td>5ef6d07be683903cd5ae171d</td>\n",
       "      <td>5.0</td>\n",
       "      <td>1.0</td>\n",
       "    </tr>\n",
       "    <tr>\n",
       "      <th>149</th>\n",
       "      <td>224.0</td>\n",
       "      <td>5ef6d07be683903cd5ae171d</td>\n",
       "      <td>5.0</td>\n",
       "      <td>1.0</td>\n",
       "    </tr>\n",
       "    <tr>\n",
       "      <th>199</th>\n",
       "      <td>NaN</td>\n",
       "      <td>60186dc2cc1aa8103499603a</td>\n",
       "      <td>5.0</td>\n",
       "      <td>1.0</td>\n",
       "    </tr>\n",
       "    <tr>\n",
       "      <th>302</th>\n",
       "      <td>392.0</td>\n",
       "      <td>5f4fe72e9468441227166179</td>\n",
       "      <td>5.0</td>\n",
       "      <td>1.0</td>\n",
       "    </tr>\n",
       "    <tr>\n",
       "      <th>352</th>\n",
       "      <td>NaN</td>\n",
       "      <td>5ec5a64c306f255ec98d5cc1</td>\n",
       "      <td>5.0</td>\n",
       "      <td>1.0</td>\n",
       "    </tr>\n",
       "  </tbody>\n",
       "</table>\n",
       "</div>"
      ],
      "text/plain": [
       "     run_id                prolificID  bonus_USD  bonus_delay\n",
       "11      9.0  5fea6632bf9ae4a79153efdf        5.0          1.0\n",
       "15     12.0  5b8969006651ea000118e42e        5.0          1.0\n",
       "49     48.0  5fa1192cf99e161a5cfad1cd        5.0          1.0\n",
       "66     61.0  5fb2af792942a58ffe303948        5.0          1.0\n",
       "71     70.0  5d430fdf871f1700017b2a81        5.0          1.0\n",
       "86      NaN  5edc20443467e28ec4e30f93        5.0          1.0\n",
       "113   183.0  5c95970cd676900016e1a940        5.0          1.0\n",
       "148   221.0  5ef6d07be683903cd5ae171d        5.0          1.0\n",
       "149   224.0  5ef6d07be683903cd5ae171d        5.0          1.0\n",
       "199     NaN  60186dc2cc1aa8103499603a        5.0          1.0\n",
       "302   392.0  5f4fe72e9468441227166179        5.0          1.0\n",
       "352     NaN  5ec5a64c306f255ec98d5cc1        5.0          1.0"
      ]
     },
     "execution_count": 13,
     "metadata": {},
     "output_type": "execute_result"
    }
   ],
   "source": [
    "# For two subjects, the bonus payment was not recorded\n",
    "data_pay.loc[\n",
    "    data_pay['prolificID'].isin([\n",
    "        '5ef6d07be683903cd5ae171d',\n",
    "        '5fea6632bf9ae4a79153efdf',\n",
    "        '60186dc2cc1aa8103499603a',\n",
    "        '5f4fe72e9468441227166179',\n",
    "        '5ec5a64c306f255ec98d5cc1',\n",
    "        '5b8969006651ea000118e42e', \n",
    "        '5fb2af792942a58ffe303948', \n",
    "        '5edc20443467e28ec4e30f93',\n",
    "        '5fa1192cf99e161a5cfad1cd', \n",
    "        '5d430fdf871f1700017b2a81',\n",
    "        '5c95970cd676900016e1a940',\n",
    "    ]), ['bonus_USD', 'bonus_delay']] = [5, 1]\n",
    "\n",
    "data_pay.loc[data_pay['prolificID'].isin([\n",
    "        '5fea6632bf9ae4a79153efdf',\n",
    "        '5ef6d07be683903cd5ae171d',\n",
    "        '60186dc2cc1aa8103499603a',\n",
    "        '5f4fe72e9468441227166179',\n",
    "        '5ec5a64c306f255ec98d5cc1',\n",
    "        '5b8969006651ea000118e42e', \n",
    "        '5fb2af792942a58ffe303948', \n",
    "        '5edc20443467e28ec4e30f93',\n",
    "        '5fa1192cf99e161a5cfad1cd', \n",
    "        '5d430fdf871f1700017b2a81',\n",
    "        '5c95970cd676900016e1a940',\n",
    "        ]), ['run_id', 'prolificID', 'bonus_USD', 'bonus_delay']]"
   ]
  },
  {
   "cell_type": "code",
   "execution_count": 14,
   "metadata": {
    "scrolled": true
   },
   "outputs": [
    {
     "data": {
      "text/html": [
       "<div>\n",
       "<style scoped>\n",
       "    .dataframe tbody tr th:only-of-type {\n",
       "        vertical-align: middle;\n",
       "    }\n",
       "\n",
       "    .dataframe tbody tr th {\n",
       "        vertical-align: top;\n",
       "    }\n",
       "\n",
       "    .dataframe thead th {\n",
       "        text-align: right;\n",
       "    }\n",
       "</style>\n",
       "<table border=\"1\" class=\"dataframe\">\n",
       "  <thead>\n",
       "    <tr style=\"text-align: right;\">\n",
       "      <th></th>\n",
       "      <th>run_id</th>\n",
       "      <th>prolificID</th>\n",
       "      <th>trial_length</th>\n",
       "      <th>started_datetime</th>\n",
       "      <th>reviewed_at_datetime</th>\n",
       "    </tr>\n",
       "  </thead>\n",
       "  <tbody>\n",
       "  </tbody>\n",
       "</table>\n",
       "</div>"
      ],
      "text/plain": [
       "Empty DataFrame\n",
       "Columns: [run_id, prolificID, trial_length, started_datetime, reviewed_at_datetime]\n",
       "Index: []"
      ]
     },
     "execution_count": 14,
     "metadata": {},
     "output_type": "execute_result"
    }
   ],
   "source": [
    "data_pay.loc[\n",
    "    data_pay[['bonus_USD', 'bonus_delay']].isnull().any(axis=1), \n",
    "    ['run_id', 'prolificID', 'trial_length', 'started_datetime', 'reviewed_at_datetime']\n",
    "].sort_values(by='started_datetime')"
   ]
  },
  {
   "cell_type": "markdown",
   "metadata": {},
   "source": [
    "## Bonus in other currencies"
   ]
  },
  {
   "cell_type": "code",
   "execution_count": 17,
   "metadata": {},
   "outputs": [],
   "source": [
    "data_pay['bonus_GBP'] = data_pay['bonus_USD'] * 0.75\n",
    "data_pay['bonus_EUR'] = data_pay['bonus_GBP'] * 1.13"
   ]
  },
  {
   "cell_type": "markdown",
   "metadata": {},
   "source": [
    "## When is the bonus due?"
   ]
  },
  {
   "cell_type": "code",
   "execution_count": 18,
   "metadata": {},
   "outputs": [
    {
     "name": "stdout",
     "output_type": "stream",
     "text": [
      "251\n"
     ]
    },
    {
     "name": "stderr",
     "output_type": "stream",
     "text": [
      "C:\\ProgramData\\Anaconda3\\lib\\site-packages\\pandas\\core\\arrays\\datetimelike.py:1342: PerformanceWarning: Adding/subtracting object-dtype array to TimedeltaArray not vectorized\n",
      "  warnings.warn(\n"
     ]
    }
   ],
   "source": [
    "def add_completed_date(data, data_trial):\n",
    "    output = []\n",
    "\n",
    "    for subject in data_trial['run_id'].unique():\n",
    "        thisSubject = data_trial.loc[data_trial['run_id']==subject] \\\n",
    "            .reset_index(drop=True)\n",
    "        date_time_obj = datetime.datetime.strptime(\n",
    "            thisSubject.loc[0, 'recorded_at'], '%Y-%m-%d %H:%M:%S')\n",
    "\n",
    "        output.append([thisSubject.loc[0, 'run_id'], date_time_obj.date()])\n",
    "        \n",
    "    output = pd.DataFrame(output, columns=['run_id', 'date']) \n",
    "    \n",
    "    if 'date' in data.columns: data = data.drop(columns=['date'])\n",
    "    data = data.merge(output, on='run_id', how='left')\n",
    "    return data\n",
    "\n",
    "data_pay = add_completed_date(data_pay, data_trial)\n",
    "    \n",
    "data_pay.loc[data_pay['run_id']==444, 'completed_date_time'] = \\\n",
    "    '2021-02-13 21:52:30.000000'\n",
    "    \n",
    "data_pay['completed_date']=data_pay.apply(\n",
    "    lambda x: datetime.datetime.strptime(\n",
    "        x['completed_date_time'], '%Y-%m-%d %H:%M:%S.%f') \\\n",
    "            .date(),\n",
    "    axis=1)\n",
    "\n",
    "data_pay['due_on'] = data_pay['completed_date'] + \\\n",
    "    data_pay['bonus_delay'].map(datetime.timedelta) \n",
    "\n",
    "print(len(data_pay))"
   ]
  },
  {
   "cell_type": "code",
   "execution_count": 31,
   "metadata": {},
   "outputs": [
    {
     "data": {
      "text/html": [
       "<div>\n",
       "<style scoped>\n",
       "    .dataframe tbody tr th:only-of-type {\n",
       "        vertical-align: middle;\n",
       "    }\n",
       "\n",
       "    .dataframe tbody tr th {\n",
       "        vertical-align: top;\n",
       "    }\n",
       "\n",
       "    .dataframe thead th {\n",
       "        text-align: right;\n",
       "    }\n",
       "</style>\n",
       "<table border=\"1\" class=\"dataframe\">\n",
       "  <thead>\n",
       "    <tr style=\"text-align: right;\">\n",
       "      <th></th>\n",
       "      <th>prolificID</th>\n",
       "      <th>run_id</th>\n",
       "      <th>Nationality</th>\n",
       "      <th>Current Country of Residence</th>\n",
       "      <th>Sex</th>\n",
       "      <th>bonus_USD</th>\n",
       "      <th>bonus_GBP</th>\n",
       "      <th>bonus_EUR</th>\n",
       "      <th>completed_date</th>\n",
       "      <th>bonus_delay</th>\n",
       "      <th>due_on</th>\n",
       "    </tr>\n",
       "  </thead>\n",
       "  <tbody>\n",
       "    <tr>\n",
       "      <th>9</th>\n",
       "      <td>5f77a902fc647a327b77004a</td>\n",
       "      <td>24.0</td>\n",
       "      <td>United Kingdom</td>\n",
       "      <td>United Kingdom</td>\n",
       "      <td>Female</td>\n",
       "      <td>3.0</td>\n",
       "      <td>2.250</td>\n",
       "      <td>2.54250</td>\n",
       "      <td>2021-01-18</td>\n",
       "      <td>0.0</td>\n",
       "      <td>2021-01-18</td>\n",
       "    </tr>\n",
       "    <tr>\n",
       "      <th>14</th>\n",
       "      <td>5f561a95aa1c4ea13672f138</td>\n",
       "      <td>28.0</td>\n",
       "      <td>Italy</td>\n",
       "      <td>United Kingdom</td>\n",
       "      <td>Male</td>\n",
       "      <td>2.5</td>\n",
       "      <td>1.875</td>\n",
       "      <td>2.11875</td>\n",
       "      <td>2021-01-18</td>\n",
       "      <td>0.0</td>\n",
       "      <td>2021-01-18</td>\n",
       "    </tr>\n",
       "    <tr>\n",
       "      <th>13</th>\n",
       "      <td>5eeaa0ffaa6af11cf32ce057</td>\n",
       "      <td>30.0</td>\n",
       "      <td>Poland</td>\n",
       "      <td>Poland</td>\n",
       "      <td>Male</td>\n",
       "      <td>3.0</td>\n",
       "      <td>2.250</td>\n",
       "      <td>2.54250</td>\n",
       "      <td>2021-01-18</td>\n",
       "      <td>0.0</td>\n",
       "      <td>2021-01-18</td>\n",
       "    </tr>\n",
       "    <tr>\n",
       "      <th>17</th>\n",
       "      <td>5f8472685956c40c720d0936</td>\n",
       "      <td>36.0</td>\n",
       "      <td>Italy</td>\n",
       "      <td>Italy</td>\n",
       "      <td>Male</td>\n",
       "      <td>0.5</td>\n",
       "      <td>0.375</td>\n",
       "      <td>0.42375</td>\n",
       "      <td>2021-01-18</td>\n",
       "      <td>0.0</td>\n",
       "      <td>2021-01-18</td>\n",
       "    </tr>\n",
       "    <tr>\n",
       "      <th>7</th>\n",
       "      <td>5c5684ef9d244c0001b29f1e</td>\n",
       "      <td>11.0</td>\n",
       "      <td>United States</td>\n",
       "      <td>United States</td>\n",
       "      <td>Male</td>\n",
       "      <td>3.5</td>\n",
       "      <td>2.625</td>\n",
       "      <td>2.96625</td>\n",
       "      <td>2021-01-18</td>\n",
       "      <td>0.0</td>\n",
       "      <td>2021-01-18</td>\n",
       "    </tr>\n",
       "    <tr>\n",
       "      <th>...</th>\n",
       "      <td>...</td>\n",
       "      <td>...</td>\n",
       "      <td>...</td>\n",
       "      <td>...</td>\n",
       "      <td>...</td>\n",
       "      <td>...</td>\n",
       "      <td>...</td>\n",
       "      <td>...</td>\n",
       "      <td>...</td>\n",
       "      <td>...</td>\n",
       "      <td>...</td>\n",
       "    </tr>\n",
       "    <tr>\n",
       "      <th>220</th>\n",
       "      <td>5e9a4b17666c130defb0ab72</td>\n",
       "      <td>406.0</td>\n",
       "      <td>United States</td>\n",
       "      <td>United States</td>\n",
       "      <td>Female</td>\n",
       "      <td>4.0</td>\n",
       "      <td>3.000</td>\n",
       "      <td>3.39000</td>\n",
       "      <td>2021-02-13</td>\n",
       "      <td>180.0</td>\n",
       "      <td>2021-08-12</td>\n",
       "    </tr>\n",
       "    <tr>\n",
       "      <th>186</th>\n",
       "      <td>5f2cc8cebc4bd01d61151550</td>\n",
       "      <td>365.0</td>\n",
       "      <td>United States</td>\n",
       "      <td>United States</td>\n",
       "      <td>Female</td>\n",
       "      <td>4.0</td>\n",
       "      <td>3.000</td>\n",
       "      <td>3.39000</td>\n",
       "      <td>2021-02-13</td>\n",
       "      <td>180.0</td>\n",
       "      <td>2021-08-12</td>\n",
       "    </tr>\n",
       "    <tr>\n",
       "      <th>216</th>\n",
       "      <td>5de40feb61872d000d8803ff</td>\n",
       "      <td>403.0</td>\n",
       "      <td>Italy</td>\n",
       "      <td>United States</td>\n",
       "      <td>Female</td>\n",
       "      <td>4.5</td>\n",
       "      <td>3.375</td>\n",
       "      <td>3.81375</td>\n",
       "      <td>2021-02-13</td>\n",
       "      <td>180.0</td>\n",
       "      <td>2021-08-12</td>\n",
       "    </tr>\n",
       "    <tr>\n",
       "      <th>171</th>\n",
       "      <td>5c5da579bfe5280001448433</td>\n",
       "      <td>340.0</td>\n",
       "      <td>United States</td>\n",
       "      <td>United States</td>\n",
       "      <td>Female</td>\n",
       "      <td>4.0</td>\n",
       "      <td>3.000</td>\n",
       "      <td>3.39000</td>\n",
       "      <td>2021-02-13</td>\n",
       "      <td>180.0</td>\n",
       "      <td>2021-08-12</td>\n",
       "    </tr>\n",
       "    <tr>\n",
       "      <th>209</th>\n",
       "      <td>5dd4767b32288646716dc98a</td>\n",
       "      <td>396.0</td>\n",
       "      <td>United States</td>\n",
       "      <td>United States</td>\n",
       "      <td>Female</td>\n",
       "      <td>4.0</td>\n",
       "      <td>3.000</td>\n",
       "      <td>3.39000</td>\n",
       "      <td>2021-02-13</td>\n",
       "      <td>180.0</td>\n",
       "      <td>2021-08-12</td>\n",
       "    </tr>\n",
       "  </tbody>\n",
       "</table>\n",
       "<p>251 rows × 11 columns</p>\n",
       "</div>"
      ],
      "text/plain": [
       "                   prolificID  run_id     Nationality  \\\n",
       "9    5f77a902fc647a327b77004a    24.0  United Kingdom   \n",
       "14   5f561a95aa1c4ea13672f138    28.0           Italy   \n",
       "13   5eeaa0ffaa6af11cf32ce057    30.0          Poland   \n",
       "17   5f8472685956c40c720d0936    36.0           Italy   \n",
       "7    5c5684ef9d244c0001b29f1e    11.0   United States   \n",
       "..                        ...     ...             ...   \n",
       "220  5e9a4b17666c130defb0ab72   406.0   United States   \n",
       "186  5f2cc8cebc4bd01d61151550   365.0   United States   \n",
       "216  5de40feb61872d000d8803ff   403.0           Italy   \n",
       "171  5c5da579bfe5280001448433   340.0   United States   \n",
       "209  5dd4767b32288646716dc98a   396.0   United States   \n",
       "\n",
       "    Current Country of Residence     Sex  bonus_USD  bonus_GBP  bonus_EUR  \\\n",
       "9                 United Kingdom  Female        3.0      2.250    2.54250   \n",
       "14                United Kingdom    Male        2.5      1.875    2.11875   \n",
       "13                        Poland    Male        3.0      2.250    2.54250   \n",
       "17                         Italy    Male        0.5      0.375    0.42375   \n",
       "7                  United States    Male        3.5      2.625    2.96625   \n",
       "..                           ...     ...        ...        ...        ...   \n",
       "220                United States  Female        4.0      3.000    3.39000   \n",
       "186                United States  Female        4.0      3.000    3.39000   \n",
       "216                United States  Female        4.5      3.375    3.81375   \n",
       "171                United States  Female        4.0      3.000    3.39000   \n",
       "209                United States  Female        4.0      3.000    3.39000   \n",
       "\n",
       "    completed_date  bonus_delay      due_on  \n",
       "9       2021-01-18          0.0  2021-01-18  \n",
       "14      2021-01-18          0.0  2021-01-18  \n",
       "13      2021-01-18          0.0  2021-01-18  \n",
       "17      2021-01-18          0.0  2021-01-18  \n",
       "7       2021-01-18          0.0  2021-01-18  \n",
       "..             ...          ...         ...  \n",
       "220     2021-02-13        180.0  2021-08-12  \n",
       "186     2021-02-13        180.0  2021-08-12  \n",
       "216     2021-02-13        180.0  2021-08-12  \n",
       "171     2021-02-13        180.0  2021-08-12  \n",
       "209     2021-02-13        180.0  2021-08-12  \n",
       "\n",
       "[251 rows x 11 columns]"
      ]
     },
     "execution_count": 31,
     "metadata": {},
     "output_type": "execute_result"
    }
   ],
   "source": [
    "data_due = data_pay.loc[:, \n",
    "               [\n",
    "                   'prolificID', 'run_id',\n",
    "                   'Nationality', 'Current Country of Residence', 'Sex',  \n",
    "                   'bonus_USD', 'bonus_GBP', 'bonus_EUR', \n",
    "                   'completed_date', 'bonus_delay', 'due_on'\n",
    "               ]\n",
    "              ]. sort_values(by='due_on')\n",
    "data_due\n",
    "# View(data_due)"
   ]
  },
  {
   "cell_type": "markdown",
   "metadata": {},
   "source": [
    "## What bonus is due today? "
   ]
  },
  {
   "cell_type": "code",
   "execution_count": 20,
   "metadata": {
    "scrolled": true
   },
   "outputs": [
    {
     "data": {
      "text/html": [
       "<div>\n",
       "<style scoped>\n",
       "    .dataframe tbody tr th:only-of-type {\n",
       "        vertical-align: middle;\n",
       "    }\n",
       "\n",
       "    .dataframe tbody tr th {\n",
       "        vertical-align: top;\n",
       "    }\n",
       "\n",
       "    .dataframe thead th {\n",
       "        text-align: right;\n",
       "    }\n",
       "</style>\n",
       "<table border=\"1\" class=\"dataframe\">\n",
       "  <thead>\n",
       "    <tr style=\"text-align: right;\">\n",
       "      <th></th>\n",
       "      <th>run_id</th>\n",
       "      <th>prolificID</th>\n",
       "      <th>status</th>\n",
       "      <th>started_datetime</th>\n",
       "      <th>reviewed_at_datetime</th>\n",
       "      <th>bonus_GBP</th>\n",
       "      <th>bonus_delay</th>\n",
       "      <th>due_on</th>\n",
       "    </tr>\n",
       "  </thead>\n",
       "  <tbody>\n",
       "  </tbody>\n",
       "</table>\n",
       "</div>"
      ],
      "text/plain": [
       "Empty DataFrame\n",
       "Columns: [run_id, prolificID, status, started_datetime, reviewed_at_datetime, bonus_GBP, bonus_delay, due_on]\n",
       "Index: []"
      ]
     },
     "execution_count": 20,
     "metadata": {},
     "output_type": "execute_result"
    }
   ],
   "source": [
    "bonus_due_today = data_pay.loc[\n",
    "    (data_pay['due_on']==datetime.datetime.now().date()), \n",
    "    ['run_id', 'prolificID', 'status', \n",
    "     'started_datetime', 'reviewed_at_datetime', \n",
    "     'bonus_GBP', 'bonus_delay', 'due_on']\n",
    "]\n",
    "bonus_due_today['bonus_GBP'] = bonus_due_today['bonus_GBP'].round(2)\n",
    "bonus_due_today"
   ]
  },
  {
   "cell_type": "code",
   "execution_count": 21,
   "metadata": {
    "scrolled": true
   },
   "outputs": [
    {
     "name": "stdout",
     "output_type": "stream",
     "text": [
      "[]\n"
     ]
    }
   ],
   "source": [
    "bonus_due_today.loc[\n",
    "    bonus_due_today['run_id']<=130, \n",
    "    ['prolificID', 'bonus_GBP']] \\\n",
    "    .to_csv(\n",
    "        'C:/Users/User/GitHub/WebET_Analysis/prolific/bonusToday_int.csv', \n",
    "        index=False, \n",
    "        header=False\n",
    "    )\n",
    "\n",
    "bonus_due_today.loc[\n",
    "    bonus_due_today['run_id']>130, \n",
    "    ['prolificID', 'bonus_GBP']] \\\n",
    "    .to_csv(\n",
    "        'C:/Users/User/GitHub/WebET_Analysis/prolific/bonusToday_us.csv', \n",
    "        index=False, \n",
    "        header=False\n",
    "    )\n",
    "print(bonus_due_today['due_on'].unique())"
   ]
  },
  {
   "cell_type": "markdown",
   "metadata": {},
   "source": [
    "## Bonus left to pay"
   ]
  },
  {
   "cell_type": "code",
   "execution_count": 22,
   "metadata": {},
   "outputs": [
    {
     "data": {
      "text/html": [
       "<div>\n",
       "<style scoped>\n",
       "    .dataframe tbody tr th:only-of-type {\n",
       "        vertical-align: middle;\n",
       "    }\n",
       "\n",
       "    .dataframe tbody tr th {\n",
       "        vertical-align: top;\n",
       "    }\n",
       "\n",
       "    .dataframe thead th {\n",
       "        text-align: right;\n",
       "    }\n",
       "</style>\n",
       "<table border=\"1\" class=\"dataframe\">\n",
       "  <thead>\n",
       "    <tr style=\"text-align: right;\">\n",
       "      <th></th>\n",
       "      <th>prolificID</th>\n",
       "      <th>completed_date</th>\n",
       "      <th>bonus_GBP</th>\n",
       "      <th>due_on</th>\n",
       "    </tr>\n",
       "  </thead>\n",
       "  <tbody>\n",
       "    <tr>\n",
       "      <th>1</th>\n",
       "      <td>5f96fc2552ce3f040af63bbc</td>\n",
       "      <td>2021-01-18</td>\n",
       "      <td>3.375</td>\n",
       "      <td>2021-02-17</td>\n",
       "    </tr>\n",
       "    <tr>\n",
       "      <th>2</th>\n",
       "      <td>5ea3f75481a44e39aa318256</td>\n",
       "      <td>2021-01-18</td>\n",
       "      <td>3.375</td>\n",
       "      <td>2021-02-17</td>\n",
       "    </tr>\n",
       "    <tr>\n",
       "      <th>3</th>\n",
       "      <td>5fd41bf508717e1833d8aed7</td>\n",
       "      <td>2021-01-18</td>\n",
       "      <td>3.000</td>\n",
       "      <td>2021-02-17</td>\n",
       "    </tr>\n",
       "    <tr>\n",
       "      <th>4</th>\n",
       "      <td>5b4e65de09f5af0001080f45</td>\n",
       "      <td>2021-01-18</td>\n",
       "      <td>3.750</td>\n",
       "      <td>2021-02-17</td>\n",
       "    </tr>\n",
       "    <tr>\n",
       "      <th>11</th>\n",
       "      <td>5cf0ccf488abf10019fb775d</td>\n",
       "      <td>2021-01-18</td>\n",
       "      <td>3.375</td>\n",
       "      <td>2021-04-18</td>\n",
       "    </tr>\n",
       "    <tr>\n",
       "      <th>...</th>\n",
       "      <td>...</td>\n",
       "      <td>...</td>\n",
       "      <td>...</td>\n",
       "      <td>...</td>\n",
       "    </tr>\n",
       "    <tr>\n",
       "      <th>243</th>\n",
       "      <td>5d36600685d1d50001affacb</td>\n",
       "      <td>2021-02-13</td>\n",
       "      <td>3.750</td>\n",
       "      <td>2021-08-12</td>\n",
       "    </tr>\n",
       "    <tr>\n",
       "      <th>244</th>\n",
       "      <td>5f5ec0c28c844c784bf02089</td>\n",
       "      <td>2021-02-13</td>\n",
       "      <td>3.375</td>\n",
       "      <td>2021-05-14</td>\n",
       "    </tr>\n",
       "    <tr>\n",
       "      <th>245</th>\n",
       "      <td>5e149c03864020aa6e1cf04d</td>\n",
       "      <td>2021-02-13</td>\n",
       "      <td>3.750</td>\n",
       "      <td>2021-05-14</td>\n",
       "    </tr>\n",
       "    <tr>\n",
       "      <th>246</th>\n",
       "      <td>5fbf28bfdb4bdb0bc73d06a2</td>\n",
       "      <td>2021-02-13</td>\n",
       "      <td>3.375</td>\n",
       "      <td>2021-03-15</td>\n",
       "    </tr>\n",
       "    <tr>\n",
       "      <th>250</th>\n",
       "      <td>5f51268b7abc4a30c4d8240d</td>\n",
       "      <td>2021-02-13</td>\n",
       "      <td>3.000</td>\n",
       "      <td>2021-02-28</td>\n",
       "    </tr>\n",
       "  </tbody>\n",
       "</table>\n",
       "<p>139 rows × 4 columns</p>\n",
       "</div>"
      ],
      "text/plain": [
       "                   prolificID completed_date  bonus_GBP      due_on\n",
       "1    5f96fc2552ce3f040af63bbc     2021-01-18      3.375  2021-02-17\n",
       "2    5ea3f75481a44e39aa318256     2021-01-18      3.375  2021-02-17\n",
       "3    5fd41bf508717e1833d8aed7     2021-01-18      3.000  2021-02-17\n",
       "4    5b4e65de09f5af0001080f45     2021-01-18      3.750  2021-02-17\n",
       "11   5cf0ccf488abf10019fb775d     2021-01-18      3.375  2021-04-18\n",
       "..                        ...            ...        ...         ...\n",
       "243  5d36600685d1d50001affacb     2021-02-13      3.750  2021-08-12\n",
       "244  5f5ec0c28c844c784bf02089     2021-02-13      3.375  2021-05-14\n",
       "245  5e149c03864020aa6e1cf04d     2021-02-13      3.750  2021-05-14\n",
       "246  5fbf28bfdb4bdb0bc73d06a2     2021-02-13      3.375  2021-03-15\n",
       "250  5f51268b7abc4a30c4d8240d     2021-02-13      3.000  2021-02-28\n",
       "\n",
       "[139 rows x 4 columns]"
      ]
     },
     "execution_count": 22,
     "metadata": {},
     "output_type": "execute_result"
    }
   ],
   "source": [
    "data_pay.loc[\n",
    "    data_pay['due_on']>datetime.datetime.now().date(), \n",
    "    ['prolificID', 'completed_date', 'bonus_GBP', 'due_on']]"
   ]
  },
  {
   "cell_type": "code",
   "execution_count": 23,
   "metadata": {},
   "outputs": [
    {
     "name": "stdout",
     "output_type": "stream",
     "text": [
      "Left bonus (GBP): 584.505\n"
     ]
    }
   ],
   "source": [
    "left_bonus = data_pay.loc[\n",
    "    data_pay['due_on']>datetime.datetime.now().date(), \n",
    "    'bonus_GBP'].sum()\n",
    "\n",
    "print(f'Left bonus (GBP): {left_bonus * 1.2 + (left_bonus*0.2*0.2)}')"
   ]
  },
  {
   "cell_type": "markdown",
   "metadata": {},
   "source": [
    "# Total costs"
   ]
  },
  {
   "cell_type": "markdown",
   "metadata": {},
   "source": [
    "## Basic payment"
   ]
  },
  {
   "cell_type": "code",
   "execution_count": 24,
   "metadata": {
    "scrolled": true
   },
   "outputs": [
    {
     "data": {
      "text/html": [
       "<div>\n",
       "<style scoped>\n",
       "    .dataframe tbody tr th:only-of-type {\n",
       "        vertical-align: middle;\n",
       "    }\n",
       "\n",
       "    .dataframe tbody tr th {\n",
       "        vertical-align: top;\n",
       "    }\n",
       "\n",
       "    .dataframe thead th {\n",
       "        text-align: right;\n",
       "    }\n",
       "</style>\n",
       "<table border=\"1\" class=\"dataframe\">\n",
       "  <thead>\n",
       "    <tr style=\"text-align: right;\">\n",
       "      <th></th>\n",
       "      <th>basic_GBP</th>\n",
       "      <th>bonus_GBP</th>\n",
       "    </tr>\n",
       "  </thead>\n",
       "  <tbody>\n",
       "    <tr>\n",
       "      <th>0</th>\n",
       "      <td>2.25</td>\n",
       "      <td>3.375</td>\n",
       "    </tr>\n",
       "    <tr>\n",
       "      <th>1</th>\n",
       "      <td>2.25</td>\n",
       "      <td>3.375</td>\n",
       "    </tr>\n",
       "    <tr>\n",
       "      <th>2</th>\n",
       "      <td>2.25</td>\n",
       "      <td>3.375</td>\n",
       "    </tr>\n",
       "    <tr>\n",
       "      <th>3</th>\n",
       "      <td>2.25</td>\n",
       "      <td>3.000</td>\n",
       "    </tr>\n",
       "    <tr>\n",
       "      <th>4</th>\n",
       "      <td>2.25</td>\n",
       "      <td>3.750</td>\n",
       "    </tr>\n",
       "  </tbody>\n",
       "</table>\n",
       "</div>"
      ],
      "text/plain": [
       "   basic_GBP  bonus_GBP\n",
       "0       2.25      3.375\n",
       "1       2.25      3.375\n",
       "2       2.25      3.375\n",
       "3       2.25      3.000\n",
       "4       2.25      3.750"
      ]
     },
     "execution_count": 24,
     "metadata": {},
     "output_type": "execute_result"
    }
   ],
   "source": [
    "data_pay['basic_GBP'] = 2.25\n",
    "data_pay.loc[:, ['basic_GBP', 'bonus_GBP']].head(5)"
   ]
  },
  {
   "cell_type": "markdown",
   "metadata": {},
   "source": [
    "## Total"
   ]
  },
  {
   "cell_type": "code",
   "execution_count": 25,
   "metadata": {},
   "outputs": [
    {
     "name": "stdout",
     "output_type": "stream",
     "text": [
      "N =251\n",
      "\n",
      "                  GBP\n",
      "reward_basic   564.75\n",
      "service_fee    112.95\n",
      "vat             22.59\n",
      "total_basic    790.65\n",
      "total_bonus   1063.65\n",
      "total         1854.30\n",
      "\n",
      "Total in €, incl. transaction fee: 2113.9019999999996\n"
     ]
    }
   ],
   "source": [
    "print('N =' + str(len(data_pay)) + '\\n')\n",
    "\n",
    "reward_basic = data_pay['basic_GBP'].sum()\n",
    "service_fee = reward_basic * 0.2\n",
    "vat = reward_basic * 0.2*0.2\n",
    "total_basic = data_pay['basic_GBP'].sum() * 1.4\n",
    "total_bonus = data_pay['bonus_GBP'].sum() * 1.4\n",
    "total = total_basic + total_bonus\n",
    "\n",
    "overview = pd.DataFrame(\n",
    "    [\n",
    "        [reward_basic], \n",
    "        [service_fee], [vat], \n",
    "        [total_basic], [total_bonus], [total]\n",
    "    ], \n",
    "    columns=['GBP'],\n",
    "    index= ['reward_basic', \n",
    "        'service_fee', 'vat', \n",
    "        'total_basic', 'total_bonus', 'total'])\n",
    "print(str(overview) + '\\n')\n",
    "\n",
    "print('Total in €, incl. transaction fee: ' + str(total * 1.14))"
   ]
  },
  {
   "cell_type": "markdown",
   "metadata": {},
   "source": [
    "## Total already paid \n",
    "Basic + bonus until today. Use that to compare with prolific bills"
   ]
  },
  {
   "cell_type": "code",
   "execution_count": 26,
   "metadata": {},
   "outputs": [
    {
     "name": "stdout",
     "output_type": "stream",
     "text": [
      "                   GBP\n",
      "reward_basic   564.750\n",
      "service_fee    170.625\n",
      "vat             34.125\n",
      "total_basic    790.650\n",
      "total_bonus    403.725\n",
      "total         1194.375\n",
      "\n",
      "Total in €, incl. transaction fee: 1361.5874999999999\n"
     ]
    }
   ],
   "source": [
    "bonus_GBP_already_paid = data_pay.loc[\n",
    "    data_pay['due_on']<=datetime.datetime.now().date(), \n",
    "    'bonus_GBP'].sum()\n",
    "\n",
    "reward_basic = data_pay['basic_GBP'].sum()\n",
    "service_fee = (reward_basic + bonus_GBP_already_paid) * 0.2\n",
    "vat = (reward_basic + bonus_GBP_already_paid) * 0.2*0.2\n",
    "total_basic = data_pay['basic_GBP'].sum() * 1.4\n",
    "total_bonus = bonus_GBP_already_paid * 1.4\n",
    "total = total_basic + total_bonus\n",
    "\n",
    "overview = pd.DataFrame(\n",
    "    [\n",
    "        [reward_basic], \n",
    "        [service_fee], [vat], \n",
    "        [total_basic], [total_bonus], [total]\n",
    "    ], \n",
    "    columns=['GBP'],\n",
    "    index= ['reward_basic', \n",
    "        'service_fee', 'vat', \n",
    "        'total_basic', 'total_bonus', 'total'])\n",
    "print(str(overview) + '\\n')\n",
    "\n",
    "print('Total in €, incl. transaction fee: ' + str(total * 1.14))"
   ]
  },
  {
   "cell_type": "markdown",
   "metadata": {},
   "source": [
    "# Prognosis for the larger sample"
   ]
  },
  {
   "cell_type": "code",
   "execution_count": 27,
   "metadata": {},
   "outputs": [
    {
     "name": "stdout",
     "output_type": "stream",
     "text": [
      "Budget: 1848.88 GBP / 2101.00 EUR / n=280\n",
      "Paid:   1700.50 GBP / 1955.57 EUR / n=257\n",
      "Buffer: 127.98 /  145.43 EUR / n=19\n",
      "\n",
      "Collect 207 more participants.\n"
     ]
    },
    {
     "data": {
      "text/html": [
       "<div>\n",
       "<style scoped>\n",
       "    .dataframe tbody tr th:only-of-type {\n",
       "        vertical-align: middle;\n",
       "    }\n",
       "\n",
       "    .dataframe tbody tr th {\n",
       "        vertical-align: top;\n",
       "    }\n",
       "\n",
       "    .dataframe thead th {\n",
       "        text-align: right;\n",
       "    }\n",
       "</style>\n",
       "<table border=\"1\" class=\"dataframe\">\n",
       "  <thead>\n",
       "    <tr style=\"text-align: right;\">\n",
       "      <th></th>\n",
       "      <th>1</th>\n",
       "      <th>50</th>\n",
       "      <th>257</th>\n",
       "      <th>207</th>\n",
       "    </tr>\n",
       "  </thead>\n",
       "  <tbody>\n",
       "    <tr>\n",
       "      <th>reward_basic</th>\n",
       "      <td>2.25</td>\n",
       "      <td>112.50</td>\n",
       "      <td>578.25</td>\n",
       "      <td>465.75</td>\n",
       "    </tr>\n",
       "    <tr>\n",
       "      <th>reward_bonus</th>\n",
       "      <td>3.03</td>\n",
       "      <td>151.34</td>\n",
       "      <td>777.91</td>\n",
       "      <td>626.57</td>\n",
       "    </tr>\n",
       "    <tr>\n",
       "      <th>total_reward</th>\n",
       "      <td>5.28</td>\n",
       "      <td>263.84</td>\n",
       "      <td>1356.16</td>\n",
       "      <td>1092.32</td>\n",
       "    </tr>\n",
       "    <tr>\n",
       "      <th>service_fee</th>\n",
       "      <td>1.06</td>\n",
       "      <td>52.77</td>\n",
       "      <td>271.23</td>\n",
       "      <td>218.46</td>\n",
       "    </tr>\n",
       "    <tr>\n",
       "      <th>vat</th>\n",
       "      <td>0.21</td>\n",
       "      <td>10.55</td>\n",
       "      <td>54.25</td>\n",
       "      <td>43.69</td>\n",
       "    </tr>\n",
       "    <tr>\n",
       "      <th>total_basic</th>\n",
       "      <td>2.79</td>\n",
       "      <td>139.50</td>\n",
       "      <td>717.03</td>\n",
       "      <td>577.53</td>\n",
       "    </tr>\n",
       "    <tr>\n",
       "      <th>total_bonus</th>\n",
       "      <td>3.75</td>\n",
       "      <td>187.67</td>\n",
       "      <td>964.61</td>\n",
       "      <td>776.94</td>\n",
       "    </tr>\n",
       "    <tr>\n",
       "      <th>total GBP</th>\n",
       "      <td>6.54</td>\n",
       "      <td>327.17</td>\n",
       "      <td>1681.64</td>\n",
       "      <td>1354.47</td>\n",
       "    </tr>\n",
       "    <tr>\n",
       "      <th>total EUR</th>\n",
       "      <td>7.46</td>\n",
       "      <td>372.97</td>\n",
       "      <td>1917.07</td>\n",
       "      <td>1544.10</td>\n",
       "    </tr>\n",
       "  </tbody>\n",
       "</table>\n",
       "</div>"
      ],
      "text/plain": [
       "               1       50       257      207\n",
       "reward_basic  2.25  112.50   578.25   465.75\n",
       "reward_bonus  3.03  151.34   777.91   626.57\n",
       "total_reward  5.28  263.84  1356.16  1092.32\n",
       "service_fee   1.06   52.77   271.23   218.46\n",
       "vat           0.21   10.55    54.25    43.69\n",
       "total_basic   2.79  139.50   717.03   577.53\n",
       "total_bonus   3.75  187.67   964.61   776.94\n",
       "total GBP     6.54  327.17  1681.64  1354.47\n",
       "total EUR     7.46  372.97  1917.07  1544.10"
      ]
     },
     "execution_count": 27,
     "metadata": {},
     "output_type": "execute_result"
    }
   ],
   "source": [
    "def cost_prognosis(n):\n",
    "    reward_basic = n * data_pay['basic_GBP'].mean()\n",
    "    reward_bonus = n * data_pay['bonus_GBP'].mean()\n",
    "        \n",
    "    total_reward = reward_basic + reward_bonus\n",
    "    service_fee  = total_reward * 0.2\n",
    "    vat          = total_reward * 0.2*0.2\n",
    "    total_basic  = reward_basic + reward_basic*0.2 + reward_basic*0.2*0.2\n",
    "    total_bonus  = reward_bonus + reward_bonus*0.2 + reward_bonus*0.2*0.2\n",
    "    total        = total_reward + service_fee + vat\n",
    "\n",
    "    overview = pd.DataFrame(\n",
    "        [\n",
    "            [reward_basic], [reward_bonus], [total_reward],\n",
    "            [service_fee], [vat], \n",
    "            [total_basic], [total_bonus], [total], [total * 1.14]\n",
    "        ], \n",
    "        columns=[n],\n",
    "        index= ['reward_basic', 'reward_bonus', 'total_reward',\n",
    "            'service_fee', 'vat', \n",
    "            'total_basic', 'total_bonus', 'total GBP', 'total EUR'])\n",
    "    overview = round(overview, 2)\n",
    "    return(overview)\n",
    "\n",
    "print('Budget: ' + str(round(2101*0.88, 2)) + ' GBP / ' + \n",
    "      '2101.00 EUR / ' +\n",
    "      'n=' + str(int(np.floor((2101*0.88)/6.6)))\n",
    "     )\n",
    "\n",
    "print('Paid:   1700.50 GBP / ' + \n",
    "      str(round(1700.5*1.15, 2)) + ' EUR / ' + \n",
    "      'n=' + str(int(np.floor(1700.5/6.6))))\n",
    "buffer_EUR = 2101-1955.57\n",
    "buffer_GBP = buffer_EUR * 0.88\n",
    "print('Buffer: ' + str(round(buffer_GBP, 2)) + ' /  ' + \n",
    "      str(round(buffer_EUR, 2)) + ' EUR / n=' + \n",
    "      str(int(np.floor(buffer_GBP/6.6))) + '\\n')\n",
    "print('Collect 207 more participants.')\n",
    "\n",
    "pd.concat([\n",
    "    cost_prognosis(1),\n",
    "    cost_prognosis(50),\n",
    "    cost_prognosis(257), \n",
    "    cost_prognosis(207)\n",
    "], axis=1)"
   ]
  },
  {
   "cell_type": "markdown",
   "metadata": {},
   "source": [
    "# Export modified prolific data"
   ]
  },
  {
   "cell_type": "code",
   "execution_count": 28,
   "metadata": {},
   "outputs": [],
   "source": [
    "data_pay.to_csv('C:/Users/User/GitHub/WebET_Analysis/prolific/data_pay.csv', index=False, header=True)"
   ]
  },
  {
   "cell_type": "markdown",
   "metadata": {},
   "source": [
    "# Feedback"
   ]
  },
  {
   "cell_type": "code",
   "execution_count": 29,
   "metadata": {},
   "outputs": [
    {
     "name": "stdout",
     "output_type": "stream",
     "text": [
      "Success! Script ran through.\n"
     ]
    }
   ],
   "source": [
    "print('Success! Script ran through.')"
   ]
  }
 ],
 "metadata": {
  "kernelspec": {
   "display_name": "Python 3",
   "language": "python",
   "name": "python3"
  },
  "language_info": {
   "codemirror_mode": {
    "name": "ipython",
    "version": 3
   },
   "file_extension": ".py",
   "mimetype": "text/x-python",
   "name": "python",
   "nbconvert_exporter": "python",
   "pygments_lexer": "ipython3",
   "version": "3.8.5"
  },
  "toc": {
   "base_numbering": 1,
   "nav_menu": {},
   "number_sections": true,
   "sideBar": true,
   "skip_h1_title": false,
   "title_cell": "Table of Contents",
   "title_sidebar": "Contents",
   "toc_cell": false,
   "toc_position": {
    "height": "572.8px",
    "left": "287px",
    "top": "202.533px",
    "width": "281.6px"
   },
   "toc_section_display": true,
   "toc_window_display": true
  }
 },
 "nbformat": 4,
 "nbformat_minor": 4
}
