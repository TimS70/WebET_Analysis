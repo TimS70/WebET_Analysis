{
 "cells": [
  {
   "cell_type": "code",
   "execution_count": 1,
   "metadata": {},
   "outputs": [
    {
     "name": "stdout",
     "output_type": "stream",
     "text": [
      "Current Working directory  C:\\Users\\User\\GitHub\\WebET_Analysis\\prolific\n"
     ]
    }
   ],
   "source": [
    "import datetime\n",
    "import matplotlib.pyplot as plt\n",
    "import numpy as np\n",
    "import os\n",
    "import pandas as pd\n",
    "import random\n",
    "import sys\n",
    "from datetime import timedelta  \n",
    "\n",
    "if sys.version_info[0] < 3: \n",
    "    from StringIO import StringIO\n",
    "else:\n",
    "    from io import StringIO\n",
    "    \n",
    "from IPython.display import HTML\n",
    "def View(df):\n",
    "    css = \"\"\"<style>\n",
    "    table { border-collapse: collapse; border: 3px solid #eee; }\n",
    "    table tr th:first-child { background-color: #eeeeee; color: #333; font-weight: bold }\n",
    "    table thead th { background-color: #eee; color: #000; }\n",
    "    tr, th, td { border: 1px solid #ccc; border-width: 1px 0 0 1px; border-collapse: collapse;\n",
    "    padding: 3px; font-family: monospace; font-size: 10px }</style>\n",
    "    \"\"\"\n",
    "    s  = '<script type=\"text/Javascript\">'\n",
    "    s += 'var win = window.open(\"\", \"Title\", \"toolbar=no, location=no, directories=no, status=no, menubar=no, scrollbars=yes, resizable=yes, width=780, height=200, top=\"+(screen.height-400)+\", left=\"+(screen.width-840));'\n",
    "    s += 'win.document.body.innerHTML = \\'' + (df.to_html() + css).replace(\"\\n\",'\\\\') + '\\';'\n",
    "    s += '</script>'\n",
    "    return(HTML(s+css))    \n",
    "    \n",
    "print(\"Current Working directory \" , os.getcwd())"
   ]
  },
  {
   "cell_type": "code",
   "execution_count": 34,
   "metadata": {},
   "outputs": [
    {
     "name": "stdout",
     "output_type": "stream",
     "text": [
      "                   length\n",
      "data_et            618566\n",
      "data_et_fix         57762\n",
      "data_et_choice     143127\n",
      "data_trial          30362\n",
      "data_trial_fix        918\n",
      "data_trial_choice    4423\n",
      "data_prolific          94\n"
     ]
    }
   ],
   "source": [
    "data_et = pd.read_csv(r'C:/Users/User/GitHub/WebET_Analysis/data_jupyter/data_et.csv')\n",
    "data_et_fix = pd.read_csv(r'C:/Users/User/GitHub/WebET_Analysis/data_jupyter/data_et_fix.csv')\n",
    "data_et_choice = pd.read_csv(r'C:/Users/User/GitHub/WebET_Analysis/data_jupyter/data_et_choice.csv')\n",
    "\n",
    "data_trial = pd.read_csv(r'C:/Users/User/GitHub/WebET_Analysis/data_jupyter/data_trial.csv')\n",
    "data_trial_fix = pd.read_csv(r'C:/Users/User/GitHub/WebET_Analysis/data_jupyter/data_trial_fix.csv')\n",
    "data_trial_choice = pd.read_csv(r'C:/Users/User/GitHub/WebET_Analysis/data_jupyter/data_trial_choice.csv')\n",
    "\n",
    "data_prolific = pd.read_csv(r'C:/Users/User/GitHub/WebET_Analysis/data_jupyter/data_prolific.csv') \\\n",
    "\n",
    "overview = pd.DataFrame(\n",
    "    [\n",
    "        [len(data_et)],\n",
    "        [len(data_et_fix)],\n",
    "        [len(data_et_choice)],\n",
    "        [len(data_trial)],\n",
    "        [len(data_trial_fix)],\n",
    "        [len(data_trial_choice)],\n",
    "        [len(data_prolific)]\n",
    "    ], \n",
    "    columns=['length'],\n",
    "    index=['data_et', 'data_et_fix', 'data_et_choice', \n",
    "           'data_trial', 'data_trial_fix', 'data_trial_choice', \n",
    "           'data_prolific'])\n",
    "print(overview)"
   ]
  },
  {
   "cell_type": "markdown",
   "metadata": {},
   "source": [
    "# Approve subjects"
   ]
  },
  {
   "cell_type": "code",
   "execution_count": 36,
   "metadata": {
    "scrolled": true
   },
   "outputs": [],
   "source": [
    "if 'trial_length' in data_subject.columns: \n",
    "    print('trial_length already added!')\n",
    "else:\n",
    "    output = []\n",
    "    for subject in data_trial['run_id'].unique():\n",
    "        prolificID = data_trial.loc[data_trial['run_id']==subject, 'prolificID'].unique()[0]\n",
    "        trial_length = len(data_trial.loc[data_trial['run_id']==subject, 'trial_index'].unique())\n",
    "        output.append([subject, prolificID, trial_length])\n",
    "    output = pd.DataFrame(output,\n",
    "                 columns=['run_id', 'prolificID', 'trial_length']\n",
    "                )\n",
    "\n",
    "data_prolific = data_prolific.merge(\n",
    "    output, \n",
    "    on=['run_id', 'prolificID'], \n",
    "    how='left')"
   ]
  },
  {
   "cell_type": "code",
   "execution_count": 37,
   "metadata": {},
   "outputs": [],
   "source": [
    "data_et = data_et.merge(\n",
    "    data_trial.loc[:, ['run_id', 'chinFirst', 'trial_index', 'trial_type', 'task_nr']], \n",
    "    on=['run_id', 'trial_index'], \n",
    "    how='left'\n",
    ")"
   ]
  },
  {
   "cell_type": "code",
   "execution_count": 38,
   "metadata": {},
   "outputs": [],
   "source": [
    "output = []\n",
    "for subject in data_et['run_id'].unique():\n",
    "    m_x_fix = data_et.loc[\n",
    "        (data_et['run_id']==subject) &\n",
    "        (data_et['trial_type']=='eyetracking-fix-object') &\n",
    "        ~((data_et['chinFirst']==1) & (data_et['task_nr']==2) |\n",
    "          (data_et['chinFirst']==0) & (data_et['task_nr']==3) \n",
    "         ), \n",
    "        'x'\n",
    "    ].mean()\n",
    "    m_x_choice = data_et.loc[\n",
    "        (data_et['run_id']==subject) &\n",
    "        (data_et['trial_type']=='eyetracking-choice'), \n",
    "        'x'\n",
    "    ].mean()\n",
    "\n",
    "    m_y_fix = data_et.loc[\n",
    "        (data_et['run_id']==subject) &\n",
    "        (data_et['trial_type']=='eyetracking-fix-object') &\n",
    "        ~((data_et['chinFirst']==1) & (data_et['task_nr']==2) |\n",
    "          (data_et['chinFirst']==0) & (data_et['task_nr']==3) \n",
    "         ), \n",
    "        'y'\n",
    "    ].mean()\n",
    "    m_y_choice = data_et.loc[\n",
    "        (data_et['run_id']==subject) &\n",
    "        (data_et['trial_type']=='eyetracking-choice'), \n",
    "        'y'\n",
    "    ].mean()\n",
    "\n",
    "    m_count_fix = data_et.loc[\n",
    "        (data_et['run_id']==subject) &\n",
    "        (data_et['trial_type']=='eyetracking-fix-object') &\n",
    "        ~((data_et['chinFirst']==1) & (data_et['task_nr']==2) |\n",
    "          (data_et['chinFirst']==0) & (data_et['task_nr']==3) \n",
    "         ), \n",
    "        'x'\n",
    "    ].count()\n",
    "\n",
    "    m_count_choice = data_et.loc[\n",
    "        (data_et['run_id']==subject) &\n",
    "        (data_et['trial_type']=='eyetracking-choice'), \n",
    "        'x'\n",
    "    ].count()\n",
    "    \n",
    "    m_choseTop = data_trial_choice.loc[data_trial_choice['run_id']==subject,\n",
    "                                       'choseTop'].mean()\n",
    "\n",
    "    output.append([subject, m_x_fix, m_y_fix, m_x_choice, m_y_choice, \n",
    "                   m_count_fix, m_count_choice, \n",
    "                   m_choseTop])\n",
    "\n",
    "output = pd.DataFrame(output, \n",
    "                      columns=['run_id', 'm_x_fix', 'm_y_fix', 'm_x_choice', 'm_y_choice', \n",
    "                               'm_count_fix', 'm_count_choice',\n",
    "                               'm_choseTop'])\n",
    "output\n",
    "\n",
    "data_prolific = data_prolific.merge(output, on='run_id', how='left')"
   ]
  },
  {
   "cell_type": "markdown",
   "metadata": {},
   "source": [
    "# These subjects await review"
   ]
  },
  {
   "cell_type": "code",
   "execution_count": 39,
   "metadata": {
    "scrolled": true
   },
   "outputs": [
    {
     "data": {
      "text/html": [
       "<div>\n",
       "<style scoped>\n",
       "    .dataframe tbody tr th:only-of-type {\n",
       "        vertical-align: middle;\n",
       "    }\n",
       "\n",
       "    .dataframe tbody tr th {\n",
       "        vertical-align: top;\n",
       "    }\n",
       "\n",
       "    .dataframe thead th {\n",
       "        text-align: right;\n",
       "    }\n",
       "</style>\n",
       "<table border=\"1\" class=\"dataframe\">\n",
       "  <thead>\n",
       "    <tr style=\"text-align: right;\">\n",
       "      <th></th>\n",
       "      <th>run_id</th>\n",
       "      <th>prolificID</th>\n",
       "      <th>trial_length</th>\n",
       "      <th>m_x_fix</th>\n",
       "      <th>m_y_fix</th>\n",
       "      <th>m_x_choice</th>\n",
       "      <th>m_y_choice</th>\n",
       "      <th>m_count_fix</th>\n",
       "      <th>m_count_choice</th>\n",
       "      <th>m_choseTop</th>\n",
       "    </tr>\n",
       "  </thead>\n",
       "  <tbody>\n",
       "  </tbody>\n",
       "</table>\n",
       "</div>"
      ],
      "text/plain": [
       "Empty DataFrame\n",
       "Columns: [run_id, prolificID, trial_length, m_x_fix, m_y_fix, m_x_choice, m_y_choice, m_count_fix, m_count_choice, m_choseTop]\n",
       "Index: []"
      ]
     },
     "execution_count": 39,
     "metadata": {},
     "output_type": "execute_result"
    }
   ],
   "source": [
    "data_prolific.loc[\n",
    "    data_prolific['status']=='AWAITING REVIEW', \n",
    "    ['run_id', 'prolificID', 'trial_length',\n",
    "     'm_x_fix', 'm_y_fix', 'm_x_choice', 'm_y_choice', 'm_count_fix', 'm_count_choice',\n",
    "     'm_choseTop']\n",
    "].sort_values(by='prolificID')"
   ]
  },
  {
   "cell_type": "code",
   "execution_count": 40,
   "metadata": {},
   "outputs": [
    {
     "data": {
      "text/html": [
       "<div>\n",
       "<style scoped>\n",
       "    .dataframe tbody tr th:only-of-type {\n",
       "        vertical-align: middle;\n",
       "    }\n",
       "\n",
       "    .dataframe tbody tr th {\n",
       "        vertical-align: top;\n",
       "    }\n",
       "\n",
       "    .dataframe thead th {\n",
       "        text-align: right;\n",
       "    }\n",
       "</style>\n",
       "<table border=\"1\" class=\"dataframe\">\n",
       "  <thead>\n",
       "    <tr style=\"text-align: right;\">\n",
       "      <th></th>\n",
       "      <th>run_id</th>\n",
       "      <th>prolificID</th>\n",
       "      <th>trial_length</th>\n",
       "      <th>m_x_fix</th>\n",
       "      <th>m_y_fix</th>\n",
       "      <th>m_x_choice</th>\n",
       "      <th>m_y_choice</th>\n",
       "      <th>m_count_fix</th>\n",
       "      <th>m_count_choice</th>\n",
       "      <th>m_choseTop</th>\n",
       "    </tr>\n",
       "  </thead>\n",
       "  <tbody>\n",
       "    <tr>\n",
       "      <th>15</th>\n",
       "      <td>12.0</td>\n",
       "      <td>5b8969006651ea000118e42e</td>\n",
       "      <td>518.0</td>\n",
       "      <td>0.350426</td>\n",
       "      <td>0.382455</td>\n",
       "      <td>0.353909</td>\n",
       "      <td>0.366253</td>\n",
       "      <td>2073.0</td>\n",
       "      <td>2616.0</td>\n",
       "      <td>0.462500</td>\n",
       "    </tr>\n",
       "    <tr>\n",
       "      <th>71</th>\n",
       "      <td>70.0</td>\n",
       "      <td>5d430fdf871f1700017b2a81</td>\n",
       "      <td>407.0</td>\n",
       "      <td>0.265550</td>\n",
       "      <td>0.464537</td>\n",
       "      <td>1.944483</td>\n",
       "      <td>0.170135</td>\n",
       "      <td>61.0</td>\n",
       "      <td>285.0</td>\n",
       "      <td>NaN</td>\n",
       "    </tr>\n",
       "    <tr>\n",
       "      <th>86</th>\n",
       "      <td>NaN</td>\n",
       "      <td>5edc20443467e28ec4e30f93</td>\n",
       "      <td>NaN</td>\n",
       "      <td>NaN</td>\n",
       "      <td>NaN</td>\n",
       "      <td>NaN</td>\n",
       "      <td>NaN</td>\n",
       "      <td>NaN</td>\n",
       "      <td>NaN</td>\n",
       "      <td>NaN</td>\n",
       "    </tr>\n",
       "    <tr>\n",
       "      <th>49</th>\n",
       "      <td>48.0</td>\n",
       "      <td>5fa1192cf99e161a5cfad1cd</td>\n",
       "      <td>520.0</td>\n",
       "      <td>0.516436</td>\n",
       "      <td>0.451000</td>\n",
       "      <td>0.521618</td>\n",
       "      <td>0.499869</td>\n",
       "      <td>2923.0</td>\n",
       "      <td>5158.0</td>\n",
       "      <td>0.544304</td>\n",
       "    </tr>\n",
       "    <tr>\n",
       "      <th>66</th>\n",
       "      <td>61.0</td>\n",
       "      <td>5fb2af792942a58ffe303948</td>\n",
       "      <td>271.0</td>\n",
       "      <td>0.517327</td>\n",
       "      <td>0.508298</td>\n",
       "      <td>0.535167</td>\n",
       "      <td>0.454149</td>\n",
       "      <td>967.0</td>\n",
       "      <td>1247.0</td>\n",
       "      <td>0.595238</td>\n",
       "    </tr>\n",
       "    <tr>\n",
       "      <th>11</th>\n",
       "      <td>9.0</td>\n",
       "      <td>5fea6632bf9ae4a79153efdf</td>\n",
       "      <td>518.0</td>\n",
       "      <td>0.462945</td>\n",
       "      <td>0.394411</td>\n",
       "      <td>0.531769</td>\n",
       "      <td>0.309021</td>\n",
       "      <td>212.0</td>\n",
       "      <td>478.0</td>\n",
       "      <td>NaN</td>\n",
       "    </tr>\n",
       "  </tbody>\n",
       "</table>\n",
       "</div>"
      ],
      "text/plain": [
       "    run_id                prolificID  trial_length   m_x_fix   m_y_fix  \\\n",
       "15    12.0  5b8969006651ea000118e42e         518.0  0.350426  0.382455   \n",
       "71    70.0  5d430fdf871f1700017b2a81         407.0  0.265550  0.464537   \n",
       "86     NaN  5edc20443467e28ec4e30f93           NaN       NaN       NaN   \n",
       "49    48.0  5fa1192cf99e161a5cfad1cd         520.0  0.516436  0.451000   \n",
       "66    61.0  5fb2af792942a58ffe303948         271.0  0.517327  0.508298   \n",
       "11     9.0  5fea6632bf9ae4a79153efdf         518.0  0.462945  0.394411   \n",
       "\n",
       "    m_x_choice  m_y_choice  m_count_fix  m_count_choice  m_choseTop  \n",
       "15    0.353909    0.366253       2073.0          2616.0    0.462500  \n",
       "71    1.944483    0.170135         61.0           285.0         NaN  \n",
       "86         NaN         NaN          NaN             NaN         NaN  \n",
       "49    0.521618    0.499869       2923.0          5158.0    0.544304  \n",
       "66    0.535167    0.454149        967.0          1247.0    0.595238  \n",
       "11    0.531769    0.309021        212.0           478.0         NaN  "
      ]
     },
     "execution_count": 40,
     "metadata": {},
     "output_type": "execute_result"
    }
   ],
   "source": [
    "data_prolific.loc[\n",
    "    data_prolific['prolificID'].isin(\n",
    "    ['5fea6632bf9ae4a79153efdf', \n",
    "         '5b8969006651ea000118e42e', \n",
    "         '5fb2af792942a58ffe303948', \n",
    "         '5edc20443467e28ec4e30f93',\n",
    "         '5fa1192cf99e161a5cfad1cd', \n",
    "         '5d430fdf871f1700017b2a81'\n",
    "        ]\n",
    "    ), \n",
    "    ['run_id', 'prolificID', 'trial_length',\n",
    "     'm_x_fix', 'm_y_fix', 'm_x_choice', 'm_y_choice', 'm_count_fix', 'm_count_choice',\n",
    "     'm_choseTop']\n",
    "].sort_values(by='prolificID')"
   ]
  },
  {
   "cell_type": "code",
   "execution_count": 42,
   "metadata": {},
   "outputs": [
    {
     "name": "stdout",
     "output_type": "stream",
     "text": [
      "choice_rt already added!\n"
     ]
    },
    {
     "ename": "KeyError",
     "evalue": "\"Passing list-likes to .loc or [] with any missing labels is no longer supported. The following labels were missing: Index(['choice_rt'], dtype='object'). See https://pandas.pydata.org/pandas-docs/stable/user_guide/indexing.html#deprecate-loc-reindex-listlike\"",
     "output_type": "error",
     "traceback": [
      "\u001b[1;31m---------------------------------------------------------------------------\u001b[0m",
      "\u001b[1;31mKeyError\u001b[0m                                  Traceback (most recent call last)",
      "\u001b[1;32m<ipython-input-42-527c5b1a250b>\u001b[0m in \u001b[0;36m<module>\u001b[1;34m\u001b[0m\n\u001b[0;32m      8\u001b[0m     \u001b[0mdata_prolific\u001b[0m \u001b[1;33m=\u001b[0m \u001b[0mdata_prolific\u001b[0m\u001b[1;33m.\u001b[0m\u001b[0mmerge\u001b[0m\u001b[1;33m(\u001b[0m\u001b[0mgrouped\u001b[0m\u001b[1;33m,\u001b[0m \u001b[0mon\u001b[0m\u001b[1;33m=\u001b[0m\u001b[1;34m'prolificID'\u001b[0m\u001b[1;33m,\u001b[0m \u001b[0mhow\u001b[0m\u001b[1;33m=\u001b[0m\u001b[1;34m'left'\u001b[0m\u001b[1;33m)\u001b[0m\u001b[1;33m\u001b[0m\u001b[1;33m\u001b[0m\u001b[0m\n\u001b[0;32m      9\u001b[0m \u001b[1;33m\u001b[0m\u001b[0m\n\u001b[1;32m---> 10\u001b[1;33m data_prolific.loc[\n\u001b[0m\u001b[0;32m     11\u001b[0m     \u001b[0mdata_prolific\u001b[0m\u001b[1;33m[\u001b[0m\u001b[1;34m'status'\u001b[0m\u001b[1;33m]\u001b[0m\u001b[1;33m==\u001b[0m\u001b[1;34m'AWAITING REVIEW'\u001b[0m\u001b[1;33m,\u001b[0m\u001b[1;33m\u001b[0m\u001b[1;33m\u001b[0m\u001b[0m\n\u001b[0;32m     12\u001b[0m     \u001b[1;33m[\u001b[0m\u001b[1;34m'run_id'\u001b[0m\u001b[1;33m,\u001b[0m \u001b[1;34m'prolificID'\u001b[0m\u001b[1;33m,\u001b[0m \u001b[1;34m'webcam_fps'\u001b[0m\u001b[1;33m,\u001b[0m \u001b[1;34m'choice_rt'\u001b[0m\u001b[1;33m,\u001b[0m \u001b[1;34m'bonus_USD'\u001b[0m\u001b[1;33m,\u001b[0m \u001b[1;34m'bonus_delay'\u001b[0m\u001b[1;33m]\u001b[0m\u001b[1;33m\u001b[0m\u001b[1;33m\u001b[0m\u001b[0m\n",
      "\u001b[1;32mC:\\ProgramData\\Anaconda3\\lib\\site-packages\\pandas\\core\\indexing.py\u001b[0m in \u001b[0;36m__getitem__\u001b[1;34m(self, key)\u001b[0m\n\u001b[0;32m    871\u001b[0m                     \u001b[1;31m# AttributeError for IntervalTree get_value\u001b[0m\u001b[1;33m\u001b[0m\u001b[1;33m\u001b[0m\u001b[1;33m\u001b[0m\u001b[0m\n\u001b[0;32m    872\u001b[0m                     \u001b[1;32mpass\u001b[0m\u001b[1;33m\u001b[0m\u001b[1;33m\u001b[0m\u001b[0m\n\u001b[1;32m--> 873\u001b[1;33m             \u001b[1;32mreturn\u001b[0m \u001b[0mself\u001b[0m\u001b[1;33m.\u001b[0m\u001b[0m_getitem_tuple\u001b[0m\u001b[1;33m(\u001b[0m\u001b[0mkey\u001b[0m\u001b[1;33m)\u001b[0m\u001b[1;33m\u001b[0m\u001b[1;33m\u001b[0m\u001b[0m\n\u001b[0m\u001b[0;32m    874\u001b[0m         \u001b[1;32melse\u001b[0m\u001b[1;33m:\u001b[0m\u001b[1;33m\u001b[0m\u001b[1;33m\u001b[0m\u001b[0m\n\u001b[0;32m    875\u001b[0m             \u001b[1;31m# we by definition only have the 0th axis\u001b[0m\u001b[1;33m\u001b[0m\u001b[1;33m\u001b[0m\u001b[1;33m\u001b[0m\u001b[0m\n",
      "\u001b[1;32mC:\\ProgramData\\Anaconda3\\lib\\site-packages\\pandas\\core\\indexing.py\u001b[0m in \u001b[0;36m_getitem_tuple\u001b[1;34m(self, tup)\u001b[0m\n\u001b[0;32m   1053\u001b[0m             \u001b[1;32mreturn\u001b[0m \u001b[0mself\u001b[0m\u001b[1;33m.\u001b[0m\u001b[0m_multi_take\u001b[0m\u001b[1;33m(\u001b[0m\u001b[0mtup\u001b[0m\u001b[1;33m)\u001b[0m\u001b[1;33m\u001b[0m\u001b[1;33m\u001b[0m\u001b[0m\n\u001b[0;32m   1054\u001b[0m \u001b[1;33m\u001b[0m\u001b[0m\n\u001b[1;32m-> 1055\u001b[1;33m         \u001b[1;32mreturn\u001b[0m \u001b[0mself\u001b[0m\u001b[1;33m.\u001b[0m\u001b[0m_getitem_tuple_same_dim\u001b[0m\u001b[1;33m(\u001b[0m\u001b[0mtup\u001b[0m\u001b[1;33m)\u001b[0m\u001b[1;33m\u001b[0m\u001b[1;33m\u001b[0m\u001b[0m\n\u001b[0m\u001b[0;32m   1056\u001b[0m \u001b[1;33m\u001b[0m\u001b[0m\n\u001b[0;32m   1057\u001b[0m     \u001b[1;32mdef\u001b[0m \u001b[0m_get_label\u001b[0m\u001b[1;33m(\u001b[0m\u001b[0mself\u001b[0m\u001b[1;33m,\u001b[0m \u001b[0mlabel\u001b[0m\u001b[1;33m,\u001b[0m \u001b[0maxis\u001b[0m\u001b[1;33m:\u001b[0m \u001b[0mint\u001b[0m\u001b[1;33m)\u001b[0m\u001b[1;33m:\u001b[0m\u001b[1;33m\u001b[0m\u001b[1;33m\u001b[0m\u001b[0m\n",
      "\u001b[1;32mC:\\ProgramData\\Anaconda3\\lib\\site-packages\\pandas\\core\\indexing.py\u001b[0m in \u001b[0;36m_getitem_tuple_same_dim\u001b[1;34m(self, tup)\u001b[0m\n\u001b[0;32m    748\u001b[0m                 \u001b[1;32mcontinue\u001b[0m\u001b[1;33m\u001b[0m\u001b[1;33m\u001b[0m\u001b[0m\n\u001b[0;32m    749\u001b[0m \u001b[1;33m\u001b[0m\u001b[0m\n\u001b[1;32m--> 750\u001b[1;33m             \u001b[0mretval\u001b[0m \u001b[1;33m=\u001b[0m \u001b[0mgetattr\u001b[0m\u001b[1;33m(\u001b[0m\u001b[0mretval\u001b[0m\u001b[1;33m,\u001b[0m \u001b[0mself\u001b[0m\u001b[1;33m.\u001b[0m\u001b[0mname\u001b[0m\u001b[1;33m)\u001b[0m\u001b[1;33m.\u001b[0m\u001b[0m_getitem_axis\u001b[0m\u001b[1;33m(\u001b[0m\u001b[0mkey\u001b[0m\u001b[1;33m,\u001b[0m \u001b[0maxis\u001b[0m\u001b[1;33m=\u001b[0m\u001b[0mi\u001b[0m\u001b[1;33m)\u001b[0m\u001b[1;33m\u001b[0m\u001b[1;33m\u001b[0m\u001b[0m\n\u001b[0m\u001b[0;32m    751\u001b[0m             \u001b[1;31m# We should never have retval.ndim < self.ndim, as that should\u001b[0m\u001b[1;33m\u001b[0m\u001b[1;33m\u001b[0m\u001b[1;33m\u001b[0m\u001b[0m\n\u001b[0;32m    752\u001b[0m             \u001b[1;31m#  be handled by the _getitem_lowerdim call above.\u001b[0m\u001b[1;33m\u001b[0m\u001b[1;33m\u001b[0m\u001b[1;33m\u001b[0m\u001b[0m\n",
      "\u001b[1;32mC:\\ProgramData\\Anaconda3\\lib\\site-packages\\pandas\\core\\indexing.py\u001b[0m in \u001b[0;36m_getitem_axis\u001b[1;34m(self, key, axis)\u001b[0m\n\u001b[0;32m   1097\u001b[0m                     \u001b[1;32mraise\u001b[0m \u001b[0mValueError\u001b[0m\u001b[1;33m(\u001b[0m\u001b[1;34m\"Cannot index with multidimensional key\"\u001b[0m\u001b[1;33m)\u001b[0m\u001b[1;33m\u001b[0m\u001b[1;33m\u001b[0m\u001b[0m\n\u001b[0;32m   1098\u001b[0m \u001b[1;33m\u001b[0m\u001b[0m\n\u001b[1;32m-> 1099\u001b[1;33m                 \u001b[1;32mreturn\u001b[0m \u001b[0mself\u001b[0m\u001b[1;33m.\u001b[0m\u001b[0m_getitem_iterable\u001b[0m\u001b[1;33m(\u001b[0m\u001b[0mkey\u001b[0m\u001b[1;33m,\u001b[0m \u001b[0maxis\u001b[0m\u001b[1;33m=\u001b[0m\u001b[0maxis\u001b[0m\u001b[1;33m)\u001b[0m\u001b[1;33m\u001b[0m\u001b[1;33m\u001b[0m\u001b[0m\n\u001b[0m\u001b[0;32m   1100\u001b[0m \u001b[1;33m\u001b[0m\u001b[0m\n\u001b[0;32m   1101\u001b[0m             \u001b[1;31m# nested tuple slicing\u001b[0m\u001b[1;33m\u001b[0m\u001b[1;33m\u001b[0m\u001b[1;33m\u001b[0m\u001b[0m\n",
      "\u001b[1;32mC:\\ProgramData\\Anaconda3\\lib\\site-packages\\pandas\\core\\indexing.py\u001b[0m in \u001b[0;36m_getitem_iterable\u001b[1;34m(self, key, axis)\u001b[0m\n\u001b[0;32m   1035\u001b[0m \u001b[1;33m\u001b[0m\u001b[0m\n\u001b[0;32m   1036\u001b[0m         \u001b[1;31m# A collection of keys\u001b[0m\u001b[1;33m\u001b[0m\u001b[1;33m\u001b[0m\u001b[1;33m\u001b[0m\u001b[0m\n\u001b[1;32m-> 1037\u001b[1;33m         \u001b[0mkeyarr\u001b[0m\u001b[1;33m,\u001b[0m \u001b[0mindexer\u001b[0m \u001b[1;33m=\u001b[0m \u001b[0mself\u001b[0m\u001b[1;33m.\u001b[0m\u001b[0m_get_listlike_indexer\u001b[0m\u001b[1;33m(\u001b[0m\u001b[0mkey\u001b[0m\u001b[1;33m,\u001b[0m \u001b[0maxis\u001b[0m\u001b[1;33m,\u001b[0m \u001b[0mraise_missing\u001b[0m\u001b[1;33m=\u001b[0m\u001b[1;32mFalse\u001b[0m\u001b[1;33m)\u001b[0m\u001b[1;33m\u001b[0m\u001b[1;33m\u001b[0m\u001b[0m\n\u001b[0m\u001b[0;32m   1038\u001b[0m         return self.obj._reindex_with_indexers(\n\u001b[0;32m   1039\u001b[0m             \u001b[1;33m{\u001b[0m\u001b[0maxis\u001b[0m\u001b[1;33m:\u001b[0m \u001b[1;33m[\u001b[0m\u001b[0mkeyarr\u001b[0m\u001b[1;33m,\u001b[0m \u001b[0mindexer\u001b[0m\u001b[1;33m]\u001b[0m\u001b[1;33m}\u001b[0m\u001b[1;33m,\u001b[0m \u001b[0mcopy\u001b[0m\u001b[1;33m=\u001b[0m\u001b[1;32mTrue\u001b[0m\u001b[1;33m,\u001b[0m \u001b[0mallow_dups\u001b[0m\u001b[1;33m=\u001b[0m\u001b[1;32mTrue\u001b[0m\u001b[1;33m\u001b[0m\u001b[1;33m\u001b[0m\u001b[0m\n",
      "\u001b[1;32mC:\\ProgramData\\Anaconda3\\lib\\site-packages\\pandas\\core\\indexing.py\u001b[0m in \u001b[0;36m_get_listlike_indexer\u001b[1;34m(self, key, axis, raise_missing)\u001b[0m\n\u001b[0;32m   1252\u001b[0m             \u001b[0mkeyarr\u001b[0m\u001b[1;33m,\u001b[0m \u001b[0mindexer\u001b[0m\u001b[1;33m,\u001b[0m \u001b[0mnew_indexer\u001b[0m \u001b[1;33m=\u001b[0m \u001b[0max\u001b[0m\u001b[1;33m.\u001b[0m\u001b[0m_reindex_non_unique\u001b[0m\u001b[1;33m(\u001b[0m\u001b[0mkeyarr\u001b[0m\u001b[1;33m)\u001b[0m\u001b[1;33m\u001b[0m\u001b[1;33m\u001b[0m\u001b[0m\n\u001b[0;32m   1253\u001b[0m \u001b[1;33m\u001b[0m\u001b[0m\n\u001b[1;32m-> 1254\u001b[1;33m         \u001b[0mself\u001b[0m\u001b[1;33m.\u001b[0m\u001b[0m_validate_read_indexer\u001b[0m\u001b[1;33m(\u001b[0m\u001b[0mkeyarr\u001b[0m\u001b[1;33m,\u001b[0m \u001b[0mindexer\u001b[0m\u001b[1;33m,\u001b[0m \u001b[0maxis\u001b[0m\u001b[1;33m,\u001b[0m \u001b[0mraise_missing\u001b[0m\u001b[1;33m=\u001b[0m\u001b[0mraise_missing\u001b[0m\u001b[1;33m)\u001b[0m\u001b[1;33m\u001b[0m\u001b[1;33m\u001b[0m\u001b[0m\n\u001b[0m\u001b[0;32m   1255\u001b[0m         \u001b[1;32mreturn\u001b[0m \u001b[0mkeyarr\u001b[0m\u001b[1;33m,\u001b[0m \u001b[0mindexer\u001b[0m\u001b[1;33m\u001b[0m\u001b[1;33m\u001b[0m\u001b[0m\n\u001b[0;32m   1256\u001b[0m \u001b[1;33m\u001b[0m\u001b[0m\n",
      "\u001b[1;32mC:\\ProgramData\\Anaconda3\\lib\\site-packages\\pandas\\core\\indexing.py\u001b[0m in \u001b[0;36m_validate_read_indexer\u001b[1;34m(self, key, indexer, axis, raise_missing)\u001b[0m\n\u001b[0;32m   1313\u001b[0m \u001b[1;33m\u001b[0m\u001b[0m\n\u001b[0;32m   1314\u001b[0m                 \u001b[1;32mwith\u001b[0m \u001b[0moption_context\u001b[0m\u001b[1;33m(\u001b[0m\u001b[1;34m\"display.max_seq_items\"\u001b[0m\u001b[1;33m,\u001b[0m \u001b[1;36m10\u001b[0m\u001b[1;33m,\u001b[0m \u001b[1;34m\"display.width\"\u001b[0m\u001b[1;33m,\u001b[0m \u001b[1;36m80\u001b[0m\u001b[1;33m)\u001b[0m\u001b[1;33m:\u001b[0m\u001b[1;33m\u001b[0m\u001b[1;33m\u001b[0m\u001b[0m\n\u001b[1;32m-> 1315\u001b[1;33m                     raise KeyError(\n\u001b[0m\u001b[0;32m   1316\u001b[0m                         \u001b[1;34m\"Passing list-likes to .loc or [] with any missing labels \"\u001b[0m\u001b[1;33m\u001b[0m\u001b[1;33m\u001b[0m\u001b[0m\n\u001b[0;32m   1317\u001b[0m                         \u001b[1;34m\"is no longer supported. \"\u001b[0m\u001b[1;33m\u001b[0m\u001b[1;33m\u001b[0m\u001b[0m\n",
      "\u001b[1;31mKeyError\u001b[0m: \"Passing list-likes to .loc or [] with any missing labels is no longer supported. The following labels were missing: Index(['choice_rt'], dtype='object'). See https://pandas.pydata.org/pandas-docs/stable/user_guide/indexing.html#deprecate-loc-reindex-listlike\""
     ]
    }
   ],
   "source": [
    "if 'choice_rt' in data_prolific.columns:\n",
    "    data_prolific = data_prolific.drop(columns='choice_rt')\n",
    "grouped = data_trial \\\n",
    "    .loc[\n",
    "        data_trial['trial_type']=='eyetracking-choice', \n",
    "        :] \\\n",
    "    .groupby(['prolificID'])['trial_duration_exact'].mean() \\\n",
    "    .reset_index() \\\n",
    "    .rename(columns={'trial_duration_exact': 'choice_rt'})\n",
    "\n",
    "data_prolific = data_prolific.merge(\n",
    "    grouped, \n",
    "    on='prolificID', \n",
    "    how='left')\n",
    "\n",
    "data_prolific.loc[\n",
    "    data_prolific['status']=='AWAITING REVIEW', \n",
    "    ['run_id', 'prolificID', 'webcam_fps', \n",
    "     'choice_rt', 'bonus_USD', 'bonus_delay']\n",
    "] \\\n",
    "    .sort_values(by='run_id')"
   ]
  },
  {
   "cell_type": "markdown",
   "metadata": {},
   "source": [
    "# data_pay"
   ]
  },
  {
   "cell_type": "code",
   "execution_count": 22,
   "metadata": {},
   "outputs": [
    {
     "name": "stdout",
     "output_type": "stream",
     "text": [
      "50\n"
     ]
    }
   ],
   "source": [
    "data_pay = data_prolific.loc[\n",
    "    data_prolific['status']=='APPROVED', \n",
    "    [\n",
    "        'run_id', 'prolificID', \n",
    "        'age',  'Country of Birth', 'Current Country of Residence', 'First Language',\n",
    "        'Nationality', 'Sex',\n",
    "        'status', 'reviewed_at_datetime', 'Country of Birth', 'entered_code',\n",
    "        'session_id', 'started_datetime', 'completed_date_time', 'time_taken',\n",
    "        'bonus_USD', 'bonus_delay'\n",
    "    ]\n",
    "]\n",
    "print(len(data_pay))"
   ]
  },
  {
   "cell_type": "markdown",
   "metadata": {},
   "source": [
    "# Bonus payment"
   ]
  },
  {
   "cell_type": "markdown",
   "metadata": {},
   "source": [
    "Reformat payments"
   ]
  },
  {
   "cell_type": "code",
   "execution_count": 23,
   "metadata": {
    "scrolled": true
   },
   "outputs": [
    {
     "data": {
      "text/html": [
       "<div>\n",
       "<style scoped>\n",
       "    .dataframe tbody tr th:only-of-type {\n",
       "        vertical-align: middle;\n",
       "    }\n",
       "\n",
       "    .dataframe tbody tr th {\n",
       "        vertical-align: top;\n",
       "    }\n",
       "\n",
       "    .dataframe thead th {\n",
       "        text-align: right;\n",
       "    }\n",
       "</style>\n",
       "<table border=\"1\" class=\"dataframe\">\n",
       "  <thead>\n",
       "    <tr style=\"text-align: right;\">\n",
       "      <th></th>\n",
       "      <th>bonus_USD</th>\n",
       "      <th>bonus_delay</th>\n",
       "    </tr>\n",
       "  </thead>\n",
       "  <tbody>\n",
       "    <tr>\n",
       "      <th>0</th>\n",
       "      <td>4.5</td>\n",
       "      <td>7.0</td>\n",
       "    </tr>\n",
       "    <tr>\n",
       "      <th>3</th>\n",
       "      <td>4.5</td>\n",
       "      <td>30.0</td>\n",
       "    </tr>\n",
       "    <tr>\n",
       "      <th>4</th>\n",
       "      <td>4.5</td>\n",
       "      <td>30.0</td>\n",
       "    </tr>\n",
       "    <tr>\n",
       "      <th>5</th>\n",
       "      <td>4.0</td>\n",
       "      <td>30.0</td>\n",
       "    </tr>\n",
       "    <tr>\n",
       "      <th>10</th>\n",
       "      <td>5.0</td>\n",
       "      <td>30.0</td>\n",
       "    </tr>\n",
       "  </tbody>\n",
       "</table>\n",
       "</div>"
      ],
      "text/plain": [
       "    bonus_USD  bonus_delay\n",
       "0         4.5          7.0\n",
       "3         4.5         30.0\n",
       "4         4.5         30.0\n",
       "5         4.0         30.0\n",
       "10        5.0         30.0"
      ]
     },
     "execution_count": 23,
     "metadata": {},
     "output_type": "execute_result"
    }
   ],
   "source": [
    "data_pay['bonus_delay'] = data_pay['bonus_delay'].astype(str)\n",
    "data_pay['bonus_delay'] = data_pay['bonus_delay'] \\\n",
    "    .replace(['Today', 'Tomorrow', '7 days', \n",
    "          '15 days', '30 days', '90 days', \n",
    "          '180 days'], \n",
    "         [0, 1, 7, 15, 30, 90, 180]) \\\n",
    "    .astype(float)\n",
    "\n",
    "data_pay['bonus_USD'] = data_pay['bonus_USD'].astype(str)\n",
    "data_pay['bonus_USD'] = data_pay['bonus_USD'] \\\n",
    "    .replace({'\\$':''}, regex = True) \\\n",
    "    .replace('50 cent', 0.5) \\\n",
    "    .astype(float)\n",
    "\n",
    "data_pay.loc[:, ['bonus_USD', 'bonus_delay']].head(5)"
   ]
  },
  {
   "cell_type": "markdown",
   "metadata": {},
   "source": [
    "## Replace empty values with the best bonus reward"
   ]
  },
  {
   "cell_type": "code",
   "execution_count": 28,
   "metadata": {},
   "outputs": [
    {
     "data": {
      "text/html": [
       "<div>\n",
       "<style scoped>\n",
       "    .dataframe tbody tr th:only-of-type {\n",
       "        vertical-align: middle;\n",
       "    }\n",
       "\n",
       "    .dataframe tbody tr th {\n",
       "        vertical-align: top;\n",
       "    }\n",
       "\n",
       "    .dataframe thead th {\n",
       "        text-align: right;\n",
       "    }\n",
       "</style>\n",
       "<table border=\"1\" class=\"dataframe\">\n",
       "  <thead>\n",
       "    <tr style=\"text-align: right;\">\n",
       "      <th></th>\n",
       "      <th>run_id</th>\n",
       "      <th>prolificID</th>\n",
       "      <th>bonus_USD</th>\n",
       "      <th>bonus_delay</th>\n",
       "    </tr>\n",
       "  </thead>\n",
       "  <tbody>\n",
       "    <tr>\n",
       "      <th>11</th>\n",
       "      <td>NaN</td>\n",
       "      <td>5fea6632bf9ae4a79153efdf</td>\n",
       "      <td>5.0</td>\n",
       "      <td>1.0</td>\n",
       "    </tr>\n",
       "    <tr>\n",
       "      <th>15</th>\n",
       "      <td>NaN</td>\n",
       "      <td>5b8969006651ea000118e42e</td>\n",
       "      <td>5.0</td>\n",
       "      <td>1.0</td>\n",
       "    </tr>\n",
       "    <tr>\n",
       "      <th>66</th>\n",
       "      <td>NaN</td>\n",
       "      <td>5fb2af792942a58ffe303948</td>\n",
       "      <td>5.0</td>\n",
       "      <td>1.0</td>\n",
       "    </tr>\n",
       "    <tr>\n",
       "      <th>71</th>\n",
       "      <td>NaN</td>\n",
       "      <td>5d430fdf871f1700017b2a81</td>\n",
       "      <td>5.0</td>\n",
       "      <td>1.0</td>\n",
       "    </tr>\n",
       "    <tr>\n",
       "      <th>86</th>\n",
       "      <td>NaN</td>\n",
       "      <td>5edc20443467e28ec4e30f93</td>\n",
       "      <td>5.0</td>\n",
       "      <td>1.0</td>\n",
       "    </tr>\n",
       "  </tbody>\n",
       "</table>\n",
       "</div>"
      ],
      "text/plain": [
       "    run_id                prolificID  bonus_USD  bonus_delay\n",
       "11     NaN  5fea6632bf9ae4a79153efdf        5.0          1.0\n",
       "15     NaN  5b8969006651ea000118e42e        5.0          1.0\n",
       "66     NaN  5fb2af792942a58ffe303948        5.0          1.0\n",
       "71     NaN  5d430fdf871f1700017b2a81        5.0          1.0\n",
       "86     NaN  5edc20443467e28ec4e30f93        5.0          1.0"
      ]
     },
     "execution_count": 28,
     "metadata": {},
     "output_type": "execute_result"
    }
   ],
   "source": [
    "# For two subjects, the bonus payment was not recorded\n",
    "data_pay.loc[\n",
    "    data_pay['prolificID'].isin(\n",
    "        ['5fea6632bf9ae4a79153efdf', \n",
    "         '5b8969006651ea000118e42e', \n",
    "         '5fb2af792942a58ffe303948', \n",
    "         '5edc20443467e28ec4e30f93',\n",
    "         '5fa1192cf99e161a5cfad1cd', \n",
    "         '5d430fdf871f1700017b2a81'\n",
    "        ]), ['bonus_USD', 'bonus_delay']] = [5, 1]\n",
    "\n",
    "data_pay.loc[data_pay['prolificID'].isin(\n",
    "        ['5fea6632bf9ae4a79153efdf', \n",
    "         '5b8969006651ea000118e42e', \n",
    "         '5fb2af792942a58ffe303948', \n",
    "         '5edc20443467e28ec4e30f93', \n",
    "         '5d430fdf871f1700017b2a81'\n",
    "        ]), ['run_id', 'prolificID', 'bonus_USD', 'bonus_delay']]"
   ]
  },
  {
   "cell_type": "code",
   "execution_count": 29,
   "metadata": {
    "scrolled": true
   },
   "outputs": [
    {
     "data": {
      "text/html": [
       "<div>\n",
       "<style scoped>\n",
       "    .dataframe tbody tr th:only-of-type {\n",
       "        vertical-align: middle;\n",
       "    }\n",
       "\n",
       "    .dataframe tbody tr th {\n",
       "        vertical-align: top;\n",
       "    }\n",
       "\n",
       "    .dataframe thead th {\n",
       "        text-align: right;\n",
       "    }\n",
       "</style>\n",
       "<table border=\"1\" class=\"dataframe\">\n",
       "  <thead>\n",
       "    <tr style=\"text-align: right;\">\n",
       "      <th></th>\n",
       "      <th>run_id</th>\n",
       "      <th>prolificID</th>\n",
       "      <th>age</th>\n",
       "      <th>Country of Birth</th>\n",
       "      <th>Current Country of Residence</th>\n",
       "      <th>First Language</th>\n",
       "      <th>Nationality</th>\n",
       "      <th>Sex</th>\n",
       "      <th>status</th>\n",
       "      <th>reviewed_at_datetime</th>\n",
       "      <th>Country of Birth</th>\n",
       "      <th>entered_code</th>\n",
       "      <th>session_id</th>\n",
       "      <th>started_datetime</th>\n",
       "      <th>completed_date_time</th>\n",
       "      <th>time_taken</th>\n",
       "      <th>bonus_USD</th>\n",
       "      <th>bonus_delay</th>\n",
       "    </tr>\n",
       "  </thead>\n",
       "  <tbody>\n",
       "  </tbody>\n",
       "</table>\n",
       "</div>"
      ],
      "text/plain": [
       "Empty DataFrame\n",
       "Columns: [run_id, prolificID, age, Country of Birth, Current Country of Residence, First Language, Nationality, Sex, status, reviewed_at_datetime, Country of Birth, entered_code, session_id, started_datetime, completed_date_time, time_taken, bonus_USD, bonus_delay]\n",
       "Index: []"
      ]
     },
     "execution_count": 29,
     "metadata": {},
     "output_type": "execute_result"
    }
   ],
   "source": [
    "data_pay.loc[data_pay[['bonus_USD', 'bonus_delay']].isnull().any(axis=1), :]"
   ]
  },
  {
   "cell_type": "markdown",
   "metadata": {},
   "source": [
    "## Bonus in other currencies"
   ]
  },
  {
   "cell_type": "code",
   "execution_count": null,
   "metadata": {},
   "outputs": [],
   "source": [
    "data_pay['bonus_GBP'] = data_pay['bonus_USD'] * 0.75\n",
    "data_pay['bonus_EUR'] = data_pay['bonus_GBP'] * 1.13"
   ]
  },
  {
   "cell_type": "markdown",
   "metadata": {},
   "source": [
    "## When is the bonus due?"
   ]
  },
  {
   "cell_type": "code",
   "execution_count": null,
   "metadata": {},
   "outputs": [],
   "source": [
    "def add_completed_date(data, data_trial):\n",
    "    output = []\n",
    "\n",
    "    for subject in data_trial['run_id'].unique():\n",
    "        thisSubject = data_trial.loc[data_trial['run_id']==subject] \\\n",
    "            .reset_index(drop=True)\n",
    "        date_time_obj = datetime.datetime.strptime(\n",
    "            thisSubject.loc[0, 'recorded_at'], '%Y-%m-%d %H:%M:%S')\n",
    "\n",
    "        output.append([thisSubject.loc[0, 'run_id'], date_time_obj.date()])\n",
    "        \n",
    "    output = pd.DataFrame(output, columns=['run_id', 'date']) \n",
    "    \n",
    "    if 'date' in data.columns: data = data.drop(columns=['date'])\n",
    "    data = data.merge(output, on='run_id', how='left')\n",
    "    return data\n",
    "\n",
    "data_pay = add_completed_date(data_pay, data_trial)\n",
    "    \n",
    "data_pay['completed_date']=data_pay.apply(\n",
    "    lambda x: datetime.datetime.strptime(\n",
    "        x['completed_date_time'], '%Y-%m-%d %H:%M:%S.%f') \\\n",
    "            .date(),\n",
    "    axis=1)\n",
    "\n",
    "data_pay['due_on'] = data_pay['completed_date'] + \\\n",
    "    data_pay['bonus_delay'].map(datetime.timedelta) \n",
    "\n",
    "print(len(data_pay))\n",
    "data_pay.loc[:, \n",
    "               [\n",
    "                   'prolificID', 'run_id',\n",
    "                   'Nationality', 'Sex',  \n",
    "                   'bonus_USD', 'bonus_GBP', 'bonus_EUR', \n",
    "                   'completed_date', 'bonus_delay', 'due_on'\n",
    "               ]\n",
    "              ]. sort_values(by='due_on')\n"
   ]
  },
  {
   "cell_type": "markdown",
   "metadata": {},
   "source": [
    "## What bonus is due today? "
   ]
  },
  {
   "cell_type": "code",
   "execution_count": null,
   "metadata": {},
   "outputs": [],
   "source": [
    "bonus_due_today = data_pay.loc[data_pay['due_on']==datetime.datetime.now().date(), :]\n",
    "bonus_due_today['bonus_GBP'] = bonus_due_today['bonus_GBP'].round(2)\n",
    "bonus_due_today"
   ]
  },
  {
   "cell_type": "code",
   "execution_count": null,
   "metadata": {},
   "outputs": [],
   "source": [
    "bonus_due_today.loc[: , ['prolificID', 'bonus_GBP']] \\\n",
    "    .to_csv('C:/Users/User/GitHub/WebET_Analysis/prolific/bonusToday.csv', \n",
    "            index=False, \n",
    "            header=False\n",
    "           )\n",
    "print(bonus_due_today['due_on'].unique())"
   ]
  },
  {
   "cell_type": "markdown",
   "metadata": {},
   "source": [
    "# Total costs"
   ]
  },
  {
   "cell_type": "markdown",
   "metadata": {},
   "source": [
    "## Basic payment"
   ]
  },
  {
   "cell_type": "code",
   "execution_count": null,
   "metadata": {
    "scrolled": false
   },
   "outputs": [],
   "source": [
    "data_pay['basic_GBP'] = 2.25\n",
    "data_pay.loc[:, ['basic_GBP', 'bonus_GBP']].head(5)"
   ]
  },
  {
   "cell_type": "markdown",
   "metadata": {},
   "source": [
    "## Total"
   ]
  },
  {
   "cell_type": "code",
   "execution_count": null,
   "metadata": {},
   "outputs": [],
   "source": [
    "print('N =' + str(len(data_pay) + '\\n')\n",
    "\n",
    "reward_basic = data_pay['basic_GBP'].sum()\n",
    "service_fee = reward_basic * 0.2\n",
    "vat = reward_basic * 0.2*0.2\n",
    "total_basic = data_pay['basic_GBP'].sum() * 1.4\n",
    "total_bonus = data_pay['bonus_GBP'].sum() * 1.4\n",
    "total = total_basic + total_bonus\n",
    "\n",
    "overview = pd.DataFrame(\n",
    "    [\n",
    "        [reward_basic], \n",
    "        [service_fee], [vat], \n",
    "        [total_basic], [total_bonus], [total]\n",
    "    ], \n",
    "    columns=['GBP'],\n",
    "    index= ['reward_basic', \n",
    "        'service_fee', 'vat', \n",
    "        'total_basic', 'total_bonus', 'total'])\n",
    "print(str(overview) + '\\n')\n",
    "\n",
    "print('Total in €, incl. transaction fee: ' + str(total * 1.14))"
   ]
  },
  {
   "cell_type": "markdown",
   "metadata": {},
   "source": [
    "## Total already paid \n",
    "Basic + bonus until today. Use that to compare with prolific bills"
   ]
  },
  {
   "cell_type": "code",
   "execution_count": null,
   "metadata": {},
   "outputs": [],
   "source": [
    "subject_reward_GBP"
   ]
  },
  {
   "cell_type": "code",
   "execution_count": null,
   "metadata": {},
   "outputs": [],
   "source": [
    "bonus_GBP_already_paid = data_pay.loc[\n",
    "    data_pay['due_on']<=datetime.datetime.now().date(), \n",
    "    'bonus_GBP'].sum()\n",
    "\n",
    "reward_basic = data_pay['basic_GBP'].sum()\n",
    "service_fee = (reward_basic + bonus_GBP_already_paid) * 0.2\n",
    "vat = (reward_basic + bonus_GBP_already_paid) * 0.2*0.2\n",
    "total_basic = data_pay['basic_GBP'].sum() * 1.4\n",
    "total_bonus = bonus_GBP_already_paid * 1.4\n",
    "total = total_basic + total_bonus\n",
    "\n",
    "overview = pd.DataFrame(\n",
    "    [\n",
    "        [reward_basic], \n",
    "        [service_fee], [vat], \n",
    "        [total_basic], [total_bonus], [total]\n",
    "    ], \n",
    "    columns=['GBP'],\n",
    "    index= ['reward_basic', \n",
    "        'service_fee', 'vat', \n",
    "        'total_basic', 'total_bonus', 'total'])\n",
    "print(str(overview) + '\\n')\n",
    "\n",
    "print('Total in €, incl. transaction fee: ' + str(total * 1.14))"
   ]
  },
  {
   "cell_type": "markdown",
   "metadata": {},
   "source": [
    "# Prognosis for the larger sample"
   ]
  },
  {
   "cell_type": "code",
   "execution_count": null,
   "metadata": {},
   "outputs": [],
   "source": [
    "def cost_prognosis(n):\n",
    "    reward_basic = n * data_pay['basic_GBP'].mean()\n",
    "    reward_bonus = n * data_pay['bonus_GBP'].mean()\n",
    "        \n",
    "    service_fee  = (reward_basic + bonus_GBP_already_paid) * 0.2\n",
    "    vat          = (reward_basic + bonus_GBP_already_paid) * 0.2*0.2\n",
    "    total_basic  = reward_basic * 1.4\n",
    "    total_bonus  = reward_bonus * 1.4\n",
    "    total        = total_basic + total_bonus\n",
    "\n",
    "    overview = pd.DataFrame(\n",
    "        [\n",
    "            [reward_basic], \n",
    "            [service_fee], [vat], \n",
    "            [total_basic], [total_bonus], [total], [total * 1.14]\n",
    "        ], \n",
    "        columns=[n],\n",
    "        index= ['reward_basic', \n",
    "            'service_fee', 'vat', \n",
    "            'total_basic', 'total_bonus', 'total', 'total_EUR'])\n",
    "    overview = round(overview, 2)\n",
    "    return(overview)\n",
    "\n",
    "print('All costs in GBP!')\n",
    "print('My budget is 2.101€')\n",
    "pd.concat([\n",
    "    cost_prognosis(1),\n",
    "    cost_prognosis(50),\n",
    "    cost_prognosis(150),\n",
    "    cost_prognosis(200)], axis=1)"
   ]
  },
  {
   "cell_type": "markdown",
   "metadata": {},
   "source": [
    "# Export modified prolific data"
   ]
  },
  {
   "cell_type": "code",
   "execution_count": null,
   "metadata": {},
   "outputs": [],
   "source": [
    "data_pay.to_csv('C:/Users/User/GitHub/WebET_Analysis/prolific/data_pay.csv', index=False, header=True)"
   ]
  },
  {
   "cell_type": "markdown",
   "metadata": {},
   "source": [
    "# Feedback"
   ]
  },
  {
   "cell_type": "code",
   "execution_count": null,
   "metadata": {},
   "outputs": [],
   "source": [
    "print('Success! Script ran through.')"
   ]
  }
 ],
 "metadata": {
  "kernelspec": {
   "display_name": "Python 3",
   "language": "python",
   "name": "python3"
  },
  "language_info": {
   "codemirror_mode": {
    "name": "ipython",
    "version": 3
   },
   "file_extension": ".py",
   "mimetype": "text/x-python",
   "name": "python",
   "nbconvert_exporter": "python",
   "pygments_lexer": "ipython3",
   "version": "3.8.5"
  },
  "toc": {
   "base_numbering": 1,
   "nav_menu": {},
   "number_sections": true,
   "sideBar": true,
   "skip_h1_title": false,
   "title_cell": "Table of Contents",
   "title_sidebar": "Contents",
   "toc_cell": false,
   "toc_position": {
    "height": "calc(100% - 180px)",
    "left": "10px",
    "top": "150px",
    "width": "281.6px"
   },
   "toc_section_display": true,
   "toc_window_display": false
  }
 },
 "nbformat": 4,
 "nbformat_minor": 4
}
