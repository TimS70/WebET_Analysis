{
 "cells": [
  {
   "cell_type": "code",
   "execution_count": 1,
   "metadata": {},
   "outputs": [
    {
     "name": "stdout",
     "output_type": "stream",
     "text": [
      "Current Working directory  C:\\Users\\User\\GitHub\\WebET_Analysis\n"
     ]
    }
   ],
   "source": [
    "import datetime\n",
    "import numpy as np\n",
    "import math\n",
    "import os\n",
    "import pandas as pd\n",
    "import re\n",
    "import seaborn as sns\n",
    "import json\n",
    "import statsmodels.api as sm \n",
    "import statsmodels.formula.api as smf\n",
    "import statsmodels.graphics.api as smg\n",
    "import sys\n",
    "\n",
    "if sys.version_info[0] < 3: \n",
    "    from StringIO import StringIO\n",
    "else:\n",
    "    from io import StringIO\n",
    "    \n",
    "from IPython.display import HTML\n",
    "def View(df):\n",
    "    css = \"\"\"<style>\n",
    "    table { border-collapse: collapse; border: 3px solid #eee; }\n",
    "    table tr th:first-child { background-color: #eeeeee; color: #333; font-weight: bold }\n",
    "    table thead th { background-color: #eee; color: #000; }\n",
    "    tr, th, td { border: 1px solid #ccc; border-width: 1px 0 0 1px; border-collapse: collapse;\n",
    "    padding: 3px; font-family: monospace; font-size: 10px }</style>\n",
    "    \"\"\"\n",
    "    s  = '<script type=\"text/Javascript\">'\n",
    "    s += 'var win = window.open(\"\", \"Title\", \"toolbar=no, location=no, directories=no, status=no, menubar=no, scrollbars=yes, resizable=yes, width=780, height=200, top=\"+(screen.height-400)+\", left=\"+(screen.width-840));'\n",
    "    s += 'win.document.body.innerHTML = \\'' + (df.to_html() + css).replace(\"\\n\",'\\\\') + '\\';'\n",
    "    s += '</script>'\n",
    "    return(HTML(s+css))    \n",
    "\n",
    "os.chdir(r'C:\\Users\\User\\GitHub\\WebET_Analysis')\n",
    "print(\"Current Working directory \" , os.getcwd())"
   ]
  },
  {
   "cell_type": "code",
   "execution_count": 2,
   "metadata": {},
   "outputs": [],
   "source": [
    "# from IPython.display import HTML\n",
    "\n",
    "# HTML('''<script>\n",
    "# code_show=true; \n",
    "# function code_toggle() {\n",
    "#  if (code_show){\n",
    "#  $('div.input').hide();\n",
    "#  } else {\n",
    "#  $('div.input').show();\n",
    "#  }\n",
    "#  code_show = !code_show\n",
    "# } \n",
    "# $( document ).ready(code_toggle);\n",
    "# </script>\n",
    "# <form action=\"javascript:code_toggle()\"><input type=\"submit\" value=\"Click here to toggle on/off the raw code.\"></form>''')"
   ]
  },
  {
   "cell_type": "markdown",
   "metadata": {},
   "source": [
    "# Raw Data"
   ]
  },
  {
   "cell_type": "markdown",
   "metadata": {},
   "source": [
    "## Search for specific subjects"
   ]
  },
  {
   "cell_type": "code",
   "execution_count": 3,
   "metadata": {},
   "outputs": [],
   "source": [
    "#path = 'data_cognition'\n",
    "#subject_files = os.listdir(path)\n",
    "#for i in range(0, len(subject_files)):\n",
    "#    thisSubject = open(path + \"/\" + subject_files[i]).read()\n",
    "#    if thisSubject.find('5c0e4e3d87e876000151cfec') > (-1):\n",
    "#        print(subject_files[i])"
   ]
  },
  {
   "cell_type": "markdown",
   "metadata": {},
   "source": [
    "## Read CSV from String"
   ]
  },
  {
   "cell_type": "code",
   "execution_count": 4,
   "metadata": {},
   "outputs": [
    {
     "ename": "KeyboardInterrupt",
     "evalue": "",
     "output_type": "error",
     "traceback": [
      "\u001b[1;31m---------------------------------------------------------------------------\u001b[0m",
      "\u001b[1;31mKeyboardInterrupt\u001b[0m                         Traceback (most recent call last)",
      "\u001b[1;32m<ipython-input-4-d5576a9b543d>\u001b[0m in \u001b[0;36m<module>\u001b[1;34m\u001b[0m\n\u001b[0;32m     35\u001b[0m     \u001b[1;32mreturn\u001b[0m \u001b[0moutput\u001b[0m\u001b[1;33m\u001b[0m\u001b[1;33m\u001b[0m\u001b[0m\n\u001b[0;32m     36\u001b[0m \u001b[1;33m\u001b[0m\u001b[0m\n\u001b[1;32m---> 37\u001b[1;33m \u001b[0mdata_raw\u001b[0m \u001b[1;33m=\u001b[0m \u001b[0mcompileData\u001b[0m\u001b[1;33m(\u001b[0m\u001b[1;34m\"data_prolific\"\u001b[0m\u001b[1;33m)\u001b[0m\u001b[1;33m\u001b[0m\u001b[1;33m\u001b[0m\u001b[0m\n\u001b[0m\u001b[0;32m     38\u001b[0m \u001b[1;33m\u001b[0m\u001b[0m\n\u001b[0;32m     39\u001b[0m \u001b[1;31m# Custom modifications\u001b[0m\u001b[1;33m\u001b[0m\u001b[1;33m\u001b[0m\u001b[1;33m\u001b[0m\u001b[0m\n",
      "\u001b[1;32m<ipython-input-4-d5576a9b543d>\u001b[0m in \u001b[0;36mcompileData\u001b[1;34m(path)\u001b[0m\n\u001b[0;32m     29\u001b[0m         \u001b[0mcsv_thisSubject\u001b[0m \u001b[1;33m=\u001b[0m \u001b[0mopen\u001b[0m\u001b[1;33m(\u001b[0m\u001b[0mpath\u001b[0m \u001b[1;33m+\u001b[0m \u001b[1;34m\"/\"\u001b[0m \u001b[1;33m+\u001b[0m \u001b[0msubject_files\u001b[0m\u001b[1;33m[\u001b[0m\u001b[0mi\u001b[0m\u001b[1;33m]\u001b[0m\u001b[1;33m)\u001b[0m\u001b[1;33m.\u001b[0m\u001b[0mread\u001b[0m\u001b[1;33m(\u001b[0m\u001b[1;33m)\u001b[0m\u001b[1;33m\u001b[0m\u001b[1;33m\u001b[0m\u001b[0m\n\u001b[0;32m     30\u001b[0m         \u001b[0mcsv_thisSubject\u001b[0m \u001b[1;33m=\u001b[0m \u001b[0mcleanhtml\u001b[0m\u001b[1;33m(\u001b[0m\u001b[0mcsv_thisSubject\u001b[0m\u001b[1;33m)\u001b[0m\u001b[1;33m\u001b[0m\u001b[1;33m\u001b[0m\u001b[0m\n\u001b[1;32m---> 31\u001b[1;33m         \u001b[0mcsv_thisSubject\u001b[0m \u001b[1;33m=\u001b[0m \u001b[0mcleanETText\u001b[0m\u001b[1;33m(\u001b[0m\u001b[0mcsv_thisSubject\u001b[0m\u001b[1;33m)\u001b[0m\u001b[1;33m\u001b[0m\u001b[1;33m\u001b[0m\u001b[0m\n\u001b[0m\u001b[0;32m     32\u001b[0m         \u001b[0mcsv_thisSubject\u001b[0m \u001b[1;33m=\u001b[0m \u001b[0mcleanSurveyText\u001b[0m\u001b[1;33m(\u001b[0m\u001b[0mcsv_thisSubject\u001b[0m\u001b[1;33m)\u001b[0m\u001b[1;33m\u001b[0m\u001b[1;33m\u001b[0m\u001b[0m\n\u001b[0;32m     33\u001b[0m         \u001b[0mall_subjects\u001b[0m\u001b[1;33m.\u001b[0m\u001b[0mappend\u001b[0m\u001b[1;33m(\u001b[0m\u001b[0mpd\u001b[0m\u001b[1;33m.\u001b[0m\u001b[0mread_csv\u001b[0m\u001b[1;33m(\u001b[0m\u001b[0mStringIO\u001b[0m\u001b[1;33m(\u001b[0m\u001b[0mcsv_thisSubject\u001b[0m\u001b[1;33m)\u001b[0m\u001b[1;33m)\u001b[0m\u001b[1;33m)\u001b[0m\u001b[1;33m\u001b[0m\u001b[1;33m\u001b[0m\u001b[0m\n",
      "\u001b[1;32m<ipython-input-4-d5576a9b543d>\u001b[0m in \u001b[0;36mcleanETText\u001b[1;34m(text)\u001b[0m\n\u001b[0;32m     11\u001b[0m         \u001b[0mold\u001b[0m \u001b[1;33m=\u001b[0m \u001b[0mtextWithinBrackets\u001b[0m\u001b[1;33m[\u001b[0m\u001b[0mi\u001b[0m\u001b[1;33m]\u001b[0m\u001b[1;33m\u001b[0m\u001b[1;33m\u001b[0m\u001b[0m\n\u001b[0;32m     12\u001b[0m         \u001b[0mnew\u001b[0m \u001b[1;33m=\u001b[0m \u001b[0mre\u001b[0m\u001b[1;33m.\u001b[0m\u001b[0msub\u001b[0m\u001b[1;33m(\u001b[0m\u001b[1;34m\",\"\u001b[0m\u001b[1;33m,\u001b[0m \u001b[1;34m\"$\"\u001b[0m\u001b[1;33m,\u001b[0m \u001b[0mold\u001b[0m\u001b[1;33m)\u001b[0m\u001b[1;33m\u001b[0m\u001b[1;33m\u001b[0m\u001b[0m\n\u001b[1;32m---> 13\u001b[1;33m         \u001b[0moutput\u001b[0m \u001b[1;33m=\u001b[0m \u001b[0moutput\u001b[0m\u001b[1;33m.\u001b[0m\u001b[0mreplace\u001b[0m\u001b[1;33m(\u001b[0m\u001b[0mold\u001b[0m\u001b[1;33m,\u001b[0m \u001b[0mnew\u001b[0m\u001b[1;33m)\u001b[0m\u001b[1;33m\u001b[0m\u001b[1;33m\u001b[0m\u001b[0m\n\u001b[0m\u001b[0;32m     14\u001b[0m     \u001b[1;32mreturn\u001b[0m \u001b[0moutput\u001b[0m\u001b[1;33m\u001b[0m\u001b[1;33m\u001b[0m\u001b[0m\n\u001b[0;32m     15\u001b[0m \u001b[1;33m\u001b[0m\u001b[0m\n",
      "\u001b[1;31mKeyboardInterrupt\u001b[0m: "
     ]
    }
   ],
   "source": [
    "def cleanhtml(raw_html):\n",
    "    # https://stackoverflow.com/questions/9662346/python-code-to-remove-html-tags-from-a-string\n",
    "    cleanr = re.compile('<.*?>')\n",
    "    cleanText = re.sub(cleanr, '', raw_html)\n",
    "    return cleanText\n",
    "\n",
    "def cleanETText(text):\n",
    "    textWithinBrackets = re.findall(re.compile('\\[.*?\\]'), text)\n",
    "    output = text\n",
    "    for i in range(0,len(textWithinBrackets)):\n",
    "        old = textWithinBrackets[i]\n",
    "        new = re.sub(\",\", \"$\", old)\n",
    "        output = output.replace(old, new)\n",
    "    return output\n",
    "\n",
    "def cleanSurveyText(text):\n",
    "    output = text\n",
    "    textWithinBrackets = re.findall(re.compile('\\{.*?\\}'), text)\n",
    "    for i in range(0,len(textWithinBrackets)):\n",
    "        old = textWithinBrackets[i]\n",
    "        new = old.replace(',', '§')\n",
    "        output = output.replace(old, new)\n",
    "    return output\n",
    "\n",
    "def compileData(path):\n",
    "    subject_files = os.listdir(path)\n",
    "    all_subjects = []\n",
    "    for i in range(0, len(subject_files)):\n",
    "        csv_thisSubject = open(path + \"/\" + subject_files[i]).read()\n",
    "        csv_thisSubject = cleanhtml(csv_thisSubject)\n",
    "        csv_thisSubject = cleanETText(csv_thisSubject)\n",
    "        csv_thisSubject = cleanSurveyText(csv_thisSubject)\n",
    "        all_subjects.append(pd.read_csv(StringIO(csv_thisSubject)))\n",
    "    output = pd.concat(all_subjects).reset_index(drop=True)\n",
    "    return output\n",
    "\n",
    "data_raw = compileData(\"data_prolific\")\n",
    "\n",
    "# Custom modifications\n",
    "data_raw['run_id'].unique()"
   ]
  },
  {
   "cell_type": "code",
   "execution_count": null,
   "metadata": {},
   "outputs": [],
   "source": [
    "data_yang = compileData(\"data_yang2020WG\")\n",
    "# Custom modifications\n",
    "data_yang.loc[0:515, 'run_id'] = 0\n",
    "data_yang = data_yang.loc[~data_yang['run_id'].isin([4, 18]), :]\n",
    "data_yang = data_yang.rename(columns={'eyeData': 'et_data'})\n",
    "data_yang['run_id'] = data_yang['run_id'] + 1000\n",
    "print(data_yang['run_id'].unique())\n",
    "data_raw = data_raw.append(data_yang.reset_index(drop=True))"
   ]
  },
  {
   "cell_type": "code",
   "execution_count": null,
   "metadata": {},
   "outputs": [],
   "source": [
    "data_milieu = compileData(\"data_milieu\")\n",
    "data_milieu['run_id'] = data_milieu['run_id'] + 2000\n",
    "print(data_milieu['run_id'].unique())\n",
    "data_raw = data_raw.append(data_milieu.reset_index(drop=True))"
   ]
  },
  {
   "cell_type": "markdown",
   "metadata": {},
   "source": [
    "### Exclude empty studies"
   ]
  },
  {
   "cell_type": "code",
   "execution_count": null,
   "metadata": {},
   "outputs": [],
   "source": [
    "data_raw = data_raw.loc[data_raw['trial_index']>0, :]"
   ]
  },
  {
   "cell_type": "markdown",
   "metadata": {},
   "source": [
    "### survey data"
   ]
  },
  {
   "cell_type": "code",
   "execution_count": null,
   "metadata": {},
   "outputs": [],
   "source": [
    "def cleanOptionalNote(text):\n",
    "    optionalNoteText = re.findall(re.compile('optionalNote\":.*?\\}'), text)\n",
    "    if len(optionalNoteText) < 1:\n",
    "        output = text\n",
    "    else:\n",
    "        old = optionalNoteText[0]\n",
    "        new = old.replace('§', ' ')\n",
    "        output = text.replace(old, new)\n",
    "    return output\n",
    "\n",
    "\n",
    "def surveyStringToFrame(subject, string):\n",
    "    string = cleanOptionalNote(string)\n",
    "    string = re.sub(\"\"\"{\"\"\", '', string)\n",
    "    string = re.sub(\"\"\"}\"\"\", '', string)\n",
    "    string = re.sub('\"', '', string)\n",
    "    string = re.sub('§', '$', string)\n",
    "    output = pd.read_csv(StringIO(string),\n",
    "                         sep=\":\",\n",
    "                         lineterminator=\"$\",\n",
    "                         header=None,\n",
    "                         index_col=0\n",
    "                         ).transpose()\n",
    "    return output\n",
    "\n",
    "\n",
    "def surveyData_thisSubject(data):\n",
    "    df_thisSubject = data.loc[\n",
    "        (pd.notna(data[\"responses\"])) &\n",
    "        (data[\"responses\"] != '\"'), :].reset_index()\n",
    "    subject = df_thisSubject['run_id'].unique()[0]\n",
    "    output = []\n",
    "    for i in range(0, len(df_thisSubject)):\n",
    "        output.append(\n",
    "            surveyStringToFrame(subject,\n",
    "                                df_thisSubject.loc[i, 'responses'])\n",
    "        )\n",
    "\n",
    "    output = pd.concat(output, axis=1)\n",
    "    output['run_id'] = subject\n",
    "    return output\n",
    "\n",
    "def addSurveyData(data):\n",
    "    surveyData_allSubjects = pd.DataFrame(columns=[\n",
    "            'prolificID', 'age', 'gender', 'ethnic', 'sight', \n",
    "            'glasses', 'degree', 'eyeshadow', 'masquara', 'eyeliner', \n",
    "            'browliner', 'vertPosition', 'triedChin', 'keptHead', \n",
    "            'optionalNote', 'run_id'])\n",
    "\n",
    "    for subject in data['run_id'].unique():\n",
    "        surveyData_allSubjects = \\\n",
    "            surveyData_allSubjects.append(\n",
    "                surveyData_thisSubject(\n",
    "                    data.loc[data['run_id']==subject, ['run_id', 'responses']]\n",
    "                )\n",
    "            )\n",
    "    # print(surveyData_allSubjects)\n",
    "    \n",
    "    data = data.merge(surveyData_allSubjects, on='run_id', how='left')\n",
    "    data = data.drop(columns='responses')\n",
    "    return(data)\n",
    "    \n",
    "data_raw = addSurveyData(data_raw)\n",
    "print(data_raw['run_id'].unique())\n",
    "print(data_raw.columns)"
   ]
  },
  {
   "cell_type": "code",
   "execution_count": null,
   "metadata": {
    "scrolled": false
   },
   "outputs": [],
   "source": [
    "def convertToNumeric(data, columns):\n",
    "    data[columns] = data[columns].apply(pd.to_numeric, errors='coerce')\n",
    "    return data\n",
    "\n",
    "\n",
    "data_raw = convertToNumeric(data_raw, ['age'])\n",
    "data_raw['degree'] = data_raw['degree'].replace(\n",
    "        [\n",
    "            'College / Undergraduate / Bachelor',\n",
    "            'High School',\n",
    "            'Graduate / PhD / Master',\n",
    "            'Middle School'\n",
    "        ],\n",
    "    [\n",
    "            'college',\n",
    "            'highSchool',\n",
    "            'grad',\n",
    "            'middle'\n",
    "        ]\n",
    ")\n",
    "\n",
    "columns = [\n",
    "            'chinFirst',\n",
    "            'eyeshadow', \n",
    "            'masquara',\n",
    "            'eyeliner',\n",
    "            'browliner',\n",
    "            'triedChin', \n",
    "            'keptHead',\n",
    "        ]\n",
    "\n",
    "data_raw[columns] = data_raw[columns].replace({'no': 0, 'yes': 1}) \n",
    "\n",
    "data_raw['run_id'].unique()"
   ]
  },
  {
   "cell_type": "markdown",
   "metadata": {},
   "source": [
    "# data_trial"
   ]
  },
  {
   "cell_type": "code",
   "execution_count": null,
   "metadata": {},
   "outputs": [],
   "source": [
    "data_trial = data_raw.loc[\n",
    "    :,\n",
    "    [\n",
    "        'run_id', 'subject', 'prolificID', 'chinFirst', \n",
    "        'trial_index',\n",
    "        'trial_type', 'task_nr', \n",
    "        'rt', 'stimulus', 'key_press', \n",
    "        'time_elapsed', 'trial_duration', 'recorded_at',\n",
    "        'window_width', 'window_height', 'success', \n",
    "\n",
    "        'chin', 'x_pos', 'y_pos', \n",
    "        \n",
    "        'choiceTask_amountLeftFirst', \n",
    "        'option_topLeft', 'option_bottomLeft',\n",
    "        'option_topRight', 'option_bottomRight', \n",
    "        'chosenAmount', 'chosenDelay',\n",
    "    ]\n",
    "]"
   ]
  },
  {
   "cell_type": "markdown",
   "metadata": {},
   "source": [
    "## Clean"
   ]
  },
  {
   "cell_type": "markdown",
   "metadata": {},
   "source": [
    "### Failed Webgazer Setup"
   ]
  },
  {
   "cell_type": "code",
   "execution_count": null,
   "metadata": {},
   "outputs": [],
   "source": [
    "subjects_failedSetups = []\n",
    "for subject in data_trial['run_id'].unique():\n",
    "    maxTrialIndex = data_trial.loc[data_raw['run_id']==subject, ['trial_index']].max()\n",
    "    if int(maxTrialIndex) < 15:\n",
    "        subjects_failedSetups.append(subject)\n",
    "\n",
    "data_trial.loc[data_trial['run_id'].isin(subjects_failedSetups), \n",
    "    [\n",
    "        'run_id', 'prolificID'\n",
    "    ]\n",
    "].drop_duplicates()    "
   ]
  },
  {
   "cell_type": "code",
   "execution_count": null,
   "metadata": {},
   "outputs": [],
   "source": [
    "data_trial = data_trial.loc[~data_trial['run_id'].isin(subjects_failedSetups), :]\n",
    "print(data_trial['run_id'].unique())"
   ]
  },
  {
   "cell_type": "markdown",
   "metadata": {},
   "source": [
    "### Duplicate Prolific ID's"
   ]
  },
  {
   "cell_type": "code",
   "execution_count": null,
   "metadata": {},
   "outputs": [],
   "source": [
    "data_trial.loc[data_trial['run_id']==2002, 'prolificID'] = 'Tim2'\n",
    "\n",
    "duplicates = data_trial.loc[:, ['prolificID', 'trial_index']].duplicated()\n",
    "duplicateSubjects = data_trial.loc[duplicates, ['run_id', 'prolificID', 'trial_index']]\n",
    "\n",
    "if len(duplicateSubjects) > 0:\n",
    "    print('! Attention: Duplicate subjects: Check out the following: \\n')\n",
    "    print(duplicateSubjects)\n",
    "else:\n",
    "    print('Success: No duplicate subjects found')"
   ]
  },
  {
   "cell_type": "markdown",
   "metadata": {},
   "source": [
    "### Numerics"
   ]
  },
  {
   "cell_type": "code",
   "execution_count": null,
   "metadata": {},
   "outputs": [],
   "source": [
    "data_trial = convertToNumeric(data_trial, \n",
    "    [\n",
    "        'run_id', 'subject', 'chinFirst', 'chin', 'task_nr', 'trial_index', # Int\n",
    "        'key_press', \n",
    "        'x_pos', 'y_pos', 'time_elapsed', 'trial_duration',\n",
    "        'rt',\n",
    "        'window_width', 'window_height'\n",
    "    ]\n",
    ")"
   ]
  },
  {
   "cell_type": "markdown",
   "metadata": {},
   "source": [
    "# data_et"
   ]
  },
  {
   "cell_type": "markdown",
   "metadata": {},
   "source": [
    "## Compile"
   ]
  },
  {
   "cell_type": "code",
   "execution_count": null,
   "metadata": {},
   "outputs": [],
   "source": [
    "def reformatYang(text):\n",
    "    text = text.replace('$', ',')\n",
    "    text = text.replace(\"relative-x\", \"x\")\n",
    "    text = text.replace(\"relative-y\", 'y')\n",
    "    text = text.replace('elapse-time', 't')\n",
    "    text = (text[11:len(text)-1])\n",
    "    return(text)\n",
    "\n",
    "for subject in data_yang['run_id'].unique():\n",
    "    for i in data_raw.loc[\n",
    "        (data_raw['run_id']==subject) & \n",
    "        (pd.notna(data_raw['et_data'])) &\n",
    "        ~(data_raw['et_data'].isin(['\"', 'nan'])), \n",
    "        :].index:\n",
    "        print('Reformat index: ' + str(i))\n",
    "        data_raw.loc[i, 'et_data'] = reformatYang(data_raw.loc[i, 'et_data'])"
   ]
  },
  {
   "cell_type": "code",
   "execution_count": null,
   "metadata": {},
   "outputs": [],
   "source": [
    "def textToDataframe(text):\n",
    "    text = text.replace('$', ',')\n",
    "    dataframe = pd.read_json(text, orient='records')\n",
    "    return(dataframe)\n",
    "\n",
    "def extractEyetrackingData(data):\n",
    "    data_eyetracking = pd.DataFrame(columns=['x', 'y', 't'])\n",
    "    data[\"et_data\"] = data['et_data'].apply(str)\n",
    "\n",
    "    for i in data.loc[\n",
    "        (pd.notna(data['et_data'])) & \n",
    "        ~(data['et_data'].isin(['\"', '[]', 'nan'])), \n",
    "        :].index:\n",
    "        \n",
    "        print('Start decoding Index ' + str(i))\n",
    "        df = textToDataframe(data.loc[i, 'et_data'])        \n",
    "\n",
    "        df[\"t_task\"] = (df.loc[:, \"t\"] - df.loc[0, \"t\"])\n",
    "        df['run_id'] = data.loc[i, 'run_id']\n",
    "        df['trial_index'] = data.loc[i, 'trial_index']\n",
    "\n",
    "        data_eyetracking = data_eyetracking.append(pd.DataFrame(data=df), ignore_index=True)\n",
    "        print('Index ' + str(i) + ' extracted')\n",
    "    return(data_eyetracking)\n",
    "\n",
    "data_et = extractEyetrackingData(data_raw.loc[data_raw['run_id'].isin(data_trial['run_id'].unique()), :])"
   ]
  },
  {
   "cell_type": "code",
   "execution_count": null,
   "metadata": {},
   "outputs": [],
   "source": [
    "data_et = convertToNumeric(data_et, ['x', 'y', 't', 't_task'])"
   ]
  },
  {
   "cell_type": "code",
   "execution_count": null,
   "metadata": {},
   "outputs": [],
   "source": [
    "data_et.groupby(['run_id', 'trial_index'])['x', 'y'].count()"
   ]
  },
  {
   "cell_type": "markdown",
   "metadata": {},
   "source": [
    "# data_subject"
   ]
  },
  {
   "cell_type": "code",
   "execution_count": null,
   "metadata": {},
   "outputs": [],
   "source": [
    "df1 = data_raw.loc[\n",
    "    :, \n",
    "    [\n",
    "        'run_id',\n",
    "        'age', 'browliner', 'browser', 'browser_version', 'degree', 'device',\n",
    "        'ethnic', 'eyeliner', 'eyeshadow', 'gender', 'glasses', 'keptHead',\n",
    "        'masquara', 'optionalNote', 'platform', 'platform_version', 'sight',\n",
    "        'triedChin', 'user_agent', 'vertPosition', 'webcam_fps',\n",
    "        'webcam_height', 'webcam_label', 'webcam_width'\n",
    "    ]\n",
    "].drop_duplicates()\n",
    "    \n",
    "df2 = data_trial.loc[\n",
    "    : ,\n",
    "    [\n",
    "        'chinFirst', 'choiceTask_amountLeftFirst', 'chosenAmount',\n",
    "        'chosenDelay', 'run_id', 'prolificID'\n",
    "    ]\n",
    "].drop_duplicates()\n",
    "    \n",
    "data_subject = df1.merge(df2, on='run_id', how='left') \\\n",
    "    .rename(columns={'age': 'birthyear'})"
   ]
  },
  {
   "cell_type": "markdown",
   "metadata": {},
   "source": [
    "## Add prolific data"
   ]
  },
  {
   "cell_type": "code",
   "execution_count": null,
   "metadata": {
    "scrolled": true
   },
   "outputs": [],
   "source": [
    "data_prolific = pd.read_csv(r'C:/Users/User/Google Drive/Masterarbeit/Acquise/prolific_documents/prolific_export.csv') \\\n",
    "    .rename(columns={'participant_id': 'prolificID'})\n",
    "\n",
    "data_subject = data_subject.merge(data_prolific, on='prolificID', how='left')"
   ]
  },
  {
   "cell_type": "code",
   "execution_count": null,
   "metadata": {},
   "outputs": [],
   "source": [
    "data_subject['status'] = data_subject['status'].fillna('NOTPROLIFIC')"
   ]
  },
  {
   "cell_type": "code",
   "execution_count": null,
   "metadata": {},
   "outputs": [],
   "source": [
    "data_subject.loc[:, ['run_id', 'prolificID']]"
   ]
  },
  {
   "cell_type": "markdown",
   "metadata": {},
   "source": [
    "# Export data"
   ]
  },
  {
   "cell_type": "code",
   "execution_count": null,
   "metadata": {},
   "outputs": [],
   "source": [
    "if not os.path.exists('./data_jupyter'):\n",
    "    os.mkdir('./data_jupyter')\n",
    "\n",
    "# data_et.to_csv(\"data_jupyter/data_et.csv\", index=False, header=True)\n",
    "data_trial.to_csv(\"data_jupyter/data_trial.csv\", index=False, header=True)\n",
    "# data_subject.to_csv(\"data_jupyter/data_subject.csv\", index=False, header=True)"
   ]
  },
  {
   "cell_type": "markdown",
   "metadata": {},
   "source": [
    "# Feedback"
   ]
  },
  {
   "cell_type": "code",
   "execution_count": null,
   "metadata": {
    "scrolled": false
   },
   "outputs": [],
   "source": [
    "print('Success! Script ran through')"
   ]
  }
 ],
 "metadata": {
  "kernelspec": {
   "display_name": "Python 3",
   "language": "python",
   "name": "python3"
  },
  "language_info": {
   "codemirror_mode": {
    "name": "ipython",
    "version": 3
   },
   "file_extension": ".py",
   "mimetype": "text/x-python",
   "name": "python",
   "nbconvert_exporter": "python",
   "pygments_lexer": "ipython3",
   "version": "3.8.5"
  },
  "toc": {
   "base_numbering": 1,
   "nav_menu": {},
   "number_sections": true,
   "sideBar": true,
   "skip_h1_title": false,
   "title_cell": "Table of Contents",
   "title_sidebar": "Contents",
   "toc_cell": false,
   "toc_position": {
    "height": "calc(100% - 180px)",
    "left": "10px",
    "top": "150px",
    "width": "230.4px"
   },
   "toc_section_display": true,
   "toc_window_display": true
  }
 },
 "nbformat": 4,
 "nbformat_minor": 4
}
