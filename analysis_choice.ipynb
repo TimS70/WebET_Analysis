{
 "cells": [
  {
   "cell_type": "code",
   "execution_count": 2,
   "metadata": {},
   "outputs": [
    {
     "name": "stdout",
     "output_type": "stream",
     "text": [
      "Current Working directory  C:\\Users\\User\\GitHub\\WebET_Analysis\n"
     ]
    }
   ],
   "source": [
    "import numpy as np\n",
    "import math\n",
    "import matplotlib.pyplot as plt\n",
    "import os\n",
    "import pandas as pd\n",
    "import pingouin as pg\n",
    "import seaborn as sns\n",
    "import scipy\n",
    "from sklearn.cluster import KMeans\n",
    "from sklearn.linear_model import LogisticRegression\n",
    "from sklearn.metrics import classification_report, confusion_matrix\n",
    "from sklearn.metrics import silhouette_score\n",
    "from sklearn.preprocessing import StandardScaler\n",
    "import statsmodels.api as sm \n",
    "import statsmodels.formula.api as smf\n",
    "import statsmodels.graphics.api as smg\n",
    "import sys\n",
    "\n",
    "if sys.version_info[0] < 3: \n",
    "    from StringIO import StringIO\n",
    "else:\n",
    "    from io import StringIO\n",
    "    \n",
    "from IPython.display import HTML\n",
    "def View(df):\n",
    "    css = \"\"\"<style>\n",
    "    table { border-collapse: collapse; border: 3px solid #eee; }\n",
    "    table tr th:first-child { background-color: #eeeeee; color: #333; font-weight: bold }\n",
    "    table thead th { background-color: #eee; color: #000; }\n",
    "    tr, th, td { border: 1px solid #ccc; border-width: 1px 0 0 1px; border-collapse: collapse;\n",
    "    padding: 3px; font-family: monospace; font-size: 10px }</style>\n",
    "    \"\"\"\n",
    "    s  = '<script type=\"text/Javascript\">'\n",
    "    s += 'var win = window.open(\"\", \"Title\", \"toolbar=no, location=no, directories=no, status=no, menubar=no, scrollbars=yes, resizable=yes, width=780, height=200, top=\"+(screen.height-400)+\", left=\"+(screen.width-840));'\n",
    "    s += 'win.document.body.innerHTML = \\'' + (df.to_html() + css).replace(\"\\n\",'\\\\') + '\\';'\n",
    "    s += '</script>'\n",
    "    return(HTML(s+css))    \n",
    "    \n",
    "print(\"Current Working directory \" , os.getcwd())"
   ]
  },
  {
   "cell_type": "markdown",
   "metadata": {},
   "source": [
    "# Read data"
   ]
  },
  {
   "cell_type": "code",
   "execution_count": 3,
   "metadata": {},
   "outputs": [
    {
     "name": "stderr",
     "output_type": "stream",
     "text": [
      "C:\\Users\\User\\Anaconda3\\lib\\site-packages\\IPython\\core\\interactiveshell.py:3063: DtypeWarning: Columns (38,40,50,56,57,58) have mixed types.Specify dtype option on import or set low_memory=False.\n",
      "  interactivity=interactivity, compiler=compiler, result=result)\n"
     ]
    },
    {
     "name": "stdout",
     "output_type": "stream",
     "text": [
      "              length\n",
      "data_et       520318\n",
      "data_trial     25576\n",
      "data_subject      51\n"
     ]
    }
   ],
   "source": [
    "data_et = pd.read_csv(\n",
    "    r'C:/Users/User/GitHub/WebET_Analysis/data_jupyter/data_et.csv')\n",
    "data_trial = pd.read_csv(\n",
    "    r'C:/Users/User/GitHub/WebET_Analysis/data_jupyter/data_trial.csv')\n",
    "data_subject = pd.read_csv(\n",
    "    r'C:/Users/User/GitHub/WebET_Analysis/data_jupyter/data_subject.csv')\n",
    "\n",
    "overview = pd.DataFrame([[len(data_et)], [len(data_trial)], [len(data_subject)]], \n",
    "                        columns=['length'],\n",
    "                        index=['data_et', 'data_trial', 'data_subject'])\n",
    "print(overview)"
   ]
  },
  {
   "cell_type": "markdown",
   "metadata": {},
   "source": [
    "# Clean"
   ]
  },
  {
   "cell_type": "markdown",
   "metadata": {},
   "source": [
    "## Trial"
   ]
  },
  {
   "cell_type": "code",
   "execution_count": 4,
   "metadata": {},
   "outputs": [],
   "source": [
    "data_trial = data_trial.loc[\n",
    "    data_trial[\"trial_type\"] == \"eyetracking-choice\", \n",
    "    [\n",
    "        'run_id', 'chinFirst',\n",
    "        'trial_duration_exact',\n",
    "        'window_width', 'window_height', \n",
    "        'window_width_max', 'window_height_max',\n",
    "        'window_diagonal_max', 'window_diagonal', \n",
    "        \n",
    "        'trial_index',  'withinTaskIndex',\n",
    "        'task_nr',\n",
    "        'time_elapsed',\n",
    "\n",
    "        'choiceTask_amountLeftFirst', \n",
    "        'key_press', \n",
    "        'option_topLeft', 'option_bottomLeft',\n",
    "        'option_topRight', 'option_bottomRight', \n",
    "        'x_mean', 'y_mean', \n",
    "        'count', 'fps'        \n",
    "    ]\n",
    "]"
   ]
  },
  {
   "cell_type": "markdown",
   "metadata": {},
   "source": [
    "## Add variables"
   ]
  },
  {
   "cell_type": "markdown",
   "metadata": {},
   "source": [
    "### Eye-Tracking indices"
   ]
  },
  {
   "cell_type": "code",
   "execution_count": 17,
   "metadata": {},
   "outputs": [
    {
     "data": {
      "text/plain": [
       "Index(['run_id', 'subject', 'chinFirst', 'choiceTask_amountLeftFirst', 'rt',\n",
       "       'stimulus', 'window_width', 'window_height', 'trial_type',\n",
       "       'trial_index', 'time_elapsed', 'webcam_label', 'webcam_fps',\n",
       "       'webcam_height', 'webcam_width', 'key_press', 'success', 'x_pos',\n",
       "       'y_pos', 'chin', 'task_nr', 'trial_duration', 'option_topLeft',\n",
       "       'option_bottomLeft', 'option_topRight', 'option_bottomRight',\n",
       "       'recorded_at', 'user_agent', 'device', 'browser', 'browser_version',\n",
       "       'platform', 'platform_version', 'chosenAmount', 'chosenDelay',\n",
       "       'prolificID', 'age', 'gender', 'ethnic', 'sight', 'glasses', 'degree',\n",
       "       'eyeshadow', 'masquara', 'eyeliner', 'browliner', 'vertPosition',\n",
       "       'triedChin', 'keptHead', 'optionalNote', 'window_width_max',\n",
       "       'window_height_max', 'window_diagonal_max', 'window_diagonal', 'x_mean',\n",
       "       'y_mean', 'count', 'offset', 'precision', 'withinTaskIndex',\n",
       "       't_startTrial', 'trial_duration_exact', 'fps', 'amountLeft', 'aSS',\n",
       "       'aLL', 'tSS', 'tLL', 'choseTop', 'LL_top', 'choseLL'],\n",
       "      dtype='object')"
      ]
     },
     "execution_count": 17,
     "metadata": {},
     "output_type": "execute_result"
    }
   ],
   "source": []
  },
  {
   "cell_type": "code",
   "execution_count": 21,
   "metadata": {},
   "outputs": [
    {
     "data": {
      "text/plain": [
       "array([  1, 103,  11,  12, 125, 126, 128,  13, 130, 131,  19,  24,  25,\n",
       "        28,  30,  32,  36,  37,  38,   4,  41,  42,  43,  45,  47,  48,\n",
       "         5,  56,  58,  59,   6,  61,  63,  66,  67,   7,  70,  74,  75,\n",
       "        80,  81,  85,   9,  90,  91,  92,  93,  94,  96,  97,  98],\n",
       "      dtype=int64)"
      ]
     },
     "execution_count": 21,
     "metadata": {},
     "output_type": "execute_result"
    }
   ],
   "source": [
    "test.loc[pd.isna(test['option_topLeft']), 'run_id'].unique()"
   ]
  },
  {
   "cell_type": "markdown",
   "metadata": {},
   "source": [
    "## ET"
   ]
  },
  {
   "cell_type": "code",
   "execution_count": null,
   "metadata": {},
   "outputs": [],
   "source": []
  },
  {
   "cell_type": "code",
   "execution_count": null,
   "metadata": {},
   "outputs": [],
   "source": []
  },
  {
   "cell_type": "code",
   "execution_count": 6,
   "metadata": {},
   "outputs": [],
   "source": [
    "data_et = data_et.loc[(data_et[\"trial_type\"]==\"eyetracking-choice\"), :] \\\n",
    "    .reset_index(drop=True)"
   ]
  },
  {
   "cell_type": "code",
   "execution_count": 7,
   "metadata": {},
   "outputs": [],
   "source": [
    "def lookDirections(data):\n",
    "    data[\"look_left\"] = (data[\"x\"] < 0.5).astype(int)\n",
    "    data[\"look_top\"] = (data[\"y\"] < 0.5).astype(int)\n",
    "    return data\n",
    "\n",
    "data_et = lookDirections(data_et)"
   ]
  },
  {
   "cell_type": "markdown",
   "metadata": {},
   "source": [
    "# H3"
   ]
  },
  {
   "cell_type": "code",
   "execution_count": null,
   "metadata": {},
   "outputs": [],
   "source": [
    "scaler = StandardScaler()\n",
    "scaled_features = scaler.fit_transform(data_trial_choice.loc[:, [\n",
    "                                                                  'trans_type_0',\n",
    "                                                                  'trans_type_1',\n",
    "                                                                  'trans_type_2',\n",
    "                                                                  'trans_type_3',\n",
    "                                                                  'trans_type_4',\n",
    "                                                                  'trans_type_6',\n",
    "                                                                  'trans_type_7',\n",
    "                                                                 ]\n",
    "                                                             ]\n",
    "                                      )"
   ]
  },
  {
   "cell_type": "code",
   "execution_count": null,
   "metadata": {},
   "outputs": [],
   "source": [
    "def clusters(n_clusters):\n",
    "    kmeans = KMeans(\n",
    "        init=\"random\",\n",
    "        n_clusters=n_clusters,\n",
    "        n_init=10,\n",
    "        max_iter=300,\n",
    "        random_state=42\n",
    "    )\n",
    "    kmeans.fit(scaled_features)\n",
    "            \n",
    "#     https://realpython.com/k-means-clustering-python/\n",
    "#     print(kmeans.inertia_)\n",
    "#     print(kmeans.cluster_centers_)\n",
    "#     print(kmeans.n_iter_)\n",
    "\n",
    "    return kmeans.labels_"
   ]
  },
  {
   "cell_type": "code",
   "execution_count": null,
   "metadata": {},
   "outputs": [],
   "source": [
    "output = []\n",
    "for n_cluster in range(2, 5):\n",
    "    data_trial_choice['cluster' + str(n_cluster)] = clusters(n_cluster)\n",
    "    X = data_trial_choice[[\"run_id\", \"choiceNr\", 'cluster' + str(n_cluster)]]\n",
    "    X_ = sm.add_constant(X)\n",
    "    y = 1-data_trial_choice[[\"choseLL\"]]  \n",
    "    log_reg = sm.Logit(y, X_).fit() \n",
    "    output.append([n_cluster, log_reg.bic, log_reg.aic]) \n",
    "\n",
    "output = pd.DataFrame(output, columns = ['n_clusters', 'BIC', 'AIC']) \\\n",
    "    .set_index('n_clusters')\n",
    "output"
   ]
  },
  {
   "cell_type": "code",
   "execution_count": null,
   "metadata": {},
   "outputs": [],
   "source": []
  },
  {
   "cell_type": "code",
   "execution_count": null,
   "metadata": {},
   "outputs": [],
   "source": []
  },
  {
   "cell_type": "code",
   "execution_count": null,
   "metadata": {},
   "outputs": [],
   "source": [
    "# Correlation columns\n",
    "\n",
    "                            'trial_duration_exact',\n",
    "                            'fps',\n",
    "                            'k', \n",
    "                            'choiceNr',\n",
    "                            'optionIndex',\n",
    "                            'attributeIndex', \n",
    "                            'payneIndex',"
   ]
  },
  {
   "cell_type": "code",
   "execution_count": null,
   "metadata": {},
   "outputs": [],
   "source": [
    "def t_test(data, predictor, outcome):\n",
    "    sample_A = data.loc[\n",
    "                          data[predictor] == 0,\n",
    "                          outcome\n",
    "                       ] \\\n",
    "        .reset_index(drop=True)\n",
    "    sample_B = data.loc[\n",
    "                          data[predictor] == 1,\n",
    "                          outcome\n",
    "                       ] \\\n",
    "        .reset_index(drop=True)\n",
    "    t_test = sm.stats.ttest_ind(sample_A, sample_B)\n",
    "    return t_test"
   ]
  },
  {
   "cell_type": "code",
   "execution_count": null,
   "metadata": {},
   "outputs": [],
   "source": [
    "def t_test_for_criterion(criterion): \n",
    "    binaryPredictor = [\n",
    "                    'chinFirst',\n",
    "                    'eyeshadow', \n",
    "                    'masquara',\n",
    "                    'eyeliner',\n",
    "                    'browliner',\n",
    "                    'triedChin', \n",
    "                    'keptHead',\n",
    "                   ]\n",
    "\n",
    "    output = []\n",
    "    for i in range(0, len(binaryPredictor)):\n",
    "        output.append(\n",
    "            [\n",
    "                t_test(data_trial_fixation, binaryPredictor[i], criterion)[0],\n",
    "                t_test(data_trial_fixation, binaryPredictor[i], criterion)[1],\n",
    "                t_test(data_trial_fixation, binaryPredictor[i], criterion)[2]\n",
    "            ]\n",
    "\n",
    "        )\n",
    "    output = pd.DataFrame(output, columns=['p_left', 'p_right', 'N']) # For unequal variances: equal_var = False\n",
    "    return output\n",
    "\n",
    "t_test_for_criterion('fps')\n",
    "t_test_for_criterion('offset_perc')\n",
    "t_test_for_criterion('precision_perc')"
   ]
  },
  {
   "cell_type": "code",
   "execution_count": null,
   "metadata": {},
   "outputs": [],
   "source": [
    "sns.pairplot(data_trial_fixation.loc[:, \n",
    "                              [\n",
    "                                  'fixation_nr', 'positionIndex',\n",
    "                                  'trial_duration_exact',\n",
    "                                  'fps', \n",
    "                                  'run_id'\n",
    "                              ]\n",
    "                          ], \n",
    "             hue='run_id')"
   ]
  },
  {
   "cell_type": "code",
   "execution_count": null,
   "metadata": {},
   "outputs": [],
   "source": [
    "sns.pairplot(data_trial_fixation.loc[:, \n",
    "                              [\n",
    "                                  'age', \n",
    "                                  'fixation_nr', 'positionIndex',\n",
    "                                  'trial_duration_exact',\n",
    "                                  'fps',\n",
    "                                  'chin'\n",
    "                              ]\n",
    "                          ], \n",
    "             hue='chin')"
   ]
  },
  {
   "cell_type": "code",
   "execution_count": null,
   "metadata": {},
   "outputs": [],
   "source": [
    "df_correlation = data_trial_fixation.loc[:, [\n",
    "    'task_nr', 'chinFirst',  'positionIndex', 'fixation_nr',\n",
    "    'age', \n",
    "    'chin', \n",
    "    'fps', 'offset_perc', 'precision_perc'\n",
    "       ]]\n",
    "df_correlation.dtypes"
   ]
  },
  {
   "cell_type": "code",
   "execution_count": null,
   "metadata": {},
   "outputs": [],
   "source": [
    "corr_matrix = np.corrcoef(df_correlation.T)\n",
    "smg.plot_corr(corr_matrix, xnames=df_correlation.columns)\n",
    "plt.show()\n",
    "df_correlation.rcorr()\n",
    "df_correlation.rcorr(upper='n')"
   ]
  }
 ],
 "metadata": {
  "kernelspec": {
   "display_name": "Python 3",
   "language": "python",
   "name": "python3"
  },
  "language_info": {
   "codemirror_mode": {
    "name": "ipython",
    "version": 3
   },
   "file_extension": ".py",
   "mimetype": "text/x-python",
   "name": "python",
   "nbconvert_exporter": "python",
   "pygments_lexer": "ipython3",
   "version": "3.7.7"
  },
  "toc": {
   "base_numbering": 1,
   "nav_menu": {},
   "number_sections": true,
   "sideBar": true,
   "skip_h1_title": false,
   "title_cell": "Table of Contents",
   "title_sidebar": "Contents",
   "toc_cell": false,
   "toc_position": {},
   "toc_section_display": true,
   "toc_window_display": true
  }
 },
 "nbformat": 4,
 "nbformat_minor": 4
}
