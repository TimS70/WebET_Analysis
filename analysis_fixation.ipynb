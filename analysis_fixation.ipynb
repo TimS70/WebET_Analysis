{
 "cells": [
  {
   "cell_type": "code",
   "execution_count": 1,
   "metadata": {},
   "outputs": [],
   "source": [
    "# import sys\n",
    "# !conda install --yes --prefix {sys.prefix} pingouin"
   ]
  },
  {
   "cell_type": "code",
   "execution_count": 2,
   "metadata": {},
   "outputs": [
    {
     "name": "stdout",
     "output_type": "stream",
     "text": [
      "Current Working directory  C:\\Users\\User\\GitHub\\WebET_Analysis\n"
     ]
    }
   ],
   "source": [
    "import numpy as np\n",
    "import math\n",
    "import matplotlib.pyplot as plt\n",
    "import os\n",
    "import pandas as pd\n",
    "import pingouin as pg\n",
    "import seaborn as sns\n",
    "import scipy\n",
    "from sklearn.cluster import KMeans\n",
    "from sklearn.linear_model import LogisticRegression\n",
    "from sklearn.metrics import classification_report, confusion_matrix\n",
    "from sklearn.metrics import silhouette_score\n",
    "from sklearn.preprocessing import StandardScaler\n",
    "import statsmodels.api as sm \n",
    "import statsmodels.formula.api as smf\n",
    "import statsmodels.graphics.api as smg\n",
    "import sys\n",
    "\n",
    "if sys.version_info[0] < 3: \n",
    "    from StringIO import StringIO\n",
    "else:\n",
    "    from io import StringIO\n",
    "    \n",
    "from IPython.display import HTML\n",
    "def View(df):\n",
    "    css = \"\"\"<style>\n",
    "    table { border-collapse: collapse; border: 3px solid #eee; }\n",
    "    table tr th:first-child { background-color: #eeeeee; color: #333; font-weight: bold }\n",
    "    table thead th { background-color: #eee; color: #000; }\n",
    "    tr, th, td { border: 1px solid #ccc; border-width: 1px 0 0 1px; border-collapse: collapse;\n",
    "    padding: 3px; font-family: monospace; font-size: 10px }</style>\n",
    "    \"\"\"\n",
    "    s  = '<script type=\"text/Javascript\">'\n",
    "    s += 'var win = window.open(\"\", \"Title\", \"toolbar=no, location=no, directories=no, status=no, menubar=no, scrollbars=yes, resizable=yes, width=780, height=200, top=\"+(screen.height-400)+\", left=\"+(screen.width-840));'\n",
    "    s += 'win.document.body.innerHTML = \\'' + (df.to_html() + css).replace(\"\\n\",'\\\\') + '\\';'\n",
    "    s += '</script>'\n",
    "    return(HTML(s+css))    \n",
    "    \n",
    "print(\"Current Working directory \" , os.getcwd())"
   ]
  },
  {
   "cell_type": "code",
   "execution_count": 3,
   "metadata": {},
   "outputs": [],
   "source": [
    "# from IPython.display import HTML\n",
    "\n",
    "# HTML('''<script>\n",
    "# code_show=true; \n",
    "# function code_toggle() {\n",
    "#  if (code_show){\n",
    "#  $('div.input').hide();\n",
    "#  } else {\n",
    "#  $('div.input').show();\n",
    "#  }\n",
    "#  code_show = !code_show\n",
    "# } \n",
    "# $( document ).ready(code_toggle);\n",
    "# </script>\n",
    "# <form action=\"javascript:code_toggle()\"><input type=\"submit\" value=\"Click here to toggle on/off the raw code.\"></form>''')"
   ]
  },
  {
   "cell_type": "markdown",
   "metadata": {},
   "source": [
    "# Read data"
   ]
  },
  {
   "cell_type": "code",
   "execution_count": 4,
   "metadata": {
    "scrolled": true
   },
   "outputs": [
    {
     "name": "stdout",
     "output_type": "stream",
     "text": [
      "                   length\n",
      "data_et_fixCal     389064\n",
      "data_trial_fixCal    9556\n",
      "data_subject           51\n"
     ]
    }
   ],
   "source": [
    "data_et_fixCal = pd.read_csv(r'C:/Users/User/GitHub/WebET_Analysis/data_jupyter/data_et_fixCal.csv')\n",
    "data_trial_fixCal = pd.read_csv(r'C:/Users/User/GitHub/WebET_Analysis/data_jupyter/data_trial_fixCal.csv')\n",
    "data_subject = pd.read_csv(r'C:/Users/User/GitHub/WebET_Analysis/data_jupyter/data_subject.csv')\n",
    "\n",
    "overview = pd.DataFrame(\n",
    "    [\n",
    "        [len(data_et_fixCal)],\n",
    "        [len(data_trial_fixCal)],\n",
    "        [len(data_subject)]\n",
    "    ], \n",
    "    columns=['length'],\n",
    "    index=[\n",
    "        'data_et_fixCal', \n",
    "        'data_trial_fixCal', \n",
    "        'data_subject'\n",
    "          ]\n",
    ")\n",
    "print(overview)"
   ]
  },
  {
   "cell_type": "markdown",
   "metadata": {},
   "source": [
    "# Clean"
   ]
  },
  {
   "cell_type": "code",
   "execution_count": 5,
   "metadata": {},
   "outputs": [
    {
     "name": "stdout",
     "output_type": "stream",
     "text": [
      "These subjects do not have enough trials: \n",
      "    run_id  trial_index\n",
      "27      61        271.0\n"
     ]
    }
   ],
   "source": [
    "NTrials = data_trial_fixCal.groupby(['run_id'])['trial_index'].max() \\\n",
    "    .reset_index()\n",
    "subjects_not_enough_trials = NTrials.loc[NTrials['trial_index']<400, 'run_id']\n",
    "print('These subjects do not have enough trials: \\n' + \n",
    "      str(NTrials.loc[NTrials['trial_index']<400, :])\n",
    "     )"
   ]
  },
  {
   "cell_type": "code",
   "execution_count": 6,
   "metadata": {},
   "outputs": [
    {
     "ename": "KeyError",
     "evalue": "'fps'",
     "output_type": "error",
     "traceback": [
      "\u001b[1;31m---------------------------------------------------------------------------\u001b[0m",
      "\u001b[1;31mKeyError\u001b[0m                                  Traceback (most recent call last)",
      "\u001b[1;32m~\\Anaconda3\\lib\\site-packages\\pandas\\core\\indexes\\base.py\u001b[0m in \u001b[0;36mget_loc\u001b[1;34m(self, key, method, tolerance)\u001b[0m\n\u001b[0;32m   2645\u001b[0m             \u001b[1;32mtry\u001b[0m\u001b[1;33m:\u001b[0m\u001b[1;33m\u001b[0m\u001b[1;33m\u001b[0m\u001b[0m\n\u001b[1;32m-> 2646\u001b[1;33m                 \u001b[1;32mreturn\u001b[0m \u001b[0mself\u001b[0m\u001b[1;33m.\u001b[0m\u001b[0m_engine\u001b[0m\u001b[1;33m.\u001b[0m\u001b[0mget_loc\u001b[0m\u001b[1;33m(\u001b[0m\u001b[0mkey\u001b[0m\u001b[1;33m)\u001b[0m\u001b[1;33m\u001b[0m\u001b[1;33m\u001b[0m\u001b[0m\n\u001b[0m\u001b[0;32m   2647\u001b[0m             \u001b[1;32mexcept\u001b[0m \u001b[0mKeyError\u001b[0m\u001b[1;33m:\u001b[0m\u001b[1;33m\u001b[0m\u001b[1;33m\u001b[0m\u001b[0m\n",
      "\u001b[1;32mpandas\\_libs\\index.pyx\u001b[0m in \u001b[0;36mpandas._libs.index.IndexEngine.get_loc\u001b[1;34m()\u001b[0m\n",
      "\u001b[1;32mpandas\\_libs\\index.pyx\u001b[0m in \u001b[0;36mpandas._libs.index.IndexEngine.get_loc\u001b[1;34m()\u001b[0m\n",
      "\u001b[1;32mpandas\\_libs\\hashtable_class_helper.pxi\u001b[0m in \u001b[0;36mpandas._libs.hashtable.PyObjectHashTable.get_item\u001b[1;34m()\u001b[0m\n",
      "\u001b[1;32mpandas\\_libs\\hashtable_class_helper.pxi\u001b[0m in \u001b[0;36mpandas._libs.hashtable.PyObjectHashTable.get_item\u001b[1;34m()\u001b[0m\n",
      "\u001b[1;31mKeyError\u001b[0m: 'fps'",
      "\nDuring handling of the above exception, another exception occurred:\n",
      "\u001b[1;31mKeyError\u001b[0m                                  Traceback (most recent call last)",
      "\u001b[1;32m<ipython-input-6-a2674ee6bd3d>\u001b[0m in \u001b[0;36m<module>\u001b[1;34m\u001b[0m\n\u001b[0;32m      3\u001b[0m         \u001b[1;33m(\u001b[0m\u001b[0mdata_subject\u001b[0m\u001b[1;33m[\u001b[0m\u001b[1;34m'keptHead'\u001b[0m\u001b[1;33m]\u001b[0m\u001b[1;33m!=\u001b[0m\u001b[1;36m0\u001b[0m\u001b[1;33m)\u001b[0m \u001b[1;33m&\u001b[0m\u001b[1;33m\u001b[0m\u001b[1;33m\u001b[0m\u001b[0m\n\u001b[0;32m      4\u001b[0m         \u001b[1;33m(\u001b[0m\u001b[0mdata_subject\u001b[0m\u001b[1;33m[\u001b[0m\u001b[1;34m'triedChin'\u001b[0m\u001b[1;33m]\u001b[0m\u001b[1;33m!=\u001b[0m\u001b[1;36m0\u001b[0m\u001b[1;33m)\u001b[0m \u001b[1;33m&\u001b[0m\u001b[1;33m\u001b[0m\u001b[1;33m\u001b[0m\u001b[0m\n\u001b[1;32m----> 5\u001b[1;33m         \u001b[0mpd\u001b[0m\u001b[1;33m.\u001b[0m\u001b[0mnotna\u001b[0m\u001b[1;33m(\u001b[0m\u001b[0mdata_subject\u001b[0m\u001b[1;33m[\u001b[0m\u001b[1;34m'fps'\u001b[0m\u001b[1;33m]\u001b[0m\u001b[1;33m)\u001b[0m \u001b[1;33m&\u001b[0m\u001b[1;33m\u001b[0m\u001b[1;33m\u001b[0m\u001b[0m\n\u001b[0m\u001b[0;32m      6\u001b[0m         \u001b[1;33m~\u001b[0m\u001b[1;33m(\u001b[0m\u001b[0mdata_subject\u001b[0m\u001b[1;33m[\u001b[0m\u001b[1;34m'run_id'\u001b[0m\u001b[1;33m]\u001b[0m\u001b[1;33m.\u001b[0m\u001b[0misin\u001b[0m\u001b[1;33m(\u001b[0m\u001b[0msubjects_not_enough_trials\u001b[0m\u001b[1;33m)\u001b[0m\u001b[1;33m)\u001b[0m\u001b[1;33m,\u001b[0m\u001b[1;33m\u001b[0m\u001b[1;33m\u001b[0m\u001b[0m\n\u001b[0;32m      7\u001b[0m         \u001b[1;34m'run_id'\u001b[0m\u001b[1;33m\u001b[0m\u001b[1;33m\u001b[0m\u001b[0m\n",
      "\u001b[1;32m~\\Anaconda3\\lib\\site-packages\\pandas\\core\\frame.py\u001b[0m in \u001b[0;36m__getitem__\u001b[1;34m(self, key)\u001b[0m\n\u001b[0;32m   2798\u001b[0m             \u001b[1;32mif\u001b[0m \u001b[0mself\u001b[0m\u001b[1;33m.\u001b[0m\u001b[0mcolumns\u001b[0m\u001b[1;33m.\u001b[0m\u001b[0mnlevels\u001b[0m \u001b[1;33m>\u001b[0m \u001b[1;36m1\u001b[0m\u001b[1;33m:\u001b[0m\u001b[1;33m\u001b[0m\u001b[1;33m\u001b[0m\u001b[0m\n\u001b[0;32m   2799\u001b[0m                 \u001b[1;32mreturn\u001b[0m \u001b[0mself\u001b[0m\u001b[1;33m.\u001b[0m\u001b[0m_getitem_multilevel\u001b[0m\u001b[1;33m(\u001b[0m\u001b[0mkey\u001b[0m\u001b[1;33m)\u001b[0m\u001b[1;33m\u001b[0m\u001b[1;33m\u001b[0m\u001b[0m\n\u001b[1;32m-> 2800\u001b[1;33m             \u001b[0mindexer\u001b[0m \u001b[1;33m=\u001b[0m \u001b[0mself\u001b[0m\u001b[1;33m.\u001b[0m\u001b[0mcolumns\u001b[0m\u001b[1;33m.\u001b[0m\u001b[0mget_loc\u001b[0m\u001b[1;33m(\u001b[0m\u001b[0mkey\u001b[0m\u001b[1;33m)\u001b[0m\u001b[1;33m\u001b[0m\u001b[1;33m\u001b[0m\u001b[0m\n\u001b[0m\u001b[0;32m   2801\u001b[0m             \u001b[1;32mif\u001b[0m \u001b[0mis_integer\u001b[0m\u001b[1;33m(\u001b[0m\u001b[0mindexer\u001b[0m\u001b[1;33m)\u001b[0m\u001b[1;33m:\u001b[0m\u001b[1;33m\u001b[0m\u001b[1;33m\u001b[0m\u001b[0m\n\u001b[0;32m   2802\u001b[0m                 \u001b[0mindexer\u001b[0m \u001b[1;33m=\u001b[0m \u001b[1;33m[\u001b[0m\u001b[0mindexer\u001b[0m\u001b[1;33m]\u001b[0m\u001b[1;33m\u001b[0m\u001b[1;33m\u001b[0m\u001b[0m\n",
      "\u001b[1;32m~\\Anaconda3\\lib\\site-packages\\pandas\\core\\indexes\\base.py\u001b[0m in \u001b[0;36mget_loc\u001b[1;34m(self, key, method, tolerance)\u001b[0m\n\u001b[0;32m   2646\u001b[0m                 \u001b[1;32mreturn\u001b[0m \u001b[0mself\u001b[0m\u001b[1;33m.\u001b[0m\u001b[0m_engine\u001b[0m\u001b[1;33m.\u001b[0m\u001b[0mget_loc\u001b[0m\u001b[1;33m(\u001b[0m\u001b[0mkey\u001b[0m\u001b[1;33m)\u001b[0m\u001b[1;33m\u001b[0m\u001b[1;33m\u001b[0m\u001b[0m\n\u001b[0;32m   2647\u001b[0m             \u001b[1;32mexcept\u001b[0m \u001b[0mKeyError\u001b[0m\u001b[1;33m:\u001b[0m\u001b[1;33m\u001b[0m\u001b[1;33m\u001b[0m\u001b[0m\n\u001b[1;32m-> 2648\u001b[1;33m                 \u001b[1;32mreturn\u001b[0m \u001b[0mself\u001b[0m\u001b[1;33m.\u001b[0m\u001b[0m_engine\u001b[0m\u001b[1;33m.\u001b[0m\u001b[0mget_loc\u001b[0m\u001b[1;33m(\u001b[0m\u001b[0mself\u001b[0m\u001b[1;33m.\u001b[0m\u001b[0m_maybe_cast_indexer\u001b[0m\u001b[1;33m(\u001b[0m\u001b[0mkey\u001b[0m\u001b[1;33m)\u001b[0m\u001b[1;33m)\u001b[0m\u001b[1;33m\u001b[0m\u001b[1;33m\u001b[0m\u001b[0m\n\u001b[0m\u001b[0;32m   2649\u001b[0m         \u001b[0mindexer\u001b[0m \u001b[1;33m=\u001b[0m \u001b[0mself\u001b[0m\u001b[1;33m.\u001b[0m\u001b[0mget_indexer\u001b[0m\u001b[1;33m(\u001b[0m\u001b[1;33m[\u001b[0m\u001b[0mkey\u001b[0m\u001b[1;33m]\u001b[0m\u001b[1;33m,\u001b[0m \u001b[0mmethod\u001b[0m\u001b[1;33m=\u001b[0m\u001b[0mmethod\u001b[0m\u001b[1;33m,\u001b[0m \u001b[0mtolerance\u001b[0m\u001b[1;33m=\u001b[0m\u001b[0mtolerance\u001b[0m\u001b[1;33m)\u001b[0m\u001b[1;33m\u001b[0m\u001b[1;33m\u001b[0m\u001b[0m\n\u001b[0;32m   2650\u001b[0m         \u001b[1;32mif\u001b[0m \u001b[0mindexer\u001b[0m\u001b[1;33m.\u001b[0m\u001b[0mndim\u001b[0m \u001b[1;33m>\u001b[0m \u001b[1;36m1\u001b[0m \u001b[1;32mor\u001b[0m \u001b[0mindexer\u001b[0m\u001b[1;33m.\u001b[0m\u001b[0msize\u001b[0m \u001b[1;33m>\u001b[0m \u001b[1;36m1\u001b[0m\u001b[1;33m:\u001b[0m\u001b[1;33m\u001b[0m\u001b[1;33m\u001b[0m\u001b[0m\n",
      "\u001b[1;32mpandas\\_libs\\index.pyx\u001b[0m in \u001b[0;36mpandas._libs.index.IndexEngine.get_loc\u001b[1;34m()\u001b[0m\n",
      "\u001b[1;32mpandas\\_libs\\index.pyx\u001b[0m in \u001b[0;36mpandas._libs.index.IndexEngine.get_loc\u001b[1;34m()\u001b[0m\n",
      "\u001b[1;32mpandas\\_libs\\hashtable_class_helper.pxi\u001b[0m in \u001b[0;36mpandas._libs.hashtable.PyObjectHashTable.get_item\u001b[1;34m()\u001b[0m\n",
      "\u001b[1;32mpandas\\_libs\\hashtable_class_helper.pxi\u001b[0m in \u001b[0;36mpandas._libs.hashtable.PyObjectHashTable.get_item\u001b[1;34m()\u001b[0m\n",
      "\u001b[1;31mKeyError\u001b[0m: 'fps'"
     ]
    }
   ],
   "source": [
    "cleanSubjects = data_subject.loc[\n",
    "        (data_subject['status']=='APPROVED') &\n",
    "        (data_subject['keptHead']!=0) &\n",
    "        (data_subject['triedChin']!=0) &\n",
    "        pd.notna(data_subject['fps']) &\n",
    "        ~(data_subject['run_id'].isin(subjects_not_enough_trials)), \n",
    "        'run_id'\n",
    "    ]\n",
    "cleanSubjects.unique()"
   ]
  },
  {
   "cell_type": "code",
   "execution_count": null,
   "metadata": {},
   "outputs": [],
   "source": [
    "print('data_trial_fixCal raw: ' + str(len(data_trial_fixCal)))\n",
    "data_trial_fixCal = data_trial_fixCal.loc[\n",
    "    data_trial_fixCal['run_id'].isin(cleanSubjects),\n",
    "    :\n",
    "]\n",
    "print('data_trial_fixCal cleaned: ' + str(len(data_trial_fixCal)))"
   ]
  },
  {
   "cell_type": "code",
   "execution_count": null,
   "metadata": {},
   "outputs": [],
   "source": [
    "print('data_et_fixCal raw: ' + str(len(data_et_fixCal)))\n",
    "data_et_fixCal = data_et_fixCal.loc[\n",
    "    (data_et_fixCal['x']>0) &\n",
    "    (data_et_fixCal['x']<1) &\n",
    "    (data_et_fixCal['y']>0) &\n",
    "    (data_et_fixCal['y']<1) &\n",
    "    (data_et_fixCal['t_task']>1000) &\n",
    "    (data_et_fixCal['run_id'].isin(cleanSubjects)), \n",
    "    :\n",
    "]\n",
    "print('data_et_fixCal cleaned: ' + str(len(data_et_fixCal)))"
   ]
  },
  {
   "cell_type": "code",
   "execution_count": null,
   "metadata": {},
   "outputs": [],
   "source": [
    "print('data_subject raw: ' + str(len(data_subject)))\n",
    "data_subject = data_subject.loc[data_subject['run_id'].isin(cleanSubjects), :]\n",
    "print('data_subject cleaned: ' + str(len(data_subject)))\n",
    "data_subject['webcam_fps'] = np.round(data_subject['webcam_fps'])"
   ]
  },
  {
   "cell_type": "markdown",
   "metadata": {},
   "source": [
    "# Add variables"
   ]
  },
  {
   "cell_type": "markdown",
   "metadata": {},
   "source": [
    "## Offset"
   ]
  },
  {
   "cell_type": "code",
   "execution_count": null,
   "metadata": {},
   "outputs": [],
   "source": [
    "def euclideanDistance(x, x_target, y, y_target):\n",
    "    x_diff = x - x_target\n",
    "    y_diff = y - y_target\n",
    "    euclideanDistance = np.sqrt(x_diff**2 + y_diff**2)\n",
    "    return(euclideanDistance)\n",
    "\n",
    "data_et_fixCal[\"offset\"] = euclideanDistance(\n",
    "    data_et_fixCal[\"x\"], data_et_fixCal['x_pos'],\n",
    "    data_et_fixCal[\"y\"], data_et_fixCal['y_pos'])"
   ]
  },
  {
   "cell_type": "code",
   "execution_count": null,
   "metadata": {
    "scrolled": false
   },
   "outputs": [],
   "source": [
    "def merge_mean_by_index(data, largeData, varName):\n",
    "    if (varName + '_mean' in data.columns):\n",
    "        print(varName + '_mean already added!')\n",
    "    else:\n",
    "        grouped = largeData.groupby(['run_id', 'trial_index'])[varName].mean() \\\n",
    "            .reset_index() \\\n",
    "            .rename(columns={varName: varName + '_mean'})\n",
    "        \n",
    "        data = data.merge(grouped, on=['run_id', 'trial_index'], how='left') \n",
    "    return data\n",
    "\n",
    "data_trial_fixCal = merge_mean_by_index(data_trial_fixCal, data_et_fixCal, 'offset')\n",
    "data_trial_fixCal['offset_mean'].describe()"
   ]
  },
  {
   "cell_type": "code",
   "execution_count": null,
   "metadata": {},
   "outputs": [],
   "source": [
    "data_subject = data_subject.merge(\n",
    "    data_trial_fixCal.groupby(['run_id'])['offset_mean'].mean() \\\n",
    "        .reset_index(),\n",
    "    on='run_id',\n",
    "    how='left'\n",
    ")\n",
    "data_subject['offset_mean'].describe()"
   ]
  },
  {
   "cell_type": "code",
   "execution_count": null,
   "metadata": {},
   "outputs": [],
   "source": [
    "grouped = data_trial_fixCal.groupby(['run_id', 'chin'])['offset_mean'].mean() \\\n",
    "    .reset_index()\n",
    "grouped = grouped.pivot(index='run_id', columns='chin', values='offset_mean') \\\n",
    "    .reset_index() \\\n",
    "    .rename(columns={0.0: 'offset_chin_0', 1.0: 'offset_chin_1'})\n",
    "\n",
    "data_subject = data_subject.merge(grouped, on='run_id', how='left')"
   ]
  },
  {
   "cell_type": "markdown",
   "metadata": {},
   "source": [
    "## Precision"
   ]
  },
  {
   "cell_type": "code",
   "execution_count": null,
   "metadata": {},
   "outputs": [],
   "source": [
    "data_et_fixCal = merge_mean_by_index(data_et_fixCal, data_et_fixCal, 'x')\n",
    "data_et_fixCal = merge_mean_by_index(data_et_fixCal, data_et_fixCal, 'y')"
   ]
  },
  {
   "cell_type": "code",
   "execution_count": null,
   "metadata": {
    "scrolled": true
   },
   "outputs": [],
   "source": [
    "def addPrecision(data):\n",
    "    if 'precision' in data.columns: \n",
    "        print('precision already added!')\n",
    "    else:\n",
    "        data['deviationFromAVG'] = euclideanDistance(\n",
    "                data['x'], data['x_mean'], data['y'], data['y_mean']\n",
    "            )\n",
    "        data['deviationFromAVG_square'] = np.power(data['deviationFromAVG'], 2)\n",
    "        grouped = data.groupby(['run_id', 'trial_index']).mean() \\\n",
    "            .reset_index()\n",
    "        grouped['precision'] = np.sqrt(grouped['deviationFromAVG_square'])\n",
    "        data = data.merge(\n",
    "                grouped.loc[:, ['run_id', 'trial_index', 'precision']], \n",
    "                on=['run_id', 'trial_index'],\n",
    "                how='left'\n",
    "            )\n",
    "                                \n",
    "    return data\n",
    "\n",
    "data_et_fixCal = addPrecision(data_et_fixCal)\n",
    "data_et_fixCal['precision'].describe()"
   ]
  },
  {
   "cell_type": "code",
   "execution_count": null,
   "metadata": {},
   "outputs": [],
   "source": [
    "data_trial_fixCal = merge_mean_by_index(data_trial_fixCal, data_et_fixCal, 'precision')"
   ]
  },
  {
   "cell_type": "code",
   "execution_count": null,
   "metadata": {},
   "outputs": [],
   "source": [
    "data_subject = data_subject.merge(\n",
    "    data_trial_fixCal.groupby(['run_id'])['precision_mean'].mean() \\\n",
    "        .reset_index(),\n",
    "    on='run_id',\n",
    "    how='left'\n",
    ")"
   ]
  },
  {
   "cell_type": "code",
   "execution_count": null,
   "metadata": {},
   "outputs": [],
   "source": [
    "grouped = data_trial_fixCal.groupby(['run_id', 'chin'])['precision_mean'].mean() \\\n",
    "    .reset_index()\n",
    "grouped = grouped.pivot(index='run_id', columns='chin', values='precision_mean') \\\n",
    "    .reset_index() \\\n",
    "    .rename(columns={0.0: 'precision_chin_0', 1.0: 'precision_chin_1'})\n",
    "\n",
    "data_subject = data_subject.merge(grouped, on='run_id', how='left')"
   ]
  },
  {
   "cell_type": "markdown",
   "metadata": {},
   "source": [
    "# datasets for fixation task"
   ]
  },
  {
   "cell_type": "code",
   "execution_count": null,
   "metadata": {
    "scrolled": true
   },
   "outputs": [],
   "source": [
    "data_trial_fix = data_trial_fixCal.loc[\n",
    "    (data_trial_fixCal['trial_type']=='eyetracking-fix-object') &\n",
    "    (data_trial_fixCal['trial_duration']==5000), \n",
    "    :\n",
    "]\n",
    "data_trial_fix.columns"
   ]
  },
  {
   "cell_type": "code",
   "execution_count": null,
   "metadata": {},
   "outputs": [],
   "source": [
    "temp = data_et_fixCal.merge(\n",
    "    data_trial_fixCal.loc[:, ['run_id', 'trial_index', 'trial_duration']],\n",
    "    on=['run_id', 'trial_index'],\n",
    "    how='left'\n",
    ")\n",
    "\n",
    "data_et_fix = temp.loc[\n",
    "    (temp['trial_type']=='eyetracking-fix-object') &\n",
    "    (temp['trial_duration']==5000) & \n",
    "    (temp['run_id'].isin(data_trial_fixCal['run_id'].unique())), \n",
    "    :\n",
    "]\n",
    "data_et_fix.columns"
   ]
  },
  {
   "cell_type": "markdown",
   "metadata": {},
   "source": [
    "# Demographics"
   ]
  },
  {
   "cell_type": "code",
   "execution_count": null,
   "metadata": {
    "scrolled": true
   },
   "outputs": [],
   "source": [
    "for col in ['Nationality', 'Employment Status', 'webcam_fps']:\n",
    "    print(pd.crosstab(index=data_subject[col],\n",
    "                      columns=\"count\")\n",
    "         )\n",
    "    print('\\n')"
   ]
  },
  {
   "cell_type": "markdown",
   "metadata": {},
   "source": [
    "# Manipulation Check"
   ]
  },
  {
   "cell_type": "markdown",
   "metadata": {},
   "source": [
    "## Followed the instructions"
   ]
  },
  {
   "cell_type": "code",
   "execution_count": null,
   "metadata": {},
   "outputs": [],
   "source": [
    "data_trial_fixCal['run_id'].unique()"
   ]
  },
  {
   "cell_type": "code",
   "execution_count": null,
   "metadata": {},
   "outputs": [],
   "source": [
    "data_subject.loc[\n",
    "    (data_subject['keptHead']==0) |\n",
    "    (data_subject['triedChin']==0), \n",
    "    ['run_id', 'prolificID', 'keptHead', 'triedChin']\n",
    "]"
   ]
  },
  {
   "cell_type": "markdown",
   "metadata": {},
   "source": [
    "# Gaze predictions for each position"
   ]
  },
  {
   "cell_type": "code",
   "execution_count": null,
   "metadata": {},
   "outputs": [],
   "source": [
    "data_plot = data_et_fix.merge(data_trial_fix.loc[:, ['run_id', 'trial_index', 'chin']], \n",
    "                             on=['run_id', 'trial_index'], \n",
    "                             how='left')\n",
    "\n",
    "fig, axes = plt.subplots(nrows=3, ncols=3, figsize=(18, 12))\n",
    "axes = axes.ravel()\n",
    "xPos = [0.2, 0.5, 0.8, 0.2, 0.5, 0.8, 0.2, 0.5, 0.8]\n",
    "yPos = [0.2, 0.2, 0.2, 0.5, 0.5, 0.5, 0.8, 0.8, 0.8]\n",
    "\n",
    "for i in range(0, 9):\n",
    "    axes_data = data_plot.loc[\n",
    "        (data_plot['run_id']==43) & \n",
    "        (data_plot['chin']==0) &\n",
    "        (data_plot['x_pos']==xPos[i]) & \n",
    "        (data_plot['y_pos']==yPos[i]), \n",
    "        :]\n",
    "    im = axes[i].scatter(\n",
    "        axes_data['x'], \n",
    "        axes_data['y'], \n",
    "        c=axes_data['t_task'], \n",
    "        cmap='viridis'\n",
    "    )\n",
    "    axes[i].set_ylim(1, 0)\n",
    "    axes[i].set_xlim(0, 1)\n",
    "    \n",
    "fig.colorbar(im, ax=axes)\n",
    "plt.show()"
   ]
  },
  {
   "cell_type": "markdown",
   "metadata": {},
   "source": [
    "# fps across subjects and trials"
   ]
  },
  {
   "cell_type": "code",
   "execution_count": null,
   "metadata": {
    "scrolled": true
   },
   "outputs": [],
   "source": [
    "plt.hist(data_subject['fps'], bins=15)"
   ]
  },
  {
   "cell_type": "code",
   "execution_count": null,
   "metadata": {},
   "outputs": [],
   "source": [
    "def spaghettiPlot(data, xVar, yVar):\n",
    "    highlightedSubject = data['run_id'].unique()[0]\n",
    "    plt.style.use('seaborn-darkgrid')\n",
    "    fig, ax = plt.subplots(figsize=(15, 10))\n",
    "\n",
    "    # Draw Plots\n",
    "    for subject in data[\"run_id\"].unique():\n",
    "        df_thisSubject = data[data['run_id']==subject]\n",
    "        ax.plot(data.loc[data['run_id']==subject, xVar], \n",
    "                data.loc[data['run_id']==subject, yVar], \n",
    "                marker='', color='grey', linewidth=1, alpha=0.4)\n",
    "\n",
    "    # Highlight Subject \n",
    "    ax.plot(data.loc[data['run_id']==highlightedSubject, xVar], \n",
    "            data.loc[data['run_id']==highlightedSubject, yVar], \n",
    "            marker='', color='orange', linewidth=4, alpha=0.7)\n",
    "\n",
    "    # Let's annotate the plot\n",
    "    for subject in data[\"run_id\"].unique():\n",
    "        if subject != highlightedSubject:\n",
    "            ax.text(data.loc[data['run_id']==subject, xVar].max()+1, \n",
    "                    data.loc[data['run_id']==subject, yVar].tail(1),\n",
    "                    s=subject, horizontalalignment='left', size='small', color='grey')\n",
    "\n",
    "        else:\n",
    "            ax.text(data.loc[data['run_id']==subject, xVar].max()+1, \n",
    "                    data.loc[data['run_id']==subject, yVar].tail(1),\n",
    "                    s=subject, horizontalalignment='left', size='small', color='orange')\n",
    "    return plt\n",
    "\n",
    "spaghettiPlot(\n",
    "    data_trial_fixCal.loc[data_trial_fixCal['chinFirst']==0, :],     \n",
    "    'trial_index', \n",
    "    'fps')\n",
    "plt.title('chinFirst == 0', loc='center', fontsize=12, fontweight=0, color='grey')\n",
    "plt.xlabel('trial_index')\n",
    "plt.ylabel('fps')\n",
    "plt.vlines(18, 45, 50, colors='k', linestyles='solid')\n",
    "plt.text(18+1, 50, s='Calibration')\n",
    "plt.vlines(105, 45, 50, colors='k', linestyles='solid')\n",
    "plt.text(105+1, 50, s='fix Task')\n",
    "plt.vlines(143, 45, 50, colors='k', linestyles='solid')\n",
    "plt.text(143+1, 50, s='Calibration')\n",
    "plt.vlines(230, 45, 50, colors='k', linestyles='solid')\n",
    "plt.text(230+1, 50, s='fix Task')\n",
    "plt.vlines(269, 45, 50, colors='k', linestyles='solid')\n",
    "plt.text(269+1, 50, s='choice Task')\n",
    "plt.show()"
   ]
  },
  {
   "cell_type": "code",
   "execution_count": null,
   "metadata": {},
   "outputs": [],
   "source": [
    "spaghettiPlot(\n",
    "    data_trial_fixCal.loc[data_trial_fixCal['chinFirst']==1, :],     \n",
    "    'trial_index', \n",
    "    'fps')\n",
    "plt.title('chinFirst == 1', loc='center', fontsize=12, fontweight=0, color='grey')\n",
    "plt.xlabel('trial_index')\n",
    "plt.ylabel('fps')\n",
    "\n",
    "plt.vlines(18, 45, 50, colors='k', linestyles='solid')\n",
    "plt.text(18+1, 50, s='Calibration')\n",
    "plt.vlines(105, 45, 50, colors='k', linestyles='solid')\n",
    "plt.text(105+1, 50, s='fix Task')\n",
    "plt.vlines(144, 45, 50, colors='k', linestyles='solid')\n",
    "plt.text(144+1, 50, s='choice Task')\n",
    "plt.vlines(394, 45, 50, colors='k', linestyles='solid')\n",
    "plt.text(394+1, 50, s='Calibration')\n",
    "plt.vlines(482, 45, 50, colors='k', linestyles='solid')\n",
    "plt.text(482+1, 50, s='fix Task')\n",
    "\n",
    "plt.show()"
   ]
  },
  {
   "cell_type": "markdown",
   "metadata": {},
   "source": [
    "# Chin-rest effect"
   ]
  },
  {
   "cell_type": "code",
   "execution_count": null,
   "metadata": {},
   "outputs": [],
   "source": [
    "fig, axes = plt.subplots(1, 2, sharey=True, figsize=(15,6))\n",
    "fig.suptitle('chinFirst==0 vs. chinFirst==1')\n",
    "\n",
    "sns.boxplot(ax=axes[0], x='chin', y='offset_mean', data=data_trial_fix)\n",
    "sns.boxplot(ax=axes[1], x='chin', y='precision_mean', data=data_trial_fix)\n",
    "   \n",
    "plt.show()"
   ]
  },
  {
   "cell_type": "code",
   "execution_count": null,
   "metadata": {},
   "outputs": [],
   "source": [
    "means_0 = data_subject.loc[:, ['offset_chin_0', 'offset_chin_1', 'precision_chin_0', 'precision_chin_1']].mean() \\\n",
    "    .reset_index() \\\n",
    "    .rename(columns={0: 'mean'})\n",
    "var_0 = data_subject.loc[:, ['offset_chin_0', 'offset_chin_1', 'precision_chin_0', 'precision_chin_1']].var() \\\n",
    "    .reset_index() \\\n",
    "    .rename(columns={0: 'var'})\n",
    "means_0.merge(var_0, on='index', how='left')"
   ]
  },
  {
   "cell_type": "code",
   "execution_count": null,
   "metadata": {},
   "outputs": [],
   "source": [
    "scipy.stats.ttest_rel(data_subject['offset_chin_0'], data_subject['offset_chin_1'])"
   ]
  },
  {
   "cell_type": "markdown",
   "metadata": {},
   "source": [
    "## Effect for various positions. Overall slightly lower accuracy"
   ]
  },
  {
   "cell_type": "code",
   "execution_count": null,
   "metadata": {},
   "outputs": [],
   "source": [
    "grouped_var = data_trial_fix.groupby(['positionIndex', 'chin']) \\\n",
    "    ['offset_mean', 'precision_mean'].var() \\\n",
    "    .rename(columns={'offset_mean': 'offset_var', 'precision_mean':'precision_var'}) \\\n",
    "    .reset_index()\n",
    "\n",
    "grouped_means = data_trial_fix.groupby(['positionIndex', 'chin']) \\\n",
    "    ['offset_mean', 'precision_mean'].mean() \\\n",
    "    .reset_index()\n",
    "\n",
    "grouped = grouped_means.merge(grouped_var, on=['positionIndex', 'chin'], how='left')\n",
    "\n",
    "grouped_offset_mean = grouped.loc[:, ['positionIndex', 'chin', 'offset_mean']] \\\n",
    "    .set_index(['positionIndex']) \\\n",
    "    .pivot(columns=\"chin\")['offset_mean'] \\\n",
    "    .reset_index() \\\n",
    "    .rename(columns={0.0: 'offset_mean_chin_0', 1.0: 'offset_mean_chin_1'}) \n",
    "\n",
    "grouped_offset_var = grouped.loc[:, ['positionIndex', 'chin', 'offset_var']] \\\n",
    "    .set_index(['positionIndex']) \\\n",
    "    .pivot(columns=\"chin\")['offset_var'] \\\n",
    "    .reset_index() \\\n",
    "    .rename(columns={0.0: 'offset_var_chin_0', 1.0: 'offset_var_chin_1'}) \n",
    "\n",
    "grouped_precision_mean = grouped.loc[:, ['positionIndex', 'chin', 'precision_mean']] \\\n",
    "    .set_index(['positionIndex']) \\\n",
    "    .pivot(columns=\"chin\")['precision_mean'] \\\n",
    "    .reset_index() \\\n",
    "    .rename(columns={0.0: 'precision_mean_chin_0', 1.0: 'precision_mean_chin_1'}) \n",
    "\n",
    "grouped_precision_var = grouped.loc[:, ['positionIndex', 'chin', 'precision_var']] \\\n",
    "    .set_index(['positionIndex']) \\\n",
    "    .pivot(columns=\"chin\")['precision_var'] \\\n",
    "    .reset_index() \\\n",
    "    .rename(columns={0.0: 'precision_var_chin_0', 1.0: 'precision_var_chin_1'}) \n",
    "\n",
    "overview = pd.concat(\n",
    "    [\n",
    "        grouped_offset_mean,\n",
    "        grouped_offset_var.iloc[:, 1:3],\n",
    "        grouped_precision_mean.iloc[:, 1:3], \n",
    "        grouped_precision_var.iloc[:, 1:3]\n",
    "    ], \n",
    "    axis=1\n",
    ")\n",
    "print(overview.mean())\n",
    "overview"
   ]
  },
  {
   "cell_type": "markdown",
   "metadata": {},
   "source": [
    "# Offset"
   ]
  },
  {
   "cell_type": "markdown",
   "metadata": {},
   "source": [
    "## offset ~ chin-rest across chinFirst"
   ]
  },
  {
   "cell_type": "code",
   "execution_count": null,
   "metadata": {
    "scrolled": false
   },
   "outputs": [],
   "source": [
    "fig, axes = plt.subplots(1, 2, sharey=True, figsize=(15,6))\n",
    "fig.suptitle('chinFirst==0 vs. chinFirst==1')\n",
    "\n",
    "sns.boxplot(ax=axes[0], x='chin', y='offset_mean', \n",
    "            data=data_trial_fix.loc[data_trial_fix['chinFirst']==0, :])\n",
    "sns.boxplot(ax=axes[1], x='chin', y='offset_mean', \n",
    "            data=data_trial_fix.loc[data_trial_fix['chinFirst']==1, :])\n",
    "   \n",
    "plt.show()"
   ]
  },
  {
   "cell_type": "markdown",
   "metadata": {},
   "source": [
    "## offset across calibration"
   ]
  },
  {
   "cell_type": "code",
   "execution_count": null,
   "metadata": {},
   "outputs": [],
   "source": [
    "spaghettiPlot(\n",
    "    data_trial_fixCal.loc[\n",
    "        (data_trial_fixCal['trial_type']=='eyetracking-calibration') &\n",
    "        (data_trial_fixCal['chin']==0),\n",
    "         :\n",
    "    ], \n",
    "    'withinTaskIndex', \n",
    "    'offset_mean'\n",
    ")\n",
    "plt.ylim(0, 1)\n",
    "plt.title('Offset across calibration for chin==0', loc='center', fontsize=12, fontweight=0, color='grey')\n",
    "plt.xlabel('withinTaskIndex')\n",
    "plt.ylabel('Offset')\n",
    "\n",
    "plt.show()"
   ]
  },
  {
   "cell_type": "code",
   "execution_count": null,
   "metadata": {},
   "outputs": [],
   "source": [
    "spaghettiPlot(\n",
    "    data_trial_fixCal.loc[\n",
    "        (data_trial_fixCal['trial_type']=='eyetracking-calibration') &\n",
    "        (data_trial_fixCal['chin']==1),\n",
    "         :\n",
    "    ], \n",
    "    'withinTaskIndex', \n",
    "    'offset_mean'\n",
    ")\n",
    "plt.ylim(0, 1)\n",
    "plt.title('Offset across calibration for chin==1', loc='center', fontsize=12, fontweight=0, color='grey')\n",
    "plt.xlabel('withinTaskIndex')\n",
    "plt.ylabel('Offset')\n",
    "\n",
    "plt.show()"
   ]
  },
  {
   "cell_type": "markdown",
   "metadata": {},
   "source": [
    "# Precision"
   ]
  },
  {
   "cell_type": "markdown",
   "metadata": {},
   "source": [
    "## precision ~ chin-rest across chinFirst"
   ]
  },
  {
   "cell_type": "code",
   "execution_count": null,
   "metadata": {},
   "outputs": [],
   "source": [
    "fig, axes = plt.subplots(1, 2, sharey=True, figsize=(15,6))\n",
    "fig.suptitle('chinFirst==0 vs. chinFirst==1')\n",
    "\n",
    "sns.boxplot(ax=axes[0], x='chin', y='precision_mean', \n",
    "            data=data_trial_fix.loc[data_trial_fix['chinFirst']==0, :])\n",
    "sns.boxplot(ax=axes[1], x='chin', y='precision_mean', \n",
    "            data=data_trial_fix.loc[data_trial_fix['chinFirst']==1, :])\n",
    "   \n",
    "plt.show()"
   ]
  },
  {
   "cell_type": "markdown",
   "metadata": {},
   "source": [
    "## Precision across calibration"
   ]
  },
  {
   "cell_type": "code",
   "execution_count": null,
   "metadata": {},
   "outputs": [],
   "source": [
    "spaghettiPlot(\n",
    "    data_trial_fixCal.loc[\n",
    "        (data_trial_fixCal['trial_type']=='eyetracking-calibration') &\n",
    "        (data_trial_fixCal['chin']==0),\n",
    "         :\n",
    "    ], \n",
    "    'withinTaskIndex', \n",
    "    'precision_mean'\n",
    ")\n",
    "plt.ylim(0, 1)\n",
    "plt.title('Precision across calibration for chin==0', loc='center', fontsize=12, fontweight=0, color='grey')\n",
    "plt.xlabel('withinTaskIndex')\n",
    "plt.ylabel('Precision')\n",
    "\n",
    "plt.show()"
   ]
  },
  {
   "cell_type": "code",
   "execution_count": null,
   "metadata": {},
   "outputs": [],
   "source": [
    "spaghettiPlot(\n",
    "    data_trial_fixCal.loc[\n",
    "        (data_trial_fixCal['trial_type']=='eyetracking-calibration') &\n",
    "        (data_trial_fixCal['chin']==1),\n",
    "         :\n",
    "    ], \n",
    "    'withinTaskIndex', \n",
    "    'precision_mean'\n",
    ")\n",
    "plt.ylim(0, 1)\n",
    "plt.title('Precision across calibration for chin==1', loc='center', fontsize=12, fontweight=0, color='grey')\n",
    "plt.xlabel('withinTaskIndex')\n",
    "plt.ylabel('Precision')\n",
    "\n",
    "plt.show()"
   ]
  },
  {
   "cell_type": "code",
   "execution_count": null,
   "metadata": {
    "scrolled": true
   },
   "outputs": [],
   "source": [
    "spaghettiPlot(\n",
    "    data_trial_fix.loc[\n",
    "        (data_trial_fix['chinFirst']==1) &\n",
    "        (data_trial_fix['chin']==0), \n",
    "        :],     \n",
    "    'withinTaskIndex', \n",
    "    'offset_mean')\n",
    "plt.title('chinFirst == 1', loc='center', fontsize=12, fontweight=0, color='grey')\n",
    "plt.xlabel('trial_index')\n",
    "plt.ylabel('offset_mean')"
   ]
  },
  {
   "cell_type": "code",
   "execution_count": null,
   "metadata": {},
   "outputs": [],
   "source": [
    "fig, axes = plt.subplots(1, 2, sharey=True, figsize=(15,6))\n",
    "fig.suptitle('chinFirst==0 vs. chinFirst==1')\n",
    "\n",
    "sns.boxplot(ax=axes[0], x='chin', y='precision', \n",
    "            data=data_trial_fixation.loc[data_trial_fixation['chinFirst']==0, :])\n",
    "sns.boxplot(ax=axes[1], x='chin', y='precision', \n",
    "            data=data_trial_fixation.loc[data_trial_fixation['chinFirst']==1, :])\n",
    "   \n",
    "plt.show()"
   ]
  },
  {
   "cell_type": "code",
   "execution_count": null,
   "metadata": {},
   "outputs": [],
   "source": [
    "data_et_fixation['run_id'].unique()"
   ]
  },
  {
   "cell_type": "markdown",
   "metadata": {},
   "source": [
    "## Chin rest condition"
   ]
  },
  {
   "cell_type": "code",
   "execution_count": null,
   "metadata": {},
   "outputs": [],
   "source": [
    "fixation = data_trial.loc[(data_trial['trial_type']=='eyetracking-fix-object') &\n",
    "               (pd.notna(data_trial['withinTaskIndex'])), :] \\\n",
    "    .groupby['run_id', 'trial_index']['offset'].mean()\n",
    "    .reset_index(drop=True) \n",
    "len(fixation.loc[fixation['chin']==1])"
   ]
  },
  {
   "cell_type": "code",
   "execution_count": null,
   "metadata": {},
   "outputs": [],
   "source": [
    "data = data_trial_fixation.loc[data_trial_fixation['run_id'] == 0, :]\n",
    "predictor = 'chin'\n",
    "outcome = 'offset'\n",
    "sample_A = data.loc[data[predictor] == 0, ['trial_index', 'offset']] \\\n",
    "    .drop_duplicates() \\\n",
    "    .reset_index(drop=True)\n",
    "\n",
    "View(sample_A)"
   ]
  },
  {
   "cell_type": "code",
   "execution_count": null,
   "metadata": {},
   "outputs": [],
   "source": []
  },
  {
   "cell_type": "code",
   "execution_count": null,
   "metadata": {},
   "outputs": [],
   "source": []
  },
  {
   "cell_type": "markdown",
   "metadata": {},
   "source": [
    "## H1, H2, H4"
   ]
  },
  {
   "cell_type": "markdown",
   "metadata": {},
   "source": [
    "### Data Cleaning"
   ]
  },
  {
   "cell_type": "code",
   "execution_count": null,
   "metadata": {},
   "outputs": [],
   "source": [
    "# Missing values\n",
    "## Row-wise\n",
    "# print(df.isnull().values.sum())\n",
    "## Column-wise\n",
    "# print(df.isnull().sum())"
   ]
  },
  {
   "cell_type": "code",
   "execution_count": null,
   "metadata": {},
   "outputs": [],
   "source": [
    "data_trial_choice_clean = data_trial_choice \\\n",
    "    .loc[(data_trial_choice['trial_duration_exact']<10000), :]"
   ]
  },
  {
   "cell_type": "code",
   "execution_count": null,
   "metadata": {},
   "outputs": [],
   "source": [
    "fig, axes = plt.subplots(1, 4, sharey=True, figsize=(15,6))\n",
    "fig.suptitle('Subject properties vs. choice outcomes')\n",
    "\n",
    "predictors = [\n",
    "                'gender',\n",
    "                'ethnic', \n",
    "                'degree',\n",
    "                'chinFirst', \n",
    "             ]  \n",
    "for i in range(0, len(predictors)):\n",
    "    sns.boxplot(ax=axes[i], x=predictors[i], y='choseLL', data=data_subject)\n",
    "   \n",
    "plt.show()"
   ]
  },
  {
   "cell_type": "code",
   "execution_count": null,
   "metadata": {},
   "outputs": [],
   "source": [
    "# window_diagonal_max\n",
    "# age\n",
    "# choiceNr\n",
    "def bubblePlot(categorical_variable, distinct_variable, data):\n",
    "    \n",
    "    sns.set_context(\"talk\", font_scale=1.1)\n",
    "    plt.figure(figsize=(5,6))\n",
    "    \n",
    "    data_bubblePlot = data.loc[:, [categorical_variable, distinct_variable]]\n",
    "    grouped = data_bubblePlot.groupby([distinct_variable]) \\\n",
    "        .count() \\\n",
    "        .rename(columns={categorical_variable: 'n'}) \\\n",
    "        .reset_index()\n",
    "    data_bubblePlot = data_bubblePlot.merge(grouped, \n",
    "                                                 on=distinct_variable, \n",
    "                                                 how='left')\n",
    "    data_bubblePlot['n'] = data_bubblePlot['n']     \n",
    "    \n",
    "    sns.scatterplot(x=categorical_variable, \n",
    "                    y=distinct_variable,\n",
    "                    size='n',            \n",
    "                    data=data_bubblePlot)\n",
    "    plt.legend(bbox_to_anchor=(1.01, 1),borderaxespad=0)\n",
    "    plt.xlabel(categorical_variable)\n",
    "    plt.xticks([0, 1])\n",
    "    plt.ylabel(distinct_variable)\n",
    "    plt.tight_layout()\n",
    "    plt.show()\n",
    "\n",
    "bubblePlot(categorical_variable = 'choseLL', \n",
    "           distinct_variable = 'age', \n",
    "           data = data_trial_choice)"
   ]
  },
  {
   "cell_type": "markdown",
   "metadata": {},
   "source": [
    "### Correlation"
   ]
  },
  {
   "cell_type": "code",
   "execution_count": null,
   "metadata": {},
   "outputs": [],
   "source": [
    "correlation_columns = [\n",
    "                            'trial_duration_exact',\n",
    "                            'fps',\n",
    "                            'k', \n",
    "                            'choiceNr',\n",
    "                            'optionIndex',\n",
    "                            'attributeIndex', \n",
    "                            'payneIndex',\n",
    "                        ]"
   ]
  },
  {
   "cell_type": "markdown",
   "metadata": {},
   "source": [
    "### Plot"
   ]
  },
  {
   "cell_type": "code",
   "execution_count": null,
   "metadata": {},
   "outputs": [],
   "source": [
    "sns.pairplot(data_trial_choice_clean.loc[:,\n",
    "        np.append(correlation_columns, ['LL_top'])\n",
    "    ],\n",
    "    hue='LL_top')"
   ]
  },
  {
   "cell_type": "code",
   "execution_count": null,
   "metadata": {
    "scrolled": true
   },
   "outputs": [],
   "source": [
    "sns.pairplot(data_trial_choice_clean.loc[:,\n",
    "        np.append(correlation_columns, ['choseTop'])\n",
    "    ],\n",
    "    hue='choseTop')"
   ]
  },
  {
   "cell_type": "code",
   "execution_count": null,
   "metadata": {},
   "outputs": [],
   "source": [
    "corr_matrix = np.corrcoef(data_trial_choice_clean[correlation_columns].T)\n",
    "smg.plot_corr(corr_matrix, xnames=correlation_columns)\n",
    "plt.show()"
   ]
  },
  {
   "cell_type": "code",
   "execution_count": null,
   "metadata": {
    "scrolled": false
   },
   "outputs": [],
   "source": [
    "data_trial_choice_clean[correlation_columns].rcorr()"
   ]
  },
  {
   "cell_type": "code",
   "execution_count": null,
   "metadata": {},
   "outputs": [],
   "source": [
    "data_trial_choice_clean[correlation_columns].rcorr(upper='n')"
   ]
  },
  {
   "cell_type": "markdown",
   "metadata": {},
   "source": [
    "### 4.1.1 Requirements"
   ]
  },
  {
   "cell_type": "code",
   "execution_count": null,
   "metadata": {},
   "outputs": [],
   "source": [
    "X = data_trial_choice[[\"run_id\", \"choiceNr\", \"optionIndex\", 'attributeIndex', 'payneIndex']]\n",
    "y = 1-data_trial_choice[[\"choseLL\"]]  "
   ]
  },
  {
   "cell_type": "code",
   "execution_count": null,
   "metadata": {},
   "outputs": [],
   "source": [
    "def noMissingValues(data):\n",
    "    null_data = X.loc[X.isnull().any(axis=1), :]\n",
    "    if len(null_data) > 0:\n",
    "        print('There are some missing data. Look here: \\n \\n')\n",
    "        print(null_data)\n",
    "        return(False)\n",
    "    else:\n",
    "        print('No missing values!')\n",
    "        return(True)"
   ]
  },
  {
   "cell_type": "code",
   "execution_count": null,
   "metadata": {},
   "outputs": [],
   "source": [
    "noMissingValues(X)"
   ]
  }
 ],
 "metadata": {
  "kernelspec": {
   "display_name": "Python 3",
   "language": "python",
   "name": "python3"
  },
  "language_info": {
   "codemirror_mode": {
    "name": "ipython",
    "version": 3
   },
   "file_extension": ".py",
   "mimetype": "text/x-python",
   "name": "python",
   "nbconvert_exporter": "python",
   "pygments_lexer": "ipython3",
   "version": "3.7.7"
  },
  "toc": {
   "base_numbering": 1,
   "nav_menu": {
    "height": "419px",
    "width": "245.2px"
   },
   "number_sections": true,
   "sideBar": true,
   "skip_h1_title": false,
   "title_cell": "Table of Contents",
   "title_sidebar": "Contents",
   "toc_cell": false,
   "toc_position": {
    "height": "calc(100% - 180px)",
    "left": "10px",
    "top": "150px",
    "width": "256px"
   },
   "toc_section_display": true,
   "toc_window_display": true
  }
 },
 "nbformat": 4,
 "nbformat_minor": 4
}
