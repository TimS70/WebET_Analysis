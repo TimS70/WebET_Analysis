{
 "cells": [
  {
   "cell_type": "code",
   "execution_count": 1,
   "metadata": {},
   "outputs": [],
   "source": [
    "# import sys\n",
    "# !conda install --yes --prefix {sys.prefix} pingouin"
   ]
  },
  {
   "cell_type": "code",
   "execution_count": 2,
   "metadata": {},
   "outputs": [
    {
     "name": "stdout",
     "output_type": "stream",
     "text": [
      "Current Working directory  C:\\Users\\User\\GitHub\\WebET_Analysis\n"
     ]
    }
   ],
   "source": [
    "import datetime\n",
    "import numpy as np\n",
    "import math\n",
    "import os\n",
    "import pandas as pd\n",
    "import pingouin as pg\n",
    "import re\n",
    "import seaborn as sns\n",
    "import json\n",
    "import matplotlib.pyplot as plt\n",
    "import statsmodels.api as sm \n",
    "import statsmodels.formula.api as smf\n",
    "import statsmodels.graphics.api as smg\n",
    "import sys\n",
    "\n",
    "if sys.version_info[0] < 3: \n",
    "    from StringIO import StringIO\n",
    "else:\n",
    "    from io import StringIO\n",
    "    \n",
    "from IPython.display import HTML\n",
    "def View(df):\n",
    "    css = \"\"\"<style>\n",
    "    table { border-collapse: collapse; border: 3px solid #eee; }\n",
    "    table tr th:first-child { background-color: #eeeeee; color: #333; font-weight: bold }\n",
    "    table thead th { background-color: #eee; color: #000; }\n",
    "    tr, th, td { border: 1px solid #ccc; border-width: 1px 0 0 1px; border-collapse: collapse;\n",
    "    padding: 3px; font-family: monospace; font-size: 10px }</style>\n",
    "    \"\"\"\n",
    "    s  = '<script type=\"text/Javascript\">'\n",
    "    s += 'var win = window.open(\"\", \"Title\", \"toolbar=no, location=no, directories=no, status=no, menubar=no, scrollbars=yes, resizable=yes, width=780, height=200, top=\"+(screen.height-400)+\", left=\"+(screen.width-840));'\n",
    "    s += 'win.document.body.innerHTML = \\'' + (df.to_html() + css).replace(\"\\n\",'\\\\') + '\\';'\n",
    "    s += '</script>'\n",
    "    return(HTML(s+css))    \n",
    "\n",
    "os.chdir(r'C:\\Users\\User\\GitHub\\WebET_Analysis')\n",
    "print(\"Current Working directory \" , os.getcwd())"
   ]
  },
  {
   "cell_type": "code",
   "execution_count": 3,
   "metadata": {},
   "outputs": [],
   "source": [
    "# from IPython.display import HTML\n",
    "\n",
    "# HTML('''<script>\n",
    "# code_show=true; \n",
    "# function code_toggle() {\n",
    "#  if (code_show){\n",
    "#  $('div.input').hide();\n",
    "#  } else {\n",
    "#  $('div.input').show();\n",
    "#  }\n",
    "#  code_show = !code_show\n",
    "# } \n",
    "# $( document ).ready(code_toggle);\n",
    "# </script>\n",
    "# <form action=\"javascript:code_toggle()\"><input type=\"submit\" value=\"Click here to toggle on/off the raw code.\"></form>''')"
   ]
  },
  {
   "cell_type": "markdown",
   "metadata": {},
   "source": [
    "# Read Data"
   ]
  },
  {
   "cell_type": "code",
   "execution_count": 4,
   "metadata": {},
   "outputs": [
    {
     "name": "stdout",
     "output_type": "stream",
     "text": [
      "              length\n",
      "data_et       618566\n",
      "data_trial     30362\n",
      "data_subject      84\n"
     ]
    }
   ],
   "source": [
    "data_et = pd.read_csv(r'C:/Users/User/GitHub/WebET_Analysis/data_jupyter/data_et.csv')\n",
    "data_trial = pd.read_csv(r'C:/Users/User/GitHub/WebET_Analysis/data_jupyter/data_trial.csv')\n",
    "data_subject = pd.read_csv(r'C:/Users/User/GitHub/WebET_Analysis/data_jupyter/data_subject.csv')\n",
    "\n",
    "print(pd.DataFrame([[len(data_et)], [len(data_trial)], [len(data_subject)]], \n",
    "                   columns=['length'],\n",
    "                   index=['data_et', 'data_trial', 'data_subject'])\n",
    "     )"
   ]
  },
  {
   "cell_type": "markdown",
   "metadata": {},
   "source": [
    "# Window Size"
   ]
  },
  {
   "cell_type": "code",
   "execution_count": 5,
   "metadata": {
    "scrolled": true
   },
   "outputs": [
    {
     "name": "stderr",
     "output_type": "stream",
     "text": [
      "C:\\Users\\User\\Anaconda3\\lib\\site-packages\\ipykernel_launcher.py:2: FutureWarning: Indexing with multiple keys (implicitly converted to a tuple of keys) will be deprecated, use a list instead.\n",
      "  \n"
     ]
    }
   ],
   "source": [
    "def addWindowSize(data):\n",
    "    grouped = data.groupby([\"run_id\", \"subject\"])[\"window_width\", \"window_height\"].max().reset_index()\n",
    "    grouped.columns = [\"run_id\", \"subject\", \"window_width_max\", \"window_height_max\"]\n",
    "    grouped['window_diagonal_max'] = np.sqrt(grouped['window_width_max']**2 + grouped['window_height_max']**2)\n",
    "    if \"window_width_max\" in data.columns: data = data.drop(columns=['window_width_max'])\n",
    "    data = data.merge(grouped, on=['run_id', \"subject\"], how='left')\n",
    "    return data\n",
    "\n",
    "data_trial = addWindowSize(data_trial)\n",
    "data_trial['window_diagonal'] =  np.sqrt(data_trial['window_width']**2 + data_trial['window_height']**2)"
   ]
  },
  {
   "cell_type": "markdown",
   "metadata": {},
   "source": [
    "# Trial Duration"
   ]
  },
  {
   "cell_type": "code",
   "execution_count": 6,
   "metadata": {},
   "outputs": [
    {
     "name": "stdout",
     "output_type": "stream",
     "text": [
      "Success! rt and trial_duration_exact do not deviate by >50ms.\n",
      "Success! trial_duration and trial_duration_exact do not deviate by >50ms.\n"
     ]
    }
   ],
   "source": [
    "def checkTimeDeviation(data, column1, column2, maxTimeDiffAllowed):\n",
    "    diff = data[column1] - data['trial_duration_exact']\n",
    "    longtrials_runID = data.loc[diff[diff > maxTimeDiffAllowed].index, 'run_id']\n",
    "    longtrials_previousrunID = pd.DataFrame(data.loc[diff[diff > maxTimeDiffAllowed].index-1, 'run_id']) \\\n",
    "        .rename(columns={'run_id':'previous_run_id'})\n",
    "    longtrials_previousrunID.index = longtrials_runID.index\n",
    "    compare_runIDs = pd.concat([longtrials_runID, longtrials_previousrunID], axis=1)\n",
    "\n",
    "    if sum(compare_runIDs['run_id'] == compare_runIDs['previous_run_id']) > 0: \n",
    "        print(column1 + ' and ' + column2 + ' show a deviation of ' +\n",
    "              '>' + str(maxTimeDiffAllowed) + \n",
    "              ' ms. Please check on the following indices: \\n')\n",
    "        print(compare_runIDs.loc[(compare_runIDs['run_id'] == compare_runIDs['previous_run_id']), :].index)\n",
    "\n",
    "    else:\n",
    "        print('Success! ' + column1 + ' and ' + column2 + ' do not deviate by ' +\n",
    "              '>' + str(maxTimeDiffAllowed) + 'ms.')\n",
    "        \n",
    "def exactTrialDuration(data):\n",
    "    data[\"t_startTrial\"] = pd.concat([pd.Series([0]), data[\"time_elapsed\"]], ignore_index=True)\n",
    "    data[\"trial_duration_exact\"] = data.loc[:, (\"time_elapsed\")] - data.loc[:, (\"t_startTrial\")]\n",
    "    data.drop(len(data)-1)\n",
    "    \n",
    "    checkTimeDeviation(data, 'rt', 'trial_duration_exact', 50)\n",
    "    checkTimeDeviation(data, 'trial_duration', 'trial_duration_exact', 50)\n",
    "    \n",
    "    return data\n",
    "\n",
    "data_trial = exactTrialDuration(data_trial)"
   ]
  },
  {
   "cell_type": "markdown",
   "metadata": {},
   "source": [
    "# withinTaskIndex"
   ]
  },
  {
   "cell_type": "code",
   "execution_count": null,
   "metadata": {},
   "outputs": [],
   "source": [
    "def withinTaskIndex(data): \n",
    "    allTrialIndices = []\n",
    "    for subject in data[\"run_id\"].unique():\n",
    "        df_subj = data.loc[data['run_id']==subject, :]\n",
    "        \n",
    "        for trial_type in df_subj['trial_type'].unique():\n",
    "            df_trial = df_subj.loc[df_subj['trial_type']==trial_type, :]\n",
    "                \n",
    "            for task_nr in df_trial[\"task_nr\"].unique():\n",
    "                df_thisTask = df_trial.loc[df_trial['task_nr']==task_nr, \n",
    "                         ['run_id', 'trial_index']\n",
    "                    ] \\\n",
    "                    .drop_duplicates() \\\n",
    "                    .reset_index(drop=True)\n",
    "        \n",
    "                df_thisTask['withinTaskIndex'] = df_thisTask.index + 1\n",
    "                allTrialIndices.append(df_thisTask)\n",
    "    allTrialIndices = pd.concat(allTrialIndices).reset_index(drop=True)\n",
    "    return allTrialIndices\n",
    "\n",
    "def addWithinTaskIndex(data):\n",
    "    newIndices = withinTaskIndex(data)\n",
    "    if 'withinTaskIndex' in data.columns: data = data.drop(columns=['offset'])\n",
    "    data = data.merge(newIndices, on = ['run_id', 'trial_index'], how = 'left')\n",
    "    return data\n",
    "\n",
    "data_trial = addWithinTaskIndex(data_trial)"
   ]
  },
  {
   "cell_type": "markdown",
   "metadata": {},
   "source": [
    "# fps"
   ]
  },
  {
   "cell_type": "markdown",
   "metadata": {},
   "source": [
    "## trial_level"
   ]
  },
  {
   "cell_type": "code",
   "execution_count": null,
   "metadata": {},
   "outputs": [],
   "source": [
    "def merge_count_by_index(data, large_data, varName):\n",
    "    if varName + '_count' in data.columns: data = data.drop(columns=['offset'])\n",
    "    grouped = large_data.groupby([\"run_id\", \"trial_index\"])[varName].count() \\\n",
    "        .reset_index() \\\n",
    "        .rename(columns={varName: varName + '_count'})\n",
    "    data = data.merge(grouped, on=[\"run_id\", \"trial_index\"], how='left')\n",
    "    return(data)\n",
    "\n",
    "data_trial = merge_count_by_index(data_trial, data_et, 'x')\n",
    "\n",
    "data_trial['fps'] = 1000 * data_trial['x_count'] / data_trial['trial_duration_exact']\n",
    "data_trial['fps'].describe()"
   ]
  },
  {
   "cell_type": "code",
   "execution_count": null,
   "metadata": {},
   "outputs": [],
   "source": [
    "def spaghettiPlot(data, xVar, yVar, highlightedSubject):\n",
    "    plt.style.use('seaborn-darkgrid')\n",
    "    fig, ax = plt.subplots(figsize=(15, 10))\n",
    "\n",
    "    # Draw Plots\n",
    "    for subject in data[\"run_id\"].unique():\n",
    "        ax.plot(data.loc[data['run_id']==subject, xVar], \n",
    "                data.loc[data['run_id']==subject, yVar], \n",
    "                marker='', color='grey', linewidth=1, alpha=0.4)\n",
    "\n",
    "    # Highlight Subject \n",
    "    ax.plot(data.loc[data['run_id']==highlightedSubject, xVar], \n",
    "            data.loc[data['run_id']==highlightedSubject, yVar], \n",
    "            marker='', color='orange', linewidth=4, alpha=0.7)\n",
    "\n",
    "    # Let's annotate the plot\n",
    "    for subject in data[\"run_id\"].unique():\n",
    "        if subject != highlightedSubject:\n",
    "            ax.text(data.loc[data['run_id']==subject, xVar].max()+1, \n",
    "                    data.loc[data['run_id']==subject, yVar].tail(1),\n",
    "                    s=subject, horizontalalignment='left', size='small', color='grey')\n",
    "\n",
    "        else:\n",
    "            ax.text(data.loc[data['run_id']==subject, xVar].max()+1, \n",
    "                    data.loc[data['run_id']==subject, yVar].tail(1),\n",
    "                    s=subject, horizontalalignment='left', size='small', color='orange')\n",
    "    return plt"
   ]
  },
  {
   "cell_type": "code",
   "execution_count": null,
   "metadata": {},
   "outputs": [],
   "source": [
    "spaghettiPlot(\n",
    "    data_trial.loc[(data_trial['chinFirst']==0) & pd.notna(data_trial['fps']), :], \n",
    "    'trial_index', 'fps', 103\n",
    ")\n",
    "plt.title('chinFirst == 0', loc='center', fontsize=12, fontweight=0, color='grey')\n",
    "plt.xlabel('trial_index')\n",
    "plt.ylabel('fps')\n",
    "plt.vlines(18, 45, 50, colors='k', linestyles='solid')\n",
    "plt.text(18+1, 50, s='Calibration')\n",
    "plt.vlines(105, 45, 50, colors='k', linestyles='solid')\n",
    "plt.text(105+1, 50, s='fix Task')\n",
    "plt.vlines(143, 45, 50, colors='k', linestyles='solid')\n",
    "plt.text(143+1, 50, s='Calibration')\n",
    "plt.vlines(230, 45, 50, colors='k', linestyles='solid')\n",
    "plt.text(230+1, 50, s='fix Task')\n",
    "plt.vlines(269, 45, 50, colors='k', linestyles='solid')\n",
    "plt.text(269+1, 50, s='choice Task')\n",
    "plt.show()"
   ]
  },
  {
   "cell_type": "code",
   "execution_count": null,
   "metadata": {},
   "outputs": [],
   "source": [
    "spaghettiPlot(\n",
    "    data_trial.loc[(data_trial['chinFirst']==1) & pd.notna(data_trial['fps']), :], \n",
    "    'trial_index', 'fps', 91\n",
    ")\n",
    "plt.title('chinFirst == 1', loc='center', fontsize=12, fontweight=0, color='grey')\n",
    "plt.xlabel('trial_index')\n",
    "plt.ylabel('fps')\n",
    "plt.vlines(18, 45, 50, colors='k', linestyles='solid')\n",
    "plt.text(18+1, 50, s='Calibration')\n",
    "plt.vlines(105, 45, 50, colors='k', linestyles='solid')\n",
    "plt.text(105+1, 50, s='fix Task')\n",
    "plt.vlines(144, 45, 50, colors='k', linestyles='solid')\n",
    "plt.text(144+1, 50, s='choice Task')\n",
    "plt.vlines(394, 45, 50, colors='k', linestyles='solid')\n",
    "plt.text(394+1, 50, s='Calibration')\n",
    "plt.vlines(482, 45, 50, colors='k', linestyles='solid')\n",
    "plt.text(482+1, 50, s='fix Task')\n",
    "plt.show()"
   ]
  },
  {
   "cell_type": "markdown",
   "metadata": {},
   "source": [
    "## subject-level"
   ]
  },
  {
   "cell_type": "code",
   "execution_count": null,
   "metadata": {
    "scrolled": true
   },
   "outputs": [],
   "source": [
    "def merge_by_subject(data, large_data, varName):\n",
    "    if varName in data.columns: data = data.drop(columns=[varName])\n",
    "    grouped = large_data.groupby(['run_id'])[varName].mean() \\\n",
    "        .reset_index()        \n",
    "    data = data.merge(grouped, on=['run_id'], how='left')\n",
    "    return data\n",
    "\n",
    "data_subject = merge_by_subject(data_subject, data_trial, 'fps')\n",
    "plt.hist(data_subject['fps'], bins=15)"
   ]
  },
  {
   "cell_type": "markdown",
   "metadata": {},
   "source": [
    "# data_subject"
   ]
  },
  {
   "cell_type": "code",
   "execution_count": null,
   "metadata": {},
   "outputs": [],
   "source": [
    "data_subject['degree'] = data_subject['degree'].replace(\n",
    "    ['-3', '0', '1.5', '2'], np.nan)\n",
    "\n",
    "data_subject['degree'] = data_subject['degree'].replace({\n",
    "    'high school': 'highSchool',\n",
    "    'masters degree': 'grad',\n",
    "    'Bachelor': 'college',\n",
    "    'Grad': 'grad'\n",
    "})\n",
    "print(data_subject['degree'].unique())"
   ]
  },
  {
   "cell_type": "code",
   "execution_count": null,
   "metadata": {},
   "outputs": [],
   "source": [
    "data_subject['webcam_fps'] = np.round(data_subject['webcam_fps'])"
   ]
  },
  {
   "cell_type": "code",
   "execution_count": null,
   "metadata": {},
   "outputs": [],
   "source": [
    "data_subject['optionalNote'].unique()"
   ]
  },
  {
   "cell_type": "code",
   "execution_count": null,
   "metadata": {},
   "outputs": [],
   "source": [
    "for col in ['Nationality', 'Employment Status', 'webcam_fps', 'ethnic', 'gender']:\n",
    "    print(pd.crosstab(index=data_subject[col],\n",
    "                      columns=\"count\")\n",
    "         )\n",
    "    print('\\n')"
   ]
  },
  {
   "cell_type": "markdown",
   "metadata": {},
   "source": [
    "# Export data"
   ]
  },
  {
   "cell_type": "code",
   "execution_count": null,
   "metadata": {},
   "outputs": [],
   "source": [
    "data_trial.to_csv(\"data_jupyter/data_trial.csv\", index=False, header=True)\n",
    "data_subject.to_csv(\"data_jupyter/data_subject.csv\", index=False, header=True)"
   ]
  },
  {
   "cell_type": "markdown",
   "metadata": {},
   "source": [
    "# Feedback"
   ]
  },
  {
   "cell_type": "code",
   "execution_count": null,
   "metadata": {
    "scrolled": true
   },
   "outputs": [],
   "source": [
    "print('Success! Script ran through')"
   ]
  }
 ],
 "metadata": {
  "kernelspec": {
   "display_name": "Python 3",
   "language": "python",
   "name": "python3"
  },
  "language_info": {
   "codemirror_mode": {
    "name": "ipython",
    "version": 3
   },
   "file_extension": ".py",
   "mimetype": "text/x-python",
   "name": "python",
   "nbconvert_exporter": "python",
   "pygments_lexer": "ipython3",
   "version": "3.7.7"
  },
  "toc": {
   "base_numbering": 1,
   "nav_menu": {},
   "number_sections": true,
   "sideBar": true,
   "skip_h1_title": false,
   "title_cell": "Table of Contents",
   "title_sidebar": "Contents",
   "toc_cell": false,
   "toc_position": {
    "height": "calc(100% - 180px)",
    "left": "10px",
    "top": "150px",
    "width": "230.4px"
   },
   "toc_section_display": true,
   "toc_window_display": true
  }
 },
 "nbformat": 4,
 "nbformat_minor": 4
}
