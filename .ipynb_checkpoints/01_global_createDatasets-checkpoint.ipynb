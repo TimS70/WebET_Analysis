{
 "cells": [
  {
   "cell_type": "code",
   "execution_count": 8,
   "metadata": {},
   "outputs": [
    {
     "name": "stdout",
     "output_type": "stream",
     "text": [
      "Current Working directory  C:\\Users\\User\\GitHub\\WebET_Analysis\n"
     ]
    }
   ],
   "source": [
    "import datetime\n",
    "import numpy as np\n",
    "import math\n",
    "import os\n",
    "import pandas as pd\n",
    "import re\n",
    "import seaborn as sns\n",
    "import json\n",
    "import statsmodels.api as sm \n",
    "import statsmodels.formula.api as smf\n",
    "import statsmodels.graphics.api as smg\n",
    "import sys\n",
    "if sys.version_info[0] < 3: \n",
    "    from StringIO import StringIO\n",
    "else:\n",
    "    from io import StringIO    \n",
    "from tqdm import tqdm \n",
    "\n",
    "    \n",
    "from IPython.display import HTML\n",
    "def View(df):\n",
    "    css = \"\"\"<style>\n",
    "    table { border-collapse: collapse; border: 3px solid #eee; }\n",
    "    table tr th:first-child { background-color: #eeeeee; color: #333; font-weight: bold }\n",
    "    table thead th { background-color: #eee; color: #000; }\n",
    "    tr, th, td { border: 1px solid #ccc; border-width: 1px 0 0 1px; border-collapse: collapse;\n",
    "    padding: 3px; font-family: monospace; font-size: 10px }</style>\n",
    "    \"\"\"\n",
    "    s  = '<script type=\"text/Javascript\">'\n",
    "    s += 'var win = window.open(\"\", \"Title\", \"toolbar=no, location=no, directories=no, status=no, menubar=no, scrollbars=yes, resizable=yes, width=780, height=200, top=\"+(screen.height-400)+\", left=\"+(screen.width-840));'\n",
    "    s += 'win.document.body.innerHTML = \\'' + (df.to_html() + css).replace(\"\\n\",'\\\\') + '\\';'\n",
    "    s += '</script>'\n",
    "    return(HTML(s+css))    \n",
    "\n",
    "os.chdir(r'C:\\Users\\User\\GitHub\\WebET_Analysis')\n",
    "print(\"Current Working directory \" , os.getcwd())"
   ]
  },
  {
   "cell_type": "markdown",
   "metadata": {},
   "source": [
    "# Raw Data"
   ]
  },
  {
   "cell_type": "markdown",
   "metadata": {},
   "source": [
    "## Search for specific subjects"
   ]
  },
  {
   "cell_type": "code",
   "execution_count": 9,
   "metadata": {},
   "outputs": [],
   "source": [
    "path = 'data_prolific'\n",
    "subject_files = os.listdir(path)\n",
    "for i in range(0, len(subject_files)):\n",
    "    thisSubject_txt = open(path + \"/\" + subject_files[i]).read()\n",
    "    if thisSubject_txt.find('Unnamed') > (-1):\n",
    "        print(subject_files[i])"
   ]
  },
  {
   "cell_type": "markdown",
   "metadata": {},
   "source": [
    "## Read CSV from String"
   ]
  },
  {
   "cell_type": "code",
   "execution_count": 10,
   "metadata": {},
   "outputs": [
    {
     "name": "stderr",
     "output_type": "stream",
     "text": [
      "100%|████████████████████████████████████████████████████████████████████████████████| 467/467 [00:59<00:00,  7.81it/s]\n"
     ]
    }
   ],
   "source": [
    "def clean_html(raw_html):\n",
    "    # https://stackoverflow.com/questions/9662346/python-code-to-remove-html-tags-from-a-string\n",
    "    cleanr = re.compile('<.*?>')\n",
    "    cleanText = re.sub(cleanr, '', raw_html)\n",
    "    return cleanText\n",
    "\n",
    "def clean_et_text(text):\n",
    "    textWithinBrackets = re.findall(re.compile('\\[.*?\\]'), text)\n",
    "    output = text\n",
    "    for i in range(0,len(textWithinBrackets)):\n",
    "        old = textWithinBrackets[i]\n",
    "        new = re.sub(\",\", \"$\", old)\n",
    "        output = output.replace(old, new)\n",
    "    return output\n",
    "\n",
    "def cleanSurveyText(text):\n",
    "    output = text\n",
    "    textWithinBrackets = re.findall(re.compile('\\{.*?\\}'), text)\n",
    "    for i in range(0,len(textWithinBrackets)):\n",
    "        old = textWithinBrackets[i]\n",
    "        new = old.replace(',', '§')\n",
    "        output = output.replace(old, new)\n",
    "    return output\n",
    "\n",
    "def compileData(path):\n",
    "    subject_files = os.listdir(path)\n",
    "    all_subjects = []\n",
    "    for i in tqdm(range(0, len(subject_files))):\n",
    "        csv_thisSubject = open(path + \"/\" + subject_files[i]).read()\n",
    "        csv_thisSubject = clean_html(csv_thisSubject)\n",
    "        csv_thisSubject = clean_et_text(csv_thisSubject)\n",
    "        csv_thisSubject = cleanSurveyText(csv_thisSubject)\n",
    "        df_thisSubject = pd.read_csv(StringIO(csv_thisSubject))\n",
    "        if len(df_thisSubject) > 0: \n",
    "            all_subjects.append(df_thisSubject)\n",
    "    output = pd.concat(all_subjects).reset_index(drop=True)\n",
    "    return output\n",
    "\n",
    "data_raw = compileData(\"data_prolific\")"
   ]
  },
  {
   "cell_type": "markdown",
   "metadata": {},
   "source": [
    "## survey data (to merge with data_subject)"
   ]
  },
  {
   "cell_type": "code",
   "execution_count": 11,
   "metadata": {
    "scrolled": true
   },
   "outputs": [
    {
     "name": "stderr",
     "output_type": "stream",
     "text": [
      "100%|████████████████████████████████████████████████████████████████████████████████| 316/316 [00:07<00:00, 40.12it/s]\n"
     ]
    },
    {
     "data": {
      "text/html": [
       "<div>\n",
       "<style scoped>\n",
       "    .dataframe tbody tr th:only-of-type {\n",
       "        vertical-align: middle;\n",
       "    }\n",
       "\n",
       "    .dataframe tbody tr th {\n",
       "        vertical-align: top;\n",
       "    }\n",
       "\n",
       "    .dataframe thead th {\n",
       "        text-align: right;\n",
       "    }\n",
       "</style>\n",
       "<table border=\"1\" class=\"dataframe\">\n",
       "  <thead>\n",
       "    <tr style=\"text-align: right;\">\n",
       "      <th></th>\n",
       "      <th>prolificID</th>\n",
       "      <th>birthyear</th>\n",
       "      <th>gender</th>\n",
       "      <th>ethnic</th>\n",
       "      <th>sight</th>\n",
       "      <th>glasses</th>\n",
       "      <th>degree</th>\n",
       "      <th>eyeshadow</th>\n",
       "      <th>masquara</th>\n",
       "      <th>eyeliner</th>\n",
       "      <th>browliner</th>\n",
       "      <th>vertPosition</th>\n",
       "      <th>triedChin</th>\n",
       "      <th>keptHead</th>\n",
       "      <th>optionalNote</th>\n",
       "      <th>run_id</th>\n",
       "    </tr>\n",
       "  </thead>\n",
       "  <tbody>\n",
       "    <tr>\n",
       "      <th>1</th>\n",
       "      <td>5fccc8ac636416a4288a9f3d</td>\n",
       "      <td>1995</td>\n",
       "      <td>male</td>\n",
       "      <td>caucasian</td>\n",
       "      <td>glasses</td>\n",
       "      <td>shortSight</td>\n",
       "      <td>High School</td>\n",
       "      <td>no</td>\n",
       "      <td>no</td>\n",
       "      <td>no</td>\n",
       "      <td>no</td>\n",
       "      <td>a</td>\n",
       "      <td>yes</td>\n",
       "      <td>yes</td>\n",
       "      <td>NaN</td>\n",
       "      <td>1</td>\n",
       "    </tr>\n",
       "    <tr>\n",
       "      <th>1</th>\n",
       "      <td>600063f2943eab0acc812ed8</td>\n",
       "      <td>2001</td>\n",
       "      <td>male</td>\n",
       "      <td>caucasian</td>\n",
       "      <td>perfectSight</td>\n",
       "      <td>noCorrection</td>\n",
       "      <td>College / Undergraduate / Bachelor</td>\n",
       "      <td>no</td>\n",
       "      <td>no</td>\n",
       "      <td>no</td>\n",
       "      <td>no</td>\n",
       "      <td>a</td>\n",
       "      <td>NaN</td>\n",
       "      <td>NaN</td>\n",
       "      <td>NaN</td>\n",
       "      <td>103</td>\n",
       "    </tr>\n",
       "    <tr>\n",
       "      <th>1</th>\n",
       "      <td>5d485e8415055400194b707f</td>\n",
       "      <td>NaN</td>\n",
       "      <td>NaN</td>\n",
       "      <td>NaN</td>\n",
       "      <td>NaN</td>\n",
       "      <td>NaN</td>\n",
       "      <td>NaN</td>\n",
       "      <td>NaN</td>\n",
       "      <td>NaN</td>\n",
       "      <td>NaN</td>\n",
       "      <td>NaN</td>\n",
       "      <td>NaN</td>\n",
       "      <td>NaN</td>\n",
       "      <td>NaN</td>\n",
       "      <td>NaN</td>\n",
       "      <td>106</td>\n",
       "    </tr>\n",
       "    <tr>\n",
       "      <th>1</th>\n",
       "      <td>55b237e6fdf99b19ea79d2f7</td>\n",
       "      <td>NaN</td>\n",
       "      <td>NaN</td>\n",
       "      <td>NaN</td>\n",
       "      <td>NaN</td>\n",
       "      <td>NaN</td>\n",
       "      <td>NaN</td>\n",
       "      <td>NaN</td>\n",
       "      <td>NaN</td>\n",
       "      <td>NaN</td>\n",
       "      <td>NaN</td>\n",
       "      <td>NaN</td>\n",
       "      <td>NaN</td>\n",
       "      <td>NaN</td>\n",
       "      <td>NaN</td>\n",
       "      <td>108</td>\n",
       "    </tr>\n",
       "    <tr>\n",
       "      <th>1</th>\n",
       "      <td>5c5684ef9d244c0001b29f1e</td>\n",
       "      <td>1991</td>\n",
       "      <td>male</td>\n",
       "      <td>asian</td>\n",
       "      <td>glasses</td>\n",
       "      <td>shortSight</td>\n",
       "      <td>College / Undergraduate / Bachelor</td>\n",
       "      <td>no</td>\n",
       "      <td>no</td>\n",
       "      <td>no</td>\n",
       "      <td>no</td>\n",
       "      <td>a</td>\n",
       "      <td>yes</td>\n",
       "      <td>yes</td>\n",
       "      <td>NaN</td>\n",
       "      <td>11</td>\n",
       "    </tr>\n",
       "    <tr>\n",
       "      <th>...</th>\n",
       "      <td>...</td>\n",
       "      <td>...</td>\n",
       "      <td>...</td>\n",
       "      <td>...</td>\n",
       "      <td>...</td>\n",
       "      <td>...</td>\n",
       "      <td>...</td>\n",
       "      <td>...</td>\n",
       "      <td>...</td>\n",
       "      <td>...</td>\n",
       "      <td>...</td>\n",
       "      <td>...</td>\n",
       "      <td>...</td>\n",
       "      <td>...</td>\n",
       "      <td>...</td>\n",
       "      <td>...</td>\n",
       "    </tr>\n",
       "    <tr>\n",
       "      <th>1</th>\n",
       "      <td>5ecfc227f036c902457fc44c</td>\n",
       "      <td>1998</td>\n",
       "      <td>female</td>\n",
       "      <td>black</td>\n",
       "      <td>perfectSight</td>\n",
       "      <td>noCorrection</td>\n",
       "      <td>Graduate / PhD / Master</td>\n",
       "      <td>no</td>\n",
       "      <td>no</td>\n",
       "      <td>no</td>\n",
       "      <td>no</td>\n",
       "      <td>a</td>\n",
       "      <td>yes</td>\n",
       "      <td>yes</td>\n",
       "      <td>NaN</td>\n",
       "      <td>94</td>\n",
       "    </tr>\n",
       "    <tr>\n",
       "      <th>1</th>\n",
       "      <td>5eb9940830ab6c098bd1943d</td>\n",
       "      <td>1997</td>\n",
       "      <td>male</td>\n",
       "      <td>caucasian</td>\n",
       "      <td>perfectSight</td>\n",
       "      <td>noCorrection</td>\n",
       "      <td>College / Undergraduate / Bachelor</td>\n",
       "      <td>no</td>\n",
       "      <td>no</td>\n",
       "      <td>no</td>\n",
       "      <td>no</td>\n",
       "      <td>a</td>\n",
       "      <td>yes</td>\n",
       "      <td>yes</td>\n",
       "      <td>NaN</td>\n",
       "      <td>96</td>\n",
       "    </tr>\n",
       "    <tr>\n",
       "      <th>1</th>\n",
       "      <td>5f68fe5be5cc370c0a0911de</td>\n",
       "      <td>1988</td>\n",
       "      <td>female</td>\n",
       "      <td>caucasian</td>\n",
       "      <td>perfectSight</td>\n",
       "      <td>noCorrection</td>\n",
       "      <td>NaN</td>\n",
       "      <td>no</td>\n",
       "      <td>no</td>\n",
       "      <td>no</td>\n",
       "      <td>no</td>\n",
       "      <td>b</td>\n",
       "      <td>yes</td>\n",
       "      <td>yes</td>\n",
       "      <td>NaN</td>\n",
       "      <td>97</td>\n",
       "    </tr>\n",
       "    <tr>\n",
       "      <th>1</th>\n",
       "      <td>5f779405dacc842fc44bc767</td>\n",
       "      <td>1996</td>\n",
       "      <td>male</td>\n",
       "      <td>caucasian</td>\n",
       "      <td>glasses</td>\n",
       "      <td>longSight</td>\n",
       "      <td>2</td>\n",
       "      <td>no</td>\n",
       "      <td>no</td>\n",
       "      <td>no</td>\n",
       "      <td>no</td>\n",
       "      <td>b</td>\n",
       "      <td>yes</td>\n",
       "      <td>yes</td>\n",
       "      <td>NaN</td>\n",
       "      <td>98</td>\n",
       "    </tr>\n",
       "    <tr>\n",
       "      <th>1</th>\n",
       "      <td>55b237e6fdf99b19ea79d2f</td>\n",
       "      <td>NaN</td>\n",
       "      <td>NaN</td>\n",
       "      <td>NaN</td>\n",
       "      <td>NaN</td>\n",
       "      <td>NaN</td>\n",
       "      <td>NaN</td>\n",
       "      <td>NaN</td>\n",
       "      <td>NaN</td>\n",
       "      <td>NaN</td>\n",
       "      <td>NaN</td>\n",
       "      <td>NaN</td>\n",
       "      <td>NaN</td>\n",
       "      <td>NaN</td>\n",
       "      <td>NaN</td>\n",
       "      <td>99</td>\n",
       "    </tr>\n",
       "  </tbody>\n",
       "</table>\n",
       "<p>302 rows × 16 columns</p>\n",
       "</div>"
      ],
      "text/plain": [
       "                  prolificID birthyear  gender     ethnic         sight  \\\n",
       "1   5fccc8ac636416a4288a9f3d      1995    male  caucasian       glasses   \n",
       "1   600063f2943eab0acc812ed8      2001    male  caucasian  perfectSight   \n",
       "1   5d485e8415055400194b707f       NaN     NaN        NaN           NaN   \n",
       "1   55b237e6fdf99b19ea79d2f7       NaN     NaN        NaN           NaN   \n",
       "1   5c5684ef9d244c0001b29f1e      1991    male      asian       glasses   \n",
       "..                       ...       ...     ...        ...           ...   \n",
       "1   5ecfc227f036c902457fc44c      1998  female      black  perfectSight   \n",
       "1   5eb9940830ab6c098bd1943d      1997    male  caucasian  perfectSight   \n",
       "1   5f68fe5be5cc370c0a0911de      1988  female  caucasian  perfectSight   \n",
       "1   5f779405dacc842fc44bc767      1996    male  caucasian       glasses   \n",
       "1    55b237e6fdf99b19ea79d2f       NaN     NaN        NaN           NaN   \n",
       "\n",
       "         glasses                              degree eyeshadow masquara  \\\n",
       "1     shortSight                         High School        no       no   \n",
       "1   noCorrection  College / Undergraduate / Bachelor        no       no   \n",
       "1            NaN                                 NaN       NaN      NaN   \n",
       "1            NaN                                 NaN       NaN      NaN   \n",
       "1     shortSight  College / Undergraduate / Bachelor        no       no   \n",
       "..           ...                                 ...       ...      ...   \n",
       "1   noCorrection             Graduate / PhD / Master        no       no   \n",
       "1   noCorrection  College / Undergraduate / Bachelor        no       no   \n",
       "1   noCorrection                                 NaN        no       no   \n",
       "1      longSight                                   2        no       no   \n",
       "1            NaN                                 NaN       NaN      NaN   \n",
       "\n",
       "   eyeliner browliner vertPosition triedChin keptHead optionalNote run_id  \n",
       "1        no        no            a       yes      yes          NaN      1  \n",
       "1        no        no            a       NaN      NaN          NaN    103  \n",
       "1       NaN       NaN          NaN       NaN      NaN          NaN    106  \n",
       "1       NaN       NaN          NaN       NaN      NaN          NaN    108  \n",
       "1        no        no            a       yes      yes          NaN     11  \n",
       "..      ...       ...          ...       ...      ...          ...    ...  \n",
       "1        no        no            a       yes      yes          NaN     94  \n",
       "1        no        no            a       yes      yes          NaN     96  \n",
       "1        no        no            b       yes      yes          NaN     97  \n",
       "1        no        no            b       yes      yes          NaN     98  \n",
       "1       NaN       NaN          NaN       NaN      NaN          NaN     99  \n",
       "\n",
       "[302 rows x 16 columns]"
      ]
     },
     "execution_count": 11,
     "metadata": {},
     "output_type": "execute_result"
    }
   ],
   "source": [
    "def cleanOptionalNote(text):\n",
    "    optionalNoteText = re.findall(re.compile('optionalNote\":.*?\\}'), text)\n",
    "    if len(optionalNoteText) < 1:\n",
    "        output = text\n",
    "    else:\n",
    "        old = optionalNoteText[0]\n",
    "        new = old.replace('§', ' ') \\\n",
    "            .replace(':', ' ') \\\n",
    "            .replace('(', ' ') \\\n",
    "            .replace(')', ' ') \\\n",
    "            .replace('optionalNote\" ', 'optionalNote\":')\n",
    "        \n",
    "        output = text.replace(old, new)\n",
    "    return output\n",
    "\n",
    "\n",
    "def surveyStringToFrame(subject, string):\n",
    "    string = cleanOptionalNote(string)\n",
    "    string = re.sub(\"\"\"{\"\"\", '', string)\n",
    "    string = re.sub(\"\"\"}\"\"\", '', string)\n",
    "    string = re.sub('\"', '', string)\n",
    "    string = re.sub('§', '$', string)\n",
    "    output = pd.read_csv(StringIO(string),\n",
    "                         sep=\":\",\n",
    "                         lineterminator=\"$\",\n",
    "                         header=None,\n",
    "                         index_col=0\n",
    "                         ).transpose()\n",
    "    return output\n",
    "\n",
    "\n",
    "def surveyData_thisSubject(data):\n",
    "    \n",
    "    subject = data['run_id'].unique()[0]\n",
    "    output = []\n",
    "    for i in range(0, len(data)):\n",
    "        output.append(\n",
    "            surveyStringToFrame(subject,\n",
    "                                data.loc[i, 'responses'])\n",
    "        )\n",
    "\n",
    "    output = pd.concat(output, axis=1)\n",
    "    output['run_id'] = subject\n",
    "\n",
    "    return output\n",
    "\n",
    "\n",
    "def surveyData(data):\n",
    "    surveyData = pd.DataFrame(columns=[\n",
    "            'prolificID', 'age', 'gender', 'ethnic', 'sight', \n",
    "            'glasses', 'degree', 'eyeshadow', 'masquara', 'eyeliner', \n",
    "            'browliner', 'vertPosition', 'triedChin', 'keptHead', \n",
    "            'optionalNote', 'run_id'])\n",
    "\n",
    "    for subject in tqdm(data['run_id'].unique()):\n",
    "        \n",
    "        df_thisSubject = data.loc[\n",
    "            (data['run_id']==subject) & \n",
    "            (pd.notna(data[\"responses\"])) &\n",
    "            (data[\"responses\"] != '\"'), \n",
    "            ['run_id', 'responses']\n",
    "        ] \\\n",
    "            .reset_index()\n",
    "        \n",
    "        if len(df_thisSubject)>0:\n",
    "        \n",
    "            surveyData = \\\n",
    "                surveyData.append(\n",
    "                    surveyData_thisSubject(\n",
    "                        df_thisSubject\n",
    "                    )\n",
    "                )\n",
    "    \n",
    "    surveyData = surveyData.rename(columns={'age': 'birthyear'})\n",
    "    \n",
    "    return(surveyData)\n",
    "    \n",
    "survey_data = surveyData(data_raw)\n",
    "survey_data"
   ]
  },
  {
   "cell_type": "markdown",
   "metadata": {},
   "source": [
    "### Optional Notes"
   ]
  },
  {
   "cell_type": "code",
   "execution_count": 12,
   "metadata": {},
   "outputs": [
    {
     "name": "stdout",
     "output_type": "stream",
     "text": [
      "run_id: 208\n",
      "no further comments.\n",
      "\n",
      "\n",
      "run_id: 227\n",
      "So much white text on a black background made my eyes tired so I'm sorry if that interfered with anything!\n",
      "\n",
      "\n",
      "run_id: 238\n",
      "It was hard! Sorry my cat came along. Also  I am being tested for multiple sclerosis right now  but it has not been doing anything to my vision. So hopefully you can still use mine - I haven't been diagnosed with anything yet.\n",
      "\n",
      "\n",
      "run_id: 256\n",
      "Of course you can hear my family suddenly and randomly ask me questions in the background but I swear to you I kept my eyes on the center of the monitor and I clicked everything. \n",
      "\n",
      "\n",
      "run_id: 266\n",
      "Na\n",
      "\n",
      "\n",
      "run_id: 270\n",
      "I think I managed to stay pretty still  but my heart raced after awhile. \n",
      "\n",
      "\n",
      "run_id: 347\n",
      "I noticed my head had moved from the first picture to the last picture while my head was resting on my hand even though I had tried to hold still\n",
      "\n",
      "\n",
      "run_id: 361\n",
      "  \n",
      "\n",
      "\n",
      "run_id: 380\n",
      "i am so sorry if you can hear my wife in this and for me getting up quite a bit. i hope i'm still eligible but i'm just being honest  tried my best!\n",
      "\n",
      "\n",
      "run_id: 429\n",
      "I had allergies so my eyes were watering \n",
      "\n",
      "\n",
      "run_id: 66\n",
      "good survey.\n",
      "\n",
      "\n",
      "run_id: 7\n",
      "I believe I stayed still  but maybe a moved a little\n",
      "\n",
      "\n",
      "run_id: 85\n",
      "This study took a long time\n",
      "\n",
      "\n",
      "run_id: 93\n",
      "THE SURVEY WAS ENJOYABLE\n",
      "\n",
      "\n"
     ]
    }
   ],
   "source": [
    "data_optionalNotes = survey_data.loc[\n",
    "    pd.notna(survey_data['optionalNote']),\n",
    "    ['run_id', 'optionalNote']\n",
    "]\n",
    "\n",
    "for subject in data_optionalNotes['run_id'].unique():\n",
    "    print(f'run_id: {subject}')\n",
    "    print(data_optionalNotes.loc[\n",
    "        data_optionalNotes['run_id']==subject, \n",
    "        'optionalNote'].values[0])\n",
    "    print('\\n')"
   ]
  },
  {
   "cell_type": "markdown",
   "metadata": {},
   "source": [
    "### Add Prolific ID to data_raw"
   ]
  },
  {
   "cell_type": "code",
   "execution_count": 13,
   "metadata": {},
   "outputs": [],
   "source": [
    "if 'prolificID' in data_raw.columns:\n",
    "    data_raw = data_raw.drop(columns='prolificID')\n",
    "    \n",
    "data_raw = data_raw \\\n",
    "    .merge(\n",
    "        survey_data.loc[:, ['run_id', 'prolificID']],\n",
    "        on='run_id',\n",
    "        how='left'\n",
    ")"
   ]
  },
  {
   "cell_type": "markdown",
   "metadata": {},
   "source": [
    "## Binary data"
   ]
  },
  {
   "cell_type": "code",
   "execution_count": 14,
   "metadata": {},
   "outputs": [],
   "source": [
    "data_raw['chinFirst'] = data_raw['chinFirst'].replace({'no': 0, 'yes': 1}) "
   ]
  },
  {
   "cell_type": "markdown",
   "metadata": {},
   "source": [
    "## Numerics"
   ]
  },
  {
   "cell_type": "code",
   "execution_count": 15,
   "metadata": {
    "scrolled": false
   },
   "outputs": [],
   "source": [
    "columns = [\n",
    "            'eyeshadow', \n",
    "            'masquara',\n",
    "            'eyeliner',\n",
    "            'browliner',\n",
    "            'triedChin', \n",
    "            'keptHead'\n",
    "        ]\n",
    "\n",
    "for col in columns:\n",
    "    survey_data[col] = survey_data[col].replace({'no': 0, 'yes': 1}) "
   ]
  },
  {
   "cell_type": "markdown",
   "metadata": {},
   "source": [
    "# data_trial"
   ]
  },
  {
   "cell_type": "code",
   "execution_count": 16,
   "metadata": {},
   "outputs": [],
   "source": [
    "data_trial = data_raw.loc[\n",
    "    :,\n",
    "    [\n",
    "        'run_id', 'prolificID', 'subject', 'chinFirst', \n",
    "        'trial_index',\n",
    "        'trial_type', 'task_nr', \n",
    "        'rt', 'stimulus', 'key_press', \n",
    "        'time_elapsed', 'trial_duration', 'recorded_at',\n",
    "        'window_width', 'window_height', 'success', \n",
    "\n",
    "        'chin', 'x_pos', 'y_pos', \n",
    "        \n",
    "        'choiceTask_amountLeftFirst', \n",
    "        'option_topLeft', 'option_bottomLeft',\n",
    "        'option_topRight', 'option_bottomRight', \n",
    "        'chosenAmount', 'chosenDelay',\n",
    "    ]\n",
    "]"
   ]
  },
  {
   "cell_type": "markdown",
   "metadata": {},
   "source": [
    "## Numerics"
   ]
  },
  {
   "cell_type": "code",
   "execution_count": 17,
   "metadata": {
    "scrolled": false
   },
   "outputs": [
    {
     "data": {
      "text/plain": [
       "run_id                          int64\n",
       "prolificID                     object\n",
       "subject                         int64\n",
       "chinFirst                       int64\n",
       "trial_index                     int64\n",
       "trial_type                     object\n",
       "task_nr                       float64\n",
       "rt                            float64\n",
       "stimulus                       object\n",
       "key_press                     float64\n",
       "time_elapsed                    int64\n",
       "trial_duration                float64\n",
       "recorded_at                    object\n",
       "window_width                  float64\n",
       "window_height                 float64\n",
       "success                        object\n",
       "chin                          float64\n",
       "x_pos                         float64\n",
       "y_pos                         float64\n",
       "choiceTask_amountLeftFirst      int64\n",
       "option_topLeft                 object\n",
       "option_bottomLeft              object\n",
       "option_topRight                object\n",
       "option_bottomRight             object\n",
       "chosenAmount                   object\n",
       "chosenDelay                    object\n",
       "dtype: object"
      ]
     },
     "execution_count": 17,
     "metadata": {},
     "output_type": "execute_result"
    }
   ],
   "source": [
    "columns = [\n",
    "            'run_id', 'subject', 'chinFirst', 'chin', 'task_nr', 'trial_index', # Int\n",
    "            'key_press', \n",
    "            'x_pos', 'y_pos', 'time_elapsed', 'trial_duration',\n",
    "            'rt',\n",
    "            'window_width', 'window_height'\n",
    "            ]\n",
    "\n",
    "for col in columns:\n",
    "    data_trial[col] = data_trial[col].replace({'\"': np.nan}) \n",
    "    data_trial[col] = pd.to_numeric(data_trial[col])\n",
    "    \n",
    "    \n",
    "data_trial.dtypes"
   ]
  },
  {
   "cell_type": "markdown",
   "metadata": {},
   "source": [
    "# data_et"
   ]
  },
  {
   "cell_type": "markdown",
   "metadata": {},
   "source": [
    "## Compile"
   ]
  },
  {
   "cell_type": "code",
   "execution_count": 11,
   "metadata": {},
   "outputs": [],
   "source": [
    "def reformatYang(text):\n",
    "    text = text.replace('$', ',')\n",
    "    text = text.replace(\"relative-x\", \"x\")\n",
    "    text = text.replace(\"relative-y\", 'y')\n",
    "    text = text.replace('elapse-time', 't')\n",
    "    text = (text[11:len(text)-1])\n",
    "    return(text)\n",
    "\n",
    "#for subject in data_yang['run_id'].unique():\n",
    "#    for i in data_raw.loc[\n",
    "#        (data_raw['run_id']==subject) & \n",
    "#        (pd.notna(data_raw['et_data'])) &\n",
    "#        ~(data_raw['et_data'].isin(['\"', 'nan'])), \n",
    "#       :].index:\n",
    "#       print('Reformat index: ' + str(i))\n",
    "#       data_raw.loc[i, 'et_data'] = reformatYang(data_raw.loc[i, 'et_data'])"
   ]
  },
  {
   "cell_type": "code",
   "execution_count": 13,
   "metadata": {},
   "outputs": [
    {
     "name": "stderr",
     "output_type": "stream",
     "text": [
      "100%|██████████████████████████████████████████████████████████████████████████| 66224/66224 [1:58:45<00:00,  9.29it/s]\n"
     ]
    }
   ],
   "source": [
    "def text_to_data_frame(text):\n",
    "    text = text.replace('$', ',')\n",
    "    dataframe = pd.read_json(text, orient='records')\n",
    "    return(dataframe)\n",
    "\n",
    "def extractEyetrackingData(data):\n",
    "    data_eyetracking = pd.DataFrame(columns=['x', 'y', 't'])\n",
    "    data[\"et_data\"] = data['et_data'].apply(str)\n",
    "\n",
    "    et_indices = data.loc[\n",
    "        (pd.notna(data['et_data'])) & \n",
    "        ~(data['et_data'].isin(['\"', '[]', 'nan'])), \n",
    "        :].index\n",
    "    index_max = et_indices.max()\n",
    "    \n",
    "    for i in tqdm(et_indices):\n",
    "        \n",
    "        df = text_to_data_frame(data.loc[i, 'et_data'])        \n",
    "\n",
    "        df[\"t_task\"] = (df.loc[:, \"t\"] - df.loc[0, \"t\"])\n",
    "        df['run_id'] = data.loc[i, 'run_id']\n",
    "        df['trial_index'] = data.loc[i, 'trial_index']\n",
    "\n",
    "        data_eyetracking = data_eyetracking.append(pd.DataFrame(data=df), ignore_index=True)\n",
    "    return(data_eyetracking)\n",
    "\n",
    "data_et = extractEyetrackingData(data_raw.loc[data_raw['run_id'].isin(data_trial['run_id'].unique()), :])"
   ]
  },
  {
   "cell_type": "code",
   "execution_count": 14,
   "metadata": {},
   "outputs": [
    {
     "name": "stderr",
     "output_type": "stream",
     "text": [
      "<ipython-input-14-5a412f0f98d6>:1: FutureWarning: Indexing with multiple keys (implicitly converted to a tuple of keys) will be deprecated, use a list instead.\n",
      "  data_et.groupby(['run_id', 'trial_index'])['x', 'y'].count()\n"
     ]
    },
    {
     "data": {
      "text/html": [
       "<div>\n",
       "<style scoped>\n",
       "    .dataframe tbody tr th:only-of-type {\n",
       "        vertical-align: middle;\n",
       "    }\n",
       "\n",
       "    .dataframe tbody tr th {\n",
       "        vertical-align: top;\n",
       "    }\n",
       "\n",
       "    .dataframe thead th {\n",
       "        text-align: right;\n",
       "    }\n",
       "</style>\n",
       "<table border=\"1\" class=\"dataframe\">\n",
       "  <thead>\n",
       "    <tr style=\"text-align: right;\">\n",
       "      <th></th>\n",
       "      <th></th>\n",
       "      <th>x</th>\n",
       "      <th>y</th>\n",
       "    </tr>\n",
       "    <tr>\n",
       "      <th>run_id</th>\n",
       "      <th>trial_index</th>\n",
       "      <th></th>\n",
       "      <th></th>\n",
       "    </tr>\n",
       "  </thead>\n",
       "  <tbody>\n",
       "    <tr>\n",
       "      <th rowspan=\"5\" valign=\"top\">1.0</th>\n",
       "      <th>18.0</th>\n",
       "      <td>6</td>\n",
       "      <td>6</td>\n",
       "    </tr>\n",
       "    <tr>\n",
       "      <th>20.0</th>\n",
       "      <td>11</td>\n",
       "      <td>11</td>\n",
       "    </tr>\n",
       "    <tr>\n",
       "      <th>22.0</th>\n",
       "      <td>11</td>\n",
       "      <td>11</td>\n",
       "    </tr>\n",
       "    <tr>\n",
       "      <th>24.0</th>\n",
       "      <td>11</td>\n",
       "      <td>11</td>\n",
       "    </tr>\n",
       "    <tr>\n",
       "      <th>26.0</th>\n",
       "      <td>10</td>\n",
       "      <td>10</td>\n",
       "    </tr>\n",
       "    <tr>\n",
       "      <th>...</th>\n",
       "      <th>...</th>\n",
       "      <td>...</td>\n",
       "      <td>...</td>\n",
       "    </tr>\n",
       "    <tr>\n",
       "      <th rowspan=\"5\" valign=\"top\">462.0</th>\n",
       "      <th>518.0</th>\n",
       "      <td>44</td>\n",
       "      <td>44</td>\n",
       "    </tr>\n",
       "    <tr>\n",
       "      <th>520.0</th>\n",
       "      <td>13</td>\n",
       "      <td>13</td>\n",
       "    </tr>\n",
       "    <tr>\n",
       "      <th>522.0</th>\n",
       "      <td>44</td>\n",
       "      <td>44</td>\n",
       "    </tr>\n",
       "    <tr>\n",
       "      <th>524.0</th>\n",
       "      <td>13</td>\n",
       "      <td>13</td>\n",
       "    </tr>\n",
       "    <tr>\n",
       "      <th>526.0</th>\n",
       "      <td>45</td>\n",
       "      <td>45</td>\n",
       "    </tr>\n",
       "  </tbody>\n",
       "</table>\n",
       "<p>66224 rows × 2 columns</p>\n",
       "</div>"
      ],
      "text/plain": [
       "                     x   y\n",
       "run_id trial_index        \n",
       "1.0    18.0          6   6\n",
       "       20.0         11  11\n",
       "       22.0         11  11\n",
       "       24.0         11  11\n",
       "       26.0         10  10\n",
       "...                 ..  ..\n",
       "462.0  518.0        44  44\n",
       "       520.0        13  13\n",
       "       522.0        44  44\n",
       "       524.0        13  13\n",
       "       526.0        45  45\n",
       "\n",
       "[66224 rows x 2 columns]"
      ]
     },
     "execution_count": 14,
     "metadata": {},
     "output_type": "execute_result"
    }
   ],
   "source": [
    "data_et.groupby(['run_id', 'trial_index'])['x', 'y'].count()"
   ]
  },
  {
   "cell_type": "markdown",
   "metadata": {},
   "source": [
    "# data_subject"
   ]
  },
  {
   "cell_type": "code",
   "execution_count": 18,
   "metadata": {},
   "outputs": [],
   "source": [
    "data_subject = data_raw.loc[\n",
    "    :, \n",
    "    [\n",
    "        'run_id', 'chinFirst', 'choiceTask_amountLeftFirst',\n",
    "        'browser', 'browser_version', 'device',\n",
    "        'platform', 'platform_version', 'user_agent',\n",
    "        'webcam_label', 'webcam_fps', 'webcam_height', 'webcam_width'\n",
    "    ]\n",
    "].drop_duplicates()"
   ]
  },
  {
   "cell_type": "markdown",
   "metadata": {},
   "source": [
    "## Add survey data"
   ]
  },
  {
   "cell_type": "code",
   "execution_count": 19,
   "metadata": {},
   "outputs": [
    {
     "data": {
      "text/plain": [
       "Index(['run_id', 'chinFirst', 'choiceTask_amountLeftFirst', 'browser',\n",
       "       'browser_version', 'device', 'platform', 'platform_version',\n",
       "       'user_agent', 'webcam_label', 'webcam_fps', 'webcam_height',\n",
       "       'webcam_width', 'prolificID', 'birthyear', 'gender', 'ethnic', 'sight',\n",
       "       'glasses', 'degree', 'eyeshadow', 'masquara', 'eyeliner', 'browliner',\n",
       "       'vertPosition', 'triedChin', 'keptHead', 'optionalNote'],\n",
       "      dtype='object')"
      ]
     },
     "execution_count": 19,
     "metadata": {},
     "output_type": "execute_result"
    }
   ],
   "source": [
    "data_subject = data_subject \\\n",
    "    .merge(\n",
    "        survey_data,\n",
    "        on='run_id', \n",
    "        how='left'\n",
    "    ) \\\n",
    "    .rename(columns={'age': 'birthyear'})\n",
    "data_subject.columns"
   ]
  },
  {
   "cell_type": "markdown",
   "metadata": {},
   "source": [
    "## Add prolific data"
   ]
  },
  {
   "cell_type": "code",
   "execution_count": 20,
   "metadata": {},
   "outputs": [
    {
     "name": "stdout",
     "output_type": "stream",
     "text": [
      "250\n",
      "278\n"
     ]
    }
   ],
   "source": [
    "data_prolific_int = pd.read_csv(r'C:/Users/User/GitHub/WebET_Analysis/prolific/prolific_export_int.csv') \\\n",
    "    .rename(columns={'participant_id': 'prolificID'}) \n",
    "\n",
    "data_prolific_us = pd.read_csv(r'C:/Users/User/GitHub/WebET_Analysis/prolific/prolific_export_us.csv') \\\n",
    "    .rename(columns={'participant_id': 'prolificID'}) \\\n",
    "\n",
    "data_prolific = data_prolific_int \\\n",
    "    .append(data_prolific_us)\n",
    "print(len(\n",
    "    data_prolific.loc[data_prolific['status']=='APPROVED', :]))\n",
    "print(len(data_subject.prolificID.unique()))"
   ]
  },
  {
   "cell_type": "code",
   "execution_count": 21,
   "metadata": {
    "scrolled": true
   },
   "outputs": [
    {
     "data": {
      "text/html": [
       "<div>\n",
       "<style scoped>\n",
       "    .dataframe tbody tr th:only-of-type {\n",
       "        vertical-align: middle;\n",
       "    }\n",
       "\n",
       "    .dataframe tbody tr th {\n",
       "        vertical-align: top;\n",
       "    }\n",
       "\n",
       "    .dataframe thead th {\n",
       "        text-align: right;\n",
       "    }\n",
       "</style>\n",
       "<table border=\"1\" class=\"dataframe\">\n",
       "  <thead>\n",
       "    <tr style=\"text-align: right;\">\n",
       "      <th></th>\n",
       "      <th>run_id</th>\n",
       "      <th>prolificID</th>\n",
       "    </tr>\n",
       "  </thead>\n",
       "  <tbody>\n",
       "    <tr>\n",
       "      <th>0</th>\n",
       "      <td>1</td>\n",
       "      <td>5fccc8ac636416a4288a9f3d</td>\n",
       "    </tr>\n",
       "    <tr>\n",
       "      <th>1</th>\n",
       "      <td>103</td>\n",
       "      <td>600063f2943eab0acc812ed8</td>\n",
       "    </tr>\n",
       "    <tr>\n",
       "      <th>2</th>\n",
       "      <td>105</td>\n",
       "      <td>NaN</td>\n",
       "    </tr>\n",
       "    <tr>\n",
       "      <th>3</th>\n",
       "      <td>106</td>\n",
       "      <td>5d485e8415055400194b707f</td>\n",
       "    </tr>\n",
       "    <tr>\n",
       "      <th>4</th>\n",
       "      <td>108</td>\n",
       "      <td>55b237e6fdf99b19ea79d2f7</td>\n",
       "    </tr>\n",
       "    <tr>\n",
       "      <th>...</th>\n",
       "      <td>...</td>\n",
       "      <td>...</td>\n",
       "    </tr>\n",
       "    <tr>\n",
       "      <th>311</th>\n",
       "      <td>94</td>\n",
       "      <td>5ecfc227f036c902457fc44c</td>\n",
       "    </tr>\n",
       "    <tr>\n",
       "      <th>312</th>\n",
       "      <td>96</td>\n",
       "      <td>5eb9940830ab6c098bd1943d</td>\n",
       "    </tr>\n",
       "    <tr>\n",
       "      <th>313</th>\n",
       "      <td>97</td>\n",
       "      <td>5f68fe5be5cc370c0a0911de</td>\n",
       "    </tr>\n",
       "    <tr>\n",
       "      <th>314</th>\n",
       "      <td>98</td>\n",
       "      <td>5f779405dacc842fc44bc767</td>\n",
       "    </tr>\n",
       "    <tr>\n",
       "      <th>315</th>\n",
       "      <td>99</td>\n",
       "      <td>55b237e6fdf99b19ea79d2f</td>\n",
       "    </tr>\n",
       "  </tbody>\n",
       "</table>\n",
       "<p>316 rows × 2 columns</p>\n",
       "</div>"
      ],
      "text/plain": [
       "    run_id                prolificID\n",
       "0        1  5fccc8ac636416a4288a9f3d\n",
       "1      103  600063f2943eab0acc812ed8\n",
       "2      105                       NaN\n",
       "3      106  5d485e8415055400194b707f\n",
       "4      108  55b237e6fdf99b19ea79d2f7\n",
       "..     ...                       ...\n",
       "311     94  5ecfc227f036c902457fc44c\n",
       "312     96  5eb9940830ab6c098bd1943d\n",
       "313     97  5f68fe5be5cc370c0a0911de\n",
       "314     98  5f779405dacc842fc44bc767\n",
       "315     99   55b237e6fdf99b19ea79d2f\n",
       "\n",
       "[316 rows x 2 columns]"
      ]
     },
     "execution_count": 21,
     "metadata": {},
     "output_type": "execute_result"
    }
   ],
   "source": [
    "data_subject = data_subject.merge(data_prolific, on='prolificID', how='left')\n",
    "data_subject['status'] = data_subject['status'].fillna('NOTPROLIFIC')\n",
    "data_subject.loc[:, ['run_id', 'prolificID']]"
   ]
  },
  {
   "cell_type": "markdown",
   "metadata": {},
   "source": [
    "# data_prolific\n",
    "For participant management"
   ]
  },
  {
   "cell_type": "code",
   "execution_count": 22,
   "metadata": {},
   "outputs": [],
   "source": [
    "temp = data_subject.rename(columns={\n",
    "    'chosenAmount': 'bonus_USD',\n",
    "    'chosenDelay': 'bonus_delay'\n",
    "    }\n",
    ")\n",
    "\n",
    "data_prolific = data_prolific.merge(\n",
    "    temp.loc[:, \n",
    "        np.append(['prolificID'], \n",
    "        temp.columns.difference(data_prolific.columns))], \n",
    "    on='prolificID', \n",
    "    how='left')"
   ]
  },
  {
   "cell_type": "markdown",
   "metadata": {},
   "source": [
    "# Export data"
   ]
  },
  {
   "cell_type": "code",
   "execution_count": 24,
   "metadata": {},
   "outputs": [
    {
     "name": "stdout",
     "output_type": "stream",
     "text": [
      "data_et saved!\n",
      "data_trial saved!\n"
     ]
    }
   ],
   "source": [
    "if not os.path.exists('./data_jupyter/raw'):\n",
    "    os.mkdir('./data_jupyter/raw')\n",
    "\n",
    "data_et.to_csv(\"data_jupyter/raw/data_et.csv\", index=False, header=True)\n",
    "print('data_et saved!')\n",
    "data_trial.to_csv(\"data_jupyter/raw/data_trial.csv\", index=False, header=True)\n",
    "print('data_trial saved!')\n",
    "data_subject.to_csv(\"data_jupyter/raw/data_subject.csv\", index=False, header=True)\n",
    "data_prolific.to_csv(\"data_jupyter/raw/data_prolific.csv\", index=False, header=True)"
   ]
  },
  {
   "cell_type": "markdown",
   "metadata": {},
   "source": [
    "# Feedback"
   ]
  },
  {
   "cell_type": "code",
   "execution_count": 25,
   "metadata": {
    "scrolled": true
   },
   "outputs": [
    {
     "name": "stdout",
     "output_type": "stream",
     "text": [
      "Success! Script ran through\n"
     ]
    }
   ],
   "source": [
    "print('Success! Script ran through')"
   ]
  }
 ],
 "metadata": {
  "kernelspec": {
   "display_name": "Python 3",
   "language": "python",
   "name": "python3"
  },
  "language_info": {
   "codemirror_mode": {
    "name": "ipython",
    "version": 3
   },
   "file_extension": ".py",
   "mimetype": "text/x-python",
   "name": "python",
   "nbconvert_exporter": "python",
   "pygments_lexer": "ipython3",
   "version": "3.8.5"
  },
  "toc": {
   "base_numbering": 1,
   "nav_menu": {},
   "number_sections": true,
   "sideBar": true,
   "skip_h1_title": false,
   "title_cell": "Table of Contents",
   "title_sidebar": "Contents",
   "toc_cell": false,
   "toc_position": {
    "height": "609.6px",
    "left": "268px",
    "top": "109.733px",
    "width": "230.4px"
   },
   "toc_section_display": true,
   "toc_window_display": true
  }
 },
 "nbformat": 4,
 "nbformat_minor": 4
}
