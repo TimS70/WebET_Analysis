{
 "cells": [
  {
   "cell_type": "code",
   "execution_count": null,
   "id": "variable-conservative",
   "metadata": {},
   "outputs": [],
   "source": [
    "import datetime\n",
    "import numpy as np\n",
    "import os\n",
    "import pandas as pd\n",
    "import seaborn as sns\n",
    "import matplotlib.pyplot as plt\n",
    "from tqdm import tqdm \n",
    "    \n",
    "from IPython.display import HTML\n",
    "def View(df):\n",
    "    css = \"\"\"<style>\n",
    "    table { border-collapse: collapse; border: 3px solid #eee; }\n",
    "    table tr th:first-child { background-color: #eeeeee; color: #333; font-weight: bold }\n",
    "    table thead th { background-color: #eee; color: #000; }\n",
    "    tr, th, td { border: 1px solid #ccc; border-width: 1px 0 0 1px; border-collapse: collapse;\n",
    "    padding: 3px; font-family: monospace; font-size: 10px }</style>\n",
    "    \"\"\"\n",
    "    s  = '<script type=\"text/Javascript\">'\n",
    "    s += 'var win = window.open(\"\", \"Title\", \"toolbar=no, location=no, directories=no, status=no, menubar=no, scrollbars=yes, resizable=yes, width=780, height=200, top=\"+(screen.height-400)+\", left=\"+(screen.width-840));'\n",
    "    s += 'win.document.body.innerHTML = \\'' + (df.to_html() + css).replace(\"\\n\",'\\\\') + '\\';'\n",
    "    s += '</script>'\n",
    "    return(HTML(s+css))    \n",
    "\n",
    "os.chdir(r'C:\\Users\\User\\GitHub\\WebET_Analysis')\n",
    "print(\"Current Working directory \" , os.getcwd())"
   ]
  },
  {
   "cell_type": "code",
   "execution_count": null,
   "id": "optional-archive",
   "metadata": {},
   "outputs": [],
   "source": [
    "data_et = pd.read_csv(r'C:/Users/User/GitHub/WebET_Analysis/data_jupyter/data_et.csv')\n",
    "data_trial = pd.read_csv(r'C:/Users/User/GitHub/WebET_Analysis/data_jupyter/data_trial.csv')\n",
    "data_subject = pd.read_csv(r'C:/Users/User/GitHub/WebET_Analysis/data_jupyter/data_subject.csv')\n",
    "\n",
    "print(pd.DataFrame([[len(data_et)], [len(data_trial)], [len(data_subject)]], \n",
    "                   columns=['length'],\n",
    "                   index=['data_et', 'data_trial', 'data_subject'])\n",
    "     )"
   ]
  },
  {
   "cell_type": "code",
   "execution_count": null,
   "id": "vital-potential",
   "metadata": {},
   "outputs": [],
   "source": [
    "for col in ['Current Country of Residence', 'Nationality', 'employment_status', 'webcam_fps', 'ethnic', 'gender']:\n",
    "    print(pd.crosstab(index=data_subject[col],\n",
    "                      columns=\"count\")\n",
    "         )\n",
    "    print('\\n')"
   ]
  },
  {
   "cell_type": "markdown",
   "id": "unlikely-rover",
   "metadata": {},
   "source": [
    "# Categorical variables"
   ]
  },
  {
   "cell_type": "code",
   "execution_count": null,
   "id": "classical-colonial",
   "metadata": {},
   "outputs": [],
   "source": [
    "def getCountPlots():\n",
    "    fig, ax = plt.subplots(nrows=2, ncols=4, figsize=(18, 12))\n",
    "    fig.suptitle('Count Plots for various categorical predictors', fontsize=20)\n",
    "    ax = ax.ravel()\n",
    "    for i in range(0, 8):\n",
    "        sns.countplot(ax=ax[i], x=predictors[i], data=data_subject)\n",
    "        nobs = data_subject[predictors[i]].value_counts().values\n",
    "        nobs = [str(x) for x in nobs.tolist()]\n",
    "        nobs = [\"n: \" + i for i in nobs]            \n",
    "            \n",
    "predictors = [\n",
    "    'vertPosition', 'gender', 'ethnic',  \n",
    "    'degree', 'Employment Status', 'glasses', 'sight', 'Student Status']  \n",
    "\n",
    "getCountPlots()"
   ]
  },
  {
   "cell_type": "markdown",
   "id": "damaged-cherry",
   "metadata": {},
   "source": [
    "# Age"
   ]
  },
  {
   "cell_type": "code",
   "execution_count": null,
   "id": "strange-discretion",
   "metadata": {},
   "outputs": [],
   "source": [
    "# plt.hist(data_subject['age'], bins=15)"
   ]
  }
 ],
 "metadata": {
  "kernelspec": {
   "display_name": "Python 3",
   "language": "python",
   "name": "python3"
  },
  "language_info": {
   "codemirror_mode": {
    "name": "ipython",
    "version": 3
   },
   "file_extension": ".py",
   "mimetype": "text/x-python",
   "name": "python",
   "nbconvert_exporter": "python",
   "pygments_lexer": "ipython3",
   "version": "3.8.5"
  },
  "toc": {
   "base_numbering": 1,
   "nav_menu": {},
   "number_sections": true,
   "sideBar": true,
   "skip_h1_title": false,
   "title_cell": "Table of Contents",
   "title_sidebar": "Contents",
   "toc_cell": false,
   "toc_position": {},
   "toc_section_display": true,
   "toc_window_display": true
  }
 },
 "nbformat": 4,
 "nbformat_minor": 5
}
