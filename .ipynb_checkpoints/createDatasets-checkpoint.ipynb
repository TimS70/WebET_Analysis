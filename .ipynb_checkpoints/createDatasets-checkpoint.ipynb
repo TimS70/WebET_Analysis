{
 "cells": [
  {
   "cell_type": "code",
   "execution_count": 1,
   "metadata": {},
   "outputs": [],
   "source": [
    "# import sys\n",
    "# !conda install --yes --prefix {sys.prefix} pingouin"
   ]
  },
  {
   "cell_type": "code",
   "execution_count": 2,
   "metadata": {},
   "outputs": [
    {
     "name": "stdout",
     "output_type": "stream",
     "text": [
      "Current Working directory  C:\\Users\\User\\GitHub\\WebET_Analysis\n"
     ]
    }
   ],
   "source": [
    "import datetime\n",
    "import numpy as np\n",
    "import math\n",
    "import os\n",
    "import pandas as pd\n",
    "import pingouin as pg\n",
    "import re\n",
    "import seaborn as sns\n",
    "import json\n",
    "import statsmodels.api as sm \n",
    "import statsmodels.formula.api as smf\n",
    "import statsmodels.graphics.api as smg\n",
    "import sys\n",
    "\n",
    "if sys.version_info[0] < 3: \n",
    "    from StringIO import StringIO\n",
    "else:\n",
    "    from io import StringIO\n",
    "    \n",
    "from IPython.display import HTML\n",
    "def View(df):\n",
    "    css = \"\"\"<style>\n",
    "    table { border-collapse: collapse; border: 3px solid #eee; }\n",
    "    table tr th:first-child { background-color: #eeeeee; color: #333; font-weight: bold }\n",
    "    table thead th { background-color: #eee; color: #000; }\n",
    "    tr, th, td { border: 1px solid #ccc; border-width: 1px 0 0 1px; border-collapse: collapse;\n",
    "    padding: 3px; font-family: monospace; font-size: 10px }</style>\n",
    "    \"\"\"\n",
    "    s  = '<script type=\"text/Javascript\">'\n",
    "    s += 'var win = window.open(\"\", \"Title\", \"toolbar=no, location=no, directories=no, status=no, menubar=no, scrollbars=yes, resizable=yes, width=780, height=200, top=\"+(screen.height-400)+\", left=\"+(screen.width-840));'\n",
    "    s += 'win.document.body.innerHTML = \\'' + (df.to_html() + css).replace(\"\\n\",'\\\\') + '\\';'\n",
    "    s += '</script>'\n",
    "    return(HTML(s+css))    \n",
    "\n",
    "os.chdir(r'C:\\Users\\User\\GitHub\\WebET_Analysis')\n",
    "print(\"Current Working directory \" , os.getcwd())"
   ]
  },
  {
   "cell_type": "code",
   "execution_count": 3,
   "metadata": {},
   "outputs": [],
   "source": [
    "# from IPython.display import HTML\n",
    "\n",
    "# HTML('''<script>\n",
    "# code_show=true; \n",
    "# function code_toggle() {\n",
    "#  if (code_show){\n",
    "#  $('div.input').hide();\n",
    "#  } else {\n",
    "#  $('div.input').show();\n",
    "#  }\n",
    "#  code_show = !code_show\n",
    "# } \n",
    "# $( document ).ready(code_toggle);\n",
    "# </script>\n",
    "# <form action=\"javascript:code_toggle()\"><input type=\"submit\" value=\"Click here to toggle on/off the raw code.\"></form>''')"
   ]
  },
  {
   "cell_type": "markdown",
   "metadata": {},
   "source": [
    "# Raw Data"
   ]
  },
  {
   "cell_type": "markdown",
   "metadata": {},
   "source": [
    "## Search for specific subjects"
   ]
  },
  {
   "cell_type": "code",
   "execution_count": 4,
   "metadata": {},
   "outputs": [],
   "source": [
    "#path = 'data_cognition'\n",
    "#subject_files = os.listdir(path)\n",
    "#for i in range(0, len(subject_files)):\n",
    "#    thisSubject = open(path + \"/\" + subject_files[i]).read()\n",
    "#    if thisSubject.find('5c0e4e3d87e876000151cfec') > (-1):\n",
    "#        print(subject_files[i])"
   ]
  },
  {
   "cell_type": "markdown",
   "metadata": {},
   "source": [
    "## Read CSV from String"
   ]
  },
  {
   "cell_type": "code",
   "execution_count": 5,
   "metadata": {},
   "outputs": [
    {
     "data": {
      "text/plain": [
       "array([1, 103, 105, 106, 108, 11, 117, 12, 121, 124, 125, 126, 128, 13,\n",
       "       130, 131, 14, 19, 24, 25, 28, 3, 30, 32, 36, 37, 38, 4, 41, 42, 43,\n",
       "       45, 47, 48, 49, 5, 50, 51, 54, 56, 57, 58, 59, 6, 61, 63, 66, 67,\n",
       "       7, 70, 72, 74, 75, 80, 81, 83, 85, 88, 9, 90, 91, 92, 93, 94, 96,\n",
       "       97, 98, 99], dtype=object)"
      ]
     },
     "execution_count": 5,
     "metadata": {},
     "output_type": "execute_result"
    }
   ],
   "source": [
    "def clean_html(raw_html):\n",
    "    # https://stackoverflow.com/questions/9662346/python-code-to-remove-html-tags-from-a-string\n",
    "    cleanr = re.compile('<.*?>')\n",
    "    cleanText = re.sub(cleanr, '', raw_html)\n",
    "    return cleanText\n",
    "\n",
    "def clean_et_text(text):\n",
    "    textWithinBrackets = re.findall(re.compile('\\[.*?\\]'), text)\n",
    "    output = text\n",
    "    for i in range(0,len(textWithinBrackets)):\n",
    "        old = textWithinBrackets[i]\n",
    "        new = re.sub(\",\", \"$\", old)\n",
    "        output = output.replace(old, new)\n",
    "    return output\n",
    "\n",
    "def cleanSurveyText(text):\n",
    "    output = text\n",
    "    textWithinBrackets = re.findall(re.compile('\\{.*?\\}'), text)\n",
    "    for i in range(0,len(textWithinBrackets)):\n",
    "        old = textWithinBrackets[i]\n",
    "        new = old.replace(',', '§')\n",
    "        output = output.replace(old, new)\n",
    "    return output\n",
    "\n",
    "def compileData(path):\n",
    "    subject_files = os.listdir(path)\n",
    "    all_subjects = []\n",
    "    for i in range(0, len(subject_files)):\n",
    "        csv_thisSubject = open(path + \"/\" + subject_files[i]).read()\n",
    "        csv_thisSubject = clean_html(csv_thisSubject)\n",
    "        csv_thisSubject = clean_et_text(csv_thisSubject)\n",
    "        csv_thisSubject = cleanSurveyText(csv_thisSubject)\n",
    "        all_subjects.append(pd.read_csv(StringIO(csv_thisSubject)))\n",
    "    output = pd.concat(all_subjects).reset_index(drop=True)\n",
    "    return output\n",
    "\n",
    "data_raw = compileData(\"data_prolific\")\n",
    "\n",
    "# Custom modifications\n",
    "data_raw['run_id'].unique()"
   ]
  },
  {
   "cell_type": "code",
   "execution_count": 6,
   "metadata": {},
   "outputs": [
    {
     "name": "stdout",
     "output_type": "stream",
     "text": [
      "[1000 1001 1011 1013 1014 1015 1016 1017 1019 1002 1020 1021 1003 1007\n",
      " 1008 1009 1022 1024]\n"
     ]
    }
   ],
   "source": [
    "data_yang = compileData(\"data_yang2020WG\")\n",
    "# Custom modifications\n",
    "data_yang.loc[0:515, 'run_id'] = 0\n",
    "data_yang = data_yang.loc[~data_yang['run_id'].isin([4, 18]), :]\n",
    "data_yang = data_yang.rename(columns={'eyeData': 'et_data'})\n",
    "data_yang['run_id'] = data_yang['run_id'] + 1000\n",
    "print(data_yang['run_id'].unique())\n",
    "data_raw = data_raw.append(data_yang.reset_index(drop=True))"
   ]
  },
  {
   "cell_type": "code",
   "execution_count": 7,
   "metadata": {},
   "outputs": [
    {
     "name": "stdout",
     "output_type": "stream",
     "text": [
      "[2011 2012 2013 2002 2008 2009]\n"
     ]
    }
   ],
   "source": [
    "data_milieu = compileData(\"data_milieu\")\n",
    "data_milieu['run_id'] = data_milieu['run_id'] + 2000\n",
    "print(data_milieu['run_id'].unique())\n",
    "data_raw = data_raw.append(data_milieu.reset_index(drop=True))"
   ]
  },
  {
   "cell_type": "markdown",
   "metadata": {},
   "source": [
    "### Exclude empty studies"
   ]
  },
  {
   "cell_type": "code",
   "execution_count": 8,
   "metadata": {},
   "outputs": [],
   "source": [
    "data_raw = data_raw.loc[data_raw['trial_index']>0, :]"
   ]
  },
  {
   "cell_type": "markdown",
   "metadata": {},
   "source": [
    "### survey data"
   ]
  },
  {
   "cell_type": "code",
   "execution_count": 9,
   "metadata": {},
   "outputs": [
    {
     "name": "stdout",
     "output_type": "stream",
     "text": [
      "[1 103 106 108 11 12 124 125 126 128 13 130 131 14 19 24 25 28 30 32 36 37\n",
      " 38 4 41 42 43 45 47 48 49 5 54 56 58 59 6 61 63 66 67 7 70 72 74 75 80 81\n",
      " 83 85 88 9 90 91 92 93 94 96 97 98 99 1000 1001 1011 1014 1015 1016 1017\n",
      " 1019 1002 1020 1021 1003 1007 1008 1009 1022 1024 2011 2012 2013 2002\n",
      " 2008 2009]\n",
      "Index(['run_id', 'condition', 'rt', 'stimulus', 'key_press', 'trial_type',\n",
      "       'trial_index', 'time_elapsed', 'internal_node_id', 'subject',\n",
      "       'chinFirst', 'choiceTask_amountLeftFirst', 'webcam_label', 'webcam_fps',\n",
      "       'webcam_height', 'webcam_width', 'button_pressed', 'window_width',\n",
      "       'window_height', 'chin', 'success', 'x_pos', 'y_pos', 'task_nr',\n",
      "       'et_data', 'trial_duration', 'option_topLeft', 'option_bottomLeft',\n",
      "       'option_topRight', 'option_bottomRight', 'recorded_at', 'ip',\n",
      "       'user_agent', 'device', 'browser', 'browser_version', 'platform',\n",
      "       'platform_version', 'Unnamed: 2', 'chosenAmount', 'chosenDelay',\n",
      "       'webcam_Id', 'webcam_aspectRatio', 'fbclid', 'bonusAmount',\n",
      "       'bonusDelay', 'prolificID', 'age', 'gender', 'ethnic', 'sight',\n",
      "       'glasses', 'degree', 'eyeshadow', 'masquara', 'eyeliner', 'browliner',\n",
      "       'vertPosition', 'triedChin', 'keptHead', 'optionalNote'],\n",
      "      dtype='object')\n"
     ]
    }
   ],
   "source": [
    "def cleanOptionalNote(text):\n",
    "    optionalNoteText = re.findall(re.compile('optionalNote\":.*?\\}'), text)\n",
    "    if len(optionalNoteText) < 1:\n",
    "        output = text\n",
    "    else:\n",
    "        old = optionalNoteText[0]\n",
    "        new = old.replace('§', ' ')\n",
    "        output = text.replace(old, new)\n",
    "    return output\n",
    "\n",
    "\n",
    "def surveyStringToFrame(subject, string):\n",
    "    string = cleanOptionalNote(string)\n",
    "    string = re.sub(\"\"\"{\"\"\", '', string)\n",
    "    string = re.sub(\"\"\"}\"\"\", '', string)\n",
    "    string = re.sub('\"', '', string)\n",
    "    string = re.sub('§', '$', string)\n",
    "    output = pd.read_csv(StringIO(string),\n",
    "                         sep=\":\",\n",
    "                         lineterminator=\"$\",\n",
    "                         header=None,\n",
    "                         index_col=0\n",
    "                         ).transpose()\n",
    "    return output\n",
    "\n",
    "\n",
    "def surveyData_thisSubject(data):\n",
    "    df_thisSubject = data.loc[\n",
    "        (pd.notna(data[\"responses\"])) &\n",
    "        (data[\"responses\"] != '\"'), :].reset_index()\n",
    "    subject = df_thisSubject['run_id'].unique()[0]\n",
    "    output = []\n",
    "    for i in range(0, len(df_thisSubject)):\n",
    "        output.append(\n",
    "            surveyStringToFrame(subject,\n",
    "                                df_thisSubject.loc[i, 'responses'])\n",
    "        )\n",
    "\n",
    "    output = pd.concat(output, axis=1)\n",
    "    output['run_id'] = subject\n",
    "    return output\n",
    "\n",
    "def addSurveyData(data):\n",
    "    surveyData_allSubjects = pd.DataFrame(columns=[\n",
    "            'prolificID', 'age', 'gender', 'ethnic', 'sight', \n",
    "            'glasses', 'degree', 'eyeshadow', 'masquara', 'eyeliner', \n",
    "            'browliner', 'vertPosition', 'triedChin', 'keptHead', \n",
    "            'optionalNote', 'run_id'])\n",
    "\n",
    "    for subject in data['run_id'].unique():\n",
    "        surveyData_allSubjects = \\\n",
    "            surveyData_allSubjects.append(\n",
    "                surveyData_thisSubject(\n",
    "                    data.loc[data['run_id']==subject, ['run_id', 'responses']]\n",
    "                )\n",
    "            )\n",
    "    # print(surveyData_allSubjects)\n",
    "    \n",
    "    data = data.merge(surveyData_allSubjects, on='run_id', how='left')\n",
    "    data = data.drop(columns='responses')\n",
    "    return(data)\n",
    "    \n",
    "data_raw = addSurveyData(data_raw)\n",
    "print(data_raw['run_id'].unique())\n",
    "print(data_raw.columns)"
   ]
  },
  {
   "cell_type": "code",
   "execution_count": 10,
   "metadata": {
    "scrolled": false
   },
   "outputs": [
    {
     "data": {
      "text/plain": [
       "array([1, 103, 106, 108, 11, 12, 124, 125, 126, 128, 13, 130, 131, 14, 19,\n",
       "       24, 25, 28, 30, 32, 36, 37, 38, 4, 41, 42, 43, 45, 47, 48, 49, 5,\n",
       "       54, 56, 58, 59, 6, 61, 63, 66, 67, 7, 70, 72, 74, 75, 80, 81, 83,\n",
       "       85, 88, 9, 90, 91, 92, 93, 94, 96, 97, 98, 99, 1000, 1001, 1011,\n",
       "       1014, 1015, 1016, 1017, 1019, 1002, 1020, 1021, 1003, 1007, 1008,\n",
       "       1009, 1022, 1024, 2011, 2012, 2013, 2002, 2008, 2009], dtype=object)"
      ]
     },
     "execution_count": 10,
     "metadata": {},
     "output_type": "execute_result"
    }
   ],
   "source": [
    "def convertToNumeric(data, columns):\n",
    "    data[columns] = data[columns].apply(pd.to_numeric, errors='coerce')\n",
    "    return data\n",
    "\n",
    "\n",
    "data_raw = convertToNumeric(data_raw, ['age'])\n",
    "data_raw['degree'] = data_raw['degree'].replace(\n",
    "        [\n",
    "            'College / Undergraduate / Bachelor',\n",
    "            'High School',\n",
    "            'Graduate / PhD / Master',\n",
    "            'Middle School'\n",
    "        ],\n",
    "    [\n",
    "            'college',\n",
    "            'highSchool',\n",
    "            'grad',\n",
    "            'middle'\n",
    "        ]\n",
    ")\n",
    "\n",
    "columns = [\n",
    "            'chinFirst',\n",
    "            'eyeshadow', \n",
    "            'masquara',\n",
    "            'eyeliner',\n",
    "            'browliner',\n",
    "            'triedChin', \n",
    "            'keptHead',\n",
    "        ]\n",
    "\n",
    "data_raw[columns] = data_raw[columns].replace({'no': 0, 'yes': 1}) \n",
    "\n",
    "data_raw['run_id'].unique()"
   ]
  },
  {
   "cell_type": "markdown",
   "metadata": {},
   "source": [
    "# data_trial"
   ]
  },
  {
   "cell_type": "code",
   "execution_count": 11,
   "metadata": {},
   "outputs": [],
   "source": [
    "data_trial = data_raw.loc[\n",
    "    :,\n",
    "    [\n",
    "        'run_id', 'subject', 'prolificID', 'chinFirst', \n",
    "        'trial_index',\n",
    "        'trial_type', 'task_nr', \n",
    "        'rt', 'stimulus', 'key_press', \n",
    "        'time_elapsed', 'trial_duration', 'recorded_at',\n",
    "        'window_width', 'window_height', 'success', \n",
    "\n",
    "        'chin', 'x_pos', 'y_pos', \n",
    "        \n",
    "        'choiceTask_amountLeftFirst', \n",
    "        'option_topLeft', 'option_bottomLeft',\n",
    "        'option_topRight', 'option_bottomRight', \n",
    "        'chosenAmount', 'chosenDelay',\n",
    "    ]\n",
    "]"
   ]
  },
  {
   "cell_type": "markdown",
   "metadata": {},
   "source": [
    "## Clean"
   ]
  },
  {
   "cell_type": "markdown",
   "metadata": {},
   "source": [
    "### Failed Webgazer Setup"
   ]
  },
  {
   "cell_type": "code",
   "execution_count": 12,
   "metadata": {},
   "outputs": [
    {
     "data": {
      "text/html": [
       "<div>\n",
       "<style scoped>\n",
       "    .dataframe tbody tr th:only-of-type {\n",
       "        vertical-align: middle;\n",
       "    }\n",
       "\n",
       "    .dataframe tbody tr th {\n",
       "        vertical-align: top;\n",
       "    }\n",
       "\n",
       "    .dataframe thead th {\n",
       "        text-align: right;\n",
       "    }\n",
       "</style>\n",
       "<table border=\"1\" class=\"dataframe\">\n",
       "  <thead>\n",
       "    <tr style=\"text-align: right;\">\n",
       "      <th></th>\n",
       "      <th>run_id</th>\n",
       "      <th>prolificID</th>\n",
       "    </tr>\n",
       "  </thead>\n",
       "  <tbody>\n",
       "    <tr>\n",
       "      <th>1036</th>\n",
       "      <td>106</td>\n",
       "      <td>5d485e8415055400194b707f</td>\n",
       "    </tr>\n",
       "    <tr>\n",
       "      <th>1038</th>\n",
       "      <td>108</td>\n",
       "      <td>55b237e6fdf99b19ea79d2f7</td>\n",
       "    </tr>\n",
       "    <tr>\n",
       "      <th>2079</th>\n",
       "      <td>124</td>\n",
       "      <td>56b7a271e77ebe000bbeff49</td>\n",
       "    </tr>\n",
       "    <tr>\n",
       "      <th>4684</th>\n",
       "      <td>14</td>\n",
       "      <td>5ec2cdfd1a17930ddf6f1443</td>\n",
       "    </tr>\n",
       "    <tr>\n",
       "      <th>12984</th>\n",
       "      <td>49</td>\n",
       "      <td>5ecfc227f036c902457fc44c</td>\n",
       "    </tr>\n",
       "    <tr>\n",
       "      <th>13507</th>\n",
       "      <td>54</td>\n",
       "      <td>5f94d146f65f56336a61cc16</td>\n",
       "    </tr>\n",
       "    <tr>\n",
       "      <th>18338</th>\n",
       "      <td>72</td>\n",
       "      <td>600324757b530e39903effc0</td>\n",
       "    </tr>\n",
       "    <tr>\n",
       "      <th>20414</th>\n",
       "      <td>83</td>\n",
       "      <td>600324757b530e39903effc0</td>\n",
       "    </tr>\n",
       "    <tr>\n",
       "      <th>20935</th>\n",
       "      <td>88</td>\n",
       "      <td>5ecfc227f036c902457fc44c</td>\n",
       "    </tr>\n",
       "    <tr>\n",
       "      <th>25608</th>\n",
       "      <td>99</td>\n",
       "      <td>55b237e6fdf99b19ea79d2f</td>\n",
       "    </tr>\n",
       "    <tr>\n",
       "      <th>26126</th>\n",
       "      <td>1001</td>\n",
       "      <td>0</td>\n",
       "    </tr>\n",
       "    <tr>\n",
       "      <th>26652</th>\n",
       "      <td>1014</td>\n",
       "      <td>LP2202</td>\n",
       "    </tr>\n",
       "    <tr>\n",
       "      <th>26663</th>\n",
       "      <td>1015</td>\n",
       "      <td>LP22022</td>\n",
       "    </tr>\n",
       "    <tr>\n",
       "      <th>26669</th>\n",
       "      <td>1016</td>\n",
       "      <td>L345</td>\n",
       "    </tr>\n",
       "    <tr>\n",
       "      <th>26675</th>\n",
       "      <td>1017</td>\n",
       "      <td>L345</td>\n",
       "    </tr>\n",
       "    <tr>\n",
       "      <th>26677</th>\n",
       "      <td>1019</td>\n",
       "      <td>Liv2020</td>\n",
       "    </tr>\n",
       "    <tr>\n",
       "      <th>26687</th>\n",
       "      <td>1002</td>\n",
       "      <td>0</td>\n",
       "    </tr>\n",
       "    <tr>\n",
       "      <th>26697</th>\n",
       "      <td>1020</td>\n",
       "      <td>2020Liv</td>\n",
       "    </tr>\n",
       "    <tr>\n",
       "      <th>27738</th>\n",
       "      <td>1007</td>\n",
       "      <td>Ka61Kl61</td>\n",
       "    </tr>\n",
       "    <tr>\n",
       "      <th>28265</th>\n",
       "      <td>1009</td>\n",
       "      <td>ka1501</td>\n",
       "    </tr>\n",
       "    <tr>\n",
       "      <th>28277</th>\n",
       "      <td>1022</td>\n",
       "      <td>Studie1970</td>\n",
       "    </tr>\n",
       "    <tr>\n",
       "      <th>28283</th>\n",
       "      <td>1024</td>\n",
       "      <td>Studie1970</td>\n",
       "    </tr>\n",
       "  </tbody>\n",
       "</table>\n",
       "</div>"
      ],
      "text/plain": [
       "      run_id                prolificID\n",
       "1036     106  5d485e8415055400194b707f\n",
       "1038     108  55b237e6fdf99b19ea79d2f7\n",
       "2079     124  56b7a271e77ebe000bbeff49\n",
       "4684      14  5ec2cdfd1a17930ddf6f1443\n",
       "12984     49  5ecfc227f036c902457fc44c\n",
       "13507     54  5f94d146f65f56336a61cc16\n",
       "18338     72  600324757b530e39903effc0\n",
       "20414     83  600324757b530e39903effc0\n",
       "20935     88  5ecfc227f036c902457fc44c\n",
       "25608     99   55b237e6fdf99b19ea79d2f\n",
       "26126   1001                         0\n",
       "26652   1014                    LP2202\n",
       "26663   1015                   LP22022\n",
       "26669   1016                      L345\n",
       "26675   1017                      L345\n",
       "26677   1019                   Liv2020\n",
       "26687   1002                         0\n",
       "26697   1020                   2020Liv\n",
       "27738   1007                  Ka61Kl61\n",
       "28265   1009                    ka1501\n",
       "28277   1022                Studie1970\n",
       "28283   1024                Studie1970"
      ]
     },
     "execution_count": 12,
     "metadata": {},
     "output_type": "execute_result"
    }
   ],
   "source": [
    "subjects_failedSetups = []\n",
    "for subject in data_trial['run_id'].unique():\n",
    "    maxTrialIndex = data_trial.loc[data_raw['run_id']==subject, ['trial_index']].max()\n",
    "    if int(maxTrialIndex) < 15:\n",
    "        subjects_failedSetups.append(subject)\n",
    "\n",
    "data_trial.loc[data_trial['run_id'].isin(subjects_failedSetups), \n",
    "    [\n",
    "        'run_id', 'prolificID'\n",
    "    ]\n",
    "].drop_duplicates()    "
   ]
  },
  {
   "cell_type": "code",
   "execution_count": 13,
   "metadata": {},
   "outputs": [
    {
     "name": "stdout",
     "output_type": "stream",
     "text": [
      "[1 103 11 12 125 126 128 13 130 131 19 24 25 28 30 32 36 37 38 4 41 42 43\n",
      " 45 47 48 5 56 58 59 6 61 63 66 67 7 70 74 75 80 81 85 9 90 91 92 93 94 96\n",
      " 97 98 1000 1011 1021 1003 1008 2011 2012 2013 2002 2008 2009]\n"
     ]
    }
   ],
   "source": [
    "data_trial = data_trial.loc[~data_trial['run_id'].isin(subjects_failedSetups), :]\n",
    "print(data_trial['run_id'].unique())"
   ]
  },
  {
   "cell_type": "markdown",
   "metadata": {},
   "source": [
    "### Duplicate Prolific ID's"
   ]
  },
  {
   "cell_type": "code",
   "execution_count": 24,
   "metadata": {},
   "outputs": [
    {
     "name": "stdout",
     "output_type": "stream",
     "text": [
      "Success: No duplicate subjects found\n"
     ]
    }
   ],
   "source": [
    "data_trial.loc[data_trial['run_id']==2002, 'prolificID'] = 'Tim2'\n",
    "\n",
    "duplicates = data_trial.loc[:, ['prolificID', 'trial_index']].duplicated()\n",
    "duplicateSubjects = data_trial.loc[duplicates, ['run_id', 'prolificID', 'trial_index']]\n",
    "\n",
    "if len(duplicateSubjects) > 0:\n",
    "    print('! Attention: Duplicate subjects: Check out the following: \\n')\n",
    "    print(duplicateSubjects)\n",
    "else:\n",
    "    print('Success: No duplicate subjects found')"
   ]
  },
  {
   "cell_type": "markdown",
   "metadata": {},
   "source": [
    "### Choice data"
   ]
  },
  {
   "cell_type": "code",
   "execution_count": 25,
   "metadata": {},
   "outputs": [
    {
     "ename": "TypeError",
     "evalue": "Cannot compare types 'ndarray(dtype=float64)' and 'str'",
     "output_type": "error",
     "traceback": [
      "\u001b[1;31m---------------------------------------------------------------------------\u001b[0m",
      "\u001b[1;31mTypeError\u001b[0m                                 Traceback (most recent call last)",
      "\u001b[1;32m<ipython-input-25-c140992300fd>\u001b[0m in \u001b[0;36m<module>\u001b[1;34m\u001b[0m\n\u001b[0;32m     19\u001b[0m        ] \n\u001b[0;32m     20\u001b[0m     \u001b[1;33m]\u001b[0m\u001b[1;33m.\u001b[0m\u001b[0mreplace\u001b[0m\u001b[1;33m(\u001b[0m\u001b[1;33m[\u001b[0m\u001b[1;34m'Today'\u001b[0m\u001b[1;33m,\u001b[0m \u001b[1;34m'Tomorrow'\u001b[0m\u001b[1;33m,\u001b[0m \u001b[1;34m'7 days'\u001b[0m\u001b[1;33m,\u001b[0m \u001b[1;34m'15 days'\u001b[0m\u001b[1;33m,\u001b[0m \u001b[1;34m'30 days'\u001b[0m\u001b[1;33m,\u001b[0m \u001b[1;34m'90 days'\u001b[0m\u001b[1;33m,\u001b[0m \u001b[1;34m'180 days'\u001b[0m\u001b[1;33m]\u001b[0m\u001b[1;33m,\u001b[0m\u001b[1;33m\u001b[0m\u001b[1;33m\u001b[0m\u001b[0m\n\u001b[1;32m---> 21\u001b[1;33m              [0, 1, 7, 15, 30, 90, 180]) \\\n\u001b[0m\u001b[0;32m     22\u001b[0m     \u001b[1;33m.\u001b[0m\u001b[0mreplace\u001b[0m\u001b[1;33m(\u001b[0m\u001b[1;33m{\u001b[0m\u001b[1;34m'\\$'\u001b[0m\u001b[1;33m:\u001b[0m\u001b[1;34m''\u001b[0m\u001b[1;33m}\u001b[0m\u001b[1;33m,\u001b[0m \u001b[0mregex\u001b[0m \u001b[1;33m=\u001b[0m \u001b[1;32mTrue\u001b[0m\u001b[1;33m)\u001b[0m\u001b[0;31m \u001b[0m\u001b[0;31m\\\u001b[0m\u001b[1;33m\u001b[0m\u001b[1;33m\u001b[0m\u001b[0m\n\u001b[0;32m     23\u001b[0m     \u001b[1;33m.\u001b[0m\u001b[0mreplace\u001b[0m\u001b[1;33m(\u001b[0m\u001b[1;34m'50 cent'\u001b[0m\u001b[1;33m,\u001b[0m \u001b[1;36m0.5\u001b[0m\u001b[1;33m)\u001b[0m\u001b[1;33m\u001b[0m\u001b[1;33m\u001b[0m\u001b[0m\n",
      "\u001b[1;32m~\\Anaconda3\\lib\\site-packages\\pandas\\core\\frame.py\u001b[0m in \u001b[0;36mreplace\u001b[1;34m(self, to_replace, value, inplace, limit, regex, method)\u001b[0m\n\u001b[0;32m   4170\u001b[0m             \u001b[0mlimit\u001b[0m\u001b[1;33m=\u001b[0m\u001b[0mlimit\u001b[0m\u001b[1;33m,\u001b[0m\u001b[1;33m\u001b[0m\u001b[1;33m\u001b[0m\u001b[0m\n\u001b[0;32m   4171\u001b[0m             \u001b[0mregex\u001b[0m\u001b[1;33m=\u001b[0m\u001b[0mregex\u001b[0m\u001b[1;33m,\u001b[0m\u001b[1;33m\u001b[0m\u001b[1;33m\u001b[0m\u001b[0m\n\u001b[1;32m-> 4172\u001b[1;33m             \u001b[0mmethod\u001b[0m\u001b[1;33m=\u001b[0m\u001b[0mmethod\u001b[0m\u001b[1;33m,\u001b[0m\u001b[1;33m\u001b[0m\u001b[1;33m\u001b[0m\u001b[0m\n\u001b[0m\u001b[0;32m   4173\u001b[0m         )\n\u001b[0;32m   4174\u001b[0m \u001b[1;33m\u001b[0m\u001b[0m\n",
      "\u001b[1;32m~\\Anaconda3\\lib\\site-packages\\pandas\\core\\generic.py\u001b[0m in \u001b[0;36mreplace\u001b[1;34m(self, to_replace, value, inplace, limit, regex, method)\u001b[0m\n\u001b[0;32m   6697\u001b[0m                         \u001b[0mdest_list\u001b[0m\u001b[1;33m=\u001b[0m\u001b[0mvalue\u001b[0m\u001b[1;33m,\u001b[0m\u001b[1;33m\u001b[0m\u001b[1;33m\u001b[0m\u001b[0m\n\u001b[0;32m   6698\u001b[0m                         \u001b[0minplace\u001b[0m\u001b[1;33m=\u001b[0m\u001b[0minplace\u001b[0m\u001b[1;33m,\u001b[0m\u001b[1;33m\u001b[0m\u001b[1;33m\u001b[0m\u001b[0m\n\u001b[1;32m-> 6699\u001b[1;33m                         \u001b[0mregex\u001b[0m\u001b[1;33m=\u001b[0m\u001b[0mregex\u001b[0m\u001b[1;33m,\u001b[0m\u001b[1;33m\u001b[0m\u001b[1;33m\u001b[0m\u001b[0m\n\u001b[0m\u001b[0;32m   6700\u001b[0m                     )\n\u001b[0;32m   6701\u001b[0m \u001b[1;33m\u001b[0m\u001b[0m\n",
      "\u001b[1;32m~\\Anaconda3\\lib\\site-packages\\pandas\\core\\internals\\managers.py\u001b[0m in \u001b[0;36mreplace_list\u001b[1;34m(self, src_list, dest_list, inplace, regex)\u001b[0m\n\u001b[0;32m    611\u001b[0m             \u001b[1;32mreturn\u001b[0m \u001b[0m_compare_or_regex_search\u001b[0m\u001b[1;33m(\u001b[0m\u001b[0mvalues\u001b[0m\u001b[1;33m,\u001b[0m \u001b[0ms\u001b[0m\u001b[1;33m,\u001b[0m \u001b[0mregex\u001b[0m\u001b[1;33m)\u001b[0m\u001b[1;33m\u001b[0m\u001b[1;33m\u001b[0m\u001b[0m\n\u001b[0;32m    612\u001b[0m \u001b[1;33m\u001b[0m\u001b[0m\n\u001b[1;32m--> 613\u001b[1;33m         \u001b[0mmasks\u001b[0m \u001b[1;33m=\u001b[0m \u001b[1;33m[\u001b[0m\u001b[0mcomp\u001b[0m\u001b[1;33m(\u001b[0m\u001b[0ms\u001b[0m\u001b[1;33m,\u001b[0m \u001b[0mregex\u001b[0m\u001b[1;33m)\u001b[0m \u001b[1;32mfor\u001b[0m \u001b[0mi\u001b[0m\u001b[1;33m,\u001b[0m \u001b[0ms\u001b[0m \u001b[1;32min\u001b[0m \u001b[0menumerate\u001b[0m\u001b[1;33m(\u001b[0m\u001b[0msrc_list\u001b[0m\u001b[1;33m)\u001b[0m\u001b[1;33m]\u001b[0m\u001b[1;33m\u001b[0m\u001b[1;33m\u001b[0m\u001b[0m\n\u001b[0m\u001b[0;32m    614\u001b[0m \u001b[1;33m\u001b[0m\u001b[0m\n\u001b[0;32m    615\u001b[0m         \u001b[0mresult_blocks\u001b[0m \u001b[1;33m=\u001b[0m \u001b[1;33m[\u001b[0m\u001b[1;33m]\u001b[0m\u001b[1;33m\u001b[0m\u001b[1;33m\u001b[0m\u001b[0m\n",
      "\u001b[1;32m~\\Anaconda3\\lib\\site-packages\\pandas\\core\\internals\\managers.py\u001b[0m in \u001b[0;36m<listcomp>\u001b[1;34m(.0)\u001b[0m\n\u001b[0;32m    611\u001b[0m             \u001b[1;32mreturn\u001b[0m \u001b[0m_compare_or_regex_search\u001b[0m\u001b[1;33m(\u001b[0m\u001b[0mvalues\u001b[0m\u001b[1;33m,\u001b[0m \u001b[0ms\u001b[0m\u001b[1;33m,\u001b[0m \u001b[0mregex\u001b[0m\u001b[1;33m)\u001b[0m\u001b[1;33m\u001b[0m\u001b[1;33m\u001b[0m\u001b[0m\n\u001b[0;32m    612\u001b[0m \u001b[1;33m\u001b[0m\u001b[0m\n\u001b[1;32m--> 613\u001b[1;33m         \u001b[0mmasks\u001b[0m \u001b[1;33m=\u001b[0m \u001b[1;33m[\u001b[0m\u001b[0mcomp\u001b[0m\u001b[1;33m(\u001b[0m\u001b[0ms\u001b[0m\u001b[1;33m,\u001b[0m \u001b[0mregex\u001b[0m\u001b[1;33m)\u001b[0m \u001b[1;32mfor\u001b[0m \u001b[0mi\u001b[0m\u001b[1;33m,\u001b[0m \u001b[0ms\u001b[0m \u001b[1;32min\u001b[0m \u001b[0menumerate\u001b[0m\u001b[1;33m(\u001b[0m\u001b[0msrc_list\u001b[0m\u001b[1;33m)\u001b[0m\u001b[1;33m]\u001b[0m\u001b[1;33m\u001b[0m\u001b[1;33m\u001b[0m\u001b[0m\n\u001b[0m\u001b[0;32m    614\u001b[0m \u001b[1;33m\u001b[0m\u001b[0m\n\u001b[0;32m    615\u001b[0m         \u001b[0mresult_blocks\u001b[0m \u001b[1;33m=\u001b[0m \u001b[1;33m[\u001b[0m\u001b[1;33m]\u001b[0m\u001b[1;33m\u001b[0m\u001b[1;33m\u001b[0m\u001b[0m\n",
      "\u001b[1;32m~\\Anaconda3\\lib\\site-packages\\pandas\\core\\internals\\managers.py\u001b[0m in \u001b[0;36mcomp\u001b[1;34m(s, regex)\u001b[0m\n\u001b[0;32m    609\u001b[0m                     \u001b[0mmaybe_convert_objects\u001b[0m\u001b[1;33m(\u001b[0m\u001b[0mvalues\u001b[0m\u001b[1;33m)\u001b[0m\u001b[1;33m,\u001b[0m \u001b[0ms\u001b[0m\u001b[1;33m.\u001b[0m\u001b[0masm8\u001b[0m\u001b[1;33m,\u001b[0m \u001b[0mregex\u001b[0m\u001b[1;33m\u001b[0m\u001b[1;33m\u001b[0m\u001b[0m\n\u001b[0;32m    610\u001b[0m                 )\n\u001b[1;32m--> 611\u001b[1;33m             \u001b[1;32mreturn\u001b[0m \u001b[0m_compare_or_regex_search\u001b[0m\u001b[1;33m(\u001b[0m\u001b[0mvalues\u001b[0m\u001b[1;33m,\u001b[0m \u001b[0ms\u001b[0m\u001b[1;33m,\u001b[0m \u001b[0mregex\u001b[0m\u001b[1;33m)\u001b[0m\u001b[1;33m\u001b[0m\u001b[1;33m\u001b[0m\u001b[0m\n\u001b[0m\u001b[0;32m    612\u001b[0m \u001b[1;33m\u001b[0m\u001b[0m\n\u001b[0;32m    613\u001b[0m         \u001b[0mmasks\u001b[0m \u001b[1;33m=\u001b[0m \u001b[1;33m[\u001b[0m\u001b[0mcomp\u001b[0m\u001b[1;33m(\u001b[0m\u001b[0ms\u001b[0m\u001b[1;33m,\u001b[0m \u001b[0mregex\u001b[0m\u001b[1;33m)\u001b[0m \u001b[1;32mfor\u001b[0m \u001b[0mi\u001b[0m\u001b[1;33m,\u001b[0m \u001b[0ms\u001b[0m \u001b[1;32min\u001b[0m \u001b[0menumerate\u001b[0m\u001b[1;33m(\u001b[0m\u001b[0msrc_list\u001b[0m\u001b[1;33m)\u001b[0m\u001b[1;33m]\u001b[0m\u001b[1;33m\u001b[0m\u001b[1;33m\u001b[0m\u001b[0m\n",
      "\u001b[1;32m~\\Anaconda3\\lib\\site-packages\\pandas\\core\\internals\\managers.py\u001b[0m in \u001b[0;36m_compare_or_regex_search\u001b[1;34m(a, b, regex)\u001b[0m\n\u001b[0;32m   1934\u001b[0m \u001b[1;33m\u001b[0m\u001b[0m\n\u001b[0;32m   1935\u001b[0m         raise TypeError(\n\u001b[1;32m-> 1936\u001b[1;33m             \u001b[1;34mf\"Cannot compare types {repr(type_names[0])} and {repr(type_names[1])}\"\u001b[0m\u001b[1;33m\u001b[0m\u001b[1;33m\u001b[0m\u001b[0m\n\u001b[0m\u001b[0;32m   1937\u001b[0m         )\n\u001b[0;32m   1938\u001b[0m     \u001b[1;32mreturn\u001b[0m \u001b[0mresult\u001b[0m\u001b[1;33m\u001b[0m\u001b[1;33m\u001b[0m\u001b[0m\n",
      "\u001b[1;31mTypeError\u001b[0m: Cannot compare types 'ndarray(dtype=float64)' and 'str'"
     ]
    }
   ],
   "source": [
    "# Cleaning\n",
    "data_trial.loc[: , \n",
    "       [\n",
    "           'option_topLeft',\n",
    "           'option_bottomLeft', \n",
    "           'option_topRight', \n",
    "           'option_bottomRight', \n",
    "           'chosenAmount', \n",
    "           'chosenDelay'\n",
    "       ] \n",
    "    ] = data_trial.loc[:, \n",
    "       [\n",
    "           'option_topLeft',\n",
    "           'option_bottomLeft', \n",
    "           'option_topRight', \n",
    "           'option_bottomRight', \n",
    "           'chosenAmount', \n",
    "           'chosenDelay'\n",
    "       ] \n",
    "    ].replace(['Today', 'Tomorrow', '7 days', '15 days', '30 days', '90 days', '180 days'], \n",
    "             [0, 1, 7, 15, 30, 90, 180]) \\\n",
    "    .replace({'\\$':''}, regex = True) \\\n",
    "    .replace('50 cent', 0.5) "
   ]
  },
  {
   "cell_type": "markdown",
   "metadata": {},
   "source": [
    "### Numerics"
   ]
  },
  {
   "cell_type": "code",
   "execution_count": null,
   "metadata": {},
   "outputs": [],
   "source": [
    "data_trial = convertToNumeric(data_trial, \n",
    "    [\n",
    "        'run_id', 'subject', 'chinFirst', 'chin', 'task_nr', 'trial_index', # Int\n",
    "        'key_press', \n",
    "        'x_pos', 'y_pos', 'time_elapsed', 'trial_duration',\n",
    "        'rt',\n",
    "        'window_width', 'window_height', \n",
    "        'option_topLeft',\n",
    "        'option_bottomLeft', \n",
    "        'option_topRight', \n",
    "        'option_bottomRight', \n",
    "        'chosenAmount', \n",
    "        'chosenDelay'\n",
    "    ]\n",
    ")"
   ]
  },
  {
   "cell_type": "markdown",
   "metadata": {},
   "source": [
    "# data_et"
   ]
  },
  {
   "cell_type": "markdown",
   "metadata": {},
   "source": [
    "## Compile"
   ]
  },
  {
   "cell_type": "code",
   "execution_count": null,
   "metadata": {},
   "outputs": [],
   "source": [
    "def reformatYang(text):\n",
    "    text = text.replace('$', ',')\n",
    "    text = text.replace(\"relative-x\", \"x\")\n",
    "    text = text.replace(\"relative-y\", 'y')\n",
    "    text = text.replace('elapse-time', 't')\n",
    "    text = (text[11:len(text)-1])\n",
    "    return(text)\n",
    "\n",
    "for subject in data_yang['run_id'].unique():\n",
    "    for i in data_raw.loc[\n",
    "        (data_raw['run_id']==subject) & \n",
    "        (pd.notna(data_raw['et_data'])) &\n",
    "        ~(data_raw['et_data'].isin(['\"', 'nan'])), \n",
    "        :].index:\n",
    "        print('Reformat index: ' + str(i))\n",
    "        data_raw.loc[i, 'et_data'] = reformatYang(data_raw.loc[i, 'et_data'])"
   ]
  },
  {
   "cell_type": "code",
   "execution_count": null,
   "metadata": {},
   "outputs": [],
   "source": [
    "def text_to_data_frame(text):\n",
    "    text = text.replace('$', ',')\n",
    "    dataframe = pd.read_json(text, orient='records')\n",
    "    return(dataframe)\n",
    "\n",
    "def extractEyetrackingData(data):\n",
    "    data_eyetracking = pd.DataFrame(columns=['x', 'y', 't'])\n",
    "    data[\"et_data\"] = data['et_data'].apply(str)\n",
    "\n",
    "    for i in data.loc[\n",
    "        (pd.notna(data['et_data'])) & \n",
    "        ~(data['et_data'].isin(['\"', '[]', 'nan'])), \n",
    "        :].index:\n",
    "        \n",
    "        print('Start decoding Index ' + str(i))\n",
    "        df = text_to_data_frame(data.loc[i, 'et_data'])        \n",
    "\n",
    "        df[\"t_task\"] = (df.loc[:, \"t\"] - df.loc[0, \"t\"])\n",
    "        df['run_id'] = data.loc[i, 'run_id']\n",
    "        df['trial_index'] = data.loc[i, 'trial_index']\n",
    "\n",
    "        data_eyetracking = data_eyetracking.append(pd.DataFrame(data=df), ignore_index=True)\n",
    "        print('Index ' + str(i) + ' extracted')\n",
    "    return(data_eyetracking)\n",
    "\n",
    "data_et = extractEyetrackingData(data_raw.loc[data_raw['run_id'].isin(data_trial['run_id'].unique()), :])"
   ]
  },
  {
   "cell_type": "code",
   "execution_count": null,
   "metadata": {},
   "outputs": [],
   "source": [
    "data_et = convertToNumeric(data_et, ['x', 'y', 't', 't_task'])"
   ]
  },
  {
   "cell_type": "code",
   "execution_count": null,
   "metadata": {},
   "outputs": [],
   "source": [
    "data_et.groupby(['run_id', 'trial_index'])['x', 'y'].count()"
   ]
  },
  {
   "cell_type": "markdown",
   "metadata": {},
   "source": [
    "# data_subject"
   ]
  },
  {
   "cell_type": "code",
   "execution_count": null,
   "metadata": {
    "scrolled": true
   },
   "outputs": [],
   "source": [
    "data_subject = data_trial.loc[\n",
    "    : ,\n",
    "    [\n",
    "        'chinFirst', 'choiceTask_amountLeftFirst', 'chosenAmount',\n",
    "        'chosenDelay', 'run_id', 'prolificID'\n",
    "    ]\n",
    "] \\\n",
    "    .merge(data_raw.loc[:, ['run_id',\n",
    "                            'age', 'browliner', 'browser', 'browser_version', 'degree', 'device',\n",
    "                            'ethnic', 'eyeliner', 'eyeshadow', 'gender', 'glasses', 'keptHead',\n",
    "                            'masquara', 'optionalNote', 'platform', 'platform_version', 'sight',\n",
    "                            'triedChin', 'user_agent', 'vertPosition', 'webcam_fps',\n",
    "                            'webcam_height', 'webcam_label', 'webcam_width']],\n",
    "           on='run_id', \n",
    "           how='left') \\\n",
    "    .drop_duplicates()\n",
    "data_subject.columns"
   ]
  },
  {
   "cell_type": "markdown",
   "metadata": {},
   "source": [
    "# Export data"
   ]
  },
  {
   "cell_type": "code",
   "execution_count": null,
   "metadata": {},
   "outputs": [],
   "source": [
    "if not os.path.exists('./data_jupyter'):\n",
    "    os.mkdir('./data_jupyter')\n",
    "\n",
    "data_et.to_csv(\"data_jupyter/data_et.csv\", index=False, header=True)\n",
    "data_trial.to_csv(\"data_jupyter/data_trial.csv\", index=False, header=True)\n",
    "data_subject.to_csv(\"data_jupyter/data_subject.csv\", index=False, header=True)"
   ]
  },
  {
   "cell_type": "markdown",
   "metadata": {},
   "source": [
    "# Feedback"
   ]
  },
  {
   "cell_type": "code",
   "execution_count": null,
   "metadata": {
    "scrolled": true
   },
   "outputs": [],
   "source": [
    "print('Success! Script ran through')"
   ]
  }
 ],
 "metadata": {
  "kernelspec": {
   "display_name": "Python 3",
   "language": "python",
   "name": "python3"
  },
  "language_info": {
   "codemirror_mode": {
    "name": "ipython",
    "version": 3
   },
   "file_extension": ".py",
   "mimetype": "text/x-python",
   "name": "python",
   "nbconvert_exporter": "python",
   "pygments_lexer": "ipython3",
   "version": "3.7.7"
  },
  "toc": {
   "base_numbering": 1,
   "nav_menu": {},
   "number_sections": true,
   "sideBar": true,
   "skip_h1_title": false,
   "title_cell": "Table of Contents",
   "title_sidebar": "Contents",
   "toc_cell": false,
   "toc_position": {
    "height": "calc(100% - 180px)",
    "left": "10px",
    "top": "150px",
    "width": "230.4px"
   },
   "toc_section_display": true,
   "toc_window_display": true
  }
 },
 "nbformat": 4,
 "nbformat_minor": 4
}
