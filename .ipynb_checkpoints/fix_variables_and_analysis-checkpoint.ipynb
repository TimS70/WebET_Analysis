{
 "cells": [
  {
   "cell_type": "code",
   "execution_count": 1,
   "metadata": {},
   "outputs": [
    {
     "name": "stderr",
     "output_type": "stream",
     "text": [
      "C:\\Users\\User\\miniconda3\\lib\\site-packages\\outdated\\utils.py:14: OutdatedPackageWarning: The package pingouin is out of date. Your version is 0.3.9, the latest is 0.3.10.\n",
      "Set the environment variable OUTDATED_IGNORE=1 to disable these warnings.\n",
      "  return warn(\n"
     ]
    },
    {
     "name": "stdout",
     "output_type": "stream",
     "text": [
      "Current Working directory  C:\\Users\\User\\GitHub\\WebET_Analysis\n"
     ]
    }
   ],
   "source": [
    "import numpy as np\n",
    "import matplotlib.pyplot as plt\n",
    "from matplotlib import gridspec\n",
    "import os\n",
    "import pandas as pd\n",
    "import pingouin as pg\n",
    "import seaborn as sns\n",
    "import scipy\n",
    "from scipy import stats\n",
    "from sklearn.linear_model import LogisticRegression\n",
    "from sklearn.metrics import classification_report, confusion_matrix\n",
    "from sklearn.metrics import silhouette_score\n",
    "import statsmodels.api as sm \n",
    "import statsmodels.formula.api as smf\n",
    "import statsmodels.graphics.api as smg\n",
    "import statsmodels.stats.multitest as smt\n",
    "import sys\n",
    "\n",
    "from IPython.display import HTML\n",
    "def View(df):\n",
    "    css = \"\"\"<style>\n",
    "    table { border-collapse: collapse; border: 3px solid #eee; }\n",
    "    table tr th:first-child { background-color: #eeeeee; color: #333; font-weight: bold }\n",
    "    table thead th { background-color: #eee; color: #000; }\n",
    "    tr, th, td { border: 1px solid #ccc; border-width: 1px 0 0 1px; border-collapse: collapse;\n",
    "    padding: 3px; font-family: monospace; font-size: 10px }</style>\n",
    "    \"\"\"\n",
    "    s  = '<script type=\"text/Javascript\">'\n",
    "    s += 'var win = window.open(\"\", \"Title\", \"toolbar=no, location=no, directories=no, status=no, menubar=no, scrollbars=yes, resizable=yes, width=780, height=200, top=\"+(screen.height-400)+\", left=\"+(screen.width-840));'\n",
    "    s += 'win.document.body.innerHTML = \\'' + (df.to_html() + css).replace(\"\\n\",'\\\\') + '\\';'\n",
    "    s += '</script>'\n",
    "    return(HTML(s+css))    \n",
    "    \n",
    "print(\"Current Working directory \" , os.getcwd())"
   ]
  },
  {
   "cell_type": "markdown",
   "metadata": {},
   "source": [
    "# Read data"
   ]
  },
  {
   "cell_type": "code",
   "execution_count": 2,
   "metadata": {
    "scrolled": false
   },
   "outputs": [
    {
     "name": "stdout",
     "output_type": "stream",
     "text": [
      "               length\n",
      "data_et       2464333\n",
      "data_trial     111695\n",
      "data_subject      209\n"
     ]
    }
   ],
   "source": [
    "data_et = pd.read_csv(r'C:/Users/User/GitHub/WebET_Analysis/data_jupyter/data_et_cleaned.csv')\n",
    "data_trial = pd.read_csv(r'C:/Users/User/GitHub/WebET_Analysis/data_jupyter/data_trial_cleaned.csv')\n",
    "data_subject = pd.read_csv(r'C:/Users/User/GitHub/WebET_Analysis/data_jupyter/data_subject_cleaned.csv')\n",
    "\n",
    "overview = pd.DataFrame(\n",
    "    [\n",
    "        [len(data_et)],\n",
    "        [len(data_trial)],\n",
    "        [len(data_subject)]\n",
    "    ], \n",
    "    columns=['length'],\n",
    "    index=[\n",
    "        'data_et', \n",
    "        'data_trial', \n",
    "        'data_subject'\n",
    "          ]\n",
    ")\n",
    "print(overview)"
   ]
  },
  {
   "cell_type": "markdown",
   "metadata": {},
   "source": [
    "# Create datasets"
   ]
  },
  {
   "cell_type": "markdown",
   "metadata": {},
   "source": [
    "## data_et"
   ]
  },
  {
   "cell_type": "code",
   "execution_count": 3,
   "metadata": {},
   "outputs": [],
   "source": [
    "def add_var_to_data_et(data_et, source_data, varName):\n",
    "    if varName in data_et.columns: data_et=data_et.drop(columns=varName)\n",
    "    data_et = data_et.merge(\n",
    "        source_data.loc[:, ['run_id', 'trial_index', varName]], \n",
    "        on=['run_id', 'trial_index'], how='left')\n",
    "    return data_et\n",
    "\n",
    "data_et = add_var_to_data_et(data_et, data_trial, 'task_nr')\n",
    "data_et = add_var_to_data_et(data_et, data_trial, 'chin')\n",
    "data_et = add_var_to_data_et(data_et, data_trial, 'chinFirst')\n",
    "data_et = add_var_to_data_et(data_et, data_trial, 'trial_type')\n",
    "data_et = add_var_to_data_et(data_et, data_trial, 'trial_duration')\n",
    "data_et = add_var_to_data_et(data_et, data_trial, 'trial_duration_exact')\n",
    "data_et = add_var_to_data_et(data_et, data_trial, 'x_pos')\n",
    "data_et = add_var_to_data_et(data_et, data_trial, 'y_pos')\n",
    "data_et = add_var_to_data_et(data_et, data_trial, 'window_width')\n",
    "data_et = add_var_to_data_et(data_et, data_trial, 'window_height')"
   ]
  },
  {
   "cell_type": "markdown",
   "metadata": {},
   "source": [
    "## data_trial"
   ]
  },
  {
   "cell_type": "code",
   "execution_count": 4,
   "metadata": {},
   "outputs": [],
   "source": [
    "if 'glasses_binary' in data_trial.columns:\n",
    "    data_trial = data_trial.drop(columns=['glasses_binary'])\n",
    "data_trial = data_trial.merge(\n",
    "    data_subject.loc[:, ['run_id', 'glasses_binary']],\n",
    "    on='run_id',\n",
    "    how='left'\n",
    ")"
   ]
  },
  {
   "cell_type": "markdown",
   "metadata": {},
   "source": [
    "## data_et_fix"
   ]
  },
  {
   "cell_type": "code",
   "execution_count": 5,
   "metadata": {},
   "outputs": [],
   "source": [
    "data_et_fix = data_et.loc[\n",
    "    (data_et['trial_type']=='eyetracking-fix-object') &\n",
    "    (data_et['trial_duration']==5000) &\n",
    "    (data_et['t_task']>1000),     :\n",
    "]"
   ]
  },
  {
   "cell_type": "markdown",
   "metadata": {},
   "source": [
    "## data_trial_fix"
   ]
  },
  {
   "cell_type": "code",
   "execution_count": 6,
   "metadata": {},
   "outputs": [],
   "source": [
    "data_trial_fix = data_trial.loc[\n",
    "    (data_trial['trial_type']=='eyetracking-fix-object') &\n",
    "    (data_trial['trial_duration']==5000),     :\n",
    "].drop(columns=[\n",
    "    'trial_type', 'trial_duration', \n",
    "    'choiceTask_amountLeftFirst',\n",
    "    'option_topLeft', 'option_bottomLeft',\n",
    "    'option_topRight', 'option_bottomRight',\n",
    "    'chosenAmount', 'chosenDelay']\n",
    "      )"
   ]
  },
  {
   "cell_type": "markdown",
   "metadata": {},
   "source": [
    "# Screening"
   ]
  },
  {
   "cell_type": "markdown",
   "metadata": {},
   "source": [
    "## Empty fixation trials"
   ]
  },
  {
   "cell_type": "code",
   "execution_count": 7,
   "metadata": {
    "scrolled": true
   },
   "outputs": [
    {
     "name": "stdout",
     "output_type": "stream",
     "text": [
      "N fixation trials with no et_data: 0\n"
     ]
    },
    {
     "data": {
      "text/html": [
       "<div>\n",
       "<style scoped>\n",
       "    .dataframe tbody tr th:only-of-type {\n",
       "        vertical-align: middle;\n",
       "    }\n",
       "\n",
       "    .dataframe tbody tr th {\n",
       "        vertical-align: top;\n",
       "    }\n",
       "\n",
       "    .dataframe thead th {\n",
       "        text-align: right;\n",
       "    }\n",
       "</style>\n",
       "<table border=\"1\" class=\"dataframe\">\n",
       "  <thead>\n",
       "    <tr style=\"text-align: right;\">\n",
       "      <th></th>\n",
       "      <th>run_id</th>\n",
       "      <th>prolificID</th>\n",
       "      <th>subject</th>\n",
       "      <th>chinFirst</th>\n",
       "      <th>trial_index</th>\n",
       "      <th>task_nr</th>\n",
       "      <th>rt</th>\n",
       "      <th>stimulus</th>\n",
       "      <th>key_press</th>\n",
       "      <th>time_elapsed</th>\n",
       "      <th>...</th>\n",
       "      <th>fixTask</th>\n",
       "      <th>fps</th>\n",
       "      <th>positionIndex</th>\n",
       "      <th>window_width_max</th>\n",
       "      <th>window_height_max</th>\n",
       "      <th>window_diagonal_max</th>\n",
       "      <th>trial_type_nr</th>\n",
       "      <th>withinTaskIndex</th>\n",
       "      <th>x_count</th>\n",
       "      <th>glasses_binary</th>\n",
       "    </tr>\n",
       "  </thead>\n",
       "  <tbody>\n",
       "  </tbody>\n",
       "</table>\n",
       "<p>0 rows × 32 columns</p>\n",
       "</div>"
      ],
      "text/plain": [
       "Empty DataFrame\n",
       "Columns: [run_id, prolificID, subject, chinFirst, trial_index, task_nr, rt, stimulus, key_press, time_elapsed, recorded_at, window_width, window_height, success, chin, x_pos, y_pos, window_diagonal, t_startTrial, trial_duration_exact, task_nr_new, trial_type_new, fixTask, fps, positionIndex, window_width_max, window_height_max, window_diagonal_max, trial_type_nr, withinTaskIndex, x_count, glasses_binary]\n",
       "Index: []\n",
       "\n",
       "[0 rows x 32 columns]"
      ]
     },
     "execution_count": 7,
     "metadata": {},
     "output_type": "execute_result"
    }
   ],
   "source": [
    "null_data = data_trial_fix.loc[pd.isna(data_trial_fix['x_count']), :]\n",
    "\n",
    "print(f\"\"\"N fixation trials with no et_data: {len(null_data)}\"\"\")\n",
    "null_data"
   ]
  },
  {
   "cell_type": "markdown",
   "metadata": {},
   "source": [
    "## Incomplete fixation tasks "
   ]
  },
  {
   "cell_type": "code",
   "execution_count": 8,
   "metadata": {},
   "outputs": [
    {
     "data": {
      "text/html": [
       "<div>\n",
       "<style scoped>\n",
       "    .dataframe tbody tr th:only-of-type {\n",
       "        vertical-align: middle;\n",
       "    }\n",
       "\n",
       "    .dataframe tbody tr th {\n",
       "        vertical-align: top;\n",
       "    }\n",
       "\n",
       "    .dataframe thead th {\n",
       "        text-align: right;\n",
       "    }\n",
       "</style>\n",
       "<table border=\"1\" class=\"dataframe\">\n",
       "  <thead>\n",
       "    <tr style=\"text-align: right;\">\n",
       "      <th></th>\n",
       "      <th>run_id</th>\n",
       "      <th>n</th>\n",
       "    </tr>\n",
       "  </thead>\n",
       "  <tbody>\n",
       "  </tbody>\n",
       "</table>\n",
       "</div>"
      ],
      "text/plain": [
       "Empty DataFrame\n",
       "Columns: [run_id, n]\n",
       "Index: []"
      ]
     },
     "execution_count": 8,
     "metadata": {},
     "output_type": "execute_result"
    }
   ],
   "source": [
    "n_trials_by_run = data_trial_fix \\\n",
    "    .groupby(['run_id'], as_index=False)['trial_index'].count() \\\n",
    "    .rename(columns={'trial_index':'n'})\n",
    "\n",
    "subjects_incomplete_fix = n_trials_by_run.loc[\n",
    "    n_trials_by_run['n']<18, 'run_id'\n",
    "]\n",
    "\n",
    "n_trials_by_run.loc[\n",
    "    n_trials_by_run['run_id'].isin(subjects_incomplete_fix), \n",
    "    :\n",
    "]"
   ]
  },
  {
   "cell_type": "markdown",
   "metadata": {},
   "source": [
    "## Trials with high t_task"
   ]
  },
  {
   "cell_type": "code",
   "execution_count": 9,
   "metadata": {
    "scrolled": true
   },
   "outputs": [
    {
     "name": "stdout",
     "output_type": "stream",
     "text": [
      "Number of very long trials grouped_time_by_trial: 10\n"
     ]
    },
    {
     "data": {
      "text/html": [
       "<div>\n",
       "<style scoped>\n",
       "    .dataframe tbody tr th:only-of-type {\n",
       "        vertical-align: middle;\n",
       "    }\n",
       "\n",
       "    .dataframe tbody tr th {\n",
       "        vertical-align: top;\n",
       "    }\n",
       "\n",
       "    .dataframe thead th {\n",
       "        text-align: right;\n",
       "    }\n",
       "</style>\n",
       "<table border=\"1\" class=\"dataframe\">\n",
       "  <thead>\n",
       "    <tr style=\"text-align: right;\">\n",
       "      <th></th>\n",
       "      <th>run_id</th>\n",
       "      <th>trial_index</th>\n",
       "      <th>trial_duration_exact</th>\n",
       "    </tr>\n",
       "  </thead>\n",
       "  <tbody>\n",
       "    <tr>\n",
       "      <th>0</th>\n",
       "      <td>230</td>\n",
       "      <td>115</td>\n",
       "      <td>5645</td>\n",
       "    </tr>\n",
       "    <tr>\n",
       "      <th>1</th>\n",
       "      <td>256</td>\n",
       "      <td>119</td>\n",
       "      <td>5794</td>\n",
       "    </tr>\n",
       "    <tr>\n",
       "      <th>2</th>\n",
       "      <td>256</td>\n",
       "      <td>127</td>\n",
       "      <td>5649</td>\n",
       "    </tr>\n",
       "    <tr>\n",
       "      <th>3</th>\n",
       "      <td>256</td>\n",
       "      <td>135</td>\n",
       "      <td>6033</td>\n",
       "    </tr>\n",
       "    <tr>\n",
       "      <th>4</th>\n",
       "      <td>256</td>\n",
       "      <td>494</td>\n",
       "      <td>6073</td>\n",
       "    </tr>\n",
       "    <tr>\n",
       "      <th>5</th>\n",
       "      <td>256</td>\n",
       "      <td>498</td>\n",
       "      <td>5854</td>\n",
       "    </tr>\n",
       "    <tr>\n",
       "      <th>6</th>\n",
       "      <td>256</td>\n",
       "      <td>510</td>\n",
       "      <td>5832</td>\n",
       "    </tr>\n",
       "    <tr>\n",
       "      <th>7</th>\n",
       "      <td>256</td>\n",
       "      <td>514</td>\n",
       "      <td>5525</td>\n",
       "    </tr>\n",
       "    <tr>\n",
       "      <th>8</th>\n",
       "      <td>256</td>\n",
       "      <td>518</td>\n",
       "      <td>5588</td>\n",
       "    </tr>\n",
       "    <tr>\n",
       "      <th>9</th>\n",
       "      <td>256</td>\n",
       "      <td>526</td>\n",
       "      <td>5823</td>\n",
       "    </tr>\n",
       "  </tbody>\n",
       "</table>\n",
       "</div>"
      ],
      "text/plain": [
       "   run_id  trial_index  trial_duration_exact\n",
       "0     230          115                  5645\n",
       "1     256          119                  5794\n",
       "2     256          127                  5649\n",
       "3     256          135                  6033\n",
       "4     256          494                  6073\n",
       "5     256          498                  5854\n",
       "6     256          510                  5832\n",
       "7     256          514                  5525\n",
       "8     256          518                  5588\n",
       "9     256          526                  5823"
      ]
     },
     "execution_count": 9,
     "metadata": {},
     "output_type": "execute_result"
    }
   ],
   "source": [
    "grouped_time_by_trial = data_trial_fix.loc[data_trial_fix['trial_duration_exact']>5500, :] \\\n",
    "    .groupby(['run_id', 'trial_index']).mean() \\\n",
    "    .reset_index() \\\n",
    "    .loc[:, ['run_id', 'trial_index', 'trial_duration_exact']]\n",
    "print(\n",
    "    f\"\"\"Number of very long trials grouped_time_by_trial: {len(grouped_time_by_trial)}\"\"\"\n",
    ")\n",
    "\n",
    "grouped_time_by_trial"
   ]
  },
  {
   "cell_type": "markdown",
   "metadata": {},
   "source": [
    "## Subjects with inconsistent time measures"
   ]
  },
  {
   "cell_type": "code",
   "execution_count": 10,
   "metadata": {},
   "outputs": [
    {
     "data": {
      "text/html": [
       "<div>\n",
       "<style scoped>\n",
       "    .dataframe tbody tr th:only-of-type {\n",
       "        vertical-align: middle;\n",
       "    }\n",
       "\n",
       "    .dataframe tbody tr th {\n",
       "        vertical-align: top;\n",
       "    }\n",
       "\n",
       "    .dataframe thead th {\n",
       "        text-align: right;\n",
       "    }\n",
       "</style>\n",
       "<table border=\"1\" class=\"dataframe\">\n",
       "  <thead>\n",
       "    <tr style=\"text-align: right;\">\n",
       "      <th></th>\n",
       "      <th>run_id</th>\n",
       "      <th>n</th>\n",
       "    </tr>\n",
       "  </thead>\n",
       "  <tbody>\n",
       "    <tr>\n",
       "      <th>0</th>\n",
       "      <td>230</td>\n",
       "      <td>1</td>\n",
       "    </tr>\n",
       "    <tr>\n",
       "      <th>1</th>\n",
       "      <td>256</td>\n",
       "      <td>9</td>\n",
       "    </tr>\n",
       "  </tbody>\n",
       "</table>\n",
       "</div>"
      ],
      "text/plain": [
       "   run_id  n\n",
       "0     230  1\n",
       "1     256  9"
      ]
     },
     "execution_count": 10,
     "metadata": {},
     "output_type": "execute_result"
    }
   ],
   "source": [
    "subjects_with_long_trials = grouped_time_by_trial \\\n",
    "    .groupby(['run_id'], as_index=False)['trial_index'].count() \\\n",
    "    .rename(columns={'trial_index': 'n'}) \\\n",
    "    .sort_values(by='n')\n",
    "subjects_with_long_trials"
   ]
  },
  {
   "cell_type": "code",
   "execution_count": 11,
   "metadata": {
    "scrolled": false
   },
   "outputs": [
    {
     "data": {
      "text/html": [
       "<div>\n",
       "<style scoped>\n",
       "    .dataframe tbody tr th:only-of-type {\n",
       "        vertical-align: middle;\n",
       "    }\n",
       "\n",
       "    .dataframe tbody tr th {\n",
       "        vertical-align: top;\n",
       "    }\n",
       "\n",
       "    .dataframe thead th {\n",
       "        text-align: right;\n",
       "    }\n",
       "</style>\n",
       "<table border=\"1\" class=\"dataframe\">\n",
       "  <thead>\n",
       "    <tr style=\"text-align: right;\">\n",
       "      <th></th>\n",
       "      <th>run_id</th>\n",
       "      <th>trial_index</th>\n",
       "      <th>trial_duration_exact</th>\n",
       "    </tr>\n",
       "  </thead>\n",
       "  <tbody>\n",
       "    <tr>\n",
       "      <th>1</th>\n",
       "      <td>256</td>\n",
       "      <td>119</td>\n",
       "      <td>5794</td>\n",
       "    </tr>\n",
       "    <tr>\n",
       "      <th>2</th>\n",
       "      <td>256</td>\n",
       "      <td>127</td>\n",
       "      <td>5649</td>\n",
       "    </tr>\n",
       "    <tr>\n",
       "      <th>3</th>\n",
       "      <td>256</td>\n",
       "      <td>135</td>\n",
       "      <td>6033</td>\n",
       "    </tr>\n",
       "    <tr>\n",
       "      <th>4</th>\n",
       "      <td>256</td>\n",
       "      <td>494</td>\n",
       "      <td>6073</td>\n",
       "    </tr>\n",
       "    <tr>\n",
       "      <th>5</th>\n",
       "      <td>256</td>\n",
       "      <td>498</td>\n",
       "      <td>5854</td>\n",
       "    </tr>\n",
       "    <tr>\n",
       "      <th>6</th>\n",
       "      <td>256</td>\n",
       "      <td>510</td>\n",
       "      <td>5832</td>\n",
       "    </tr>\n",
       "    <tr>\n",
       "      <th>7</th>\n",
       "      <td>256</td>\n",
       "      <td>514</td>\n",
       "      <td>5525</td>\n",
       "    </tr>\n",
       "    <tr>\n",
       "      <th>8</th>\n",
       "      <td>256</td>\n",
       "      <td>518</td>\n",
       "      <td>5588</td>\n",
       "    </tr>\n",
       "    <tr>\n",
       "      <th>9</th>\n",
       "      <td>256</td>\n",
       "      <td>526</td>\n",
       "      <td>5823</td>\n",
       "    </tr>\n",
       "  </tbody>\n",
       "</table>\n",
       "</div>"
      ],
      "text/plain": [
       "   run_id  trial_index  trial_duration_exact\n",
       "1     256          119                  5794\n",
       "2     256          127                  5649\n",
       "3     256          135                  6033\n",
       "4     256          494                  6073\n",
       "5     256          498                  5854\n",
       "6     256          510                  5832\n",
       "7     256          514                  5525\n",
       "8     256          518                  5588\n",
       "9     256          526                  5823"
      ]
     },
     "execution_count": 11,
     "metadata": {},
     "output_type": "execute_result"
    }
   ],
   "source": [
    "subjects_bad_time_measure = subjects_with_long_trials.loc[\n",
    "    subjects_with_long_trials['n']>3,\n",
    "    'run_id'\n",
    "]\n",
    "\n",
    "grouped_time_by_trial.loc[\n",
    "    grouped_time_by_trial['run_id'].isin(subjects_bad_time_measure),\n",
    "    :\n",
    "]"
   ]
  },
  {
   "cell_type": "markdown",
   "metadata": {},
   "source": [
    "## Missing values - Glasses"
   ]
  },
  {
   "cell_type": "code",
   "execution_count": 12,
   "metadata": {},
   "outputs": [
    {
     "name": "stdout",
     "output_type": "stream",
     "text": [
      "n=0 Subjects were excluded because we did not provide information about their sight\n"
     ]
    },
    {
     "data": {
      "text/plain": [
       "Series([], Name: run_id, dtype: int64)"
      ]
     },
     "execution_count": 12,
     "metadata": {},
     "output_type": "execute_result"
    }
   ],
   "source": [
    "subjects_NA_glasses = data_subject.loc[\n",
    "    pd.isna(data_subject['glasses_binary']),\n",
    "    'run_id'\n",
    "]\n",
    "\n",
    "print(\n",
    "    f\"\"\"n={len(subjects_NA_glasses)} \"\"\"\n",
    "    f\"\"\"Subjects were excluded because we did not provide information about their sight\"\"\")\n",
    "subjects_NA_glasses"
   ]
  },
  {
   "cell_type": "markdown",
   "metadata": {},
   "source": [
    "# Cleaning"
   ]
  },
  {
   "cell_type": "code",
   "execution_count": 13,
   "metadata": {},
   "outputs": [
    {
     "data": {
      "text/html": [
       "<div>\n",
       "<style scoped>\n",
       "    .dataframe tbody tr th:only-of-type {\n",
       "        vertical-align: middle;\n",
       "    }\n",
       "\n",
       "    .dataframe tbody tr th {\n",
       "        vertical-align: top;\n",
       "    }\n",
       "\n",
       "    .dataframe thead th {\n",
       "        text-align: right;\n",
       "    }\n",
       "</style>\n",
       "<table border=\"1\" class=\"dataframe\">\n",
       "  <thead>\n",
       "    <tr style=\"text-align: right;\">\n",
       "      <th></th>\n",
       "      <th>name</th>\n",
       "      <th>length</th>\n",
       "    </tr>\n",
       "  </thead>\n",
       "  <tbody>\n",
       "    <tr>\n",
       "      <th>0</th>\n",
       "      <td>subjects_NA_glasses</td>\n",
       "      <td>0</td>\n",
       "    </tr>\n",
       "    <tr>\n",
       "      <th>1</th>\n",
       "      <td>subjects_bad_time_measure</td>\n",
       "      <td>1</td>\n",
       "    </tr>\n",
       "    <tr>\n",
       "      <th>2</th>\n",
       "      <td>subjects_incomplete_fix</td>\n",
       "      <td>0</td>\n",
       "    </tr>\n",
       "  </tbody>\n",
       "</table>\n",
       "</div>"
      ],
      "text/plain": [
       "                        name  length\n",
       "0        subjects_NA_glasses       0\n",
       "1  subjects_bad_time_measure       1\n",
       "2    subjects_incomplete_fix       0"
      ]
     },
     "execution_count": 13,
     "metadata": {},
     "output_type": "execute_result"
    }
   ],
   "source": [
    "excludedSubjects = list(\n",
    "    set(subjects_NA_glasses) |\n",
    "    set(subjects_bad_time_measure) |\n",
    "    set(subjects_incomplete_fix)\n",
    ")\n",
    "excludedSubjects\n",
    "\n",
    "invalid_subjects = pd.DataFrame(\n",
    "   {'name': [\n",
    "               'subjects_NA_glasses', \n",
    "               'subjects_bad_time_measure', \n",
    "               'subjects_incomplete_fix'\n",
    "   ],\n",
    "    'length': [\n",
    "                len(subjects_NA_glasses),\n",
    "                len(subjects_bad_time_measure), \n",
    "                len(subjects_incomplete_fix)\n",
    "           ]}\n",
    ")\n",
    "\n",
    "invalid_subjects"
   ]
  },
  {
   "cell_type": "code",
   "execution_count": 14,
   "metadata": {},
   "outputs": [
    {
     "name": "stdout",
     "output_type": "stream",
     "text": [
      "Raw: 111695\n",
      "Cleaned: 111157\n",
      "Raw: 2464333\n",
      "Cleaned: 2459973\n",
      "Raw: 3762\n",
      "Cleaned: 3744\n",
      "Raw: 215252\n",
      "Cleaned: 214965\n"
     ]
    }
   ],
   "source": [
    "def generalCleaning(data): \n",
    "    print(f'Raw: {len(data)}')\n",
    "    data = data.loc[\n",
    "        ~data['run_id'].isin(excludedSubjects),\n",
    "        :\n",
    "    ]\n",
    "    print(f'Cleaned: {len(data)}')\n",
    "    return(data)\n",
    "\n",
    "data_trial = generalCleaning(data_trial)\n",
    "data_et = generalCleaning(data_et)\n",
    "data_trial_fix = generalCleaning(data_trial_fix)\n",
    "data_et_fix = generalCleaning(data_et_fix)"
   ]
  },
  {
   "cell_type": "code",
   "execution_count": 15,
   "metadata": {},
   "outputs": [
    {
     "name": "stdout",
     "output_type": "stream",
     "text": [
      "Raw: 111157\n",
      "Cleaned: 104576\n",
      "Raw: 2459973\n",
      "Cleaned: 2107378\n",
      "Raw: 3744\n",
      "Cleaned: 3743\n",
      "Raw: 214965\n",
      "Cleaned: 214932\n"
     ]
    }
   ],
   "source": [
    "def remove_high_tTask(data):\n",
    "    print(f'Raw: {len(data)}')\n",
    "    data = data.loc[data['trial_duration_exact']<=5500, :]\n",
    "    print(f'Cleaned: {len(data)}')\n",
    "    \n",
    "    return data\n",
    "\n",
    "data_trial = remove_high_tTask(data_trial)\n",
    "data_et = remove_high_tTask(data_et)\n",
    "data_trial_fix = remove_high_tTask(data_trial_fix)\n",
    "data_et_fix = remove_high_tTask(data_et_fix)"
   ]
  },
  {
   "cell_type": "code",
   "execution_count": 16,
   "metadata": {},
   "outputs": [],
   "source": [
    "data_trial_fix = data_trial_fix.loc[\n",
    "    pd.notna(data_trial_fix['x_count']),     \n",
    "    :\n",
    "]"
   ]
  },
  {
   "cell_type": "markdown",
   "metadata": {},
   "source": [
    "# Offset"
   ]
  },
  {
   "cell_type": "markdown",
   "metadata": {},
   "source": [
    "## Calculate on gaze point-level"
   ]
  },
  {
   "cell_type": "code",
   "execution_count": 17,
   "metadata": {},
   "outputs": [],
   "source": [
    "def euclideanDistance(x, x_target, y, y_target):\n",
    "    x_diff = x - x_target\n",
    "    y_diff = y - y_target\n",
    "    euclideanDistance = np.sqrt(x_diff**2 + y_diff**2)\n",
    "    return(euclideanDistance)\n",
    "\n",
    "data_et.loc[:, \"offset\"] = euclideanDistance(\n",
    "        data_et[\"x\"], data_et['x_pos'],\n",
    "        data_et[\"y\"], data_et['y_pos'])\n",
    "data_et_fix.loc[:, \"offset\"] = euclideanDistance(\n",
    "        data_et_fix[\"x\"], data_et_fix['x_pos'],\n",
    "        data_et_fix[\"y\"], data_et_fix['y_pos'])"
   ]
  },
  {
   "cell_type": "markdown",
   "metadata": {},
   "source": [
    "Offset as pixels"
   ]
  },
  {
   "cell_type": "code",
   "execution_count": 18,
   "metadata": {
    "scrolled": true
   },
   "outputs": [
    {
     "data": {
      "text/plain": [
       "count    1.553077e+06\n",
       "mean     2.125137e+02\n",
       "std      3.362501e+02\n",
       "min      1.064561e-01\n",
       "25%      7.943403e+01\n",
       "50%      1.462570e+02\n",
       "75%      2.711163e+02\n",
       "max      1.127067e+05\n",
       "Name: offset_px, dtype: float64"
      ]
     },
     "execution_count": 18,
     "metadata": {},
     "output_type": "execute_result"
    }
   ],
   "source": [
    "data_et.loc[:, \"offset_px\"] = euclideanDistance(\n",
    "    (data_et[\"x\"] * data_et['window_width']), \n",
    "    (data_et['x_pos'] * data_et['window_width']),\n",
    "    (data_et[\"y\"] * data_et['window_height']), \n",
    "    (data_et['y_pos'] * data_et['window_height'])\n",
    ")\n",
    "data_et_fix.loc[:, \"offset_px\"] = euclideanDistance(\n",
    "    (data_et_fix[\"x\"] * data_et_fix['window_width']), \n",
    "    (data_et_fix['x_pos'] * data_et_fix['window_width']),\n",
    "    (data_et_fix[\"y\"] * data_et_fix['window_height']), \n",
    "    (data_et_fix['y_pos'] * data_et_fix['window_height'])\n",
    ")\n",
    "data_et['offset_px'].describe()"
   ]
  },
  {
   "cell_type": "code",
   "execution_count": 19,
   "metadata": {
    "scrolled": true
   },
   "outputs": [
    {
     "name": "stdout",
     "output_type": "stream",
     "text": [
      "             offset     offset_px\n",
      "count  1.553077e+06  1.553077e+06\n",
      "mean   1.735643e-01  2.125137e+02\n",
      "std    3.283143e-01  3.362501e+02\n",
      "min    1.169144e-04  1.064561e-01\n",
      "25%    6.733915e-02  7.943403e+01\n",
      "50%    1.252377e-01  1.462570e+02\n",
      "75%    2.304350e-01  2.711163e+02\n",
      "max    1.302936e+02  1.127067e+05\n",
      "              offset      offset_px\n",
      "count  214932.000000  214932.000000\n",
      "mean        0.165803     200.538868\n",
      "std         0.142955     189.431693\n",
      "min         0.000452       0.531538\n",
      "25%         0.074190      87.385140\n",
      "50%         0.126559     148.372859\n",
      "75%         0.212429     248.830032\n",
      "max         1.994598    2795.302888\n"
     ]
    }
   ],
   "source": [
    "print(data_et[['offset', 'offset_px']].describe())\n",
    "print(data_et_fix[['offset', 'offset_px']].describe())"
   ]
  },
  {
   "cell_type": "code",
   "execution_count": 20,
   "metadata": {},
   "outputs": [
    {
     "data": {
      "text/plain": [
       "Index(['x', 'y', 't', 't_task', 'run_id', 'trial_index', 'task_nr', 'chin',\n",
       "       'chinFirst', 'trial_type', 'trial_duration', 'trial_duration_exact',\n",
       "       'x_pos', 'y_pos', 'window_width', 'window_height', 'offset',\n",
       "       'offset_px'],\n",
       "      dtype='object')"
      ]
     },
     "execution_count": 20,
     "metadata": {},
     "output_type": "execute_result"
    }
   ],
   "source": [
    "data_et_fix.columns"
   ]
  },
  {
   "cell_type": "code",
   "execution_count": 21,
   "metadata": {},
   "outputs": [
    {
     "data": {
      "text/html": [
       "<div>\n",
       "<style scoped>\n",
       "    .dataframe tbody tr th:only-of-type {\n",
       "        vertical-align: middle;\n",
       "    }\n",
       "\n",
       "    .dataframe tbody tr th {\n",
       "        vertical-align: top;\n",
       "    }\n",
       "\n",
       "    .dataframe thead th {\n",
       "        text-align: right;\n",
       "    }\n",
       "</style>\n",
       "<table border=\"1\" class=\"dataframe\">\n",
       "  <thead>\n",
       "    <tr style=\"text-align: right;\">\n",
       "      <th></th>\n",
       "      <th>x_pos</th>\n",
       "      <th>y_pos</th>\n",
       "      <th>x</th>\n",
       "      <th>y</th>\n",
       "      <th>offset</th>\n",
       "    </tr>\n",
       "  </thead>\n",
       "  <tbody>\n",
       "    <tr>\n",
       "      <th>23386</th>\n",
       "      <td>0.2</td>\n",
       "      <td>0.8</td>\n",
       "      <td>0.699318</td>\n",
       "      <td>-0.602470</td>\n",
       "      <td>1.488705</td>\n",
       "    </tr>\n",
       "    <tr>\n",
       "      <th>23387</th>\n",
       "      <td>0.2</td>\n",
       "      <td>0.8</td>\n",
       "      <td>0.714940</td>\n",
       "      <td>-0.601017</td>\n",
       "      <td>1.492653</td>\n",
       "    </tr>\n",
       "    <tr>\n",
       "      <th>23388</th>\n",
       "      <td>0.2</td>\n",
       "      <td>0.8</td>\n",
       "      <td>0.742320</td>\n",
       "      <td>-0.630964</td>\n",
       "      <td>1.530284</td>\n",
       "    </tr>\n",
       "    <tr>\n",
       "      <th>23389</th>\n",
       "      <td>0.2</td>\n",
       "      <td>0.8</td>\n",
       "      <td>0.732112</td>\n",
       "      <td>-0.622791</td>\n",
       "      <td>1.519038</td>\n",
       "    </tr>\n",
       "    <tr>\n",
       "      <th>23390</th>\n",
       "      <td>0.2</td>\n",
       "      <td>0.8</td>\n",
       "      <td>0.744161</td>\n",
       "      <td>-0.615793</td>\n",
       "      <td>1.516767</td>\n",
       "    </tr>\n",
       "    <tr>\n",
       "      <th>...</th>\n",
       "      <td>...</td>\n",
       "      <td>...</td>\n",
       "      <td>...</td>\n",
       "      <td>...</td>\n",
       "      <td>...</td>\n",
       "    </tr>\n",
       "    <tr>\n",
       "      <th>1836243</th>\n",
       "      <td>0.8</td>\n",
       "      <td>0.2</td>\n",
       "      <td>-0.237824</td>\n",
       "      <td>-0.432803</td>\n",
       "      <td>1.215532</td>\n",
       "    </tr>\n",
       "    <tr>\n",
       "      <th>1836244</th>\n",
       "      <td>0.8</td>\n",
       "      <td>0.2</td>\n",
       "      <td>-0.309770</td>\n",
       "      <td>-0.430111</td>\n",
       "      <td>1.276177</td>\n",
       "    </tr>\n",
       "    <tr>\n",
       "      <th>1836245</th>\n",
       "      <td>0.8</td>\n",
       "      <td>0.2</td>\n",
       "      <td>-0.349856</td>\n",
       "      <td>-0.439724</td>\n",
       "      <td>1.315833</td>\n",
       "    </tr>\n",
       "    <tr>\n",
       "      <th>1836246</th>\n",
       "      <td>0.8</td>\n",
       "      <td>0.2</td>\n",
       "      <td>-0.197686</td>\n",
       "      <td>-0.334857</td>\n",
       "      <td>1.132011</td>\n",
       "    </tr>\n",
       "    <tr>\n",
       "      <th>1836247</th>\n",
       "      <td>0.8</td>\n",
       "      <td>0.2</td>\n",
       "      <td>-0.168868</td>\n",
       "      <td>-0.275707</td>\n",
       "      <td>1.079353</td>\n",
       "    </tr>\n",
       "  </tbody>\n",
       "</table>\n",
       "<p>688 rows × 5 columns</p>\n",
       "</div>"
      ],
      "text/plain": [
       "         x_pos  y_pos         x         y    offset\n",
       "23386      0.2    0.8  0.699318 -0.602470  1.488705\n",
       "23387      0.2    0.8  0.714940 -0.601017  1.492653\n",
       "23388      0.2    0.8  0.742320 -0.630964  1.530284\n",
       "23389      0.2    0.8  0.732112 -0.622791  1.519038\n",
       "23390      0.2    0.8  0.744161 -0.615793  1.516767\n",
       "...        ...    ...       ...       ...       ...\n",
       "1836243    0.8    0.2 -0.237824 -0.432803  1.215532\n",
       "1836244    0.8    0.2 -0.309770 -0.430111  1.276177\n",
       "1836245    0.8    0.2 -0.349856 -0.439724  1.315833\n",
       "1836246    0.8    0.2 -0.197686 -0.334857  1.132011\n",
       "1836247    0.8    0.2 -0.168868 -0.275707  1.079353\n",
       "\n",
       "[688 rows x 5 columns]"
      ]
     },
     "execution_count": 21,
     "metadata": {},
     "output_type": "execute_result"
    }
   ],
   "source": [
    "data_et_fix.loc[data_et_fix['offset']>1, ['x_pos', 'y_pos', 'x', 'y', 'offset']]"
   ]
  },
  {
   "cell_type": "markdown",
   "metadata": {},
   "source": [
    "## Plot: gaze shift within a trial"
   ]
  },
  {
   "cell_type": "code",
   "execution_count": 22,
   "metadata": {},
   "outputs": [],
   "source": [
    "def select_fixTask_and_fixCross(data):\n",
    "    return data.loc[\n",
    "        (data['trial_type']=='eyetracking-fix-object') & \n",
    "        ((data['task_nr']==1) |\n",
    "            ((data['chinFirst']==0) & (data['task_nr']==2)) |\n",
    "            ((data['chinFirst']==1) & (data['task_nr']==3))\n",
    "        ), :]. reset_index(drop=True)\n",
    "\n",
    "def reformatTTask(data):                                                 \n",
    "    data.loc[\n",
    "        (data['trial_type']=='eyetracking-fix-object') & \n",
    "        (data['trial_duration']==1500), \n",
    "        't_task'\n",
    "    ] = data.loc[\n",
    "        (data['trial_type']=='eyetracking-fix-object') &\n",
    "        (data['trial_duration']==1500), \n",
    "        't_task'\n",
    "    ] - 1500\n",
    "    return data\n",
    "\n",
    "\n",
    "data_et_fix_task_fixCross = reformatTTask(select_fixTask_and_fixCross(data_et))\n",
    "\n",
    "def add_next_xy_pos(data):\n",
    "    data['next_x_pos']=0\n",
    "    data['next_y_pos']=0\n",
    "    for i in data.index:\n",
    "        if data.loc[i, 'trial_duration']==1500:\n",
    "            data.loc[i, 'next_x_pos'] = data.loc[i+1, 'x_pos']\n",
    "            data.loc[i, 'next_y_pos'] = data.loc[i+1, 'y_pos']\n",
    "    return(data)\n",
    "\n",
    "data_trial_fix_task_fixCross = add_next_xy_pos(select_fixTask_and_fixCross(data_trial))\n",
    "\n",
    "data_et_fix_task_fixCross = data_et_fix_task_fixCross.merge(\n",
    "    data_trial_fix_task_fixCross.loc[:, ['run_id', 'trial_index', 'next_x_pos', 'next_y_pos']],\n",
    "    on=['run_id', 'trial_index'],\n",
    "    how='left'\n",
    ")"
   ]
  },
  {
   "cell_type": "code",
   "execution_count": 23,
   "metadata": {},
   "outputs": [],
   "source": [
    "def new_distance_for_fixCross(data):\n",
    "    data.loc[data['trial_duration']==1500, 'offset'] = euclideanDistance(\n",
    "        data.loc[data['trial_duration']==1500, 'x'], \n",
    "        data.loc[data['trial_duration']==1500, 'next_x_pos'], \n",
    "        data.loc[data['trial_duration']==1500, 'y'], \n",
    "        data.loc[data['trial_duration']==1500, 'next_y_pos']\n",
    "    )\n",
    "    return data\n",
    "        \n",
    "data_et_fix_task_fixCross = new_distance_for_fixCross(data_et_fix_task_fixCross)"
   ]
  },
  {
   "cell_type": "code",
   "execution_count": 24,
   "metadata": {},
   "outputs": [],
   "source": [
    "def createAVGLine(data):\n",
    "    binArray = np.arange(-1500, 5000, 50)\n",
    "    bins = pd.cut(data['t_task'], binArray)\n",
    "    output = data.groupby(bins).agg({\"offset\": \"median\"}).reset_index()\n",
    "    output['t_task'] = binArray[0:len(output)]\n",
    "    return output\n",
    "\n",
    "average_line_noChin = createAVGLine(data_et_fix_task_fixCross.loc[data_et_fix_task_fixCross['chin']==0, :])\n",
    "average_line_chin = createAVGLine(data_et_fix_task_fixCross.loc[data_et_fix_task_fixCross['chin']==1, :])"
   ]
  },
  {
   "cell_type": "code",
   "execution_count": 25,
   "metadata": {
    "scrolled": true
   },
   "outputs": [
    {
     "data": {
      "text/plain": [
       "Text(0.5, 0, 't_task')"
      ]
     },
     "execution_count": 25,
     "metadata": {},
     "output_type": "execute_result"
    },
    {
     "data": {
      "image/png": "[encoded data removed]",
      "text/plain": [
       "<Figure size 1296x864 with 2 Axes>"
      ]
     },
     "metadata": {
      "needs_background": "light"
     },
     "output_type": "display_data"
    }
   ],
   "source": [
    "fig, axes = plt.subplots(nrows=1, ncols=2, sharey=True, figsize=(18, 12))\n",
    "fig.suptitle('Median local offset for all subjects across a fixation task trial', fontsize=20)\n",
    "\n",
    "axes[0].set_title(\"Chin==0\")\n",
    "axes[1].set_title(\"Chin==1\")\n",
    "\n",
    "sns.scatterplot(ax=axes[0], \n",
    "                data=data_et_fix_task_fixCross.loc[\n",
    "                    (data_et_fix_task_fixCross['run_id']==103) & \n",
    "                    (data_et_fix_task_fixCross['chin']==0), \n",
    "                    :], \n",
    "                x=\"t_task\", y=\"offset\")\n",
    "sns.lineplot(ax=axes[0], x=average_line_noChin['t_task'], y=average_line_noChin['offset'], color='r')\n",
    "\n",
    "sns.scatterplot(ax=axes[1], \n",
    "                data=data_et_fix_task_fixCross.loc[\n",
    "                    (data_et_fix_task_fixCross['run_id']==103) & \n",
    "                    (data_et_fix_task_fixCross['chin']==1), \n",
    "                    :],\n",
    "                x=\"t_task\", y=\"offset\")\n",
    "sns.lineplot(ax=axes[1], x=average_line_chin['t_task'], y=average_line_chin['offset'], color='r')\n",
    "\n",
    "plt.setp(axes, xlim=(-1500, 5000)) \n",
    "plt.xlabel(\"t_task\")"
   ]
  },
  {
   "cell_type": "markdown",
   "metadata": {},
   "source": [
    "## Aggregate on trial level"
   ]
  },
  {
   "cell_type": "code",
   "execution_count": 26,
   "metadata": {},
   "outputs": [
    {
     "data": {
      "text/plain": [
       "count    3743.000000\n",
       "mean        0.166263\n",
       "std         0.130122\n",
       "min         0.020502\n",
       "25%         0.084502\n",
       "50%         0.129210\n",
       "75%         0.204950\n",
       "max         1.752300\n",
       "Name: offset, dtype: float64"
      ]
     },
     "execution_count": 26,
     "metadata": {},
     "output_type": "execute_result"
    }
   ],
   "source": [
    "def merge_varMean_by_index(data, data_et, varName):\n",
    "    if varName in data.columns: \n",
    "        data = data.drop(columns=[varName])\n",
    "    grouped = data_et.groupby(['run_id', 'trial_index'])[varName].mean() \\\n",
    "        .reset_index()        \n",
    "    data = data.merge(grouped, on=['run_id', 'trial_index'], how='left')\n",
    "    return data\n",
    "\n",
    "data_trial = merge_varMean_by_index(data_trial, data_et, 'offset')\n",
    "data_trial_fix = merge_varMean_by_index(data_trial_fix, data_et_fix, 'offset')\n",
    "data_trial = merge_varMean_by_index(data_trial, data_et, 'offset_px')\n",
    "data_trial_fix = merge_varMean_by_index(data_trial_fix, data_et_fix, 'offset_px')\n",
    "data_trial_fix['offset'].describe()"
   ]
  },
  {
   "cell_type": "code",
   "execution_count": 27,
   "metadata": {},
   "outputs": [],
   "source": [
    "def merge_varMean_by_index(data, data_et, varName):\n",
    "    if varName in data.columns: \n",
    "        data = data.drop(columns=[varName])\n",
    "    grouped = data_et.groupby(['run_id', 'trial_index'])[varName].mean() \\\n",
    "        .reset_index()        \n",
    "    data = data.merge(grouped, on=['run_id', 'trial_index'], how='left')\n",
    "    return data\n",
    "\n",
    "data_trial = merge_varMean_by_index(data_trial, data_et, 'offset')\n",
    "data_trial_fix = merge_varMean_by_index(data_trial_fix, data_et_fix, 'offset')\n",
    "data_trial = merge_varMean_by_index(data_trial, data_et, 'offset_px')\n",
    "data_trial_fix = merge_varMean_by_index(data_trial_fix, data_et_fix, 'offset_px')\n"
   ]
  },
  {
   "cell_type": "markdown",
   "metadata": {},
   "source": [
    "## Change across trials"
   ]
  },
  {
   "cell_type": "code",
   "execution_count": 28,
   "metadata": {},
   "outputs": [
    {
     "data": {
      "image/png": "[encoded data removed]",
      "text/plain": [
       "<Figure size 1080x432 with 2 Axes>"
      ]
     },
     "metadata": {},
     "output_type": "display_data"
    }
   ],
   "source": [
    "def group_chin_withinTaskIndex(data, varName):\n",
    "    df_m = data.groupby(['chin', 'withinTaskIndex']) \\\n",
    "        [varName].median() \\\n",
    "        .reset_index() \\\n",
    "        .rename(columns={varName: varName + '_median'}) \\\n",
    "        .reset_index()\n",
    "\n",
    "    data = data.merge(df_m, on=['chin', 'withinTaskIndex'], how='left')\n",
    "    data['above_median'] = data[varName] > data[varName + '_median']\n",
    "    \n",
    "    df_std_upper = data.loc[data['above_median']==1, :] \\\n",
    "        .groupby(['chin', 'withinTaskIndex'])[varName].median() \\\n",
    "        .reset_index() \\\n",
    "        .rename(columns={varName: varName + '_std_upper'}) \\\n",
    "        .reset_index()\n",
    "    df_std_lower = data.loc[data['above_median']==0, :] \\\n",
    "        .groupby(['chin', 'withinTaskIndex'])[varName].median() \\\n",
    "        .reset_index() \\\n",
    "        .rename(columns={varName: varName + '_std_lower'}) \\\n",
    "        .reset_index()\n",
    "\n",
    "    output = pd.concat([\n",
    "        df_m, \n",
    "        df_std_upper[varName + '_std_upper'],\n",
    "        df_std_lower[varName + '_std_lower']\n",
    "    ], axis=1)\n",
    "    return output\n",
    "\n",
    "\n",
    "data_plot = group_chin_withinTaskIndex(\n",
    "    data_trial.loc[data_trial['fixTask']==1, :],\n",
    "    'offset'\n",
    ")\n",
    "\n",
    "plt.style.use('seaborn-whitegrid')\n",
    "fig, ax = plt.subplots(1, 2, sharey=True, figsize=(15,6))\n",
    "fig.suptitle('chin==0 vs. chin==1')\n",
    "\n",
    "ax[0].set_ylim(0, 1)\n",
    "\n",
    "for i in [0, 1]:\n",
    "    data = data_plot.loc[data_plot['chin']==i, :]\n",
    "    ax[i].errorbar(\n",
    "        x = data['withinTaskIndex'], \n",
    "        y = data['offset_median'],\n",
    "        yerr=[data['offset_std_lower'], data['offset_std_upper']],\n",
    "        fmt='^k:',\n",
    "        capsize=5\n",
    "    )\n",
    "plt.show()"
   ]
  },
  {
   "cell_type": "markdown",
   "metadata": {},
   "source": [
    "## Comparing across positions"
   ]
  },
  {
   "cell_type": "markdown",
   "metadata": {},
   "source": [
    "### All positions"
   ]
  },
  {
   "cell_type": "code",
   "execution_count": 29,
   "metadata": {},
   "outputs": [
    {
     "data": {
      "text/html": [
       "<div>\n",
       "<style scoped>\n",
       "    .dataframe tbody tr th:only-of-type {\n",
       "        vertical-align: middle;\n",
       "    }\n",
       "\n",
       "    .dataframe tbody tr th {\n",
       "        vertical-align: top;\n",
       "    }\n",
       "\n",
       "    .dataframe thead th {\n",
       "        text-align: right;\n",
       "    }\n",
       "</style>\n",
       "<table border=\"1\" class=\"dataframe\">\n",
       "  <thead>\n",
       "    <tr style=\"text-align: right;\">\n",
       "      <th></th>\n",
       "      <th>run_id</th>\n",
       "      <th>x_pos</th>\n",
       "      <th>y_pos</th>\n",
       "      <th>offset</th>\n",
       "      <th>position</th>\n",
       "      <th>position_nr</th>\n",
       "    </tr>\n",
       "  </thead>\n",
       "  <tbody>\n",
       "    <tr>\n",
       "      <th>0</th>\n",
       "      <td>4</td>\n",
       "      <td>0.2</td>\n",
       "      <td>0.2</td>\n",
       "      <td>0.265679</td>\n",
       "      <td>20.0%_20.0%</td>\n",
       "      <td>1</td>\n",
       "    </tr>\n",
       "    <tr>\n",
       "      <th>1</th>\n",
       "      <td>4</td>\n",
       "      <td>0.2</td>\n",
       "      <td>0.5</td>\n",
       "      <td>0.208599</td>\n",
       "      <td>20.0%_50.0%</td>\n",
       "      <td>2</td>\n",
       "    </tr>\n",
       "    <tr>\n",
       "      <th>2</th>\n",
       "      <td>4</td>\n",
       "      <td>0.2</td>\n",
       "      <td>0.8</td>\n",
       "      <td>0.228932</td>\n",
       "      <td>20.0%_80.0%</td>\n",
       "      <td>3</td>\n",
       "    </tr>\n",
       "    <tr>\n",
       "      <th>3</th>\n",
       "      <td>4</td>\n",
       "      <td>0.5</td>\n",
       "      <td>0.2</td>\n",
       "      <td>0.258921</td>\n",
       "      <td>50.0%_20.0%</td>\n",
       "      <td>4</td>\n",
       "    </tr>\n",
       "    <tr>\n",
       "      <th>4</th>\n",
       "      <td>4</td>\n",
       "      <td>0.5</td>\n",
       "      <td>0.5</td>\n",
       "      <td>0.207897</td>\n",
       "      <td>50.0%_50.0%</td>\n",
       "      <td>5</td>\n",
       "    </tr>\n",
       "  </tbody>\n",
       "</table>\n",
       "</div>"
      ],
      "text/plain": [
       "   run_id  x_pos  y_pos    offset     position  position_nr\n",
       "0       4    0.2    0.2  0.265679  20.0%_20.0%            1\n",
       "1       4    0.2    0.5  0.208599  20.0%_50.0%            2\n",
       "2       4    0.2    0.8  0.228932  20.0%_80.0%            3\n",
       "3       4    0.5    0.2  0.258921  50.0%_20.0%            4\n",
       "4       4    0.5    0.5  0.207897  50.0%_50.0%            5"
      ]
     },
     "execution_count": 29,
     "metadata": {},
     "output_type": "execute_result"
    }
   ],
   "source": [
    "def outcome_by_position_long(outcome_var):\n",
    "    output_long = data_trial_fix.groupby(['run_id', 'x_pos', 'y_pos'], as_index=False) \\\n",
    "    [outcome_var].median() \n",
    "    output_long['position'] = list(map(\n",
    "        lambda x, y: str(x*100) + '%_' + str(y*100) + '%', \n",
    "        output_long['x_pos'], \n",
    "        output_long['y_pos']\n",
    "    ))\n",
    "\n",
    "    output_long['position_nr'] = output_long['position'] \\\n",
    "        .replace(\n",
    "            [\n",
    "                '20.0%_20.0%', '20.0%_50.0%', '20.0%_80.0%', \n",
    "                '50.0%_20.0%', '50.0%_50.0%', '50.0%_80.0%', \n",
    "                '80.0%_20.0%', '80.0%_50.0%', '80.0%_80.0%'\n",
    "            ], \n",
    "            np.arange(1, 10)\n",
    "        )\n",
    "    return output_long\n",
    "\n",
    "outcome_by_position_long('offset').head(5)"
   ]
  },
  {
   "cell_type": "code",
   "execution_count": 30,
   "metadata": {},
   "outputs": [
    {
     "name": "stdout",
     "output_type": "stream",
     "text": [
      "Success: No missing values found\n"
     ]
    },
    {
     "data": {
      "text/html": [
       "<div>\n",
       "<style scoped>\n",
       "    .dataframe tbody tr th:only-of-type {\n",
       "        vertical-align: middle;\n",
       "    }\n",
       "\n",
       "    .dataframe tbody tr th {\n",
       "        vertical-align: top;\n",
       "    }\n",
       "\n",
       "    .dataframe thead th {\n",
       "        text-align: right;\n",
       "    }\n",
       "</style>\n",
       "<table border=\"1\" class=\"dataframe\">\n",
       "  <thead>\n",
       "    <tr style=\"text-align: right;\">\n",
       "      <th>position</th>\n",
       "      <th>run_id</th>\n",
       "      <th>20.0%_20.0%</th>\n",
       "      <th>20.0%_50.0%</th>\n",
       "      <th>20.0%_80.0%</th>\n",
       "      <th>50.0%_20.0%</th>\n",
       "      <th>50.0%_50.0%</th>\n",
       "      <th>50.0%_80.0%</th>\n",
       "      <th>80.0%_20.0%</th>\n",
       "      <th>80.0%_50.0%</th>\n",
       "      <th>80.0%_80.0%</th>\n",
       "    </tr>\n",
       "  </thead>\n",
       "  <tbody>\n",
       "    <tr>\n",
       "      <th>0</th>\n",
       "      <td>4</td>\n",
       "      <td>0.265679</td>\n",
       "      <td>0.208599</td>\n",
       "      <td>0.228932</td>\n",
       "      <td>0.258921</td>\n",
       "      <td>0.207897</td>\n",
       "      <td>0.230479</td>\n",
       "      <td>0.428853</td>\n",
       "      <td>0.322680</td>\n",
       "      <td>0.250551</td>\n",
       "    </tr>\n",
       "    <tr>\n",
       "      <th>1</th>\n",
       "      <td>5</td>\n",
       "      <td>0.070783</td>\n",
       "      <td>0.087638</td>\n",
       "      <td>0.083162</td>\n",
       "      <td>0.074365</td>\n",
       "      <td>0.075722</td>\n",
       "      <td>0.066374</td>\n",
       "      <td>0.055398</td>\n",
       "      <td>0.057796</td>\n",
       "      <td>0.099017</td>\n",
       "    </tr>\n",
       "    <tr>\n",
       "      <th>2</th>\n",
       "      <td>6</td>\n",
       "      <td>0.130548</td>\n",
       "      <td>0.109199</td>\n",
       "      <td>0.132100</td>\n",
       "      <td>0.101676</td>\n",
       "      <td>0.151561</td>\n",
       "      <td>0.048144</td>\n",
       "      <td>0.158100</td>\n",
       "      <td>0.129393</td>\n",
       "      <td>0.088723</td>\n",
       "    </tr>\n",
       "    <tr>\n",
       "      <th>3</th>\n",
       "      <td>7</td>\n",
       "      <td>0.069552</td>\n",
       "      <td>0.076056</td>\n",
       "      <td>0.094204</td>\n",
       "      <td>0.114574</td>\n",
       "      <td>0.077544</td>\n",
       "      <td>0.069346</td>\n",
       "      <td>0.116827</td>\n",
       "      <td>0.061706</td>\n",
       "      <td>0.110298</td>\n",
       "    </tr>\n",
       "    <tr>\n",
       "      <th>4</th>\n",
       "      <td>11</td>\n",
       "      <td>0.260542</td>\n",
       "      <td>0.260419</td>\n",
       "      <td>0.617480</td>\n",
       "      <td>0.305825</td>\n",
       "      <td>0.175973</td>\n",
       "      <td>0.299290</td>\n",
       "      <td>0.269331</td>\n",
       "      <td>0.297330</td>\n",
       "      <td>0.398833</td>\n",
       "    </tr>\n",
       "    <tr>\n",
       "      <th>...</th>\n",
       "      <td>...</td>\n",
       "      <td>...</td>\n",
       "      <td>...</td>\n",
       "      <td>...</td>\n",
       "      <td>...</td>\n",
       "      <td>...</td>\n",
       "      <td>...</td>\n",
       "      <td>...</td>\n",
       "      <td>...</td>\n",
       "      <td>...</td>\n",
       "    </tr>\n",
       "    <tr>\n",
       "      <th>203</th>\n",
       "      <td>449</td>\n",
       "      <td>0.117523</td>\n",
       "      <td>0.112021</td>\n",
       "      <td>0.120988</td>\n",
       "      <td>0.093355</td>\n",
       "      <td>0.198585</td>\n",
       "      <td>0.057588</td>\n",
       "      <td>0.146894</td>\n",
       "      <td>0.113508</td>\n",
       "      <td>0.138622</td>\n",
       "    </tr>\n",
       "    <tr>\n",
       "      <th>204</th>\n",
       "      <td>454</td>\n",
       "      <td>0.096517</td>\n",
       "      <td>0.077071</td>\n",
       "      <td>0.136162</td>\n",
       "      <td>0.100810</td>\n",
       "      <td>0.181601</td>\n",
       "      <td>0.079179</td>\n",
       "      <td>0.094303</td>\n",
       "      <td>0.057751</td>\n",
       "      <td>0.126190</td>\n",
       "    </tr>\n",
       "    <tr>\n",
       "      <th>205</th>\n",
       "      <td>456</td>\n",
       "      <td>0.070752</td>\n",
       "      <td>0.084609</td>\n",
       "      <td>0.108904</td>\n",
       "      <td>0.145560</td>\n",
       "      <td>0.090945</td>\n",
       "      <td>0.084129</td>\n",
       "      <td>0.129111</td>\n",
       "      <td>0.083485</td>\n",
       "      <td>0.081061</td>\n",
       "    </tr>\n",
       "    <tr>\n",
       "      <th>206</th>\n",
       "      <td>458</td>\n",
       "      <td>0.451185</td>\n",
       "      <td>0.311148</td>\n",
       "      <td>0.417573</td>\n",
       "      <td>0.293742</td>\n",
       "      <td>0.072359</td>\n",
       "      <td>0.302359</td>\n",
       "      <td>0.413396</td>\n",
       "      <td>0.295295</td>\n",
       "      <td>0.399653</td>\n",
       "    </tr>\n",
       "    <tr>\n",
       "      <th>207</th>\n",
       "      <td>462</td>\n",
       "      <td>0.108279</td>\n",
       "      <td>0.160291</td>\n",
       "      <td>0.186932</td>\n",
       "      <td>0.167835</td>\n",
       "      <td>0.137322</td>\n",
       "      <td>0.174679</td>\n",
       "      <td>0.128126</td>\n",
       "      <td>0.076070</td>\n",
       "      <td>0.284674</td>\n",
       "    </tr>\n",
       "  </tbody>\n",
       "</table>\n",
       "<p>208 rows × 10 columns</p>\n",
       "</div>"
      ],
      "text/plain": [
       "position  run_id  20.0%_20.0%  20.0%_50.0%  20.0%_80.0%  50.0%_20.0%  \\\n",
       "0              4     0.265679     0.208599     0.228932     0.258921   \n",
       "1              5     0.070783     0.087638     0.083162     0.074365   \n",
       "2              6     0.130548     0.109199     0.132100     0.101676   \n",
       "3              7     0.069552     0.076056     0.094204     0.114574   \n",
       "4             11     0.260542     0.260419     0.617480     0.305825   \n",
       "..           ...          ...          ...          ...          ...   \n",
       "203          449     0.117523     0.112021     0.120988     0.093355   \n",
       "204          454     0.096517     0.077071     0.136162     0.100810   \n",
       "205          456     0.070752     0.084609     0.108904     0.145560   \n",
       "206          458     0.451185     0.311148     0.417573     0.293742   \n",
       "207          462     0.108279     0.160291     0.186932     0.167835   \n",
       "\n",
       "position  50.0%_50.0%  50.0%_80.0%  80.0%_20.0%  80.0%_50.0%  80.0%_80.0%  \n",
       "0            0.207897     0.230479     0.428853     0.322680     0.250551  \n",
       "1            0.075722     0.066374     0.055398     0.057796     0.099017  \n",
       "2            0.151561     0.048144     0.158100     0.129393     0.088723  \n",
       "3            0.077544     0.069346     0.116827     0.061706     0.110298  \n",
       "4            0.175973     0.299290     0.269331     0.297330     0.398833  \n",
       "..                ...          ...          ...          ...          ...  \n",
       "203          0.198585     0.057588     0.146894     0.113508     0.138622  \n",
       "204          0.181601     0.079179     0.094303     0.057751     0.126190  \n",
       "205          0.090945     0.084129     0.129111     0.083485     0.081061  \n",
       "206          0.072359     0.302359     0.413396     0.295295     0.399653  \n",
       "207          0.137322     0.174679     0.128126     0.076070     0.284674  \n",
       "\n",
       "[208 rows x 10 columns]"
      ]
     },
     "execution_count": 30,
     "metadata": {},
     "output_type": "execute_result"
    }
   ],
   "source": [
    "def outcome_by_position_wide(outcome_var):\n",
    "    output_long = data_trial_fix.groupby(['run_id', 'x_pos', 'y_pos'], as_index=False) \\\n",
    "    [outcome_var].median() \n",
    "    output_long['position'] = list(map(\n",
    "        lambda x, y: str(x*100) + '%_' + str(y*100) + '%', \n",
    "        output_long['x_pos'], \n",
    "        output_long['y_pos']\n",
    "    ))\n",
    "\n",
    "    output_long['position_nr'] = output_long['position'] \\\n",
    "        .replace(\n",
    "            [\n",
    "                '20.0%_20.0%', '20.0%_50.0%', '20.0%_80.0%', \n",
    "                '50.0%_20.0%', '50.0%_50.0%', '50.0%_80.0%', \n",
    "                '80.0%_20.0%', '80.0%_50.0%', '80.0%_80.0%'\n",
    "            ], \n",
    "            np.arange(1, 10)\n",
    "        )\n",
    "    \n",
    "    output_wide = pd.pivot_table(\n",
    "        output_long, \n",
    "        index = 'run_id',\n",
    "        columns = 'position',\n",
    "        values = outcome_var).reset_index()\n",
    "\n",
    "    null_data = output_wide.loc[output_wide.isnull().any(axis=1), :]\n",
    "    if len(null_data)>0:\n",
    "        print('! Attention ! Missing values')\n",
    "        print(null_data)\n",
    "    else:\n",
    "        print('Success: No missing values found')\n",
    "\n",
    "    return output_wide\n",
    "    \n",
    "outcome_by_position_wide('offset')"
   ]
  },
  {
   "cell_type": "code",
   "execution_count": 31,
   "metadata": {},
   "outputs": [
    {
     "name": "stdout",
     "output_type": "stream",
     "text": [
      "N combinations: 36\n"
     ]
    }
   ],
   "source": [
    "def pos_combinations():\n",
    "    cols = [\n",
    "                '20.0%_20.0%', '20.0%_50.0%', '20.0%_80.0%', \n",
    "                '50.0%_20.0%', '50.0%_50.0%', '50.0%_80.0%', \n",
    "                '80.0%_20.0%', '80.0%_50.0%', '80.0%_80.0%'\n",
    "            ]\n",
    "    combinations = np.array(np.meshgrid(cols, cols)).T.reshape((-1, 2))\n",
    "\n",
    "    for i in range(0, len(combinations)):\n",
    "        combinations[i] = np.sort(combinations[i], axis=None)\n",
    "\n",
    "    combinations = pd.DataFrame(combinations, columns=['col1', 'col2'])\n",
    "    combinations = combinations \\\n",
    "        .loc[combinations['col1']!=combinations['col2'], :] \\\n",
    "        .drop_duplicates() \\\n",
    "        .reset_index(drop=True)\n",
    "    print(f\"\"\"N combinations: {len(combinations)}\"\"\")\n",
    "    return combinations\n",
    "\n",
    "combinations = pos_combinations()"
   ]
  },
  {
   "cell_type": "markdown",
   "metadata": {},
   "source": [
    "Robert Rosenthal. The hand-book of research synthesis, chapter Parametric measures of effect size, pages 231–244. New York, NY: Russel Sage Foundation, 1994.\n",
    "t / sqrt n"
   ]
  },
  {
   "cell_type": "code",
   "execution_count": 32,
   "metadata": {},
   "outputs": [
    {
     "name": "stdout",
     "output_type": "stream",
     "text": [
      "Success: No missing values found\n",
      "N combinations: 36\n"
     ]
    },
    {
     "data": {
      "text/html": [
       "<div>\n",
       "<style scoped>\n",
       "    .dataframe tbody tr th:only-of-type {\n",
       "        vertical-align: middle;\n",
       "    }\n",
       "\n",
       "    .dataframe tbody tr th {\n",
       "        vertical-align: top;\n",
       "    }\n",
       "\n",
       "    .dataframe thead th {\n",
       "        text-align: right;\n",
       "    }\n",
       "</style>\n",
       "<table border=\"1\" class=\"dataframe\">\n",
       "  <thead>\n",
       "    <tr style=\"text-align: right;\">\n",
       "      <th></th>\n",
       "      <th>position_1</th>\n",
       "      <th>position_2</th>\n",
       "      <th>position_1_mean</th>\n",
       "      <th>position_2_mean</th>\n",
       "      <th>d</th>\n",
       "      <th>t</th>\n",
       "      <th>p</th>\n",
       "      <th>Sig</th>\n",
       "    </tr>\n",
       "  </thead>\n",
       "  <tbody>\n",
       "    <tr>\n",
       "      <th>0</th>\n",
       "      <td>20.0%_20.0%</td>\n",
       "      <td>20.0%_50.0%</td>\n",
       "      <td>0.180405</td>\n",
       "      <td>0.154442</td>\n",
       "      <td>0.358470</td>\n",
       "      <td>5.169924</td>\n",
       "      <td>1.156209e-05</td>\n",
       "      <td>***</td>\n",
       "    </tr>\n",
       "    <tr>\n",
       "      <th>3</th>\n",
       "      <td>20.0%_20.0%</td>\n",
       "      <td>50.0%_50.0%</td>\n",
       "      <td>0.180405</td>\n",
       "      <td>0.131245</td>\n",
       "      <td>0.516256</td>\n",
       "      <td>7.445548</td>\n",
       "      <td>7.668313e-11</td>\n",
       "      <td>***</td>\n",
       "    </tr>\n",
       "    <tr>\n",
       "      <th>4</th>\n",
       "      <td>20.0%_20.0%</td>\n",
       "      <td>50.0%_80.0%</td>\n",
       "      <td>0.180405</td>\n",
       "      <td>0.147619</td>\n",
       "      <td>0.360224</td>\n",
       "      <td>5.195230</td>\n",
       "      <td>1.074190e-05</td>\n",
       "      <td>***</td>\n",
       "    </tr>\n",
       "    <tr>\n",
       "      <th>6</th>\n",
       "      <td>20.0%_20.0%</td>\n",
       "      <td>80.0%_50.0%</td>\n",
       "      <td>0.180405</td>\n",
       "      <td>0.149456</td>\n",
       "      <td>0.351593</td>\n",
       "      <td>5.070746</td>\n",
       "      <td>1.668196e-05</td>\n",
       "      <td>***</td>\n",
       "    </tr>\n",
       "    <tr>\n",
       "      <th>8</th>\n",
       "      <td>20.0%_50.0%</td>\n",
       "      <td>20.0%_80.0%</td>\n",
       "      <td>0.154442</td>\n",
       "      <td>0.192389</td>\n",
       "      <td>-0.523023</td>\n",
       "      <td>-7.543150</td>\n",
       "      <td>4.413716e-11</td>\n",
       "      <td>***</td>\n",
       "    </tr>\n",
       "  </tbody>\n",
       "</table>\n",
       "</div>"
      ],
      "text/plain": [
       "    position_1   position_2  position_1_mean  position_2_mean         d  \\\n",
       "0  20.0%_20.0%  20.0%_50.0%         0.180405         0.154442  0.358470   \n",
       "3  20.0%_20.0%  50.0%_50.0%         0.180405         0.131245  0.516256   \n",
       "4  20.0%_20.0%  50.0%_80.0%         0.180405         0.147619  0.360224   \n",
       "6  20.0%_20.0%  80.0%_50.0%         0.180405         0.149456  0.351593   \n",
       "8  20.0%_50.0%  20.0%_80.0%         0.154442         0.192389 -0.523023   \n",
       "\n",
       "          t             p  Sig  \n",
       "0  5.169924  1.156209e-05  ***  \n",
       "3  7.445548  7.668313e-11  ***  \n",
       "4  5.195230  1.074190e-05  ***  \n",
       "6  5.070746  1.668196e-05  ***  \n",
       "8 -7.543150  4.413716e-11  ***  "
      ]
     },
     "execution_count": 32,
     "metadata": {},
     "output_type": "execute_result"
    }
   ],
   "source": [
    "def test_all_positions(outcome_var):\n",
    "\n",
    "    positions = outcome_by_position_wide(outcome_var)\n",
    "    combinations = pos_combinations()    \n",
    "    \n",
    "    all_results = []\n",
    "\n",
    "    n = len(positions['run_id'].unique())\n",
    "\n",
    "    for i in combinations.index:\n",
    "        result = stats.ttest_rel(\n",
    "            positions[combinations.loc[i, 'col1']], \n",
    "            positions[combinations.loc[i, 'col2']])\n",
    "\n",
    "        all_results.append([\n",
    "            combinations.loc[i, 'col1'],\n",
    "            combinations.loc[i, 'col2'],\n",
    "            np.mean(positions[combinations.loc[i, 'col1']]),\n",
    "            np.mean(positions[combinations.loc[i, 'col2']]),\n",
    "            (result.statistic / np.sqrt(n)),\n",
    "            result.statistic, \n",
    "            result.pvalue])\n",
    "\n",
    "    position_tests = pd.DataFrame(\n",
    "        all_results, \n",
    "        columns=[\n",
    "            'position_1', 'position_2', 'position_1_mean', 'position_2_mean', \n",
    "            'd', 't', 'p'])\n",
    "\n",
    "    # Holm correction\n",
    "    position_tests['p'] = smt.multipletests(position_tests['p'], method='holm')[1]\n",
    "\n",
    "    position_tests['Sig'] = 'np'\n",
    "    position_tests.loc[position_tests['p']<0.05, 'Sig'] = \"\"\"*\"\"\"\n",
    "    position_tests.loc[position_tests['p']<0.01, 'Sig'] = \"\"\"**\"\"\"\n",
    "    position_tests.loc[position_tests['p']<0.001, 'Sig'] = \"\"\"***\"\"\"\n",
    "\n",
    "    return position_tests\n",
    "\n",
    "position_tests = test_all_positions('offset')\n",
    "position_tests.loc[\n",
    "        position_tests['Sig']!='np'\n",
    "    ].head(5)"
   ]
  },
  {
   "cell_type": "markdown",
   "metadata": {},
   "source": [
    "### Top vs. Bottom"
   ]
  },
  {
   "cell_type": "code",
   "execution_count": 33,
   "metadata": {
    "scrolled": true
   },
   "outputs": [
    {
     "ename": "NameError",
     "evalue": "name 'n' is not defined",
     "output_type": "error",
     "traceback": [
      "\u001b[1;31m---------------------------------------------------------------------------\u001b[0m",
      "\u001b[1;31mNameError\u001b[0m                                 Traceback (most recent call last)",
      "\u001b[1;32m<ipython-input-33-3e427206a5e2>\u001b[0m in \u001b[0;36m<module>\u001b[1;34m\u001b[0m\n\u001b[0;32m     21\u001b[0m     \u001b[1;32mreturn\u001b[0m \u001b[0mresult\u001b[0m\u001b[1;33m\u001b[0m\u001b[1;33m\u001b[0m\u001b[0m\n\u001b[0;32m     22\u001b[0m \u001b[1;33m\u001b[0m\u001b[0m\n\u001b[1;32m---> 23\u001b[1;33m \u001b[0mtest_top_vs_bottom_positions\u001b[0m\u001b[1;33m(\u001b[0m\u001b[1;34m'offset'\u001b[0m\u001b[1;33m)\u001b[0m\u001b[1;33m\u001b[0m\u001b[1;33m\u001b[0m\u001b[0m\n\u001b[0m",
      "\u001b[1;32m<ipython-input-33-3e427206a5e2>\u001b[0m in \u001b[0;36mtest_top_vs_bottom_positions\u001b[1;34m(outcome_var)\u001b[0m\n\u001b[0;32m     17\u001b[0m     )\n\u001b[0;32m     18\u001b[0m \u001b[1;33m\u001b[0m\u001b[0m\n\u001b[1;32m---> 19\u001b[1;33m     \u001b[0mprint\u001b[0m\u001b[1;33m(\u001b[0m\u001b[1;34mf\"\"\"d: {(result.statistic / np.sqrt(n))}\"\"\"\u001b[0m\u001b[1;33m)\u001b[0m\u001b[1;33m\u001b[0m\u001b[1;33m\u001b[0m\u001b[0m\n\u001b[0m\u001b[0;32m     20\u001b[0m \u001b[1;33m\u001b[0m\u001b[0m\n\u001b[0;32m     21\u001b[0m     \u001b[1;32mreturn\u001b[0m \u001b[0mresult\u001b[0m\u001b[1;33m\u001b[0m\u001b[1;33m\u001b[0m\u001b[0m\n",
      "\u001b[1;31mNameError\u001b[0m: name 'n' is not defined"
     ]
    }
   ],
   "source": [
    "def test_top_vs_bottom_positions(outcome_var):\n",
    "    offset_by_y_long = outcome_by_position_long(outcome_var) \\\n",
    "        .groupby(['run_id', 'y_pos'], as_index=False)[outcome_var].mean()\n",
    "    offset_by_y_long = offset_by_y_long \\\n",
    "        .loc[offset_by_y_long['y_pos']!=0.5, :]\n",
    "    \n",
    "    offset_by_y_wide = pd.pivot_table(\n",
    "        offset_by_y_long, \n",
    "        index = 'run_id',\n",
    "        columns = 'y_pos',\n",
    "        values = outcome_var).reset_index()\n",
    "    \n",
    "    offset_by_y_wide.columns=['run_id', '20%', '80%']\n",
    "    result = stats.ttest_rel(\n",
    "            offset_by_y_wide['20%'], \n",
    "            offset_by_y_wide['80%']\n",
    "    )\n",
    "\n",
    "    n = len(offset_by_y_wide['run_id'].unique())\n",
    "    print(f\"\"\"d: {(result.statistic / np.sqrt(n))}\"\"\")\n",
    "\n",
    "    return result\n",
    "\n",
    "test_top_vs_bottom_positions('offset')"
   ]
  },
  {
   "cell_type": "code",
   "execution_count": null,
   "metadata": {},
   "outputs": [],
   "source": [
    "offset_by_y_long = outcome_by_position_long('offset') \\\n",
    "    .groupby(['run_id', 'y_pos'], as_index=False)['offset'].mean()\n",
    "offset_by_y_long = offset_by_y_long \\\n",
    "    .loc[offset_by_y_long['y_pos']!=0.5, :]\n",
    "offset_by_y_long\n",
    "\n",
    "fig, axes = plt.subplots(1, 1, sharey=True, figsize=(6,6))\n",
    "fig.suptitle('Offset top vs. bottom ')\n",
    "\n",
    "sns.violinplot(ax=axes, \n",
    "               x='y_pos', \n",
    "               y='offset', \n",
    "               data=offset_by_y_long)   \n",
    "plt.show()"
   ]
  },
  {
   "cell_type": "markdown",
   "metadata": {},
   "source": [
    "### Left vs. right"
   ]
  },
  {
   "cell_type": "code",
   "execution_count": null,
   "metadata": {
    "scrolled": false
   },
   "outputs": [],
   "source": [
    "def test_left_vs_right_positions(outcome_var):\n",
    "    offset_by_x_long = outcome_by_position_long(outcome_var) \\\n",
    "        .groupby(['run_id', 'x_pos'], as_index=False)[outcome_var].mean()\n",
    "    offset_by_x_long = offset_by_x_long \\\n",
    "        .loc[offset_by_x_long['x_pos']!=0.5, :]\n",
    "    \n",
    "    offset_by_x_wide = pd.pivot_table(\n",
    "        offset_by_x_long, \n",
    "        index = 'run_id',\n",
    "        columns = 'x_pos',\n",
    "        values = outcome_var).reset_index()\n",
    "    \n",
    "    offset_by_x_wide.columns=['run_id', '20%', '80%']\n",
    "    result = stats.ttest_rel(\n",
    "            offset_by_x_wide['20%'], \n",
    "            offset_by_x_wide['80%']\n",
    "    )\n",
    "    \n",
    "    n = len(offset_by_x_wide['run_id'].unique())\n",
    "    print(f\"\"\"d: {(result.statistic / np.sqrt(n))}\"\"\")\n",
    "\n",
    "    return result\n",
    "\n",
    "test_left_vs_right_positions('offset')"
   ]
  },
  {
   "cell_type": "markdown",
   "metadata": {},
   "source": [
    "## Aggregate on subject-level "
   ]
  },
  {
   "cell_type": "code",
   "execution_count": null,
   "metadata": {},
   "outputs": [],
   "source": [
    "def merge_by_subject(data, large_data, varName):\n",
    "    if varName in data.columns: data = data.drop(columns=[varName])\n",
    "    grouped = large_data.groupby(['run_id'])[varName].mean() \\\n",
    "        .reset_index()        \n",
    "    data = data.merge(grouped, on=['run_id'], how='left')\n",
    "    return data\n",
    "\n",
    "data_subject = merge_by_subject(data_subject, data_trial_fix, 'offset')\n",
    "data_subject = merge_by_subject(data_subject, data_trial_fix, 'offset_px')"
   ]
  },
  {
   "cell_type": "code",
   "execution_count": null,
   "metadata": {},
   "outputs": [],
   "source": [
    "def separate_outcomes_by_condition(data, large_data, varName, varCondition):\n",
    "    var_cond_0 = varName + '_' + varCondition + '_0' \n",
    "    var_cond_1 = varName + '_' + varCondition + '_1' \n",
    "    \n",
    "    if var_cond_0 in data.columns: \n",
    "        data = data.drop(columns=[var_cond_0])\n",
    "    if var_cond_1 in data.columns: \n",
    "        data = data.drop(columns=[var_cond_1])\n",
    "        \n",
    "    grouped = large_data \\\n",
    "        .groupby(['run_id', varCondition])[varName].mean() \\\n",
    "        .reset_index() \\\n",
    "        .pivot(index='run_id', columns=varCondition, values=varName) \\\n",
    "        .reset_index() \\\n",
    "        .rename(columns={0.0: var_cond_0, 1.0: var_cond_1}) \n",
    "    data = data.merge(grouped.loc[:, ['run_id', var_cond_0, var_cond_1]], on='run_id', how='left')\n",
    "    return data\n",
    "\n",
    "data_subject = separate_outcomes_by_condition(\n",
    "    data_subject, data_trial_fix, 'offset', 'chin')\n",
    "\n",
    "data_subject = separate_outcomes_by_condition(\n",
    "    data_subject, data_trial_fix, 'offset', 'glasses_binary')\n",
    "data_subject.loc[\n",
    "    :, \n",
    "    [\n",
    "        'offset', 'offset_chin_0', 'offset_chin_1',\n",
    "        'offset_glasses_binary_0', 'offset_glasses_binary_1'\n",
    "    ]\n",
    "].describe()"
   ]
  },
  {
   "cell_type": "code",
   "execution_count": null,
   "metadata": {
    "scrolled": true
   },
   "outputs": [],
   "source": [
    "data_subject = separate_outcomes_by_condition(data_subject, data_trial_fix, 'offset_px', 'chin')\n",
    "data_subject = separate_outcomes_by_condition(data_subject, data_trial_fix, 'offset_px', 'glasses_binary')\n",
    "\n",
    "data_subject.loc[\n",
    "    :, \n",
    "    [\n",
    "        'offset_px', 'offset_px_chin_0', 'offset_px_chin_1',\n",
    "        'offset_px_glasses_binary_0', 'offset_px_glasses_binary_1'\n",
    "    ]\n",
    "].describe()"
   ]
  },
  {
   "cell_type": "markdown",
   "metadata": {},
   "source": [
    "## Grand mean offset"
   ]
  },
  {
   "cell_type": "code",
   "execution_count": null,
   "metadata": {},
   "outputs": [],
   "source": [
    "grouped = data_et_fix.groupby(['run_id', 'trial_index']) \\\n",
    "    ['x', 'y'].mean() \\\n",
    "    .reset_index() \\\n",
    "    .rename(columns={'x': 'x_mean', 'y': 'y_mean'})\n",
    "\n",
    "if 'x_mean' in data_trial_fix.columns:\n",
    "    data_trial_fix = data_trial_fix.drop(columns=['x_mean'])\n",
    "if 'y_mean' in data_trial_fix.columns:\n",
    "    data_trial_fix = data_trial_fix.drop(columns=['y_mean'])    \n",
    "data_trial_fix = data_trial_fix.merge(\n",
    "    grouped,\n",
    "    on=['run_id', 'trial_index'],\n",
    "    how='left'\n",
    ") \n",
    "data_trial_fix['x_mean_px'] = data_trial_fix['x_mean'] * data_trial_fix['window_width']\n",
    "data_trial_fix['y_mean_px'] = data_trial_fix['y_mean'] * data_trial_fix['window_height']\n",
    "data_trial_fix.loc[:, ['x_mean', 'x_mean_px', 'y_mean', 'y_mean_px']].describe()"
   ]
  },
  {
   "cell_type": "code",
   "execution_count": null,
   "metadata": {},
   "outputs": [],
   "source": [
    "data_trial_fix['grand_deviation'] = euclideanDistance(\n",
    "    data_trial_fix['x_mean'], data_trial_fix['x_pos'],\n",
    "    data_trial_fix['y_mean'], data_trial_fix['y_pos']\n",
    ")\n",
    "data_trial_fix['grand_deviation'].describe()"
   ]
  },
  {
   "cell_type": "markdown",
   "metadata": {},
   "source": [
    "# Precision"
   ]
  },
  {
   "cell_type": "markdown",
   "metadata": {},
   "source": [
    "## Distance from AVG on et-level"
   ]
  },
  {
   "cell_type": "code",
   "execution_count": null,
   "metadata": {},
   "outputs": [],
   "source": [
    "def merge_xy_means(data):    \n",
    "    grouped = data.groupby(['run_id', 'trial_index'])['x', 'y'].mean() \\\n",
    "        .rename(columns={'x': 'x_mean', 'y': 'y_mean'})\n",
    "    \n",
    "    if 'x_mean' in data.columns: \n",
    "        data = data.drop(columns=['x_mean'])\n",
    "    if 'y_mean' in data.columns: \n",
    "        data = data.drop(columns=['y_mean'])\n",
    "    data = data.merge(grouped, on=['run_id', 'trial_index'], how='left') \n",
    "    return(data)\n",
    "\n",
    "def distanceFromAVG_square(data):\n",
    "    data = merge_xy_means(data)\n",
    "    data['distanceFromAVG_square'] = np.power(\n",
    "        euclideanDistance(data['x'], data['x_mean'], data['y'], data['y_mean']),\n",
    "        2\n",
    "    )\n",
    "    data['distanceFromAVG_square_px'] = np.power(euclideanDistance(\n",
    "        (data['x'] * data_et['window_width']), \n",
    "        (data['x_mean'] * data_et['window_width']), \n",
    "        (data['y'] * data_et['window_height']), \n",
    "        (data['y_mean'] * data_et['window_height'])\n",
    "    ), 2)\n",
    "    \n",
    "    return(data)  \n",
    "\n",
    "data_et = distanceFromAVG_square(data_et)\n",
    "data_et_fix = distanceFromAVG_square(data_et_fix)\n",
    "print(data_et_fix.loc[\n",
    "    pd.isna(data_et_fix['distanceFromAVG_square']), \n",
    "    ['x', 'y', 'x_pos', 'y_pos', 'distanceFromAVG_square']\n",
    "])\n",
    "data_et_fix.loc[\n",
    "    :, ['distanceFromAVG_square', 'distanceFromAVG_square_px']] \\\n",
    "    .describe()"
   ]
  },
  {
   "cell_type": "markdown",
   "metadata": {},
   "source": [
    "## Aggregate standard deviation on trial-level"
   ]
  },
  {
   "cell_type": "code",
   "execution_count": null,
   "metadata": {},
   "outputs": [],
   "source": [
    "data_trial = merge_varMean_by_index(\n",
    "    data_trial, data_et, 'distanceFromAVG_square')\n",
    "data_trial['precision'] = np.sqrt(data_trial['distanceFromAVG_square'])\n",
    "\n",
    "data_trial_fix = merge_varMean_by_index(\n",
    "    data_trial_fix, data_et_fix, 'distanceFromAVG_square')\n",
    "data_trial_fix['precision'] = np.sqrt(data_trial_fix['distanceFromAVG_square'])\n",
    "print(data_trial_fix['precision'].describe())"
   ]
  },
  {
   "cell_type": "markdown",
   "metadata": {},
   "source": [
    "In pixel"
   ]
  },
  {
   "cell_type": "code",
   "execution_count": null,
   "metadata": {},
   "outputs": [],
   "source": [
    "data_trial = merge_varMean_by_index(\n",
    "    data_trial, data_et, 'distanceFromAVG_square_px')\n",
    "data_trial['precision_px'] = np.sqrt(data_trial['distanceFromAVG_square_px'])\n",
    "\n",
    "data_trial_fix = merge_varMean_by_index(\n",
    "    data_trial_fix, data_et_fix, 'distanceFromAVG_square_px')\n",
    "data_trial_fix['precision_px'] = np.sqrt(data_trial_fix['distanceFromAVG_square_px'])\n",
    "print(data_trial_fix['precision_px'].describe())"
   ]
  },
  {
   "cell_type": "markdown",
   "metadata": {},
   "source": [
    "Any missing values?"
   ]
  },
  {
   "cell_type": "code",
   "execution_count": null,
   "metadata": {},
   "outputs": [],
   "source": [
    "data_trial_fix.loc[\n",
    "    pd.isna(data_trial_fix['precision']), \n",
    "    ['run_id', 'trial_index', 'x_pos', 'y_pos', 'precision']\n",
    "]"
   ]
  },
  {
   "cell_type": "markdown",
   "metadata": {},
   "source": [
    "## Precision across trials"
   ]
  },
  {
   "cell_type": "code",
   "execution_count": null,
   "metadata": {},
   "outputs": [],
   "source": [
    "data_plot = group_chin_withinTaskIndex(\n",
    "    data_trial.loc[data_trial['fixTask']==1, :],\n",
    "    'precision'\n",
    ")\n",
    "data_plot"
   ]
  },
  {
   "cell_type": "code",
   "execution_count": null,
   "metadata": {
    "scrolled": true
   },
   "outputs": [],
   "source": [
    "plt.style.use('seaborn-whitegrid')\n",
    "fig, ax = plt.subplots(1, 2, sharey=True, figsize=(15,6))\n",
    "fig.suptitle('chin==0 vs. chin==1')\n",
    "\n",
    "ax[0].set_ylim(0, 1)\n",
    "\n",
    "for i in [0, 1]:\n",
    "    data = data_plot.loc[data_plot['chin']==i, :]\n",
    "    ax[i].errorbar(\n",
    "        x = data['withinTaskIndex'], \n",
    "        y = data['precision_median'],\n",
    "        yerr=[data['precision_std_lower'], data['precision_std_upper']],\n",
    "        fmt='^k:',\n",
    "        capsize=5\n",
    "    )\n",
    "plt.show()"
   ]
  },
  {
   "cell_type": "markdown",
   "metadata": {},
   "source": [
    "## Comparing across positions"
   ]
  },
  {
   "cell_type": "markdown",
   "metadata": {},
   "source": [
    "### All positions"
   ]
  },
  {
   "cell_type": "code",
   "execution_count": null,
   "metadata": {},
   "outputs": [],
   "source": [
    "outcome_by_position_long('precision').head(5)"
   ]
  },
  {
   "cell_type": "code",
   "execution_count": null,
   "metadata": {},
   "outputs": [],
   "source": [
    "outcome_by_position_wide('precision')"
   ]
  },
  {
   "cell_type": "code",
   "execution_count": null,
   "metadata": {},
   "outputs": [],
   "source": [
    "position_tests = test_all_positions('precision')\n",
    "position_tests.loc[\n",
    "        position_tests['Sig']!='np'\n",
    "    ].head(5)"
   ]
  },
  {
   "cell_type": "markdown",
   "metadata": {},
   "source": [
    "### Top vs. Bottom"
   ]
  },
  {
   "cell_type": "code",
   "execution_count": null,
   "metadata": {
    "scrolled": true
   },
   "outputs": [],
   "source": [
    "test_top_vs_bottom_positions('precision')"
   ]
  },
  {
   "cell_type": "code",
   "execution_count": null,
   "metadata": {},
   "outputs": [],
   "source": [
    "precision_by_y_long = outcome_by_position_long('precision') \\\n",
    "    .groupby(['run_id', 'y_pos'], as_index=False)['precision'].mean()\n",
    "precision_by_y_long = precision_by_y_long \\\n",
    "    .loc[precision_by_y_long['y_pos']!=0.5, :]\n",
    "\n",
    "fig, axes = plt.subplots(1, 1, sharey=True, figsize=(6,6))\n",
    "fig.suptitle('precision top vs. bottom ')\n",
    "\n",
    "sns.violinplot(ax=axes, \n",
    "               x='y_pos', \n",
    "               y='precision', \n",
    "               data=precision_by_y_long)   \n",
    "plt.show()"
   ]
  },
  {
   "cell_type": "markdown",
   "metadata": {},
   "source": [
    "### Left vs. right"
   ]
  },
  {
   "cell_type": "code",
   "execution_count": null,
   "metadata": {
    "scrolled": false
   },
   "outputs": [],
   "source": [
    "test_left_vs_right_positions('precision')"
   ]
  },
  {
   "cell_type": "markdown",
   "metadata": {},
   "source": [
    "## Aggregate on subject-level "
   ]
  },
  {
   "cell_type": "code",
   "execution_count": null,
   "metadata": {
    "scrolled": true
   },
   "outputs": [],
   "source": [
    "data_subject = merge_by_subject(data_subject, data_trial_fix, 'precision')\n",
    "data_subject = separate_outcomes_by_condition(\n",
    "    data_subject, data_trial_fix, 'precision', 'chin')\n",
    "data_subject = separate_outcomes_by_condition(\n",
    "    data_subject, data_trial_fix, 'precision', 'glasses_binary')\n",
    "data_subject.loc[\n",
    "    :, \n",
    "    [\n",
    "        'precision', 'precision_chin_0', 'precision_chin_1',\n",
    "        'precision_glasses_binary_0', 'precision_glasses_binary_1'\n",
    "    ]\n",
    "].describe()"
   ]
  },
  {
   "cell_type": "markdown",
   "metadata": {},
   "source": [
    "In pixel"
   ]
  },
  {
   "cell_type": "code",
   "execution_count": null,
   "metadata": {},
   "outputs": [],
   "source": [
    "data_subject = merge_by_subject(data_subject, data_trial_fix, 'precision_px')\n",
    "data_subject = separate_outcomes_by_condition(\n",
    "    data_subject, data_trial_fix, 'precision_px', 'chin')\n",
    "data_subject = separate_outcomes_by_condition(\n",
    "    data_subject, data_trial_fix, 'precision_px', 'glasses_binary')\n",
    "data_subject.loc[\n",
    "    :, \n",
    "    [\n",
    "        'precision_px', 'precision_px_chin_0', 'precision_px_chin_1',\n",
    "        'precision_px_glasses_binary_0', 'precision_px_glasses_binary_1'\n",
    "    ]\n",
    "].describe()"
   ]
  },
  {
   "cell_type": "markdown",
   "metadata": {},
   "source": [
    "# chinFirst: Randomization worked? "
   ]
  },
  {
   "cell_type": "code",
   "execution_count": null,
   "metadata": {
    "scrolled": false
   },
   "outputs": [],
   "source": [
    "fig, axes = plt.subplots(1, 2, sharey=True, figsize=(15,6))\n",
    "fig.suptitle('Offset chinFirst==0 vs. chinFirst==1')\n",
    "\n",
    "sns.boxplot(ax=axes[0], x='chin', y='offset', \n",
    "            data=data_trial_fix.loc[data_trial_fix['chinFirst']==0, :])\n",
    "sns.boxplot(ax=axes[1], x='chin', y='offset', \n",
    "            data=data_trial_fix.loc[data_trial_fix['chinFirst']==1, :])\n",
    "   \n",
    "plt.show()"
   ]
  },
  {
   "cell_type": "code",
   "execution_count": null,
   "metadata": {
    "scrolled": true
   },
   "outputs": [],
   "source": [
    "fig, axes = plt.subplots(1, 2, sharey=True, figsize=(15,6))\n",
    "fig.suptitle('precision chinFirst==0 vs. chinFirst==1')\n",
    "\n",
    "sns.boxplot(ax=axes[0], x='chin', y='precision', \n",
    "            data=data_trial_fix.loc[data_trial_fix['chinFirst']==0, :])\n",
    "sns.boxplot(ax=axes[1], x='chin', y='precision', \n",
    "            data=data_trial_fix.loc[data_trial_fix['chinFirst']==1, :])\n",
    "   \n",
    "plt.show()"
   ]
  },
  {
   "cell_type": "code",
   "execution_count": null,
   "metadata": {},
   "outputs": [],
   "source": [
    "fig, axes = plt.subplots(1, 2, sharey=True, figsize=(15,6))\n",
    "fig.suptitle('precision chinFirst==0 vs. chinFirst==1')\n",
    "\n",
    "sns.boxplot(ax=axes[0], x='chin', y='fps', \n",
    "            data=data_trial_fix.loc[data_trial_fix['chinFirst']==0, :])\n",
    "sns.boxplot(ax=axes[1], x='chin', y='fps', \n",
    "            data=data_trial_fix.loc[data_trial_fix['chinFirst']==1, :])\n",
    "   \n",
    "plt.show()"
   ]
  },
  {
   "cell_type": "markdown",
   "metadata": {},
   "source": [
    "# Main effect: chin-rest\n",
    " - t-tests will follow\n",
    " - TODO: Compare subjects with high fps (Semmelmann & Weigelt, 2019)"
   ]
  },
  {
   "cell_type": "code",
   "execution_count": null,
   "metadata": {},
   "outputs": [],
   "source": [
    "data_trial_fix['fps'].median()\n",
    "data_trial_fix['high_fps']=0\n",
    "data_trial_fix.loc[\n",
    "    data_trial_fix['fps']>data_trial_fix['fps'].median(),\n",
    "    'high_fps'\n",
    "]=1"
   ]
  },
  {
   "cell_type": "code",
   "execution_count": null,
   "metadata": {},
   "outputs": [],
   "source": [
    "fig, axes = plt.subplots(1, 2, sharey=True, figsize=(15,6))\n",
    "fig.suptitle('Offset and precision')\n",
    "\n",
    "sns.violinplot(ax=axes[0], \n",
    "               x='chin', \n",
    "               y='offset', \n",
    "               data=data_trial_fix)\n",
    "sns.violinplot(ax=axes[1], \n",
    "               x='chin', \n",
    "               y='precision', \n",
    "               data=data_trial_fix)\n",
    "   \n",
    "plt.show()"
   ]
  },
  {
   "cell_type": "code",
   "execution_count": null,
   "metadata": {},
   "outputs": [],
   "source": [
    "fig, axes = plt.subplots(1, 2, sharey=True, figsize=(15,6))\n",
    "fig.suptitle('Offset and precision')\n",
    "\n",
    "sns.violinplot(ax=axes[0], \n",
    "               x='chin', \n",
    "               y='offset', \n",
    "               hue='high_fps',\n",
    "               split=True,\n",
    "               data=data_trial_fix)\n",
    "sns.violinplot(ax=axes[1], \n",
    "               x='chin', \n",
    "               y='precision', \n",
    "               hue='high_fps',\n",
    "               split=True,\n",
    "               data=data_trial_fix)\n",
    "   \n",
    "plt.show()"
   ]
  },
  {
   "cell_type": "code",
   "execution_count": null,
   "metadata": {},
   "outputs": [],
   "source": [
    "sns.violinplot(x='chin', y='fps', data=data_trial_fix)   \n",
    "plt.show()"
   ]
  },
  {
   "cell_type": "code",
   "execution_count": null,
   "metadata": {},
   "outputs": [],
   "source": [
    "means_0 = data_subject.loc[:, ['offset_chin_0', 'offset_chin_1', 'precision_chin_0', 'precision_chin_1']].mean() \\\n",
    "    .reset_index() \\\n",
    "    .rename(columns={0: 'mean'})\n",
    "var_0 = data_subject.loc[:, ['offset_chin_0', 'offset_chin_1', 'precision_chin_0', 'precision_chin_1']].var() \\\n",
    "    .reset_index() \\\n",
    "    .rename(columns={0: 'var'})\n",
    "means_0.merge(var_0, on='index', how='left')"
   ]
  },
  {
   "cell_type": "code",
   "execution_count": null,
   "metadata": {},
   "outputs": [],
   "source": [
    "test_data = data_subject.loc[\n",
    "    pd.notna(data_subject['offset_chin_0']) & \n",
    "    pd.notna(data_subject['offset_chin_1']), :]\n",
    "scipy.stats.ttest_rel(test_data['offset_chin_0'], test_data['offset_chin_1'])"
   ]
  },
  {
   "cell_type": "markdown",
   "metadata": {},
   "source": [
    "## offset across fixation positions"
   ]
  },
  {
   "cell_type": "code",
   "execution_count": null,
   "metadata": {},
   "outputs": [],
   "source": [
    "data_trial_fix.groupby(['chin', 'x_pos', 'y_pos']) \\\n",
    "    ['offset'].mean() \\\n",
    "    .reset_index()\n",
    "\n",
    "# rej, pval_corr = smm.multipletests(pval_raw, alpha=alpha, method='h')[:2]"
   ]
  },
  {
   "cell_type": "markdown",
   "metadata": {},
   "source": [
    "## Offset & precision across fixation dot positions"
   ]
  },
  {
   "cell_type": "code",
   "execution_count": null,
   "metadata": {
    "scrolled": true
   },
   "outputs": [],
   "source": [
    "grouped_var = data_trial_fix.groupby(['positionIndex', 'chin']) \\\n",
    "    ['offset', 'precision'].var() \\\n",
    "    .rename(columns={'offset': 'offset_var', 'precision':'precision_var'}) \\\n",
    "    .reset_index()\n",
    "\n",
    "grouped_means = data_trial_fix.groupby(['positionIndex', 'chin']) \\\n",
    "    ['offset', 'precision'].mean() \\\n",
    "    .reset_index()\n",
    "\n",
    "grouped = grouped_means.merge(grouped_var, on=['positionIndex', 'chin'], how='left')\n",
    "\n",
    "grouped_offset = grouped.loc[:, ['positionIndex', 'chin', 'offset']] \\\n",
    "    .set_index(['positionIndex']) \\\n",
    "    .pivot(columns=\"chin\")['offset'] \\\n",
    "    .reset_index() \\\n",
    "    .rename(columns={0.0: 'offset_chin_0', 1.0: 'offset_chin_1'}) \n",
    "\n",
    "grouped_offset_var = grouped.loc[:, ['positionIndex', 'chin', 'offset_var']] \\\n",
    "    .set_index(['positionIndex']) \\\n",
    "    .pivot(columns=\"chin\")['offset_var'] \\\n",
    "    .reset_index() \\\n",
    "    .rename(columns={0.0: 'offset_var_chin_0', 1.0: 'offset_var_chin_1'}) \n",
    "\n",
    "grouped_precision = grouped.loc[:, ['positionIndex', 'chin', 'precision']] \\\n",
    "    .set_index(['positionIndex']) \\\n",
    "    .pivot(columns=\"chin\")['precision'] \\\n",
    "    .reset_index() \\\n",
    "    .rename(columns={0.0: 'precision_chin_0', 1.0: 'precision_chin_1'}) \n",
    "\n",
    "grouped_precision_var = grouped.loc[:, ['positionIndex', 'chin', 'precision_var']] \\\n",
    "    .set_index(['positionIndex']) \\\n",
    "    .pivot(columns=\"chin\")['precision_var'] \\\n",
    "    .reset_index() \\\n",
    "    .rename(columns={0.0: 'precision_var_chin_0', 1.0: 'precision_var_chin_1'}) \n",
    "\n",
    "overview = pd.concat(\n",
    "    [\n",
    "        grouped_offset,\n",
    "        grouped_offset_var.iloc[:, 1:3],\n",
    "        grouped_precision.iloc[:, 1:3], \n",
    "        grouped_precision_var.iloc[:, 1:3]\n",
    "    ], \n",
    "    axis=1\n",
    ")\n",
    "\n",
    "print(overview.mean(numeric_only=True))\n",
    "overview"
   ]
  },
  {
   "cell_type": "markdown",
   "metadata": {},
   "source": [
    "# Visual aid & chin rest"
   ]
  },
  {
   "cell_type": "code",
   "execution_count": null,
   "metadata": {},
   "outputs": [],
   "source": [
    "data_trial_fix.columns"
   ]
  },
  {
   "cell_type": "code",
   "execution_count": null,
   "metadata": {},
   "outputs": [],
   "source": [
    "fig, axes = plt.subplots(1, 2, sharey=True, figsize=(15,6))\n",
    "fig.suptitle('Offset and precision')\n",
    "\n",
    "sns.set(font_scale=0)\n",
    "sns.violinplot(ax=axes[0], \n",
    "               x='chin', \n",
    "               y='offset', \n",
    "               hue='glasses_binary',\n",
    "               split=True,\n",
    "               data=data_trial_fix)\n",
    "sns.violinplot(ax=axes[1], \n",
    "               x='chin', \n",
    "               y='precision', \n",
    "               hue='glasses_binary',\n",
    "               split=True,\n",
    "               data=data_trial_fix)\n",
    "   \n",
    "plt.show()"
   ]
  },
  {
   "cell_type": "markdown",
   "metadata": {},
   "source": [
    "# Main effect: Visual Aid"
   ]
  },
  {
   "cell_type": "markdown",
   "metadata": {},
   "source": [
    "## Frequency of visual aids"
   ]
  },
  {
   "cell_type": "code",
   "execution_count": null,
   "metadata": {},
   "outputs": [],
   "source": [
    "for col in ['glasses', 'sight', 'glasses_binary']:\n",
    "    print(pd.crosstab(index=data_subject[col], columns=\"count\"))\n",
    "    print('\\n')"
   ]
  },
  {
   "cell_type": "markdown",
   "metadata": {},
   "source": [
    "## offset & precision on subject-level"
   ]
  },
  {
   "cell_type": "code",
   "execution_count": null,
   "metadata": {},
   "outputs": [],
   "source": [
    "fig, axes = plt.subplots(1, 2, sharey=True, figsize=(15,6))\n",
    "fig.suptitle('Offset and precision')\n",
    "\n",
    "sns.violinplot(ax=axes[0], \n",
    "               x='glasses_binary', \n",
    "               y='offset', \n",
    "               data=data_subject)\n",
    "sns.violinplot(ax=axes[1], \n",
    "               x='glasses_binary', \n",
    "               y='precision', \n",
    "               data=data_subject)\n",
    "   \n",
    "plt.show()"
   ]
  },
  {
   "cell_type": "code",
   "execution_count": null,
   "metadata": {},
   "outputs": [],
   "source": [
    "fig, axes = plt.subplots(1, 2, sharey=True, figsize=(15,6))\n",
    "fig.suptitle('glasses and sight')\n",
    "\n",
    "sns.boxplot(ax=axes[0], x='glasses_binary', y='offset', data=data_subject)\n",
    "sns.boxplot(ax=axes[1], x='sight', y='offset', data=data_subject)\n",
    "   \n",
    "plt.show()"
   ]
  },
  {
   "cell_type": "code",
   "execution_count": null,
   "metadata": {},
   "outputs": [],
   "source": [
    "fig, axes = plt.subplots(1, 2, sharey=True, figsize=(15,6))\n",
    "fig.suptitle('glasses and sight')\n",
    "\n",
    "sns.boxplot(ax=axes[0], x='glasses_binary', y='precision', data=data_subject)\n",
    "sns.boxplot(ax=axes[1], x='sight', y='precision', data=data_subject)\n",
    "   \n",
    "plt.show()"
   ]
  },
  {
   "cell_type": "markdown",
   "metadata": {},
   "source": [
    "# Gaze predictions"
   ]
  },
  {
   "cell_type": "markdown",
   "metadata": {},
   "source": [
    "## Gaze dot positions for each position"
   ]
  },
  {
   "cell_type": "code",
   "execution_count": null,
   "metadata": {
    "scrolled": true
   },
   "outputs": [],
   "source": [
    "data_plot = add_var_to_data_et(data_et_fix, data_trial, 'chin')\n",
    "data_plot = data_plot.loc[\n",
    "    (data_plot['run_id']==43) & \n",
    "    (data_plot['chin']==0), :]\n",
    "\n",
    "fig, axes = plt.subplots(nrows=3, ncols=3, figsize=(18, 12))\n",
    "axes = axes.ravel()\n",
    "xPos = [0.2, 0.5, 0.8, 0.2, 0.5, 0.8, 0.2, 0.5, 0.8]\n",
    "yPos = [0.2, 0.2, 0.2, 0.5, 0.5, 0.5, 0.8, 0.8, 0.8]\n",
    "for i in range(0, 9):\n",
    "    axes_data = data_plot.loc[(data_plot['x_pos']==xPos[i]) & (data_plot['y_pos']==yPos[i]), :]\n",
    "    im = axes[i].scatter(\n",
    "        axes_data['x'], \n",
    "        axes_data['y'], \n",
    "        c=axes_data['t_task'], \n",
    "        cmap='viridis'\n",
    "    )\n",
    "    axes[i].set_ylim(1, 0)\n",
    "    axes[i].set_xlim(0, 1)\n",
    "    \n",
    "fig.colorbar(im, ax=axes)\n",
    "plt.show()"
   ]
  },
  {
   "cell_type": "markdown",
   "metadata": {},
   "source": [
    "## Heatmap"
   ]
  },
  {
   "cell_type": "code",
   "execution_count": null,
   "metadata": {},
   "outputs": [],
   "source": [
    "import numpy as np\n",
    "import matplotlib.pyplot as plt\n",
    "import matplotlib.cm as cm\n",
    "from scipy.ndimage.filters import gaussian_filter\n",
    "\n",
    "x = data_et_fix.loc[\n",
    "    (data_et_fix['x']>0) & (data_et_fix['x']<1) &\n",
    "    (data_et_fix['y']>0) & (data_et_fix['y']<1),\n",
    "    'x']\n",
    "\n",
    "y = data_et_fix.loc[\n",
    "    (data_et_fix['x']>0) & (data_et_fix['x']<1) &\n",
    "    (data_et_fix['y']>0) & (data_et_fix['y']<1),\n",
    "    'y']\n",
    "\n",
    "def myplot(x, y, s, bins=[1200, 675]):\n",
    "    heatmap, xedges, yedges = np.histogram2d(x, y, bins=bins)\n",
    "    heatmap = gaussian_filter(heatmap, sigma=s)\n",
    "    extent = [xedges[0], xedges[-1], yedges[-1], yedges[0]]\n",
    "    return heatmap.T, extent\n",
    "\n",
    "s=34\n",
    "img, extent = myplot(x, y, s=s)\n",
    "\n",
    "plt.figure(figsize=(7, 7))\n",
    "plt.imshow(img, extent=extent, origin='upper', cmap=cm.Greens, aspect=(9/16))\n",
    "plt.title(\"Distribution of fixations after 1 second, $\\sigma$ = %d\" % s)\n",
    "\n",
    "\n",
    "xPos = [0.2, 0.5, 0.8, 0.2, 0.5, 0.8, 0.2, 0.5, 0.8]\n",
    "yPos = [0.2, 0.2, 0.2, 0.5, 0.5, 0.5, 0.8, 0.8, 0.8]\n",
    "for i in range(0, len(xPos)):\n",
    "    plt.text(xPos[i], yPos[i], '+', size=12, ha=\"center\")\n",
    "\n",
    "plt.show()\n",
    "plt.savefig('plots/fix_heatmap.png')"
   ]
  },
  {
   "cell_type": "markdown",
   "metadata": {},
   "source": [
    "# Additional analyis"
   ]
  },
  {
   "cell_type": "markdown",
   "metadata": {},
   "source": [
    "## Median offset across calibration trials\n",
    "Does data quality improve during calibration? "
   ]
  },
  {
   "cell_type": "code",
   "execution_count": null,
   "metadata": {},
   "outputs": [],
   "source": [
    "data_et_calibration = data_et.loc[data_et['trial_type']=='eyetracking-calibration', :]\n",
    "data_trial_calibration = data_trial \\\n",
    "    .loc[data_trial['trial_type']=='eyetracking-calibration', :]\n",
    "\n",
    "# Add median offset \n",
    "grouped = data_et_calibration \\\n",
    "    .groupby(['run_id', 'trial_index'])['offset'].median() \\\n",
    "    .reset_index() \\\n",
    "    .rename(columns={'offset': 'offset_median'}) \n",
    "data_trial_calibration = data_trial_calibration.merge(\n",
    "    grouped,\n",
    "    on=['run_id', 'trial_index'],\n",
    "    how='left'\n",
    ")"
   ]
  },
  {
   "cell_type": "code",
   "execution_count": null,
   "metadata": {},
   "outputs": [],
   "source": [
    "def spaghettiPlot(data, xVar, yVar, highlightedSubject):\n",
    "    plt.style.use('seaborn-darkgrid')\n",
    "    fig, ax = plt.subplots(figsize=(13, 9))\n",
    "\n",
    "    # Draw Plots\n",
    "    for subject in data[\"run_id\"].unique():\n",
    "        ax.plot(data.loc[data['run_id']==subject, xVar], \n",
    "                data.loc[data['run_id']==subject, yVar], \n",
    "                marker='', color='grey', linewidth=1, alpha=0.4)\n",
    "\n",
    "    # Highlight Subject \n",
    "    ax.plot(data.loc[data['run_id']==highlightedSubject, xVar], \n",
    "            data.loc[data['run_id']==highlightedSubject, yVar], \n",
    "            marker='', color='orange', linewidth=4, alpha=0.7)\n",
    "\n",
    "    # Let's annotate the plot\n",
    "    for subject in data[\"run_id\"].unique():\n",
    "        if subject != highlightedSubject:\n",
    "            ax.text(data.loc[data['run_id']==subject, xVar].max()+1, \n",
    "                    data.loc[data['run_id']==subject, yVar].tail(1),\n",
    "                    s=subject, horizontalalignment='left', size='small', color='grey')\n",
    "\n",
    "        else:\n",
    "            ax.text(data.loc[data['run_id']==subject, xVar].max()+1, \n",
    "                    data.loc[data['run_id']==subject, yVar].tail(1),\n",
    "                    s=subject, horizontalalignment='left', size='small', color='orange')\n",
    "    return plt\n",
    "\n",
    "spaghettiPlot(\n",
    "    data_trial_calibration.loc[data_trial_calibration['chin']==0, :], \n",
    "    'withinTaskIndex', 'offset_median', 103)\n",
    "plt.ylim(0, 1)\n",
    "plt.title('Offset across calibration for chin==0', loc='center', fontsize=12, fontweight=0, color='grey')\n",
    "plt.xlabel('withinTaskIndex')\n",
    "plt.ylabel('Offset')\n",
    "\n",
    "plt.show()"
   ]
  },
  {
   "cell_type": "code",
   "execution_count": null,
   "metadata": {
    "scrolled": true
   },
   "outputs": [],
   "source": [
    "spaghettiPlot(\n",
    "    data_trial_calibration.loc[data_trial_calibration['chin']==1, :], \n",
    "    'withinTaskIndex', 'offset_median', 103)\n",
    "plt.ylim(0, 1)\n",
    "plt.title('Offset across calibration for chin==1', loc='center', fontsize=12, fontweight=0, color='grey')\n",
    "plt.xlabel('withinTaskIndex')\n",
    "plt.ylabel('Offset')\n",
    "\n",
    "plt.show()"
   ]
  },
  {
   "cell_type": "markdown",
   "metadata": {},
   "source": [
    "## Median precision across calibration trials"
   ]
  },
  {
   "cell_type": "code",
   "execution_count": null,
   "metadata": {},
   "outputs": [],
   "source": [
    "spaghettiPlot(\n",
    "    data_trial_calibration.loc[data_trial_calibration['chin']==0, :], \n",
    "    'withinTaskIndex', 'precision', 103)\n",
    "plt.ylim(0, 1)\n",
    "plt.title('Precision across calibration for chin==0', loc='center', fontsize=12, fontweight=0, color='grey')\n",
    "plt.xlabel('withinTaskIndex')\n",
    "plt.ylabel('Precision')\n",
    "\n",
    "plt.show()"
   ]
  },
  {
   "cell_type": "code",
   "execution_count": null,
   "metadata": {},
   "outputs": [],
   "source": [
    "spaghettiPlot(\n",
    "    data_trial_calibration.loc[data_trial_calibration['chin']==1, :], \n",
    "    'withinTaskIndex', 'precision', 103)\n",
    "plt.ylim(0, 1)\n",
    "plt.title('Precision across calibration for chin==0', loc='center', fontsize=12, fontweight=0, color='grey')\n",
    "plt.xlabel('withinTaskIndex')\n",
    "plt.ylabel('Precision')\n",
    "\n",
    "plt.show()"
   ]
  },
  {
   "cell_type": "markdown",
   "metadata": {},
   "source": [
    "## Categorical confounders"
   ]
  },
  {
   "cell_type": "code",
   "execution_count": null,
   "metadata": {},
   "outputs": [],
   "source": [
    "predictors = [\n",
    "    'vertPosition', 'gender', 'ethnic',  \n",
    "    'degree', 'browser', 'glasses', 'sight', 'sight']  \n",
    "for col in predictors:\n",
    "    print(pd.crosstab(index=data_subject[col], columns=\"count\"))\n",
    "    print('\\n')"
   ]
  },
  {
   "cell_type": "code",
   "execution_count": null,
   "metadata": {},
   "outputs": [],
   "source": [
    "def getBoxPlots(outcome, yPos):\n",
    "    fig, ax = plt.subplots(nrows=2, ncols=4, figsize=(18, 12))\n",
    "    fig.suptitle(outcome + ' for various categorical predictors', fontsize=20)\n",
    "    ax = ax.ravel()\n",
    "    for i in range(0, 8):\n",
    "        sns.boxplot(ax=ax[i], x=predictors[i], y=outcome, data=data_subject)\n",
    "        nobs = data_subject[predictors[i]].value_counts().values\n",
    "        nobs = [str(x) for x in nobs.tolist()]\n",
    "        nobs = [\"n: \" + i for i in nobs]\n",
    "        # Add it to the plot\n",
    "        pos = range(len(nobs))\n",
    "        for tick,label in zip(pos,ax[i].get_xticklabels()):\n",
    "            ax[i].text(pos[tick], yPos, nobs[tick], # medians[tick] + 0.02\n",
    "            verticalalignment='top',\n",
    "            horizontalalignment='center', size='medium', weight='semibold')\n",
    "            \n",
    "getBoxPlots('offset', 0.86)"
   ]
  },
  {
   "cell_type": "code",
   "execution_count": null,
   "metadata": {},
   "outputs": [],
   "source": [
    "getBoxPlots('precision', yPos=0.30)"
   ]
  },
  {
   "cell_type": "code",
   "execution_count": null,
   "metadata": {},
   "outputs": [],
   "source": [
    "getBoxPlots('fps', yPos=36)"
   ]
  },
  {
   "cell_type": "markdown",
   "metadata": {},
   "source": [
    "## Correlation Plot"
   ]
  },
  {
   "cell_type": "code",
   "execution_count": null,
   "metadata": {},
   "outputs": [],
   "source": [
    "data_plot = data_trial_fix.merge(data_subject.loc[:, ['run_id', 'age']], on='run_id', how='left')\n",
    "correlation_columns = ['positionIndex', 'withinTaskIndex', 'age', 'fps', 'offset', 'precision']\n",
    "sns.pairplot(data_plot.loc[:, np.append(correlation_columns, ['chin'])], hue='chin')"
   ]
  },
  {
   "cell_type": "code",
   "execution_count": null,
   "metadata": {},
   "outputs": [],
   "source": [
    "corr_matrix = np.corrcoef(data_plot[correlation_columns].T)\n",
    "smg.plot_corr(corr_matrix, xnames=correlation_columns)\n",
    "plt.show()"
   ]
  },
  {
   "cell_type": "code",
   "execution_count": null,
   "metadata": {
    "scrolled": false
   },
   "outputs": [],
   "source": [
    "data_plot[correlation_columns].rcorr()"
   ]
  },
  {
   "cell_type": "code",
   "execution_count": null,
   "metadata": {
    "scrolled": true
   },
   "outputs": [],
   "source": [
    "data_plot[correlation_columns].rcorr(upper='n')"
   ]
  },
  {
   "cell_type": "markdown",
   "metadata": {},
   "source": [
    "# MLA Model"
   ]
  },
  {
   "cell_type": "code",
   "execution_count": null,
   "metadata": {
    "scrolled": true
   },
   "outputs": [],
   "source": [
    "data_plot = data_trial_fix.loc[:, ['run_id', 'chin', 'x_pos', 'y_pos', 'precision']]\n",
    "null_data = data_plot.loc[data_plot.isnull().any(axis=1), :]\n",
    "data_plot = data_plot.loc[pd.notna(data_plot['precision']), :].reset_index(drop=True)\n",
    "data_plot.loc[data_plot.isnull().any(axis=1), :]\n",
    "model = smf.mixedlm(\"precision ~ x_pos\", data_plot, groups=data_plot[\"run_id\"])\n",
    "model_fit = model.fit()\n",
    "print(model_fit.summary())"
   ]
  },
  {
   "cell_type": "markdown",
   "metadata": {},
   "source": [
    "# Export"
   ]
  },
  {
   "cell_type": "code",
   "execution_count": null,
   "metadata": {},
   "outputs": [],
   "source": [
    "data_et_calibration.to_csv(\"data_jupyter/data_et_calibration.csv\", index=False, header=True)\n",
    "data_trial_calibration.to_csv(\"data_jupyter/data_trial_calibration.csv\", index=False, header=True)\n",
    "\n",
    "data_et_fix.to_csv(\"data_jupyter/data_et_fix.csv\", index=False, header=True)\n",
    "data_trial_fix.to_csv(\"data_jupyter/data_trial_fix.csv\", index=False, header=True)\n",
    "\n",
    "data_subject.to_csv(\"data_jupyter/data_subject.csv\", index=False, header=True)"
   ]
  },
  {
   "cell_type": "markdown",
   "metadata": {},
   "source": [
    "# Feedback"
   ]
  },
  {
   "cell_type": "code",
   "execution_count": null,
   "metadata": {
    "scrolled": true
   },
   "outputs": [],
   "source": [
    "print('Success! Script ran through')"
   ]
  }
 ],
 "metadata": {
  "kernelspec": {
   "display_name": "Python 3",
   "language": "python",
   "name": "python3"
  },
  "language_info": {
   "codemirror_mode": {
    "name": "ipython",
    "version": 3
   },
   "file_extension": ".py",
   "mimetype": "text/x-python",
   "name": "python",
   "nbconvert_exporter": "python",
   "pygments_lexer": "ipython3",
   "version": "3.8.5"
  },
  "toc": {
   "base_numbering": 1,
   "nav_menu": {
    "height": "419px",
    "width": "245.2px"
   },
   "number_sections": true,
   "sideBar": true,
   "skip_h1_title": false,
   "title_cell": "Table of Contents",
   "title_sidebar": "Contents",
   "toc_cell": false,
   "toc_position": {
    "height": "calc(100% - 180px)",
    "left": "10px",
    "top": "150px",
    "width": "265.467px"
   },
   "toc_section_display": true,
   "toc_window_display": true
  }
 },
 "nbformat": 4,
 "nbformat_minor": 4
}
