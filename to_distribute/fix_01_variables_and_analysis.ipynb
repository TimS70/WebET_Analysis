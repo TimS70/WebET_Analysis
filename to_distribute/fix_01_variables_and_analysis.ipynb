{
 "cells": [
  {
   "cell_type": "code",
   "execution_count": null,
   "outputs": [],
   "source": [
    "\n",
    "\n",
    "\n",
    "## Glasses\n",
    "\n",
    "# %% md\n",
    "\n",
    "### Frequency of visual aids\n",
    "\n",
    "# %%\n",
    "from utils.tables import write_csv\n",
    "\n",
    "\n",
    "# Additional analyis"
   ],
   "metadata": {
    "collapsed": false,
    "pycharm": {
     "name": "#%%\n"
    }
   }
  },
  {
   "cell_type": "markdown",
   "source": [
    "## Heatmap"
   ],
   "metadata": {
    "collapsed": false
   }
  },
  {
   "cell_type": "code",
   "execution_count": null,
   "outputs": [],
   "source": [
    "\n",
    "\n"
   ],
   "metadata": {
    "collapsed": false,
    "pycharm": {
     "name": "#%%\n"
    }
   }
  },
  {
   "cell_type": "markdown",
   "source": [
    "## Exemplary trials for each position"
   ],
   "metadata": {
    "collapsed": false
   }
  },
  {
   "cell_type": "code",
   "execution_count": null,
   "outputs": [],
   "source": [],
   "metadata": {
    "collapsed": false,
    "pycharm": {
     "name": "#%%\n"
    }
   }
  },
  {
   "cell_type": "markdown",
   "source": [
    "## Median offset across calibration trials\n",
    "Does data quality improve during calibration? "
   ],
   "metadata": {
    "collapsed": false
   }
  },
  {
   "cell_type": "code",
   "execution_count": null,
   "outputs": [],
   "source": [
    "data_et_calibration = data_et.loc[data_et['trial_type']=='eyetracking-calibration', :]\n",
    "data_trial_calibration = data_trial \\\n",
    "    .loc[data_trial['trial_type']=='eyetracking-calibration', :]\n",
    "\n",
    "# Add median offset \n",
    "grouped = data_et_calibration \\\n",
    "    .groupby(['run_id', 'trial_index'])['offset'].median() \\\n",
    "    .reset_index() \\\n",
    "    .rename(columns={'offset': 'offset_median'}) \n",
    "data_trial_calibration = data_trial_calibration.merge(\n",
    "    grouped,\n",
    "    on=['run_id', 'trial_index'],\n",
    "    how='left'\n",
    ")"
   ],
   "metadata": {
    "collapsed": false,
    "pycharm": {
     "name": "#%%\n"
    }
   }
  },
  {
   "cell_type": "code",
   "execution_count": null,
   "outputs": [],
   "source": [
    "spaghettiPlot(\n",
    "    data_trial_calibration.loc[\n",
    "        (\n",
    "            (data_trial_calibration['chinFirst']==0) &\n",
    "            (data_trial_calibration['chin']==0)\n",
    "        ) |\n",
    "        (\n",
    "            (data_trial_calibration['chinFirst']==1) &\n",
    "            (data_trial_calibration['chin']==1)\n",
    "        )\n",
    "        , :], \n",
    "    'withinTaskIndex', 'offset_median', 103)\n",
    "plt.ylim(0, 1)\n",
    "plt.title('Offset across calibration for chin==0', loc='center', fontsize=12, fontweight=0, color='grey')\n",
    "plt.xlabel('withinTaskIndex')\n",
    "plt.ylabel('Offset')\n",
    "\n",
    "plt.show()"
   ],
   "metadata": {
    "collapsed": false,
    "pycharm": {
     "name": "#%%\n"
    }
   }
  },
  {
   "cell_type": "markdown",
   "source": [
    "## Median precision across calibration trials"
   ],
   "metadata": {
    "collapsed": false
   }
  },
  {
   "cell_type": "code",
   "execution_count": null,
   "outputs": [],
   "source": [
    "spaghettiPlot(\n",
    "    data_trial_calibration.loc[\n",
    "        (\n",
    "            (data_trial_calibration['chinFirst']==0) &\n",
    "            (data_trial_calibration['chin']==0)\n",
    "        ) |\n",
    "        (\n",
    "            (data_trial_calibration['chinFirst']==1) &\n",
    "            (data_trial_calibration['chin']==1)\n",
    "        )\n",
    "        , :], \n",
    "    'withinTaskIndex', 'precision', 103)\n",
    "plt.ylim(0, 1)\n",
    "plt.title('Precision across calibration for chin==0', loc='center', fontsize=12, fontweight=0, color='grey')\n",
    "plt.xlabel('withinTaskIndex')\n",
    "plt.ylabel('Precision')\n",
    "\n",
    "plt.show()"
   ],
   "metadata": {
    "collapsed": false,
    "pycharm": {
     "name": "#%%\n"
    }
   }
  },
  {
   "cell_type": "markdown",
   "source": [
    "## Categorical confounders"
   ],
   "metadata": {
    "collapsed": false
   }
  },
  {
   "cell_type": "code",
   "execution_count": null,
   "outputs": [],
   "source": [
    "def getBoxPlots(outcome):\n",
    "    predictors = [\n",
    "    'vertPosition', 'gender', 'ethnic',  \n",
    "    'degree', 'browser', 'glasses', 'sight', 'sight']  \n",
    "\n",
    "    fig, ax = plt.subplots(nrows=2, ncols=4, figsize=(16, 10))\n",
    "    fig.suptitle(outcome + ' for various categorical predictors', fontsize=20)\n",
    "    plt.subplots_adjust(hspace=0.5)\n",
    "        \n",
    "    \n",
    "    ax = ax.ravel()\n",
    "    \n",
    "    for i in range(0, 8):\n",
    "        sns.boxplot(ax=ax[i], x=predictors[i], y=outcome, data=data_subject)\n",
    "        \n",
    "        ax[i].tick_params(labelrotation=45, labelsize=13)\n",
    "        ax[i].tick_params(axis='y', labelrotation=None)\n",
    "        \n",
    "        nobs = data_subject[predictors[i]].value_counts().values\n",
    "        nobs = [str(x) for x in nobs.tolist()]\n",
    "        nobs = [\"n: \" + i for i in nobs]\n",
    "        # Add it to the plot\n",
    "        pos = range(len(nobs))\n",
    "        \n",
    "        max_value = data_subject[outcome].max()\n",
    "        yPos = max_value + max_value * 0.1\n",
    "        \n",
    "        for tick,label in zip(pos,ax[i].get_xticklabels()):                \n",
    "            ax[i].text(\n",
    "                pos[tick], yPos, nobs[tick],\n",
    "                verticalalignment='top',\n",
    "                horizontalalignment='center', size=13, weight='normal')\n",
    "            \n",
    "getBoxPlots('offset')"
   ],
   "metadata": {
    "collapsed": false,
    "pycharm": {
     "name": "#%%\n"
    }
   }
  },
  {
   "cell_type": "code",
   "execution_count": null,
   "outputs": [],
   "source": [
    "getBoxPlots('precision')"
   ],
   "metadata": {
    "collapsed": false,
    "pycharm": {
     "name": "#%%\n"
    }
   }
  },
  {
   "cell_type": "code",
   "execution_count": null,
   "outputs": [],
   "source": [
    "getBoxPlots('fps')"
   ],
   "metadata": {
    "collapsed": false,
    "pycharm": {
     "name": "#%%\n"
    }
   }
  },
  {
   "cell_type": "markdown",
   "source": [
    "## Correlation Plot"
   ],
   "metadata": {
    "collapsed": false
   }
  },
  {
   "cell_type": "markdown",
   "source": [
    "### Clean dataset"
   ],
   "metadata": {
    "collapsed": false
   }
  },
  {
   "cell_type": "code",
   "execution_count": null,
   "outputs": [],
   "source": [
    "data_plot = data_trial_fix \\\n",
    "    .merge(data_subject.loc[:, ['run_id', 'age']], on='run_id', how='left') \\\n",
    "    .loc[:, ['run_id', 'chin', 'x_pos', 'y_pos', 'withinTaskIndex', 'age', 'fps', 'offset', 'precision']]\n",
    "null_data = data_plot.loc[data_plot.isnull().any(axis=1), :]\n",
    "\n",
    "if len(null_data)>0:\n",
    "    print('! Attention ! Missing values')\n",
    "    print(\n",
    "        f\"\"\"Length of data raw: {len(data_plot)} \\n\"\"\"\n",
    "        f\"\"\"Excluded runs and trials: \\n\"\"\"\n",
    "        f\"\"\"{null_data.groupby(['run_id'], as_index=False)['chin'].count().rename(columns={'chin': 'n'})} \\n\"\"\"\n",
    "    )\n",
    "else: \n",
    "    print('No missing data found')\n",
    "\n",
    "data_plot = data_plot.loc[~data_plot.isnull().any(axis=1), :]\n",
    "\n",
    "print(\n",
    "        f\"\"\"Length of data clean: {len(data_plot)} \\n\"\"\" \n",
    ")"
   ],
   "metadata": {
    "collapsed": false,
    "pycharm": {
     "name": "#%%\n"
    }
   }
  },
  {
   "cell_type": "markdown",
   "source": [
    "### Plots"
   ],
   "metadata": {
    "collapsed": false
   }
  },
  {
   "cell_type": "code",
   "execution_count": null,
   "outputs": [],
   "source": [
    "correlation_columns = ['withinTaskIndex', 'age', 'fps', 'offset', 'precision']\n",
    "sns.set()\n",
    "sns.pairplot(\n",
    "    data_plot.loc[:, np.append(correlation_columns, ['chin'])], \n",
    "    hue='chin', hue_order = [0.0, 1.0],\n",
    "    kind='reg', \n",
    "    corner=True\n",
    ")"
   ],
   "metadata": {
    "collapsed": false,
    "pycharm": {
     "name": "#%%\n"
    }
   }
  },
  {
   "cell_type": "code",
   "execution_count": null,
   "outputs": [],
   "source": [
    "corr_columns = np.append(['x_pos', 'y_pos'], correlation_columns)\n",
    "corr_matrix = np.corrcoef(data_plot[corr_columns].T)\n",
    "\n",
    "smg.plot_corr(corr_matrix, xnames=corr_columns)\n",
    "plt.show()"
   ],
   "metadata": {
    "collapsed": false,
    "pycharm": {
     "name": "#%%\n"
    }
   }
  },
  {
   "cell_type": "code",
   "execution_count": null,
   "outputs": [],
   "source": [
    "data_plot[corr_columns].rcorr()"
   ],
   "metadata": {
    "collapsed": false,
    "pycharm": {
     "name": "#%%\n"
    }
   }
  },
  {
   "cell_type": "code",
   "execution_count": null,
   "outputs": [],
   "source": [
    "data_plot[corr_columns].rcorr(upper='n')"
   ],
   "metadata": {
    "collapsed": false,
    "pycharm": {
     "name": "#%%\n"
    }
   }
  },
  {
   "cell_type": "markdown",
   "source": [
    "# Export"
   ],
   "metadata": {
    "collapsed": false
   }
  },
  {
   "cell_type": "code",
   "execution_count": null,
   "outputs": [],
   "source": [
    "if not os.path.exists('./data_jupyter/fix_task'):\n",
    "    os.mkdir('./data_jupyter/fix_task')\n",
    "    \n",
    "data_et_fix.to_csv(\"data_jupyter/fix_task/data_et.csv\", index=False, header=True)\n",
    "data_trial_fix.to_csv(\"data_jupyter/fix_task/data_trial.csv\", index=False, header=True)\n",
    "\n",
    "data_subject.to_csv(\"data_jupyter/fix_task/data_subject.csv\", index=False, header=True)"
   ],
   "metadata": {
    "collapsed": false,
    "pycharm": {
     "name": "#%%\n"
    }
   }
  },
  {
   "cell_type": "markdown",
   "source": [
    "# Feedback"
   ],
   "metadata": {
    "collapsed": false
   }
  },
  {
   "cell_type": "code",
   "execution_count": null,
   "outputs": [],
   "source": [
    "print('Success! Script ran through')"
   ],
   "metadata": {
    "collapsed": false,
    "pycharm": {
     "name": "#%%\n"
    }
   }
  }
 ],
 "metadata": {
  "kernelspec": {
   "display_name": "Python 3",
   "language": "python",
   "name": "python3"
  },
  "language_info": {
   "codemirror_mode": {
    "name": "ipython",
    "version": 3
   },
   "file_extension": ".py",
   "mimetype": "text/x-python",
   "name": "python",
   "nbconvert_exporter": "python",
   "pygments_lexer": "ipython3",
   "version": "3.8.5"
  },
  "toc": {
   "base_numbering": 1,
   "nav_menu": {
    "height": "419px",
    "width": "245.2px"
   },
   "number_sections": true,
   "sideBar": true,
   "skip_h1_title": false,
   "title_cell": "Table of Contents",
   "title_sidebar": "Contents",
   "toc_cell": false,
   "toc_position": {
    "height": "calc(100% - 180px)",
    "left": "10px",
    "top": "150px",
    "width": "265.467px"
   },
   "toc_section_display": true,
   "toc_window_display": true
  }
 },
 "nbformat": 4,
 "nbformat_minor": 4
}