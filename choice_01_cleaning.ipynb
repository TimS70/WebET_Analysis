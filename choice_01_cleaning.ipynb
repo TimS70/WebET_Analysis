{
 "cells": [
  {
   "cell_type": "code",
   "execution_count": 1,
   "metadata": {},
   "outputs": [
    {
     "name": "stdout",
     "output_type": "stream",
     "text": [
      "Current Working directory  C:\\Users\\User\\GitHub\\WebET_Analysis\n"
     ]
    }
   ],
   "source": [
    "import datetime\n",
    "import matplotlib.pyplot as plt\n",
    "import numpy as np\n",
    "import os\n",
    "import pandas as pd\n",
    "from sklearn.cluster import KMeans\n",
    "from sklearn.preprocessing import StandardScaler\n",
    "import statsmodels.api as sm \n",
    "import sys\n",
    "if sys.version_info[0] < 3: \n",
    "    from StringIO import StringIO\n",
    "else:\n",
    "    from io import StringIO\n",
    "from tqdm import tqdm \n",
    "    \n",
    "from IPython.display import HTML\n",
    "def View(df):\n",
    "    css = \"\"\"<style>\n",
    "    table { border-collapse: collapse; border: 3px solid #eee; }\n",
    "    table tr th:first-child { background-color: #eeeeee; color: #333; font-weight: bold }\n",
    "    table thead th { background-color: #eee; color: #000; }\n",
    "    tr, th, td { border: 1px solid #ccc; border-width: 1px 0 0 1px; border-collapse: collapse;\n",
    "    padding: 3px; font-family: monospace; font-size: 10px }</style>\n",
    "    \"\"\"\n",
    "    s  = '<script type=\"text/Javascript\">'\n",
    "    s += 'var win = window.open(\"\", \"Title\", \"toolbar=no, location=no, directories=no, status=no, menubar=no, scrollbars=yes, resizable=yes, width=780, height=200, top=\"+(screen.height-400)+\", left=\"+(screen.width-840));'\n",
    "    s += 'win.document.body.innerHTML = \\'' + (df.to_html() + css).replace(\"\\n\",'\\\\') + '\\';'\n",
    "    s += '</script>'\n",
    "    return(HTML(s+css))    \n",
    "\n",
    "os.chdir(r'C:\\Users\\User\\GitHub\\WebET_Analysis')\n",
    "print(\"Current Working directory \" , os.getcwd())"
   ]
  },
  {
   "cell_type": "markdown",
   "metadata": {},
   "source": [
    "# Read Data"
   ]
  },
  {
   "cell_type": "code",
   "execution_count": 2,
   "metadata": {
    "scrolled": false
   },
   "outputs": [
    {
     "name": "stdout",
     "output_type": "stream",
     "text": [
      "               length  run\n",
      "data_et       2464333  209\n",
      "data_trial     111695  209\n",
      "data_subject      209  209\n"
     ]
    }
   ],
   "source": [
    "data_et = pd.read_csv(r'C:/Users/User/GitHub/WebET_Analysis/data_jupyter/cleaned/data_et.csv')\n",
    "data_trial = pd.read_csv(r'C:/Users/User/GitHub/WebET_Analysis/data_jupyter/cleaned/data_trial.csv')\n",
    "data_subject = pd.read_csv(r'C:/Users/User/GitHub/WebET_Analysis/data_jupyter/cleaned/data_subject.csv')\n",
    "\n",
    "print(pd.DataFrame([\n",
    "    [\n",
    "        len(data_et), \n",
    "        len(data_et['run_id'].unique())\n",
    "    ], \n",
    "    [\n",
    "        len(data_trial),\n",
    "        len(data_trial['run_id'].unique())\n",
    "    ], \n",
    "    [\n",
    "        len(data_subject), \n",
    "        len(data_subject['run_id'].unique())\n",
    "    ]\n",
    "], \n",
    "   columns=['length', 'run'],\n",
    "   index=['data_et', 'data_trial', 'data_subject'])\n",
    ")"
   ]
  },
  {
   "cell_type": "markdown",
   "metadata": {},
   "source": [
    "# Create datasets"
   ]
  },
  {
   "cell_type": "markdown",
   "metadata": {},
   "source": [
    "## data_trial"
   ]
  },
  {
   "cell_type": "code",
   "execution_count": 3,
   "metadata": {},
   "outputs": [],
   "source": [
    "data_trial = data_trial.loc[\n",
    "    data_trial['trial_type']=='eyetracking-choice', \n",
    "    [\n",
    "        'run_id', 'chinFirst', \n",
    "        'task_nr', \n",
    "        'trial_index', 'trial_type', 'withinTaskIndex', \n",
    "        'choiceTask_amountLeftFirst', \n",
    "        'option_topLeft', 'option_bottomLeft',\n",
    "        'option_topRight', 'option_bottomRight',\n",
    "        'key_press', 'trial_duration_exact',\n",
    "        'window_width', 'window_height',\n",
    "        'fps'\n",
    "    ]\n",
    "]"
   ]
  },
  {
   "cell_type": "markdown",
   "metadata": {},
   "source": [
    "## data_et"
   ]
  },
  {
   "cell_type": "code",
   "execution_count": 4,
   "metadata": {},
   "outputs": [
    {
     "name": "stdout",
     "output_type": "stream",
     "text": [
      "Index(['run_id', 'withinTaskIndex', 'x', 'y', 't_task'], dtype='object')\n"
     ]
    }
   ],
   "source": [
    "def add_var_to_data_et(data_et, source_data, varName):\n",
    "    if varName in data_et.columns: data_et=data_et.drop(columns=varName)\n",
    "    data_et = data_et.merge(\n",
    "        source_data.loc[:, ['run_id', 'trial_index', varName]], \n",
    "        on=['run_id', 'trial_index'], how='left')\n",
    "    return data_et\n",
    "\n",
    "data_et = add_var_to_data_et(data_et, data_trial, 'trial_type')\n",
    "data_et = add_var_to_data_et(data_et, data_trial, 'withinTaskIndex')\n",
    "\n",
    "data_et = data_et \\\n",
    "    .loc[data_et['trial_type']=='eyetracking-choice', :] \\\n",
    "    .drop(columns=['trial_type'])\n",
    "data_et = data_et.loc[\n",
    "    :, \n",
    "    ['run_id', 'withinTaskIndex', 'x', 'y', 't_task']\n",
    "]\n",
    "\n",
    "print(data_et.columns)"
   ]
  },
  {
   "cell_type": "markdown",
   "metadata": {},
   "source": [
    "# Screening"
   ]
  },
  {
   "cell_type": "markdown",
   "metadata": {},
   "source": [
    "## Reaction time"
   ]
  },
  {
   "cell_type": "markdown",
   "metadata": {},
   "source": [
    "## Reaction time / Trials too long"
   ]
  },
  {
   "cell_type": "code",
   "execution_count": 5,
   "metadata": {},
   "outputs": [
    {
     "name": "stdout",
     "output_type": "stream",
     "text": [
      "23\n"
     ]
    }
   ],
   "source": [
    "data_trial.loc[data_trial['trial_duration_exact']>10000, :]\n",
    "print(len(data_trial.loc[\n",
    "    data_trial['trial_duration_exact']>10000, \n",
    "    'run_id'\n",
    "].unique()))"
   ]
  },
  {
   "cell_type": "code",
   "execution_count": 6,
   "metadata": {},
   "outputs": [
    {
     "name": "stdout",
     "output_type": "stream",
     "text": [
      "Average reaction time raw: 2100.1107057416266\n",
      " SD=1273.1232237581721\n",
      "Average reaction time below 10 seconds: 2069.610278244183\n",
      " SD=1103.5719166073122\n"
     ]
    }
   ],
   "source": [
    "print(\n",
    "    'Average reaction time raw: ' +\n",
    "    str(data_trial['trial_duration_exact'].mean()) +\n",
    "    '\\n SD=' +\n",
    "    str(data_trial['trial_duration_exact'].std()) \n",
    ")\n",
    "\n",
    "print(\n",
    "    'Average reaction time below 10 seconds: ' +\n",
    "    str(data_trial.loc[\n",
    "        data_trial['trial_duration_exact']<10000, \n",
    "        'trial_duration_exact'].mean()) +\n",
    "    '\\n SD=' +\n",
    "    str(data_trial.loc[\n",
    "        data_trial['trial_duration_exact']<10000, \n",
    "        'trial_duration_exact'].std()) \n",
    ")"
   ]
  },
  {
   "cell_type": "markdown",
   "metadata": {},
   "source": [
    "## Not enough fps"
   ]
  },
  {
   "cell_type": "code",
   "execution_count": 7,
   "metadata": {},
   "outputs": [
    {
     "data": {
      "text/plain": [
       "count    16714.000000\n",
       "mean        17.294854\n",
       "std          7.180669\n",
       "min          1.112347\n",
       "25%         12.186003\n",
       "50%         16.840742\n",
       "75%         22.076505\n",
       "max         39.645366\n",
       "Name: fps_choice, dtype: float64"
      ]
     },
     "execution_count": 7,
     "metadata": {},
     "output_type": "execute_result"
    }
   ],
   "source": [
    "grouped = data_et \\\n",
    "    .groupby(['run_id', 'withinTaskIndex'])['x'].count() \\\n",
    "    .reset_index() \\\n",
    "    .rename(columns={'x': 'x_count'})\n",
    "\n",
    "if 'x_count' in data_trial.columns:\n",
    "    data_trial = data_trial.drop(columns=['x_count'])\n",
    "data_trial = data_trial.merge(\n",
    "    grouped, on=['run_id', 'withinTaskIndex'], how='left')\n",
    "\n",
    "data_trial['fps_choice']= \\\n",
    "    1000 * data_trial['x_count'] / \\\n",
    "    data_trial['trial_duration_exact']\n",
    "data_trial['fps_choice'].describe()"
   ]
  },
  {
   "cell_type": "code",
   "execution_count": 8,
   "metadata": {},
   "outputs": [
    {
     "name": "stdout",
     "output_type": "stream",
     "text": [
      "[163 256 395   4 458]\n",
      "Empty DataFrame\n",
      "Columns: [run_id, n_lowFPS]\n",
      "Index: []\n"
     ]
    },
    {
     "data": {
      "text/plain": [
       "Series([], Name: run_id, dtype: int64)"
      ]
     },
     "execution_count": 8,
     "metadata": {},
     "output_type": "execute_result"
    }
   ],
   "source": [
    "print(data_trial.loc[\n",
    "    data_trial['fps_choice']<3, \n",
    "    'run_id'].unique())\n",
    "\n",
    "grouped = data_trial \\\n",
    "    .loc[\n",
    "        data_trial['fps_choice']<1, \n",
    "        ['run_id', 'trial_index', 'fps_choice']\n",
    "    ] \\\n",
    "    .groupby(['run_id'])['trial_index'].count() \\\n",
    "    .reset_index() \\\n",
    "    .rename(columns={'trial_index': 'n_lowFPS'})\n",
    "print(grouped)\n",
    "subjects_lowFPS = grouped.loc[\n",
    "    grouped['n_lowFPS'] > 10, \n",
    "    'run_id'\n",
    "]\n",
    "subjects_lowFPS"
   ]
  },
  {
   "cell_type": "markdown",
   "metadata": {},
   "source": [
    "## Additional\n",
    "Run 144 was found to barely have any variation in gaze transitions"
   ]
  },
  {
   "cell_type": "code",
   "execution_count": 9,
   "metadata": {},
   "outputs": [
    {
     "data": {
      "text/plain": [
       "array([144])"
      ]
     },
     "execution_count": 9,
     "metadata": {},
     "output_type": "execute_result"
    }
   ],
   "source": [
    "run_additional_flaws = np.array([144])\n",
    "run_additional_flaws"
   ]
  },
  {
   "cell_type": "markdown",
   "metadata": {},
   "source": [
    "## Summary"
   ]
  },
  {
   "cell_type": "code",
   "execution_count": 10,
   "metadata": {},
   "outputs": [
    {
     "data": {
      "text/html": [
       "<div>\n",
       "<style scoped>\n",
       "    .dataframe tbody tr th:only-of-type {\n",
       "        vertical-align: middle;\n",
       "    }\n",
       "\n",
       "    .dataframe tbody tr th {\n",
       "        vertical-align: top;\n",
       "    }\n",
       "\n",
       "    .dataframe thead th {\n",
       "        text-align: right;\n",
       "    }\n",
       "</style>\n",
       "<table border=\"1\" class=\"dataframe\">\n",
       "  <thead>\n",
       "    <tr style=\"text-align: right;\">\n",
       "      <th></th>\n",
       "      <th>name</th>\n",
       "      <th>length</th>\n",
       "    </tr>\n",
       "  </thead>\n",
       "  <tbody>\n",
       "    <tr>\n",
       "      <th>0</th>\n",
       "      <td>subjects_lowFPS</td>\n",
       "      <td>0</td>\n",
       "    </tr>\n",
       "    <tr>\n",
       "      <th>1</th>\n",
       "      <td>assitional_flaws</td>\n",
       "      <td>1</td>\n",
       "    </tr>\n",
       "    <tr>\n",
       "      <th>2</th>\n",
       "      <td>total</td>\n",
       "      <td>1</td>\n",
       "    </tr>\n",
       "  </tbody>\n",
       "</table>\n",
       "</div>"
      ],
      "text/plain": [
       "               name  length\n",
       "0   subjects_lowFPS       0\n",
       "1  assitional_flaws       1\n",
       "2             total       1"
      ]
     },
     "execution_count": 10,
     "metadata": {},
     "output_type": "execute_result"
    }
   ],
   "source": [
    "excludedSubjects = list(\n",
    "    set(subjects_lowFPS) |\n",
    "    set(run_additional_flaws)\n",
    ")\n",
    "\n",
    "output = pd.DataFrame(\n",
    "   {'name': [\n",
    "               'subjects_lowFPS', \n",
    "               'assitional_flaws',\n",
    "               'total',\n",
    "   ],\n",
    "    'length': [\n",
    "                len(subjects_lowFPS),\n",
    "                len(run_additional_flaws),\n",
    "                len(excludedSubjects)\n",
    "           ]}\n",
    ")\n",
    "\n",
    "output"
   ]
  },
  {
   "cell_type": "markdown",
   "metadata": {},
   "source": [
    "# Cleaning"
   ]
  },
  {
   "cell_type": "markdown",
   "metadata": {},
   "source": [
    "## data_subject"
   ]
  },
  {
   "cell_type": "code",
   "execution_count": 11,
   "metadata": {},
   "outputs": [],
   "source": [
    "data_subject = data_subject.loc[\n",
    "    ~data_subject['run_id'].isin(excludedSubjects), :\n",
    "]"
   ]
  },
  {
   "cell_type": "markdown",
   "metadata": {},
   "source": [
    "## data_trial "
   ]
  },
  {
   "cell_type": "code",
   "execution_count": 12,
   "metadata": {},
   "outputs": [
    {
     "name": "stdout",
     "output_type": "stream",
     "text": [
      "Raw: 16720\n",
      "Cleaned: 16596\n"
     ]
    }
   ],
   "source": [
    "def cleanTrialData(data):\n",
    "    print('Raw: ' + str(len(data)))\n",
    "    data = data.loc[\n",
    "        ~(data['run_id'].isin(excludedSubjects)) &\n",
    "        (data['trial_duration_exact']<10000), \n",
    "        :]\n",
    "    print('Cleaned: ' + str(len(data)))\n",
    "    return data\n",
    "\n",
    "data_trial = cleanTrialData(data_trial)"
   ]
  },
  {
   "cell_type": "markdown",
   "metadata": {},
   "source": [
    "## data_et"
   ]
  },
  {
   "cell_type": "code",
   "execution_count": 13,
   "metadata": {
    "scrolled": true
   },
   "outputs": [
    {
     "name": "stdout",
     "output_type": "stream",
     "text": [
      "Raw: 603489\n",
      "Cleaned: 579618\n"
     ]
    }
   ],
   "source": [
    "def cleanETData(data):\n",
    "    print('Raw: ' + str(len(data)))\n",
    "    data = data.loc[\n",
    "        (data['x'] > 0) & (data['x'] < 1) &\n",
    "        (data['y'] > 0) & (data['y'] < 1) &\n",
    "        ~(data['run_id'].isin(excludedSubjects)) &\n",
    "        (data['t_task']<10000), \n",
    "        :]\n",
    "    print('Cleaned: ' + str(len(data)))\n",
    "    return data\n",
    "\n",
    "data_et = cleanETData(data_et)"
   ]
  },
  {
   "cell_type": "markdown",
   "metadata": {},
   "source": [
    "# Export data"
   ]
  },
  {
   "cell_type": "code",
   "execution_count": 14,
   "metadata": {},
   "outputs": [],
   "source": [
    "if not os.path.exists('./data_jupyter/choice_task'):\n",
    "    os.mkdir('./data_jupyter/choice_task')\n",
    "\n",
    "data_et.to_csv(\n",
    "    \"data_jupyter/choice_task/data_et.csv\", \n",
    "    index=False, header=True)\n",
    "data_trial.to_csv(\n",
    "    \"data_jupyter/choice_task/data_trial.csv\", \n",
    "    index=False, header=True)\n",
    "data_subject.to_csv(\n",
    "    \"data_jupyter/choice_task/data_subject.csv\", \n",
    "    index=False, header=True)"
   ]
  },
  {
   "cell_type": "markdown",
   "metadata": {},
   "source": [
    "# Check dataset"
   ]
  },
  {
   "cell_type": "code",
   "execution_count": 15,
   "metadata": {},
   "outputs": [
    {
     "data": {
      "text/html": [
       "<div>\n",
       "<style scoped>\n",
       "    .dataframe tbody tr th:only-of-type {\n",
       "        vertical-align: middle;\n",
       "    }\n",
       "\n",
       "    .dataframe tbody tr th {\n",
       "        vertical-align: top;\n",
       "    }\n",
       "\n",
       "    .dataframe thead th {\n",
       "        text-align: right;\n",
       "    }\n",
       "</style>\n",
       "<table border=\"1\" class=\"dataframe\">\n",
       "  <thead>\n",
       "    <tr style=\"text-align: right;\">\n",
       "      <th></th>\n",
       "      <th>dataset</th>\n",
       "      <th>runs</th>\n",
       "    </tr>\n",
       "  </thead>\n",
       "  <tbody>\n",
       "    <tr>\n",
       "      <th>0</th>\n",
       "      <td>data_et</td>\n",
       "      <td>208</td>\n",
       "    </tr>\n",
       "    <tr>\n",
       "      <th>1</th>\n",
       "      <td>data_trial</td>\n",
       "      <td>208</td>\n",
       "    </tr>\n",
       "    <tr>\n",
       "      <th>2</th>\n",
       "      <td>data_subject</td>\n",
       "      <td>208</td>\n",
       "    </tr>\n",
       "  </tbody>\n",
       "</table>\n",
       "</div>"
      ],
      "text/plain": [
       "        dataset  runs\n",
       "0       data_et   208\n",
       "1    data_trial   208\n",
       "2  data_subject   208"
      ]
     },
     "execution_count": 15,
     "metadata": {},
     "output_type": "execute_result"
    }
   ],
   "source": [
    "summary = pd.DataFrame(\n",
    "   {'dataset': \n",
    "        [ \n",
    "           'data_et',\n",
    "           'data_trial',\n",
    "           'data_subject'\n",
    "        ],\n",
    "    'runs': \n",
    "        [\n",
    "            len(data_et['run_id'].unique()),\n",
    "            len(data_trial['run_id'].unique()),\n",
    "            len(data_subject['run_id'].unique()),\n",
    "        ]\n",
    "   }\n",
    ") \n",
    "summary"
   ]
  },
  {
   "cell_type": "markdown",
   "metadata": {},
   "source": [
    "# Feedback"
   ]
  },
  {
   "cell_type": "code",
   "execution_count": 16,
   "metadata": {
    "scrolled": true
   },
   "outputs": [
    {
     "name": "stdout",
     "output_type": "stream",
     "text": [
      "Success! Script ran through\n"
     ]
    }
   ],
   "source": [
    "print('Success! Script ran through')"
   ]
  }
 ],
 "metadata": {
  "kernelspec": {
   "display_name": "Python 3",
   "language": "python",
   "name": "python3"
  },
  "language_info": {
   "codemirror_mode": {
    "name": "ipython",
    "version": 3
   },
   "file_extension": ".py",
   "mimetype": "text/x-python",
   "name": "python",
   "nbconvert_exporter": "python",
   "pygments_lexer": "ipython3",
   "version": "3.8.5"
  },
  "toc": {
   "base_numbering": 1,
   "nav_menu": {},
   "number_sections": true,
   "sideBar": true,
   "skip_h1_title": false,
   "title_cell": "Table of Contents",
   "title_sidebar": "Contents",
   "toc_cell": false,
   "toc_position": {
    "height": "calc(100% - 180px)",
    "left": "10px",
    "top": "150px",
    "width": "198.2px"
   },
   "toc_section_display": true,
   "toc_window_display": true
  }
 },
 "nbformat": 4,
 "nbformat_minor": 4
}
