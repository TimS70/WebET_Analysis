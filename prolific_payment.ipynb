{
 "cells": [
  {
   "cell_type": "code",
   "execution_count": 1,
   "metadata": {},
   "outputs": [
    {
     "name": "stdout",
     "output_type": "stream",
     "text": [
      "Current Working directory  C:\\Users\\User\\GitHub\\WebET_Analysis\n"
     ]
    }
   ],
   "source": [
    "import datetime\n",
    "import matplotlib.pyplot as plt\n",
    "import numpy as np\n",
    "import os\n",
    "import pandas as pd\n",
    "import random\n",
    "import sys\n",
    "from datetime import timedelta  \n",
    "\n",
    "if sys.version_info[0] < 3: \n",
    "    from StringIO import StringIO\n",
    "else:\n",
    "    from io import StringIO\n",
    "    \n",
    "from IPython.display import HTML\n",
    "def View(df):\n",
    "    css = \"\"\"<style>\n",
    "    table { border-collapse: collapse; border: 3px solid #eee; }\n",
    "    table tr th:first-child { background-color: #eeeeee; color: #333; font-weight: bold }\n",
    "    table thead th { background-color: #eee; color: #000; }\n",
    "    tr, th, td { border: 1px solid #ccc; border-width: 1px 0 0 1px; border-collapse: collapse;\n",
    "    padding: 3px; font-family: monospace; font-size: 10px }</style>\n",
    "    \"\"\"\n",
    "    s  = '<script type=\"text/Javascript\">'\n",
    "    s += 'var win = window.open(\"\", \"Title\", \"toolbar=no, location=no, directories=no, status=no, menubar=no, scrollbars=yes, resizable=yes, width=780, height=200, top=\"+(screen.height-400)+\", left=\"+(screen.width-840));'\n",
    "    s += 'win.document.body.innerHTML = \\'' + (df.to_html() + css).replace(\"\\n\",'\\\\') + '\\';'\n",
    "    s += '</script>'\n",
    "    return(HTML(s+css))    \n",
    "    \n",
    "print(\"Current Working directory \" , os.getcwd())"
   ]
  },
  {
   "cell_type": "code",
   "execution_count": 2,
   "metadata": {
    "scrolled": false
   },
   "outputs": [
    {
     "name": "stdout",
     "output_type": "stream",
     "text": [
      "                   length\n",
      "data_et            618566\n",
      "data_et_fix         63432\n",
      "data_et_choice     141719\n",
      "data_trial          30362\n",
      "data_trial_fix        929\n",
      "data_trial_choice    3714\n",
      "data_subject           84\n"
     ]
    }
   ],
   "source": [
    "data_et = pd.read_csv(r'C:/Users/User/GitHub/WebET_Analysis/data_jupyter/data_et.csv')\n",
    "data_et_fix = pd.read_csv(r'C:/Users/User/GitHub/WebET_Analysis/data_jupyter/data_et_fix.csv')\n",
    "data_et_choice = pd.read_csv(r'C:/Users/User/GitHub/WebET_Analysis/data_jupyter/data_et_choice.csv')\n",
    "\n",
    "data_trial = pd.read_csv(r'C:/Users/User/GitHub/WebET_Analysis/data_jupyter/data_trial.csv')\n",
    "data_trial_fix = pd.read_csv(r'C:/Users/User/GitHub/WebET_Analysis/data_jupyter/data_trial_fix.csv')\n",
    "data_trial_choice = pd.read_csv(r'C:/Users/User/GitHub/WebET_Analysis/data_jupyter/data_trial_choice.csv')\n",
    "\n",
    "data_subject = pd.read_csv(r'C:/Users/User/GitHub/WebET_Analysis/data_jupyter/data_subject.csv') \\\n",
    "    .rename(columns=\n",
    "            {\n",
    "                'chosenAmount': 'bonus_pay',\n",
    "                'chosenDelay': 'bonus_delay'\n",
    "            }\n",
    "           )    \n",
    "\n",
    "overview = pd.DataFrame(\n",
    "    [\n",
    "        [len(data_et)],\n",
    "        [len(data_et_fix)],\n",
    "        [len(data_et_choice)],\n",
    "        [len(data_trial)],\n",
    "        [len(data_trial_fix)],\n",
    "        [len(data_trial_choice)],\n",
    "        [len(data_subject)]\n",
    "    ], \n",
    "    columns=['length'],\n",
    "    index=['data_et', 'data_et_fix', 'data_et_choice', \n",
    "           'data_trial', 'data_trial_fix', 'data_trial_choice', \n",
    "           'data_subject'])\n",
    "print(overview)"
   ]
  },
  {
   "cell_type": "markdown",
   "metadata": {},
   "source": [
    "# Approve subjects"
   ]
  },
  {
   "cell_type": "code",
   "execution_count": 3,
   "metadata": {
    "scrolled": true
   },
   "outputs": [],
   "source": [
    "if 'trial_length' in data_subject.columns: \n",
    "    print('trial_length already added!')\n",
    "else:\n",
    "    output = []\n",
    "    for subject in data_trial['run_id'].unique():\n",
    "        prolificID = data_trial.loc[data_trial['run_id']==subject, 'prolificID'].unique()[0]\n",
    "        trial_length = len(data_trial.loc[data_trial['run_id']==subject, 'trial_index'].unique())\n",
    "        output.append([subject, prolificID, trial_length])\n",
    "    output = pd.DataFrame(output,\n",
    "                 columns=['run_id', 'prolificID', 'trial_length']\n",
    "                )\n",
    "\n",
    "    data_subject = data_subject.merge(output, on=['run_id', 'prolificID'], how='left')"
   ]
  },
  {
   "cell_type": "code",
   "execution_count": 4,
   "metadata": {},
   "outputs": [],
   "source": [
    "data_et = data_et.merge(\n",
    "    data_trial.loc[:, ['run_id', 'chinFirst', 'trial_index', 'trial_type', 'task_nr']], \n",
    "    on=['run_id', 'trial_index'], \n",
    "    how='left'\n",
    ")"
   ]
  },
  {
   "cell_type": "code",
   "execution_count": 5,
   "metadata": {},
   "outputs": [],
   "source": [
    "output = []\n",
    "for subject in data_et['run_id'].unique():\n",
    "    m_x_fix = data_et.loc[\n",
    "        (data_et['run_id']==subject) &\n",
    "        (data_et['trial_type']=='eyetracking-fix-object') &\n",
    "        ~((data_et['chinFirst']==1) & (data_et['task_nr']==2) |\n",
    "          (data_et['chinFirst']==0) & (data_et['task_nr']==3) \n",
    "         ), \n",
    "        'x'\n",
    "    ].mean()\n",
    "    m_x_choice = data_et.loc[\n",
    "        (data_et['run_id']==subject) &\n",
    "        (data_et['trial_type']=='eyetracking-choice'), \n",
    "        'x'\n",
    "    ].mean()\n",
    "\n",
    "    m_y_fix = data_et.loc[\n",
    "        (data_et['run_id']==subject) &\n",
    "        (data_et['trial_type']=='eyetracking-fix-object') &\n",
    "        ~((data_et['chinFirst']==1) & (data_et['task_nr']==2) |\n",
    "          (data_et['chinFirst']==0) & (data_et['task_nr']==3) \n",
    "         ), \n",
    "        'y'\n",
    "    ].mean()\n",
    "    m_y_choice = data_et.loc[\n",
    "        (data_et['run_id']==subject) &\n",
    "        (data_et['trial_type']=='eyetracking-choice'), \n",
    "        'y'\n",
    "    ].mean()\n",
    "\n",
    "    m_count_fix = data_et.loc[\n",
    "        (data_et['run_id']==subject) &\n",
    "        (data_et['trial_type']=='eyetracking-fix-object') &\n",
    "        ~((data_et['chinFirst']==1) & (data_et['task_nr']==2) |\n",
    "          (data_et['chinFirst']==0) & (data_et['task_nr']==3) \n",
    "         ), \n",
    "        'x'\n",
    "    ].count()\n",
    "\n",
    "    m_count_choice = data_et.loc[\n",
    "        (data_et['run_id']==subject) &\n",
    "        (data_et['trial_type']=='eyetracking-choice'), \n",
    "        'x'\n",
    "    ].count()\n",
    "    \n",
    "    m_choseTop = data_trial_choice.loc[data_trial_choice['run_id']==subject,\n",
    "                                       'choseTop'].mean()\n",
    "\n",
    "    output.append([subject, m_x_fix, m_y_fix, m_x_choice, m_y_choice, \n",
    "                   m_count_fix, m_count_choice, \n",
    "                   m_choseTop])\n",
    "\n",
    "output = pd.DataFrame(output, \n",
    "                      columns=['run_id', 'm_x_fix', 'm_y_fix', 'm_x_choice', 'm_y_choice', \n",
    "                               'm_count_fix', 'm_count_choice',\n",
    "                               'm_choseTop'])\n",
    "output\n",
    "\n",
    "data_subject = data_subject.merge(output, on='run_id', how='left')"
   ]
  },
  {
   "cell_type": "markdown",
   "metadata": {},
   "source": [
    "## These subjects await review"
   ]
  },
  {
   "cell_type": "code",
   "execution_count": 6,
   "metadata": {
    "scrolled": true
   },
   "outputs": [
    {
     "data": {
      "text/html": [
       "<div>\n",
       "<style scoped>\n",
       "    .dataframe tbody tr th:only-of-type {\n",
       "        vertical-align: middle;\n",
       "    }\n",
       "\n",
       "    .dataframe tbody tr th {\n",
       "        vertical-align: top;\n",
       "    }\n",
       "\n",
       "    .dataframe thead th {\n",
       "        text-align: right;\n",
       "    }\n",
       "</style>\n",
       "<table border=\"1\" class=\"dataframe\">\n",
       "  <thead>\n",
       "    <tr style=\"text-align: right;\">\n",
       "      <th></th>\n",
       "      <th>run_id</th>\n",
       "      <th>prolificID</th>\n",
       "      <th>trial_length</th>\n",
       "      <th>m_x_fix</th>\n",
       "      <th>m_y_fix</th>\n",
       "      <th>m_x_choice</th>\n",
       "      <th>m_y_choice</th>\n",
       "      <th>m_count_fix</th>\n",
       "      <th>m_count_choice</th>\n",
       "      <th>m_choseTop</th>\n",
       "    </tr>\n",
       "  </thead>\n",
       "  <tbody>\n",
       "  </tbody>\n",
       "</table>\n",
       "</div>"
      ],
      "text/plain": [
       "Empty DataFrame\n",
       "Columns: [run_id, prolificID, trial_length, m_x_fix, m_y_fix, m_x_choice, m_y_choice, m_count_fix, m_count_choice, m_choseTop]\n",
       "Index: []"
      ]
     },
     "execution_count": 6,
     "metadata": {},
     "output_type": "execute_result"
    }
   ],
   "source": [
    "data_subject.loc[data_subject['status']=='AWAITING REVIEW', \n",
    "                 ['run_id', 'prolificID', 'trial_length',\n",
    "                 'm_x_fix', 'm_y_fix', 'm_x_choice', 'm_y_choice', 'm_count_fix', 'm_count_choice',\n",
    "                 'm_choseTop']\n",
    "                ].sort_values(by='prolificID')"
   ]
  },
  {
   "cell_type": "code",
   "execution_count": 7,
   "metadata": {},
   "outputs": [
    {
     "ename": "KeyError",
     "evalue": "'Column not found: trial_duration_exact'",
     "output_type": "error",
     "traceback": [
      "\u001b[1;31m---------------------------------------------------------------------------\u001b[0m",
      "\u001b[1;31mKeyError\u001b[0m                                  Traceback (most recent call last)",
      "\u001b[1;32m<ipython-input-7-70b7d0b09eb1>\u001b[0m in \u001b[0;36m<module>\u001b[1;34m\u001b[0m\n\u001b[0;32m      2\u001b[0m     \u001b[0mprint\u001b[0m\u001b[1;33m(\u001b[0m\u001b[1;34m'choice_rt already added!'\u001b[0m\u001b[1;33m)\u001b[0m\u001b[1;33m\u001b[0m\u001b[1;33m\u001b[0m\u001b[0m\n\u001b[0;32m      3\u001b[0m \u001b[1;32melse\u001b[0m\u001b[1;33m:\u001b[0m\u001b[1;33m\u001b[0m\u001b[1;33m\u001b[0m\u001b[0m\n\u001b[1;32m----> 4\u001b[1;33m     \u001b[0mgrouped\u001b[0m \u001b[1;33m=\u001b[0m \u001b[0mdata_trial\u001b[0m\u001b[1;33m.\u001b[0m\u001b[0mloc\u001b[0m\u001b[1;33m[\u001b[0m\u001b[0mdata_trial\u001b[0m\u001b[1;33m[\u001b[0m\u001b[1;34m'trial_type'\u001b[0m\u001b[1;33m]\u001b[0m\u001b[1;33m==\u001b[0m\u001b[1;34m'eyetracking-choice'\u001b[0m\u001b[1;33m,\u001b[0m \u001b[1;33m:\u001b[0m\u001b[1;33m]\u001b[0m\u001b[0;31m \u001b[0m\u001b[0;31m\\\u001b[0m\u001b[1;33m\u001b[0m\u001b[1;33m\u001b[0m\u001b[0m\n\u001b[0m\u001b[0;32m      5\u001b[0m         \u001b[1;33m.\u001b[0m\u001b[0mgroupby\u001b[0m\u001b[1;33m(\u001b[0m\u001b[1;33m[\u001b[0m\u001b[1;34m'prolificID'\u001b[0m\u001b[1;33m]\u001b[0m\u001b[1;33m)\u001b[0m\u001b[1;33m[\u001b[0m\u001b[1;34m'trial_duration_exact'\u001b[0m\u001b[1;33m]\u001b[0m\u001b[1;33m.\u001b[0m\u001b[0mmean\u001b[0m\u001b[1;33m(\u001b[0m\u001b[1;33m)\u001b[0m\u001b[0;31m \u001b[0m\u001b[0;31m\\\u001b[0m\u001b[1;33m\u001b[0m\u001b[1;33m\u001b[0m\u001b[0m\n\u001b[0;32m      6\u001b[0m         \u001b[1;33m.\u001b[0m\u001b[0mreset_index\u001b[0m\u001b[1;33m(\u001b[0m\u001b[1;33m)\u001b[0m\u001b[0;31m \u001b[0m\u001b[0;31m\\\u001b[0m\u001b[1;33m\u001b[0m\u001b[1;33m\u001b[0m\u001b[0m\n",
      "\u001b[1;32mC:\\ProgramData\\Anaconda3\\lib\\site-packages\\pandas\\core\\groupby\\generic.py\u001b[0m in \u001b[0;36m__getitem__\u001b[1;34m(self, key)\u001b[0m\n\u001b[0;32m   1648\u001b[0m                 \u001b[0mstacklevel\u001b[0m\u001b[1;33m=\u001b[0m\u001b[1;36m2\u001b[0m\u001b[1;33m,\u001b[0m\u001b[1;33m\u001b[0m\u001b[1;33m\u001b[0m\u001b[0m\n\u001b[0;32m   1649\u001b[0m             )\n\u001b[1;32m-> 1650\u001b[1;33m         \u001b[1;32mreturn\u001b[0m \u001b[0msuper\u001b[0m\u001b[1;33m(\u001b[0m\u001b[1;33m)\u001b[0m\u001b[1;33m.\u001b[0m\u001b[0m__getitem__\u001b[0m\u001b[1;33m(\u001b[0m\u001b[0mkey\u001b[0m\u001b[1;33m)\u001b[0m\u001b[1;33m\u001b[0m\u001b[1;33m\u001b[0m\u001b[0m\n\u001b[0m\u001b[0;32m   1651\u001b[0m \u001b[1;33m\u001b[0m\u001b[0m\n\u001b[0;32m   1652\u001b[0m     \u001b[1;32mdef\u001b[0m \u001b[0m_gotitem\u001b[0m\u001b[1;33m(\u001b[0m\u001b[0mself\u001b[0m\u001b[1;33m,\u001b[0m \u001b[0mkey\u001b[0m\u001b[1;33m,\u001b[0m \u001b[0mndim\u001b[0m\u001b[1;33m:\u001b[0m \u001b[0mint\u001b[0m\u001b[1;33m,\u001b[0m \u001b[0msubset\u001b[0m\u001b[1;33m=\u001b[0m\u001b[1;32mNone\u001b[0m\u001b[1;33m)\u001b[0m\u001b[1;33m:\u001b[0m\u001b[1;33m\u001b[0m\u001b[1;33m\u001b[0m\u001b[0m\n",
      "\u001b[1;32mC:\\ProgramData\\Anaconda3\\lib\\site-packages\\pandas\\core\\base.py\u001b[0m in \u001b[0;36m__getitem__\u001b[1;34m(self, key)\u001b[0m\n\u001b[0;32m    226\u001b[0m         \u001b[1;32melse\u001b[0m\u001b[1;33m:\u001b[0m\u001b[1;33m\u001b[0m\u001b[1;33m\u001b[0m\u001b[0m\n\u001b[0;32m    227\u001b[0m             \u001b[1;32mif\u001b[0m \u001b[0mkey\u001b[0m \u001b[1;32mnot\u001b[0m \u001b[1;32min\u001b[0m \u001b[0mself\u001b[0m\u001b[1;33m.\u001b[0m\u001b[0mobj\u001b[0m\u001b[1;33m:\u001b[0m\u001b[1;33m\u001b[0m\u001b[1;33m\u001b[0m\u001b[0m\n\u001b[1;32m--> 228\u001b[1;33m                 \u001b[1;32mraise\u001b[0m \u001b[0mKeyError\u001b[0m\u001b[1;33m(\u001b[0m\u001b[1;34mf\"Column not found: {key}\"\u001b[0m\u001b[1;33m)\u001b[0m\u001b[1;33m\u001b[0m\u001b[1;33m\u001b[0m\u001b[0m\n\u001b[0m\u001b[0;32m    229\u001b[0m             \u001b[1;32mreturn\u001b[0m \u001b[0mself\u001b[0m\u001b[1;33m.\u001b[0m\u001b[0m_gotitem\u001b[0m\u001b[1;33m(\u001b[0m\u001b[0mkey\u001b[0m\u001b[1;33m,\u001b[0m \u001b[0mndim\u001b[0m\u001b[1;33m=\u001b[0m\u001b[1;36m1\u001b[0m\u001b[1;33m)\u001b[0m\u001b[1;33m\u001b[0m\u001b[1;33m\u001b[0m\u001b[0m\n\u001b[0;32m    230\u001b[0m \u001b[1;33m\u001b[0m\u001b[0m\n",
      "\u001b[1;31mKeyError\u001b[0m: 'Column not found: trial_duration_exact'"
     ]
    }
   ],
   "source": [
    "if 'choice_rt' in data_subject.columns:\n",
    "    print('choice_rt already added!')\n",
    "else: \n",
    "    grouped = data_trial.loc[data_trial['trial_type']=='eyetracking-choice', :] \\\n",
    "        .groupby(['prolificID'])['trial_duration_exact'].mean() \\\n",
    "        .reset_index() \\\n",
    "        .rename(columns={'trial_duration_exact': 'choice_rt'})\n",
    "    data_subject = data_subject.merge(grouped, on='prolificID', how='left')\n",
    "\n",
    "data_subject.loc[\n",
    "    data_subject['status']=='AWAITING REVIEW', \n",
    "    ['run_id', 'prolificID', 'webcam_fps', 'choice_rt', 'bonus_pay', 'bonus_delay']\n",
    "] \\\n",
    "    .sort_values(by='run_id')"
   ]
  },
  {
   "cell_type": "markdown",
   "metadata": {},
   "source": [
    "# Basic payment"
   ]
  },
  {
   "cell_type": "code",
   "execution_count": null,
   "metadata": {},
   "outputs": [],
   "source": [
    "data_pay = data_subject.loc[data_subject['status']=='APPROVED', \n",
    "                            [\n",
    "                                'run_id', 'prolificID', \n",
    "                                'age',  'Country of Birth', 'Current Country of Residence', 'First Language',\n",
    "                                'Nationality', 'Sex',\n",
    "                                'status', 'reviewed_at_datetime', 'Country of Birth', 'entered_code',\n",
    "                                'session_id', 'started_datetime', 'completed_date_time', 'time_taken',\n",
    "                                'bonus_pay', 'bonus_delay'\n",
    "                            ]\n",
    "                           ]\n",
    "\n",
    "data_pay['basic_pay'] = 2.25"
   ]
  },
  {
   "cell_type": "markdown",
   "metadata": {},
   "source": [
    "# Bonus payment"
   ]
  },
  {
   "cell_type": "markdown",
   "metadata": {},
   "source": [
    "Reformat payments"
   ]
  },
  {
   "cell_type": "code",
   "execution_count": null,
   "metadata": {},
   "outputs": [],
   "source": [
    "def choice_options_to_numeric(data, varName): \n",
    "    data.loc[: , [varName]] = \\\n",
    "        data.loc[:, [varName]] \\\n",
    "            .replace(['Today', 'Tomorrow', '7 days', \n",
    "                      '15 days', '30 days', '90 days', \n",
    "                      '180 days'], \n",
    "                     [0, 1, 7, 15, 30, 90, 180]) \\\n",
    "            .replace({'\\$':''}, regex = True) \\\n",
    "            .replace('50 cent', 0.5) \n",
    "    return data\n",
    "\n",
    "for var in ['bonus_pay', 'bonus_delay']:\n",
    "    data_pay = choice_options_to_numeric(data_pay, var)\n",
    "\n",
    "data_pay.loc[: , ['bonus_pay', 'bonus_delay']]"
   ]
  },
  {
   "cell_type": "code",
   "execution_count": null,
   "metadata": {},
   "outputs": [],
   "source": [
    "data_pay[['run_id', 'prolificID', 'bonus_pay']]"
   ]
  },
  {
   "cell_type": "markdown",
   "metadata": {},
   "source": [
    "## Replace empty values with the best bonus reward"
   ]
  },
  {
   "cell_type": "code",
   "execution_count": null,
   "metadata": {
    "scrolled": false
   },
   "outputs": [],
   "source": [
    "# For two subjects, the bonus payment was not recorded\n",
    "data_pay.loc[\n",
    "    data_pay['prolificID'].isin(\n",
    "        ['5fea6632bf9ae4a79153efdf', \n",
    "         '5b8969006651ea000118e42e', \n",
    "         '5fb2af792942a58ffe303948', \n",
    "        ]\n",
    "    ), ['bonus_pay', 'bonus_delay']] = [5, 1]\n",
    "\n",
    "data_pay.loc[data_pay[['bonus_pay', 'bonus_delay']].isnull().any(axis=1), :]"
   ]
  },
  {
   "cell_type": "markdown",
   "metadata": {},
   "source": [
    "## What bonus is due today? "
   ]
  },
  {
   "cell_type": "code",
   "execution_count": null,
   "metadata": {},
   "outputs": [],
   "source": [
    "def add_completed_date(data, data_trial):\n",
    "    output = []\n",
    "\n",
    "    for subject in data_trial['run_id'].unique():\n",
    "        thisSubject = data_trial.loc[data_trial['run_id']==subject] \\\n",
    "            .reset_index(drop=True)\n",
    "        date_time_obj = datetime.datetime.strptime(\n",
    "            thisSubject.loc[0, 'recorded_at'], '%Y-%m-%d %H:%M:%S')\n",
    "\n",
    "        output.append([thisSubject.loc[0, 'run_id'], date_time_obj.date()])\n",
    "        \n",
    "    output = pd.DataFrame(output, columns=['run_id', 'date']) \n",
    "    \n",
    "    if 'date' in data.columns: data = data.drop(columns=['date'])\n",
    "    data = data.merge(output, on='run_id', how='left')\n",
    "    return data\n",
    "\n",
    "data_pay = add_completed_date(data_pay, data_trial)\n",
    "    \n",
    "data_pay['completed_date']=data_pay.apply(\n",
    "    lambda x: datetime.datetime.strptime(\n",
    "        x['completed_date_time'], '%Y-%m-%d %H:%M:%S.%f') \\\n",
    "            .date(),\n",
    "    axis=1)\n",
    "data_pay['bonus_pay'].unique()"
   ]
  },
  {
   "cell_type": "code",
   "execution_count": null,
   "metadata": {},
   "outputs": [],
   "source": [
    "data_pay['reward_pound'] = data_pay['bonus_pay'] * 0.75"
   ]
  },
  {
   "cell_type": "code",
   "execution_count": null,
   "metadata": {},
   "outputs": [],
   "source": [
    "data_pay['due_on'] = data_pay['completed_date'] +  data_pay['bonus_delay'].map(datetime.timedelta) \n",
    "\n",
    "data_pay.loc[:, \n",
    "               [\n",
    "                   'prolificID', 'run_id',\n",
    "                   'Nationality', 'Sex',  \n",
    "                   'completed_date', 'bonus_pay', 'bonus_delay', \n",
    "                   'reward_pound', 'due_on'\n",
    "               ]\n",
    "              ]. sort_values(by='due_on')"
   ]
  },
  {
   "cell_type": "code",
   "execution_count": null,
   "metadata": {},
   "outputs": [],
   "source": [
    "bonus_due_today = data_pay.loc[data_pay['due_on']==datetime.datetime.now().date(), :]\n",
    "bonus_due_today['reward_pound'] = bonus_due_today['reward_pound'].round(2)\n",
    "bonus_due_today"
   ]
  },
  {
   "cell_type": "code",
   "execution_count": null,
   "metadata": {},
   "outputs": [],
   "source": [
    "bonus_due_today.loc[: , ['prolificID', 'reward_pound']] \\\n",
    "    .to_csv('C:/Users/User/Google Drive/Masterarbeit/Acquise/bonusToday.csv', \n",
    "            index=False, \n",
    "            header=False\n",
    "           )\n",
    "print(bonus_due_today['due_on'].unique())"
   ]
  },
  {
   "cell_type": "markdown",
   "metadata": {},
   "source": [
    "# Total costs"
   ]
  },
  {
   "cell_type": "code",
   "execution_count": null,
   "metadata": {},
   "outputs": [],
   "source": [
    "data_pay['basic_cost'] = data_pay['basic_pay'] * 1.4\n",
    "data_pay['total_cost'] = (data_pay['basic_pay'] + data_pay['bonus_pay']) * 1.4\n",
    "print('Basic Costs: ' + str(sum(data_pay['basic_cost'])))\n",
    "print('Total Costs: ' + str(sum(data_pay['total_cost'])))\n",
    "data_pay"
   ]
  },
  {
   "cell_type": "markdown",
   "metadata": {},
   "source": [
    "# Export modified prolific data"
   ]
  },
  {
   "cell_type": "code",
   "execution_count": null,
   "metadata": {},
   "outputs": [],
   "source": [
    "data_pay.to_csv('C:/Users/User/Google Drive/Masterarbeit/Acquise/data_pay.csv', index=False, header=True)"
   ]
  },
  {
   "cell_type": "markdown",
   "metadata": {},
   "source": [
    "# Feedback"
   ]
  },
  {
   "cell_type": "code",
   "execution_count": null,
   "metadata": {},
   "outputs": [],
   "source": [
    "print('Success! Script ran through.')"
   ]
  }
 ],
 "metadata": {
  "kernelspec": {
   "display_name": "Python 3",
   "language": "python",
   "name": "python3"
  },
  "language_info": {
   "codemirror_mode": {
    "name": "ipython",
    "version": 3
   },
   "file_extension": ".py",
   "mimetype": "text/x-python",
   "name": "python",
   "nbconvert_exporter": "python",
   "pygments_lexer": "ipython3",
   "version": "3.8.5"
  },
  "toc": {
   "base_numbering": 1,
   "nav_menu": {},
   "number_sections": true,
   "sideBar": true,
   "skip_h1_title": false,
   "title_cell": "Table of Contents",
   "title_sidebar": "Contents",
   "toc_cell": false,
   "toc_position": {
    "height": "calc(100% - 180px)",
    "left": "10px",
    "top": "150px",
    "width": "281.6px"
   },
   "toc_section_display": true,
   "toc_window_display": true
  }
 },
 "nbformat": 4,
 "nbformat_minor": 4
}
